{
 "cells": [
  {
   "cell_type": "markdown",
   "metadata": {},
   "source": [
    "## Bernoulli AR Run-time and MSE Results \n",
    "\n",
    "This notebook goes over the code needed to reproduce the results from the MSE and time figures in the first simulation in the paper. \n",
    "\n",
    "In this example simulate three fixed effects $\\beta \\sim$ rand(Uniform(-2, 2), p) where p = 3 fixed effects.\n",
    "\n",
    "In this example we have bernoulli base distribution with Logit Link function and covariance matrix $\\Gamma$ structured under AR covariance with $\\rho = 0.5, \\sigma^2 = 0.5$\n",
    "\n",
    "We use multi-threading on 8 threads to obtain these MSE results on the following machine, and include MSE results from 100 simulation runs for each scenario."
   ]
  },
  {
   "cell_type": "code",
   "execution_count": 1,
   "metadata": {},
   "outputs": [
    {
     "name": "stdout",
     "output_type": "stream",
     "text": [
      "Julia Version 1.6.2\n",
      "Commit 1b93d53fc4 (2021-07-14 15:36 UTC)\n",
      "Platform Info:\n",
      "  OS: macOS (x86_64-apple-darwin18.7.0)\n",
      "  CPU: Intel(R) Core(TM) i9-9880H CPU @ 2.30GHz\n",
      "  WORD_SIZE: 64\n",
      "  LIBM: libopenlibm\n",
      "  LLVM: libLLVM-11.0.1 (ORCJIT, skylake)\n"
     ]
    }
   ],
   "source": [
    "versioninfo()"
   ]
  },
  {
   "cell_type": "code",
   "execution_count": 2,
   "metadata": {},
   "outputs": [],
   "source": [
    "using QuasiCopula, DelimitedFiles, LinearAlgebra, Random, GLM\n",
    "using DataFrames"
   ]
  },
  {
   "cell_type": "code",
   "execution_count": 3,
   "metadata": {},
   "outputs": [],
   "source": [
    "p  = 3    # number of fixed effects, including intercept\n",
    "\n",
    "# true parameter values\n",
    "Random.seed!(12345)\n",
    "βtrue = rand(Uniform(-2, 2), p)\n",
    "σ2true = [0.5]\n",
    "ρtrue = [0.5]\n",
    "θtrue = [σ2true; ρtrue]\n",
    "\n",
    "# generate data\n",
    "trueparams = [βtrue; θtrue] #hold true parameters\n",
    "\n",
    "#simulation parameters\n",
    "samplesizes = [100; 1000; 10000]\n",
    "ns = [2; 5; 10; 15; 20; 25]\n",
    "nsims = 100;"
   ]
  },
  {
   "cell_type": "code",
   "execution_count": 4,
   "metadata": {},
   "outputs": [
    {
     "name": "stderr",
     "output_type": "stream",
     "text": [
      "┌ Info: reading in the files with results\n",
      "└ @ Main In[4]:1\n"
     ]
    },
    {
     "data": {
      "text/plain": [
       "1800-element Vector{Float64}:\n",
       " 0.079294209\n",
       " 0.075154704\n",
       " 0.047582949\n",
       " 0.051759056\n",
       " 0.038356802\n",
       " 0.045503299\n",
       " 0.041072071\n",
       " 0.052678235\n",
       " 0.084023112\n",
       " 0.034920716\n",
       " 0.041240259\n",
       " 0.083332007\n",
       " 0.058995037\n",
       " ⋮\n",
       " 0.639587212\n",
       " 0.661832849\n",
       " 0.645115738\n",
       " 0.639574314\n",
       " 0.657417163\n",
       " 0.51787259\n",
       " 0.598280995\n",
       " 0.585236739\n",
       " 0.571159671\n",
       " 0.585285001\n",
       " 0.521900974\n",
       " 0.585903603"
      ]
     },
     "execution_count": 4,
     "metadata": {},
     "output_type": "execute_result"
    }
   ],
   "source": [
    "@info \"reading in the files with results\"\n",
    "βMseresult = vec(readdlm(\"mse_beta_multivariate_bernoulli_AR$(nsims)reps_sim.csv\", ','))\n",
    "σ2MseResult = vec(readdlm(\"mse_sigma_multivariate_bernoulli_AR$(nsims)reps_sim.csv\", ','))\n",
    "ρMseResult = vec(readdlm(\"mse_rho_multivariate_bernoulli_AR$(nsims)reps_sim.csv\", ','))\n",
    "fittimes = vec(readdlm(\"fittimes_multivariate_bernoulli_AR$(nsims)reps_sim.csv\", ','))"
   ]
  },
  {
   "cell_type": "code",
   "execution_count": 5,
   "metadata": {},
   "outputs": [
    {
     "name": "stderr",
     "output_type": "stream",
     "text": [
      "┌ Info: making results table\n",
      "└ @ Main In[5]:2\n"
     ]
    },
    {
     "data": {
      "text/html": [
       "<div class=\"data-frame\"><p>18 rows × 8 columns</p><table class=\"data-frame\"><thead><tr><th></th><th>samplesize</th><th>obssize</th><th>fittime</th><th>se</th><th>nobs</th><th>fitmin</th><th>fitmax</th><th>perobsratio</th></tr><tr><th></th><th title=\"String\">String</th><th title=\"String\">String</th><th title=\"Float64\">Float64</th><th title=\"Float64\">Float64</th><th title=\"Int64\">Int64</th><th title=\"Float64\">Float64</th><th title=\"Float64\">Float64</th><th title=\"Float64\">Float64</th></tr></thead><tbody><tr><th>1</th><td>100</td><td>2</td><td>0.0522968</td><td>0.00224751</td><td>200</td><td>0.0500493</td><td>0.0545443</td><td>0.000261484</td></tr><tr><th>2</th><td>100</td><td>5</td><td>0.0622509</td><td>0.00204755</td><td>500</td><td>0.0602034</td><td>0.0642985</td><td>0.000124502</td></tr><tr><th>3</th><td>100</td><td>10</td><td>0.176113</td><td>0.0190333</td><td>1000</td><td>0.157079</td><td>0.195146</td><td>0.000176113</td></tr><tr><th>4</th><td>100</td><td>15</td><td>0.218331</td><td>0.0210308</td><td>1500</td><td>0.1973</td><td>0.239362</td><td>0.000145554</td></tr><tr><th>5</th><td>100</td><td>20</td><td>0.253115</td><td>0.0224797</td><td>2000</td><td>0.230635</td><td>0.275594</td><td>0.000126557</td></tr><tr><th>6</th><td>100</td><td>25</td><td>0.298532</td><td>0.024175</td><td>2500</td><td>0.274357</td><td>0.322707</td><td>0.000119413</td></tr><tr><th>7</th><td>1000</td><td>2</td><td>0.0799915</td><td>0.00210902</td><td>2000</td><td>0.0778824</td><td>0.0821005</td><td>3.99957e-5</td></tr><tr><th>8</th><td>1000</td><td>5</td><td>0.0810007</td><td>0.000613639</td><td>5000</td><td>0.080387</td><td>0.0816143</td><td>1.62001e-5</td></tr><tr><th>9</th><td>1000</td><td>10</td><td>0.0964613</td><td>0.00644134</td><td>10000</td><td>0.0900199</td><td>0.102903</td><td>9.64613e-6</td></tr><tr><th>10</th><td>1000</td><td>15</td><td>0.121428</td><td>0.00643146</td><td>15000</td><td>0.114996</td><td>0.127859</td><td>8.09519e-6</td></tr><tr><th>11</th><td>1000</td><td>20</td><td>0.178934</td><td>0.0155829</td><td>20000</td><td>0.163351</td><td>0.194517</td><td>8.94669e-6</td></tr><tr><th>12</th><td>1000</td><td>25</td><td>0.225639</td><td>0.0200813</td><td>25000</td><td>0.205558</td><td>0.24572</td><td>9.02555e-6</td></tr><tr><th>13</th><td>10000</td><td>2</td><td>0.182811</td><td>0.00224881</td><td>20000</td><td>0.180562</td><td>0.18506</td><td>9.14056e-6</td></tr><tr><th>14</th><td>10000</td><td>5</td><td>0.256177</td><td>0.00224977</td><td>50000</td><td>0.253927</td><td>0.258427</td><td>5.12354e-6</td></tr><tr><th>15</th><td>10000</td><td>10</td><td>0.304473</td><td>0.00203917</td><td>100000</td><td>0.302434</td><td>0.306512</td><td>3.04473e-6</td></tr><tr><th>16</th><td>10000</td><td>15</td><td>0.431726</td><td>0.00380419</td><td>150000</td><td>0.427922</td><td>0.43553</td><td>2.87817e-6</td></tr><tr><th>17</th><td>10000</td><td>20</td><td>0.507107</td><td>0.00477078</td><td>200000</td><td>0.502336</td><td>0.511878</td><td>2.53553e-6</td></tr><tr><th>18</th><td>10000</td><td>25</td><td>0.6138</td><td>0.00491568</td><td>250000</td><td>0.608885</td><td>0.618716</td><td>2.4552e-6</td></tr></tbody></table></div>"
      ],
      "text/latex": [
       "\\begin{tabular}{r|cccccccc}\n",
       "\t& samplesize & obssize & fittime & se & nobs & fitmin & fitmax & perobsratio\\\\\n",
       "\t\\hline\n",
       "\t& String & String & Float64 & Float64 & Int64 & Float64 & Float64 & Float64\\\\\n",
       "\t\\hline\n",
       "\t1 & 100 & 2 & 0.0522968 & 0.00224751 & 200 & 0.0500493 & 0.0545443 & 0.000261484 \\\\\n",
       "\t2 & 100 & 5 & 0.0622509 & 0.00204755 & 500 & 0.0602034 & 0.0642985 & 0.000124502 \\\\\n",
       "\t3 & 100 & 10 & 0.176113 & 0.0190333 & 1000 & 0.157079 & 0.195146 & 0.000176113 \\\\\n",
       "\t4 & 100 & 15 & 0.218331 & 0.0210308 & 1500 & 0.1973 & 0.239362 & 0.000145554 \\\\\n",
       "\t5 & 100 & 20 & 0.253115 & 0.0224797 & 2000 & 0.230635 & 0.275594 & 0.000126557 \\\\\n",
       "\t6 & 100 & 25 & 0.298532 & 0.024175 & 2500 & 0.274357 & 0.322707 & 0.000119413 \\\\\n",
       "\t7 & 1000 & 2 & 0.0799915 & 0.00210902 & 2000 & 0.0778824 & 0.0821005 & 3.99957e-5 \\\\\n",
       "\t8 & 1000 & 5 & 0.0810007 & 0.000613639 & 5000 & 0.080387 & 0.0816143 & 1.62001e-5 \\\\\n",
       "\t9 & 1000 & 10 & 0.0964613 & 0.00644134 & 10000 & 0.0900199 & 0.102903 & 9.64613e-6 \\\\\n",
       "\t10 & 1000 & 15 & 0.121428 & 0.00643146 & 15000 & 0.114996 & 0.127859 & 8.09519e-6 \\\\\n",
       "\t11 & 1000 & 20 & 0.178934 & 0.0155829 & 20000 & 0.163351 & 0.194517 & 8.94669e-6 \\\\\n",
       "\t12 & 1000 & 25 & 0.225639 & 0.0200813 & 25000 & 0.205558 & 0.24572 & 9.02555e-6 \\\\\n",
       "\t13 & 10000 & 2 & 0.182811 & 0.00224881 & 20000 & 0.180562 & 0.18506 & 9.14056e-6 \\\\\n",
       "\t14 & 10000 & 5 & 0.256177 & 0.00224977 & 50000 & 0.253927 & 0.258427 & 5.12354e-6 \\\\\n",
       "\t15 & 10000 & 10 & 0.304473 & 0.00203917 & 100000 & 0.302434 & 0.306512 & 3.04473e-6 \\\\\n",
       "\t16 & 10000 & 15 & 0.431726 & 0.00380419 & 150000 & 0.427922 & 0.43553 & 2.87817e-6 \\\\\n",
       "\t17 & 10000 & 20 & 0.507107 & 0.00477078 & 200000 & 0.502336 & 0.511878 & 2.53553e-6 \\\\\n",
       "\t18 & 10000 & 25 & 0.6138 & 0.00491568 & 250000 & 0.608885 & 0.618716 & 2.4552e-6 \\\\\n",
       "\\end{tabular}\n"
      ],
      "text/plain": [
       "\u001b[1m18×8 DataFrame\u001b[0m\n",
       "\u001b[1m Row \u001b[0m│\u001b[1m samplesize \u001b[0m\u001b[1m obssize \u001b[0m\u001b[1m fittime   \u001b[0m\u001b[1m se          \u001b[0m\u001b[1m nobs   \u001b[0m\u001b[1m fitmin    \u001b[0m\u001b[1m fitmax \u001b[0m ⋯\n",
       "\u001b[1m     \u001b[0m│\u001b[90m String     \u001b[0m\u001b[90m String  \u001b[0m\u001b[90m Float64   \u001b[0m\u001b[90m Float64     \u001b[0m\u001b[90m Int64  \u001b[0m\u001b[90m Float64   \u001b[0m\u001b[90m Float64\u001b[0m ⋯\n",
       "─────┼──────────────────────────────────────────────────────────────────────────\n",
       "   1 │ 100         2        0.0522968  0.00224751      200  0.0500493  0.05454 ⋯\n",
       "   2 │ 100         5        0.0622509  0.00204755      500  0.0602034  0.06429\n",
       "   3 │ 100         10       0.176113   0.0190333      1000  0.157079   0.19514\n",
       "   4 │ 100         15       0.218331   0.0210308      1500  0.1973     0.23936\n",
       "   5 │ 100         20       0.253115   0.0224797      2000  0.230635   0.27559 ⋯\n",
       "   6 │ 100         25       0.298532   0.024175       2500  0.274357   0.32270\n",
       "   7 │ 1000        2        0.0799915  0.00210902     2000  0.0778824  0.08210\n",
       "   8 │ 1000        5        0.0810007  0.000613639    5000  0.080387   0.08161\n",
       "   9 │ 1000        10       0.0964613  0.00644134    10000  0.0900199  0.10290 ⋯\n",
       "  10 │ 1000        15       0.121428   0.00643146    15000  0.114996   0.12785\n",
       "  11 │ 1000        20       0.178934   0.0155829     20000  0.163351   0.19451\n",
       "  12 │ 1000        25       0.225639   0.0200813     25000  0.205558   0.24572\n",
       "  13 │ 10000       2        0.182811   0.00224881    20000  0.180562   0.18506 ⋯\n",
       "  14 │ 10000       5        0.256177   0.00224977    50000  0.253927   0.25842\n",
       "  15 │ 10000       10       0.304473   0.00203917   100000  0.302434   0.30651\n",
       "  16 │ 10000       15       0.431726   0.00380419   150000  0.427922   0.43553\n",
       "  17 │ 10000       20       0.507107   0.00477078   200000  0.502336   0.51187 ⋯\n",
       "  18 │ 10000       25       0.6138     0.00491568   250000  0.608885   0.61871\n",
       "\u001b[36m                                                               2 columns omitted\u001b[0m"
      ]
     },
     "execution_count": 5,
     "metadata": {},
     "output_type": "execute_result"
    }
   ],
   "source": [
    "#simulation parameters\n",
    "@info \"making results table\"\n",
    "sample_sizes = repeat(string.(samplesizes), inner = nsims * length(ns))\n",
    "obs_sizes = repeat(string.(ns), inner = nsims, outer = length(samplesizes))\n",
    "\n",
    "msedf = DataFrame(βmse = βMseresult, σ2mse = σ2MseResult, ρmse = ρMseResult,\n",
    "    samplesize = sample_sizes, obssize = obs_sizes, fittimes = fittimes)\n",
    "timedf = combine(groupby(msedf, [:samplesize, :obssize]), :fittimes => mean => :fittime,\n",
    "    :fittimes => x -> (std(x)/sqrt(length(x))))\n",
    "rename!(timedf, Dict(:fittimes_function => \"se\"))\n",
    "timedf[!, :nobs] = Meta.parse.(timedf[!, :samplesize]) .* Meta.parse.(timedf[!, :obssize])\n",
    "timedf[!, :fitmin] = timedf[!, :fittime] - timedf[!, :se]\n",
    "timedf[!, :fitmax] = timedf[!, :fittime] + timedf[!, :se]\n",
    "timedf[!, :perobsratio] = timedf[!, :fittime] ./ timedf[!, :nobs]\n",
    "timedf"
   ]
  },
  {
   "cell_type": "code",
   "execution_count": 6,
   "metadata": {},
   "outputs": [
    {
     "data": {
      "text/html": [
       "<div class=\"data-frame\"><p>18 rows × 6 columns (omitted printing of 1 columns)</p><table class=\"data-frame\"><thead><tr><th></th><th>people_obs</th><th>β1</th><th>β2</th><th>β3</th><th>σ2</th></tr><tr><th></th><th title=\"String\">String</th><th title=\"Tuple{Float64, Float64}\">Tuple…</th><th title=\"Tuple{Float64, Float64}\">Tuple…</th><th title=\"Tuple{Float64, Float64}\">Tuple…</th><th title=\"Tuple{Float64, Float64}\">Tuple…</th></tr></thead><tbody><tr><th>1</th><td>N: 100  ni: 2</td><td>(0.46, 0.0500908)</td><td>(0.28, 0.0451261)</td><td>(0.4, 0.0492366)</td><td>(0.72, 0.0451261)</td></tr><tr><th>2</th><td>N: 100  ni: 5</td><td>(0.53, 0.0501614)</td><td>(0.33, 0.0472582)</td><td>(0.55, 0.05)</td><td>(0.6, 0.0492366)</td></tr><tr><th>3</th><td>N: 100  ni: 10</td><td>(0.57, 0.049757)</td><td>(0.3, 0.0460566)</td><td>(0.63, 0.0485237)</td><td>(0.77, 0.0422953)</td></tr><tr><th>4</th><td>N: 100  ni: 15</td><td>(0.53, 0.0501614)</td><td>(0.3, 0.0460566)</td><td>(0.73, 0.0446196)</td><td>(0.76, 0.0429235)</td></tr><tr><th>5</th><td>N: 100  ni: 20</td><td>(0.68, 0.0468826)</td><td>(0.42, 0.0496045)</td><td>(0.81, 0.0394277)</td><td>(0.84, 0.0368453)</td></tr><tr><th>6</th><td>N: 100  ni: 25</td><td>(0.47, 0.0501614)</td><td>(0.39, 0.0490207)</td><td>(0.74, 0.0440844)</td><td>(0.74, 0.0440844)</td></tr><tr><th>7</th><td>N: 1000  ni: 2</td><td>(0.41, 0.0494311)</td><td>(0.14, 0.0348735)</td><td>(0.32, 0.0468826)</td><td>(0.66, 0.0476095)</td></tr><tr><th>8</th><td>N: 1000  ni: 5</td><td>(0.43, 0.049757)</td><td>(0.2, 0.0402015)</td><td>(0.67, 0.0472582)</td><td>(0.82, 0.0386123)</td></tr><tr><th>9</th><td>N: 1000  ni: 10</td><td>(0.42, 0.0496045)</td><td>(0.14, 0.0348735)</td><td>(0.7, 0.0460566)</td><td>(0.85, 0.035887)</td></tr><tr><th>10</th><td>N: 1000  ni: 15</td><td>(0.52, 0.0502117)</td><td>(0.15, 0.035887)</td><td>(0.75, 0.0435194)</td><td>(0.89, 0.0314466)</td></tr><tr><th>11</th><td>N: 1000  ni: 20</td><td>(0.45, 0.05)</td><td>(0.17, 0.0377525)</td><td>(0.79, 0.040936)</td><td>(0.86, 0.0348735)</td></tr><tr><th>12</th><td>N: 1000  ni: 25</td><td>(0.48, 0.0502117)</td><td>(0.24, 0.0429235)</td><td>(0.79, 0.040936)</td><td>(0.9, 0.0301511)</td></tr><tr><th>13</th><td>N: 10000  ni: 2</td><td>(0.28, 0.0451261)</td><td>(0.16, 0.0368453)</td><td>(0.42, 0.0496045)</td><td>(0.76, 0.0429235)</td></tr><tr><th>14</th><td>N: 10000  ni: 5</td><td>(0.39, 0.0490207)</td><td>(0.18, 0.0386123)</td><td>(0.68, 0.0468826)</td><td>(0.92, 0.027266)</td></tr><tr><th>15</th><td>N: 10000  ni: 10</td><td>(0.35, 0.0479372)</td><td>(0.14, 0.0348735)</td><td>(0.79, 0.040936)</td><td>(0.91, 0.0287623)</td></tr><tr><th>16</th><td>N: 10000  ni: 15</td><td>(0.48, 0.0502117)</td><td>(0.12, 0.0326599)</td><td>(0.82, 0.0386123)</td><td>(0.88, 0.0326599)</td></tr><tr><th>17</th><td>N: 10000  ni: 20</td><td>(0.49, 0.0502418)</td><td>(0.1, 0.0301511)</td><td>(0.81, 0.0394277)</td><td>(0.92, 0.027266)</td></tr><tr><th>18</th><td>N: 10000  ni: 25</td><td>(0.51, 0.0502418)</td><td>(0.18, 0.0386123)</td><td>(0.73, 0.0446196)</td><td>(0.8, 0.0402015)</td></tr></tbody></table></div>"
      ],
      "text/latex": [
       "\\begin{tabular}{r|cccccc}\n",
       "\t& people\\_obs & β1 & β2 & β3 & σ2 & \\\\\n",
       "\t\\hline\n",
       "\t& String & Tuple… & Tuple… & Tuple… & Tuple… & \\\\\n",
       "\t\\hline\n",
       "\t1 & N: 100  ni: 2 & (0.46, 0.0500908) & (0.28, 0.0451261) & (0.4, 0.0492366) & (0.72, 0.0451261) & $\\dots$ \\\\\n",
       "\t2 & N: 100  ni: 5 & (0.53, 0.0501614) & (0.33, 0.0472582) & (0.55, 0.05) & (0.6, 0.0492366) & $\\dots$ \\\\\n",
       "\t3 & N: 100  ni: 10 & (0.57, 0.049757) & (0.3, 0.0460566) & (0.63, 0.0485237) & (0.77, 0.0422953) & $\\dots$ \\\\\n",
       "\t4 & N: 100  ni: 15 & (0.53, 0.0501614) & (0.3, 0.0460566) & (0.73, 0.0446196) & (0.76, 0.0429235) & $\\dots$ \\\\\n",
       "\t5 & N: 100  ni: 20 & (0.68, 0.0468826) & (0.42, 0.0496045) & (0.81, 0.0394277) & (0.84, 0.0368453) & $\\dots$ \\\\\n",
       "\t6 & N: 100  ni: 25 & (0.47, 0.0501614) & (0.39, 0.0490207) & (0.74, 0.0440844) & (0.74, 0.0440844) & $\\dots$ \\\\\n",
       "\t7 & N: 1000  ni: 2 & (0.41, 0.0494311) & (0.14, 0.0348735) & (0.32, 0.0468826) & (0.66, 0.0476095) & $\\dots$ \\\\\n",
       "\t8 & N: 1000  ni: 5 & (0.43, 0.049757) & (0.2, 0.0402015) & (0.67, 0.0472582) & (0.82, 0.0386123) & $\\dots$ \\\\\n",
       "\t9 & N: 1000  ni: 10 & (0.42, 0.0496045) & (0.14, 0.0348735) & (0.7, 0.0460566) & (0.85, 0.035887) & $\\dots$ \\\\\n",
       "\t10 & N: 1000  ni: 15 & (0.52, 0.0502117) & (0.15, 0.035887) & (0.75, 0.0435194) & (0.89, 0.0314466) & $\\dots$ \\\\\n",
       "\t11 & N: 1000  ni: 20 & (0.45, 0.05) & (0.17, 0.0377525) & (0.79, 0.040936) & (0.86, 0.0348735) & $\\dots$ \\\\\n",
       "\t12 & N: 1000  ni: 25 & (0.48, 0.0502117) & (0.24, 0.0429235) & (0.79, 0.040936) & (0.9, 0.0301511) & $\\dots$ \\\\\n",
       "\t13 & N: 10000  ni: 2 & (0.28, 0.0451261) & (0.16, 0.0368453) & (0.42, 0.0496045) & (0.76, 0.0429235) & $\\dots$ \\\\\n",
       "\t14 & N: 10000  ni: 5 & (0.39, 0.0490207) & (0.18, 0.0386123) & (0.68, 0.0468826) & (0.92, 0.027266) & $\\dots$ \\\\\n",
       "\t15 & N: 10000  ni: 10 & (0.35, 0.0479372) & (0.14, 0.0348735) & (0.79, 0.040936) & (0.91, 0.0287623) & $\\dots$ \\\\\n",
       "\t16 & N: 10000  ni: 15 & (0.48, 0.0502117) & (0.12, 0.0326599) & (0.82, 0.0386123) & (0.88, 0.0326599) & $\\dots$ \\\\\n",
       "\t17 & N: 10000  ni: 20 & (0.49, 0.0502418) & (0.1, 0.0301511) & (0.81, 0.0394277) & (0.92, 0.027266) & $\\dots$ \\\\\n",
       "\t18 & N: 10000  ni: 25 & (0.51, 0.0502418) & (0.18, 0.0386123) & (0.73, 0.0446196) & (0.8, 0.0402015) & $\\dots$ \\\\\n",
       "\\end{tabular}\n"
      ],
      "text/plain": [
       "\u001b[1m18×6 DataFrame\u001b[0m\n",
       "\u001b[1m Row \u001b[0m│\u001b[1m people_obs       \u001b[0m\u001b[1m β1                \u001b[0m\u001b[1m β2                \u001b[0m\u001b[1m β3             \u001b[0m ⋯\n",
       "\u001b[1m     \u001b[0m│\u001b[90m String           \u001b[0m\u001b[90m Tuple…            \u001b[0m\u001b[90m Tuple…            \u001b[0m\u001b[90m Tuple…         \u001b[0m ⋯\n",
       "─────┼──────────────────────────────────────────────────────────────────────────\n",
       "   1 │ N: 100  ni: 2     (0.46, 0.0500908)  (0.28, 0.0451261)  (0.4, 0.0492366 ⋯\n",
       "   2 │ N: 100  ni: 5     (0.53, 0.0501614)  (0.33, 0.0472582)  (0.55, 0.05)\n",
       "   3 │ N: 100  ni: 10    (0.57, 0.049757)   (0.3, 0.0460566)   (0.63, 0.048523\n",
       "   4 │ N: 100  ni: 15    (0.53, 0.0501614)  (0.3, 0.0460566)   (0.73, 0.044619\n",
       "   5 │ N: 100  ni: 20    (0.68, 0.0468826)  (0.42, 0.0496045)  (0.81, 0.039427 ⋯\n",
       "   6 │ N: 100  ni: 25    (0.47, 0.0501614)  (0.39, 0.0490207)  (0.74, 0.044084\n",
       "   7 │ N: 1000  ni: 2    (0.41, 0.0494311)  (0.14, 0.0348735)  (0.32, 0.046882\n",
       "   8 │ N: 1000  ni: 5    (0.43, 0.049757)   (0.2, 0.0402015)   (0.67, 0.047258\n",
       "   9 │ N: 1000  ni: 10   (0.42, 0.0496045)  (0.14, 0.0348735)  (0.7, 0.0460566 ⋯\n",
       "  10 │ N: 1000  ni: 15   (0.52, 0.0502117)  (0.15, 0.035887)   (0.75, 0.043519\n",
       "  11 │ N: 1000  ni: 20   (0.45, 0.05)       (0.17, 0.0377525)  (0.79, 0.040936\n",
       "  12 │ N: 1000  ni: 25   (0.48, 0.0502117)  (0.24, 0.0429235)  (0.79, 0.040936\n",
       "  13 │ N: 10000  ni: 2   (0.28, 0.0451261)  (0.16, 0.0368453)  (0.42, 0.049604 ⋯\n",
       "  14 │ N: 10000  ni: 5   (0.39, 0.0490207)  (0.18, 0.0386123)  (0.68, 0.046882\n",
       "  15 │ N: 10000  ni: 10  (0.35, 0.0479372)  (0.14, 0.0348735)  (0.79, 0.040936\n",
       "  16 │ N: 10000  ni: 15  (0.48, 0.0502117)  (0.12, 0.0326599)  (0.82, 0.038612\n",
       "  17 │ N: 10000  ni: 20  (0.49, 0.0502418)  (0.1, 0.0301511)   (0.81, 0.039427 ⋯\n",
       "  18 │ N: 10000  ni: 25  (0.51, 0.0502418)  (0.18, 0.0386123)  (0.73, 0.044619\n",
       "\u001b[36m                                                               3 columns omitted\u001b[0m"
      ]
     },
     "execution_count": 6,
     "metadata": {},
     "output_type": "execute_result"
    }
   ],
   "source": [
    "######  supplementary table s1\n",
    "using Random, DataFrames, DelimitedFiles, Statistics\n",
    "import StatsBase: sem\n",
    "\n",
    "βρσ2coverage = readdlm(\"beta_rho_sigma_coverage_multivariate_bernoulli_AR$(nsims)reps_sim.csv\", ',')\n",
    "\n",
    "m = 2\n",
    "\n",
    "covdf = DataFrame(Matrix(transpose(βρσ2coverage)), :auto)\n",
    "rename!(covdf, Symbol.([[\"β$i\" for i in 1:p]; [\"σ2\"];  [\"ρ\"]]))\n",
    "covdf[!, :samplesize] = sample_sizes\n",
    "covdf[!, :obssize] = obs_sizes\n",
    "first(covdf, 10)\n",
    "\n",
    "row_stats = [[(mean(col), sem(col)) for col = eachcol(d[!, 1:end-2])] for d = groupby(covdf, [:samplesize; :obssize])]\n",
    "df = DataFrame(row_stats, :auto)\n",
    "ss_obs = unique(\"N: \" .* sample_sizes .* \"  ni: \" .* obs_sizes)\n",
    "rename!(df, Symbol.(ss_obs))\n",
    "covdfdisplay = DataFrame([[names(df)]; collect.(eachrow(df))], \n",
    "    [:people_obs; Symbol.([[\"β$i\" for i in 1:p]; [\"σ2\"]; [\"ρ\"]])])\n",
    "# deletecols!(covdfdisplay, p + 2)\n",
    "covdfdisplay\n"
   ]
  },
  {
   "cell_type": "code",
   "execution_count": 7,
   "metadata": {},
   "outputs": [
    {
     "data": {
      "text/html": [
       "<div class=\"data-frame\"><p>3,455 rows × 5 columns</p><table class=\"data-frame\"><thead><tr><th></th><th>mse</th><th>obssize</th><th>samplesize</th><th>parameters</th><th>robust</th></tr><tr><th></th><th title=\"Float64\">Float64</th><th title=\"String\">String</th><th title=\"String\">String</th><th title=\"String\">String</th><th title=\"String\">String</th></tr></thead><tbody><tr><th>1</th><td>2.58131</td><td>2</td><td>100</td><td>beta</td><td>Bernoulli AR with LogitLink</td></tr><tr><th>2</th><td>0.295504</td><td>2</td><td>100</td><td>beta</td><td>Bernoulli AR with LogitLink</td></tr><tr><th>3</th><td>0.415719</td><td>2</td><td>100</td><td>beta</td><td>Bernoulli AR with LogitLink</td></tr><tr><th>4</th><td>2.19966</td><td>2</td><td>100</td><td>beta</td><td>Bernoulli AR with LogitLink</td></tr><tr><th>5</th><td>0.00857668</td><td>2</td><td>100</td><td>beta</td><td>Bernoulli AR with LogitLink</td></tr><tr><th>6</th><td>0.00122253</td><td>2</td><td>100</td><td>beta</td><td>Bernoulli AR with LogitLink</td></tr><tr><th>7</th><td>0.0601614</td><td>2</td><td>100</td><td>beta</td><td>Bernoulli AR with LogitLink</td></tr><tr><th>8</th><td>0.0463758</td><td>2</td><td>100</td><td>beta</td><td>Bernoulli AR with LogitLink</td></tr><tr><th>9</th><td>0.221012</td><td>2</td><td>100</td><td>beta</td><td>Bernoulli AR with LogitLink</td></tr><tr><th>10</th><td>0.0519062</td><td>2</td><td>100</td><td>beta</td><td>Bernoulli AR with LogitLink</td></tr><tr><th>11</th><td>0.052959</td><td>2</td><td>100</td><td>beta</td><td>Bernoulli AR with LogitLink</td></tr><tr><th>12</th><td>0.148643</td><td>2</td><td>100</td><td>beta</td><td>Bernoulli AR with LogitLink</td></tr><tr><th>13</th><td>1.48383</td><td>2</td><td>100</td><td>beta</td><td>Bernoulli AR with LogitLink</td></tr><tr><th>14</th><td>0.0227906</td><td>2</td><td>100</td><td>beta</td><td>Bernoulli AR with LogitLink</td></tr><tr><th>15</th><td>0.265794</td><td>2</td><td>100</td><td>beta</td><td>Bernoulli AR with LogitLink</td></tr><tr><th>16</th><td>1.54416</td><td>2</td><td>100</td><td>beta</td><td>Bernoulli AR with LogitLink</td></tr><tr><th>17</th><td>0.556117</td><td>2</td><td>100</td><td>beta</td><td>Bernoulli AR with LogitLink</td></tr><tr><th>18</th><td>0.0331247</td><td>2</td><td>100</td><td>beta</td><td>Bernoulli AR with LogitLink</td></tr><tr><th>19</th><td>0.35466</td><td>2</td><td>100</td><td>beta</td><td>Bernoulli AR with LogitLink</td></tr><tr><th>20</th><td>0.510776</td><td>2</td><td>100</td><td>beta</td><td>Bernoulli AR with LogitLink</td></tr><tr><th>21</th><td>0.650426</td><td>2</td><td>100</td><td>beta</td><td>Bernoulli AR with LogitLink</td></tr><tr><th>22</th><td>0.233971</td><td>2</td><td>100</td><td>beta</td><td>Bernoulli AR with LogitLink</td></tr><tr><th>23</th><td>0.0595159</td><td>2</td><td>100</td><td>beta</td><td>Bernoulli AR with LogitLink</td></tr><tr><th>24</th><td>0.248043</td><td>2</td><td>100</td><td>beta</td><td>Bernoulli AR with LogitLink</td></tr><tr><th>25</th><td>0.0197208</td><td>2</td><td>100</td><td>beta</td><td>Bernoulli AR with LogitLink</td></tr><tr><th>26</th><td>0.0259562</td><td>2</td><td>100</td><td>beta</td><td>Bernoulli AR with LogitLink</td></tr><tr><th>27</th><td>0.181038</td><td>2</td><td>100</td><td>beta</td><td>Bernoulli AR with LogitLink</td></tr><tr><th>28</th><td>0.475938</td><td>2</td><td>100</td><td>beta</td><td>Bernoulli AR with LogitLink</td></tr><tr><th>29</th><td>0.20118</td><td>2</td><td>100</td><td>beta</td><td>Bernoulli AR with LogitLink</td></tr><tr><th>30</th><td>1.47252</td><td>2</td><td>100</td><td>beta</td><td>Bernoulli AR with LogitLink</td></tr><tr><th>&vellip;</th><td>&vellip;</td><td>&vellip;</td><td>&vellip;</td><td>&vellip;</td><td>&vellip;</td></tr></tbody></table></div>"
      ],
      "text/latex": [
       "\\begin{tabular}{r|ccccc}\n",
       "\t& mse & obssize & samplesize & parameters & robust\\\\\n",
       "\t\\hline\n",
       "\t& Float64 & String & String & String & String\\\\\n",
       "\t\\hline\n",
       "\t1 & 2.58131 & 2 & 100 & beta & Bernoulli AR with LogitLink \\\\\n",
       "\t2 & 0.295504 & 2 & 100 & beta & Bernoulli AR with LogitLink \\\\\n",
       "\t3 & 0.415719 & 2 & 100 & beta & Bernoulli AR with LogitLink \\\\\n",
       "\t4 & 2.19966 & 2 & 100 & beta & Bernoulli AR with LogitLink \\\\\n",
       "\t5 & 0.00857668 & 2 & 100 & beta & Bernoulli AR with LogitLink \\\\\n",
       "\t6 & 0.00122253 & 2 & 100 & beta & Bernoulli AR with LogitLink \\\\\n",
       "\t7 & 0.0601614 & 2 & 100 & beta & Bernoulli AR with LogitLink \\\\\n",
       "\t8 & 0.0463758 & 2 & 100 & beta & Bernoulli AR with LogitLink \\\\\n",
       "\t9 & 0.221012 & 2 & 100 & beta & Bernoulli AR with LogitLink \\\\\n",
       "\t10 & 0.0519062 & 2 & 100 & beta & Bernoulli AR with LogitLink \\\\\n",
       "\t11 & 0.052959 & 2 & 100 & beta & Bernoulli AR with LogitLink \\\\\n",
       "\t12 & 0.148643 & 2 & 100 & beta & Bernoulli AR with LogitLink \\\\\n",
       "\t13 & 1.48383 & 2 & 100 & beta & Bernoulli AR with LogitLink \\\\\n",
       "\t14 & 0.0227906 & 2 & 100 & beta & Bernoulli AR with LogitLink \\\\\n",
       "\t15 & 0.265794 & 2 & 100 & beta & Bernoulli AR with LogitLink \\\\\n",
       "\t16 & 1.54416 & 2 & 100 & beta & Bernoulli AR with LogitLink \\\\\n",
       "\t17 & 0.556117 & 2 & 100 & beta & Bernoulli AR with LogitLink \\\\\n",
       "\t18 & 0.0331247 & 2 & 100 & beta & Bernoulli AR with LogitLink \\\\\n",
       "\t19 & 0.35466 & 2 & 100 & beta & Bernoulli AR with LogitLink \\\\\n",
       "\t20 & 0.510776 & 2 & 100 & beta & Bernoulli AR with LogitLink \\\\\n",
       "\t21 & 0.650426 & 2 & 100 & beta & Bernoulli AR with LogitLink \\\\\n",
       "\t22 & 0.233971 & 2 & 100 & beta & Bernoulli AR with LogitLink \\\\\n",
       "\t23 & 0.0595159 & 2 & 100 & beta & Bernoulli AR with LogitLink \\\\\n",
       "\t24 & 0.248043 & 2 & 100 & beta & Bernoulli AR with LogitLink \\\\\n",
       "\t25 & 0.0197208 & 2 & 100 & beta & Bernoulli AR with LogitLink \\\\\n",
       "\t26 & 0.0259562 & 2 & 100 & beta & Bernoulli AR with LogitLink \\\\\n",
       "\t27 & 0.181038 & 2 & 100 & beta & Bernoulli AR with LogitLink \\\\\n",
       "\t28 & 0.475938 & 2 & 100 & beta & Bernoulli AR with LogitLink \\\\\n",
       "\t29 & 0.20118 & 2 & 100 & beta & Bernoulli AR with LogitLink \\\\\n",
       "\t30 & 1.47252 & 2 & 100 & beta & Bernoulli AR with LogitLink \\\\\n",
       "\t$\\dots$ & $\\dots$ & $\\dots$ & $\\dots$ & $\\dots$ & $\\dots$ \\\\\n",
       "\\end{tabular}\n"
      ],
      "text/plain": [
       "\u001b[1m3455×5 DataFrame\u001b[0m\n",
       "\u001b[1m  Row \u001b[0m│\u001b[1m mse         \u001b[0m\u001b[1m obssize \u001b[0m\u001b[1m samplesize \u001b[0m\u001b[1m parameters \u001b[0m\u001b[1m robust                  \u001b[0m ⋯\n",
       "\u001b[1m      \u001b[0m│\u001b[90m Float64     \u001b[0m\u001b[90m String  \u001b[0m\u001b[90m String     \u001b[0m\u001b[90m String     \u001b[0m\u001b[90m String                  \u001b[0m ⋯\n",
       "──────┼─────────────────────────────────────────────────────────────────────────\n",
       "    1 │ 2.58131      2        100         beta        Bernoulli AR with LogitL ⋯\n",
       "    2 │ 0.295504     2        100         beta        Bernoulli AR with LogitL\n",
       "    3 │ 0.415719     2        100         beta        Bernoulli AR with LogitL\n",
       "    4 │ 2.19966      2        100         beta        Bernoulli AR with LogitL\n",
       "    5 │ 0.00857668   2        100         beta        Bernoulli AR with LogitL ⋯\n",
       "    6 │ 0.00122253   2        100         beta        Bernoulli AR with LogitL\n",
       "    7 │ 0.0601614    2        100         beta        Bernoulli AR with LogitL\n",
       "    8 │ 0.0463758    2        100         beta        Bernoulli AR with LogitL\n",
       "    9 │ 0.221012     2        100         beta        Bernoulli AR with LogitL ⋯\n",
       "   10 │ 0.0519062    2        100         beta        Bernoulli AR with LogitL\n",
       "   11 │ 0.052959     2        100         beta        Bernoulli AR with LogitL\n",
       "  ⋮   │      ⋮          ⋮         ⋮           ⋮                    ⋮           ⋱\n",
       " 3446 │ 0.00435895   25       10000       theta       Bernoulli AR with LogitL\n",
       " 3447 │ 0.00357573   25       10000       theta       Bernoulli AR with LogitL ⋯\n",
       " 3448 │ 0.00280064   25       10000       theta       Bernoulli AR with LogitL\n",
       " 3449 │ 0.000635467  25       10000       theta       Bernoulli AR with LogitL\n",
       " 3450 │ 0.000443753  25       10000       theta       Bernoulli AR with LogitL\n",
       " 3451 │ 0.00874689   25       10000       theta       Bernoulli AR with LogitL ⋯\n",
       " 3452 │ 0.00278676   25       10000       theta       Bernoulli AR with LogitL\n",
       " 3453 │ 0.00265458   25       10000       theta       Bernoulli AR with LogitL\n",
       " 3454 │ 0.0046933    25       10000       theta       Bernoulli AR with LogitL\n",
       " 3455 │ 0.00195305   25       10000       theta       Bernoulli AR with LogitL ⋯\n",
       "\u001b[36m                                                  1 column and 3434 rows omitted\u001b[0m"
      ]
     },
     "execution_count": 7,
     "metadata": {},
     "output_type": "execute_result"
    }
   ],
   "source": [
    "#### \n",
    "#import data and reorganize to create figure\n",
    "using Random, DataFrames, DelimitedFiles, Statistics, RCall, Printf\n",
    "import StatsBase: sem\n",
    "\n",
    "βMseresult_1 = vec(readdlm(\"mse_beta_multivariate_bernoulli_AR$(nsims)reps_sim.csv\", ','))\n",
    "σ2MseResult_1 = vec(readdlm(\"mse_sigma_multivariate_bernoulli_AR$(nsims)reps_sim.csv\", ','))\n",
    "ρMseResult_1 = vec(readdlm(\"mse_rho_multivariate_bernoulli_AR$(nsims)reps_sim.csv\", ','))\n",
    "θMseResult_1 = (σ2MseResult_1 .+ ρMseResult_1) ./ 2\n",
    "\n",
    "βρσ2coverage_1 = readdlm(\"beta_rho_sigma_coverage_multivariate_bernoulli_AR$(nsims)reps_sim.csv\", ',')\n",
    "\n",
    "samplesizesrobust = samplesizes\n",
    "nsrobust = ns\n",
    "nsimsrobust = nsims\n",
    "\n",
    "p = 3\n",
    "sample_sizesrobust = repeat(string.(samplesizesrobust), inner = nsimsrobust * length(nsrobust))\n",
    "obs_sizesrobust = repeat(string.(nsrobust), inner = nsimsrobust, outer = length(samplesizesrobust))\n",
    "msedfrobust = DataFrame(βmse = βMseresult_1, thetamse = θMseResult_1,\n",
    "    samplesize = sample_sizesrobust, obssize = obs_sizesrobust)\n",
    "\n",
    "\n",
    "msedfrobustR = deepcopy(msedfrobust)\n",
    "rename!(msedfrobustR, [\"betamse\"\n",
    "    \"thetamse\"\n",
    "    \"samplesize\"\n",
    " \"obssize\"]);\n",
    "\n",
    "mses = [msedfrobustR[!, :betamse]; msedfrobustR[!, :thetamse]]\n",
    "    # msedfnormR[!, :betamse]; msedfnormR[!, :taumse]; msedfnormR[!, :Sigmamse]]\n",
    "obssize = collect([repeat(msedfrobustR[!, :obssize], 2)]...)\n",
    "\n",
    "samplesize = collect([repeat(msedfrobustR[!, :samplesize], 2)]...) \n",
    "\n",
    "parameters = collect([repeat(string.([:beta, :theta]), inner = nsimsrobust * length(nsrobust) * length(samplesizesrobust))]...)\n",
    "robust = collect([repeat([\"Bernoulli AR with LogitLink\"], 2 * nsimsrobust * length(nsrobust) * length(samplesizesrobust))]...) # ;\n",
    "\n",
    "msedfR = DataFrame(mse = mses, obssize = obssize, samplesize = samplesize,\n",
    "    parameters = parameters, robust = robust)\n",
    "\n",
    "#5 of the 30,000 simulations did not converge, filter out\n",
    "msedfR = filter(x -> !isnan(x.mse), msedfR)\n",
    "# additionally, there are 5 where an error was not caught so it did not try a differnt solver\n",
    "msedfR = filter(x -> x.mse < 4000, msedfR)"
   ]
  },
  {
   "cell_type": "code",
   "execution_count": 8,
   "metadata": {},
   "outputs": [
    {
     "name": "stderr",
     "output_type": "stream",
     "text": [
      "┌ Warning: RCall.jl: Warning: package ‘scales’ was built under R version 4.0.2\n",
      "└ @ RCall /Users/sarahji/.julia/packages/RCall/6kphM/src/io.jl:172\n",
      "┌ Warning: RCall.jl: Warning: package ‘ggplot2’ was built under R version 4.0.2\n",
      "└ @ RCall /Users/sarahji/.julia/packages/RCall/6kphM/src/io.jl:172\n",
      "┌ Warning: RCall.jl: Warning: package ‘data.table’ was built under R version 4.0.2\n",
      "└ @ RCall /Users/sarahji/.julia/packages/RCall/6kphM/src/io.jl:172\n"
     ]
    },
    {
     "data": {
      "image/png": "[encoded data removed]"
     },
     "metadata": {},
     "output_type": "display_data"
    },
    {
     "data": {
      "text/plain": [
       "RObject{VecSxp}\n"
      ]
     },
     "execution_count": 8,
     "metadata": {},
     "output_type": "execute_result"
    }
   ],
   "source": [
    "### working on figure next\n",
    "@rput msedfR\n",
    "\n",
    "R\"\"\"\n",
    "library(scales)\n",
    "library(ggplot2)\n",
    "library(data.table)\n",
    "\n",
    "msedfR = data.table(msedfR)\n",
    "\n",
    "msedfR[parameters == \"beta\",y_min := 10^-6]\n",
    "msedfR[parameters == \"beta\",y_max := 10^-2]\n",
    "msedfR[parameters == \"theta\",y_min := 10^-5]\n",
    "msedfR[parameters == \"theta\",y_max := 10^1]\n",
    "# msedfR[parameters == \"rho\",y_min := 10^-9]\n",
    "# msedfR[parameters == \"rho\",y_max := 10^-2]\n",
    "\n",
    "#msedfR[parameters == \"beta\",y_min := 10^-8]\n",
    "#msedfR[parameters == \"beta\",y_max := 10^-2]\n",
    "#msedfR[parameters == \"tau\",y_min := 10^-8]\n",
    "#msedfR[parameters == \"tau\",y_max := 10^-2]\n",
    "#msedfR[parameters == \"Sigma\",y_min := 10^-5]\n",
    "#msedfR[parameters == \"Sigma\",y_max := 10^-2]\n",
    "\n",
    "\n",
    "msedfR$obssize = factor(msedfR$obssize, levels = c('2', '5', '10', '15', '20', '25'))\n",
    "msedfR$samplesize = factor(msedfR$samplesize, levels = c('100', '1000', '10000'))\n",
    "msedfR$parameters = factor(msedfR$parameters, levels = c('beta', 'theta'), labels = c(beta = expression(hat(bold(beta))), theta = expression(hat(bold(theta)))))\n",
    "msedfR$robust = factor(msedfR$robust, levels = c('Bernoulli AR with LogitLink'),\n",
    "    labels = c(expression(paste(\"Bernoulli AR with LogitLink\")))) # , expression(paste(\"MvT Gamma Inverse-Gamma\"))))\n",
    "\n",
    "\n",
    "\n",
    "#mseplot <- ggplot(msedfR[msedfR$mse < 10^0, ], aes(x=samplesize, y=mse, fill=obssize)) + \n",
    "mseplot = ggplot(msedfR[msedfR$mse < 10^3, ], aes(x=samplesize, y=mse, fill=obssize)) + \n",
    "  #geom_boxplot(outlier.size = 0.0, outlier.alpha = 0) +\n",
    "  geom_boxplot(outlier.size = 0.25) +\n",
    "#    geom_violin() +\n",
    "    facet_grid(parameters ~ robust, labeller = label_parsed, scales = \"free_y\") +\n",
    "  theme(legend.position=\"right\", legend.key = element_blank(), axis.text.x = element_text(angle=0, size=30),\n",
    "        axis.text.y = element_text(angle=0, size=30), axis.title.x = element_text(size = 30, face=\"bold\"), \n",
    "        axis.title.y = element_text(size = 40, face=\"bold\"), legend.title = element_text(size = 30, face=\"bold\"),\n",
    "        panel.grid.major = element_blank(), panel.grid.minor = element_blank(),\n",
    "        legend.text=element_text(size=30), panel.background = element_rect(fill = NA, color = \"black\"),\n",
    "        #panel.background = element_blank(), #panel.border = element_blank(),\n",
    "        axis.line = element_line(color = 'black',size=0.3), plot.title = element_text(hjust = 0.5),\n",
    "        strip.background = element_rect(colour=\"black\", fill=\"white\"), strip.text.y = element_text(angle = 0, size=75, face=\"bold\"),\n",
    "        strip.text.x = element_text(size=25)) + \n",
    "  scale_fill_manual(values = c(\"#c85f55\",\n",
    "\"#a964bf\",\n",
    "\"#8db352\",\n",
    "\"#fa7300\",\n",
    "\"#05aec0\",\n",
    "\"#ff1493\")) +\n",
    "#scale_y_log10(breaks = scales::trans_breaks(\"log10\", function(x) 10^x)) +\n",
    "#scale_y_log10(breaks = 10^(-8:8), limit=c(10^-8, 10^2)) + \n",
    "scale_y_log10(breaks = 10^seq(-10, 10, 2), labels=trans_format(\"log10\", math_format(10^.x))) + #, limit=c(10^-8, 10^2)) +\n",
    "  labs(x = \"Sample Size\", y = \"MSE of Parameter Estimates\", fill = \"Cluster Size\") +\n",
    "geom_blank(aes(y = y_max)) + \n",
    "geom_blank(aes(y = y_min)) \n",
    "\n",
    "\"\"\""
   ]
  },
  {
   "cell_type": "code",
   "execution_count": 9,
   "metadata": {},
   "outputs": [
    {
     "data": {
      "text/plain": [
       "RObject{StrSxp}\n",
       "[1] \"updated_msefacetplot_bernoulli_AR.png\"\n"
      ]
     },
     "execution_count": 9,
     "metadata": {},
     "output_type": "execute_result"
    }
   ],
   "source": [
    "R\"\"\"\n",
    "ggsave('updated_msefacetplot_bernoulli_AR.png', mseplot, width = 12.5, height = 15, units = 'in', dpi = 450)\n",
    "\"\"\""
   ]
  }
 ],
 "metadata": {
  "@webio": {
   "lastCommId": null,
   "lastKernelId": null
  },
  "kernelspec": {
   "display_name": "Julia 1.6.2",
   "language": "julia",
   "name": "julia-1.6"
  },
  "language_info": {
   "file_extension": ".jl",
   "mimetype": "application/julia",
   "name": "julia",
   "version": "1.6.2"
  }
 },
 "nbformat": 4,
 "nbformat_minor": 2
}
