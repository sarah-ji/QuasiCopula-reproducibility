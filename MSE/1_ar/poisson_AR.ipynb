{
 "cells": [
  {
   "cell_type": "markdown",
   "metadata": {},
   "source": [
    "## Poisson AR Results \n",
    "\n",
    "This notebook goes over the code needed to reproduce the results from the MSE and time figures in the first simulation in the paper. \n",
    "\n",
    "In this example simulate three fixed effects from a standard Normal distribution, $\\beta \\sim$ rand(Uniform(-2, 2), p) where p = 3 fixed effects.\n",
    "\n",
    "In this example we have Poisson base distribution with Log Link function and covariance matrix $\\Gamma$ structured under AR covariance with $\\rho = 0.5, \\sigma^2 = 0.5$\n",
    "\n",
    "We use multi-threading on 8 threads to obtain these MSE results on the following machine, and include MSE results from 100 simulation runs for each scenario."
   ]
  },
  {
   "cell_type": "code",
   "execution_count": 1,
   "metadata": {},
   "outputs": [
    {
     "name": "stdout",
     "output_type": "stream",
     "text": [
      "Julia Version 1.6.2\n",
      "Commit 1b93d53fc4 (2021-07-14 15:36 UTC)\n",
      "Platform Info:\n",
      "  OS: macOS (x86_64-apple-darwin18.7.0)\n",
      "  CPU: Intel(R) Core(TM) i9-9880H CPU @ 2.30GHz\n",
      "  WORD_SIZE: 64\n",
      "  LIBM: libopenlibm\n",
      "  LLVM: libLLVM-11.0.1 (ORCJIT, skylake)\n"
     ]
    }
   ],
   "source": [
    "versioninfo()"
   ]
  },
  {
   "cell_type": "code",
   "execution_count": 2,
   "metadata": {},
   "outputs": [],
   "source": [
    "using QuasiCopula, DelimitedFiles, LinearAlgebra, Random, GLM\n",
    "using DataFrames"
   ]
  },
  {
   "cell_type": "code",
   "execution_count": 3,
   "metadata": {},
   "outputs": [],
   "source": [
    "p = 3    # number of fixed effects, including intercept\n",
    "\n",
    "# true parameter values\n",
    "Random.seed!(12345)\n",
    "βtrue = rand(Uniform(-2, 2), p)\n",
    "σ2true = [0.5]\n",
    "ρtrue = [0.5]\n",
    "θtrue = [σ2true; ρtrue]\n",
    "\n",
    "# generate data\n",
    "trueparams = [βtrue; θtrue] #hold true parameters\n",
    "\n",
    "#simulation parameters\n",
    "samplesizes = [100; 1000; 10000]\n",
    "ns = [2; 5; 10; 15; 20; 25]\n",
    "nsims = 100;"
   ]
  },
  {
   "cell_type": "code",
   "execution_count": 4,
   "metadata": {},
   "outputs": [
    {
     "name": "stderr",
     "output_type": "stream",
     "text": [
      "┌ Info: reading in the files with results\n",
      "└ @ Main In[4]:1\n"
     ]
    },
    {
     "data": {
      "text/plain": [
       "1800-element Vector{Float64}:\n",
       " 0.068517046\n",
       " 0.054285961\n",
       " 0.054182337\n",
       " 0.050311207\n",
       " 0.056077205\n",
       " 0.05552936\n",
       " 0.050238435\n",
       " 0.054962166\n",
       " 0.065529025\n",
       " 0.059940293\n",
       " 0.06527444\n",
       " 0.059783157\n",
       " 0.06142033\n",
       " ⋮\n",
       " 0.598662664\n",
       " 0.659942781\n",
       " 0.724443406\n",
       " 0.630684224\n",
       " 0.698609993\n",
       " 0.646566336\n",
       " 0.822290702\n",
       " 0.733782039\n",
       " 0.773136813\n",
       " 0.603759645\n",
       " 0.623681679\n",
       " 0.643872805"
      ]
     },
     "execution_count": 4,
     "metadata": {},
     "output_type": "execute_result"
    }
   ],
   "source": [
    "@info \"reading in the files with results\"\n",
    "βMseresult = vec(readdlm(\"mse_beta_multivariate_poisson_AR$(nsims)reps_sim.csv\", ','))\n",
    "σ2MseResult = vec(readdlm(\"mse_sigma_multivariate_poisson_AR$(nsims)reps_sim.csv\", ','))\n",
    "ρMseResult = vec(readdlm(\"mse_rho_multivariate_poisson_AR$(nsims)reps_sim.csv\", ','))\n",
    "fittimes = vec(readdlm(\"fittimes_multivariate_poisson_AR$(nsims)reps_sim.csv\", ','))"
   ]
  },
  {
   "cell_type": "code",
   "execution_count": 5,
   "metadata": {},
   "outputs": [
    {
     "name": "stderr",
     "output_type": "stream",
     "text": [
      "┌ Info: making results table\n",
      "└ @ Main In[5]:2\n"
     ]
    },
    {
     "data": {
      "text/html": [
       "<div class=\"data-frame\"><p>18 rows × 8 columns</p><table class=\"data-frame\"><thead><tr><th></th><th>samplesize</th><th>obssize</th><th>fittime</th><th>se</th><th>nobs</th><th>fitmin</th><th>fitmax</th><th>perobsratio</th></tr><tr><th></th><th title=\"String\">String</th><th title=\"String\">String</th><th title=\"Float64\">Float64</th><th title=\"Float64\">Float64</th><th title=\"Int64\">Int64</th><th title=\"Float64\">Float64</th><th title=\"Float64\">Float64</th><th title=\"Float64\">Float64</th></tr></thead><tbody><tr><th>1</th><td>100</td><td>2</td><td>0.0573285</td><td>0.0008343</td><td>200</td><td>0.0564942</td><td>0.0581628</td><td>0.000286642</td></tr><tr><th>2</th><td>100</td><td>5</td><td>0.0690881</td><td>0.00175397</td><td>500</td><td>0.0673341</td><td>0.070842</td><td>0.000138176</td></tr><tr><th>3</th><td>100</td><td>10</td><td>0.111848</td><td>0.00801667</td><td>1000</td><td>0.103832</td><td>0.119865</td><td>0.000111848</td></tr><tr><th>4</th><td>100</td><td>15</td><td>0.214357</td><td>0.0214852</td><td>1500</td><td>0.192872</td><td>0.235842</td><td>0.000142905</td></tr><tr><th>5</th><td>100</td><td>20</td><td>0.238353</td><td>0.0230111</td><td>2000</td><td>0.215342</td><td>0.261364</td><td>0.000119176</td></tr><tr><th>6</th><td>100</td><td>25</td><td>0.306647</td><td>0.0250283</td><td>2500</td><td>0.281619</td><td>0.331675</td><td>0.000122659</td></tr><tr><th>7</th><td>1000</td><td>2</td><td>0.0600387</td><td>0.000777018</td><td>2000</td><td>0.0592617</td><td>0.0608157</td><td>3.00194e-5</td></tr><tr><th>8</th><td>1000</td><td>5</td><td>0.0740233</td><td>0.000618374</td><td>5000</td><td>0.0734049</td><td>0.0746417</td><td>1.48047e-5</td></tr><tr><th>9</th><td>1000</td><td>10</td><td>0.0958865</td><td>0.00125168</td><td>10000</td><td>0.0946349</td><td>0.0971382</td><td>9.58865e-6</td></tr><tr><th>10</th><td>1000</td><td>15</td><td>0.112283</td><td>0.00228506</td><td>15000</td><td>0.109998</td><td>0.114568</td><td>7.48554e-6</td></tr><tr><th>11</th><td>1000</td><td>20</td><td>0.153305</td><td>0.0119071</td><td>20000</td><td>0.141398</td><td>0.165213</td><td>7.66527e-6</td></tr><tr><th>12</th><td>1000</td><td>25</td><td>0.152999</td><td>0.00340043</td><td>25000</td><td>0.149599</td><td>0.156399</td><td>6.11996e-6</td></tr><tr><th>13</th><td>10000</td><td>2</td><td>0.201364</td><td>0.00157819</td><td>20000</td><td>0.199786</td><td>0.202942</td><td>1.00682e-5</td></tr><tr><th>14</th><td>10000</td><td>5</td><td>0.271014</td><td>0.00168195</td><td>50000</td><td>0.269332</td><td>0.272696</td><td>5.42028e-6</td></tr><tr><th>15</th><td>10000</td><td>10</td><td>0.358159</td><td>0.00210348</td><td>100000</td><td>0.356056</td><td>0.360263</td><td>3.58159e-6</td></tr><tr><th>16</th><td>10000</td><td>15</td><td>0.447491</td><td>0.00409543</td><td>150000</td><td>0.443395</td><td>0.451586</td><td>2.98327e-6</td></tr><tr><th>17</th><td>10000</td><td>20</td><td>0.543382</td><td>0.00477358</td><td>200000</td><td>0.538609</td><td>0.548156</td><td>2.71691e-6</td></tr><tr><th>18</th><td>10000</td><td>25</td><td>0.703264</td><td>0.00770316</td><td>250000</td><td>0.695561</td><td>0.710968</td><td>2.81306e-6</td></tr></tbody></table></div>"
      ],
      "text/latex": [
       "\\begin{tabular}{r|cccccccc}\n",
       "\t& samplesize & obssize & fittime & se & nobs & fitmin & fitmax & perobsratio\\\\\n",
       "\t\\hline\n",
       "\t& String & String & Float64 & Float64 & Int64 & Float64 & Float64 & Float64\\\\\n",
       "\t\\hline\n",
       "\t1 & 100 & 2 & 0.0573285 & 0.0008343 & 200 & 0.0564942 & 0.0581628 & 0.000286642 \\\\\n",
       "\t2 & 100 & 5 & 0.0690881 & 0.00175397 & 500 & 0.0673341 & 0.070842 & 0.000138176 \\\\\n",
       "\t3 & 100 & 10 & 0.111848 & 0.00801667 & 1000 & 0.103832 & 0.119865 & 0.000111848 \\\\\n",
       "\t4 & 100 & 15 & 0.214357 & 0.0214852 & 1500 & 0.192872 & 0.235842 & 0.000142905 \\\\\n",
       "\t5 & 100 & 20 & 0.238353 & 0.0230111 & 2000 & 0.215342 & 0.261364 & 0.000119176 \\\\\n",
       "\t6 & 100 & 25 & 0.306647 & 0.0250283 & 2500 & 0.281619 & 0.331675 & 0.000122659 \\\\\n",
       "\t7 & 1000 & 2 & 0.0600387 & 0.000777018 & 2000 & 0.0592617 & 0.0608157 & 3.00194e-5 \\\\\n",
       "\t8 & 1000 & 5 & 0.0740233 & 0.000618374 & 5000 & 0.0734049 & 0.0746417 & 1.48047e-5 \\\\\n",
       "\t9 & 1000 & 10 & 0.0958865 & 0.00125168 & 10000 & 0.0946349 & 0.0971382 & 9.58865e-6 \\\\\n",
       "\t10 & 1000 & 15 & 0.112283 & 0.00228506 & 15000 & 0.109998 & 0.114568 & 7.48554e-6 \\\\\n",
       "\t11 & 1000 & 20 & 0.153305 & 0.0119071 & 20000 & 0.141398 & 0.165213 & 7.66527e-6 \\\\\n",
       "\t12 & 1000 & 25 & 0.152999 & 0.00340043 & 25000 & 0.149599 & 0.156399 & 6.11996e-6 \\\\\n",
       "\t13 & 10000 & 2 & 0.201364 & 0.00157819 & 20000 & 0.199786 & 0.202942 & 1.00682e-5 \\\\\n",
       "\t14 & 10000 & 5 & 0.271014 & 0.00168195 & 50000 & 0.269332 & 0.272696 & 5.42028e-6 \\\\\n",
       "\t15 & 10000 & 10 & 0.358159 & 0.00210348 & 100000 & 0.356056 & 0.360263 & 3.58159e-6 \\\\\n",
       "\t16 & 10000 & 15 & 0.447491 & 0.00409543 & 150000 & 0.443395 & 0.451586 & 2.98327e-6 \\\\\n",
       "\t17 & 10000 & 20 & 0.543382 & 0.00477358 & 200000 & 0.538609 & 0.548156 & 2.71691e-6 \\\\\n",
       "\t18 & 10000 & 25 & 0.703264 & 0.00770316 & 250000 & 0.695561 & 0.710968 & 2.81306e-6 \\\\\n",
       "\\end{tabular}\n"
      ],
      "text/plain": [
       "\u001b[1m18×8 DataFrame\u001b[0m\n",
       "\u001b[1m Row \u001b[0m│\u001b[1m samplesize \u001b[0m\u001b[1m obssize \u001b[0m\u001b[1m fittime   \u001b[0m\u001b[1m se          \u001b[0m\u001b[1m nobs   \u001b[0m\u001b[1m fitmin    \u001b[0m\u001b[1m fitmax \u001b[0m ⋯\n",
       "\u001b[1m     \u001b[0m│\u001b[90m String     \u001b[0m\u001b[90m String  \u001b[0m\u001b[90m Float64   \u001b[0m\u001b[90m Float64     \u001b[0m\u001b[90m Int64  \u001b[0m\u001b[90m Float64   \u001b[0m\u001b[90m Float64\u001b[0m ⋯\n",
       "─────┼──────────────────────────────────────────────────────────────────────────\n",
       "   1 │ 100         2        0.0573285  0.0008343       200  0.0564942  0.05816 ⋯\n",
       "   2 │ 100         5        0.0690881  0.00175397      500  0.0673341  0.07084\n",
       "   3 │ 100         10       0.111848   0.00801667     1000  0.103832   0.11986\n",
       "   4 │ 100         15       0.214357   0.0214852      1500  0.192872   0.23584\n",
       "   5 │ 100         20       0.238353   0.0230111      2000  0.215342   0.26136 ⋯\n",
       "   6 │ 100         25       0.306647   0.0250283      2500  0.281619   0.33167\n",
       "   7 │ 1000        2        0.0600387  0.000777018    2000  0.0592617  0.06081\n",
       "   8 │ 1000        5        0.0740233  0.000618374    5000  0.0734049  0.07464\n",
       "   9 │ 1000        10       0.0958865  0.00125168    10000  0.0946349  0.09713 ⋯\n",
       "  10 │ 1000        15       0.112283   0.00228506    15000  0.109998   0.11456\n",
       "  11 │ 1000        20       0.153305   0.0119071     20000  0.141398   0.16521\n",
       "  12 │ 1000        25       0.152999   0.00340043    25000  0.149599   0.15639\n",
       "  13 │ 10000       2        0.201364   0.00157819    20000  0.199786   0.20294 ⋯\n",
       "  14 │ 10000       5        0.271014   0.00168195    50000  0.269332   0.27269\n",
       "  15 │ 10000       10       0.358159   0.00210348   100000  0.356056   0.36026\n",
       "  16 │ 10000       15       0.447491   0.00409543   150000  0.443395   0.45158\n",
       "  17 │ 10000       20       0.543382   0.00477358   200000  0.538609   0.54815 ⋯\n",
       "  18 │ 10000       25       0.703264   0.00770316   250000  0.695561   0.71096\n",
       "\u001b[36m                                                               2 columns omitted\u001b[0m"
      ]
     },
     "execution_count": 5,
     "metadata": {},
     "output_type": "execute_result"
    }
   ],
   "source": [
    "#simulation parameters\n",
    "@info \"making results table\"\n",
    "sample_sizes = repeat(string.(samplesizes), inner = nsims * length(ns))\n",
    "obs_sizes = repeat(string.(ns), inner = nsims, outer = length(samplesizes))\n",
    "\n",
    "msedf = DataFrame(βmse = βMseresult, σ2mse = σ2MseResult, ρmse = ρMseResult,\n",
    "    samplesize = sample_sizes, obssize = obs_sizes, fittimes = fittimes)\n",
    "timedf = combine(groupby(msedf, [:samplesize, :obssize]), :fittimes => mean => :fittime,\n",
    "    :fittimes => x -> (std(x)/sqrt(length(x))))\n",
    "rename!(timedf, Dict(:fittimes_function => \"se\"))\n",
    "timedf[!, :nobs] = Meta.parse.(timedf[!, :samplesize]) .* Meta.parse.(timedf[!, :obssize])\n",
    "timedf[!, :fitmin] = timedf[!, :fittime] - timedf[!, :se]\n",
    "timedf[!, :fitmax] = timedf[!, :fittime] + timedf[!, :se]\n",
    "timedf[!, :perobsratio] = timedf[!, :fittime] ./ timedf[!, :nobs]\n",
    "timedf"
   ]
  },
  {
   "cell_type": "code",
   "execution_count": 6,
   "metadata": {},
   "outputs": [
    {
     "data": {
      "text/html": [
       "<div class=\"data-frame\"><p>18 rows × 6 columns (omitted printing of 1 columns)</p><table class=\"data-frame\"><thead><tr><th></th><th>people_obs</th><th>β1</th><th>β2</th><th>β3</th><th>ρ</th></tr><tr><th></th><th title=\"String\">String</th><th title=\"Tuple{Float64, Float64}\">Tuple…</th><th title=\"Tuple{Float64, Float64}\">Tuple…</th><th title=\"Tuple{Float64, Float64}\">Tuple…</th><th title=\"Tuple{Float64, Float64}\">Tuple…</th></tr></thead><tbody><tr><th>1</th><td>N: 100  ni: 2</td><td>(0.48, 0.0502117)</td><td>(0.65, 0.0479372)</td><td>(0.65, 0.0479372)</td><td>(0.99, 0.01)</td></tr><tr><th>2</th><td>N: 100  ni: 5</td><td>(0.43, 0.049757)</td><td>(0.77, 0.0422953)</td><td>(0.72, 0.0451261)</td><td>(0.9, 0.0301511)</td></tr><tr><th>3</th><td>N: 100  ni: 10</td><td>(0.54, 0.0500908)</td><td>(0.91, 0.0287623)</td><td>(0.8, 0.0402015)</td><td>(0.89, 0.0314466)</td></tr><tr><th>4</th><td>N: 100  ni: 15</td><td>(0.57, 0.049757)</td><td>(0.85, 0.035887)</td><td>(0.89, 0.0314466)</td><td>(0.83, 0.0377525)</td></tr><tr><th>5</th><td>N: 100  ni: 20</td><td>(0.51, 0.0502418)</td><td>(0.74, 0.0440844)</td><td>(0.82, 0.0386123)</td><td>(0.87, 0.0337998)</td></tr><tr><th>6</th><td>N: 100  ni: 25</td><td>(0.41, 0.0494311)</td><td>(0.81, 0.0394277)</td><td>(0.83, 0.0377525)</td><td>(0.89, 0.0314466)</td></tr><tr><th>7</th><td>N: 1000  ni: 2</td><td>(0.39, 0.0490207)</td><td>(0.79, 0.040936)</td><td>(0.64, 0.0482418)</td><td>(0.92, 0.027266)</td></tr><tr><th>8</th><td>N: 1000  ni: 5</td><td>(0.44, 0.0498888)</td><td>(0.81, 0.0394277)</td><td>(0.76, 0.0429235)</td><td>(0.95, 0.0219043)</td></tr><tr><th>9</th><td>N: 1000  ni: 10</td><td>(0.39, 0.0490207)</td><td>(0.88, 0.0326599)</td><td>(0.85, 0.035887)</td><td>(0.88, 0.0326599)</td></tr><tr><th>10</th><td>N: 1000  ni: 15</td><td>(0.29, 0.0456048)</td><td>(0.76, 0.0429235)</td><td>(0.87, 0.0337998)</td><td>(0.95, 0.0219043)</td></tr><tr><th>11</th><td>N: 1000  ni: 20</td><td>(0.41, 0.0494311)</td><td>(0.8, 0.0402015)</td><td>(0.86, 0.0348735)</td><td>(0.91, 0.0287623)</td></tr><tr><th>12</th><td>N: 1000  ni: 25</td><td>(0.37, 0.0485237)</td><td>(0.81, 0.0394277)</td><td>(0.83, 0.0377525)</td><td>(0.96, 0.0196946)</td></tr><tr><th>13</th><td>N: 10000  ni: 2</td><td>(0.48, 0.0502117)</td><td>(0.86, 0.0348735)</td><td>(0.77, 0.0422953)</td><td>(0.94, 0.0238683)</td></tr><tr><th>14</th><td>N: 10000  ni: 5</td><td>(0.53, 0.0501614)</td><td>(0.86, 0.0348735)</td><td>(0.75, 0.0435194)</td><td>(0.9, 0.0301511)</td></tr><tr><th>15</th><td>N: 10000  ni: 10</td><td>(0.41, 0.0494311)</td><td>(0.81, 0.0394277)</td><td>(0.79, 0.040936)</td><td>(0.91, 0.0287623)</td></tr><tr><th>16</th><td>N: 10000  ni: 15</td><td>(0.22, 0.0416333)</td><td>(0.85, 0.035887)</td><td>(0.87, 0.0337998)</td><td>(0.93, 0.0256432)</td></tr><tr><th>17</th><td>N: 10000  ni: 20</td><td>(0.29, 0.0456048)</td><td>(0.8, 0.0402015)</td><td>(0.86, 0.0348735)</td><td>(0.95, 0.0219043)</td></tr><tr><th>18</th><td>N: 10000  ni: 25</td><td>(0.25, 0.0435194)</td><td>(0.83, 0.0377525)</td><td>(0.9, 0.0301511)</td><td>(0.94, 0.0238683)</td></tr></tbody></table></div>"
      ],
      "text/latex": [
       "\\begin{tabular}{r|cccccc}\n",
       "\t& people\\_obs & β1 & β2 & β3 & ρ & \\\\\n",
       "\t\\hline\n",
       "\t& String & Tuple… & Tuple… & Tuple… & Tuple… & \\\\\n",
       "\t\\hline\n",
       "\t1 & N: 100  ni: 2 & (0.48, 0.0502117) & (0.65, 0.0479372) & (0.65, 0.0479372) & (0.99, 0.01) & $\\dots$ \\\\\n",
       "\t2 & N: 100  ni: 5 & (0.43, 0.049757) & (0.77, 0.0422953) & (0.72, 0.0451261) & (0.9, 0.0301511) & $\\dots$ \\\\\n",
       "\t3 & N: 100  ni: 10 & (0.54, 0.0500908) & (0.91, 0.0287623) & (0.8, 0.0402015) & (0.89, 0.0314466) & $\\dots$ \\\\\n",
       "\t4 & N: 100  ni: 15 & (0.57, 0.049757) & (0.85, 0.035887) & (0.89, 0.0314466) & (0.83, 0.0377525) & $\\dots$ \\\\\n",
       "\t5 & N: 100  ni: 20 & (0.51, 0.0502418) & (0.74, 0.0440844) & (0.82, 0.0386123) & (0.87, 0.0337998) & $\\dots$ \\\\\n",
       "\t6 & N: 100  ni: 25 & (0.41, 0.0494311) & (0.81, 0.0394277) & (0.83, 0.0377525) & (0.89, 0.0314466) & $\\dots$ \\\\\n",
       "\t7 & N: 1000  ni: 2 & (0.39, 0.0490207) & (0.79, 0.040936) & (0.64, 0.0482418) & (0.92, 0.027266) & $\\dots$ \\\\\n",
       "\t8 & N: 1000  ni: 5 & (0.44, 0.0498888) & (0.81, 0.0394277) & (0.76, 0.0429235) & (0.95, 0.0219043) & $\\dots$ \\\\\n",
       "\t9 & N: 1000  ni: 10 & (0.39, 0.0490207) & (0.88, 0.0326599) & (0.85, 0.035887) & (0.88, 0.0326599) & $\\dots$ \\\\\n",
       "\t10 & N: 1000  ni: 15 & (0.29, 0.0456048) & (0.76, 0.0429235) & (0.87, 0.0337998) & (0.95, 0.0219043) & $\\dots$ \\\\\n",
       "\t11 & N: 1000  ni: 20 & (0.41, 0.0494311) & (0.8, 0.0402015) & (0.86, 0.0348735) & (0.91, 0.0287623) & $\\dots$ \\\\\n",
       "\t12 & N: 1000  ni: 25 & (0.37, 0.0485237) & (0.81, 0.0394277) & (0.83, 0.0377525) & (0.96, 0.0196946) & $\\dots$ \\\\\n",
       "\t13 & N: 10000  ni: 2 & (0.48, 0.0502117) & (0.86, 0.0348735) & (0.77, 0.0422953) & (0.94, 0.0238683) & $\\dots$ \\\\\n",
       "\t14 & N: 10000  ni: 5 & (0.53, 0.0501614) & (0.86, 0.0348735) & (0.75, 0.0435194) & (0.9, 0.0301511) & $\\dots$ \\\\\n",
       "\t15 & N: 10000  ni: 10 & (0.41, 0.0494311) & (0.81, 0.0394277) & (0.79, 0.040936) & (0.91, 0.0287623) & $\\dots$ \\\\\n",
       "\t16 & N: 10000  ni: 15 & (0.22, 0.0416333) & (0.85, 0.035887) & (0.87, 0.0337998) & (0.93, 0.0256432) & $\\dots$ \\\\\n",
       "\t17 & N: 10000  ni: 20 & (0.29, 0.0456048) & (0.8, 0.0402015) & (0.86, 0.0348735) & (0.95, 0.0219043) & $\\dots$ \\\\\n",
       "\t18 & N: 10000  ni: 25 & (0.25, 0.0435194) & (0.83, 0.0377525) & (0.9, 0.0301511) & (0.94, 0.0238683) & $\\dots$ \\\\\n",
       "\\end{tabular}\n"
      ],
      "text/plain": [
       "\u001b[1m18×6 DataFrame\u001b[0m\n",
       "\u001b[1m Row \u001b[0m│\u001b[1m people_obs       \u001b[0m\u001b[1m β1                \u001b[0m\u001b[1m β2                \u001b[0m\u001b[1m β3             \u001b[0m ⋯\n",
       "\u001b[1m     \u001b[0m│\u001b[90m String           \u001b[0m\u001b[90m Tuple…            \u001b[0m\u001b[90m Tuple…            \u001b[0m\u001b[90m Tuple…         \u001b[0m ⋯\n",
       "─────┼──────────────────────────────────────────────────────────────────────────\n",
       "   1 │ N: 100  ni: 2     (0.48, 0.0502117)  (0.65, 0.0479372)  (0.65, 0.047937 ⋯\n",
       "   2 │ N: 100  ni: 5     (0.43, 0.049757)   (0.77, 0.0422953)  (0.72, 0.045126\n",
       "   3 │ N: 100  ni: 10    (0.54, 0.0500908)  (0.91, 0.0287623)  (0.8, 0.0402015\n",
       "   4 │ N: 100  ni: 15    (0.57, 0.049757)   (0.85, 0.035887)   (0.89, 0.031446\n",
       "   5 │ N: 100  ni: 20    (0.51, 0.0502418)  (0.74, 0.0440844)  (0.82, 0.038612 ⋯\n",
       "   6 │ N: 100  ni: 25    (0.41, 0.0494311)  (0.81, 0.0394277)  (0.83, 0.037752\n",
       "   7 │ N: 1000  ni: 2    (0.39, 0.0490207)  (0.79, 0.040936)   (0.64, 0.048241\n",
       "   8 │ N: 1000  ni: 5    (0.44, 0.0498888)  (0.81, 0.0394277)  (0.76, 0.042923\n",
       "   9 │ N: 1000  ni: 10   (0.39, 0.0490207)  (0.88, 0.0326599)  (0.85, 0.035887 ⋯\n",
       "  10 │ N: 1000  ni: 15   (0.29, 0.0456048)  (0.76, 0.0429235)  (0.87, 0.033799\n",
       "  11 │ N: 1000  ni: 20   (0.41, 0.0494311)  (0.8, 0.0402015)   (0.86, 0.034873\n",
       "  12 │ N: 1000  ni: 25   (0.37, 0.0485237)  (0.81, 0.0394277)  (0.83, 0.037752\n",
       "  13 │ N: 10000  ni: 2   (0.48, 0.0502117)  (0.86, 0.0348735)  (0.77, 0.042295 ⋯\n",
       "  14 │ N: 10000  ni: 5   (0.53, 0.0501614)  (0.86, 0.0348735)  (0.75, 0.043519\n",
       "  15 │ N: 10000  ni: 10  (0.41, 0.0494311)  (0.81, 0.0394277)  (0.79, 0.040936\n",
       "  16 │ N: 10000  ni: 15  (0.22, 0.0416333)  (0.85, 0.035887)   (0.87, 0.033799\n",
       "  17 │ N: 10000  ni: 20  (0.29, 0.0456048)  (0.8, 0.0402015)   (0.86, 0.034873 ⋯\n",
       "  18 │ N: 10000  ni: 25  (0.25, 0.0435194)  (0.83, 0.0377525)  (0.9, 0.0301511\n",
       "\u001b[36m                                                               3 columns omitted\u001b[0m"
      ]
     },
     "execution_count": 6,
     "metadata": {},
     "output_type": "execute_result"
    }
   ],
   "source": [
    "######  supplementary table s1\n",
    "using Random, DataFrames, DelimitedFiles, Statistics\n",
    "import StatsBase: sem\n",
    "\n",
    "βρσ2coverage = readdlm(\"beta_rho_sigma_coverage_multivariate_poisson_AR$(nsims)reps_sim.csv\", ',')\n",
    "\n",
    "m = 2\n",
    "\n",
    "covdf = DataFrame(Matrix(transpose(βρσ2coverage)), :auto)\n",
    "rename!(covdf, Symbol.([[\"β$i\" for i in 1:p]; [\"ρ\"]; [\"σ2\"]]))\n",
    "covdf[!, :samplesize] = sample_sizes\n",
    "covdf[!, :obssize] = obs_sizes\n",
    "first(covdf, 10)\n",
    "\n",
    "row_stats = [[(mean(col), sem(col)) for col = eachcol(d[!, 1:end-2])] for d = groupby(covdf, [:samplesize; :obssize])]\n",
    "df = DataFrame(row_stats, :auto)\n",
    "ss_obs = unique(\"N: \" .* sample_sizes .* \"  ni: \" .* obs_sizes)\n",
    "rename!(df, Symbol.(ss_obs))\n",
    "covdfdisplay = DataFrame([[names(df)]; collect.(eachrow(df))], \n",
    "    [:people_obs; Symbol.([[\"β$i\" for i in 1:p]; [\"ρ\"]; [\"σ2\"]])])\n",
    "# deletecols!(covdfdisplay, p + 2)\n",
    "covdfdisplay\n"
   ]
  },
  {
   "cell_type": "code",
   "execution_count": 7,
   "metadata": {},
   "outputs": [
    {
     "data": {
      "text/html": [
       "<div class=\"data-frame\"><p>3,520 rows × 5 columns</p><table class=\"data-frame\"><thead><tr><th></th><th>mse</th><th>obssize</th><th>samplesize</th><th>parameters</th><th>robust</th></tr><tr><th></th><th title=\"Float64\">Float64</th><th title=\"String\">String</th><th title=\"String\">String</th><th title=\"String\">String</th><th title=\"String\">String</th></tr></thead><tbody><tr><th>1</th><td>0.00329795</td><td>2</td><td>100</td><td>beta</td><td>Poisson AR with LogLink</td></tr><tr><th>2</th><td>0.000413822</td><td>2</td><td>100</td><td>beta</td><td>Poisson AR with LogLink</td></tr><tr><th>3</th><td>0.00468774</td><td>2</td><td>100</td><td>beta</td><td>Poisson AR with LogLink</td></tr><tr><th>4</th><td>0.0029853</td><td>2</td><td>100</td><td>beta</td><td>Poisson AR with LogLink</td></tr><tr><th>5</th><td>0.000582128</td><td>2</td><td>100</td><td>beta</td><td>Poisson AR with LogLink</td></tr><tr><th>6</th><td>0.000694845</td><td>2</td><td>100</td><td>beta</td><td>Poisson AR with LogLink</td></tr><tr><th>7</th><td>0.00170186</td><td>2</td><td>100</td><td>beta</td><td>Poisson AR with LogLink</td></tr><tr><th>8</th><td>0.000276654</td><td>2</td><td>100</td><td>beta</td><td>Poisson AR with LogLink</td></tr><tr><th>9</th><td>0.0020291</td><td>2</td><td>100</td><td>beta</td><td>Poisson AR with LogLink</td></tr><tr><th>10</th><td>0.00400199</td><td>2</td><td>100</td><td>beta</td><td>Poisson AR with LogLink</td></tr><tr><th>11</th><td>0.000320987</td><td>2</td><td>100</td><td>beta</td><td>Poisson AR with LogLink</td></tr><tr><th>12</th><td>0.00237275</td><td>2</td><td>100</td><td>beta</td><td>Poisson AR with LogLink</td></tr><tr><th>13</th><td>0.00134084</td><td>2</td><td>100</td><td>beta</td><td>Poisson AR with LogLink</td></tr><tr><th>14</th><td>0.00146402</td><td>2</td><td>100</td><td>beta</td><td>Poisson AR with LogLink</td></tr><tr><th>15</th><td>0.00333369</td><td>2</td><td>100</td><td>beta</td><td>Poisson AR with LogLink</td></tr><tr><th>16</th><td>0.00372138</td><td>2</td><td>100</td><td>beta</td><td>Poisson AR with LogLink</td></tr><tr><th>17</th><td>0.0362268</td><td>2</td><td>100</td><td>beta</td><td>Poisson AR with LogLink</td></tr><tr><th>18</th><td>0.00548653</td><td>2</td><td>100</td><td>beta</td><td>Poisson AR with LogLink</td></tr><tr><th>19</th><td>0.00199469</td><td>2</td><td>100</td><td>beta</td><td>Poisson AR with LogLink</td></tr><tr><th>20</th><td>0.000660671</td><td>2</td><td>100</td><td>beta</td><td>Poisson AR with LogLink</td></tr><tr><th>21</th><td>0.000818216</td><td>2</td><td>100</td><td>beta</td><td>Poisson AR with LogLink</td></tr><tr><th>22</th><td>0.0155089</td><td>2</td><td>100</td><td>beta</td><td>Poisson AR with LogLink</td></tr><tr><th>23</th><td>0.00484534</td><td>2</td><td>100</td><td>beta</td><td>Poisson AR with LogLink</td></tr><tr><th>24</th><td>1.58647e-5</td><td>2</td><td>100</td><td>beta</td><td>Poisson AR with LogLink</td></tr><tr><th>25</th><td>0.00303394</td><td>2</td><td>100</td><td>beta</td><td>Poisson AR with LogLink</td></tr><tr><th>26</th><td>0.00398887</td><td>2</td><td>100</td><td>beta</td><td>Poisson AR with LogLink</td></tr><tr><th>27</th><td>0.0113308</td><td>2</td><td>100</td><td>beta</td><td>Poisson AR with LogLink</td></tr><tr><th>28</th><td>0.00411136</td><td>2</td><td>100</td><td>beta</td><td>Poisson AR with LogLink</td></tr><tr><th>29</th><td>0.0105339</td><td>2</td><td>100</td><td>beta</td><td>Poisson AR with LogLink</td></tr><tr><th>30</th><td>0.00208462</td><td>2</td><td>100</td><td>beta</td><td>Poisson AR with LogLink</td></tr><tr><th>&vellip;</th><td>&vellip;</td><td>&vellip;</td><td>&vellip;</td><td>&vellip;</td><td>&vellip;</td></tr></tbody></table></div>"
      ],
      "text/latex": [
       "\\begin{tabular}{r|ccccc}\n",
       "\t& mse & obssize & samplesize & parameters & robust\\\\\n",
       "\t\\hline\n",
       "\t& Float64 & String & String & String & String\\\\\n",
       "\t\\hline\n",
       "\t1 & 0.00329795 & 2 & 100 & beta & Poisson AR with LogLink \\\\\n",
       "\t2 & 0.000413822 & 2 & 100 & beta & Poisson AR with LogLink \\\\\n",
       "\t3 & 0.00468774 & 2 & 100 & beta & Poisson AR with LogLink \\\\\n",
       "\t4 & 0.0029853 & 2 & 100 & beta & Poisson AR with LogLink \\\\\n",
       "\t5 & 0.000582128 & 2 & 100 & beta & Poisson AR with LogLink \\\\\n",
       "\t6 & 0.000694845 & 2 & 100 & beta & Poisson AR with LogLink \\\\\n",
       "\t7 & 0.00170186 & 2 & 100 & beta & Poisson AR with LogLink \\\\\n",
       "\t8 & 0.000276654 & 2 & 100 & beta & Poisson AR with LogLink \\\\\n",
       "\t9 & 0.0020291 & 2 & 100 & beta & Poisson AR with LogLink \\\\\n",
       "\t10 & 0.00400199 & 2 & 100 & beta & Poisson AR with LogLink \\\\\n",
       "\t11 & 0.000320987 & 2 & 100 & beta & Poisson AR with LogLink \\\\\n",
       "\t12 & 0.00237275 & 2 & 100 & beta & Poisson AR with LogLink \\\\\n",
       "\t13 & 0.00134084 & 2 & 100 & beta & Poisson AR with LogLink \\\\\n",
       "\t14 & 0.00146402 & 2 & 100 & beta & Poisson AR with LogLink \\\\\n",
       "\t15 & 0.00333369 & 2 & 100 & beta & Poisson AR with LogLink \\\\\n",
       "\t16 & 0.00372138 & 2 & 100 & beta & Poisson AR with LogLink \\\\\n",
       "\t17 & 0.0362268 & 2 & 100 & beta & Poisson AR with LogLink \\\\\n",
       "\t18 & 0.00548653 & 2 & 100 & beta & Poisson AR with LogLink \\\\\n",
       "\t19 & 0.00199469 & 2 & 100 & beta & Poisson AR with LogLink \\\\\n",
       "\t20 & 0.000660671 & 2 & 100 & beta & Poisson AR with LogLink \\\\\n",
       "\t21 & 0.000818216 & 2 & 100 & beta & Poisson AR with LogLink \\\\\n",
       "\t22 & 0.0155089 & 2 & 100 & beta & Poisson AR with LogLink \\\\\n",
       "\t23 & 0.00484534 & 2 & 100 & beta & Poisson AR with LogLink \\\\\n",
       "\t24 & 1.58647e-5 & 2 & 100 & beta & Poisson AR with LogLink \\\\\n",
       "\t25 & 0.00303394 & 2 & 100 & beta & Poisson AR with LogLink \\\\\n",
       "\t26 & 0.00398887 & 2 & 100 & beta & Poisson AR with LogLink \\\\\n",
       "\t27 & 0.0113308 & 2 & 100 & beta & Poisson AR with LogLink \\\\\n",
       "\t28 & 0.00411136 & 2 & 100 & beta & Poisson AR with LogLink \\\\\n",
       "\t29 & 0.0105339 & 2 & 100 & beta & Poisson AR with LogLink \\\\\n",
       "\t30 & 0.00208462 & 2 & 100 & beta & Poisson AR with LogLink \\\\\n",
       "\t$\\dots$ & $\\dots$ & $\\dots$ & $\\dots$ & $\\dots$ & $\\dots$ \\\\\n",
       "\\end{tabular}\n"
      ],
      "text/plain": [
       "\u001b[1m3520×5 DataFrame\u001b[0m\n",
       "\u001b[1m  Row \u001b[0m│\u001b[1m mse         \u001b[0m\u001b[1m obssize \u001b[0m\u001b[1m samplesize \u001b[0m\u001b[1m parameters \u001b[0m\u001b[1m robust                  \u001b[0m\n",
       "\u001b[1m      \u001b[0m│\u001b[90m Float64     \u001b[0m\u001b[90m String  \u001b[0m\u001b[90m String     \u001b[0m\u001b[90m String     \u001b[0m\u001b[90m String                  \u001b[0m\n",
       "──────┼───────────────────────────────────────────────────────────────────────\n",
       "    1 │ 0.00329795   2        100         beta        Poisson AR with LogLink\n",
       "    2 │ 0.000413822  2        100         beta        Poisson AR with LogLink\n",
       "    3 │ 0.00468774   2        100         beta        Poisson AR with LogLink\n",
       "    4 │ 0.0029853    2        100         beta        Poisson AR with LogLink\n",
       "    5 │ 0.000582128  2        100         beta        Poisson AR with LogLink\n",
       "    6 │ 0.000694845  2        100         beta        Poisson AR with LogLink\n",
       "    7 │ 0.00170186   2        100         beta        Poisson AR with LogLink\n",
       "    8 │ 0.000276654  2        100         beta        Poisson AR with LogLink\n",
       "    9 │ 0.0020291    2        100         beta        Poisson AR with LogLink\n",
       "   10 │ 0.00400199   2        100         beta        Poisson AR with LogLink\n",
       "   11 │ 0.000320987  2        100         beta        Poisson AR with LogLink\n",
       "  ⋮   │      ⋮          ⋮         ⋮           ⋮                  ⋮\n",
       " 3511 │ 0.00566225   25       10000       theta       Poisson AR with LogLink\n",
       " 3512 │ 0.00719226   25       10000       theta       Poisson AR with LogLink\n",
       " 3513 │ 0.00736374   25       10000       theta       Poisson AR with LogLink\n",
       " 3514 │ 0.000303999  25       10000       theta       Poisson AR with LogLink\n",
       " 3515 │ 0.00623866   25       10000       theta       Poisson AR with LogLink\n",
       " 3516 │ 0.0063551    25       10000       theta       Poisson AR with LogLink\n",
       " 3517 │ 0.00761163   25       10000       theta       Poisson AR with LogLink\n",
       " 3518 │ 0.000365032  25       10000       theta       Poisson AR with LogLink\n",
       " 3519 │ 5.72538e-5   25       10000       theta       Poisson AR with LogLink\n",
       " 3520 │ 0.00158095   25       10000       theta       Poisson AR with LogLink\n",
       "\u001b[36m                                                             3499 rows omitted\u001b[0m"
      ]
     },
     "execution_count": 7,
     "metadata": {},
     "output_type": "execute_result"
    }
   ],
   "source": [
    "#### \n",
    "#import data and reorganize to create figure\n",
    "using Random, DataFrames, DelimitedFiles, Statistics, RCall, Printf\n",
    "import StatsBase: sem\n",
    "\n",
    "βMseresult_1 = vec(readdlm(\"mse_beta_multivariate_poisson_AR$(nsims)reps_sim.csv\", ','))\n",
    "σ2MseResult_1 = vec(readdlm(\"mse_sigma_multivariate_poisson_AR$(nsims)reps_sim.csv\", ','))\n",
    "ρMseResult_1 = vec(readdlm(\"mse_rho_multivariate_poisson_AR$(nsims)reps_sim.csv\", ','))\n",
    "θMseResult_1 = (σ2MseResult_1 .+ ρMseResult_1) ./ 2\n",
    "βρσ2coverage_1 = readdlm(\"beta_rho_sigma_coverage_multivariate_poisson_AR$(nsims)reps_sim.csv\", ',')\n",
    "\n",
    "samplesizesrobust = samplesizes\n",
    "nsrobust = ns\n",
    "nsimsrobust = nsims\n",
    "\n",
    "# βMseresultnorm = vec(readdlm(\"result_files/mse_beta_normal_normal_lognormal_1000reps_sim.csv\", ','))\n",
    "# τMseresultnorm = vec(readdlm(\"result_files/mse_tau_normal_normal_lognormal_1000reps_sim.csv\", ','))\n",
    "# ΣMseresultnorm = vec(readdlm(\"result_files/mse_Sigma_normal_normal_lognormal_1000reps_sim.csv\", ','))\n",
    "# βτcoveragenorm = readdlm(\"result_files/beta_tau_coverage_5betas_normal_normal_lognormal_1000reps_sim.csv\", ',')\n",
    "\n",
    "\n",
    "# samplesizesnorm = collect(1000:1000:6000)\n",
    "# nsnorm = [10; 25; 50; 100; 1000]\n",
    "# nsimsnorm = 1000\n",
    "\n",
    "p = 3\n",
    "sample_sizesrobust = repeat(string.(samplesizesrobust), inner = nsimsrobust * length(nsrobust))\n",
    "obs_sizesrobust = repeat(string.(nsrobust), inner = nsimsrobust, outer = length(samplesizesrobust))\n",
    "msedfrobust = DataFrame(βmse = βMseresult_1, θMse = θMseResult_1,\n",
    "    samplesize = sample_sizesrobust, obssize = obs_sizesrobust)\n",
    "\n",
    "msedfrobustR = deepcopy(msedfrobust)\n",
    "rename!(msedfrobustR, [\"betamse\"\n",
    "    \"thetamse\"\n",
    "    \"samplesize\"\n",
    " \"obssize\"]);\n",
    "\n",
    "\n",
    "mses = [msedfrobustR[!, :betamse]; msedfrobustR[!, :thetamse]]\n",
    "    # msedfnormR[!, :betamse]; msedfnormR[!, :taumse]; msedfnormR[!, :Sigmamse]]\n",
    "obssize = collect([repeat(msedfrobustR[!, :obssize], 2)]...) # ; repeat(msedfnormR[!, :obssize], 3)]\n",
    "\n",
    "samplesize = collect([repeat(msedfrobustR[!, :samplesize], 2)]...) # ; repeat(msedfnormR[!, :samplesize], 3)]\n",
    "\n",
    "parameters = collect([repeat(string.([:beta, :theta]), inner = nsimsrobust * length(nsrobust) * length(samplesizesrobust))]...)\n",
    "# ; repeat(string.([:beta, :tau, :Sigma]), inner = nsimsnorm * length(nsnorm) * length(samplesizesnorm))]\n",
    "robust = collect([repeat([\"Poisson AR with LogLink\"], 2 * nsimsrobust * length(nsrobust) * length(samplesizesrobust))]...) # ;\n",
    "# repeat([\"Normal Normal Log-Normal\"], 3 * nsimsnorm * length(nsnorm) * length(samplesizesnorm))];\n",
    "\n",
    "msedfR = DataFrame(mse = mses, obssize = obssize, samplesize = samplesize,\n",
    "    parameters = parameters, robust = robust)\n",
    "\n",
    "#5 of the 30,000 simulations did not converge, filter out\n",
    "msedfR = filter(x -> !isnan(x.mse), msedfR)\n",
    "# additionally, there are 5 where an error was not caught so it did not try a differnt solver\n",
    "msedfR = filter(x -> x.mse < 40000, msedfR)"
   ]
  },
  {
   "cell_type": "code",
   "execution_count": 8,
   "metadata": {},
   "outputs": [
    {
     "name": "stderr",
     "output_type": "stream",
     "text": [
      "┌ Warning: RCall.jl: Warning: package ‘scales’ was built under R version 4.0.2\n",
      "└ @ RCall /Users/sarahji/.julia/packages/RCall/6kphM/src/io.jl:172\n",
      "┌ Warning: RCall.jl: Warning: package ‘ggplot2’ was built under R version 4.0.2\n",
      "└ @ RCall /Users/sarahji/.julia/packages/RCall/6kphM/src/io.jl:172\n",
      "┌ Warning: RCall.jl: Warning: package ‘data.table’ was built under R version 4.0.2\n",
      "└ @ RCall /Users/sarahji/.julia/packages/RCall/6kphM/src/io.jl:172\n"
     ]
    },
    {
     "data": {
      "image/png": "[encoded data removed]"
     },
     "metadata": {},
     "output_type": "display_data"
    },
    {
     "data": {
      "text/plain": [
       "RObject{VecSxp}\n"
      ]
     },
     "execution_count": 8,
     "metadata": {},
     "output_type": "execute_result"
    }
   ],
   "source": [
    "### working on figure next\n",
    "@rput msedfR\n",
    "\n",
    "R\"\"\"\n",
    "library(scales)\n",
    "library(ggplot2)\n",
    "library(data.table)\n",
    "\n",
    "msedfR = data.table(msedfR)\n",
    "\n",
    "msedfR[parameters == \"beta\",y_min := 10^-8]\n",
    "msedfR[parameters == \"beta\",y_max := 10^-1]\n",
    "msedfR[parameters == \"theta\",y_min := 10^-5]\n",
    "msedfR[parameters == \"theta\",y_max := 10^1]\n",
    "\n",
    "#msedfR[parameters == \"beta\",y_min := 10^-8]\n",
    "#msedfR[parameters == \"beta\",y_max := 10^-2]\n",
    "#msedfR[parameters == \"tau\",y_min := 10^-8]\n",
    "#msedfR[parameters == \"tau\",y_max := 10^-2]\n",
    "#msedfR[parameters == \"Sigma\",y_min := 10^-5]\n",
    "#msedfR[parameters == \"Sigma\",y_max := 10^-2]\n",
    "\n",
    "\n",
    "msedfR$obssize = factor(msedfR$obssize, levels = c('2', '5', '10', '15', '20', '25'))\n",
    "msedfR$samplesize = factor(msedfR$samplesize, levels = c('100', '1000', '10000'))\n",
    "msedfR$parameters = factor(msedfR$parameters, levels = c('beta', 'theta'), labels = c(beta = expression(hat(bold(beta))), theta = expression(hat(bold(theta)))))\n",
    "msedfR$robust = factor(msedfR$robust, levels = c('Poisson AR with LogLink'),\n",
    "    labels = c(expression(paste(\"Poisson AR with LogLink\")))) # , expression(paste(\"MvT Gamma Inverse-Gamma\"))))\n",
    "\n",
    "#mseplot <- ggplot(msedfR[msedfR$mse < 10^0, ], aes(x=samplesize, y=mse, fill=obssize)) + \n",
    "mseplot = ggplot(msedfR[msedfR$mse < 10^3, ], aes(x=samplesize, y=mse, fill=obssize)) + \n",
    "  #geom_boxplot(outlier.size = 0.0, outlier.alpha = 0) +\n",
    "  geom_boxplot(outlier.size = 0.25) +\n",
    "#    geom_violin() +\n",
    "    facet_grid(parameters ~ robust, labeller = label_parsed, scales = \"free_y\") +\n",
    "  theme(legend.position=\"right\", legend.key = element_blank(), axis.text.x = element_text(angle=0, size=30),\n",
    "        axis.text.y = element_text(angle=0, size=30), axis.title.x = element_text(size = 30, face=\"bold\"), \n",
    "        axis.title.y = element_text(size = 40, face=\"bold\"), legend.title = element_text(size = 30, face=\"bold\"),\n",
    "        panel.grid.major = element_blank(), panel.grid.minor = element_blank(),\n",
    "        legend.text=element_text(size=30), panel.background = element_rect(fill = NA, color = \"black\"),\n",
    "        #panel.background = element_blank(), #panel.border = element_blank(),\n",
    "        axis.line = element_line(color = 'black',size=0.3), plot.title = element_text(hjust = 0.5),\n",
    "        strip.background = element_rect(colour=\"black\", fill=\"white\"), strip.text.y = element_text(angle = 0, size=75, face=\"bold\"),\n",
    "        strip.text.x = element_text(size=25)) + \n",
    "  scale_fill_manual(values = c(\"#c85f55\",\n",
    "\"#a964bf\",\n",
    "\"#8db352\",\n",
    "\"#fa7300\",\n",
    "\"#05aec0\",\n",
    "\"#ff1493\")) +\n",
    "#scale_y_log10(breaks = scales::trans_breaks(\"log10\", function(x) 10^x)) +\n",
    "#scale_y_log10(breaks = 10^(-8:8), limit=c(10^-8, 10^2)) + \n",
    "scale_y_log10(breaks = 10^seq(-10, 10, 2), labels=trans_format(\"log10\", math_format(10^.x))) + #, limit=c(10^-8, 10^2)) +\n",
    "  labs(x = \"Sample Size\", y = \"MSE of Parameter Estimates\", fill = \"Cluster Size\") +\n",
    "geom_blank(aes(y = y_max)) + \n",
    "geom_blank(aes(y = y_min)) \n",
    "\n",
    "\"\"\""
   ]
  },
  {
   "cell_type": "code",
   "execution_count": 9,
   "metadata": {},
   "outputs": [
    {
     "data": {
      "text/plain": [
       "RObject{StrSxp}\n",
       "[1] \"updated_msefacetplot_Poisson_AR.png\"\n"
      ]
     },
     "execution_count": 9,
     "metadata": {},
     "output_type": "execute_result"
    }
   ],
   "source": [
    "R\"\"\"\n",
    "    ggsave('updated_msefacetplot_Poisson_AR.png', mseplot, width = 12.5, height = 15, units = 'in', dpi = 450)\n",
    "\"\"\""
   ]
  }
 ],
 "metadata": {
  "@webio": {
   "lastCommId": null,
   "lastKernelId": null
  },
  "kernelspec": {
   "display_name": "Julia 1.6.2",
   "language": "julia",
   "name": "julia-1.6"
  },
  "language_info": {
   "file_extension": ".jl",
   "mimetype": "application/julia",
   "name": "julia",
   "version": "1.6.2"
  }
 },
 "nbformat": 4,
 "nbformat_minor": 2
}
