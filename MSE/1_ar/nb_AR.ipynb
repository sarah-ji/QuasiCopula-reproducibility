{
 "cells": [
  {
   "cell_type": "markdown",
   "metadata": {},
   "source": [
    "## NegativeBinomial AR Results \n",
    "\n",
    "This notebook goes over the code needed to reproduce the results from the MSE and time figures in the first simulation in the paper. \n",
    "\n",
    "In this example we have Negative Binomial base distribution with Log Link function and covariance matrix $\\Gamma$ structured under AR covariance with $\\rho = 0.5, \\sigma^2 = 0.5$\n",
    "\n",
    "We use multi-threading on 8 threads to obtain these MSE results on the following machine, and include MSE results from 100 simulation runs for each scenario."
   ]
  },
  {
   "cell_type": "code",
   "execution_count": 1,
   "metadata": {},
   "outputs": [
    {
     "name": "stdout",
     "output_type": "stream",
     "text": [
      "Julia Version 1.6.2\n",
      "Commit 1b93d53fc4 (2021-07-14 15:36 UTC)\n",
      "Platform Info:\n",
      "  OS: macOS (x86_64-apple-darwin18.7.0)\n",
      "  CPU: Intel(R) Core(TM) i9-9880H CPU @ 2.30GHz\n",
      "  WORD_SIZE: 64\n",
      "  LIBM: libopenlibm\n",
      "  LLVM: libLLVM-11.0.1 (ORCJIT, skylake)\n"
     ]
    }
   ],
   "source": [
    "versioninfo()"
   ]
  },
  {
   "cell_type": "code",
   "execution_count": 2,
   "metadata": {},
   "outputs": [],
   "source": [
    "using QuasiCopula, DelimitedFiles, LinearAlgebra, Random, GLM\n",
    "using DataFrames"
   ]
  },
  {
   "cell_type": "code",
   "execution_count": 3,
   "metadata": {},
   "outputs": [],
   "source": [
    "p = 3    # number of fixed effects, including intercept\n",
    "\n",
    "# true parameter values\n",
    "Random.seed!(12345)\n",
    "βtrue = rand(Uniform(-2, 2), p)\n",
    "σ2true = [0.5]\n",
    "ρtrue = [0.5]\n",
    "θtrue = [σ2true; ρtrue]\n",
    "rtrue = 10.0\n",
    "\n",
    "# generate data\n",
    "trueparams = [βtrue; θtrue; rtrue] #hold true parameters\n",
    "\n",
    "#simulation parameters\n",
    "samplesizes = [100; 1000; 10000]\n",
    "ns = [2; 5; 10; 15; 20; 25]\n",
    "nsims = 100;"
   ]
  },
  {
   "cell_type": "code",
   "execution_count": 4,
   "metadata": {},
   "outputs": [
    {
     "name": "stderr",
     "output_type": "stream",
     "text": [
      "┌ Info: reading in the files with results\n",
      "└ @ Main In[4]:1\n"
     ]
    },
    {
     "data": {
      "text/plain": [
       "1800-element Vector{Float64}:\n",
       " 0.31577975\n",
       " 0.536505894\n",
       " 0.366784718\n",
       " 0.37732181\n",
       " 0.270688515\n",
       " 0.320286263\n",
       " 0.38958907\n",
       " 0.376049864\n",
       " 0.320606275\n",
       " 0.321834135\n",
       " 0.372355898\n",
       " 0.111233849\n",
       " 0.335332754\n",
       " ⋮\n",
       " 6.753389688\n",
       " 7.641769076\n",
       " 7.573752194\n",
       " 7.875711403\n",
       " 6.508441526\n",
       " 6.582713219\n",
       " 7.683882737\n",
       " 6.633409864\n",
       " 7.746946548\n",
       " 6.881321576\n",
       " 7.616834181\n",
       " 6.589946378"
      ]
     },
     "execution_count": 4,
     "metadata": {},
     "output_type": "execute_result"
    }
   ],
   "source": [
    "@info \"reading in the files with results\"\n",
    "βMseresult = vec(readdlm(\"mse_beta_multivariate_nb_AR$(nsims)reps_sim.csv\", ','))\n",
    "σ2MseResult = vec(readdlm(\"mse_sigma_multivariate_nb_AR$(nsims)reps_sim.csv\", ','))\n",
    "ρMseResult = vec(readdlm(\"mse_rho_multivariate_nb_AR$(nsims)reps_sim.csv\", ','))\n",
    "fittimes = vec(readdlm(\"fittimes_multivariate_nb_AR$(nsims)reps_sim.csv\", ','))"
   ]
  },
  {
   "cell_type": "code",
   "execution_count": 5,
   "metadata": {},
   "outputs": [
    {
     "name": "stderr",
     "output_type": "stream",
     "text": [
      "┌ Info: making results table\n",
      "└ @ Main In[5]:2\n"
     ]
    },
    {
     "data": {
      "text/html": [
       "<div class=\"data-frame\"><p>18 rows × 8 columns</p><table class=\"data-frame\"><thead><tr><th></th><th>samplesize</th><th>obssize</th><th>fittime</th><th>se</th><th>nobs</th><th>fitmin</th><th>fitmax</th><th>perobsratio</th></tr><tr><th></th><th title=\"String\">String</th><th title=\"String\">String</th><th title=\"Float64\">Float64</th><th title=\"Float64\">Float64</th><th title=\"Int64\">Int64</th><th title=\"Float64\">Float64</th><th title=\"Float64\">Float64</th><th title=\"Float64\">Float64</th></tr></thead><tbody><tr><th>1</th><td>100</td><td>2</td><td>0.323178</td><td>0.00854778</td><td>200</td><td>0.314631</td><td>0.331726</td><td>0.00161589</td></tr><tr><th>2</th><td>100</td><td>5</td><td>0.339214</td><td>0.00677962</td><td>500</td><td>0.332434</td><td>0.345993</td><td>0.000678428</td></tr><tr><th>3</th><td>100</td><td>10</td><td>0.320358</td><td>0.00775588</td><td>1000</td><td>0.312603</td><td>0.328114</td><td>0.000320358</td></tr><tr><th>4</th><td>100</td><td>15</td><td>0.333701</td><td>0.0111857</td><td>1500</td><td>0.322515</td><td>0.344887</td><td>0.000222467</td></tr><tr><th>5</th><td>100</td><td>20</td><td>0.364181</td><td>0.0132312</td><td>2000</td><td>0.35095</td><td>0.377412</td><td>0.000182091</td></tr><tr><th>6</th><td>100</td><td>25</td><td>0.376418</td><td>0.0157892</td><td>2500</td><td>0.360629</td><td>0.392207</td><td>0.000150567</td></tr><tr><th>7</th><td>1000</td><td>2</td><td>0.445406</td><td>0.0035144</td><td>2000</td><td>0.441892</td><td>0.448921</td><td>0.000222703</td></tr><tr><th>8</th><td>1000</td><td>5</td><td>0.498975</td><td>0.00262284</td><td>5000</td><td>0.496352</td><td>0.501598</td><td>9.97949e-5</td></tr><tr><th>9</th><td>1000</td><td>10</td><td>0.563847</td><td>0.00413702</td><td>10000</td><td>0.55971</td><td>0.567984</td><td>5.63847e-5</td></tr><tr><th>10</th><td>1000</td><td>15</td><td>0.654483</td><td>0.00971536</td><td>15000</td><td>0.644768</td><td>0.664198</td><td>4.36322e-5</td></tr><tr><th>11</th><td>1000</td><td>20</td><td>0.797947</td><td>0.0185262</td><td>20000</td><td>0.779421</td><td>0.816473</td><td>3.98973e-5</td></tr><tr><th>12</th><td>1000</td><td>25</td><td>0.938498</td><td>0.0215055</td><td>25000</td><td>0.916992</td><td>0.960003</td><td>3.75399e-5</td></tr><tr><th>13</th><td>10000</td><td>2</td><td>2.6561</td><td>0.0124592</td><td>20000</td><td>2.64364</td><td>2.66856</td><td>0.000132805</td></tr><tr><th>14</th><td>10000</td><td>5</td><td>3.16141</td><td>0.0134735</td><td>50000</td><td>3.14793</td><td>3.17488</td><td>6.32281e-5</td></tr><tr><th>15</th><td>10000</td><td>10</td><td>3.87517</td><td>0.0154959</td><td>100000</td><td>3.85968</td><td>3.89067</td><td>3.87517e-5</td></tr><tr><th>16</th><td>10000</td><td>15</td><td>4.92449</td><td>0.016097</td><td>150000</td><td>4.90839</td><td>4.94058</td><td>3.28299e-5</td></tr><tr><th>17</th><td>10000</td><td>20</td><td>6.35282</td><td>0.0277486</td><td>200000</td><td>6.32507</td><td>6.38057</td><td>3.17641e-5</td></tr><tr><th>18</th><td>10000</td><td>25</td><td>7.44894</td><td>0.109461</td><td>250000</td><td>7.33948</td><td>7.5584</td><td>2.97957e-5</td></tr></tbody></table></div>"
      ],
      "text/latex": [
       "\\begin{tabular}{r|cccccccc}\n",
       "\t& samplesize & obssize & fittime & se & nobs & fitmin & fitmax & perobsratio\\\\\n",
       "\t\\hline\n",
       "\t& String & String & Float64 & Float64 & Int64 & Float64 & Float64 & Float64\\\\\n",
       "\t\\hline\n",
       "\t1 & 100 & 2 & 0.323178 & 0.00854778 & 200 & 0.314631 & 0.331726 & 0.00161589 \\\\\n",
       "\t2 & 100 & 5 & 0.339214 & 0.00677962 & 500 & 0.332434 & 0.345993 & 0.000678428 \\\\\n",
       "\t3 & 100 & 10 & 0.320358 & 0.00775588 & 1000 & 0.312603 & 0.328114 & 0.000320358 \\\\\n",
       "\t4 & 100 & 15 & 0.333701 & 0.0111857 & 1500 & 0.322515 & 0.344887 & 0.000222467 \\\\\n",
       "\t5 & 100 & 20 & 0.364181 & 0.0132312 & 2000 & 0.35095 & 0.377412 & 0.000182091 \\\\\n",
       "\t6 & 100 & 25 & 0.376418 & 0.0157892 & 2500 & 0.360629 & 0.392207 & 0.000150567 \\\\\n",
       "\t7 & 1000 & 2 & 0.445406 & 0.0035144 & 2000 & 0.441892 & 0.448921 & 0.000222703 \\\\\n",
       "\t8 & 1000 & 5 & 0.498975 & 0.00262284 & 5000 & 0.496352 & 0.501598 & 9.97949e-5 \\\\\n",
       "\t9 & 1000 & 10 & 0.563847 & 0.00413702 & 10000 & 0.55971 & 0.567984 & 5.63847e-5 \\\\\n",
       "\t10 & 1000 & 15 & 0.654483 & 0.00971536 & 15000 & 0.644768 & 0.664198 & 4.36322e-5 \\\\\n",
       "\t11 & 1000 & 20 & 0.797947 & 0.0185262 & 20000 & 0.779421 & 0.816473 & 3.98973e-5 \\\\\n",
       "\t12 & 1000 & 25 & 0.938498 & 0.0215055 & 25000 & 0.916992 & 0.960003 & 3.75399e-5 \\\\\n",
       "\t13 & 10000 & 2 & 2.6561 & 0.0124592 & 20000 & 2.64364 & 2.66856 & 0.000132805 \\\\\n",
       "\t14 & 10000 & 5 & 3.16141 & 0.0134735 & 50000 & 3.14793 & 3.17488 & 6.32281e-5 \\\\\n",
       "\t15 & 10000 & 10 & 3.87517 & 0.0154959 & 100000 & 3.85968 & 3.89067 & 3.87517e-5 \\\\\n",
       "\t16 & 10000 & 15 & 4.92449 & 0.016097 & 150000 & 4.90839 & 4.94058 & 3.28299e-5 \\\\\n",
       "\t17 & 10000 & 20 & 6.35282 & 0.0277486 & 200000 & 6.32507 & 6.38057 & 3.17641e-5 \\\\\n",
       "\t18 & 10000 & 25 & 7.44894 & 0.109461 & 250000 & 7.33948 & 7.5584 & 2.97957e-5 \\\\\n",
       "\\end{tabular}\n"
      ],
      "text/plain": [
       "\u001b[1m18×8 DataFrame\u001b[0m\n",
       "\u001b[1m Row \u001b[0m│\u001b[1m samplesize \u001b[0m\u001b[1m obssize \u001b[0m\u001b[1m fittime  \u001b[0m\u001b[1m se         \u001b[0m\u001b[1m nobs   \u001b[0m\u001b[1m fitmin   \u001b[0m\u001b[1m fitmax   \u001b[0m\u001b[1m \u001b[0m ⋯\n",
       "\u001b[1m     \u001b[0m│\u001b[90m String     \u001b[0m\u001b[90m String  \u001b[0m\u001b[90m Float64  \u001b[0m\u001b[90m Float64    \u001b[0m\u001b[90m Int64  \u001b[0m\u001b[90m Float64  \u001b[0m\u001b[90m Float64  \u001b[0m\u001b[90m \u001b[0m ⋯\n",
       "─────┼──────────────────────────────────────────────────────────────────────────\n",
       "   1 │ 100         2        0.323178  0.00854778     200  0.314631  0.331726   ⋯\n",
       "   2 │ 100         5        0.339214  0.00677962     500  0.332434  0.345993\n",
       "   3 │ 100         10       0.320358  0.00775588    1000  0.312603  0.328114\n",
       "   4 │ 100         15       0.333701  0.0111857     1500  0.322515  0.344887\n",
       "   5 │ 100         20       0.364181  0.0132312     2000  0.35095   0.377412   ⋯\n",
       "   6 │ 100         25       0.376418  0.0157892     2500  0.360629  0.392207\n",
       "   7 │ 1000        2        0.445406  0.0035144     2000  0.441892  0.448921\n",
       "   8 │ 1000        5        0.498975  0.00262284    5000  0.496352  0.501598\n",
       "   9 │ 1000        10       0.563847  0.00413702   10000  0.55971   0.567984   ⋯\n",
       "  10 │ 1000        15       0.654483  0.00971536   15000  0.644768  0.664198\n",
       "  11 │ 1000        20       0.797947  0.0185262    20000  0.779421  0.816473\n",
       "  12 │ 1000        25       0.938498  0.0215055    25000  0.916992  0.960003\n",
       "  13 │ 10000       2        2.6561    0.0124592    20000  2.64364   2.66856    ⋯\n",
       "  14 │ 10000       5        3.16141   0.0134735    50000  3.14793   3.17488\n",
       "  15 │ 10000       10       3.87517   0.0154959   100000  3.85968   3.89067\n",
       "  16 │ 10000       15       4.92449   0.016097    150000  4.90839   4.94058\n",
       "  17 │ 10000       20       6.35282   0.0277486   200000  6.32507   6.38057    ⋯\n",
       "  18 │ 10000       25       7.44894   0.109461    250000  7.33948   7.5584\n",
       "\u001b[36m                                                                1 column omitted\u001b[0m"
      ]
     },
     "execution_count": 5,
     "metadata": {},
     "output_type": "execute_result"
    }
   ],
   "source": [
    "#simulation parameters\n",
    "@info \"making results table\"\n",
    "sample_sizes = repeat(string.(samplesizes), inner = nsims * length(ns))\n",
    "obs_sizes = repeat(string.(ns), inner = nsims, outer = length(samplesizes))\n",
    "\n",
    "msedf = DataFrame(βmse = βMseresult, σ2mse = σ2MseResult, ρmse = ρMseResult,\n",
    "    samplesize = sample_sizes, obssize = obs_sizes, fittimes = fittimes)\n",
    "\n",
    "\n",
    "msedf = filter(x -> !isnan(x.fittimes), msedf)\n",
    "\n",
    "timedf = combine(groupby(msedf, [:samplesize, :obssize]), :fittimes => mean => :fittime,\n",
    "    :fittimes => x -> (std(x)/sqrt(length(x))))\n",
    "rename!(timedf, Dict(:fittimes_function => \"se\"))\n",
    "timedf[!, :nobs] = Meta.parse.(timedf[!, :samplesize]) .* Meta.parse.(timedf[!, :obssize])\n",
    "timedf[!, :fitmin] = timedf[!, :fittime] - timedf[!, :se]\n",
    "timedf[!, :fitmax] = timedf[!, :fittime] + timedf[!, :se]\n",
    "timedf[!, :perobsratio] = timedf[!, :fittime] ./ timedf[!, :nobs]\n",
    "timedf"
   ]
  },
  {
   "cell_type": "code",
   "execution_count": 6,
   "metadata": {},
   "outputs": [
    {
     "data": {
      "text/html": [
       "<div class=\"data-frame\"><p>18 rows × 7 columns (omitted printing of 2 columns)</p><table class=\"data-frame\"><thead><tr><th></th><th>people_obs</th><th>β1</th><th>β2</th><th>β3</th><th>ρ</th></tr><tr><th></th><th title=\"String\">String</th><th title=\"Tuple{Float64, Float64}\">Tuple…</th><th title=\"Tuple{Float64, Float64}\">Tuple…</th><th title=\"Tuple{Float64, Float64}\">Tuple…</th><th title=\"Tuple{Float64, Float64}\">Tuple…</th></tr></thead><tbody><tr><th>1</th><td>N: 100  ni: 2</td><td>(0.57, 0.049757)</td><td>(0.65, 0.0479372)</td><td>(0.75, 0.0435194)</td><td>(0.99, 0.01)</td></tr><tr><th>2</th><td>N: 100  ni: 5</td><td>(0.52, 0.0502117)</td><td>(0.56, 0.0498888)</td><td>(0.67, 0.0472582)</td><td>(0.91, 0.0287623)</td></tr><tr><th>3</th><td>N: 100  ni: 10</td><td>(0.51, 0.0502418)</td><td>(0.58, 0.0496045)</td><td>(0.78, 0.0416333)</td><td>(0.78, 0.0416333)</td></tr><tr><th>4</th><td>N: 100  ni: 15</td><td>(0.44, 0.0498888)</td><td>(0.57, 0.049757)</td><td>(0.78, 0.0416333)</td><td>(0.77, 0.0422953)</td></tr><tr><th>5</th><td>N: 100  ni: 20</td><td>(0.57, 0.049757)</td><td>(0.6, 0.0492366)</td><td>(0.79, 0.040936)</td><td>(0.82, 0.0386123)</td></tr><tr><th>6</th><td>N: 100  ni: 25</td><td>(0.47, 0.0501614)</td><td>(0.63, 0.0485237)</td><td>(0.82, 0.0386123)</td><td>(0.87, 0.0337998)</td></tr><tr><th>7</th><td>N: 1000  ni: 2</td><td>(0.48, 0.0502117)</td><td>(0.55, 0.05)</td><td>(0.71, 0.0456048)</td><td>(0.95, 0.0219043)</td></tr><tr><th>8</th><td>N: 1000  ni: 5</td><td>(0.48, 0.0502117)</td><td>(0.52, 0.0502117)</td><td>(0.75, 0.0435194)</td><td>(0.92, 0.027266)</td></tr><tr><th>9</th><td>N: 1000  ni: 10</td><td>(0.5, 0.0502519)</td><td>(0.62, 0.0487832)</td><td>(0.68, 0.0468826)</td><td>(0.94, 0.0238683)</td></tr><tr><th>10</th><td>N: 1000  ni: 15</td><td>(0.42, 0.0496045)</td><td>(0.51, 0.0502418)</td><td>(0.82, 0.0386123)</td><td>(0.89, 0.0314466)</td></tr><tr><th>11</th><td>N: 1000  ni: 20</td><td>(0.44, 0.0498888)</td><td>(0.45, 0.05)</td><td>(0.86, 0.0348735)</td><td>(0.88, 0.0326599)</td></tr><tr><th>12</th><td>N: 1000  ni: 25</td><td>(0.48, 0.0502117)</td><td>(0.56, 0.0498888)</td><td>(0.82, 0.0386123)</td><td>(0.91, 0.0287623)</td></tr><tr><th>13</th><td>N: 10000  ni: 2</td><td>(0.43, 0.049757)</td><td>(0.59, 0.0494311)</td><td>(0.69, 0.0464823)</td><td>(0.92, 0.027266)</td></tr><tr><th>14</th><td>N: 10000  ni: 5</td><td>(0.53, 0.0501614)</td><td>(0.6, 0.0492366)</td><td>(0.8, 0.0402015)</td><td>(0.91, 0.0287623)</td></tr><tr><th>15</th><td>N: 10000  ni: 10</td><td>(0.44, 0.0498888)</td><td>(0.53, 0.0501614)</td><td>(0.78, 0.0416333)</td><td>(0.94, 0.0238683)</td></tr><tr><th>16</th><td>N: 10000  ni: 15</td><td>(0.44, 0.0498888)</td><td>(0.45, 0.05)</td><td>(0.84, 0.0368453)</td><td>(0.89, 0.0314466)</td></tr><tr><th>17</th><td>N: 10000  ni: 20</td><td>(0.43, 0.049757)</td><td>(0.46, 0.0500908)</td><td>(0.85, 0.035887)</td><td>(0.94, 0.0238683)</td></tr><tr><th>18</th><td>N: 10000  ni: 25</td><td>(0.47, 0.0501614)</td><td>(0.6, 0.0492366)</td><td>(0.85, 0.035887)</td><td>(0.94, 0.0238683)</td></tr></tbody></table></div>"
      ],
      "text/latex": [
       "\\begin{tabular}{r|cccccc}\n",
       "\t& people\\_obs & β1 & β2 & β3 & ρ & \\\\\n",
       "\t\\hline\n",
       "\t& String & Tuple… & Tuple… & Tuple… & Tuple… & \\\\\n",
       "\t\\hline\n",
       "\t1 & N: 100  ni: 2 & (0.57, 0.049757) & (0.65, 0.0479372) & (0.75, 0.0435194) & (0.99, 0.01) & $\\dots$ \\\\\n",
       "\t2 & N: 100  ni: 5 & (0.52, 0.0502117) & (0.56, 0.0498888) & (0.67, 0.0472582) & (0.91, 0.0287623) & $\\dots$ \\\\\n",
       "\t3 & N: 100  ni: 10 & (0.51, 0.0502418) & (0.58, 0.0496045) & (0.78, 0.0416333) & (0.78, 0.0416333) & $\\dots$ \\\\\n",
       "\t4 & N: 100  ni: 15 & (0.44, 0.0498888) & (0.57, 0.049757) & (0.78, 0.0416333) & (0.77, 0.0422953) & $\\dots$ \\\\\n",
       "\t5 & N: 100  ni: 20 & (0.57, 0.049757) & (0.6, 0.0492366) & (0.79, 0.040936) & (0.82, 0.0386123) & $\\dots$ \\\\\n",
       "\t6 & N: 100  ni: 25 & (0.47, 0.0501614) & (0.63, 0.0485237) & (0.82, 0.0386123) & (0.87, 0.0337998) & $\\dots$ \\\\\n",
       "\t7 & N: 1000  ni: 2 & (0.48, 0.0502117) & (0.55, 0.05) & (0.71, 0.0456048) & (0.95, 0.0219043) & $\\dots$ \\\\\n",
       "\t8 & N: 1000  ni: 5 & (0.48, 0.0502117) & (0.52, 0.0502117) & (0.75, 0.0435194) & (0.92, 0.027266) & $\\dots$ \\\\\n",
       "\t9 & N: 1000  ni: 10 & (0.5, 0.0502519) & (0.62, 0.0487832) & (0.68, 0.0468826) & (0.94, 0.0238683) & $\\dots$ \\\\\n",
       "\t10 & N: 1000  ni: 15 & (0.42, 0.0496045) & (0.51, 0.0502418) & (0.82, 0.0386123) & (0.89, 0.0314466) & $\\dots$ \\\\\n",
       "\t11 & N: 1000  ni: 20 & (0.44, 0.0498888) & (0.45, 0.05) & (0.86, 0.0348735) & (0.88, 0.0326599) & $\\dots$ \\\\\n",
       "\t12 & N: 1000  ni: 25 & (0.48, 0.0502117) & (0.56, 0.0498888) & (0.82, 0.0386123) & (0.91, 0.0287623) & $\\dots$ \\\\\n",
       "\t13 & N: 10000  ni: 2 & (0.43, 0.049757) & (0.59, 0.0494311) & (0.69, 0.0464823) & (0.92, 0.027266) & $\\dots$ \\\\\n",
       "\t14 & N: 10000  ni: 5 & (0.53, 0.0501614) & (0.6, 0.0492366) & (0.8, 0.0402015) & (0.91, 0.0287623) & $\\dots$ \\\\\n",
       "\t15 & N: 10000  ni: 10 & (0.44, 0.0498888) & (0.53, 0.0501614) & (0.78, 0.0416333) & (0.94, 0.0238683) & $\\dots$ \\\\\n",
       "\t16 & N: 10000  ni: 15 & (0.44, 0.0498888) & (0.45, 0.05) & (0.84, 0.0368453) & (0.89, 0.0314466) & $\\dots$ \\\\\n",
       "\t17 & N: 10000  ni: 20 & (0.43, 0.049757) & (0.46, 0.0500908) & (0.85, 0.035887) & (0.94, 0.0238683) & $\\dots$ \\\\\n",
       "\t18 & N: 10000  ni: 25 & (0.47, 0.0501614) & (0.6, 0.0492366) & (0.85, 0.035887) & (0.94, 0.0238683) & $\\dots$ \\\\\n",
       "\\end{tabular}\n"
      ],
      "text/plain": [
       "\u001b[1m18×7 DataFrame\u001b[0m\n",
       "\u001b[1m Row \u001b[0m│\u001b[1m people_obs       \u001b[0m\u001b[1m β1                \u001b[0m\u001b[1m β2                \u001b[0m\u001b[1m β3             \u001b[0m ⋯\n",
       "\u001b[1m     \u001b[0m│\u001b[90m String           \u001b[0m\u001b[90m Tuple…            \u001b[0m\u001b[90m Tuple…            \u001b[0m\u001b[90m Tuple…         \u001b[0m ⋯\n",
       "─────┼──────────────────────────────────────────────────────────────────────────\n",
       "   1 │ N: 100  ni: 2     (0.57, 0.049757)   (0.65, 0.0479372)  (0.75, 0.043519 ⋯\n",
       "   2 │ N: 100  ni: 5     (0.52, 0.0502117)  (0.56, 0.0498888)  (0.67, 0.047258\n",
       "   3 │ N: 100  ni: 10    (0.51, 0.0502418)  (0.58, 0.0496045)  (0.78, 0.041633\n",
       "   4 │ N: 100  ni: 15    (0.44, 0.0498888)  (0.57, 0.049757)   (0.78, 0.041633\n",
       "   5 │ N: 100  ni: 20    (0.57, 0.049757)   (0.6, 0.0492366)   (0.79, 0.040936 ⋯\n",
       "   6 │ N: 100  ni: 25    (0.47, 0.0501614)  (0.63, 0.0485237)  (0.82, 0.038612\n",
       "   7 │ N: 1000  ni: 2    (0.48, 0.0502117)  (0.55, 0.05)       (0.71, 0.045604\n",
       "   8 │ N: 1000  ni: 5    (0.48, 0.0502117)  (0.52, 0.0502117)  (0.75, 0.043519\n",
       "   9 │ N: 1000  ni: 10   (0.5, 0.0502519)   (0.62, 0.0487832)  (0.68, 0.046882 ⋯\n",
       "  10 │ N: 1000  ni: 15   (0.42, 0.0496045)  (0.51, 0.0502418)  (0.82, 0.038612\n",
       "  11 │ N: 1000  ni: 20   (0.44, 0.0498888)  (0.45, 0.05)       (0.86, 0.034873\n",
       "  12 │ N: 1000  ni: 25   (0.48, 0.0502117)  (0.56, 0.0498888)  (0.82, 0.038612\n",
       "  13 │ N: 10000  ni: 2   (0.43, 0.049757)   (0.59, 0.0494311)  (0.69, 0.046482 ⋯\n",
       "  14 │ N: 10000  ni: 5   (0.53, 0.0501614)  (0.6, 0.0492366)   (0.8, 0.0402015\n",
       "  15 │ N: 10000  ni: 10  (0.44, 0.0498888)  (0.53, 0.0501614)  (0.78, 0.041633\n",
       "  16 │ N: 10000  ni: 15  (0.44, 0.0498888)  (0.45, 0.05)       (0.84, 0.036845\n",
       "  17 │ N: 10000  ni: 20  (0.43, 0.049757)   (0.46, 0.0500908)  (0.85, 0.035887 ⋯\n",
       "  18 │ N: 10000  ni: 25  (0.47, 0.0501614)  (0.6, 0.0492366)   (0.85, 0.035887\n",
       "\u001b[36m                                                               4 columns omitted\u001b[0m"
      ]
     },
     "execution_count": 6,
     "metadata": {},
     "output_type": "execute_result"
    }
   ],
   "source": [
    "######  supplementary table s1\n",
    "using Random, DataFrames, DelimitedFiles, Statistics\n",
    "import StatsBase: sem\n",
    "\n",
    "βρσ2rcoverage = readdlm(\"beta_rho_sigma_coverage_multivariate_nb_AR$(nsims)reps_sim.csv\", ',')\n",
    "\n",
    "m = 2\n",
    "\n",
    "covdf = DataFrame(Matrix(transpose(βρσ2rcoverage)), :auto)\n",
    "rename!(covdf, Symbol.([[\"β$i\" for i in 1:p];  [\"ρ\"];[\"σ2\"]; [\"r\"]]))\n",
    "covdf[!, :samplesize] = sample_sizes\n",
    "covdf[!, :obssize] = obs_sizes\n",
    "first(covdf, 10)\n",
    "\n",
    "row_stats = [[(mean(col), sem(col)) for col = eachcol(d[!, 1:end-2])] for d = groupby(covdf, [:samplesize; :obssize])]\n",
    "df = DataFrame(row_stats, :auto)\n",
    "ss_obs = unique(\"N: \" .* sample_sizes .* \"  ni: \" .* obs_sizes)\n",
    "rename!(df, Symbol.(ss_obs))\n",
    "covdfdisplay = DataFrame([[names(df)]; collect.(eachrow(df))], \n",
    "    [:people_obs; Symbol.([[\"β$i\" for i in 1:p];[\"ρ\"]; [\"σ2\"];  [\"r\"]])])\n",
    "covdfdisplay\n"
   ]
  },
  {
   "cell_type": "code",
   "execution_count": 7,
   "metadata": {},
   "outputs": [
    {
     "data": {
      "text/html": [
       "<div class=\"data-frame\"><p>5,400 rows × 5 columns</p><table class=\"data-frame\"><thead><tr><th></th><th>mse</th><th>obssize</th><th>samplesize</th><th>parameters</th><th>labels</th></tr><tr><th></th><th title=\"Float64\">Float64</th><th title=\"String\">String</th><th title=\"String\">String</th><th title=\"String\">String</th><th title=\"String\">String</th></tr></thead><tbody><tr><th>1</th><td>0.0140186</td><td>2</td><td>100</td><td>beta</td><td>Negative Binomial AR with Log Link</td></tr><tr><th>2</th><td>0.00582326</td><td>2</td><td>100</td><td>beta</td><td>Negative Binomial AR with Log Link</td></tr><tr><th>3</th><td>0.00376977</td><td>2</td><td>100</td><td>beta</td><td>Negative Binomial AR with Log Link</td></tr><tr><th>4</th><td>0.00166324</td><td>2</td><td>100</td><td>beta</td><td>Negative Binomial AR with Log Link</td></tr><tr><th>5</th><td>0.00228583</td><td>2</td><td>100</td><td>beta</td><td>Negative Binomial AR with Log Link</td></tr><tr><th>6</th><td>0.00386949</td><td>2</td><td>100</td><td>beta</td><td>Negative Binomial AR with Log Link</td></tr><tr><th>7</th><td>0.00449229</td><td>2</td><td>100</td><td>beta</td><td>Negative Binomial AR with Log Link</td></tr><tr><th>8</th><td>0.00260307</td><td>2</td><td>100</td><td>beta</td><td>Negative Binomial AR with Log Link</td></tr><tr><th>9</th><td>0.0015518</td><td>2</td><td>100</td><td>beta</td><td>Negative Binomial AR with Log Link</td></tr><tr><th>10</th><td>0.0124331</td><td>2</td><td>100</td><td>beta</td><td>Negative Binomial AR with Log Link</td></tr><tr><th>11</th><td>0.00306785</td><td>2</td><td>100</td><td>beta</td><td>Negative Binomial AR with Log Link</td></tr><tr><th>12</th><td>0.016551</td><td>2</td><td>100</td><td>beta</td><td>Negative Binomial AR with Log Link</td></tr><tr><th>13</th><td>0.00247464</td><td>2</td><td>100</td><td>beta</td><td>Negative Binomial AR with Log Link</td></tr><tr><th>14</th><td>0.0187369</td><td>2</td><td>100</td><td>beta</td><td>Negative Binomial AR with Log Link</td></tr><tr><th>15</th><td>0.015928</td><td>2</td><td>100</td><td>beta</td><td>Negative Binomial AR with Log Link</td></tr><tr><th>16</th><td>0.0195196</td><td>2</td><td>100</td><td>beta</td><td>Negative Binomial AR with Log Link</td></tr><tr><th>17</th><td>0.0601588</td><td>2</td><td>100</td><td>beta</td><td>Negative Binomial AR with Log Link</td></tr><tr><th>18</th><td>0.00419493</td><td>2</td><td>100</td><td>beta</td><td>Negative Binomial AR with Log Link</td></tr><tr><th>19</th><td>0.00509868</td><td>2</td><td>100</td><td>beta</td><td>Negative Binomial AR with Log Link</td></tr><tr><th>20</th><td>0.00568619</td><td>2</td><td>100</td><td>beta</td><td>Negative Binomial AR with Log Link</td></tr><tr><th>21</th><td>0.0108126</td><td>2</td><td>100</td><td>beta</td><td>Negative Binomial AR with Log Link</td></tr><tr><th>22</th><td>0.0111383</td><td>2</td><td>100</td><td>beta</td><td>Negative Binomial AR with Log Link</td></tr><tr><th>23</th><td>0.00479257</td><td>2</td><td>100</td><td>beta</td><td>Negative Binomial AR with Log Link</td></tr><tr><th>24</th><td>0.000942781</td><td>2</td><td>100</td><td>beta</td><td>Negative Binomial AR with Log Link</td></tr><tr><th>25</th><td>0.00730396</td><td>2</td><td>100</td><td>beta</td><td>Negative Binomial AR with Log Link</td></tr><tr><th>26</th><td>0.00167845</td><td>2</td><td>100</td><td>beta</td><td>Negative Binomial AR with Log Link</td></tr><tr><th>27</th><td>0.00775751</td><td>2</td><td>100</td><td>beta</td><td>Negative Binomial AR with Log Link</td></tr><tr><th>28</th><td>0.0193439</td><td>2</td><td>100</td><td>beta</td><td>Negative Binomial AR with Log Link</td></tr><tr><th>29</th><td>0.00101355</td><td>2</td><td>100</td><td>beta</td><td>Negative Binomial AR with Log Link</td></tr><tr><th>30</th><td>0.00272929</td><td>2</td><td>100</td><td>beta</td><td>Negative Binomial AR with Log Link</td></tr><tr><th>&vellip;</th><td>&vellip;</td><td>&vellip;</td><td>&vellip;</td><td>&vellip;</td><td>&vellip;</td></tr></tbody></table></div>"
      ],
      "text/latex": [
       "\\begin{tabular}{r|ccccc}\n",
       "\t& mse & obssize & samplesize & parameters & labels\\\\\n",
       "\t\\hline\n",
       "\t& Float64 & String & String & String & String\\\\\n",
       "\t\\hline\n",
       "\t1 & 0.0140186 & 2 & 100 & beta & Negative Binomial AR with Log Link \\\\\n",
       "\t2 & 0.00582326 & 2 & 100 & beta & Negative Binomial AR with Log Link \\\\\n",
       "\t3 & 0.00376977 & 2 & 100 & beta & Negative Binomial AR with Log Link \\\\\n",
       "\t4 & 0.00166324 & 2 & 100 & beta & Negative Binomial AR with Log Link \\\\\n",
       "\t5 & 0.00228583 & 2 & 100 & beta & Negative Binomial AR with Log Link \\\\\n",
       "\t6 & 0.00386949 & 2 & 100 & beta & Negative Binomial AR with Log Link \\\\\n",
       "\t7 & 0.00449229 & 2 & 100 & beta & Negative Binomial AR with Log Link \\\\\n",
       "\t8 & 0.00260307 & 2 & 100 & beta & Negative Binomial AR with Log Link \\\\\n",
       "\t9 & 0.0015518 & 2 & 100 & beta & Negative Binomial AR with Log Link \\\\\n",
       "\t10 & 0.0124331 & 2 & 100 & beta & Negative Binomial AR with Log Link \\\\\n",
       "\t11 & 0.00306785 & 2 & 100 & beta & Negative Binomial AR with Log Link \\\\\n",
       "\t12 & 0.016551 & 2 & 100 & beta & Negative Binomial AR with Log Link \\\\\n",
       "\t13 & 0.00247464 & 2 & 100 & beta & Negative Binomial AR with Log Link \\\\\n",
       "\t14 & 0.0187369 & 2 & 100 & beta & Negative Binomial AR with Log Link \\\\\n",
       "\t15 & 0.015928 & 2 & 100 & beta & Negative Binomial AR with Log Link \\\\\n",
       "\t16 & 0.0195196 & 2 & 100 & beta & Negative Binomial AR with Log Link \\\\\n",
       "\t17 & 0.0601588 & 2 & 100 & beta & Negative Binomial AR with Log Link \\\\\n",
       "\t18 & 0.00419493 & 2 & 100 & beta & Negative Binomial AR with Log Link \\\\\n",
       "\t19 & 0.00509868 & 2 & 100 & beta & Negative Binomial AR with Log Link \\\\\n",
       "\t20 & 0.00568619 & 2 & 100 & beta & Negative Binomial AR with Log Link \\\\\n",
       "\t21 & 0.0108126 & 2 & 100 & beta & Negative Binomial AR with Log Link \\\\\n",
       "\t22 & 0.0111383 & 2 & 100 & beta & Negative Binomial AR with Log Link \\\\\n",
       "\t23 & 0.00479257 & 2 & 100 & beta & Negative Binomial AR with Log Link \\\\\n",
       "\t24 & 0.000942781 & 2 & 100 & beta & Negative Binomial AR with Log Link \\\\\n",
       "\t25 & 0.00730396 & 2 & 100 & beta & Negative Binomial AR with Log Link \\\\\n",
       "\t26 & 0.00167845 & 2 & 100 & beta & Negative Binomial AR with Log Link \\\\\n",
       "\t27 & 0.00775751 & 2 & 100 & beta & Negative Binomial AR with Log Link \\\\\n",
       "\t28 & 0.0193439 & 2 & 100 & beta & Negative Binomial AR with Log Link \\\\\n",
       "\t29 & 0.00101355 & 2 & 100 & beta & Negative Binomial AR with Log Link \\\\\n",
       "\t30 & 0.00272929 & 2 & 100 & beta & Negative Binomial AR with Log Link \\\\\n",
       "\t$\\dots$ & $\\dots$ & $\\dots$ & $\\dots$ & $\\dots$ & $\\dots$ \\\\\n",
       "\\end{tabular}\n"
      ],
      "text/plain": [
       "\u001b[1m5400×5 DataFrame\u001b[0m\n",
       "\u001b[1m  Row \u001b[0m│\u001b[1m mse         \u001b[0m\u001b[1m obssize \u001b[0m\u001b[1m samplesize \u001b[0m\u001b[1m parameters \u001b[0m\u001b[1m labels                  \u001b[0m ⋯\n",
       "\u001b[1m      \u001b[0m│\u001b[90m Float64     \u001b[0m\u001b[90m String  \u001b[0m\u001b[90m String     \u001b[0m\u001b[90m String     \u001b[0m\u001b[90m String                  \u001b[0m ⋯\n",
       "──────┼─────────────────────────────────────────────────────────────────────────\n",
       "    1 │ 0.0140186    2        100         beta        Negative Binomial AR wit ⋯\n",
       "    2 │ 0.00582326   2        100         beta        Negative Binomial AR wit\n",
       "    3 │ 0.00376977   2        100         beta        Negative Binomial AR wit\n",
       "    4 │ 0.00166324   2        100         beta        Negative Binomial AR wit\n",
       "    5 │ 0.00228583   2        100         beta        Negative Binomial AR wit ⋯\n",
       "    6 │ 0.00386949   2        100         beta        Negative Binomial AR wit\n",
       "    7 │ 0.00449229   2        100         beta        Negative Binomial AR wit\n",
       "    8 │ 0.00260307   2        100         beta        Negative Binomial AR wit\n",
       "    9 │ 0.0015518    2        100         beta        Negative Binomial AR wit ⋯\n",
       "   10 │ 0.0124331    2        100         beta        Negative Binomial AR wit\n",
       "   11 │ 0.00306785   2        100         beta        Negative Binomial AR wit\n",
       "  ⋮   │      ⋮          ⋮         ⋮           ⋮                       ⋮        ⋱\n",
       " 5391 │ 0.000478812  25       10000       r           Negative Binomial AR wit\n",
       " 5392 │ 0.0281763    25       10000       r           Negative Binomial AR wit ⋯\n",
       " 5393 │ 0.0164607    25       10000       r           Negative Binomial AR wit\n",
       " 5394 │ 0.000220349  25       10000       r           Negative Binomial AR wit\n",
       " 5395 │ 0.0187299    25       10000       r           Negative Binomial AR wit\n",
       " 5396 │ 0.0307502    25       10000       r           Negative Binomial AR wit ⋯\n",
       " 5397 │ 0.000508706  25       10000       r           Negative Binomial AR wit\n",
       " 5398 │ 0.00837585   25       10000       r           Negative Binomial AR wit\n",
       " 5399 │ 0.00156697   25       10000       r           Negative Binomial AR wit\n",
       " 5400 │ 0.001225     25       10000       r           Negative Binomial AR wit ⋯\n",
       "\u001b[36m                                                  1 column and 5379 rows omitted\u001b[0m"
      ]
     },
     "execution_count": 7,
     "metadata": {},
     "output_type": "execute_result"
    }
   ],
   "source": [
    "#### \n",
    "#import data and reorganize to create figure\n",
    "using Random, DataFrames, DelimitedFiles, Statistics, RCall, Printf\n",
    "import StatsBase: sem\n",
    "\n",
    "βMseresult_1 = vec(readdlm(\"mse_beta_multivariate_nb_AR$(nsims)reps_sim.csv\", ','))\n",
    "σ2MseResult_1 = vec(readdlm(\"mse_sigma_multivariate_nb_AR$(nsims)reps_sim.csv\", ','))\n",
    "ρMseResult_1 = vec(readdlm(\"mse_rho_multivariate_nb_AR$(nsims)reps_sim.csv\", ','))\n",
    "θMseResult_1 = (σ2MseResult_1 .+ ρMseResult_1) ./ 2\n",
    "rMseResult_1 = vec(readdlm(\"mse_r_multivariate_nb_AR$(nsims)reps_sim.csv\", ','))\n",
    "βρσ2τcoverage_1 = readdlm(\"beta_rho_sigma_coverage_multivariate_nb_AR$(nsims)reps_sim.csv\", ',')\n",
    "\n",
    "p = 3\n",
    "sample_sizes = repeat(string.(samplesizes), inner = nsims * length(ns))\n",
    "obs_sizes = repeat(string.(ns), inner = nsims, outer = length(samplesizes))\n",
    "msedf = DataFrame(βmse = βMseresult_1, θmse = θMseResult_1, rmse = rMseResult_1,\n",
    "    samplesize = sample_sizes, obssize = obs_sizes)\n",
    "\n",
    "\n",
    "msedf = deepcopy(msedf)\n",
    "rename!(msedf, [\"betamse\"\n",
    "    \"thetamse\"\n",
    "        \"rmse\"\n",
    "    \"samplesize\"\n",
    " \"obssize\"]);\n",
    "\n",
    "mses = [msedf[!, :betamse]; msedf[!, :thetamse] ; msedf[!, :rmse]]\n",
    "\n",
    "obssize = collect([repeat(msedf[!, :obssize], 3)]...) \n",
    "\n",
    "samplesize = collect([repeat(msedf[!, :samplesize], 3)]...) \n",
    "\n",
    "parameters = collect([repeat(string.([:beta, :theta, :r]), inner = nsims * length(ns) * length(samplesizes))]...)\n",
    "\n",
    "labels = collect([repeat([\"Negative Binomial AR with Log Link\"], 3 * nsims * length(ns) * length(samplesizes))]...) # ;\n",
    "\n",
    "mse_df = DataFrame(mse = mses, obssize = obssize, samplesize = samplesize,\n",
    "    parameters = parameters, labels = labels)\n",
    "\n",
    "#5 of the 30,000 simulations did not converge, filter out\n",
    "mse_df = filter(x -> !isnan(x.mse), mse_df)\n",
    "# additionally, there are 5 where an error was not caught so it did not try a differnt solver\n",
    "mse_df = filter(x -> x.mse < 40000, mse_df)\n"
   ]
  },
  {
   "cell_type": "code",
   "execution_count": 8,
   "metadata": {},
   "outputs": [
    {
     "name": "stderr",
     "output_type": "stream",
     "text": [
      "┌ Warning: RCall.jl: Warning: package ‘scales’ was built under R version 4.0.2\n",
      "└ @ RCall /Users/sarahji/.julia/packages/RCall/6kphM/src/io.jl:172\n",
      "┌ Warning: RCall.jl: Warning: package ‘ggplot2’ was built under R version 4.0.2\n",
      "└ @ RCall /Users/sarahji/.julia/packages/RCall/6kphM/src/io.jl:172\n",
      "┌ Warning: RCall.jl: Warning: package ‘data.table’ was built under R version 4.0.2\n",
      "└ @ RCall /Users/sarahji/.julia/packages/RCall/6kphM/src/io.jl:172\n"
     ]
    },
    {
     "data": {
      "image/png": "[encoded data removed]"
     },
     "metadata": {},
     "output_type": "display_data"
    },
    {
     "data": {
      "text/plain": [
       "RObject{VecSxp}\n"
      ]
     },
     "execution_count": 8,
     "metadata": {},
     "output_type": "execute_result"
    }
   ],
   "source": [
    "### working on figure next\n",
    "@rput mse_df\n",
    "\n",
    "R\"\"\"\n",
    "library(scales)\n",
    "library(ggplot2)\n",
    "library(data.table)\n",
    "\n",
    "msedfR = data.table(mse_df)\n",
    "\n",
    "msedfR[parameters == \"beta\",y_min := 10^-4]\n",
    "msedfR[parameters == \"beta\",y_max := 10^-2]\n",
    "msedfR[parameters == \"sigma\",y_min := 10^-5]\n",
    "msedfR[parameters == \"sigma\",y_max := 10^1]\n",
    "msedfR[parameters == \"rho\",y_min := 10^-5]\n",
    "msedfR[parameters == \"rho\",y_max := 10^-2]\n",
    "msedfR[parameters == \"r\",y_min := 10^-5]\n",
    "msedfR[parameters == \"r\",y_max := 10^2]\n",
    "\n",
    "\n",
    "msedfR$obssize = factor(msedfR$obssize, levels = c('2', '5', '10', '15', '20', '25'))\n",
    "msedfR$samplesize = factor(msedfR$samplesize, levels = c('100', '1000', '10000'))\n",
    "msedfR$parameters = factor(msedfR$parameters, levels = c('beta', 'theta', 'r'), labels = c(beta = expression(hat(bold(beta))), theta = expression(hat(bold(theta))[]), r = expression(hat(bold(r)))))\n",
    "msedfR$robust = factor(msedfR$labels, levels = c('Negative Binomial AR with Log Link'),\n",
    "    labels = c(expression(paste(\"Negative Binomial AR with Log Link\")))) # , expression(paste(\"MvT Gamma Inverse-Gamma\"))))\n",
    "\n",
    "\n",
    "\n",
    "#mseplot <- ggplot(msedfR[msedfR$mse < 10^0, ], aes(x=samplesize, y=mse, fill=obssize)) + \n",
    "mseplot = ggplot(msedfR[msedfR$mse < 10^3, ], aes(x=samplesize, y=mse, fill=obssize)) + \n",
    "  #geom_boxplot(outlier.size = 0.0, outlier.alpha = 0) +\n",
    "  geom_boxplot(outlier.size = 0.25) +\n",
    "#    geom_violin() +\n",
    "    facet_grid(parameters ~ robust, labeller = label_parsed, scales = \"free_y\") +\n",
    "  theme(legend.position=\"right\", legend.key = element_blank(), axis.text.x = element_text(angle=0, size=30),\n",
    "        axis.text.y = element_text(angle=0, size=30), axis.title.x = element_text(size = 30, face=\"bold\"), \n",
    "        axis.title.y = element_text(size = 40, face=\"bold\"), legend.title = element_text(size = 30, face=\"bold\"),\n",
    "        panel.grid.major = element_blank(), panel.grid.minor = element_blank(),\n",
    "        legend.text=element_text(size=30), panel.background = element_rect(fill = NA, color = \"black\"),\n",
    "        #panel.background = element_blank(), #panel.border = element_blank(),\n",
    "        axis.line = element_line(color = 'black',size=0.3), plot.title = element_text(hjust = 0.5),\n",
    "        strip.background = element_rect(colour=\"black\", fill=\"white\"), strip.text.y = element_text(angle = 0, size=75, face=\"bold\"),\n",
    "        strip.text.x = element_text(size=25)) + \n",
    "  scale_fill_manual(values = c(\"#c85f55\",\n",
    "\"#a964bf\",\n",
    "\"#8db352\",\n",
    "\"#fa7300\",\n",
    "\"#05aec0\",\n",
    "\"#ff1493\")) +\n",
    "#scale_y_log10(breaks = scales::trans_breaks(\"log10\", function(x) 10^x)) +\n",
    "#scale_y_log10(breaks = 10^(-8:8), limit=c(10^-8, 10^2)) + \n",
    "scale_y_log10(breaks = 10^seq(-10, 10, 2), labels=trans_format(\"log10\", math_format(10^.x))) + #, limit=c(10^-8, 10^2)) +\n",
    "  labs(x = \"Sample Size\", y = \"MSE of Parameter Estimates\", fill = \"Cluster Size\") +\n",
    "geom_blank(aes(y = y_max)) + \n",
    "geom_blank(aes(y = y_min))  \n",
    "\"\"\""
   ]
  },
  {
   "cell_type": "code",
   "execution_count": 9,
   "metadata": {},
   "outputs": [
    {
     "data": {
      "text/plain": [
       "RObject{StrSxp}\n",
       "[1] \"updated_msefacetplot_NB_AR.png\"\n"
      ]
     },
     "execution_count": 9,
     "metadata": {},
     "output_type": "execute_result"
    }
   ],
   "source": [
    "R\"\"\"\n",
    "    ggsave('updated_msefacetplot_NB_AR.png', mseplot, width = 12.5, height = 15, units = 'in', dpi = 450)\n",
    "\"\"\""
   ]
  }
 ],
 "metadata": {
  "@webio": {
   "lastCommId": null,
   "lastKernelId": null
  },
  "kernelspec": {
   "display_name": "Julia 1.6.2",
   "language": "julia",
   "name": "julia-1.6"
  },
  "language_info": {
   "file_extension": ".jl",
   "mimetype": "application/julia",
   "name": "julia",
   "version": "1.6.2"
  }
 },
 "nbformat": 4,
 "nbformat_minor": 2
}
