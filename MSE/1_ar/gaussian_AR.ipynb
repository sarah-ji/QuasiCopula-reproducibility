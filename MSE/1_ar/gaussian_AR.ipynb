{
 "cells": [
  {
   "cell_type": "markdown",
   "metadata": {},
   "source": [
    "## Gaussian AR Results \n",
    "\n",
    "This notebook goes over the code needed to reproduce the results from the MSE and time figures in the first simulation in the paper. \n",
    "\n",
    "In this example we have Gaussian base distribution and covariance matrix $\\Gamma$ structured under AR covariance with $\\rho = 0.5, \\sigma^2 = 0.5$\n",
    "\n",
    "We use multi-threading on 8 threads to obtain these MSE results on the following machine, and include MSE results from 100 simulation runs for each scenario."
   ]
  },
  {
   "cell_type": "code",
   "execution_count": 1,
   "metadata": {},
   "outputs": [
    {
     "name": "stdout",
     "output_type": "stream",
     "text": [
      "Julia Version 1.6.2\n",
      "Commit 1b93d53fc4 (2021-07-14 15:36 UTC)\n",
      "Platform Info:\n",
      "  OS: macOS (x86_64-apple-darwin18.7.0)\n",
      "  CPU: Intel(R) Core(TM) i9-9880H CPU @ 2.30GHz\n",
      "  WORD_SIZE: 64\n",
      "  LIBM: libopenlibm\n",
      "  LLVM: libLLVM-11.0.1 (ORCJIT, skylake)\n"
     ]
    }
   ],
   "source": [
    "versioninfo()"
   ]
  },
  {
   "cell_type": "code",
   "execution_count": 2,
   "metadata": {},
   "outputs": [],
   "source": [
    "using QuasiCopula, DelimitedFiles, LinearAlgebra, Random\n",
    "using DataFrames"
   ]
  },
  {
   "cell_type": "code",
   "execution_count": 3,
   "metadata": {},
   "outputs": [],
   "source": [
    "p  = 3    # number of fixed effects, including intercept\n",
    "\n",
    "# true parameter values\n",
    "Random.seed!(12345)\n",
    "βtrue = rand(Uniform(-2, 2), p)\n",
    "σ2true = [0.5]\n",
    "ρtrue = [0.5]\n",
    "θtrue = [σ2true; ρtrue]\n",
    "τtrue = 100\n",
    "\n",
    "# generate data\n",
    "trueparams = [βtrue; θtrue; τtrue] #hold true parameters\n",
    "\n",
    "#simulation parameters\n",
    "samplesizes = [100; 1000; 10000]\n",
    "ns = [2; 5; 10; 15; 20; 25]\n",
    "nsims = 100;"
   ]
  },
  {
   "cell_type": "code",
   "execution_count": 4,
   "metadata": {},
   "outputs": [
    {
     "name": "stderr",
     "output_type": "stream",
     "text": [
      "┌ Info: reading in the files with results\n",
      "└ @ Main In[4]:1\n"
     ]
    },
    {
     "data": {
      "text/plain": [
       "1800-element Vector{Float64}:\n",
       " 0.194271942\n",
       " 0.267542579\n",
       " 0.333401714\n",
       " 0.175385498\n",
       " 0.142589145\n",
       " 0.160943425\n",
       " 0.114408786\n",
       " 0.149422231\n",
       " 0.18432943\n",
       " 0.19913938\n",
       " 0.291209534\n",
       " 0.256027894\n",
       " 0.23512361\n",
       " ⋮\n",
       " 1.371969195\n",
       " 1.532541362\n",
       " 1.34456271\n",
       " 1.099195865\n",
       " 1.372206464\n",
       " 1.390151943\n",
       " 1.499666353\n",
       " 1.230029035\n",
       " 1.482417115\n",
       " 1.301627147\n",
       " 1.216052028\n",
       " 1.476166957"
      ]
     },
     "execution_count": 4,
     "metadata": {},
     "output_type": "execute_result"
    }
   ],
   "source": [
    "@info \"reading in the files with results\"\n",
    "βMseresult = vec(readdlm(\"mse_beta_multivariate_normal_AR$(nsims)reps_sim.csv\", ','))\n",
    "σ2MseResult = vec(readdlm(\"mse_sigma_multivariate_normal_AR$(nsims)reps_sim.csv\", ','))\n",
    "ρMseResult = vec(readdlm(\"mse_rho_multivariate_normal_AR$(nsims)reps_sim.csv\", ','))\n",
    "fittimes = vec(readdlm(\"fittimes_multivariate_normal_AR$(nsims)reps_sim.csv\", ','))"
   ]
  },
  {
   "cell_type": "code",
   "execution_count": 5,
   "metadata": {},
   "outputs": [
    {
     "name": "stderr",
     "output_type": "stream",
     "text": [
      "┌ Info: making results table\n",
      "└ @ Main In[5]:2\n"
     ]
    },
    {
     "data": {
      "text/html": [
       "<div class=\"data-frame\"><p>18 rows × 8 columns</p><table class=\"data-frame\"><thead><tr><th></th><th>samplesize</th><th>obssize</th><th>fittime</th><th>se</th><th>nobs</th><th>fitmin</th><th>fitmax</th><th>perobsratio</th></tr><tr><th></th><th title=\"String\">String</th><th title=\"String\">String</th><th title=\"Float64\">Float64</th><th title=\"Float64\">Float64</th><th title=\"Int64\">Int64</th><th title=\"Float64\">Float64</th><th title=\"Float64\">Float64</th><th title=\"Float64\">Float64</th></tr></thead><tbody><tr><th>1</th><td>100</td><td>2</td><td>0.212978</td><td>0.00792299</td><td>200</td><td>0.205055</td><td>0.220901</td><td>0.00106489</td></tr><tr><th>2</th><td>100</td><td>5</td><td>0.305009</td><td>0.0211421</td><td>500</td><td>0.283866</td><td>0.326151</td><td>0.000610017</td></tr><tr><th>3</th><td>100</td><td>10</td><td>0.391787</td><td>0.0250899</td><td>1000</td><td>0.366697</td><td>0.416877</td><td>0.000391787</td></tr><tr><th>4</th><td>100</td><td>15</td><td>0.507431</td><td>0.0281887</td><td>1500</td><td>0.479242</td><td>0.53562</td><td>0.000338287</td></tr><tr><th>5</th><td>100</td><td>20</td><td>0.532627</td><td>0.0270376</td><td>2000</td><td>0.505589</td><td>0.559664</td><td>0.000266313</td></tr><tr><th>6</th><td>100</td><td>25</td><td>0.589586</td><td>0.0267275</td><td>2500</td><td>0.562859</td><td>0.616314</td><td>0.000235834</td></tr><tr><th>7</th><td>1000</td><td>2</td><td>0.235703</td><td>0.00590242</td><td>2000</td><td>0.229801</td><td>0.241606</td><td>0.000117852</td></tr><tr><th>8</th><td>1000</td><td>5</td><td>0.271829</td><td>0.00472799</td><td>5000</td><td>0.267101</td><td>0.276557</td><td>5.43657e-5</td></tr><tr><th>9</th><td>1000</td><td>10</td><td>0.365205</td><td>0.0114854</td><td>10000</td><td>0.353719</td><td>0.37669</td><td>3.65205e-5</td></tr><tr><th>10</th><td>1000</td><td>15</td><td>0.461182</td><td>0.0240364</td><td>15000</td><td>0.437146</td><td>0.485219</td><td>3.07455e-5</td></tr><tr><th>11</th><td>1000</td><td>20</td><td>0.548151</td><td>0.028037</td><td>20000</td><td>0.520114</td><td>0.576188</td><td>2.74076e-5</td></tr><tr><th>12</th><td>1000</td><td>25</td><td>0.560711</td><td>0.0301692</td><td>25000</td><td>0.530542</td><td>0.59088</td><td>2.24284e-5</td></tr><tr><th>13</th><td>10000</td><td>2</td><td>0.603806</td><td>0.0133182</td><td>20000</td><td>0.590488</td><td>0.617125</td><td>3.01903e-5</td></tr><tr><th>14</th><td>10000</td><td>5</td><td>0.752549</td><td>0.0158152</td><td>50000</td><td>0.736734</td><td>0.768364</td><td>1.5051e-5</td></tr><tr><th>15</th><td>10000</td><td>10</td><td>0.870932</td><td>0.014509</td><td>100000</td><td>0.856423</td><td>0.885441</td><td>8.70932e-6</td></tr><tr><th>16</th><td>10000</td><td>15</td><td>1.03183</td><td>0.0175875</td><td>150000</td><td>1.01425</td><td>1.04942</td><td>6.87889e-6</td></tr><tr><th>17</th><td>10000</td><td>20</td><td>1.23303</td><td>0.0304972</td><td>200000</td><td>1.20254</td><td>1.26353</td><td>6.16517e-6</td></tr><tr><th>18</th><td>10000</td><td>25</td><td>1.43748</td><td>0.0327864</td><td>250000</td><td>1.40469</td><td>1.47026</td><td>5.7499e-6</td></tr></tbody></table></div>"
      ],
      "text/latex": [
       "\\begin{tabular}{r|cccccccc}\n",
       "\t& samplesize & obssize & fittime & se & nobs & fitmin & fitmax & perobsratio\\\\\n",
       "\t\\hline\n",
       "\t& String & String & Float64 & Float64 & Int64 & Float64 & Float64 & Float64\\\\\n",
       "\t\\hline\n",
       "\t1 & 100 & 2 & 0.212978 & 0.00792299 & 200 & 0.205055 & 0.220901 & 0.00106489 \\\\\n",
       "\t2 & 100 & 5 & 0.305009 & 0.0211421 & 500 & 0.283866 & 0.326151 & 0.000610017 \\\\\n",
       "\t3 & 100 & 10 & 0.391787 & 0.0250899 & 1000 & 0.366697 & 0.416877 & 0.000391787 \\\\\n",
       "\t4 & 100 & 15 & 0.507431 & 0.0281887 & 1500 & 0.479242 & 0.53562 & 0.000338287 \\\\\n",
       "\t5 & 100 & 20 & 0.532627 & 0.0270376 & 2000 & 0.505589 & 0.559664 & 0.000266313 \\\\\n",
       "\t6 & 100 & 25 & 0.589586 & 0.0267275 & 2500 & 0.562859 & 0.616314 & 0.000235834 \\\\\n",
       "\t7 & 1000 & 2 & 0.235703 & 0.00590242 & 2000 & 0.229801 & 0.241606 & 0.000117852 \\\\\n",
       "\t8 & 1000 & 5 & 0.271829 & 0.00472799 & 5000 & 0.267101 & 0.276557 & 5.43657e-5 \\\\\n",
       "\t9 & 1000 & 10 & 0.365205 & 0.0114854 & 10000 & 0.353719 & 0.37669 & 3.65205e-5 \\\\\n",
       "\t10 & 1000 & 15 & 0.461182 & 0.0240364 & 15000 & 0.437146 & 0.485219 & 3.07455e-5 \\\\\n",
       "\t11 & 1000 & 20 & 0.548151 & 0.028037 & 20000 & 0.520114 & 0.576188 & 2.74076e-5 \\\\\n",
       "\t12 & 1000 & 25 & 0.560711 & 0.0301692 & 25000 & 0.530542 & 0.59088 & 2.24284e-5 \\\\\n",
       "\t13 & 10000 & 2 & 0.603806 & 0.0133182 & 20000 & 0.590488 & 0.617125 & 3.01903e-5 \\\\\n",
       "\t14 & 10000 & 5 & 0.752549 & 0.0158152 & 50000 & 0.736734 & 0.768364 & 1.5051e-5 \\\\\n",
       "\t15 & 10000 & 10 & 0.870932 & 0.014509 & 100000 & 0.856423 & 0.885441 & 8.70932e-6 \\\\\n",
       "\t16 & 10000 & 15 & 1.03183 & 0.0175875 & 150000 & 1.01425 & 1.04942 & 6.87889e-6 \\\\\n",
       "\t17 & 10000 & 20 & 1.23303 & 0.0304972 & 200000 & 1.20254 & 1.26353 & 6.16517e-6 \\\\\n",
       "\t18 & 10000 & 25 & 1.43748 & 0.0327864 & 250000 & 1.40469 & 1.47026 & 5.7499e-6 \\\\\n",
       "\\end{tabular}\n"
      ],
      "text/plain": [
       "\u001b[1m18×8 DataFrame\u001b[0m\n",
       "\u001b[1m Row \u001b[0m│\u001b[1m samplesize \u001b[0m\u001b[1m obssize \u001b[0m\u001b[1m fittime  \u001b[0m\u001b[1m se         \u001b[0m\u001b[1m nobs   \u001b[0m\u001b[1m fitmin   \u001b[0m\u001b[1m fitmax   \u001b[0m\u001b[1m \u001b[0m ⋯\n",
       "\u001b[1m     \u001b[0m│\u001b[90m String     \u001b[0m\u001b[90m String  \u001b[0m\u001b[90m Float64  \u001b[0m\u001b[90m Float64    \u001b[0m\u001b[90m Int64  \u001b[0m\u001b[90m Float64  \u001b[0m\u001b[90m Float64  \u001b[0m\u001b[90m \u001b[0m ⋯\n",
       "─────┼──────────────────────────────────────────────────────────────────────────\n",
       "   1 │ 100         2        0.212978  0.00792299     200  0.205055  0.220901   ⋯\n",
       "   2 │ 100         5        0.305009  0.0211421      500  0.283866  0.326151\n",
       "   3 │ 100         10       0.391787  0.0250899     1000  0.366697  0.416877\n",
       "   4 │ 100         15       0.507431  0.0281887     1500  0.479242  0.53562\n",
       "   5 │ 100         20       0.532627  0.0270376     2000  0.505589  0.559664   ⋯\n",
       "   6 │ 100         25       0.589586  0.0267275     2500  0.562859  0.616314\n",
       "   7 │ 1000        2        0.235703  0.00590242    2000  0.229801  0.241606\n",
       "   8 │ 1000        5        0.271829  0.00472799    5000  0.267101  0.276557\n",
       "   9 │ 1000        10       0.365205  0.0114854    10000  0.353719  0.37669    ⋯\n",
       "  10 │ 1000        15       0.461182  0.0240364    15000  0.437146  0.485219\n",
       "  11 │ 1000        20       0.548151  0.028037     20000  0.520114  0.576188\n",
       "  12 │ 1000        25       0.560711  0.0301692    25000  0.530542  0.59088\n",
       "  13 │ 10000       2        0.603806  0.0133182    20000  0.590488  0.617125   ⋯\n",
       "  14 │ 10000       5        0.752549  0.0158152    50000  0.736734  0.768364\n",
       "  15 │ 10000       10       0.870932  0.014509    100000  0.856423  0.885441\n",
       "  16 │ 10000       15       1.03183   0.0175875   150000  1.01425   1.04942\n",
       "  17 │ 10000       20       1.23303   0.0304972   200000  1.20254   1.26353    ⋯\n",
       "  18 │ 10000       25       1.43748   0.0327864   250000  1.40469   1.47026\n",
       "\u001b[36m                                                                1 column omitted\u001b[0m"
      ]
     },
     "execution_count": 5,
     "metadata": {},
     "output_type": "execute_result"
    }
   ],
   "source": [
    "#simulation parameters\n",
    "@info \"making results table\"\n",
    "sample_sizes = repeat(string.(samplesizes), inner = nsims * length(ns))\n",
    "obs_sizes = repeat(string.(ns), inner = nsims, outer = length(samplesizes))\n",
    "\n",
    "msedf = DataFrame(βmse = βMseresult, σ2mse = σ2MseResult, ρmse = ρMseResult,\n",
    "    samplesize = sample_sizes, obssize = obs_sizes, fittimes = fittimes)\n",
    "\n",
    "\n",
    "msedf = filter(x -> !isnan(x.fittimes), msedf)\n",
    "\n",
    "timedf = combine(groupby(msedf, [:samplesize, :obssize]), :fittimes => mean => :fittime,\n",
    "    :fittimes => x -> (std(x)/sqrt(length(x))))\n",
    "rename!(timedf, Dict(:fittimes_function => \"se\"))\n",
    "timedf[!, :nobs] = Meta.parse.(timedf[!, :samplesize]) .* Meta.parse.(timedf[!, :obssize])\n",
    "timedf[!, :fitmin] = timedf[!, :fittime] - timedf[!, :se]\n",
    "timedf[!, :fitmax] = timedf[!, :fittime] + timedf[!, :se]\n",
    "timedf[!, :perobsratio] = timedf[!, :fittime] ./ timedf[!, :nobs]\n",
    "timedf"
   ]
  },
  {
   "cell_type": "code",
   "execution_count": 6,
   "metadata": {},
   "outputs": [
    {
     "data": {
      "text/html": [
       "<div class=\"data-frame\"><p>18 rows × 7 columns (omitted printing of 2 columns)</p><table class=\"data-frame\"><thead><tr><th></th><th>people_obs</th><th>β1</th><th>β2</th><th>β3</th><th>ρ</th></tr><tr><th></th><th title=\"String\">String</th><th title=\"Tuple{Float64, Float64}\">Tuple…</th><th title=\"Tuple{Float64, Float64}\">Tuple…</th><th title=\"Tuple{Float64, Float64}\">Tuple…</th><th title=\"Tuple{Float64, Float64}\">Tuple…</th></tr></thead><tbody><tr><th>1</th><td>N: 100  ni: 2</td><td>(0.64, 0.0482418)</td><td>(0.55, 0.05)</td><td>(0.6, 0.0492366)</td><td>(0.89, 0.0314466)</td></tr><tr><th>2</th><td>N: 100  ni: 5</td><td>(0.7, 0.0460566)</td><td>(0.7, 0.0460566)</td><td>(0.72, 0.0451261)</td><td>(0.83, 0.0377525)</td></tr><tr><th>3</th><td>N: 100  ni: 10</td><td>(0.76, 0.0429235)</td><td>(0.76, 0.0429235)</td><td>(0.81, 0.0394277)</td><td>(0.75, 0.0435194)</td></tr><tr><th>4</th><td>N: 100  ni: 15</td><td>(0.78, 0.0416333)</td><td>(0.77, 0.0422953)</td><td>(0.82, 0.0386123)</td><td>(0.77, 0.0422953)</td></tr><tr><th>5</th><td>N: 100  ni: 20</td><td>(0.7, 0.0460566)</td><td>(0.75, 0.0435194)</td><td>(0.79, 0.040936)</td><td>(0.82, 0.0386123)</td></tr><tr><th>6</th><td>N: 100  ni: 25</td><td>(0.7, 0.0460566)</td><td>(0.78, 0.0416333)</td><td>(0.77, 0.0422953)</td><td>(0.81, 0.0394277)</td></tr><tr><th>7</th><td>N: 1000  ni: 2</td><td>(0.7, 0.0460566)</td><td>(0.74, 0.0440844)</td><td>(0.78, 0.0416333)</td><td>(0.86, 0.0348735)</td></tr><tr><th>8</th><td>N: 1000  ni: 5</td><td>(0.75, 0.0435194)</td><td>(0.78, 0.0416333)</td><td>(0.84, 0.0368453)</td><td>(0.86, 0.0348735)</td></tr><tr><th>9</th><td>N: 1000  ni: 10</td><td>(0.85, 0.035887)</td><td>(0.84, 0.0368453)</td><td>(0.91, 0.0287623)</td><td>(0.73, 0.0446196)</td></tr><tr><th>10</th><td>N: 1000  ni: 15</td><td>(0.83, 0.0377525)</td><td>(0.8, 0.0402015)</td><td>(0.85, 0.035887)</td><td>(0.86, 0.0348735)</td></tr><tr><th>11</th><td>N: 1000  ni: 20</td><td>(0.8, 0.0402015)</td><td>(0.83, 0.0377525)</td><td>(0.84, 0.0368453)</td><td>(0.78, 0.0416333)</td></tr><tr><th>12</th><td>N: 1000  ni: 25</td><td>(0.81, 0.0394277)</td><td>(0.79, 0.040936)</td><td>(0.8, 0.0402015)</td><td>(0.81, 0.0394277)</td></tr><tr><th>13</th><td>N: 10000  ni: 2</td><td>(0.72, 0.0451261)</td><td>(0.8, 0.0402015)</td><td>(0.83, 0.0377525)</td><td>(0.8, 0.0402015)</td></tr><tr><th>14</th><td>N: 10000  ni: 5</td><td>(0.74, 0.0440844)</td><td>(0.81, 0.0394277)</td><td>(0.82, 0.0386123)</td><td>(0.83, 0.0377525)</td></tr><tr><th>15</th><td>N: 10000  ni: 10</td><td>(0.84, 0.0368453)</td><td>(0.9, 0.0301511)</td><td>(0.89, 0.0314466)</td><td>(0.81, 0.0394277)</td></tr><tr><th>16</th><td>N: 10000  ni: 15</td><td>(0.87, 0.0337998)</td><td>(0.92, 0.027266)</td><td>(0.88, 0.0326599)</td><td>(0.75, 0.0435194)</td></tr><tr><th>17</th><td>N: 10000  ni: 20</td><td>(0.9, 0.0301511)</td><td>(0.85, 0.035887)</td><td>(0.81, 0.0394277)</td><td>(0.71, 0.0456048)</td></tr><tr><th>18</th><td>N: 10000  ni: 25</td><td>(0.89, 0.0314466)</td><td>(0.88, 0.0326599)</td><td>(0.86, 0.0348735)</td><td>(0.69, 0.0464823)</td></tr></tbody></table></div>"
      ],
      "text/latex": [
       "\\begin{tabular}{r|cccccc}\n",
       "\t& people\\_obs & β1 & β2 & β3 & ρ & \\\\\n",
       "\t\\hline\n",
       "\t& String & Tuple… & Tuple… & Tuple… & Tuple… & \\\\\n",
       "\t\\hline\n",
       "\t1 & N: 100  ni: 2 & (0.64, 0.0482418) & (0.55, 0.05) & (0.6, 0.0492366) & (0.89, 0.0314466) & $\\dots$ \\\\\n",
       "\t2 & N: 100  ni: 5 & (0.7, 0.0460566) & (0.7, 0.0460566) & (0.72, 0.0451261) & (0.83, 0.0377525) & $\\dots$ \\\\\n",
       "\t3 & N: 100  ni: 10 & (0.76, 0.0429235) & (0.76, 0.0429235) & (0.81, 0.0394277) & (0.75, 0.0435194) & $\\dots$ \\\\\n",
       "\t4 & N: 100  ni: 15 & (0.78, 0.0416333) & (0.77, 0.0422953) & (0.82, 0.0386123) & (0.77, 0.0422953) & $\\dots$ \\\\\n",
       "\t5 & N: 100  ni: 20 & (0.7, 0.0460566) & (0.75, 0.0435194) & (0.79, 0.040936) & (0.82, 0.0386123) & $\\dots$ \\\\\n",
       "\t6 & N: 100  ni: 25 & (0.7, 0.0460566) & (0.78, 0.0416333) & (0.77, 0.0422953) & (0.81, 0.0394277) & $\\dots$ \\\\\n",
       "\t7 & N: 1000  ni: 2 & (0.7, 0.0460566) & (0.74, 0.0440844) & (0.78, 0.0416333) & (0.86, 0.0348735) & $\\dots$ \\\\\n",
       "\t8 & N: 1000  ni: 5 & (0.75, 0.0435194) & (0.78, 0.0416333) & (0.84, 0.0368453) & (0.86, 0.0348735) & $\\dots$ \\\\\n",
       "\t9 & N: 1000  ni: 10 & (0.85, 0.035887) & (0.84, 0.0368453) & (0.91, 0.0287623) & (0.73, 0.0446196) & $\\dots$ \\\\\n",
       "\t10 & N: 1000  ni: 15 & (0.83, 0.0377525) & (0.8, 0.0402015) & (0.85, 0.035887) & (0.86, 0.0348735) & $\\dots$ \\\\\n",
       "\t11 & N: 1000  ni: 20 & (0.8, 0.0402015) & (0.83, 0.0377525) & (0.84, 0.0368453) & (0.78, 0.0416333) & $\\dots$ \\\\\n",
       "\t12 & N: 1000  ni: 25 & (0.81, 0.0394277) & (0.79, 0.040936) & (0.8, 0.0402015) & (0.81, 0.0394277) & $\\dots$ \\\\\n",
       "\t13 & N: 10000  ni: 2 & (0.72, 0.0451261) & (0.8, 0.0402015) & (0.83, 0.0377525) & (0.8, 0.0402015) & $\\dots$ \\\\\n",
       "\t14 & N: 10000  ni: 5 & (0.74, 0.0440844) & (0.81, 0.0394277) & (0.82, 0.0386123) & (0.83, 0.0377525) & $\\dots$ \\\\\n",
       "\t15 & N: 10000  ni: 10 & (0.84, 0.0368453) & (0.9, 0.0301511) & (0.89, 0.0314466) & (0.81, 0.0394277) & $\\dots$ \\\\\n",
       "\t16 & N: 10000  ni: 15 & (0.87, 0.0337998) & (0.92, 0.027266) & (0.88, 0.0326599) & (0.75, 0.0435194) & $\\dots$ \\\\\n",
       "\t17 & N: 10000  ni: 20 & (0.9, 0.0301511) & (0.85, 0.035887) & (0.81, 0.0394277) & (0.71, 0.0456048) & $\\dots$ \\\\\n",
       "\t18 & N: 10000  ni: 25 & (0.89, 0.0314466) & (0.88, 0.0326599) & (0.86, 0.0348735) & (0.69, 0.0464823) & $\\dots$ \\\\\n",
       "\\end{tabular}\n"
      ],
      "text/plain": [
       "\u001b[1m18×7 DataFrame\u001b[0m\n",
       "\u001b[1m Row \u001b[0m│\u001b[1m people_obs       \u001b[0m\u001b[1m β1                \u001b[0m\u001b[1m β2                \u001b[0m\u001b[1m β3             \u001b[0m ⋯\n",
       "\u001b[1m     \u001b[0m│\u001b[90m String           \u001b[0m\u001b[90m Tuple…            \u001b[0m\u001b[90m Tuple…            \u001b[0m\u001b[90m Tuple…         \u001b[0m ⋯\n",
       "─────┼──────────────────────────────────────────────────────────────────────────\n",
       "   1 │ N: 100  ni: 2     (0.64, 0.0482418)  (0.55, 0.05)       (0.6, 0.0492366 ⋯\n",
       "   2 │ N: 100  ni: 5     (0.7, 0.0460566)   (0.7, 0.0460566)   (0.72, 0.045126\n",
       "   3 │ N: 100  ni: 10    (0.76, 0.0429235)  (0.76, 0.0429235)  (0.81, 0.039427\n",
       "   4 │ N: 100  ni: 15    (0.78, 0.0416333)  (0.77, 0.0422953)  (0.82, 0.038612\n",
       "   5 │ N: 100  ni: 20    (0.7, 0.0460566)   (0.75, 0.0435194)  (0.79, 0.040936 ⋯\n",
       "   6 │ N: 100  ni: 25    (0.7, 0.0460566)   (0.78, 0.0416333)  (0.77, 0.042295\n",
       "   7 │ N: 1000  ni: 2    (0.7, 0.0460566)   (0.74, 0.0440844)  (0.78, 0.041633\n",
       "   8 │ N: 1000  ni: 5    (0.75, 0.0435194)  (0.78, 0.0416333)  (0.84, 0.036845\n",
       "   9 │ N: 1000  ni: 10   (0.85, 0.035887)   (0.84, 0.0368453)  (0.91, 0.028762 ⋯\n",
       "  10 │ N: 1000  ni: 15   (0.83, 0.0377525)  (0.8, 0.0402015)   (0.85, 0.035887\n",
       "  11 │ N: 1000  ni: 20   (0.8, 0.0402015)   (0.83, 0.0377525)  (0.84, 0.036845\n",
       "  12 │ N: 1000  ni: 25   (0.81, 0.0394277)  (0.79, 0.040936)   (0.8, 0.0402015\n",
       "  13 │ N: 10000  ni: 2   (0.72, 0.0451261)  (0.8, 0.0402015)   (0.83, 0.037752 ⋯\n",
       "  14 │ N: 10000  ni: 5   (0.74, 0.0440844)  (0.81, 0.0394277)  (0.82, 0.038612\n",
       "  15 │ N: 10000  ni: 10  (0.84, 0.0368453)  (0.9, 0.0301511)   (0.89, 0.031446\n",
       "  16 │ N: 10000  ni: 15  (0.87, 0.0337998)  (0.92, 0.027266)   (0.88, 0.032659\n",
       "  17 │ N: 10000  ni: 20  (0.9, 0.0301511)   (0.85, 0.035887)   (0.81, 0.039427 ⋯\n",
       "  18 │ N: 10000  ni: 25  (0.89, 0.0314466)  (0.88, 0.0326599)  (0.86, 0.034873\n",
       "\u001b[36m                                                               4 columns omitted\u001b[0m"
      ]
     },
     "execution_count": 6,
     "metadata": {},
     "output_type": "execute_result"
    }
   ],
   "source": [
    "######  supplementary table s1\n",
    "using Random, DataFrames, DelimitedFiles, Statistics\n",
    "import StatsBase: sem\n",
    "\n",
    "βρσ2τcoverage = readdlm(\"beta_rho_sigma_coverage_multivariate_normal_AR$(nsims)reps_sim.csv\", ',')\n",
    "\n",
    "m = 2\n",
    "\n",
    "covdf = DataFrame(Matrix(transpose(βρσ2τcoverage)), :auto)\n",
    "rename!(covdf, Symbol.([[\"β$i\" for i in 1:p]; [\"ρ\"];[\"σ2\"]; [\"τ\"]]))\n",
    "covdf[!, :samplesize] = sample_sizes\n",
    "covdf[!, :obssize] = obs_sizes\n",
    "first(covdf, 10)\n",
    "\n",
    "row_stats = [[(mean(col), sem(col)) for col = eachcol(d[!, 1:end-2])] for d = groupby(covdf, [:samplesize; :obssize])]\n",
    "df = DataFrame(row_stats, :auto)\n",
    "ss_obs = unique(\"N: \" .* sample_sizes .* \"  ni: \" .* obs_sizes)\n",
    "rename!(df, Symbol.(ss_obs))\n",
    "covdfdisplay = DataFrame([[names(df)]; collect.(eachrow(df))], \n",
    "    [:people_obs; Symbol.([[\"β$i\" for i in 1:p]; [\"ρ\"];[\"σ2\"]; [\"τ\"]])])\n",
    "covdfdisplay\n"
   ]
  },
  {
   "cell_type": "code",
   "execution_count": 7,
   "metadata": {},
   "outputs": [
    {
     "data": {
      "text/html": [
       "<div class=\"data-frame\"><p>5,147 rows × 5 columns</p><table class=\"data-frame\"><thead><tr><th></th><th>mse</th><th>obssize</th><th>samplesize</th><th>parameters</th><th>labels</th></tr><tr><th></th><th title=\"Float64\">Float64</th><th title=\"String\">String</th><th title=\"String\">String</th><th title=\"String\">String</th><th title=\"String\">String</th></tr></thead><tbody><tr><th>1</th><td>0.0001057</td><td>2</td><td>100</td><td>beta</td><td>Gaussian AR with Identity Link</td></tr><tr><th>2</th><td>4.40257e-5</td><td>2</td><td>100</td><td>beta</td><td>Gaussian AR with Identity Link</td></tr><tr><th>3</th><td>1.11162e-5</td><td>2</td><td>100</td><td>beta</td><td>Gaussian AR with Identity Link</td></tr><tr><th>4</th><td>2.2906e-5</td><td>2</td><td>100</td><td>beta</td><td>Gaussian AR with Identity Link</td></tr><tr><th>5</th><td>2.61697e-5</td><td>2</td><td>100</td><td>beta</td><td>Gaussian AR with Identity Link</td></tr><tr><th>6</th><td>0.00011653</td><td>2</td><td>100</td><td>beta</td><td>Gaussian AR with Identity Link</td></tr><tr><th>7</th><td>0.000109954</td><td>2</td><td>100</td><td>beta</td><td>Gaussian AR with Identity Link</td></tr><tr><th>8</th><td>0.000149556</td><td>2</td><td>100</td><td>beta</td><td>Gaussian AR with Identity Link</td></tr><tr><th>9</th><td>2.37951e-5</td><td>2</td><td>100</td><td>beta</td><td>Gaussian AR with Identity Link</td></tr><tr><th>10</th><td>0.0001872</td><td>2</td><td>100</td><td>beta</td><td>Gaussian AR with Identity Link</td></tr><tr><th>11</th><td>9.16223e-5</td><td>2</td><td>100</td><td>beta</td><td>Gaussian AR with Identity Link</td></tr><tr><th>12</th><td>3.38609e-6</td><td>2</td><td>100</td><td>beta</td><td>Gaussian AR with Identity Link</td></tr><tr><th>13</th><td>5.19156e-5</td><td>2</td><td>100</td><td>beta</td><td>Gaussian AR with Identity Link</td></tr><tr><th>14</th><td>5.75389e-5</td><td>2</td><td>100</td><td>beta</td><td>Gaussian AR with Identity Link</td></tr><tr><th>15</th><td>3.96683e-5</td><td>2</td><td>100</td><td>beta</td><td>Gaussian AR with Identity Link</td></tr><tr><th>16</th><td>0.000142949</td><td>2</td><td>100</td><td>beta</td><td>Gaussian AR with Identity Link</td></tr><tr><th>17</th><td>6.54301e-5</td><td>2</td><td>100</td><td>beta</td><td>Gaussian AR with Identity Link</td></tr><tr><th>18</th><td>2.83842e-5</td><td>2</td><td>100</td><td>beta</td><td>Gaussian AR with Identity Link</td></tr><tr><th>19</th><td>4.71585e-5</td><td>2</td><td>100</td><td>beta</td><td>Gaussian AR with Identity Link</td></tr><tr><th>20</th><td>0.000168165</td><td>2</td><td>100</td><td>beta</td><td>Gaussian AR with Identity Link</td></tr><tr><th>21</th><td>6.5614e-5</td><td>2</td><td>100</td><td>beta</td><td>Gaussian AR with Identity Link</td></tr><tr><th>22</th><td>1.79353e-5</td><td>2</td><td>100</td><td>beta</td><td>Gaussian AR with Identity Link</td></tr><tr><th>23</th><td>0.00013209</td><td>2</td><td>100</td><td>beta</td><td>Gaussian AR with Identity Link</td></tr><tr><th>24</th><td>7.09912e-5</td><td>2</td><td>100</td><td>beta</td><td>Gaussian AR with Identity Link</td></tr><tr><th>25</th><td>3.02083e-5</td><td>2</td><td>100</td><td>beta</td><td>Gaussian AR with Identity Link</td></tr><tr><th>26</th><td>6.96744e-5</td><td>2</td><td>100</td><td>beta</td><td>Gaussian AR with Identity Link</td></tr><tr><th>27</th><td>5.35704e-5</td><td>2</td><td>100</td><td>beta</td><td>Gaussian AR with Identity Link</td></tr><tr><th>28</th><td>6.92677e-5</td><td>2</td><td>100</td><td>beta</td><td>Gaussian AR with Identity Link</td></tr><tr><th>29</th><td>5.38507e-5</td><td>2</td><td>100</td><td>beta</td><td>Gaussian AR with Identity Link</td></tr><tr><th>30</th><td>2.22058e-5</td><td>2</td><td>100</td><td>beta</td><td>Gaussian AR with Identity Link</td></tr><tr><th>&vellip;</th><td>&vellip;</td><td>&vellip;</td><td>&vellip;</td><td>&vellip;</td><td>&vellip;</td></tr></tbody></table></div>"
      ],
      "text/latex": [
       "\\begin{tabular}{r|ccccc}\n",
       "\t& mse & obssize & samplesize & parameters & labels\\\\\n",
       "\t\\hline\n",
       "\t& Float64 & String & String & String & String\\\\\n",
       "\t\\hline\n",
       "\t1 & 0.0001057 & 2 & 100 & beta & Gaussian AR with Identity Link \\\\\n",
       "\t2 & 4.40257e-5 & 2 & 100 & beta & Gaussian AR with Identity Link \\\\\n",
       "\t3 & 1.11162e-5 & 2 & 100 & beta & Gaussian AR with Identity Link \\\\\n",
       "\t4 & 2.2906e-5 & 2 & 100 & beta & Gaussian AR with Identity Link \\\\\n",
       "\t5 & 2.61697e-5 & 2 & 100 & beta & Gaussian AR with Identity Link \\\\\n",
       "\t6 & 0.00011653 & 2 & 100 & beta & Gaussian AR with Identity Link \\\\\n",
       "\t7 & 0.000109954 & 2 & 100 & beta & Gaussian AR with Identity Link \\\\\n",
       "\t8 & 0.000149556 & 2 & 100 & beta & Gaussian AR with Identity Link \\\\\n",
       "\t9 & 2.37951e-5 & 2 & 100 & beta & Gaussian AR with Identity Link \\\\\n",
       "\t10 & 0.0001872 & 2 & 100 & beta & Gaussian AR with Identity Link \\\\\n",
       "\t11 & 9.16223e-5 & 2 & 100 & beta & Gaussian AR with Identity Link \\\\\n",
       "\t12 & 3.38609e-6 & 2 & 100 & beta & Gaussian AR with Identity Link \\\\\n",
       "\t13 & 5.19156e-5 & 2 & 100 & beta & Gaussian AR with Identity Link \\\\\n",
       "\t14 & 5.75389e-5 & 2 & 100 & beta & Gaussian AR with Identity Link \\\\\n",
       "\t15 & 3.96683e-5 & 2 & 100 & beta & Gaussian AR with Identity Link \\\\\n",
       "\t16 & 0.000142949 & 2 & 100 & beta & Gaussian AR with Identity Link \\\\\n",
       "\t17 & 6.54301e-5 & 2 & 100 & beta & Gaussian AR with Identity Link \\\\\n",
       "\t18 & 2.83842e-5 & 2 & 100 & beta & Gaussian AR with Identity Link \\\\\n",
       "\t19 & 4.71585e-5 & 2 & 100 & beta & Gaussian AR with Identity Link \\\\\n",
       "\t20 & 0.000168165 & 2 & 100 & beta & Gaussian AR with Identity Link \\\\\n",
       "\t21 & 6.5614e-5 & 2 & 100 & beta & Gaussian AR with Identity Link \\\\\n",
       "\t22 & 1.79353e-5 & 2 & 100 & beta & Gaussian AR with Identity Link \\\\\n",
       "\t23 & 0.00013209 & 2 & 100 & beta & Gaussian AR with Identity Link \\\\\n",
       "\t24 & 7.09912e-5 & 2 & 100 & beta & Gaussian AR with Identity Link \\\\\n",
       "\t25 & 3.02083e-5 & 2 & 100 & beta & Gaussian AR with Identity Link \\\\\n",
       "\t26 & 6.96744e-5 & 2 & 100 & beta & Gaussian AR with Identity Link \\\\\n",
       "\t27 & 5.35704e-5 & 2 & 100 & beta & Gaussian AR with Identity Link \\\\\n",
       "\t28 & 6.92677e-5 & 2 & 100 & beta & Gaussian AR with Identity Link \\\\\n",
       "\t29 & 5.38507e-5 & 2 & 100 & beta & Gaussian AR with Identity Link \\\\\n",
       "\t30 & 2.22058e-5 & 2 & 100 & beta & Gaussian AR with Identity Link \\\\\n",
       "\t$\\dots$ & $\\dots$ & $\\dots$ & $\\dots$ & $\\dots$ & $\\dots$ \\\\\n",
       "\\end{tabular}\n"
      ],
      "text/plain": [
       "\u001b[1m5147×5 DataFrame\u001b[0m\n",
       "\u001b[1m  Row \u001b[0m│\u001b[1m mse         \u001b[0m\u001b[1m obssize \u001b[0m\u001b[1m samplesize \u001b[0m\u001b[1m parameters \u001b[0m\u001b[1m labels                  \u001b[0m ⋯\n",
       "\u001b[1m      \u001b[0m│\u001b[90m Float64     \u001b[0m\u001b[90m String  \u001b[0m\u001b[90m String     \u001b[0m\u001b[90m String     \u001b[0m\u001b[90m String                  \u001b[0m ⋯\n",
       "──────┼─────────────────────────────────────────────────────────────────────────\n",
       "    1 │ 0.0001057    2        100         beta        Gaussian AR with Identit ⋯\n",
       "    2 │ 4.40257e-5   2        100         beta        Gaussian AR with Identit\n",
       "    3 │ 1.11162e-5   2        100         beta        Gaussian AR with Identit\n",
       "    4 │ 2.2906e-5    2        100         beta        Gaussian AR with Identit\n",
       "    5 │ 2.61697e-5   2        100         beta        Gaussian AR with Identit ⋯\n",
       "    6 │ 0.00011653   2        100         beta        Gaussian AR with Identit\n",
       "    7 │ 0.000109954  2        100         beta        Gaussian AR with Identit\n",
       "    8 │ 0.000149556  2        100         beta        Gaussian AR with Identit\n",
       "    9 │ 2.37951e-5   2        100         beta        Gaussian AR with Identit ⋯\n",
       "   10 │ 0.0001872    2        100         beta        Gaussian AR with Identit\n",
       "   11 │ 9.16223e-5   2        100         beta        Gaussian AR with Identit\n",
       "  ⋮   │      ⋮          ⋮         ⋮           ⋮                     ⋮          ⋱\n",
       " 5138 │ 1.47357e-10  25       10000       tau         Gaussian AR with Identit\n",
       " 5139 │ 2.63661e-10  25       10000       tau         Gaussian AR with Identit ⋯\n",
       " 5140 │ 7.21917e-11  25       10000       tau         Gaussian AR with Identit\n",
       " 5141 │ 1.75604e-9   25       10000       tau         Gaussian AR with Identit\n",
       " 5142 │ 8.64816e-9   25       10000       tau         Gaussian AR with Identit\n",
       " 5143 │ 3.30182e-9   25       10000       tau         Gaussian AR with Identit ⋯\n",
       " 5144 │ 3.20196e-9   25       10000       tau         Gaussian AR with Identit\n",
       " 5145 │ 2.53156e-8   25       10000       tau         Gaussian AR with Identit\n",
       " 5146 │ 1.87205e-9   25       10000       tau         Gaussian AR with Identit\n",
       " 5147 │ 4.24813e-9   25       10000       tau         Gaussian AR with Identit ⋯\n",
       "\u001b[36m                                                  1 column and 5126 rows omitted\u001b[0m"
      ]
     },
     "execution_count": 7,
     "metadata": {},
     "output_type": "execute_result"
    }
   ],
   "source": [
    "#### \n",
    "#import data and reorganize to create figure\n",
    "using Random, DataFrames, DelimitedFiles, Statistics, RCall, Printf\n",
    "import StatsBase: sem\n",
    "\n",
    "βMseresult_1 = vec(readdlm(\"mse_beta_multivariate_normal_AR$(nsims)reps_sim.csv\", ','))\n",
    "σ2MseResult_1 = vec(readdlm(\"mse_sigma_multivariate_normal_AR$(nsims)reps_sim.csv\", ','))\n",
    "ρMseResult_1 = vec(readdlm(\"mse_rho_multivariate_normal_AR$(nsims)reps_sim.csv\", ','))\n",
    "θMseResult_1 = (σ2MseResult_1 .+ ρMseResult_1) ./ 2\n",
    "τMseResult_1 = vec(readdlm(\"mse_tau_multivariate_normal_AR$(nsims)reps_sim.csv\", ','))\n",
    "βρσ2τcoverage_1 = readdlm(\"beta_rho_sigma_coverage_multivariate_normal_AR$(nsims)reps_sim.csv\", ',')\n",
    "\n",
    "p = 3\n",
    "sample_sizes = repeat(string.(samplesizes), inner = nsims * length(ns))\n",
    "obs_sizes = repeat(string.(ns), inner = nsims, outer = length(samplesizes))\n",
    "msedf = DataFrame(βmse = βMseresult_1, thetamse = θMseResult_1, τmse = τMseResult_1,\n",
    "    samplesize = sample_sizes, obssize = obs_sizes)\n",
    "\n",
    "\n",
    "msedf = deepcopy(msedf)\n",
    "rename!(msedf, [\"betamse\"\n",
    "    \"thetamse\"\n",
    "        \"taumse\"\n",
    "    \"samplesize\"\n",
    " \"obssize\"]);\n",
    "\n",
    "mses = [msedf[!, :betamse]; msedf[!, :thetamse]; msedf[!, :taumse]]\n",
    "\n",
    "obssize = collect([repeat(msedf[!, :obssize], 3)]...) \n",
    "\n",
    "samplesize = collect([repeat(msedf[!, :samplesize], 3)]...) \n",
    "\n",
    "parameters = collect([repeat(string.([:beta, :theta, :tau]), inner = nsims * length(ns) * length(samplesizes))]...)\n",
    "\n",
    "labels = collect([repeat([\"Gaussian AR with Identity Link\"], 3 * nsims * length(ns) * length(samplesizes))]...) # ;\n",
    "\n",
    "mse_df = DataFrame(mse = mses, obssize = obssize, samplesize = samplesize,\n",
    "    parameters = parameters, labels = labels)\n",
    "\n",
    "#5 of the 30,000 simulations did not converge, filter out\n",
    "mse_df = filter(x -> !isnan(x.mse), mse_df)\n",
    "# additionally, there are 5 where an error was not caught so it did not try a differnt solver\n",
    "mse_df = filter(x -> x.mse < 40000, mse_df)"
   ]
  },
  {
   "cell_type": "code",
   "execution_count": 8,
   "metadata": {},
   "outputs": [
    {
     "name": "stderr",
     "output_type": "stream",
     "text": [
      "┌ Warning: RCall.jl: Warning: package ‘scales’ was built under R version 4.0.2\n",
      "└ @ RCall /Users/sarahji/.julia/packages/RCall/6kphM/src/io.jl:172\n",
      "┌ Warning: RCall.jl: Warning: package ‘ggplot2’ was built under R version 4.0.2\n",
      "└ @ RCall /Users/sarahji/.julia/packages/RCall/6kphM/src/io.jl:172\n",
      "┌ Warning: RCall.jl: Warning: package ‘data.table’ was built under R version 4.0.2\n",
      "└ @ RCall /Users/sarahji/.julia/packages/RCall/6kphM/src/io.jl:172\n"
     ]
    },
    {
     "data": {
      "image/png": "[encoded data removed]"
     },
     "metadata": {},
     "output_type": "display_data"
    },
    {
     "data": {
      "text/plain": [
       "RObject{VecSxp}\n"
      ]
     },
     "execution_count": 8,
     "metadata": {},
     "output_type": "execute_result"
    }
   ],
   "source": [
    "### working on figure next\n",
    "@rput mse_df\n",
    "\n",
    "R\"\"\"\n",
    "library(scales)\n",
    "library(ggplot2)\n",
    "library(data.table)\n",
    "\n",
    "msedfR = data.table(mse_df)\n",
    "\n",
    "msedfR[parameters == \"beta\",y_min := 10^-4]\n",
    "msedfR[parameters == \"beta\",y_max := 10^-2]\n",
    "msedfR[parameters == \"theta\",y_min := 10^-5]\n",
    "msedfR[parameters == \"theta\",y_max := 10^1]\n",
    "msedfR[parameters == \"tau\",y_min := 10^-8]\n",
    "msedfR[parameters == \"tau\",y_max := 10^-4]\n",
    "\n",
    "\n",
    "msedfR$obssize = factor(msedfR$obssize, levels = c('2', '5', '10', '15', '20', '25'))\n",
    "msedfR$samplesize = factor(msedfR$samplesize, levels = c('100', '1000', '10000'))\n",
    "msedfR$parameters = factor(msedfR$parameters, levels = c('beta', 'theta', 'tau'), labels = c(beta = expression(hat(bold(beta))), theta = expression(hat(bold(theta))[]), tau = expression(hat(bold(tau)))))\n",
    "msedfR$robust = factor(msedfR$labels, levels = c('Gaussian AR with Identity Link'),\n",
    "    labels = c(expression(paste(\"Gaussian AR with Identity Link\")))) # , expression(paste(\"MvT Gamma Inverse-Gamma\"))))\n",
    "\n",
    "\n",
    "\n",
    "\n",
    "#mseplot <- ggplot(msedfR[msedfR$mse < 10^0, ], aes(x=samplesize, y=mse, fill=obssize)) + \n",
    "mseplot = ggplot(msedfR[msedfR$mse < 10^3, ], aes(x=samplesize, y=mse, fill=obssize)) + \n",
    "  #geom_boxplot(outlier.size = 0.0, outlier.alpha = 0) +\n",
    "  geom_boxplot(outlier.size = 0.25) +\n",
    "#    geom_violin() +\n",
    "    facet_grid(parameters ~ robust, labeller = label_parsed, scales = \"free_y\") +\n",
    "  theme(legend.position=\"right\", legend.key = element_blank(), axis.text.x = element_text(angle=0, size=30),\n",
    "        axis.text.y = element_text(angle=0, size=30), axis.title.x = element_text(size = 30, face=\"bold\"), \n",
    "        axis.title.y = element_text(size = 40, face=\"bold\"), legend.title = element_text(size = 30, face=\"bold\"),\n",
    "        panel.grid.major = element_blank(), panel.grid.minor = element_blank(),\n",
    "        legend.text=element_text(size=30), panel.background = element_rect(fill = NA, color = \"black\"),\n",
    "        #panel.background = element_blank(), #panel.border = element_blank(),\n",
    "        axis.line = element_line(color = 'black',size=0.3), plot.title = element_text(hjust = 0.5),\n",
    "        strip.background = element_rect(colour=\"black\", fill=\"white\"), strip.text.y = element_text(angle = 0, size=75, face=\"bold\"),\n",
    "        strip.text.x = element_text(size=25)) + \n",
    "  scale_fill_manual(values = c(\"#c85f55\",\n",
    "\"#a964bf\",\n",
    "\"#8db352\",\n",
    "\"#fa7300\",\n",
    "\"#05aec0\",\n",
    "\"#ff1493\")) +\n",
    "#scale_y_log10(breaks = scales::trans_breaks(\"log10\", function(x) 10^x)) +\n",
    "#scale_y_log10(breaks = 10^(-8:8), limit=c(10^-8, 10^2)) + \n",
    "scale_y_log10(breaks = 10^seq(-10, 10, 2), labels=trans_format(\"log10\", math_format(10^.x))) + #, limit=c(10^-8, 10^2)) +\n",
    "  labs(x = \"Sample Size\", y = \"MSE of Parameter Estimates\", fill = \"Cluster Size\") +\n",
    "geom_blank(aes(y = y_max)) + \n",
    "geom_blank(aes(y = y_min))  \n",
    "\"\"\""
   ]
  },
  {
   "cell_type": "code",
   "execution_count": 9,
   "metadata": {},
   "outputs": [
    {
     "data": {
      "text/plain": [
       "RObject{StrSxp}\n",
       "[1] \"updated_msefacetplot_Normal_AR.png\"\n"
      ]
     },
     "execution_count": 9,
     "metadata": {},
     "output_type": "execute_result"
    }
   ],
   "source": [
    "R\"\"\"\n",
    "ggsave('updated_msefacetplot_Normal_AR.png', mseplot, width = 12.5, height = 15, units = 'in', dpi = 450)\n",
    "\"\"\""
   ]
  }
 ],
 "metadata": {
  "@webio": {
   "lastCommId": null,
   "lastKernelId": null
  },
  "kernelspec": {
   "display_name": "Julia 1.6.2",
   "language": "julia",
   "name": "julia-1.6"
  },
  "language_info": {
   "file_extension": ".jl",
   "mimetype": "application/julia",
   "name": "julia",
   "version": "1.6.2"
  }
 },
 "nbformat": 4,
 "nbformat_minor": 2
}
