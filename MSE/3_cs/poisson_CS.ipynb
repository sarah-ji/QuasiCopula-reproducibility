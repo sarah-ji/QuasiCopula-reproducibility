{
 "cells": [
  {
   "cell_type": "markdown",
   "metadata": {},
   "source": [
    "## Poisson CS Results \n",
    "\n",
    "This notebook goes over the code needed to reproduce the results from the MSE and time figures in the first simulation in the paper. \n",
    "\n",
    "In this example simulate three fixed effects from $\\beta \\sim$ rand(Uniform(-2, 2), p) where p = 3 fixed effects.\n",
    "\n",
    "In this example we have Poisson base distribution with Log Link function and covariance matrix $\\Gamma$ structured under CS covariance with $\\rho = 0.5, \\sigma^2 = 0.5$\n",
    "\n",
    "We use multi-threading on 8 threads to obtain these MSE results on the following machine, and include MSE results from 100 simulation runs for each scenario."
   ]
  },
  {
   "cell_type": "code",
   "execution_count": 1,
   "metadata": {},
   "outputs": [
    {
     "name": "stdout",
     "output_type": "stream",
     "text": [
      "Julia Version 1.6.2\n",
      "Commit 1b93d53fc4 (2021-07-14 15:36 UTC)\n",
      "Platform Info:\n",
      "  OS: macOS (x86_64-apple-darwin18.7.0)\n",
      "  CPU: Intel(R) Core(TM) i9-9880H CPU @ 2.30GHz\n",
      "  WORD_SIZE: 64\n",
      "  LIBM: libopenlibm\n",
      "  LLVM: libLLVM-11.0.1 (ORCJIT, skylake)\n"
     ]
    }
   ],
   "source": [
    "versioninfo()"
   ]
  },
  {
   "cell_type": "code",
   "execution_count": 2,
   "metadata": {},
   "outputs": [],
   "source": [
    "using QuasiCopula, DelimitedFiles, LinearAlgebra, Random, GLM\n",
    "using DataFrames"
   ]
  },
  {
   "cell_type": "code",
   "execution_count": 3,
   "metadata": {},
   "outputs": [],
   "source": [
    "p  = 3    # number of fixed effects, including intercept\n",
    "\n",
    "# true parameter values\n",
    "Random.seed!(12345)\n",
    "βtrue = rand(Uniform(-2, 2), p)\n",
    "σ2true = [0.5]\n",
    "ρtrue = [0.5]\n",
    "θtrue = [ρtrue; σ2true]\n",
    "\n",
    "# generate data\n",
    "trueparams = [βtrue; θtrue] #hold true parameters\n",
    "\n",
    "#simulation parameters\n",
    "samplesizes = [100; 1000; 10000]\n",
    "ns = [2; 5; 10; 15; 20; 25]\n",
    "nsims = 100;"
   ]
  },
  {
   "cell_type": "code",
   "execution_count": 4,
   "metadata": {},
   "outputs": [
    {
     "name": "stderr",
     "output_type": "stream",
     "text": [
      "┌ Info: reading in the files with results\n",
      "└ @ Main In[4]:1\n"
     ]
    },
    {
     "data": {
      "text/plain": [
       "1800-element Vector{Float64}:\n",
       " 0.074652615\n",
       " 0.053646351\n",
       " 0.048067229\n",
       " 0.06477976\n",
       " 0.061889607\n",
       " 0.0634283\n",
       " 0.049215312\n",
       " 0.038261701\n",
       " 0.06621452\n",
       " 0.062515057\n",
       " 0.086457373\n",
       " 0.06009124\n",
       " 0.062483515\n",
       " ⋮\n",
       " 0.695548977\n",
       " 0.834498454\n",
       " 0.644558037\n",
       " 0.636025448\n",
       " 0.763689302\n",
       " 0.906165034\n",
       " 0.73472156\n",
       " 0.643334306\n",
       " 0.754842305\n",
       " 0.819708391\n",
       " 0.765013448\n",
       " 0.729508139"
      ]
     },
     "execution_count": 4,
     "metadata": {},
     "output_type": "execute_result"
    }
   ],
   "source": [
    "@info \"reading in the files with results\"\n",
    "βMseresult = vec(readdlm(\"mse_beta_multivariate_poisson_CS$(nsims)reps_sim.csv\", ','))\n",
    "σ2MseResult = vec(readdlm(\"mse_sigma_multivariate_poisson_CS$(nsims)reps_sim.csv\", ','))\n",
    "ρMseResult = vec(readdlm(\"mse_rho_multivariate_poisson_CS$(nsims)reps_sim.csv\", ','))\n",
    "fittimes = vec(readdlm(\"fittimes_multivariate_poisson_CS$(nsims)reps_sim.csv\", ','))"
   ]
  },
  {
   "cell_type": "code",
   "execution_count": 5,
   "metadata": {},
   "outputs": [
    {
     "name": "stderr",
     "output_type": "stream",
     "text": [
      "┌ Info: making results table\n",
      "└ @ Main In[5]:2\n"
     ]
    },
    {
     "data": {
      "text/html": [
       "<div class=\"data-frame\"><p>18 rows × 8 columns</p><table class=\"data-frame\"><thead><tr><th></th><th>samplesize</th><th>obssize</th><th>fittime</th><th>se</th><th>nobs</th><th>fitmin</th><th>fitmax</th><th>perobsratio</th></tr><tr><th></th><th title=\"String\">String</th><th title=\"String\">String</th><th title=\"Float64\">Float64</th><th title=\"Float64\">Float64</th><th title=\"Int64\">Int64</th><th title=\"Float64\">Float64</th><th title=\"Float64\">Float64</th><th title=\"Float64\">Float64</th></tr></thead><tbody><tr><th>1</th><td>100</td><td>2</td><td>0.0649948</td><td>0.00226642</td><td>200</td><td>0.0627284</td><td>0.0672612</td><td>0.000324974</td></tr><tr><th>2</th><td>100</td><td>5</td><td>0.078671</td><td>0.00175295</td><td>500</td><td>0.0769181</td><td>0.080424</td><td>0.000157342</td></tr><tr><th>3</th><td>100</td><td>10</td><td>0.133014</td><td>0.0109314</td><td>1000</td><td>0.122082</td><td>0.143945</td><td>0.000133014</td></tr><tr><th>4</th><td>100</td><td>15</td><td>0.212262</td><td>0.0187644</td><td>1500</td><td>0.193498</td><td>0.231026</td><td>0.000141508</td></tr><tr><th>5</th><td>100</td><td>20</td><td>0.234203</td><td>0.0197847</td><td>2000</td><td>0.214419</td><td>0.253988</td><td>0.000117102</td></tr><tr><th>6</th><td>100</td><td>25</td><td>0.289309</td><td>0.0226626</td><td>2500</td><td>0.266647</td><td>0.311972</td><td>0.000115724</td></tr><tr><th>7</th><td>1000</td><td>2</td><td>0.0656045</td><td>0.00111227</td><td>2000</td><td>0.0644922</td><td>0.0667167</td><td>3.28022e-5</td></tr><tr><th>8</th><td>1000</td><td>5</td><td>0.0813061</td><td>0.00085145</td><td>5000</td><td>0.0804546</td><td>0.0821575</td><td>1.62612e-5</td></tr><tr><th>9</th><td>1000</td><td>10</td><td>0.107887</td><td>0.00172942</td><td>10000</td><td>0.106157</td><td>0.109616</td><td>1.07887e-5</td></tr><tr><th>10</th><td>1000</td><td>15</td><td>0.125364</td><td>0.00208097</td><td>15000</td><td>0.123283</td><td>0.127445</td><td>8.35759e-6</td></tr><tr><th>11</th><td>1000</td><td>20</td><td>0.157644</td><td>0.00755822</td><td>20000</td><td>0.150086</td><td>0.165202</td><td>7.8822e-6</td></tr><tr><th>12</th><td>1000</td><td>25</td><td>0.17976</td><td>0.0107167</td><td>25000</td><td>0.169043</td><td>0.190477</td><td>7.19039e-6</td></tr><tr><th>13</th><td>10000</td><td>2</td><td>0.199321</td><td>0.0019986</td><td>20000</td><td>0.197322</td><td>0.20132</td><td>9.96605e-6</td></tr><tr><th>14</th><td>10000</td><td>5</td><td>0.30164</td><td>0.00271296</td><td>50000</td><td>0.298927</td><td>0.304353</td><td>6.0328e-6</td></tr><tr><th>15</th><td>10000</td><td>10</td><td>0.446019</td><td>0.00394867</td><td>100000</td><td>0.442071</td><td>0.449968</td><td>4.46019e-6</td></tr><tr><th>16</th><td>10000</td><td>15</td><td>0.564242</td><td>0.00633081</td><td>150000</td><td>0.557911</td><td>0.570573</td><td>3.76161e-6</td></tr><tr><th>17</th><td>10000</td><td>20</td><td>0.651495</td><td>0.00649154</td><td>200000</td><td>0.645004</td><td>0.657987</td><td>3.25748e-6</td></tr><tr><th>18</th><td>10000</td><td>25</td><td>0.756729</td><td>0.00748217</td><td>250000</td><td>0.749247</td><td>0.764211</td><td>3.02692e-6</td></tr></tbody></table></div>"
      ],
      "text/latex": [
       "\\begin{tabular}{r|cccccccc}\n",
       "\t& samplesize & obssize & fittime & se & nobs & fitmin & fitmax & perobsratio\\\\\n",
       "\t\\hline\n",
       "\t& String & String & Float64 & Float64 & Int64 & Float64 & Float64 & Float64\\\\\n",
       "\t\\hline\n",
       "\t1 & 100 & 2 & 0.0649948 & 0.00226642 & 200 & 0.0627284 & 0.0672612 & 0.000324974 \\\\\n",
       "\t2 & 100 & 5 & 0.078671 & 0.00175295 & 500 & 0.0769181 & 0.080424 & 0.000157342 \\\\\n",
       "\t3 & 100 & 10 & 0.133014 & 0.0109314 & 1000 & 0.122082 & 0.143945 & 0.000133014 \\\\\n",
       "\t4 & 100 & 15 & 0.212262 & 0.0187644 & 1500 & 0.193498 & 0.231026 & 0.000141508 \\\\\n",
       "\t5 & 100 & 20 & 0.234203 & 0.0197847 & 2000 & 0.214419 & 0.253988 & 0.000117102 \\\\\n",
       "\t6 & 100 & 25 & 0.289309 & 0.0226626 & 2500 & 0.266647 & 0.311972 & 0.000115724 \\\\\n",
       "\t7 & 1000 & 2 & 0.0656045 & 0.00111227 & 2000 & 0.0644922 & 0.0667167 & 3.28022e-5 \\\\\n",
       "\t8 & 1000 & 5 & 0.0813061 & 0.00085145 & 5000 & 0.0804546 & 0.0821575 & 1.62612e-5 \\\\\n",
       "\t9 & 1000 & 10 & 0.107887 & 0.00172942 & 10000 & 0.106157 & 0.109616 & 1.07887e-5 \\\\\n",
       "\t10 & 1000 & 15 & 0.125364 & 0.00208097 & 15000 & 0.123283 & 0.127445 & 8.35759e-6 \\\\\n",
       "\t11 & 1000 & 20 & 0.157644 & 0.00755822 & 20000 & 0.150086 & 0.165202 & 7.8822e-6 \\\\\n",
       "\t12 & 1000 & 25 & 0.17976 & 0.0107167 & 25000 & 0.169043 & 0.190477 & 7.19039e-6 \\\\\n",
       "\t13 & 10000 & 2 & 0.199321 & 0.0019986 & 20000 & 0.197322 & 0.20132 & 9.96605e-6 \\\\\n",
       "\t14 & 10000 & 5 & 0.30164 & 0.00271296 & 50000 & 0.298927 & 0.304353 & 6.0328e-6 \\\\\n",
       "\t15 & 10000 & 10 & 0.446019 & 0.00394867 & 100000 & 0.442071 & 0.449968 & 4.46019e-6 \\\\\n",
       "\t16 & 10000 & 15 & 0.564242 & 0.00633081 & 150000 & 0.557911 & 0.570573 & 3.76161e-6 \\\\\n",
       "\t17 & 10000 & 20 & 0.651495 & 0.00649154 & 200000 & 0.645004 & 0.657987 & 3.25748e-6 \\\\\n",
       "\t18 & 10000 & 25 & 0.756729 & 0.00748217 & 250000 & 0.749247 & 0.764211 & 3.02692e-6 \\\\\n",
       "\\end{tabular}\n"
      ],
      "text/plain": [
       "\u001b[1m18×8 DataFrame\u001b[0m\n",
       "\u001b[1m Row \u001b[0m│\u001b[1m samplesize \u001b[0m\u001b[1m obssize \u001b[0m\u001b[1m fittime   \u001b[0m\u001b[1m se         \u001b[0m\u001b[1m nobs   \u001b[0m\u001b[1m fitmin    \u001b[0m\u001b[1m fitmax  \u001b[0m ⋯\n",
       "\u001b[1m     \u001b[0m│\u001b[90m String     \u001b[0m\u001b[90m String  \u001b[0m\u001b[90m Float64   \u001b[0m\u001b[90m Float64    \u001b[0m\u001b[90m Int64  \u001b[0m\u001b[90m Float64   \u001b[0m\u001b[90m Float64 \u001b[0m ⋯\n",
       "─────┼──────────────────────────────────────────────────────────────────────────\n",
       "   1 │ 100         2        0.0649948  0.00226642     200  0.0627284  0.067261 ⋯\n",
       "   2 │ 100         5        0.078671   0.00175295     500  0.0769181  0.080424\n",
       "   3 │ 100         10       0.133014   0.0109314     1000  0.122082   0.143945\n",
       "   4 │ 100         15       0.212262   0.0187644     1500  0.193498   0.231026\n",
       "   5 │ 100         20       0.234203   0.0197847     2000  0.214419   0.253988 ⋯\n",
       "   6 │ 100         25       0.289309   0.0226626     2500  0.266647   0.311972\n",
       "   7 │ 1000        2        0.0656045  0.00111227    2000  0.0644922  0.066716\n",
       "   8 │ 1000        5        0.0813061  0.00085145    5000  0.0804546  0.082157\n",
       "   9 │ 1000        10       0.107887   0.00172942   10000  0.106157   0.109616 ⋯\n",
       "  10 │ 1000        15       0.125364   0.00208097   15000  0.123283   0.127445\n",
       "  11 │ 1000        20       0.157644   0.00755822   20000  0.150086   0.165202\n",
       "  12 │ 1000        25       0.17976    0.0107167    25000  0.169043   0.190477\n",
       "  13 │ 10000       2        0.199321   0.0019986    20000  0.197322   0.20132  ⋯\n",
       "  14 │ 10000       5        0.30164    0.00271296   50000  0.298927   0.304353\n",
       "  15 │ 10000       10       0.446019   0.00394867  100000  0.442071   0.449968\n",
       "  16 │ 10000       15       0.564242   0.00633081  150000  0.557911   0.570573\n",
       "  17 │ 10000       20       0.651495   0.00649154  200000  0.645004   0.657987 ⋯\n",
       "  18 │ 10000       25       0.756729   0.00748217  250000  0.749247   0.764211\n",
       "\u001b[36m                                                               2 columns omitted\u001b[0m"
      ]
     },
     "execution_count": 5,
     "metadata": {},
     "output_type": "execute_result"
    }
   ],
   "source": [
    "#simulation parameters\n",
    "@info \"making results table\"\n",
    "sample_sizes = repeat(string.(samplesizes), inner = nsims * length(ns))\n",
    "obs_sizes = repeat(string.(ns), inner = nsims, outer = length(samplesizes))\n",
    "\n",
    "data = hcat(sample_sizes, obs_sizes, fittimes)\n",
    "\n",
    "msedf = DataFrame(samplesize = sample_sizes, obssize = obs_sizes, fittimes = fittimes)\n",
    "msedf = filter(x -> !isnan(x.fittimes), msedf)\n",
    "\n",
    "timedf = combine(groupby(msedf, [:samplesize, :obssize]), :fittimes => mean => :fittime,\n",
    "    :fittimes => x -> (std(x)/sqrt(length(x))))\n",
    "rename!(timedf, Dict(:fittimes_function => \"se\"))\n",
    "timedf[!, :nobs] = Meta.parse.(timedf[!, :samplesize]) .* Meta.parse.(timedf[!, :obssize])\n",
    "timedf[!, :fitmin] = timedf[!, :fittime] - timedf[!, :se]\n",
    "timedf[!, :fitmax] = timedf[!, :fittime] + timedf[!, :se]\n",
    "timedf[!, :perobsratio] = timedf[!, :fittime] ./ timedf[!, :nobs]\n",
    "timedf"
   ]
  },
  {
   "cell_type": "code",
   "execution_count": 6,
   "metadata": {},
   "outputs": [
    {
     "data": {
      "text/html": [
       "<div class=\"data-frame\"><p>18 rows × 6 columns (omitted printing of 1 columns)</p><table class=\"data-frame\"><thead><tr><th></th><th>people_obs</th><th>β1</th><th>β2</th><th>β3</th><th>ρ</th></tr><tr><th></th><th title=\"String\">String</th><th title=\"Tuple{Float64, Float64}\">Tuple…</th><th title=\"Tuple{Float64, Float64}\">Tuple…</th><th title=\"Tuple{Float64, Float64}\">Tuple…</th><th title=\"Tuple{Float64, Float64}\">Tuple…</th></tr></thead><tbody><tr><th>1</th><td>N: 100  ni: 2</td><td>(0.51, 0.0502418)</td><td>(0.66, 0.0476095)</td><td>(0.65, 0.0479372)</td><td>(0.96, 0.0196946)</td></tr><tr><th>2</th><td>N: 100  ni: 5</td><td>(0.44, 0.0498888)</td><td>(0.75, 0.0435194)</td><td>(0.71, 0.0456048)</td><td>(0.97, 0.0171447)</td></tr><tr><th>3</th><td>N: 100  ni: 10</td><td>(0.47, 0.0501614)</td><td>(0.85, 0.035887)</td><td>(0.74, 0.0440844)</td><td>(0.91, 0.0287623)</td></tr><tr><th>4</th><td>N: 100  ni: 15</td><td>(0.52, 0.0502117)</td><td>(0.86, 0.0348735)</td><td>(0.67, 0.0472582)</td><td>(0.84, 0.0368453)</td></tr><tr><th>5</th><td>N: 100  ni: 20</td><td>(0.37, 0.0485237)</td><td>(0.77, 0.0422953)</td><td>(0.6, 0.0492366)</td><td>(0.8, 0.0402015)</td></tr><tr><th>6</th><td>N: 100  ni: 25</td><td>(0.44, 0.0498888)</td><td>(0.83, 0.0377525)</td><td>(0.69, 0.0464823)</td><td>(0.88, 0.0326599)</td></tr><tr><th>7</th><td>N: 1000  ni: 2</td><td>(0.39, 0.0490207)</td><td>(0.79, 0.040936)</td><td>(0.65, 0.0479372)</td><td>(0.92, 0.027266)</td></tr><tr><th>8</th><td>N: 1000  ni: 5</td><td>(0.47, 0.0501614)</td><td>(0.85, 0.035887)</td><td>(0.81, 0.0394277)</td><td>(0.9, 0.0301511)</td></tr><tr><th>9</th><td>N: 1000  ni: 10</td><td>(0.46, 0.0500908)</td><td>(0.85, 0.035887)</td><td>(0.78, 0.0416333)</td><td>(0.87, 0.0337998)</td></tr><tr><th>10</th><td>N: 1000  ni: 15</td><td>(0.45, 0.05)</td><td>(0.79, 0.040936)</td><td>(0.74, 0.0440844)</td><td>(0.86, 0.0348735)</td></tr><tr><th>11</th><td>N: 1000  ni: 20</td><td>(0.48, 0.0502117)</td><td>(0.83, 0.0377525)</td><td>(0.77, 0.0422953)</td><td>(0.71, 0.0456048)</td></tr><tr><th>12</th><td>N: 1000  ni: 25</td><td>(0.45, 0.05)</td><td>(0.86, 0.0348735)</td><td>(0.72, 0.0451261)</td><td>(0.86, 0.0348735)</td></tr><tr><th>13</th><td>N: 10000  ni: 2</td><td>(0.49, 0.0502418)</td><td>(0.89, 0.0314466)</td><td>(0.82, 0.0386123)</td><td>(0.94, 0.0238683)</td></tr><tr><th>14</th><td>N: 10000  ni: 5</td><td>(0.49, 0.0502418)</td><td>(0.88, 0.0326599)</td><td>(0.81, 0.0394277)</td><td>(0.92, 0.027266)</td></tr><tr><th>15</th><td>N: 10000  ni: 10</td><td>(0.42, 0.0496045)</td><td>(0.86, 0.0348735)</td><td>(0.75, 0.0435194)</td><td>(0.9, 0.0301511)</td></tr><tr><th>16</th><td>N: 10000  ni: 15</td><td>(0.48, 0.0502117)</td><td>(0.91, 0.0287623)</td><td>(0.7, 0.0460566)</td><td>(0.88, 0.0326599)</td></tr><tr><th>17</th><td>N: 10000  ni: 20</td><td>(0.49, 0.0502418)</td><td>(0.88, 0.0326599)</td><td>(0.75, 0.0435194)</td><td>(0.79, 0.040936)</td></tr><tr><th>18</th><td>N: 10000  ni: 25</td><td>(0.5, 0.0502519)</td><td>(0.92, 0.027266)</td><td>(0.76, 0.0429235)</td><td>(0.8, 0.0402015)</td></tr></tbody></table></div>"
      ],
      "text/latex": [
       "\\begin{tabular}{r|cccccc}\n",
       "\t& people\\_obs & β1 & β2 & β3 & ρ & \\\\\n",
       "\t\\hline\n",
       "\t& String & Tuple… & Tuple… & Tuple… & Tuple… & \\\\\n",
       "\t\\hline\n",
       "\t1 & N: 100  ni: 2 & (0.51, 0.0502418) & (0.66, 0.0476095) & (0.65, 0.0479372) & (0.96, 0.0196946) & $\\dots$ \\\\\n",
       "\t2 & N: 100  ni: 5 & (0.44, 0.0498888) & (0.75, 0.0435194) & (0.71, 0.0456048) & (0.97, 0.0171447) & $\\dots$ \\\\\n",
       "\t3 & N: 100  ni: 10 & (0.47, 0.0501614) & (0.85, 0.035887) & (0.74, 0.0440844) & (0.91, 0.0287623) & $\\dots$ \\\\\n",
       "\t4 & N: 100  ni: 15 & (0.52, 0.0502117) & (0.86, 0.0348735) & (0.67, 0.0472582) & (0.84, 0.0368453) & $\\dots$ \\\\\n",
       "\t5 & N: 100  ni: 20 & (0.37, 0.0485237) & (0.77, 0.0422953) & (0.6, 0.0492366) & (0.8, 0.0402015) & $\\dots$ \\\\\n",
       "\t6 & N: 100  ni: 25 & (0.44, 0.0498888) & (0.83, 0.0377525) & (0.69, 0.0464823) & (0.88, 0.0326599) & $\\dots$ \\\\\n",
       "\t7 & N: 1000  ni: 2 & (0.39, 0.0490207) & (0.79, 0.040936) & (0.65, 0.0479372) & (0.92, 0.027266) & $\\dots$ \\\\\n",
       "\t8 & N: 1000  ni: 5 & (0.47, 0.0501614) & (0.85, 0.035887) & (0.81, 0.0394277) & (0.9, 0.0301511) & $\\dots$ \\\\\n",
       "\t9 & N: 1000  ni: 10 & (0.46, 0.0500908) & (0.85, 0.035887) & (0.78, 0.0416333) & (0.87, 0.0337998) & $\\dots$ \\\\\n",
       "\t10 & N: 1000  ni: 15 & (0.45, 0.05) & (0.79, 0.040936) & (0.74, 0.0440844) & (0.86, 0.0348735) & $\\dots$ \\\\\n",
       "\t11 & N: 1000  ni: 20 & (0.48, 0.0502117) & (0.83, 0.0377525) & (0.77, 0.0422953) & (0.71, 0.0456048) & $\\dots$ \\\\\n",
       "\t12 & N: 1000  ni: 25 & (0.45, 0.05) & (0.86, 0.0348735) & (0.72, 0.0451261) & (0.86, 0.0348735) & $\\dots$ \\\\\n",
       "\t13 & N: 10000  ni: 2 & (0.49, 0.0502418) & (0.89, 0.0314466) & (0.82, 0.0386123) & (0.94, 0.0238683) & $\\dots$ \\\\\n",
       "\t14 & N: 10000  ni: 5 & (0.49, 0.0502418) & (0.88, 0.0326599) & (0.81, 0.0394277) & (0.92, 0.027266) & $\\dots$ \\\\\n",
       "\t15 & N: 10000  ni: 10 & (0.42, 0.0496045) & (0.86, 0.0348735) & (0.75, 0.0435194) & (0.9, 0.0301511) & $\\dots$ \\\\\n",
       "\t16 & N: 10000  ni: 15 & (0.48, 0.0502117) & (0.91, 0.0287623) & (0.7, 0.0460566) & (0.88, 0.0326599) & $\\dots$ \\\\\n",
       "\t17 & N: 10000  ni: 20 & (0.49, 0.0502418) & (0.88, 0.0326599) & (0.75, 0.0435194) & (0.79, 0.040936) & $\\dots$ \\\\\n",
       "\t18 & N: 10000  ni: 25 & (0.5, 0.0502519) & (0.92, 0.027266) & (0.76, 0.0429235) & (0.8, 0.0402015) & $\\dots$ \\\\\n",
       "\\end{tabular}\n"
      ],
      "text/plain": [
       "\u001b[1m18×6 DataFrame\u001b[0m\n",
       "\u001b[1m Row \u001b[0m│\u001b[1m people_obs       \u001b[0m\u001b[1m β1                \u001b[0m\u001b[1m β2                \u001b[0m\u001b[1m β3             \u001b[0m ⋯\n",
       "\u001b[1m     \u001b[0m│\u001b[90m String           \u001b[0m\u001b[90m Tuple…            \u001b[0m\u001b[90m Tuple…            \u001b[0m\u001b[90m Tuple…         \u001b[0m ⋯\n",
       "─────┼──────────────────────────────────────────────────────────────────────────\n",
       "   1 │ N: 100  ni: 2     (0.51, 0.0502418)  (0.66, 0.0476095)  (0.65, 0.047937 ⋯\n",
       "   2 │ N: 100  ni: 5     (0.44, 0.0498888)  (0.75, 0.0435194)  (0.71, 0.045604\n",
       "   3 │ N: 100  ni: 10    (0.47, 0.0501614)  (0.85, 0.035887)   (0.74, 0.044084\n",
       "   4 │ N: 100  ni: 15    (0.52, 0.0502117)  (0.86, 0.0348735)  (0.67, 0.047258\n",
       "   5 │ N: 100  ni: 20    (0.37, 0.0485237)  (0.77, 0.0422953)  (0.6, 0.0492366 ⋯\n",
       "   6 │ N: 100  ni: 25    (0.44, 0.0498888)  (0.83, 0.0377525)  (0.69, 0.046482\n",
       "   7 │ N: 1000  ni: 2    (0.39, 0.0490207)  (0.79, 0.040936)   (0.65, 0.047937\n",
       "   8 │ N: 1000  ni: 5    (0.47, 0.0501614)  (0.85, 0.035887)   (0.81, 0.039427\n",
       "   9 │ N: 1000  ni: 10   (0.46, 0.0500908)  (0.85, 0.035887)   (0.78, 0.041633 ⋯\n",
       "  10 │ N: 1000  ni: 15   (0.45, 0.05)       (0.79, 0.040936)   (0.74, 0.044084\n",
       "  11 │ N: 1000  ni: 20   (0.48, 0.0502117)  (0.83, 0.0377525)  (0.77, 0.042295\n",
       "  12 │ N: 1000  ni: 25   (0.45, 0.05)       (0.86, 0.0348735)  (0.72, 0.045126\n",
       "  13 │ N: 10000  ni: 2   (0.49, 0.0502418)  (0.89, 0.0314466)  (0.82, 0.038612 ⋯\n",
       "  14 │ N: 10000  ni: 5   (0.49, 0.0502418)  (0.88, 0.0326599)  (0.81, 0.039427\n",
       "  15 │ N: 10000  ni: 10  (0.42, 0.0496045)  (0.86, 0.0348735)  (0.75, 0.043519\n",
       "  16 │ N: 10000  ni: 15  (0.48, 0.0502117)  (0.91, 0.0287623)  (0.7, 0.0460566\n",
       "  17 │ N: 10000  ni: 20  (0.49, 0.0502418)  (0.88, 0.0326599)  (0.75, 0.043519 ⋯\n",
       "  18 │ N: 10000  ni: 25  (0.5, 0.0502519)   (0.92, 0.027266)   (0.76, 0.042923\n",
       "\u001b[36m                                                               3 columns omitted\u001b[0m"
      ]
     },
     "execution_count": 6,
     "metadata": {},
     "output_type": "execute_result"
    }
   ],
   "source": [
    "######  supplementary table s1\n",
    "using Random, DataFrames, DelimitedFiles, Statistics\n",
    "import StatsBase: sem\n",
    "\n",
    "βρσ2coverage = readdlm(\"beta_rho_sigma_coverage_multivariate_poisson_CS$(nsims)reps_sim.csv\", ',')\n",
    "\n",
    "m = 2\n",
    "\n",
    "covdf = DataFrame(Matrix(transpose(βρσ2coverage)), :auto)\n",
    "rename!(covdf, Symbol.([[\"β$i\" for i in 1:p];  [\"ρ\"]; [\"σ2\"]]))\n",
    "covdf[!, :samplesize] = sample_sizes\n",
    "covdf[!, :obssize] = obs_sizes\n",
    "first(covdf, 10)\n",
    "\n",
    "row_stats = [[(mean(col), sem(col)) for col = eachcol(d[!, 1:end-2])] for d = groupby(covdf, [:samplesize; :obssize])]\n",
    "df = DataFrame(row_stats, :auto)\n",
    "ss_obs = unique(\"N: \" .* sample_sizes .* \"  ni: \" .* obs_sizes)\n",
    "rename!(df, Symbol.(ss_obs))\n",
    "covdfdisplay = DataFrame([[names(df)]; collect.(eachrow(df))], \n",
    "    [:people_obs; Symbol.([[\"β$i\" for i in 1:p]; [\"ρ\"];[\"σ2\"]])])\n",
    "# deletecols!(covdfdisplay, p + 2)\n",
    "covdfdisplay\n"
   ]
  },
  {
   "cell_type": "code",
   "execution_count": 7,
   "metadata": {},
   "outputs": [
    {
     "data": {
      "text/html": [
       "<div class=\"data-frame\"><p>3,529 rows × 5 columns</p><table class=\"data-frame\"><thead><tr><th></th><th>mse</th><th>obssize</th><th>samplesize</th><th>parameters</th><th>robust</th></tr><tr><th></th><th title=\"Float64\">Float64</th><th title=\"String\">String</th><th title=\"String\">String</th><th title=\"String\">String</th><th title=\"String\">String</th></tr></thead><tbody><tr><th>1</th><td>0.00329795</td><td>2</td><td>100</td><td>beta</td><td>Poisson CS with LogLink</td></tr><tr><th>2</th><td>0.000413822</td><td>2</td><td>100</td><td>beta</td><td>Poisson CS with LogLink</td></tr><tr><th>3</th><td>0.00468774</td><td>2</td><td>100</td><td>beta</td><td>Poisson CS with LogLink</td></tr><tr><th>4</th><td>0.0029853</td><td>2</td><td>100</td><td>beta</td><td>Poisson CS with LogLink</td></tr><tr><th>5</th><td>0.000582128</td><td>2</td><td>100</td><td>beta</td><td>Poisson CS with LogLink</td></tr><tr><th>6</th><td>0.000694845</td><td>2</td><td>100</td><td>beta</td><td>Poisson CS with LogLink</td></tr><tr><th>7</th><td>0.00170186</td><td>2</td><td>100</td><td>beta</td><td>Poisson CS with LogLink</td></tr><tr><th>8</th><td>0.000276654</td><td>2</td><td>100</td><td>beta</td><td>Poisson CS with LogLink</td></tr><tr><th>9</th><td>0.0020291</td><td>2</td><td>100</td><td>beta</td><td>Poisson CS with LogLink</td></tr><tr><th>10</th><td>0.00400199</td><td>2</td><td>100</td><td>beta</td><td>Poisson CS with LogLink</td></tr><tr><th>11</th><td>0.000320987</td><td>2</td><td>100</td><td>beta</td><td>Poisson CS with LogLink</td></tr><tr><th>12</th><td>0.00237275</td><td>2</td><td>100</td><td>beta</td><td>Poisson CS with LogLink</td></tr><tr><th>13</th><td>0.00134084</td><td>2</td><td>100</td><td>beta</td><td>Poisson CS with LogLink</td></tr><tr><th>14</th><td>0.00154262</td><td>2</td><td>100</td><td>beta</td><td>Poisson CS with LogLink</td></tr><tr><th>15</th><td>0.00333369</td><td>2</td><td>100</td><td>beta</td><td>Poisson CS with LogLink</td></tr><tr><th>16</th><td>0.00372138</td><td>2</td><td>100</td><td>beta</td><td>Poisson CS with LogLink</td></tr><tr><th>17</th><td>0.0362268</td><td>2</td><td>100</td><td>beta</td><td>Poisson CS with LogLink</td></tr><tr><th>18</th><td>0.00548653</td><td>2</td><td>100</td><td>beta</td><td>Poisson CS with LogLink</td></tr><tr><th>19</th><td>0.00199469</td><td>2</td><td>100</td><td>beta</td><td>Poisson CS with LogLink</td></tr><tr><th>20</th><td>0.000660671</td><td>2</td><td>100</td><td>beta</td><td>Poisson CS with LogLink</td></tr><tr><th>21</th><td>0.000818216</td><td>2</td><td>100</td><td>beta</td><td>Poisson CS with LogLink</td></tr><tr><th>22</th><td>0.0155089</td><td>2</td><td>100</td><td>beta</td><td>Poisson CS with LogLink</td></tr><tr><th>23</th><td>0.00484534</td><td>2</td><td>100</td><td>beta</td><td>Poisson CS with LogLink</td></tr><tr><th>24</th><td>2.45074e-5</td><td>2</td><td>100</td><td>beta</td><td>Poisson CS with LogLink</td></tr><tr><th>25</th><td>0.00303395</td><td>2</td><td>100</td><td>beta</td><td>Poisson CS with LogLink</td></tr><tr><th>26</th><td>0.00398887</td><td>2</td><td>100</td><td>beta</td><td>Poisson CS with LogLink</td></tr><tr><th>27</th><td>0.0113308</td><td>2</td><td>100</td><td>beta</td><td>Poisson CS with LogLink</td></tr><tr><th>28</th><td>0.00411136</td><td>2</td><td>100</td><td>beta</td><td>Poisson CS with LogLink</td></tr><tr><th>29</th><td>0.0105339</td><td>2</td><td>100</td><td>beta</td><td>Poisson CS with LogLink</td></tr><tr><th>30</th><td>0.00208462</td><td>2</td><td>100</td><td>beta</td><td>Poisson CS with LogLink</td></tr><tr><th>&vellip;</th><td>&vellip;</td><td>&vellip;</td><td>&vellip;</td><td>&vellip;</td><td>&vellip;</td></tr></tbody></table></div>"
      ],
      "text/latex": [
       "\\begin{tabular}{r|ccccc}\n",
       "\t& mse & obssize & samplesize & parameters & robust\\\\\n",
       "\t\\hline\n",
       "\t& Float64 & String & String & String & String\\\\\n",
       "\t\\hline\n",
       "\t1 & 0.00329795 & 2 & 100 & beta & Poisson CS with LogLink \\\\\n",
       "\t2 & 0.000413822 & 2 & 100 & beta & Poisson CS with LogLink \\\\\n",
       "\t3 & 0.00468774 & 2 & 100 & beta & Poisson CS with LogLink \\\\\n",
       "\t4 & 0.0029853 & 2 & 100 & beta & Poisson CS with LogLink \\\\\n",
       "\t5 & 0.000582128 & 2 & 100 & beta & Poisson CS with LogLink \\\\\n",
       "\t6 & 0.000694845 & 2 & 100 & beta & Poisson CS with LogLink \\\\\n",
       "\t7 & 0.00170186 & 2 & 100 & beta & Poisson CS with LogLink \\\\\n",
       "\t8 & 0.000276654 & 2 & 100 & beta & Poisson CS with LogLink \\\\\n",
       "\t9 & 0.0020291 & 2 & 100 & beta & Poisson CS with LogLink \\\\\n",
       "\t10 & 0.00400199 & 2 & 100 & beta & Poisson CS with LogLink \\\\\n",
       "\t11 & 0.000320987 & 2 & 100 & beta & Poisson CS with LogLink \\\\\n",
       "\t12 & 0.00237275 & 2 & 100 & beta & Poisson CS with LogLink \\\\\n",
       "\t13 & 0.00134084 & 2 & 100 & beta & Poisson CS with LogLink \\\\\n",
       "\t14 & 0.00154262 & 2 & 100 & beta & Poisson CS with LogLink \\\\\n",
       "\t15 & 0.00333369 & 2 & 100 & beta & Poisson CS with LogLink \\\\\n",
       "\t16 & 0.00372138 & 2 & 100 & beta & Poisson CS with LogLink \\\\\n",
       "\t17 & 0.0362268 & 2 & 100 & beta & Poisson CS with LogLink \\\\\n",
       "\t18 & 0.00548653 & 2 & 100 & beta & Poisson CS with LogLink \\\\\n",
       "\t19 & 0.00199469 & 2 & 100 & beta & Poisson CS with LogLink \\\\\n",
       "\t20 & 0.000660671 & 2 & 100 & beta & Poisson CS with LogLink \\\\\n",
       "\t21 & 0.000818216 & 2 & 100 & beta & Poisson CS with LogLink \\\\\n",
       "\t22 & 0.0155089 & 2 & 100 & beta & Poisson CS with LogLink \\\\\n",
       "\t23 & 0.00484534 & 2 & 100 & beta & Poisson CS with LogLink \\\\\n",
       "\t24 & 2.45074e-5 & 2 & 100 & beta & Poisson CS with LogLink \\\\\n",
       "\t25 & 0.00303395 & 2 & 100 & beta & Poisson CS with LogLink \\\\\n",
       "\t26 & 0.00398887 & 2 & 100 & beta & Poisson CS with LogLink \\\\\n",
       "\t27 & 0.0113308 & 2 & 100 & beta & Poisson CS with LogLink \\\\\n",
       "\t28 & 0.00411136 & 2 & 100 & beta & Poisson CS with LogLink \\\\\n",
       "\t29 & 0.0105339 & 2 & 100 & beta & Poisson CS with LogLink \\\\\n",
       "\t30 & 0.00208462 & 2 & 100 & beta & Poisson CS with LogLink \\\\\n",
       "\t$\\dots$ & $\\dots$ & $\\dots$ & $\\dots$ & $\\dots$ & $\\dots$ \\\\\n",
       "\\end{tabular}\n"
      ],
      "text/plain": [
       "\u001b[1m3529×5 DataFrame\u001b[0m\n",
       "\u001b[1m  Row \u001b[0m│\u001b[1m mse         \u001b[0m\u001b[1m obssize \u001b[0m\u001b[1m samplesize \u001b[0m\u001b[1m parameters \u001b[0m\u001b[1m robust                  \u001b[0m\n",
       "\u001b[1m      \u001b[0m│\u001b[90m Float64     \u001b[0m\u001b[90m String  \u001b[0m\u001b[90m String     \u001b[0m\u001b[90m String     \u001b[0m\u001b[90m String                  \u001b[0m\n",
       "──────┼───────────────────────────────────────────────────────────────────────\n",
       "    1 │ 0.00329795   2        100         beta        Poisson CS with LogLink\n",
       "    2 │ 0.000413822  2        100         beta        Poisson CS with LogLink\n",
       "    3 │ 0.00468774   2        100         beta        Poisson CS with LogLink\n",
       "    4 │ 0.0029853    2        100         beta        Poisson CS with LogLink\n",
       "    5 │ 0.000582128  2        100         beta        Poisson CS with LogLink\n",
       "    6 │ 0.000694845  2        100         beta        Poisson CS with LogLink\n",
       "    7 │ 0.00170186   2        100         beta        Poisson CS with LogLink\n",
       "    8 │ 0.000276654  2        100         beta        Poisson CS with LogLink\n",
       "    9 │ 0.0020291    2        100         beta        Poisson CS with LogLink\n",
       "   10 │ 0.00400199   2        100         beta        Poisson CS with LogLink\n",
       "   11 │ 0.000320987  2        100         beta        Poisson CS with LogLink\n",
       "  ⋮   │      ⋮          ⋮         ⋮           ⋮                  ⋮\n",
       " 3520 │ 0.00014765   25       10000       theta       Poisson CS with LogLink\n",
       " 3521 │ 0.00288231   25       10000       theta       Poisson CS with LogLink\n",
       " 3522 │ 0.00078241   25       10000       theta       Poisson CS with LogLink\n",
       " 3523 │ 0.000771614  25       10000       theta       Poisson CS with LogLink\n",
       " 3524 │ 0.000127714  25       10000       theta       Poisson CS with LogLink\n",
       " 3525 │ 0.113062     25       10000       theta       Poisson CS with LogLink\n",
       " 3526 │ 0.00984949   25       10000       theta       Poisson CS with LogLink\n",
       " 3527 │ 0.000240739  25       10000       theta       Poisson CS with LogLink\n",
       " 3528 │ 0.00932079   25       10000       theta       Poisson CS with LogLink\n",
       " 3529 │ 0.000962278  25       10000       theta       Poisson CS with LogLink\n",
       "\u001b[36m                                                             3508 rows omitted\u001b[0m"
      ]
     },
     "execution_count": 7,
     "metadata": {},
     "output_type": "execute_result"
    }
   ],
   "source": [
    "#### \n",
    "#import data and reorganize to create figure\n",
    "using Random, DataFrames, DelimitedFiles, Statistics, RCall, Printf\n",
    "import StatsBase: sem\n",
    "\n",
    "βMseresult_1 = vec(readdlm(\"mse_beta_multivariate_poisson_CS$(nsims)reps_sim.csv\", ','))\n",
    "σ2MseResult_1 = vec(readdlm(\"mse_sigma_multivariate_poisson_CS$(nsims)reps_sim.csv\", ','))\n",
    "ρMseResult_1 = vec(readdlm(\"mse_rho_multivariate_poisson_CS$(nsims)reps_sim.csv\", ','))\n",
    "θMseResult_1 = (σ2MseResult_1 .+ ρMseResult_1) ./ 2\n",
    "βρσ2coverage_1 = readdlm(\"beta_rho_sigma_coverage_multivariate_poisson_CS$(nsims)reps_sim.csv\", ',')\n",
    "\n",
    "samplesizesrobust = samplesizes\n",
    "nsrobust = ns\n",
    "nsimsrobust = nsims\n",
    "\n",
    "p = 3\n",
    "sample_sizesrobust = repeat(string.(samplesizesrobust), inner = nsimsrobust * length(nsrobust))\n",
    "obs_sizesrobust = repeat(string.(nsrobust), inner = nsimsrobust, outer = length(samplesizesrobust))\n",
    "msedfrobust = DataFrame(βmse = βMseresult_1, θMse = θMseResult_1,\n",
    "    samplesize = sample_sizesrobust, obssize = obs_sizesrobust)\n",
    "\n",
    "msedfrobustR = deepcopy(msedfrobust)\n",
    "rename!(msedfrobustR, [\"betamse\"\n",
    "    \"thetamse\"\n",
    "    \"samplesize\"\n",
    " \"obssize\"]);\n",
    "\n",
    "\n",
    "mses = [msedfrobustR[!, :betamse]; msedfrobustR[!, :thetamse]]\n",
    "\n",
    "obssize = collect([repeat(msedfrobustR[!, :obssize], 2)]...)\n",
    "\n",
    "samplesize = collect([repeat(msedfrobustR[!, :samplesize], 2)]...)\n",
    "\n",
    "parameters = collect([repeat(string.([:beta, :theta]), inner = nsimsrobust * length(nsrobust) * length(samplesizesrobust))]...)\n",
    "\n",
    "robust = collect([repeat([\"Poisson CS with LogLink\"], 2 * nsimsrobust * length(nsrobust) * length(samplesizesrobust))]...) # ;\n",
    "\n",
    "msedfR = DataFrame(mse = mses, obssize = obssize, samplesize = samplesize,\n",
    "    parameters = parameters, robust = robust)\n",
    "\n",
    "msedfR = filter(x -> !isnan(x.mse), msedfR)\n",
    "msedfR = filter(x -> x.mse < 40000, msedfR)"
   ]
  },
  {
   "cell_type": "code",
   "execution_count": 8,
   "metadata": {},
   "outputs": [
    {
     "name": "stderr",
     "output_type": "stream",
     "text": [
      "┌ Warning: RCall.jl: Warning: package ‘scales’ was built under R version 4.0.2\n",
      "└ @ RCall /Users/sarahji/.julia/packages/RCall/6kphM/src/io.jl:172\n",
      "┌ Warning: RCall.jl: Warning: package ‘ggplot2’ was built under R version 4.0.2\n",
      "└ @ RCall /Users/sarahji/.julia/packages/RCall/6kphM/src/io.jl:172\n",
      "┌ Warning: RCall.jl: Warning: package ‘data.table’ was built under R version 4.0.2\n",
      "└ @ RCall /Users/sarahji/.julia/packages/RCall/6kphM/src/io.jl:172\n"
     ]
    },
    {
     "data": {
      "image/png": "[encoded data removed]"
     },
     "metadata": {},
     "output_type": "display_data"
    },
    {
     "data": {
      "text/plain": [
       "RObject{VecSxp}\n"
      ]
     },
     "execution_count": 8,
     "metadata": {},
     "output_type": "execute_result"
    }
   ],
   "source": [
    "### working on figure next\n",
    "@rput msedfR\n",
    "\n",
    "R\"\"\"\n",
    "library(scales)\n",
    "library(ggplot2)\n",
    "library(data.table)\n",
    "\n",
    "msedfR = data.table(msedfR)\n",
    "\n",
    "msedfR[parameters == \"beta\",y_min := 10^-8]\n",
    "msedfR[parameters == \"beta\",y_max := 10^-1]\n",
    "msedfR[parameters == \"theta\",y_min := 10^-5]\n",
    "msedfR[parameters == \"theta\",y_max := 10^1]\n",
    "\n",
    "#msedfR[parameters == \"beta\",y_min := 10^-8]\n",
    "#msedfR[parameters == \"beta\",y_max := 10^-2]\n",
    "#msedfR[parameters == \"tau\",y_min := 10^-8]\n",
    "#msedfR[parameters == \"tau\",y_max := 10^-2]\n",
    "#msedfR[parameters == \"Sigma\",y_min := 10^-5]\n",
    "#msedfR[parameters == \"Sigma\",y_max := 10^-2]\n",
    "\n",
    "\n",
    "msedfR$obssize = factor(msedfR$obssize, levels = c('2', '5', '10', '15', '20', '25'))\n",
    "msedfR$samplesize = factor(msedfR$samplesize, levels = c('100', '1000', '10000'))\n",
    "msedfR$parameters = factor(msedfR$parameters, levels = c('beta', 'theta'), labels = c(beta = expression(hat(bold(beta))), theta = expression(hat(bold(theta)))))\n",
    "msedfR$robust = factor(msedfR$robust, levels = c('Poisson CS with LogLink'),\n",
    "    labels = c(expression(paste(\"Poisson CS with LogLink\")))) # , expression(paste(\"MvT Gamma Inverse-Gamma\"))))\n",
    "\n",
    "#mseplot <- ggplot(msedfR[msedfR$mse < 10^0, ], aes(x=samplesize, y=mse, fill=obssize)) + \n",
    "mseplot = ggplot(msedfR[msedfR$mse < 10^3, ], aes(x=samplesize, y=mse, fill=obssize)) + \n",
    "  #geom_boxplot(outlier.size = 0.0, outlier.alpha = 0) +\n",
    "  geom_boxplot(outlier.size = 0.25) +\n",
    "#    geom_violin() +\n",
    "    facet_grid(parameters ~ robust, labeller = label_parsed, scales = \"free_y\") +\n",
    "  theme(legend.position=\"right\", legend.key = element_blank(), axis.text.x = element_text(angle=0, size=30),\n",
    "        axis.text.y = element_text(angle=0, size=30), axis.title.x = element_text(size = 30, face=\"bold\"), \n",
    "        axis.title.y = element_text(size = 40, face=\"bold\"), legend.title = element_text(size = 30, face=\"bold\"),\n",
    "        panel.grid.major = element_blank(), panel.grid.minor = element_blank(),\n",
    "        legend.text=element_text(size=30), panel.background = element_rect(fill = NA, color = \"black\"),\n",
    "        #panel.background = element_blank(), #panel.border = element_blank(),\n",
    "        axis.line = element_line(color = 'black',size=0.3), plot.title = element_text(hjust = 0.5),\n",
    "        strip.background = element_rect(colour=\"black\", fill=\"white\"), strip.text.y = element_text(angle = 0, size=75, face=\"bold\"),\n",
    "        strip.text.x = element_text(size=25)) + \n",
    "  scale_fill_manual(values = c(\"#c85f55\",\n",
    "\"#a964bf\",\n",
    "\"#8db352\",\n",
    "\"#fa7300\",\n",
    "\"#05aec0\",\n",
    "\"#ff1493\")) +\n",
    "#scale_y_log10(breaks = scales::trans_breaks(\"log10\", function(x) 10^x)) +\n",
    "#scale_y_log10(breaks = 10^(-8:8), limit=c(10^-8, 10^2)) + \n",
    "scale_y_log10(breaks = 10^seq(-10, 10, 2), labels=trans_format(\"log10\", math_format(10^.x))) + #, limit=c(10^-8, 10^2)) +\n",
    "  labs(x = \"Sample Size\", y = \"MSE of Parameter Estimates\", fill = \"Cluster Size\") +\n",
    "geom_blank(aes(y = y_max)) + \n",
    "geom_blank(aes(y = y_min)) \n",
    "\"\"\""
   ]
  },
  {
   "cell_type": "code",
   "execution_count": 9,
   "metadata": {},
   "outputs": [
    {
     "data": {
      "text/plain": [
       "RObject{StrSxp}\n",
       "[1] \"updated_msefacetplot_Poisson_CS.png\"\n"
      ]
     },
     "execution_count": 9,
     "metadata": {},
     "output_type": "execute_result"
    }
   ],
   "source": [
    "R\"\"\"\n",
    "    ggsave('updated_msefacetplot_Poisson_CS.png', mseplot, width = 12.5, height = 15, units = 'in', dpi = 450)\n",
    "\"\"\""
   ]
  }
 ],
 "metadata": {
  "@webio": {
   "lastCommId": null,
   "lastKernelId": null
  },
  "kernelspec": {
   "display_name": "Julia 1.6.2",
   "language": "julia",
   "name": "julia-1.6"
  },
  "language_info": {
   "file_extension": ".jl",
   "mimetype": "application/julia",
   "name": "julia",
   "version": "1.6.2"
  }
 },
 "nbformat": 4,
 "nbformat_minor": 2
}
