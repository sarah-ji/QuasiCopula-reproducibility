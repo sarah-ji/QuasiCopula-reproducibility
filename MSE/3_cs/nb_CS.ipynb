{
 "cells": [
  {
   "cell_type": "markdown",
   "metadata": {},
   "source": [
    "## NegativeBinomial CS Results \n",
    "\n",
    "This notebook goes over the code needed to reproduce the results from the MSE and time figures in the first simulation in the paper. \n",
    "\n",
    "In this example we have Negative Binomial base distribution with Log Link function and covariance matrix $\\Gamma$ structured under CS covariance with $\\rho = 0.5, \\sigma^2 = 0.5$\n",
    "\n",
    "We use multi-threading on 8 threads to obtain these MSE results on the following machine, and include MSE results from 100 simulation runs for each scenario."
   ]
  },
  {
   "cell_type": "code",
   "execution_count": 1,
   "metadata": {},
   "outputs": [
    {
     "name": "stdout",
     "output_type": "stream",
     "text": [
      "Julia Version 1.6.2\n",
      "Commit 1b93d53fc4 (2021-07-14 15:36 UTC)\n",
      "Platform Info:\n",
      "  OS: macOS (x86_64-apple-darwin18.7.0)\n",
      "  CPU: Intel(R) Core(TM) i9-9880H CPU @ 2.30GHz\n",
      "  WORD_SIZE: 64\n",
      "  LIBM: libopenlibm\n",
      "  LLVM: libLLVM-11.0.1 (ORCJIT, skylake)\n"
     ]
    }
   ],
   "source": [
    "versioninfo()"
   ]
  },
  {
   "cell_type": "code",
   "execution_count": 2,
   "metadata": {},
   "outputs": [],
   "source": [
    "using QuasiCopula, DelimitedFiles, LinearAlgebra, Random, GLM\n",
    "using DataFrames"
   ]
  },
  {
   "cell_type": "code",
   "execution_count": 3,
   "metadata": {},
   "outputs": [],
   "source": [
    "p = 3    # number of fixed effects, including intercept\n",
    "\n",
    "# true parameter values\n",
    "Random.seed!(12345)\n",
    "βtrue = rand(Uniform(-2, 2), p)\n",
    "σ2true = [0.5]\n",
    "ρtrue = [0.5]\n",
    "θtrue = [σ2true; ρtrue]\n",
    "rtrue = 10.0\n",
    "\n",
    "# generate data\n",
    "trueparams = [βtrue; θtrue; rtrue] #hold true parameters\n",
    "\n",
    "#simulation parameters\n",
    "samplesizes = [100; 1000; 10000]\n",
    "ns = [2; 5; 10; 15; 20; 25]\n",
    "nsims = 100;"
   ]
  },
  {
   "cell_type": "code",
   "execution_count": 4,
   "metadata": {},
   "outputs": [
    {
     "name": "stderr",
     "output_type": "stream",
     "text": [
      "┌ Info: reading in the files with results\n",
      "└ @ Main In[4]:1\n"
     ]
    },
    {
     "data": {
      "text/plain": [
       "1800-element Vector{Float64}:\n",
       " 0.314916163\n",
       " 0.494278112\n",
       " 0.372733779\n",
       " 0.322680295\n",
       " 0.216205534\n",
       " 0.266868717\n",
       " 0.36773153\n",
       " 0.314100517\n",
       " 0.307994814\n",
       " 0.31445993\n",
       " 0.222867607\n",
       " 0.320558527\n",
       " 0.319160918\n",
       " ⋮\n",
       " 8.465863203\n",
       " 4.914882985\n",
       " 7.548829506\n",
       " 6.250316749\n",
       " 7.51053524\n",
       " 6.359603918\n",
       " 8.797228185\n",
       " 6.390241859\n",
       " 6.252602761\n",
       " 7.537638403\n",
       " 7.624701\n",
       " 7.951371458"
      ]
     },
     "execution_count": 4,
     "metadata": {},
     "output_type": "execute_result"
    }
   ],
   "source": [
    "@info \"reading in the files with results\"\n",
    "βMseresult = vec(readdlm(\"mse_beta_multivariate_nb_CS$(nsims)reps_sim.csv\", ','))\n",
    "σ2MseResult = vec(readdlm(\"mse_sigma_multivariate_nb_CS$(nsims)reps_sim.csv\", ','))\n",
    "ρMseResult = vec(readdlm(\"mse_rho_multivariate_nb_CS$(nsims)reps_sim.csv\", ','))\n",
    "fittimes = vec(readdlm(\"fittimes_multivariate_nb_CS$(nsims)reps_sim.csv\", ','))"
   ]
  },
  {
   "cell_type": "code",
   "execution_count": 5,
   "metadata": {},
   "outputs": [
    {
     "name": "stderr",
     "output_type": "stream",
     "text": [
      "┌ Info: making results table\n",
      "└ @ Main In[5]:2\n"
     ]
    },
    {
     "data": {
      "text/html": [
       "<div class=\"data-frame\"><p>18 rows × 8 columns</p><table class=\"data-frame\"><thead><tr><th></th><th>samplesize</th><th>obssize</th><th>fittime</th><th>se</th><th>nobs</th><th>fitmin</th><th>fitmax</th><th>perobsratio</th></tr><tr><th></th><th title=\"String\">String</th><th title=\"String\">String</th><th title=\"Float64\">Float64</th><th title=\"Float64\">Float64</th><th title=\"Int64\">Int64</th><th title=\"Float64\">Float64</th><th title=\"Float64\">Float64</th><th title=\"Float64\">Float64</th></tr></thead><tbody><tr><th>1</th><td>100</td><td>2</td><td>0.299823</td><td>0.00875026</td><td>200</td><td>0.291072</td><td>0.308573</td><td>0.00149911</td></tr><tr><th>2</th><td>100</td><td>5</td><td>0.311044</td><td>0.00819677</td><td>500</td><td>0.302848</td><td>0.319241</td><td>0.000622089</td></tr><tr><th>3</th><td>100</td><td>10</td><td>0.336619</td><td>0.0121514</td><td>1000</td><td>0.324467</td><td>0.34877</td><td>0.000336619</td></tr><tr><th>4</th><td>100</td><td>15</td><td>0.391204</td><td>0.0157109</td><td>1500</td><td>0.375493</td><td>0.406915</td><td>0.000260803</td></tr><tr><th>5</th><td>100</td><td>20</td><td>0.372375</td><td>0.0149176</td><td>2000</td><td>0.357458</td><td>0.387293</td><td>0.000186188</td></tr><tr><th>6</th><td>100</td><td>25</td><td>0.361973</td><td>0.0164183</td><td>2500</td><td>0.345554</td><td>0.378391</td><td>0.000144789</td></tr><tr><th>7</th><td>1000</td><td>2</td><td>0.380661</td><td>0.00434641</td><td>2000</td><td>0.376314</td><td>0.385007</td><td>0.00019033</td></tr><tr><th>8</th><td>1000</td><td>5</td><td>0.428708</td><td>0.00417783</td><td>5000</td><td>0.424531</td><td>0.432886</td><td>8.57417e-5</td></tr><tr><th>9</th><td>1000</td><td>10</td><td>0.52008</td><td>0.00895984</td><td>10000</td><td>0.51112</td><td>0.52904</td><td>5.2008e-5</td></tr><tr><th>10</th><td>1000</td><td>15</td><td>0.699785</td><td>0.0213675</td><td>15000</td><td>0.678418</td><td>0.721153</td><td>4.66523e-5</td></tr><tr><th>11</th><td>1000</td><td>20</td><td>0.863514</td><td>0.0302399</td><td>20000</td><td>0.833274</td><td>0.893754</td><td>4.31757e-5</td></tr><tr><th>12</th><td>1000</td><td>25</td><td>0.864002</td><td>0.0299933</td><td>25000</td><td>0.834009</td><td>0.893995</td><td>3.45601e-5</td></tr><tr><th>13</th><td>10000</td><td>2</td><td>2.29677</td><td>0.0173311</td><td>20000</td><td>2.27944</td><td>2.3141</td><td>0.000114839</td></tr><tr><th>14</th><td>10000</td><td>5</td><td>2.70638</td><td>0.0122312</td><td>50000</td><td>2.69415</td><td>2.71861</td><td>5.41277e-5</td></tr><tr><th>15</th><td>10000</td><td>10</td><td>4.0011</td><td>0.0585404</td><td>100000</td><td>3.94256</td><td>4.05964</td><td>4.0011e-5</td></tr><tr><th>16</th><td>10000</td><td>15</td><td>5.30193</td><td>0.139973</td><td>150000</td><td>5.16195</td><td>5.4419</td><td>3.53462e-5</td></tr><tr><th>17</th><td>10000</td><td>20</td><td>6.07257</td><td>0.141537</td><td>200000</td><td>5.93103</td><td>6.21411</td><td>3.03629e-5</td></tr><tr><th>18</th><td>10000</td><td>25</td><td>6.98736</td><td>0.143831</td><td>250000</td><td>6.84353</td><td>7.13119</td><td>2.79494e-5</td></tr></tbody></table></div>"
      ],
      "text/latex": [
       "\\begin{tabular}{r|cccccccc}\n",
       "\t& samplesize & obssize & fittime & se & nobs & fitmin & fitmax & perobsratio\\\\\n",
       "\t\\hline\n",
       "\t& String & String & Float64 & Float64 & Int64 & Float64 & Float64 & Float64\\\\\n",
       "\t\\hline\n",
       "\t1 & 100 & 2 & 0.299823 & 0.00875026 & 200 & 0.291072 & 0.308573 & 0.00149911 \\\\\n",
       "\t2 & 100 & 5 & 0.311044 & 0.00819677 & 500 & 0.302848 & 0.319241 & 0.000622089 \\\\\n",
       "\t3 & 100 & 10 & 0.336619 & 0.0121514 & 1000 & 0.324467 & 0.34877 & 0.000336619 \\\\\n",
       "\t4 & 100 & 15 & 0.391204 & 0.0157109 & 1500 & 0.375493 & 0.406915 & 0.000260803 \\\\\n",
       "\t5 & 100 & 20 & 0.372375 & 0.0149176 & 2000 & 0.357458 & 0.387293 & 0.000186188 \\\\\n",
       "\t6 & 100 & 25 & 0.361973 & 0.0164183 & 2500 & 0.345554 & 0.378391 & 0.000144789 \\\\\n",
       "\t7 & 1000 & 2 & 0.380661 & 0.00434641 & 2000 & 0.376314 & 0.385007 & 0.00019033 \\\\\n",
       "\t8 & 1000 & 5 & 0.428708 & 0.00417783 & 5000 & 0.424531 & 0.432886 & 8.57417e-5 \\\\\n",
       "\t9 & 1000 & 10 & 0.52008 & 0.00895984 & 10000 & 0.51112 & 0.52904 & 5.2008e-5 \\\\\n",
       "\t10 & 1000 & 15 & 0.699785 & 0.0213675 & 15000 & 0.678418 & 0.721153 & 4.66523e-5 \\\\\n",
       "\t11 & 1000 & 20 & 0.863514 & 0.0302399 & 20000 & 0.833274 & 0.893754 & 4.31757e-5 \\\\\n",
       "\t12 & 1000 & 25 & 0.864002 & 0.0299933 & 25000 & 0.834009 & 0.893995 & 3.45601e-5 \\\\\n",
       "\t13 & 10000 & 2 & 2.29677 & 0.0173311 & 20000 & 2.27944 & 2.3141 & 0.000114839 \\\\\n",
       "\t14 & 10000 & 5 & 2.70638 & 0.0122312 & 50000 & 2.69415 & 2.71861 & 5.41277e-5 \\\\\n",
       "\t15 & 10000 & 10 & 4.0011 & 0.0585404 & 100000 & 3.94256 & 4.05964 & 4.0011e-5 \\\\\n",
       "\t16 & 10000 & 15 & 5.30193 & 0.139973 & 150000 & 5.16195 & 5.4419 & 3.53462e-5 \\\\\n",
       "\t17 & 10000 & 20 & 6.07257 & 0.141537 & 200000 & 5.93103 & 6.21411 & 3.03629e-5 \\\\\n",
       "\t18 & 10000 & 25 & 6.98736 & 0.143831 & 250000 & 6.84353 & 7.13119 & 2.79494e-5 \\\\\n",
       "\\end{tabular}\n"
      ],
      "text/plain": [
       "\u001b[1m18×8 DataFrame\u001b[0m\n",
       "\u001b[1m Row \u001b[0m│\u001b[1m samplesize \u001b[0m\u001b[1m obssize \u001b[0m\u001b[1m fittime  \u001b[0m\u001b[1m se         \u001b[0m\u001b[1m nobs   \u001b[0m\u001b[1m fitmin   \u001b[0m\u001b[1m fitmax   \u001b[0m\u001b[1m \u001b[0m ⋯\n",
       "\u001b[1m     \u001b[0m│\u001b[90m String     \u001b[0m\u001b[90m String  \u001b[0m\u001b[90m Float64  \u001b[0m\u001b[90m Float64    \u001b[0m\u001b[90m Int64  \u001b[0m\u001b[90m Float64  \u001b[0m\u001b[90m Float64  \u001b[0m\u001b[90m \u001b[0m ⋯\n",
       "─────┼──────────────────────────────────────────────────────────────────────────\n",
       "   1 │ 100         2        0.299823  0.00875026     200  0.291072  0.308573   ⋯\n",
       "   2 │ 100         5        0.311044  0.00819677     500  0.302848  0.319241\n",
       "   3 │ 100         10       0.336619  0.0121514     1000  0.324467  0.34877\n",
       "   4 │ 100         15       0.391204  0.0157109     1500  0.375493  0.406915\n",
       "   5 │ 100         20       0.372375  0.0149176     2000  0.357458  0.387293   ⋯\n",
       "   6 │ 100         25       0.361973  0.0164183     2500  0.345554  0.378391\n",
       "   7 │ 1000        2        0.380661  0.00434641    2000  0.376314  0.385007\n",
       "   8 │ 1000        5        0.428708  0.00417783    5000  0.424531  0.432886\n",
       "   9 │ 1000        10       0.52008   0.00895984   10000  0.51112   0.52904    ⋯\n",
       "  10 │ 1000        15       0.699785  0.0213675    15000  0.678418  0.721153\n",
       "  11 │ 1000        20       0.863514  0.0302399    20000  0.833274  0.893754\n",
       "  12 │ 1000        25       0.864002  0.0299933    25000  0.834009  0.893995\n",
       "  13 │ 10000       2        2.29677   0.0173311    20000  2.27944   2.3141     ⋯\n",
       "  14 │ 10000       5        2.70638   0.0122312    50000  2.69415   2.71861\n",
       "  15 │ 10000       10       4.0011    0.0585404   100000  3.94256   4.05964\n",
       "  16 │ 10000       15       5.30193   0.139973    150000  5.16195   5.4419\n",
       "  17 │ 10000       20       6.07257   0.141537    200000  5.93103   6.21411    ⋯\n",
       "  18 │ 10000       25       6.98736   0.143831    250000  6.84353   7.13119\n",
       "\u001b[36m                                                                1 column omitted\u001b[0m"
      ]
     },
     "execution_count": 5,
     "metadata": {},
     "output_type": "execute_result"
    }
   ],
   "source": [
    "#simulation parameters\n",
    "@info \"making results table\"\n",
    "sample_sizes = repeat(string.(samplesizes), inner = nsims * length(ns))\n",
    "obs_sizes = repeat(string.(ns), inner = nsims, outer = length(samplesizes))\n",
    "\n",
    "msedf = DataFrame(βmse = βMseresult, σ2mse = σ2MseResult, ρmse = ρMseResult,\n",
    "    samplesize = sample_sizes, obssize = obs_sizes, fittimes = fittimes)\n",
    "\n",
    "\n",
    "msedf = filter(x -> !isnan(x.fittimes), msedf)\n",
    "\n",
    "timedf = combine(groupby(msedf, [:samplesize, :obssize]), :fittimes => mean => :fittime,\n",
    "    :fittimes => x -> (std(x)/sqrt(length(x))))\n",
    "rename!(timedf, Dict(:fittimes_function => \"se\"))\n",
    "timedf[!, :nobs] = Meta.parse.(timedf[!, :samplesize]) .* Meta.parse.(timedf[!, :obssize])\n",
    "timedf[!, :fitmin] = timedf[!, :fittime] - timedf[!, :se]\n",
    "timedf[!, :fitmax] = timedf[!, :fittime] + timedf[!, :se]\n",
    "timedf[!, :perobsratio] = timedf[!, :fittime] ./ timedf[!, :nobs]\n",
    "timedf"
   ]
  },
  {
   "cell_type": "code",
   "execution_count": 6,
   "metadata": {},
   "outputs": [
    {
     "data": {
      "text/html": [
       "<div class=\"data-frame\"><p>18 rows × 7 columns (omitted printing of 2 columns)</p><table class=\"data-frame\"><thead><tr><th></th><th>people_obs</th><th>β1</th><th>β2</th><th>β3</th><th>ρ</th></tr><tr><th></th><th title=\"String\">String</th><th title=\"Tuple{Float64, Float64}\">Tuple…</th><th title=\"Tuple{Float64, Float64}\">Tuple…</th><th title=\"Tuple{Float64, Float64}\">Tuple…</th><th title=\"Tuple{Float64, Float64}\">Tuple…</th></tr></thead><tbody><tr><th>1</th><td>N: 100  ni: 2</td><td>(0.54, 0.0500908)</td><td>(0.67, 0.0472582)</td><td>(0.76, 0.0429235)</td><td>(0.97, 0.0171447)</td></tr><tr><th>2</th><td>N: 100  ni: 5</td><td>(0.51, 0.0502418)</td><td>(0.55, 0.05)</td><td>(0.65, 0.0479372)</td><td>(0.75, 0.0435194)</td></tr><tr><th>3</th><td>N: 100  ni: 10</td><td>(0.54, 0.0500908)</td><td>(0.66, 0.0476095)</td><td>(0.75, 0.0435194)</td><td>(0.39, 0.0490207)</td></tr><tr><th>4</th><td>N: 100  ni: 15</td><td>(0.53, 0.0501614)</td><td>(0.63, 0.0485237)</td><td>(0.77, 0.0422953)</td><td>(0.2, 0.0402015)</td></tr><tr><th>5</th><td>N: 100  ni: 20</td><td>(0.55, 0.05)</td><td>(0.61, 0.0490207)</td><td>(0.81, 0.0394277)</td><td>(0.09, 0.0287623)</td></tr><tr><th>6</th><td>N: 100  ni: 25</td><td>(0.54, 0.0500908)</td><td>(0.69, 0.0464823)</td><td>(0.86, 0.0348735)</td><td>(0.03, 0.0171447)</td></tr><tr><th>7</th><td>N: 1000  ni: 2</td><td>(0.49, 0.0502418)</td><td>(0.55, 0.05)</td><td>(0.71, 0.0456048)</td><td>(0.95, 0.0219043)</td></tr><tr><th>8</th><td>N: 1000  ni: 5</td><td>(0.5, 0.0502519)</td><td>(0.56, 0.0498888)</td><td>(0.76, 0.0429235)</td><td>(0.09, 0.0287623)</td></tr><tr><th>9</th><td>N: 1000  ni: 10</td><td>(0.47, 0.0501614)</td><td>(0.66, 0.0476095)</td><td>(0.67, 0.0472582)</td><td>(0.0, 0.0)</td></tr><tr><th>10</th><td>N: 1000  ni: 15</td><td>(0.46, 0.0500908)</td><td>(0.54, 0.0500908)</td><td>(0.8, 0.0402015)</td><td>(0.0, 0.0)</td></tr><tr><th>11</th><td>N: 1000  ni: 20</td><td>(0.43, 0.049757)</td><td>(0.45, 0.05)</td><td>(0.85, 0.035887)</td><td>(0.0, 0.0)</td></tr><tr><th>12</th><td>N: 1000  ni: 25</td><td>(0.46, 0.0500908)</td><td>(0.57, 0.049757)</td><td>(0.81, 0.0394277)</td><td>(0.0, 0.0)</td></tr><tr><th>13</th><td>N: 10000  ni: 2</td><td>(0.43, 0.049757)</td><td>(0.6, 0.0492366)</td><td>(0.7, 0.0460566)</td><td>(0.91, 0.0287623)</td></tr><tr><th>14</th><td>N: 10000  ni: 5</td><td>(0.5, 0.0502519)</td><td>(0.62, 0.0487832)</td><td>(0.78, 0.0416333)</td><td>(0.0, 0.0)</td></tr><tr><th>15</th><td>N: 10000  ni: 10</td><td>(0.43, 0.049757)</td><td>(0.52, 0.0502117)</td><td>(0.74, 0.0440844)</td><td>(0.0, 0.0)</td></tr><tr><th>16</th><td>N: 10000  ni: 15</td><td>(0.4, 0.0492366)</td><td>(0.35, 0.0479372)</td><td>(0.75, 0.0435194)</td><td>(0.0, 0.0)</td></tr><tr><th>17</th><td>N: 10000  ni: 20</td><td>(0.41, 0.0494311)</td><td>(0.45, 0.05)</td><td>(0.71, 0.0456048)</td><td>(0.0, 0.0)</td></tr><tr><th>18</th><td>N: 10000  ni: 25</td><td>(0.32, 0.0468826)</td><td>(0.48, 0.0502117)</td><td>(0.78, 0.0416333)</td><td>(0.0, 0.0)</td></tr></tbody></table></div>"
      ],
      "text/latex": [
       "\\begin{tabular}{r|cccccc}\n",
       "\t& people\\_obs & β1 & β2 & β3 & ρ & \\\\\n",
       "\t\\hline\n",
       "\t& String & Tuple… & Tuple… & Tuple… & Tuple… & \\\\\n",
       "\t\\hline\n",
       "\t1 & N: 100  ni: 2 & (0.54, 0.0500908) & (0.67, 0.0472582) & (0.76, 0.0429235) & (0.97, 0.0171447) & $\\dots$ \\\\\n",
       "\t2 & N: 100  ni: 5 & (0.51, 0.0502418) & (0.55, 0.05) & (0.65, 0.0479372) & (0.75, 0.0435194) & $\\dots$ \\\\\n",
       "\t3 & N: 100  ni: 10 & (0.54, 0.0500908) & (0.66, 0.0476095) & (0.75, 0.0435194) & (0.39, 0.0490207) & $\\dots$ \\\\\n",
       "\t4 & N: 100  ni: 15 & (0.53, 0.0501614) & (0.63, 0.0485237) & (0.77, 0.0422953) & (0.2, 0.0402015) & $\\dots$ \\\\\n",
       "\t5 & N: 100  ni: 20 & (0.55, 0.05) & (0.61, 0.0490207) & (0.81, 0.0394277) & (0.09, 0.0287623) & $\\dots$ \\\\\n",
       "\t6 & N: 100  ni: 25 & (0.54, 0.0500908) & (0.69, 0.0464823) & (0.86, 0.0348735) & (0.03, 0.0171447) & $\\dots$ \\\\\n",
       "\t7 & N: 1000  ni: 2 & (0.49, 0.0502418) & (0.55, 0.05) & (0.71, 0.0456048) & (0.95, 0.0219043) & $\\dots$ \\\\\n",
       "\t8 & N: 1000  ni: 5 & (0.5, 0.0502519) & (0.56, 0.0498888) & (0.76, 0.0429235) & (0.09, 0.0287623) & $\\dots$ \\\\\n",
       "\t9 & N: 1000  ni: 10 & (0.47, 0.0501614) & (0.66, 0.0476095) & (0.67, 0.0472582) & (0.0, 0.0) & $\\dots$ \\\\\n",
       "\t10 & N: 1000  ni: 15 & (0.46, 0.0500908) & (0.54, 0.0500908) & (0.8, 0.0402015) & (0.0, 0.0) & $\\dots$ \\\\\n",
       "\t11 & N: 1000  ni: 20 & (0.43, 0.049757) & (0.45, 0.05) & (0.85, 0.035887) & (0.0, 0.0) & $\\dots$ \\\\\n",
       "\t12 & N: 1000  ni: 25 & (0.46, 0.0500908) & (0.57, 0.049757) & (0.81, 0.0394277) & (0.0, 0.0) & $\\dots$ \\\\\n",
       "\t13 & N: 10000  ni: 2 & (0.43, 0.049757) & (0.6, 0.0492366) & (0.7, 0.0460566) & (0.91, 0.0287623) & $\\dots$ \\\\\n",
       "\t14 & N: 10000  ni: 5 & (0.5, 0.0502519) & (0.62, 0.0487832) & (0.78, 0.0416333) & (0.0, 0.0) & $\\dots$ \\\\\n",
       "\t15 & N: 10000  ni: 10 & (0.43, 0.049757) & (0.52, 0.0502117) & (0.74, 0.0440844) & (0.0, 0.0) & $\\dots$ \\\\\n",
       "\t16 & N: 10000  ni: 15 & (0.4, 0.0492366) & (0.35, 0.0479372) & (0.75, 0.0435194) & (0.0, 0.0) & $\\dots$ \\\\\n",
       "\t17 & N: 10000  ni: 20 & (0.41, 0.0494311) & (0.45, 0.05) & (0.71, 0.0456048) & (0.0, 0.0) & $\\dots$ \\\\\n",
       "\t18 & N: 10000  ni: 25 & (0.32, 0.0468826) & (0.48, 0.0502117) & (0.78, 0.0416333) & (0.0, 0.0) & $\\dots$ \\\\\n",
       "\\end{tabular}\n"
      ],
      "text/plain": [
       "\u001b[1m18×7 DataFrame\u001b[0m\n",
       "\u001b[1m Row \u001b[0m│\u001b[1m people_obs       \u001b[0m\u001b[1m β1                \u001b[0m\u001b[1m β2                \u001b[0m\u001b[1m β3             \u001b[0m ⋯\n",
       "\u001b[1m     \u001b[0m│\u001b[90m String           \u001b[0m\u001b[90m Tuple…            \u001b[0m\u001b[90m Tuple…            \u001b[0m\u001b[90m Tuple…         \u001b[0m ⋯\n",
       "─────┼──────────────────────────────────────────────────────────────────────────\n",
       "   1 │ N: 100  ni: 2     (0.54, 0.0500908)  (0.67, 0.0472582)  (0.76, 0.042923 ⋯\n",
       "   2 │ N: 100  ni: 5     (0.51, 0.0502418)  (0.55, 0.05)       (0.65, 0.047937\n",
       "   3 │ N: 100  ni: 10    (0.54, 0.0500908)  (0.66, 0.0476095)  (0.75, 0.043519\n",
       "   4 │ N: 100  ni: 15    (0.53, 0.0501614)  (0.63, 0.0485237)  (0.77, 0.042295\n",
       "   5 │ N: 100  ni: 20    (0.55, 0.05)       (0.61, 0.0490207)  (0.81, 0.039427 ⋯\n",
       "   6 │ N: 100  ni: 25    (0.54, 0.0500908)  (0.69, 0.0464823)  (0.86, 0.034873\n",
       "   7 │ N: 1000  ni: 2    (0.49, 0.0502418)  (0.55, 0.05)       (0.71, 0.045604\n",
       "   8 │ N: 1000  ni: 5    (0.5, 0.0502519)   (0.56, 0.0498888)  (0.76, 0.042923\n",
       "   9 │ N: 1000  ni: 10   (0.47, 0.0501614)  (0.66, 0.0476095)  (0.67, 0.047258 ⋯\n",
       "  10 │ N: 1000  ni: 15   (0.46, 0.0500908)  (0.54, 0.0500908)  (0.8, 0.0402015\n",
       "  11 │ N: 1000  ni: 20   (0.43, 0.049757)   (0.45, 0.05)       (0.85, 0.035887\n",
       "  12 │ N: 1000  ni: 25   (0.46, 0.0500908)  (0.57, 0.049757)   (0.81, 0.039427\n",
       "  13 │ N: 10000  ni: 2   (0.43, 0.049757)   (0.6, 0.0492366)   (0.7, 0.0460566 ⋯\n",
       "  14 │ N: 10000  ni: 5   (0.5, 0.0502519)   (0.62, 0.0487832)  (0.78, 0.041633\n",
       "  15 │ N: 10000  ni: 10  (0.43, 0.049757)   (0.52, 0.0502117)  (0.74, 0.044084\n",
       "  16 │ N: 10000  ni: 15  (0.4, 0.0492366)   (0.35, 0.0479372)  (0.75, 0.043519\n",
       "  17 │ N: 10000  ni: 20  (0.41, 0.0494311)  (0.45, 0.05)       (0.71, 0.045604 ⋯\n",
       "  18 │ N: 10000  ni: 25  (0.32, 0.0468826)  (0.48, 0.0502117)  (0.78, 0.041633\n",
       "\u001b[36m                                                               4 columns omitted\u001b[0m"
      ]
     },
     "execution_count": 6,
     "metadata": {},
     "output_type": "execute_result"
    }
   ],
   "source": [
    "######  supplementary table s1\n",
    "using Random, DataFrames, DelimitedFiles, Statistics\n",
    "import StatsBase: sem\n",
    "\n",
    "βρσ2rcoverage = readdlm(\"beta_rho_sigma_coverage_multivariate_nb_CS$(nsims)reps_sim.csv\", ',')\n",
    "\n",
    "m = 2\n",
    "\n",
    "covdf = DataFrame(Matrix(transpose(βρσ2rcoverage)), :auto)\n",
    "rename!(covdf, Symbol.([[\"β$i\" for i in 1:p];  [\"ρ\"]; [\"σ2\"]; [\"r\"]]))\n",
    "covdf[!, :samplesize] = sample_sizes\n",
    "covdf[!, :obssize] = obs_sizes\n",
    "first(covdf, 10)\n",
    "\n",
    "row_stats = [[(mean(col), sem(col)) for col = eachcol(d[!, 1:end-2])] for d = groupby(covdf, [:samplesize; :obssize])]\n",
    "df = DataFrame(row_stats, :auto)\n",
    "ss_obs = unique(\"N: \" .* sample_sizes .* \"  ni: \" .* obs_sizes)\n",
    "rename!(df, Symbol.(ss_obs))\n",
    "covdfdisplay = DataFrame([[names(df)]; collect.(eachrow(df))], \n",
    "    [:people_obs; Symbol.([[\"β$i\" for i in 1:p]; [\"ρ\"];[\"σ2\"]; [\"r\"]])])\n",
    "covdfdisplay\n"
   ]
  },
  {
   "cell_type": "code",
   "execution_count": 7,
   "metadata": {},
   "outputs": [
    {
     "data": {
      "text/html": [
       "<div class=\"data-frame\"><p>5,400 rows × 5 columns</p><table class=\"data-frame\"><thead><tr><th></th><th>mse</th><th>obssize</th><th>samplesize</th><th>parameters</th><th>labels</th></tr><tr><th></th><th title=\"Float64\">Float64</th><th title=\"String\">String</th><th title=\"String\">String</th><th title=\"String\">String</th><th title=\"String\">String</th></tr></thead><tbody><tr><th>1</th><td>0.0140177</td><td>2</td><td>100</td><td>beta</td><td>Negative Binomial CS with Log Link</td></tr><tr><th>2</th><td>0.00664615</td><td>2</td><td>100</td><td>beta</td><td>Negative Binomial CS with Log Link</td></tr><tr><th>3</th><td>0.00377371</td><td>2</td><td>100</td><td>beta</td><td>Negative Binomial CS with Log Link</td></tr><tr><th>4</th><td>0.00166594</td><td>2</td><td>100</td><td>beta</td><td>Negative Binomial CS with Log Link</td></tr><tr><th>5</th><td>0.00207402</td><td>2</td><td>100</td><td>beta</td><td>Negative Binomial CS with Log Link</td></tr><tr><th>6</th><td>0.00387039</td><td>2</td><td>100</td><td>beta</td><td>Negative Binomial CS with Log Link</td></tr><tr><th>7</th><td>0.00449014</td><td>2</td><td>100</td><td>beta</td><td>Negative Binomial CS with Log Link</td></tr><tr><th>8</th><td>0.00260132</td><td>2</td><td>100</td><td>beta</td><td>Negative Binomial CS with Log Link</td></tr><tr><th>9</th><td>0.00154962</td><td>2</td><td>100</td><td>beta</td><td>Negative Binomial CS with Log Link</td></tr><tr><th>10</th><td>0.012431</td><td>2</td><td>100</td><td>beta</td><td>Negative Binomial CS with Log Link</td></tr><tr><th>11</th><td>0.00306771</td><td>2</td><td>100</td><td>beta</td><td>Negative Binomial CS with Log Link</td></tr><tr><th>12</th><td>0.0164344</td><td>2</td><td>100</td><td>beta</td><td>Negative Binomial CS with Log Link</td></tr><tr><th>13</th><td>0.00247858</td><td>2</td><td>100</td><td>beta</td><td>Negative Binomial CS with Log Link</td></tr><tr><th>14</th><td>0.0161067</td><td>2</td><td>100</td><td>beta</td><td>Negative Binomial CS with Log Link</td></tr><tr><th>15</th><td>0.0159305</td><td>2</td><td>100</td><td>beta</td><td>Negative Binomial CS with Log Link</td></tr><tr><th>16</th><td>0.0195142</td><td>2</td><td>100</td><td>beta</td><td>Negative Binomial CS with Log Link</td></tr><tr><th>17</th><td>0.0601585</td><td>2</td><td>100</td><td>beta</td><td>Negative Binomial CS with Log Link</td></tr><tr><th>18</th><td>0.00424587</td><td>2</td><td>100</td><td>beta</td><td>Negative Binomial CS with Log Link</td></tr><tr><th>19</th><td>0.00509848</td><td>2</td><td>100</td><td>beta</td><td>Negative Binomial CS with Log Link</td></tr><tr><th>20</th><td>0.00565768</td><td>2</td><td>100</td><td>beta</td><td>Negative Binomial CS with Log Link</td></tr><tr><th>21</th><td>0.0108144</td><td>2</td><td>100</td><td>beta</td><td>Negative Binomial CS with Log Link</td></tr><tr><th>22</th><td>0.0118791</td><td>2</td><td>100</td><td>beta</td><td>Negative Binomial CS with Log Link</td></tr><tr><th>23</th><td>0.00479264</td><td>2</td><td>100</td><td>beta</td><td>Negative Binomial CS with Log Link</td></tr><tr><th>24</th><td>0.000943482</td><td>2</td><td>100</td><td>beta</td><td>Negative Binomial CS with Log Link</td></tr><tr><th>25</th><td>0.00730745</td><td>2</td><td>100</td><td>beta</td><td>Negative Binomial CS with Log Link</td></tr><tr><th>26</th><td>0.00167887</td><td>2</td><td>100</td><td>beta</td><td>Negative Binomial CS with Log Link</td></tr><tr><th>27</th><td>0.00775789</td><td>2</td><td>100</td><td>beta</td><td>Negative Binomial CS with Log Link</td></tr><tr><th>28</th><td>0.0193408</td><td>2</td><td>100</td><td>beta</td><td>Negative Binomial CS with Log Link</td></tr><tr><th>29</th><td>0.00103061</td><td>2</td><td>100</td><td>beta</td><td>Negative Binomial CS with Log Link</td></tr><tr><th>30</th><td>0.00255123</td><td>2</td><td>100</td><td>beta</td><td>Negative Binomial CS with Log Link</td></tr><tr><th>&vellip;</th><td>&vellip;</td><td>&vellip;</td><td>&vellip;</td><td>&vellip;</td><td>&vellip;</td></tr></tbody></table></div>"
      ],
      "text/latex": [
       "\\begin{tabular}{r|ccccc}\n",
       "\t& mse & obssize & samplesize & parameters & labels\\\\\n",
       "\t\\hline\n",
       "\t& Float64 & String & String & String & String\\\\\n",
       "\t\\hline\n",
       "\t1 & 0.0140177 & 2 & 100 & beta & Negative Binomial CS with Log Link \\\\\n",
       "\t2 & 0.00664615 & 2 & 100 & beta & Negative Binomial CS with Log Link \\\\\n",
       "\t3 & 0.00377371 & 2 & 100 & beta & Negative Binomial CS with Log Link \\\\\n",
       "\t4 & 0.00166594 & 2 & 100 & beta & Negative Binomial CS with Log Link \\\\\n",
       "\t5 & 0.00207402 & 2 & 100 & beta & Negative Binomial CS with Log Link \\\\\n",
       "\t6 & 0.00387039 & 2 & 100 & beta & Negative Binomial CS with Log Link \\\\\n",
       "\t7 & 0.00449014 & 2 & 100 & beta & Negative Binomial CS with Log Link \\\\\n",
       "\t8 & 0.00260132 & 2 & 100 & beta & Negative Binomial CS with Log Link \\\\\n",
       "\t9 & 0.00154962 & 2 & 100 & beta & Negative Binomial CS with Log Link \\\\\n",
       "\t10 & 0.012431 & 2 & 100 & beta & Negative Binomial CS with Log Link \\\\\n",
       "\t11 & 0.00306771 & 2 & 100 & beta & Negative Binomial CS with Log Link \\\\\n",
       "\t12 & 0.0164344 & 2 & 100 & beta & Negative Binomial CS with Log Link \\\\\n",
       "\t13 & 0.00247858 & 2 & 100 & beta & Negative Binomial CS with Log Link \\\\\n",
       "\t14 & 0.0161067 & 2 & 100 & beta & Negative Binomial CS with Log Link \\\\\n",
       "\t15 & 0.0159305 & 2 & 100 & beta & Negative Binomial CS with Log Link \\\\\n",
       "\t16 & 0.0195142 & 2 & 100 & beta & Negative Binomial CS with Log Link \\\\\n",
       "\t17 & 0.0601585 & 2 & 100 & beta & Negative Binomial CS with Log Link \\\\\n",
       "\t18 & 0.00424587 & 2 & 100 & beta & Negative Binomial CS with Log Link \\\\\n",
       "\t19 & 0.00509848 & 2 & 100 & beta & Negative Binomial CS with Log Link \\\\\n",
       "\t20 & 0.00565768 & 2 & 100 & beta & Negative Binomial CS with Log Link \\\\\n",
       "\t21 & 0.0108144 & 2 & 100 & beta & Negative Binomial CS with Log Link \\\\\n",
       "\t22 & 0.0118791 & 2 & 100 & beta & Negative Binomial CS with Log Link \\\\\n",
       "\t23 & 0.00479264 & 2 & 100 & beta & Negative Binomial CS with Log Link \\\\\n",
       "\t24 & 0.000943482 & 2 & 100 & beta & Negative Binomial CS with Log Link \\\\\n",
       "\t25 & 0.00730745 & 2 & 100 & beta & Negative Binomial CS with Log Link \\\\\n",
       "\t26 & 0.00167887 & 2 & 100 & beta & Negative Binomial CS with Log Link \\\\\n",
       "\t27 & 0.00775789 & 2 & 100 & beta & Negative Binomial CS with Log Link \\\\\n",
       "\t28 & 0.0193408 & 2 & 100 & beta & Negative Binomial CS with Log Link \\\\\n",
       "\t29 & 0.00103061 & 2 & 100 & beta & Negative Binomial CS with Log Link \\\\\n",
       "\t30 & 0.00255123 & 2 & 100 & beta & Negative Binomial CS with Log Link \\\\\n",
       "\t$\\dots$ & $\\dots$ & $\\dots$ & $\\dots$ & $\\dots$ & $\\dots$ \\\\\n",
       "\\end{tabular}\n"
      ],
      "text/plain": [
       "\u001b[1m5400×5 DataFrame\u001b[0m\n",
       "\u001b[1m  Row \u001b[0m│\u001b[1m mse         \u001b[0m\u001b[1m obssize \u001b[0m\u001b[1m samplesize \u001b[0m\u001b[1m parameters \u001b[0m\u001b[1m labels                  \u001b[0m ⋯\n",
       "\u001b[1m      \u001b[0m│\u001b[90m Float64     \u001b[0m\u001b[90m String  \u001b[0m\u001b[90m String     \u001b[0m\u001b[90m String     \u001b[0m\u001b[90m String                  \u001b[0m ⋯\n",
       "──────┼─────────────────────────────────────────────────────────────────────────\n",
       "    1 │ 0.0140177    2        100         beta        Negative Binomial CS wit ⋯\n",
       "    2 │ 0.00664615   2        100         beta        Negative Binomial CS wit\n",
       "    3 │ 0.00377371   2        100         beta        Negative Binomial CS wit\n",
       "    4 │ 0.00166594   2        100         beta        Negative Binomial CS wit\n",
       "    5 │ 0.00207402   2        100         beta        Negative Binomial CS wit ⋯\n",
       "    6 │ 0.00387039   2        100         beta        Negative Binomial CS wit\n",
       "    7 │ 0.00449014   2        100         beta        Negative Binomial CS wit\n",
       "    8 │ 0.00260132   2        100         beta        Negative Binomial CS wit\n",
       "    9 │ 0.00154962   2        100         beta        Negative Binomial CS wit ⋯\n",
       "   10 │ 0.012431     2        100         beta        Negative Binomial CS wit\n",
       "   11 │ 0.00306771   2        100         beta        Negative Binomial CS wit\n",
       "  ⋮   │      ⋮          ⋮         ⋮           ⋮                       ⋮        ⋱\n",
       " 5391 │ 0.00196499   25       10000       r           Negative Binomial CS wit\n",
       " 5392 │ 0.0376333    25       10000       r           Negative Binomial CS wit ⋯\n",
       " 5393 │ 0.0124044    25       10000       r           Negative Binomial CS wit\n",
       " 5394 │ 0.00385433   25       10000       r           Negative Binomial CS wit\n",
       " 5395 │ 0.00123516   25       10000       r           Negative Binomial CS wit\n",
       " 5396 │ 0.00702094   25       10000       r           Negative Binomial CS wit ⋯\n",
       " 5397 │ 0.0131065    25       10000       r           Negative Binomial CS wit\n",
       " 5398 │ 0.00013061   25       10000       r           Negative Binomial CS wit\n",
       " 5399 │ 2.21082e-5   25       10000       r           Negative Binomial CS wit\n",
       " 5400 │ 0.0177132    25       10000       r           Negative Binomial CS wit ⋯\n",
       "\u001b[36m                                                  1 column and 5379 rows omitted\u001b[0m"
      ]
     },
     "execution_count": 7,
     "metadata": {},
     "output_type": "execute_result"
    }
   ],
   "source": [
    "#### \n",
    "#import data and reorganize to create figure\n",
    "using Random, DataFrames, DelimitedFiles, Statistics, RCall, Printf\n",
    "import StatsBase: sem\n",
    "\n",
    "βMseresult_1 = vec(readdlm(\"mse_beta_multivariate_nb_CS$(nsims)reps_sim.csv\", ','))\n",
    "σ2MseResult_1 = vec(readdlm(\"mse_sigma_multivariate_nb_CS$(nsims)reps_sim.csv\", ','))\n",
    "ρMseResult_1 = vec(readdlm(\"mse_rho_multivariate_nb_CS$(nsims)reps_sim.csv\", ','))\n",
    "θMseResult_1 = (σ2MseResult_1 .+ ρMseResult_1) ./ 2\n",
    "rMseResult_1 = vec(readdlm(\"mse_r_multivariate_nb_CS$(nsims)reps_sim.csv\", ','))\n",
    "βρσ2τcoverage_1 = readdlm(\"beta_rho_sigma_coverage_multivariate_nb_CS$(nsims)reps_sim.csv\", ',')\n",
    "\n",
    "p = 3\n",
    "sample_sizes = repeat(string.(samplesizes), inner = nsims * length(ns))\n",
    "obs_sizes = repeat(string.(ns), inner = nsims, outer = length(samplesizes))\n",
    "msedf = DataFrame(βmse = βMseresult_1, θmse = θMseResult_1, rmse = rMseResult_1,\n",
    "    samplesize = sample_sizes, obssize = obs_sizes)\n",
    "\n",
    "# msedf = DataFrame(βmse = βMseresult_1, ρMse = ρMseResult_1, σ2Mse = σ2MseResult_1, rmse = rMseResult_1,\n",
    "#     samplesize = sample_sizes, obssize = obs_sizes)\n",
    "\n",
    "\n",
    "msedf = deepcopy(msedf)\n",
    "rename!(msedf, [\"betamse\"\n",
    "    \"thetamse\"\n",
    "        \"rmse\"\n",
    "    \"samplesize\"\n",
    " \"obssize\"]);\n",
    "\n",
    "# rename!(msedf, [\"betamse\"\n",
    "#     \"rhomse\"\n",
    "#         \"sigma2mse\"\n",
    "#         \"rmse\"\n",
    "#     \"samplesize\"\n",
    "#  \"obssize\"]);\n",
    "\n",
    "mses = [msedf[!, :betamse]; msedf[!, :thetamse] ; msedf[!, :rmse]]\n",
    "\n",
    "obssize = collect([repeat(msedf[!, :obssize], 3)]...) \n",
    "\n",
    "samplesize = collect([repeat(msedf[!, :samplesize], 3)]...) \n",
    "\n",
    "parameters = collect([repeat(string.([:beta, :theta, :r]), inner = nsims * length(ns) * length(samplesizes))]...)\n",
    "\n",
    "labels = collect([repeat([\"Negative Binomial CS with Log Link\"], 3 * nsims * length(ns) * length(samplesizes))]...) # ;\n",
    "\n",
    "mse_df = DataFrame(mse = mses, obssize = obssize, samplesize = samplesize,\n",
    "    parameters = parameters, labels = labels)\n",
    "\n",
    "#5 of the 30,000 simulations did not converge, filter out\n",
    "mse_df = filter(x -> !isnan(x.mse), mse_df)\n",
    "# additionally, there are 5 where an error was not caught so it did not try a differnt solver\n",
    "mse_df = filter(x -> x.mse < 40000, mse_df)\n"
   ]
  },
  {
   "cell_type": "code",
   "execution_count": 8,
   "metadata": {},
   "outputs": [
    {
     "name": "stderr",
     "output_type": "stream",
     "text": [
      "┌ Warning: RCall.jl: Warning: package ‘scales’ was built under R version 4.0.2\n",
      "└ @ RCall /Users/sarahji/.julia/packages/RCall/6kphM/src/io.jl:172\n",
      "┌ Warning: RCall.jl: Warning: package ‘ggplot2’ was built under R version 4.0.2\n",
      "└ @ RCall /Users/sarahji/.julia/packages/RCall/6kphM/src/io.jl:172\n",
      "┌ Warning: RCall.jl: Warning: package ‘data.table’ was built under R version 4.0.2\n",
      "└ @ RCall /Users/sarahji/.julia/packages/RCall/6kphM/src/io.jl:172\n"
     ]
    },
    {
     "data": {
      "image/png": "[encoded data removed]"
     },
     "metadata": {},
     "output_type": "display_data"
    },
    {
     "data": {
      "text/plain": [
       "RObject{VecSxp}\n"
      ]
     },
     "execution_count": 8,
     "metadata": {},
     "output_type": "execute_result"
    }
   ],
   "source": [
    "### working on figure next\n",
    "@rput mse_df\n",
    "\n",
    "R\"\"\"\n",
    "library(scales)\n",
    "library(ggplot2)\n",
    "library(data.table)\n",
    "\n",
    "msedfR = data.table(mse_df)\n",
    "\n",
    "msedfR[parameters == \"beta\",y_min := 10^-4]\n",
    "msedfR[parameters == \"beta\",y_max := 10^-2]\n",
    "msedfR[parameters == \"sigma\",y_min := 10^-5]\n",
    "msedfR[parameters == \"sigma\",y_max := 10^1]\n",
    "msedfR[parameters == \"rho\",y_min := 10^-5]\n",
    "msedfR[parameters == \"rho\",y_max := 10^-2]\n",
    "msedfR[parameters == \"r\",y_min := 10^-5]\n",
    "msedfR[parameters == \"r\",y_max := 10^2]\n",
    "\n",
    "\n",
    "msedfR$obssize = factor(msedfR$obssize, levels = c('2', '5', '10', '15', '20', '25'))\n",
    "msedfR$samplesize = factor(msedfR$samplesize, levels = c('100', '1000', '10000'))\n",
    "msedfR$parameters = factor(msedfR$parameters, levels = c('beta', 'theta', 'r'), labels = c(beta = expression(hat(bold(beta))), theta = expression(hat(bold(theta))[]), r = expression(hat(bold(r)))))\n",
    "msedfR$robust = factor(msedfR$labels, levels = c('Negative Binomial CS with Log Link'),\n",
    "    labels = c(expression(paste(\"Negative Binomial CS with Log Link\")))) # , expression(paste(\"MvT Gamma Inverse-Gamma\"))))\n",
    "\n",
    "\n",
    "\n",
    "\n",
    "#mseplot <- ggplot(msedfR[msedfR$mse < 10^0, ], aes(x=samplesize, y=mse, fill=obssize)) + \n",
    "mseplot = ggplot(msedfR[msedfR$mse < 10^3, ], aes(x=samplesize, y=mse, fill=obssize)) + \n",
    "  #geom_boxplot(outlier.size = 0.0, outlier.alpha = 0) +\n",
    "  geom_boxplot(outlier.size = 0.25) +\n",
    "#    geom_violin() +\n",
    "    facet_grid(parameters ~ robust, labeller = label_parsed, scales = \"free_y\") +\n",
    "  theme(legend.position=\"right\", legend.key = element_blank(), axis.text.x = element_text(angle=0, size=30),\n",
    "        axis.text.y = element_text(angle=0, size=30), axis.title.x = element_text(size = 30, face=\"bold\"), \n",
    "        axis.title.y = element_text(size = 40, face=\"bold\"), legend.title = element_text(size = 30, face=\"bold\"),\n",
    "        panel.grid.major = element_blank(), panel.grid.minor = element_blank(),\n",
    "        legend.text=element_text(size=30), panel.background = element_rect(fill = NA, color = \"black\"),\n",
    "        #panel.background = element_blank(), #panel.border = element_blank(),\n",
    "        axis.line = element_line(color = 'black',size=0.3), plot.title = element_text(hjust = 0.5),\n",
    "        strip.background = element_rect(colour=\"black\", fill=\"white\"), strip.text.y = element_text(angle = 0, size=75, face=\"bold\"),\n",
    "        strip.text.x = element_text(size=25)) + \n",
    "  scale_fill_manual(values = c(\"#c85f55\",\n",
    "\"#a964bf\",\n",
    "\"#8db352\",\n",
    "\"#fa7300\",\n",
    "\"#05aec0\",\n",
    "\"#ff1493\")) +\n",
    "#scale_y_log10(breaks = scales::trans_breaks(\"log10\", function(x) 10^x)) +\n",
    "#scale_y_log10(breaks = 10^(-8:8), limit=c(10^-8, 10^2)) + \n",
    "scale_y_log10(breaks = 10^seq(-10, 10, 2), labels=trans_format(\"log10\", math_format(10^.x))) + #, limit=c(10^-8, 10^2)) +\n",
    "  labs(x = \"Sample Size\", y = \"MSE of Parameter Estimates\", fill = \"Cluster Size\") +\n",
    "geom_blank(aes(y = y_max)) + \n",
    "geom_blank(aes(y = y_min))  \n",
    "\"\"\""
   ]
  },
  {
   "cell_type": "code",
   "execution_count": 9,
   "metadata": {},
   "outputs": [
    {
     "data": {
      "text/plain": [
       "RObject{StrSxp}\n",
       "[1] \"updated_msefacetplot_NB_CS.png\"\n"
      ]
     },
     "execution_count": 9,
     "metadata": {},
     "output_type": "execute_result"
    }
   ],
   "source": [
    "R\"\"\"\n",
    "    ggsave('updated_msefacetplot_NB_CS.png', mseplot, width = 12.5, height = 15, units = 'in', dpi = 450)\n",
    "\"\"\""
   ]
  }
 ],
 "metadata": {
  "@webio": {
   "lastCommId": null,
   "lastKernelId": null
  },
  "kernelspec": {
   "display_name": "Julia 1.6.2",
   "language": "julia",
   "name": "julia-1.6"
  },
  "language_info": {
   "file_extension": ".jl",
   "mimetype": "application/julia",
   "name": "julia",
   "version": "1.6.2"
  }
 },
 "nbformat": 4,
 "nbformat_minor": 2
}
