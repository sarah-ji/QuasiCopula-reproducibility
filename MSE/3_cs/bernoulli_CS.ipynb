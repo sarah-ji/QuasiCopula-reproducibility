{
 "cells": [
  {
   "cell_type": "markdown",
   "metadata": {},
   "source": [
    "## Bernoulli CS Results \n",
    "\n",
    "This notebook goes over the code needed to reproduce the results from the MSE and time figures in the first simulation in the paper. \n",
    "\n",
    "In this example simulate three fixed effects from a uniform distribution, $\\beta \\sim$ rand(Uniform(-2, 2), p) where p = 3 fixed effects.\n",
    "\n",
    "In this example we have Bernoulli base distribution with Logit Link function and covariance matrix $\\Gamma$ structured under CS covariance with $\\rho = 0.5, \\sigma^2 = 0.5$\n",
    "\n",
    "We use multi-threading on 8 threads to obtain these MSE results on the following machine, and include MSE results from 100 simulation runs for each scenario."
   ]
  },
  {
   "cell_type": "code",
   "execution_count": 1,
   "metadata": {},
   "outputs": [
    {
     "name": "stdout",
     "output_type": "stream",
     "text": [
      "Julia Version 1.6.2\n",
      "Commit 1b93d53fc4 (2021-07-14 15:36 UTC)\n",
      "Platform Info:\n",
      "  OS: macOS (x86_64-apple-darwin18.7.0)\n",
      "  CPU: Intel(R) Core(TM) i9-9880H CPU @ 2.30GHz\n",
      "  WORD_SIZE: 64\n",
      "  LIBM: libopenlibm\n",
      "  LLVM: libLLVM-11.0.1 (ORCJIT, skylake)\n"
     ]
    }
   ],
   "source": [
    "versioninfo()"
   ]
  },
  {
   "cell_type": "code",
   "execution_count": 2,
   "metadata": {},
   "outputs": [],
   "source": [
    "using QuasiCopula, DelimitedFiles, LinearAlgebra, Random, GLM\n",
    "using DataFrames"
   ]
  },
  {
   "cell_type": "code",
   "execution_count": 3,
   "metadata": {},
   "outputs": [],
   "source": [
    "p  = 3    # number of fixed effects, including intercept\n",
    "\n",
    "# true parameter values\n",
    "Random.seed!(12345)\n",
    "βtrue = rand(Uniform(-2, 2), p)\n",
    "σ2true = [0.5]\n",
    "ρtrue = [0.5]\n",
    "θtrue = [ρtrue; σ2true]\n",
    "\n",
    "# generate data\n",
    "trueparams = [βtrue; θtrue] #hold true parameters\n",
    "\n",
    "#simulation parameters\n",
    "samplesizes = [100; 1000; 10000]\n",
    "ns = [2; 5; 10; 15; 20; 25]\n",
    "nsims = 100;"
   ]
  },
  {
   "cell_type": "code",
   "execution_count": 4,
   "metadata": {},
   "outputs": [
    {
     "name": "stderr",
     "output_type": "stream",
     "text": [
      "┌ Info: reading in the files with results\n",
      "└ @ Main In[4]:1\n"
     ]
    },
    {
     "data": {
      "text/plain": [
       "1800-element Vector{Float64}:\n",
       " 0.082579071\n",
       " 0.063569576\n",
       " 0.02774453\n",
       " 0.047825529\n",
       " 0.053767638\n",
       " 0.072011041\n",
       " 0.04753132\n",
       " 0.034547664\n",
       " 0.046394804\n",
       " 0.03133094\n",
       " 0.042926393\n",
       " 0.084357489\n",
       " 0.039677338\n",
       " ⋮\n",
       " 0.709669641\n",
       " 0.669993857\n",
       " 0.590387845\n",
       " 0.665448808\n",
       " 0.748382048\n",
       " 0.743124263\n",
       " 0.632019948\n",
       " 0.575831606\n",
       " 0.656610367\n",
       " 0.632241827\n",
       " 0.621189226\n",
       " 0.853967358"
      ]
     },
     "execution_count": 4,
     "metadata": {},
     "output_type": "execute_result"
    }
   ],
   "source": [
    "@info \"reading in the files with results\"\n",
    "βMseresult = vec(readdlm(\"mse_beta_multivariate_bernoulli_CS$(nsims)reps_sim.csv\", ','))\n",
    "σ2MseResult = vec(readdlm(\"mse_sigma_multivariate_bernoulli_CS$(nsims)reps_sim.csv\", ','))\n",
    "ρMseResult = vec(readdlm(\"mse_rho_multivariate_bernoulli_CS$(nsims)reps_sim.csv\", ','))\n",
    "fittimes = vec(readdlm(\"fittimes_multivariate_bernoulli_CS$(nsims)reps_sim.csv\", ','))"
   ]
  },
  {
   "cell_type": "code",
   "execution_count": 5,
   "metadata": {},
   "outputs": [
    {
     "name": "stderr",
     "output_type": "stream",
     "text": [
      "┌ Info: making results table\n",
      "└ @ Main In[5]:2\n"
     ]
    },
    {
     "data": {
      "text/html": [
       "<div class=\"data-frame\"><p>18 rows × 8 columns</p><table class=\"data-frame\"><thead><tr><th></th><th>samplesize</th><th>obssize</th><th>fittime</th><th>se</th><th>nobs</th><th>fitmin</th><th>fitmax</th><th>perobsratio</th></tr><tr><th></th><th title=\"String\">String</th><th title=\"String\">String</th><th title=\"Float64\">Float64</th><th title=\"Float64\">Float64</th><th title=\"Int64\">Int64</th><th title=\"Float64\">Float64</th><th title=\"Float64\">Float64</th><th title=\"Float64\">Float64</th></tr></thead><tbody><tr><th>1</th><td>100</td><td>2</td><td>0.0505485</td><td>0.00191182</td><td>200</td><td>0.0486366</td><td>0.0524603</td><td>0.000252742</td></tr><tr><th>2</th><td>100</td><td>5</td><td>0.0694795</td><td>0.00281911</td><td>500</td><td>0.0666604</td><td>0.0722986</td><td>0.000138959</td></tr><tr><th>3</th><td>100</td><td>10</td><td>0.122617</td><td>0.0121422</td><td>1000</td><td>0.110475</td><td>0.13476</td><td>0.000122617</td></tr><tr><th>4</th><td>100</td><td>15</td><td>0.212729</td><td>0.017442</td><td>1500</td><td>0.195287</td><td>0.230171</td><td>0.000141819</td></tr><tr><th>5</th><td>100</td><td>20</td><td>0.310474</td><td>0.0211667</td><td>2000</td><td>0.289307</td><td>0.33164</td><td>0.000155237</td></tr><tr><th>6</th><td>100</td><td>25</td><td>0.339261</td><td>0.0209971</td><td>2500</td><td>0.318264</td><td>0.360258</td><td>0.000135704</td></tr><tr><th>7</th><td>1000</td><td>2</td><td>0.0563314</td><td>0.00155202</td><td>2000</td><td>0.0547794</td><td>0.0578834</td><td>2.81657e-5</td></tr><tr><th>8</th><td>1000</td><td>5</td><td>0.0693756</td><td>0.00173205</td><td>5000</td><td>0.0676436</td><td>0.0711077</td><td>1.38751e-5</td></tr><tr><th>9</th><td>1000</td><td>10</td><td>0.0878176</td><td>0.00147241</td><td>10000</td><td>0.0863451</td><td>0.08929</td><td>8.78176e-6</td></tr><tr><th>10</th><td>1000</td><td>15</td><td>0.119026</td><td>0.0070281</td><td>15000</td><td>0.111997</td><td>0.126054</td><td>7.93503e-6</td></tr><tr><th>11</th><td>1000</td><td>20</td><td>0.179421</td><td>0.0154443</td><td>20000</td><td>0.163977</td><td>0.194865</td><td>8.97104e-6</td></tr><tr><th>12</th><td>1000</td><td>25</td><td>0.232218</td><td>0.019864</td><td>25000</td><td>0.212354</td><td>0.252082</td><td>9.28871e-6</td></tr><tr><th>13</th><td>10000</td><td>2</td><td>0.170538</td><td>0.00257458</td><td>20000</td><td>0.167963</td><td>0.173112</td><td>8.52688e-6</td></tr><tr><th>14</th><td>10000</td><td>5</td><td>0.264412</td><td>0.00313659</td><td>50000</td><td>0.261276</td><td>0.267549</td><td>5.28825e-6</td></tr><tr><th>15</th><td>10000</td><td>10</td><td>0.35561</td><td>0.00301541</td><td>100000</td><td>0.352594</td><td>0.358625</td><td>3.5561e-6</td></tr><tr><th>16</th><td>10000</td><td>15</td><td>0.449707</td><td>0.00375683</td><td>150000</td><td>0.44595</td><td>0.453464</td><td>2.99805e-6</td></tr><tr><th>17</th><td>10000</td><td>20</td><td>0.535028</td><td>0.00714243</td><td>200000</td><td>0.527886</td><td>0.54217</td><td>2.67514e-6</td></tr><tr><th>18</th><td>10000</td><td>25</td><td>0.672772</td><td>0.00683479</td><td>250000</td><td>0.665937</td><td>0.679607</td><td>2.69109e-6</td></tr></tbody></table></div>"
      ],
      "text/latex": [
       "\\begin{tabular}{r|cccccccc}\n",
       "\t& samplesize & obssize & fittime & se & nobs & fitmin & fitmax & perobsratio\\\\\n",
       "\t\\hline\n",
       "\t& String & String & Float64 & Float64 & Int64 & Float64 & Float64 & Float64\\\\\n",
       "\t\\hline\n",
       "\t1 & 100 & 2 & 0.0505485 & 0.00191182 & 200 & 0.0486366 & 0.0524603 & 0.000252742 \\\\\n",
       "\t2 & 100 & 5 & 0.0694795 & 0.00281911 & 500 & 0.0666604 & 0.0722986 & 0.000138959 \\\\\n",
       "\t3 & 100 & 10 & 0.122617 & 0.0121422 & 1000 & 0.110475 & 0.13476 & 0.000122617 \\\\\n",
       "\t4 & 100 & 15 & 0.212729 & 0.017442 & 1500 & 0.195287 & 0.230171 & 0.000141819 \\\\\n",
       "\t5 & 100 & 20 & 0.310474 & 0.0211667 & 2000 & 0.289307 & 0.33164 & 0.000155237 \\\\\n",
       "\t6 & 100 & 25 & 0.339261 & 0.0209971 & 2500 & 0.318264 & 0.360258 & 0.000135704 \\\\\n",
       "\t7 & 1000 & 2 & 0.0563314 & 0.00155202 & 2000 & 0.0547794 & 0.0578834 & 2.81657e-5 \\\\\n",
       "\t8 & 1000 & 5 & 0.0693756 & 0.00173205 & 5000 & 0.0676436 & 0.0711077 & 1.38751e-5 \\\\\n",
       "\t9 & 1000 & 10 & 0.0878176 & 0.00147241 & 10000 & 0.0863451 & 0.08929 & 8.78176e-6 \\\\\n",
       "\t10 & 1000 & 15 & 0.119026 & 0.0070281 & 15000 & 0.111997 & 0.126054 & 7.93503e-6 \\\\\n",
       "\t11 & 1000 & 20 & 0.179421 & 0.0154443 & 20000 & 0.163977 & 0.194865 & 8.97104e-6 \\\\\n",
       "\t12 & 1000 & 25 & 0.232218 & 0.019864 & 25000 & 0.212354 & 0.252082 & 9.28871e-6 \\\\\n",
       "\t13 & 10000 & 2 & 0.170538 & 0.00257458 & 20000 & 0.167963 & 0.173112 & 8.52688e-6 \\\\\n",
       "\t14 & 10000 & 5 & 0.264412 & 0.00313659 & 50000 & 0.261276 & 0.267549 & 5.28825e-6 \\\\\n",
       "\t15 & 10000 & 10 & 0.35561 & 0.00301541 & 100000 & 0.352594 & 0.358625 & 3.5561e-6 \\\\\n",
       "\t16 & 10000 & 15 & 0.449707 & 0.00375683 & 150000 & 0.44595 & 0.453464 & 2.99805e-6 \\\\\n",
       "\t17 & 10000 & 20 & 0.535028 & 0.00714243 & 200000 & 0.527886 & 0.54217 & 2.67514e-6 \\\\\n",
       "\t18 & 10000 & 25 & 0.672772 & 0.00683479 & 250000 & 0.665937 & 0.679607 & 2.69109e-6 \\\\\n",
       "\\end{tabular}\n"
      ],
      "text/plain": [
       "\u001b[1m18×8 DataFrame\u001b[0m\n",
       "\u001b[1m Row \u001b[0m│\u001b[1m samplesize \u001b[0m\u001b[1m obssize \u001b[0m\u001b[1m fittime   \u001b[0m\u001b[1m se         \u001b[0m\u001b[1m nobs   \u001b[0m\u001b[1m fitmin    \u001b[0m\u001b[1m fitmax  \u001b[0m ⋯\n",
       "\u001b[1m     \u001b[0m│\u001b[90m String     \u001b[0m\u001b[90m String  \u001b[0m\u001b[90m Float64   \u001b[0m\u001b[90m Float64    \u001b[0m\u001b[90m Int64  \u001b[0m\u001b[90m Float64   \u001b[0m\u001b[90m Float64 \u001b[0m ⋯\n",
       "─────┼──────────────────────────────────────────────────────────────────────────\n",
       "   1 │ 100         2        0.0505485  0.00191182     200  0.0486366  0.052460 ⋯\n",
       "   2 │ 100         5        0.0694795  0.00281911     500  0.0666604  0.072298\n",
       "   3 │ 100         10       0.122617   0.0121422     1000  0.110475   0.13476\n",
       "   4 │ 100         15       0.212729   0.017442      1500  0.195287   0.230171\n",
       "   5 │ 100         20       0.310474   0.0211667     2000  0.289307   0.33164  ⋯\n",
       "   6 │ 100         25       0.339261   0.0209971     2500  0.318264   0.360258\n",
       "   7 │ 1000        2        0.0563314  0.00155202    2000  0.0547794  0.057883\n",
       "   8 │ 1000        5        0.0693756  0.00173205    5000  0.0676436  0.071107\n",
       "   9 │ 1000        10       0.0878176  0.00147241   10000  0.0863451  0.08929  ⋯\n",
       "  10 │ 1000        15       0.119026   0.0070281    15000  0.111997   0.126054\n",
       "  11 │ 1000        20       0.179421   0.0154443    20000  0.163977   0.194865\n",
       "  12 │ 1000        25       0.232218   0.019864     25000  0.212354   0.252082\n",
       "  13 │ 10000       2        0.170538   0.00257458   20000  0.167963   0.173112 ⋯\n",
       "  14 │ 10000       5        0.264412   0.00313659   50000  0.261276   0.267549\n",
       "  15 │ 10000       10       0.35561    0.00301541  100000  0.352594   0.358625\n",
       "  16 │ 10000       15       0.449707   0.00375683  150000  0.44595    0.453464\n",
       "  17 │ 10000       20       0.535028   0.00714243  200000  0.527886   0.54217  ⋯\n",
       "  18 │ 10000       25       0.672772   0.00683479  250000  0.665937   0.679607\n",
       "\u001b[36m                                                               2 columns omitted\u001b[0m"
      ]
     },
     "execution_count": 5,
     "metadata": {},
     "output_type": "execute_result"
    }
   ],
   "source": [
    "#simulation parameters\n",
    "@info \"making results table\"\n",
    "sample_sizes = repeat(string.(samplesizes), inner = nsims * length(ns))\n",
    "obs_sizes = repeat(string.(ns), inner = nsims, outer = length(samplesizes))\n",
    "\n",
    "data = hcat(sample_sizes, obs_sizes, fittimes)\n",
    "\n",
    "msedf = DataFrame(samplesize = sample_sizes, obssize = obs_sizes, fittimes = fittimes)\n",
    "msedf = filter(x -> !isnan(x.fittimes), msedf)\n",
    "\n",
    "timedf = combine(groupby(msedf, [:samplesize, :obssize]), :fittimes => mean => :fittime,\n",
    "    :fittimes => x -> (std(x)/sqrt(length(x))))\n",
    "rename!(timedf, Dict(:fittimes_function => \"se\"))\n",
    "timedf[!, :nobs] = Meta.parse.(timedf[!, :samplesize]) .* Meta.parse.(timedf[!, :obssize])\n",
    "timedf[!, :fitmin] = timedf[!, :fittime] - timedf[!, :se]\n",
    "timedf[!, :fitmax] = timedf[!, :fittime] + timedf[!, :se]\n",
    "timedf[!, :perobsratio] = timedf[!, :fittime] ./ timedf[!, :nobs]\n",
    "timedf"
   ]
  },
  {
   "cell_type": "code",
   "execution_count": 6,
   "metadata": {},
   "outputs": [
    {
     "data": {
      "text/html": [
       "<div class=\"data-frame\"><p>18 rows × 6 columns (omitted printing of 1 columns)</p><table class=\"data-frame\"><thead><tr><th></th><th>people_obs</th><th>β1</th><th>β2</th><th>β3</th><th>ρ</th></tr><tr><th></th><th title=\"String\">String</th><th title=\"Tuple{Float64, Float64}\">Tuple…</th><th title=\"Tuple{Float64, Float64}\">Tuple…</th><th title=\"Tuple{Float64, Float64}\">Tuple…</th><th title=\"Tuple{Float64, Float64}\">Tuple…</th></tr></thead><tbody><tr><th>1</th><td>N: 100  ni: 2</td><td>(0.52, 0.0502117)</td><td>(0.21, 0.040936)</td><td>(0.27, 0.0446196)</td><td>(0.76, 0.0429235)</td></tr><tr><th>2</th><td>N: 100  ni: 5</td><td>(0.61, 0.0490207)</td><td>(0.37, 0.0485237)</td><td>(0.52, 0.0502117)</td><td>(0.56, 0.0498888)</td></tr><tr><th>3</th><td>N: 100  ni: 10</td><td>(0.56, 0.0498888)</td><td>(0.33, 0.0472582)</td><td>(0.65, 0.0479372)</td><td>(0.74, 0.0440844)</td></tr><tr><th>4</th><td>N: 100  ni: 15</td><td>(0.7, 0.0460566)</td><td>(0.26, 0.0440844)</td><td>(0.75, 0.0435194)</td><td>(0.56, 0.0498888)</td></tr><tr><th>5</th><td>N: 100  ni: 20</td><td>(0.58, 0.0496045)</td><td>(0.36, 0.0482418)</td><td>(0.78, 0.0416333)</td><td>(0.66, 0.0476095)</td></tr><tr><th>6</th><td>N: 100  ni: 25</td><td>(0.58, 0.0496045)</td><td>(0.33, 0.0472582)</td><td>(0.79, 0.040936)</td><td>(0.61, 0.0490207)</td></tr><tr><th>7</th><td>N: 1000  ni: 2</td><td>(0.47, 0.0501614)</td><td>(0.22, 0.0416333)</td><td>(0.44, 0.0498888)</td><td>(0.62, 0.0487832)</td></tr><tr><th>8</th><td>N: 1000  ni: 5</td><td>(0.4, 0.0492366)</td><td>(0.24, 0.0429235)</td><td>(0.62, 0.0487832)</td><td>(0.83, 0.0377525)</td></tr><tr><th>9</th><td>N: 1000  ni: 10</td><td>(0.51, 0.0502418)</td><td>(0.22, 0.0416333)</td><td>(0.73, 0.0446196)</td><td>(0.75, 0.0435194)</td></tr><tr><th>10</th><td>N: 1000  ni: 15</td><td>(0.46, 0.0500908)</td><td>(0.15, 0.035887)</td><td>(0.79, 0.040936)</td><td>(0.66, 0.0476095)</td></tr><tr><th>11</th><td>N: 1000  ni: 20</td><td>(0.54, 0.0500908)</td><td>(0.21, 0.040936)</td><td>(0.76, 0.0429235)</td><td>(0.64, 0.0482418)</td></tr><tr><th>12</th><td>N: 1000  ni: 25</td><td>(0.47, 0.0501614)</td><td>(0.22, 0.0416333)</td><td>(0.8, 0.0402015)</td><td>(0.62, 0.0487832)</td></tr><tr><th>13</th><td>N: 10000  ni: 2</td><td>(0.29, 0.0456048)</td><td>(0.14, 0.0348735)</td><td>(0.36, 0.0482418)</td><td>(0.76, 0.0429235)</td></tr><tr><th>14</th><td>N: 10000  ni: 5</td><td>(0.37, 0.0485237)</td><td>(0.13, 0.0337998)</td><td>(0.6, 0.0492366)</td><td>(0.86, 0.0348735)</td></tr><tr><th>15</th><td>N: 10000  ni: 10</td><td>(0.54, 0.0500908)</td><td>(0.24, 0.0429235)</td><td>(0.83, 0.0377525)</td><td>(0.74, 0.0440844)</td></tr><tr><th>16</th><td>N: 10000  ni: 15</td><td>(0.51, 0.0502418)</td><td>(0.2, 0.0402015)</td><td>(0.68, 0.0468826)</td><td>(0.68, 0.0468826)</td></tr><tr><th>17</th><td>N: 10000  ni: 20</td><td>(0.51, 0.0502418)</td><td>(0.14, 0.0348735)</td><td>(0.77, 0.0422953)</td><td>(0.71, 0.0456048)</td></tr><tr><th>18</th><td>N: 10000  ni: 25</td><td>(0.55, 0.05)</td><td>(0.23, 0.0422953)</td><td>(0.82, 0.0386123)</td><td>(0.63, 0.0485237)</td></tr></tbody></table></div>"
      ],
      "text/latex": [
       "\\begin{tabular}{r|cccccc}\n",
       "\t& people\\_obs & β1 & β2 & β3 & ρ & \\\\\n",
       "\t\\hline\n",
       "\t& String & Tuple… & Tuple… & Tuple… & Tuple… & \\\\\n",
       "\t\\hline\n",
       "\t1 & N: 100  ni: 2 & (0.52, 0.0502117) & (0.21, 0.040936) & (0.27, 0.0446196) & (0.76, 0.0429235) & $\\dots$ \\\\\n",
       "\t2 & N: 100  ni: 5 & (0.61, 0.0490207) & (0.37, 0.0485237) & (0.52, 0.0502117) & (0.56, 0.0498888) & $\\dots$ \\\\\n",
       "\t3 & N: 100  ni: 10 & (0.56, 0.0498888) & (0.33, 0.0472582) & (0.65, 0.0479372) & (0.74, 0.0440844) & $\\dots$ \\\\\n",
       "\t4 & N: 100  ni: 15 & (0.7, 0.0460566) & (0.26, 0.0440844) & (0.75, 0.0435194) & (0.56, 0.0498888) & $\\dots$ \\\\\n",
       "\t5 & N: 100  ni: 20 & (0.58, 0.0496045) & (0.36, 0.0482418) & (0.78, 0.0416333) & (0.66, 0.0476095) & $\\dots$ \\\\\n",
       "\t6 & N: 100  ni: 25 & (0.58, 0.0496045) & (0.33, 0.0472582) & (0.79, 0.040936) & (0.61, 0.0490207) & $\\dots$ \\\\\n",
       "\t7 & N: 1000  ni: 2 & (0.47, 0.0501614) & (0.22, 0.0416333) & (0.44, 0.0498888) & (0.62, 0.0487832) & $\\dots$ \\\\\n",
       "\t8 & N: 1000  ni: 5 & (0.4, 0.0492366) & (0.24, 0.0429235) & (0.62, 0.0487832) & (0.83, 0.0377525) & $\\dots$ \\\\\n",
       "\t9 & N: 1000  ni: 10 & (0.51, 0.0502418) & (0.22, 0.0416333) & (0.73, 0.0446196) & (0.75, 0.0435194) & $\\dots$ \\\\\n",
       "\t10 & N: 1000  ni: 15 & (0.46, 0.0500908) & (0.15, 0.035887) & (0.79, 0.040936) & (0.66, 0.0476095) & $\\dots$ \\\\\n",
       "\t11 & N: 1000  ni: 20 & (0.54, 0.0500908) & (0.21, 0.040936) & (0.76, 0.0429235) & (0.64, 0.0482418) & $\\dots$ \\\\\n",
       "\t12 & N: 1000  ni: 25 & (0.47, 0.0501614) & (0.22, 0.0416333) & (0.8, 0.0402015) & (0.62, 0.0487832) & $\\dots$ \\\\\n",
       "\t13 & N: 10000  ni: 2 & (0.29, 0.0456048) & (0.14, 0.0348735) & (0.36, 0.0482418) & (0.76, 0.0429235) & $\\dots$ \\\\\n",
       "\t14 & N: 10000  ni: 5 & (0.37, 0.0485237) & (0.13, 0.0337998) & (0.6, 0.0492366) & (0.86, 0.0348735) & $\\dots$ \\\\\n",
       "\t15 & N: 10000  ni: 10 & (0.54, 0.0500908) & (0.24, 0.0429235) & (0.83, 0.0377525) & (0.74, 0.0440844) & $\\dots$ \\\\\n",
       "\t16 & N: 10000  ni: 15 & (0.51, 0.0502418) & (0.2, 0.0402015) & (0.68, 0.0468826) & (0.68, 0.0468826) & $\\dots$ \\\\\n",
       "\t17 & N: 10000  ni: 20 & (0.51, 0.0502418) & (0.14, 0.0348735) & (0.77, 0.0422953) & (0.71, 0.0456048) & $\\dots$ \\\\\n",
       "\t18 & N: 10000  ni: 25 & (0.55, 0.05) & (0.23, 0.0422953) & (0.82, 0.0386123) & (0.63, 0.0485237) & $\\dots$ \\\\\n",
       "\\end{tabular}\n"
      ],
      "text/plain": [
       "\u001b[1m18×6 DataFrame\u001b[0m\n",
       "\u001b[1m Row \u001b[0m│\u001b[1m people_obs       \u001b[0m\u001b[1m β1                \u001b[0m\u001b[1m β2                \u001b[0m\u001b[1m β3             \u001b[0m ⋯\n",
       "\u001b[1m     \u001b[0m│\u001b[90m String           \u001b[0m\u001b[90m Tuple…            \u001b[0m\u001b[90m Tuple…            \u001b[0m\u001b[90m Tuple…         \u001b[0m ⋯\n",
       "─────┼──────────────────────────────────────────────────────────────────────────\n",
       "   1 │ N: 100  ni: 2     (0.52, 0.0502117)  (0.21, 0.040936)   (0.27, 0.044619 ⋯\n",
       "   2 │ N: 100  ni: 5     (0.61, 0.0490207)  (0.37, 0.0485237)  (0.52, 0.050211\n",
       "   3 │ N: 100  ni: 10    (0.56, 0.0498888)  (0.33, 0.0472582)  (0.65, 0.047937\n",
       "   4 │ N: 100  ni: 15    (0.7, 0.0460566)   (0.26, 0.0440844)  (0.75, 0.043519\n",
       "   5 │ N: 100  ni: 20    (0.58, 0.0496045)  (0.36, 0.0482418)  (0.78, 0.041633 ⋯\n",
       "   6 │ N: 100  ni: 25    (0.58, 0.0496045)  (0.33, 0.0472582)  (0.79, 0.040936\n",
       "   7 │ N: 1000  ni: 2    (0.47, 0.0501614)  (0.22, 0.0416333)  (0.44, 0.049888\n",
       "   8 │ N: 1000  ni: 5    (0.4, 0.0492366)   (0.24, 0.0429235)  (0.62, 0.048783\n",
       "   9 │ N: 1000  ni: 10   (0.51, 0.0502418)  (0.22, 0.0416333)  (0.73, 0.044619 ⋯\n",
       "  10 │ N: 1000  ni: 15   (0.46, 0.0500908)  (0.15, 0.035887)   (0.79, 0.040936\n",
       "  11 │ N: 1000  ni: 20   (0.54, 0.0500908)  (0.21, 0.040936)   (0.76, 0.042923\n",
       "  12 │ N: 1000  ni: 25   (0.47, 0.0501614)  (0.22, 0.0416333)  (0.8, 0.0402015\n",
       "  13 │ N: 10000  ni: 2   (0.29, 0.0456048)  (0.14, 0.0348735)  (0.36, 0.048241 ⋯\n",
       "  14 │ N: 10000  ni: 5   (0.37, 0.0485237)  (0.13, 0.0337998)  (0.6, 0.0492366\n",
       "  15 │ N: 10000  ni: 10  (0.54, 0.0500908)  (0.24, 0.0429235)  (0.83, 0.037752\n",
       "  16 │ N: 10000  ni: 15  (0.51, 0.0502418)  (0.2, 0.0402015)   (0.68, 0.046882\n",
       "  17 │ N: 10000  ni: 20  (0.51, 0.0502418)  (0.14, 0.0348735)  (0.77, 0.042295 ⋯\n",
       "  18 │ N: 10000  ni: 25  (0.55, 0.05)       (0.23, 0.0422953)  (0.82, 0.038612\n",
       "\u001b[36m                                                               3 columns omitted\u001b[0m"
      ]
     },
     "execution_count": 6,
     "metadata": {},
     "output_type": "execute_result"
    }
   ],
   "source": [
    "######  supplementary table s1\n",
    "using Random, DataFrames, DelimitedFiles, Statistics\n",
    "import StatsBase: sem\n",
    "\n",
    "βρσ2coverage = readdlm(\"beta_rho_sigma_coverage_multivariate_bernoulli_CS$(nsims)reps_sim.csv\", ',')\n",
    "\n",
    "m = 2\n",
    "\n",
    "covdf = DataFrame(Matrix(transpose(βρσ2coverage)), :auto)\n",
    "rename!(covdf, Symbol.([[\"β$i\" for i in 1:p];  [\"ρ\"]; [\"σ2\"]]))\n",
    "covdf[!, :samplesize] = sample_sizes\n",
    "covdf[!, :obssize] = obs_sizes\n",
    "first(covdf, 10)\n",
    "\n",
    "row_stats = [[(mean(col), sem(col)) for col = eachcol(d[!, 1:end-2])] for d = groupby(covdf, [:samplesize; :obssize])]\n",
    "df = DataFrame(row_stats, :auto)\n",
    "ss_obs = unique(\"N: \" .* sample_sizes .* \"  ni: \" .* obs_sizes)\n",
    "rename!(df, Symbol.(ss_obs))\n",
    "covdfdisplay = DataFrame([[names(df)]; collect.(eachrow(df))], \n",
    "    [:people_obs; Symbol.([[\"β$i\" for i in 1:p]; [\"ρ\"];[\"σ2\"]])])\n",
    "covdfdisplay\n"
   ]
  },
  {
   "cell_type": "code",
   "execution_count": 7,
   "metadata": {},
   "outputs": [
    {
     "data": {
      "text/html": [
       "<div class=\"data-frame\"><p>3,456 rows × 5 columns</p><table class=\"data-frame\"><thead><tr><th></th><th>mse</th><th>obssize</th><th>samplesize</th><th>parameters</th><th>robust</th></tr><tr><th></th><th title=\"Float64\">Float64</th><th title=\"String\">String</th><th title=\"String\">String</th><th title=\"String\">String</th><th title=\"String\">String</th></tr></thead><tbody><tr><th>1</th><td>0.192811</td><td>2</td><td>100</td><td>beta</td><td>Bernoulli CS with LogitLink</td></tr><tr><th>2</th><td>0.164952</td><td>2</td><td>100</td><td>beta</td><td>Bernoulli CS with LogitLink</td></tr><tr><th>3</th><td>0.18256</td><td>2</td><td>100</td><td>beta</td><td>Bernoulli CS with LogitLink</td></tr><tr><th>4</th><td>0.147012</td><td>2</td><td>100</td><td>beta</td><td>Bernoulli CS with LogitLink</td></tr><tr><th>5</th><td>0.715917</td><td>2</td><td>100</td><td>beta</td><td>Bernoulli CS with LogitLink</td></tr><tr><th>6</th><td>0.210346</td><td>2</td><td>100</td><td>beta</td><td>Bernoulli CS with LogitLink</td></tr><tr><th>7</th><td>0.0424875</td><td>2</td><td>100</td><td>beta</td><td>Bernoulli CS with LogitLink</td></tr><tr><th>8</th><td>0.463619</td><td>2</td><td>100</td><td>beta</td><td>Bernoulli CS with LogitLink</td></tr><tr><th>9</th><td>0.0278501</td><td>2</td><td>100</td><td>beta</td><td>Bernoulli CS with LogitLink</td></tr><tr><th>10</th><td>1.03154</td><td>2</td><td>100</td><td>beta</td><td>Bernoulli CS with LogitLink</td></tr><tr><th>11</th><td>0.107976</td><td>2</td><td>100</td><td>beta</td><td>Bernoulli CS with LogitLink</td></tr><tr><th>12</th><td>0.222105</td><td>2</td><td>100</td><td>beta</td><td>Bernoulli CS with LogitLink</td></tr><tr><th>13</th><td>0.157874</td><td>2</td><td>100</td><td>beta</td><td>Bernoulli CS with LogitLink</td></tr><tr><th>14</th><td>0.480845</td><td>2</td><td>100</td><td>beta</td><td>Bernoulli CS with LogitLink</td></tr><tr><th>15</th><td>0.189699</td><td>2</td><td>100</td><td>beta</td><td>Bernoulli CS with LogitLink</td></tr><tr><th>16</th><td>0.301165</td><td>2</td><td>100</td><td>beta</td><td>Bernoulli CS with LogitLink</td></tr><tr><th>17</th><td>0.329825</td><td>2</td><td>100</td><td>beta</td><td>Bernoulli CS with LogitLink</td></tr><tr><th>18</th><td>0.368874</td><td>2</td><td>100</td><td>beta</td><td>Bernoulli CS with LogitLink</td></tr><tr><th>19</th><td>0.0647515</td><td>2</td><td>100</td><td>beta</td><td>Bernoulli CS with LogitLink</td></tr><tr><th>20</th><td>0.193022</td><td>2</td><td>100</td><td>beta</td><td>Bernoulli CS with LogitLink</td></tr><tr><th>21</th><td>10.3864</td><td>2</td><td>100</td><td>beta</td><td>Bernoulli CS with LogitLink</td></tr><tr><th>22</th><td>0.183311</td><td>2</td><td>100</td><td>beta</td><td>Bernoulli CS with LogitLink</td></tr><tr><th>23</th><td>0.875806</td><td>2</td><td>100</td><td>beta</td><td>Bernoulli CS with LogitLink</td></tr><tr><th>24</th><td>0.0467284</td><td>2</td><td>100</td><td>beta</td><td>Bernoulli CS with LogitLink</td></tr><tr><th>25</th><td>1.24021</td><td>2</td><td>100</td><td>beta</td><td>Bernoulli CS with LogitLink</td></tr><tr><th>26</th><td>0.0136734</td><td>2</td><td>100</td><td>beta</td><td>Bernoulli CS with LogitLink</td></tr><tr><th>27</th><td>2.03319</td><td>2</td><td>100</td><td>beta</td><td>Bernoulli CS with LogitLink</td></tr><tr><th>28</th><td>0.0167322</td><td>2</td><td>100</td><td>beta</td><td>Bernoulli CS with LogitLink</td></tr><tr><th>29</th><td>0.219648</td><td>2</td><td>100</td><td>beta</td><td>Bernoulli CS with LogitLink</td></tr><tr><th>30</th><td>0.0927754</td><td>2</td><td>100</td><td>beta</td><td>Bernoulli CS with LogitLink</td></tr><tr><th>&vellip;</th><td>&vellip;</td><td>&vellip;</td><td>&vellip;</td><td>&vellip;</td><td>&vellip;</td></tr></tbody></table></div>"
      ],
      "text/latex": [
       "\\begin{tabular}{r|ccccc}\n",
       "\t& mse & obssize & samplesize & parameters & robust\\\\\n",
       "\t\\hline\n",
       "\t& Float64 & String & String & String & String\\\\\n",
       "\t\\hline\n",
       "\t1 & 0.192811 & 2 & 100 & beta & Bernoulli CS with LogitLink \\\\\n",
       "\t2 & 0.164952 & 2 & 100 & beta & Bernoulli CS with LogitLink \\\\\n",
       "\t3 & 0.18256 & 2 & 100 & beta & Bernoulli CS with LogitLink \\\\\n",
       "\t4 & 0.147012 & 2 & 100 & beta & Bernoulli CS with LogitLink \\\\\n",
       "\t5 & 0.715917 & 2 & 100 & beta & Bernoulli CS with LogitLink \\\\\n",
       "\t6 & 0.210346 & 2 & 100 & beta & Bernoulli CS with LogitLink \\\\\n",
       "\t7 & 0.0424875 & 2 & 100 & beta & Bernoulli CS with LogitLink \\\\\n",
       "\t8 & 0.463619 & 2 & 100 & beta & Bernoulli CS with LogitLink \\\\\n",
       "\t9 & 0.0278501 & 2 & 100 & beta & Bernoulli CS with LogitLink \\\\\n",
       "\t10 & 1.03154 & 2 & 100 & beta & Bernoulli CS with LogitLink \\\\\n",
       "\t11 & 0.107976 & 2 & 100 & beta & Bernoulli CS with LogitLink \\\\\n",
       "\t12 & 0.222105 & 2 & 100 & beta & Bernoulli CS with LogitLink \\\\\n",
       "\t13 & 0.157874 & 2 & 100 & beta & Bernoulli CS with LogitLink \\\\\n",
       "\t14 & 0.480845 & 2 & 100 & beta & Bernoulli CS with LogitLink \\\\\n",
       "\t15 & 0.189699 & 2 & 100 & beta & Bernoulli CS with LogitLink \\\\\n",
       "\t16 & 0.301165 & 2 & 100 & beta & Bernoulli CS with LogitLink \\\\\n",
       "\t17 & 0.329825 & 2 & 100 & beta & Bernoulli CS with LogitLink \\\\\n",
       "\t18 & 0.368874 & 2 & 100 & beta & Bernoulli CS with LogitLink \\\\\n",
       "\t19 & 0.0647515 & 2 & 100 & beta & Bernoulli CS with LogitLink \\\\\n",
       "\t20 & 0.193022 & 2 & 100 & beta & Bernoulli CS with LogitLink \\\\\n",
       "\t21 & 10.3864 & 2 & 100 & beta & Bernoulli CS with LogitLink \\\\\n",
       "\t22 & 0.183311 & 2 & 100 & beta & Bernoulli CS with LogitLink \\\\\n",
       "\t23 & 0.875806 & 2 & 100 & beta & Bernoulli CS with LogitLink \\\\\n",
       "\t24 & 0.0467284 & 2 & 100 & beta & Bernoulli CS with LogitLink \\\\\n",
       "\t25 & 1.24021 & 2 & 100 & beta & Bernoulli CS with LogitLink \\\\\n",
       "\t26 & 0.0136734 & 2 & 100 & beta & Bernoulli CS with LogitLink \\\\\n",
       "\t27 & 2.03319 & 2 & 100 & beta & Bernoulli CS with LogitLink \\\\\n",
       "\t28 & 0.0167322 & 2 & 100 & beta & Bernoulli CS with LogitLink \\\\\n",
       "\t29 & 0.219648 & 2 & 100 & beta & Bernoulli CS with LogitLink \\\\\n",
       "\t30 & 0.0927754 & 2 & 100 & beta & Bernoulli CS with LogitLink \\\\\n",
       "\t$\\dots$ & $\\dots$ & $\\dots$ & $\\dots$ & $\\dots$ & $\\dots$ \\\\\n",
       "\\end{tabular}\n"
      ],
      "text/plain": [
       "\u001b[1m3456×5 DataFrame\u001b[0m\n",
       "\u001b[1m  Row \u001b[0m│\u001b[1m mse         \u001b[0m\u001b[1m obssize \u001b[0m\u001b[1m samplesize \u001b[0m\u001b[1m parameters \u001b[0m\u001b[1m robust                  \u001b[0m ⋯\n",
       "\u001b[1m      \u001b[0m│\u001b[90m Float64     \u001b[0m\u001b[90m String  \u001b[0m\u001b[90m String     \u001b[0m\u001b[90m String     \u001b[0m\u001b[90m String                  \u001b[0m ⋯\n",
       "──────┼─────────────────────────────────────────────────────────────────────────\n",
       "    1 │ 0.192811     2        100         beta        Bernoulli CS with LogitL ⋯\n",
       "    2 │ 0.164952     2        100         beta        Bernoulli CS with LogitL\n",
       "    3 │ 0.18256      2        100         beta        Bernoulli CS with LogitL\n",
       "    4 │ 0.147012     2        100         beta        Bernoulli CS with LogitL\n",
       "    5 │ 0.715917     2        100         beta        Bernoulli CS with LogitL ⋯\n",
       "    6 │ 0.210346     2        100         beta        Bernoulli CS with LogitL\n",
       "    7 │ 0.0424875    2        100         beta        Bernoulli CS with LogitL\n",
       "    8 │ 0.463619     2        100         beta        Bernoulli CS with LogitL\n",
       "    9 │ 0.0278501    2        100         beta        Bernoulli CS with LogitL ⋯\n",
       "   10 │ 1.03154      2        100         beta        Bernoulli CS with LogitL\n",
       "   11 │ 0.107976     2        100         beta        Bernoulli CS with LogitL\n",
       "  ⋮   │      ⋮          ⋮         ⋮           ⋮                    ⋮           ⋱\n",
       " 3447 │ 0.00829562   25       10000       theta       Bernoulli CS with LogitL\n",
       " 3448 │ 0.00671214   25       10000       theta       Bernoulli CS with LogitL ⋯\n",
       " 3449 │ 0.00409747   25       10000       theta       Bernoulli CS with LogitL\n",
       " 3450 │ 0.0103345    25       10000       theta       Bernoulli CS with LogitL\n",
       " 3451 │ 0.000520485  25       10000       theta       Bernoulli CS with LogitL\n",
       " 3452 │ 0.0222303    25       10000       theta       Bernoulli CS with LogitL ⋯\n",
       " 3453 │ 0.00037048   25       10000       theta       Bernoulli CS with LogitL\n",
       " 3454 │ 0.00952302   25       10000       theta       Bernoulli CS with LogitL\n",
       " 3455 │ 0.000164967  25       10000       theta       Bernoulli CS with LogitL\n",
       " 3456 │ 0.0106048    25       10000       theta       Bernoulli CS with LogitL ⋯\n",
       "\u001b[36m                                                  1 column and 3435 rows omitted\u001b[0m"
      ]
     },
     "execution_count": 7,
     "metadata": {},
     "output_type": "execute_result"
    }
   ],
   "source": [
    "#### \n",
    "#import data and reorganize to create figure\n",
    "using Random, DataFrames, DelimitedFiles, Statistics, RCall, Printf\n",
    "import StatsBase: sem\n",
    "\n",
    "βMseresult_1 = vec(readdlm(\"mse_beta_multivariate_bernoulli_CS$(nsims)reps_sim.csv\", ','))\n",
    "σ2MseResult_1 = vec(readdlm(\"mse_sigma_multivariate_bernoulli_CS$(nsims)reps_sim.csv\", ','))\n",
    "ρMseResult_1 = vec(readdlm(\"mse_rho_multivariate_bernoulli_CS$(nsims)reps_sim.csv\", ','))\n",
    "θMseResult_1 = (σ2MseResult_1 .+ ρMseResult_1) ./ 2\n",
    "βρσ2coverage_1 = readdlm(\"beta_rho_sigma_coverage_multivariate_bernoulli_CS$(nsims)reps_sim.csv\", ',')\n",
    "\n",
    "samplesizesrobust = samplesizes\n",
    "nsrobust = ns\n",
    "nsimsrobust = nsims\n",
    "\n",
    "p = 3\n",
    "sample_sizesrobust = repeat(string.(samplesizesrobust), inner = nsimsrobust * length(nsrobust))\n",
    "obs_sizesrobust = repeat(string.(nsrobust), inner = nsimsrobust, outer = length(samplesizesrobust))\n",
    "msedfrobust = DataFrame(βmse = βMseresult_1, θMse = θMseResult_1,\n",
    "    samplesize = sample_sizesrobust, obssize = obs_sizesrobust)\n",
    "\n",
    "msedfrobustR = deepcopy(msedfrobust)\n",
    "rename!(msedfrobustR, [\"betamse\"\n",
    "    \"thetamse\"\n",
    "    \"samplesize\"\n",
    " \"obssize\"]);\n",
    "\n",
    "\n",
    "mses = [msedfrobustR[!, :betamse]; msedfrobustR[!, :thetamse]]\n",
    "\n",
    "obssize = collect([repeat(msedfrobustR[!, :obssize], 2)]...)\n",
    "\n",
    "samplesize = collect([repeat(msedfrobustR[!, :samplesize], 2)]...) \n",
    "\n",
    "parameters = collect([repeat(string.([:beta, :theta]), inner = nsimsrobust * length(nsrobust) * length(samplesizesrobust))]...)\n",
    "\n",
    "robust = collect([repeat([\"Bernoulli CS with LogitLink\"], 2 * nsimsrobust * length(nsrobust) * length(samplesizesrobust))]...) # ;\n",
    "\n",
    "msedfR = DataFrame(mse = mses, obssize = obssize, samplesize = samplesize,\n",
    "    parameters = parameters, robust = robust)\n",
    "\n",
    "msedfR = filter(x -> !isnan(x.mse), msedfR)\n",
    "msedfR = filter(x -> x.mse < 40000, msedfR)"
   ]
  },
  {
   "cell_type": "code",
   "execution_count": 8,
   "metadata": {},
   "outputs": [
    {
     "name": "stderr",
     "output_type": "stream",
     "text": [
      "┌ Warning: RCall.jl: Warning: package ‘scales’ was built under R version 4.0.2\n",
      "└ @ RCall /Users/sarahji/.julia/packages/RCall/6kphM/src/io.jl:172\n",
      "┌ Warning: RCall.jl: Warning: package ‘ggplot2’ was built under R version 4.0.2\n",
      "└ @ RCall /Users/sarahji/.julia/packages/RCall/6kphM/src/io.jl:172\n",
      "┌ Warning: RCall.jl: Warning: package ‘data.table’ was built under R version 4.0.2\n",
      "└ @ RCall /Users/sarahji/.julia/packages/RCall/6kphM/src/io.jl:172\n"
     ]
    },
    {
     "data": {
      "image/png": "[encoded data removed]"
     },
     "metadata": {},
     "output_type": "display_data"
    },
    {
     "data": {
      "text/plain": [
       "RObject{VecSxp}\n"
      ]
     },
     "execution_count": 8,
     "metadata": {},
     "output_type": "execute_result"
    }
   ],
   "source": [
    "### working on figure next\n",
    "@rput msedfR\n",
    "\n",
    "R\"\"\"\n",
    "library(scales)\n",
    "library(ggplot2)\n",
    "library(data.table)\n",
    "\n",
    "msedfR = data.table(msedfR)\n",
    "\n",
    "msedfR[parameters == \"beta\",y_min := 10^-8]\n",
    "msedfR[parameters == \"beta\",y_max := 10^-1]\n",
    "msedfR[parameters == \"theta\",y_min := 10^-5]\n",
    "msedfR[parameters == \"theta\",y_max := 10^1]\n",
    "\n",
    "#msedfR[parameters == \"beta\",y_min := 10^-8]\n",
    "#msedfR[parameters == \"beta\",y_max := 10^-2]\n",
    "#msedfR[parameters == \"tau\",y_min := 10^-8]\n",
    "#msedfR[parameters == \"tau\",y_max := 10^-2]\n",
    "#msedfR[parameters == \"Sigma\",y_min := 10^-5]\n",
    "#msedfR[parameters == \"Sigma\",y_max := 10^-2]\n",
    "\n",
    "\n",
    "msedfR$obssize = factor(msedfR$obssize, levels = c('2', '5', '10', '15', '20', '25'))\n",
    "msedfR$samplesize = factor(msedfR$samplesize, levels = c('100', '1000', '10000'))\n",
    "msedfR$parameters = factor(msedfR$parameters, levels = c('beta', 'theta'), labels = c(beta = expression(hat(bold(beta))), theta = expression(hat(bold(theta)))))\n",
    "msedfR$robust = factor(msedfR$robust, levels = c('Bernoulli CS with LogitLink'),\n",
    "    labels = c(expression(paste(\"Bernoulli CS with LogitLink\")))) # , expression(paste(\"MvT Gamma Inverse-Gamma\"))))\n",
    "\n",
    "#mseplot <- ggplot(msedfR[msedfR$mse < 10^0, ], aes(x=samplesize, y=mse, fill=obssize)) + \n",
    "mseplot = ggplot(msedfR[msedfR$mse < 10^3, ], aes(x=samplesize, y=mse, fill=obssize)) + \n",
    "  #geom_boxplot(outlier.size = 0.0, outlier.alpha = 0) +\n",
    "  geom_boxplot(outlier.size = 0.25) +\n",
    "#    geom_violin() +\n",
    "    facet_grid(parameters ~ robust, labeller = label_parsed, scales = \"free_y\") +\n",
    "  theme(legend.position=\"right\", legend.key = element_blank(), axis.text.x = element_text(angle=0, size=30),\n",
    "        axis.text.y = element_text(angle=0, size=30), axis.title.x = element_text(size = 30, face=\"bold\"), \n",
    "        axis.title.y = element_text(size = 40, face=\"bold\"), legend.title = element_text(size = 30, face=\"bold\"),\n",
    "        panel.grid.major = element_blank(), panel.grid.minor = element_blank(),\n",
    "        legend.text=element_text(size=30), panel.background = element_rect(fill = NA, color = \"black\"),\n",
    "        #panel.background = element_blank(), #panel.border = element_blank(),\n",
    "        axis.line = element_line(color = 'black',size=0.3), plot.title = element_text(hjust = 0.5),\n",
    "        strip.background = element_rect(colour=\"black\", fill=\"white\"), strip.text.y = element_text(angle = 0, size=75, face=\"bold\"),\n",
    "        strip.text.x = element_text(size=25)) + \n",
    "  scale_fill_manual(values = c(\"#c85f55\",\n",
    "\"#a964bf\",\n",
    "\"#8db352\",\n",
    "\"#fa7300\",\n",
    "\"#05aec0\",\n",
    "\"#ff1493\")) +\n",
    "#scale_y_log10(breaks = scales::trans_breaks(\"log10\", function(x) 10^x)) +\n",
    "#scale_y_log10(breaks = 10^(-8:8), limit=c(10^-8, 10^2)) + \n",
    "scale_y_log10(breaks = 10^seq(-10, 10, 2), labels=trans_format(\"log10\", math_format(10^.x))) + #, limit=c(10^-8, 10^2)) +\n",
    "  labs(x = \"Sample Size\", y = \"MSE of Parameter Estimates\", fill = \"Cluster Size\") +\n",
    "geom_blank(aes(y = y_max)) + \n",
    "geom_blank(aes(y = y_min)) \n",
    "\"\"\""
   ]
  },
  {
   "cell_type": "code",
   "execution_count": 9,
   "metadata": {},
   "outputs": [
    {
     "data": {
      "text/plain": [
       "RObject{StrSxp}\n",
       "[1] \"updated_msefacetplot_Bernoulli_CS.png\"\n"
      ]
     },
     "execution_count": 9,
     "metadata": {},
     "output_type": "execute_result"
    }
   ],
   "source": [
    "R\"\"\"\n",
    "    ggsave('updated_msefacetplot_Bernoulli_CS.png', mseplot, width = 12.5, height = 15, units = 'in', dpi = 450)\n",
    "\"\"\""
   ]
  }
 ],
 "metadata": {
  "@webio": {
   "lastCommId": null,
   "lastKernelId": null
  },
  "kernelspec": {
   "display_name": "Julia 1.6.2",
   "language": "julia",
   "name": "julia-1.6"
  },
  "language_info": {
   "file_extension": ".jl",
   "mimetype": "application/julia",
   "name": "julia",
   "version": "1.6.2"
  }
 },
 "nbformat": 4,
 "nbformat_minor": 2
}
