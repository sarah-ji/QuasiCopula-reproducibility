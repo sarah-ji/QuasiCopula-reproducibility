{
 "cells": [
  {
   "cell_type": "markdown",
   "metadata": {},
   "source": [
    "## Normal VCM Results \n",
    "\n",
    "This notebook goes over the code needed to reproduce the results from the MSE and time figures for the Gaussian base distribution with Identity Link and covariance matrix $\\Gamma$ structured under variance component model framework as follows:\n",
    "\n",
    "$$\n",
    "\\Gamma = 0.1 * \\mathbf{1_{n} 1_{n}^\\top}\n",
    "$$\n",
    "\n",
    "In this example simulate three fixed effects under our Quasi-Copula model with $\\beta \\sim$ randn(p) where p = 3 fixed effects.\n",
    "\n",
    "We use multi-threading on 8 threads to obtain these MSE results on the following machine, and include MSE results from 100 simulation runs comparing the fit of ours with that of LMM's random intercept model from MixedModels.jl for each scenario."
   ]
  },
  {
   "cell_type": "code",
   "execution_count": 1,
   "metadata": {},
   "outputs": [
    {
     "name": "stdout",
     "output_type": "stream",
     "text": [
      "Julia Version 1.6.2\n",
      "Commit 1b93d53fc4 (2021-07-14 15:36 UTC)\n",
      "Platform Info:\n",
      "  OS: macOS (x86_64-apple-darwin18.7.0)\n",
      "  CPU: Intel(R) Core(TM) i9-9880H CPU @ 2.30GHz\n",
      "  WORD_SIZE: 64\n",
      "  LIBM: libopenlibm\n",
      "  LLVM: libLLVM-11.0.1 (ORCJIT, skylake)\n"
     ]
    }
   ],
   "source": [
    "versioninfo()"
   ]
  },
  {
   "cell_type": "code",
   "execution_count": 2,
   "metadata": {},
   "outputs": [],
   "source": [
    "using QuasiCopula, DelimitedFiles, LinearAlgebra, Random\n",
    "using DataFrames"
   ]
  },
  {
   "cell_type": "code",
   "execution_count": 3,
   "metadata": {},
   "outputs": [],
   "source": [
    "p = 3    # number of fixed effects, including intercept\n",
    "m = 1    # number of variance components\n",
    "# true parameter values\n",
    "Random.seed!(12345)\n",
    "βtrue = rand(Uniform(-2, 2), p)\n",
    "θtrue = [0.1]\n",
    "τtrue = [100]\n",
    "\n",
    "# generate data\n",
    "intervals = zeros(p + m, 2) #hold intervals\n",
    "curcoverage = zeros(p + m) #hold current coverage resutls\n",
    "trueparams = [βtrue; θtrue; τtrue] #hold true parameters\n",
    "\n",
    "#simulation parameters\n",
    "samplesizes = [100; 1000; 10000]\n",
    "ns = [2; 5; 10; 15; 20; 25]\n",
    "nsims = 100;"
   ]
  },
  {
   "cell_type": "code",
   "execution_count": 4,
   "metadata": {},
   "outputs": [
    {
     "name": "stderr",
     "output_type": "stream",
     "text": [
      "┌ Info: reading in the files with results\n",
      "└ @ Main In[4]:1\n"
     ]
    },
    {
     "data": {
      "text/plain": [
       "1800-element Vector{Float64}:\n",
       " 0.092141818\n",
       " 0.109454192\n",
       " 0.405895269\n",
       " 0.070047812\n",
       " 0.126147321\n",
       " 0.152200857\n",
       " 0.100432659\n",
       " 0.096762137\n",
       " 0.095397552\n",
       " 0.097399371\n",
       " 0.132486389\n",
       " 0.080149129\n",
       " 0.119465978\n",
       " ⋮\n",
       " 0.691220955\n",
       " 0.599602933\n",
       " 0.562599308\n",
       " 0.629667953\n",
       " 0.573389659\n",
       " 0.682913156\n",
       " 0.631949058\n",
       " 0.517491041\n",
       " 0.65769147\n",
       " 0.818917573\n",
       " 0.654340949\n",
       " 0.564196131"
      ]
     },
     "execution_count": 4,
     "metadata": {},
     "output_type": "execute_result"
    }
   ],
   "source": [
    "@info \"reading in the files with results\"\n",
    "βMseresult = vec(readdlm(\"mse_beta_multivariate_normal$(nsims)reps_sim.csv\", ','))\n",
    "θMseresult = vec(readdlm(\"mse_theta_multivariate_normal$(nsims)reps_sim.csv\", ','))\n",
    "fittimes_QC = vec(readdlm(\"fittimes_multivariate_normal$(nsims)reps_sim.csv\", ','))"
   ]
  },
  {
   "cell_type": "code",
   "execution_count": 5,
   "metadata": {},
   "outputs": [
    {
     "data": {
      "text/plain": [
       "1800-element Vector{Float64}:\n",
       " 0.184799444\n",
       " 0.000444074\n",
       " 0.000430474\n",
       " 0.000438812\n",
       " 0.00048871\n",
       " 0.000440954\n",
       " 0.000461016\n",
       " 0.000459138\n",
       " 0.000478032\n",
       " 0.000447658\n",
       " 0.000450563\n",
       " 0.000441342\n",
       " 0.000482953\n",
       " ⋮\n",
       " 0.079281779\n",
       " 0.076432333\n",
       " 0.078117426\n",
       " 0.082555514\n",
       " 0.078802413\n",
       " 0.155483118\n",
       " 0.078736808\n",
       " 0.136572677\n",
       " 0.080911005\n",
       " 0.076573866\n",
       " 0.077085097\n",
       " 0.14483149"
      ]
     },
     "execution_count": 5,
     "metadata": {},
     "output_type": "execute_result"
    }
   ],
   "source": [
    "fittimes_GLMM = vec(readdlm(\"fittimes_GLMM_normal$(nsims)reps_sim.csv\", ','))"
   ]
  },
  {
   "cell_type": "code",
   "execution_count": 6,
   "metadata": {},
   "outputs": [
    {
     "name": "stderr",
     "output_type": "stream",
     "text": [
      "┌ Info: making results table Quasi-Copula\n",
      "└ @ Main In[6]:2\n"
     ]
    },
    {
     "data": {
      "text/html": [
       "<div class=\"data-frame\"><p>18 rows × 8 columns</p><table class=\"data-frame\"><thead><tr><th></th><th>samplesize</th><th>obssize</th><th>fittime</th><th>se</th><th>nobs</th><th>fitmin</th><th>fitmax</th><th>perobsratio</th></tr><tr><th></th><th title=\"String\">String</th><th title=\"String\">String</th><th title=\"Float64\">Float64</th><th title=\"Float64\">Float64</th><th title=\"Int64\">Int64</th><th title=\"Float64\">Float64</th><th title=\"Float64\">Float64</th><th title=\"Float64\">Float64</th></tr></thead><tbody><tr><th>1</th><td>100</td><td>2</td><td>0.140818</td><td>0.00751574</td><td>200</td><td>0.133302</td><td>0.155849</td><td>0.000704089</td></tr><tr><th>2</th><td>100</td><td>5</td><td>0.113303</td><td>0.00290464</td><td>500</td><td>0.110399</td><td>0.119113</td><td>0.000226607</td></tr><tr><th>3</th><td>100</td><td>10</td><td>0.113591</td><td>0.0019332</td><td>1000</td><td>0.111658</td><td>0.117457</td><td>0.000113591</td></tr><tr><th>4</th><td>100</td><td>15</td><td>0.115468</td><td>0.00247195</td><td>1500</td><td>0.112996</td><td>0.120412</td><td>7.69788e-5</td></tr><tr><th>5</th><td>100</td><td>20</td><td>0.11641</td><td>0.00261467</td><td>2000</td><td>0.113795</td><td>0.121639</td><td>5.8205e-5</td></tr><tr><th>6</th><td>100</td><td>25</td><td>0.123157</td><td>0.00281956</td><td>2500</td><td>0.120338</td><td>0.128797</td><td>4.9263e-5</td></tr><tr><th>7</th><td>1000</td><td>2</td><td>0.114071</td><td>0.00282026</td><td>2000</td><td>0.111251</td><td>0.119712</td><td>5.70355e-5</td></tr><tr><th>8</th><td>1000</td><td>5</td><td>0.13027</td><td>0.00241407</td><td>5000</td><td>0.127856</td><td>0.135099</td><td>2.60541e-5</td></tr><tr><th>9</th><td>1000</td><td>10</td><td>0.137567</td><td>0.00267767</td><td>10000</td><td>0.134889</td><td>0.142922</td><td>1.37567e-5</td></tr><tr><th>10</th><td>1000</td><td>15</td><td>0.129345</td><td>0.00176794</td><td>15000</td><td>0.127577</td><td>0.132881</td><td>8.623e-6</td></tr><tr><th>11</th><td>1000</td><td>20</td><td>0.13299</td><td>0.00210997</td><td>20000</td><td>0.13088</td><td>0.13721</td><td>6.64951e-6</td></tr><tr><th>12</th><td>1000</td><td>25</td><td>0.146123</td><td>0.00301235</td><td>25000</td><td>0.14311</td><td>0.152147</td><td>5.8449e-6</td></tr><tr><th>13</th><td>10000</td><td>2</td><td>0.267859</td><td>0.00404485</td><td>20000</td><td>0.263814</td><td>0.275949</td><td>1.33929e-5</td></tr><tr><th>14</th><td>10000</td><td>5</td><td>0.341727</td><td>0.00508532</td><td>50000</td><td>0.336641</td><td>0.351897</td><td>6.83453e-6</td></tr><tr><th>15</th><td>10000</td><td>10</td><td>0.407328</td><td>0.00566648</td><td>100000</td><td>0.401661</td><td>0.418661</td><td>4.07328e-6</td></tr><tr><th>16</th><td>10000</td><td>15</td><td>0.45734</td><td>0.00626776</td><td>150000</td><td>0.451072</td><td>0.469875</td><td>3.04893e-6</td></tr><tr><th>17</th><td>10000</td><td>20</td><td>0.517049</td><td>0.00590896</td><td>200000</td><td>0.51114</td><td>0.528867</td><td>2.58525e-6</td></tr><tr><th>18</th><td>10000</td><td>25</td><td>0.656021</td><td>0.00801653</td><td>250000</td><td>0.648004</td><td>0.672054</td><td>2.62408e-6</td></tr></tbody></table></div>"
      ],
      "text/latex": [
       "\\begin{tabular}{r|cccccccc}\n",
       "\t& samplesize & obssize & fittime & se & nobs & fitmin & fitmax & perobsratio\\\\\n",
       "\t\\hline\n",
       "\t& String & String & Float64 & Float64 & Int64 & Float64 & Float64 & Float64\\\\\n",
       "\t\\hline\n",
       "\t1 & 100 & 2 & 0.140818 & 0.00751574 & 200 & 0.133302 & 0.155849 & 0.000704089 \\\\\n",
       "\t2 & 100 & 5 & 0.113303 & 0.00290464 & 500 & 0.110399 & 0.119113 & 0.000226607 \\\\\n",
       "\t3 & 100 & 10 & 0.113591 & 0.0019332 & 1000 & 0.111658 & 0.117457 & 0.000113591 \\\\\n",
       "\t4 & 100 & 15 & 0.115468 & 0.00247195 & 1500 & 0.112996 & 0.120412 & 7.69788e-5 \\\\\n",
       "\t5 & 100 & 20 & 0.11641 & 0.00261467 & 2000 & 0.113795 & 0.121639 & 5.8205e-5 \\\\\n",
       "\t6 & 100 & 25 & 0.123157 & 0.00281956 & 2500 & 0.120338 & 0.128797 & 4.9263e-5 \\\\\n",
       "\t7 & 1000 & 2 & 0.114071 & 0.00282026 & 2000 & 0.111251 & 0.119712 & 5.70355e-5 \\\\\n",
       "\t8 & 1000 & 5 & 0.13027 & 0.00241407 & 5000 & 0.127856 & 0.135099 & 2.60541e-5 \\\\\n",
       "\t9 & 1000 & 10 & 0.137567 & 0.00267767 & 10000 & 0.134889 & 0.142922 & 1.37567e-5 \\\\\n",
       "\t10 & 1000 & 15 & 0.129345 & 0.00176794 & 15000 & 0.127577 & 0.132881 & 8.623e-6 \\\\\n",
       "\t11 & 1000 & 20 & 0.13299 & 0.00210997 & 20000 & 0.13088 & 0.13721 & 6.64951e-6 \\\\\n",
       "\t12 & 1000 & 25 & 0.146123 & 0.00301235 & 25000 & 0.14311 & 0.152147 & 5.8449e-6 \\\\\n",
       "\t13 & 10000 & 2 & 0.267859 & 0.00404485 & 20000 & 0.263814 & 0.275949 & 1.33929e-5 \\\\\n",
       "\t14 & 10000 & 5 & 0.341727 & 0.00508532 & 50000 & 0.336641 & 0.351897 & 6.83453e-6 \\\\\n",
       "\t15 & 10000 & 10 & 0.407328 & 0.00566648 & 100000 & 0.401661 & 0.418661 & 4.07328e-6 \\\\\n",
       "\t16 & 10000 & 15 & 0.45734 & 0.00626776 & 150000 & 0.451072 & 0.469875 & 3.04893e-6 \\\\\n",
       "\t17 & 10000 & 20 & 0.517049 & 0.00590896 & 200000 & 0.51114 & 0.528867 & 2.58525e-6 \\\\\n",
       "\t18 & 10000 & 25 & 0.656021 & 0.00801653 & 250000 & 0.648004 & 0.672054 & 2.62408e-6 \\\\\n",
       "\\end{tabular}\n"
      ],
      "text/plain": [
       "\u001b[1m18×8 DataFrame\u001b[0m\n",
       "\u001b[1m Row \u001b[0m│\u001b[1m samplesize \u001b[0m\u001b[1m obssize \u001b[0m\u001b[1m fittime  \u001b[0m\u001b[1m se         \u001b[0m\u001b[1m nobs   \u001b[0m\u001b[1m fitmin   \u001b[0m\u001b[1m fitmax   \u001b[0m\u001b[1m \u001b[0m ⋯\n",
       "\u001b[1m     \u001b[0m│\u001b[90m String     \u001b[0m\u001b[90m String  \u001b[0m\u001b[90m Float64  \u001b[0m\u001b[90m Float64    \u001b[0m\u001b[90m Int64  \u001b[0m\u001b[90m Float64  \u001b[0m\u001b[90m Float64  \u001b[0m\u001b[90m \u001b[0m ⋯\n",
       "─────┼──────────────────────────────────────────────────────────────────────────\n",
       "   1 │ 100         2        0.140818  0.00751574     200  0.133302  0.155849   ⋯\n",
       "   2 │ 100         5        0.113303  0.00290464     500  0.110399  0.119113\n",
       "   3 │ 100         10       0.113591  0.0019332     1000  0.111658  0.117457\n",
       "   4 │ 100         15       0.115468  0.00247195    1500  0.112996  0.120412\n",
       "   5 │ 100         20       0.11641   0.00261467    2000  0.113795  0.121639   ⋯\n",
       "   6 │ 100         25       0.123157  0.00281956    2500  0.120338  0.128797\n",
       "   7 │ 1000        2        0.114071  0.00282026    2000  0.111251  0.119712\n",
       "   8 │ 1000        5        0.13027   0.00241407    5000  0.127856  0.135099\n",
       "   9 │ 1000        10       0.137567  0.00267767   10000  0.134889  0.142922   ⋯\n",
       "  10 │ 1000        15       0.129345  0.00176794   15000  0.127577  0.132881\n",
       "  11 │ 1000        20       0.13299   0.00210997   20000  0.13088   0.13721\n",
       "  12 │ 1000        25       0.146123  0.00301235   25000  0.14311   0.152147\n",
       "  13 │ 10000       2        0.267859  0.00404485   20000  0.263814  0.275949   ⋯\n",
       "  14 │ 10000       5        0.341727  0.00508532   50000  0.336641  0.351897\n",
       "  15 │ 10000       10       0.407328  0.00566648  100000  0.401661  0.418661\n",
       "  16 │ 10000       15       0.45734   0.00626776  150000  0.451072  0.469875\n",
       "  17 │ 10000       20       0.517049  0.00590896  200000  0.51114   0.528867   ⋯\n",
       "  18 │ 10000       25       0.656021  0.00801653  250000  0.648004  0.672054\n",
       "\u001b[36m                                                                1 column omitted\u001b[0m"
      ]
     },
     "execution_count": 6,
     "metadata": {},
     "output_type": "execute_result"
    }
   ],
   "source": [
    "#simulation parameters\n",
    "@info \"making results table Quasi-Copula\"\n",
    "sample_sizes = repeat(string.(samplesizes), inner = nsims * length(ns))\n",
    "obs_sizes = repeat(string.(ns), inner = nsims, outer = length(samplesizes))\n",
    "\n",
    "msedf = DataFrame(samplesize = sample_sizes, obssize = obs_sizes, fittimes = fittimes_QC)\n",
    "timedf1 = combine(groupby(msedf, [:samplesize, :obssize]), :fittimes => mean => :fittime,\n",
    "    :fittimes => x -> (std(x)/sqrt(length(x))))\n",
    "rename!(timedf1, Dict(:fittimes_function => \"se\"))\n",
    "timedf1[!, :nobs] = Meta.parse.(timedf1[!, :samplesize]) .* Meta.parse.(timedf1[!, :obssize])\n",
    "timedf1[!, :fitmin] = timedf1[!, :fittime] - timedf1[!, :se]\n",
    "timedf1[!, :fitmax] = timedf1[!, :fittime] + 2 * timedf1[!, :se]\n",
    "timedf1[!, :perobsratio] = timedf1[!, :fittime] ./ timedf1[!, :nobs]\n",
    "timedf1"
   ]
  },
  {
   "cell_type": "code",
   "execution_count": 7,
   "metadata": {},
   "outputs": [
    {
     "name": "stderr",
     "output_type": "stream",
     "text": [
      "┌ Info: making results table GLMM\n",
      "└ @ Main In[7]:2\n"
     ]
    },
    {
     "data": {
      "text/html": [
       "<div class=\"data-frame\"><p>18 rows × 8 columns (omitted printing of 1 columns)</p><table class=\"data-frame\"><thead><tr><th></th><th>samplesize</th><th>obssize</th><th>fittime</th><th>se</th><th>nobs</th><th>fitmin</th><th>fitmax</th></tr><tr><th></th><th title=\"String\">String</th><th title=\"String\">String</th><th title=\"Float64\">Float64</th><th title=\"Float64\">Float64</th><th title=\"Int64\">Int64</th><th title=\"Float64\">Float64</th><th title=\"Float64\">Float64</th></tr></thead><tbody><tr><th>1</th><td>100</td><td>2</td><td>0.00231379</td><td>0.00184341</td><td>200</td><td>0.000470376</td><td>0.00415721</td></tr><tr><th>2</th><td>100</td><td>5</td><td>0.00258388</td><td>0.00209332</td><td>500</td><td>0.000490555</td><td>0.0046772</td></tr><tr><th>3</th><td>100</td><td>10</td><td>0.000549063</td><td>2.351e-6</td><td>1000</td><td>0.000546712</td><td>0.000551414</td></tr><tr><th>4</th><td>100</td><td>15</td><td>0.000689271</td><td>2.47009e-6</td><td>1500</td><td>0.000686801</td><td>0.000691741</td></tr><tr><th>5</th><td>100</td><td>20</td><td>0.000775651</td><td>2.50757e-6</td><td>2000</td><td>0.000773143</td><td>0.000778159</td></tr><tr><th>6</th><td>100</td><td>25</td><td>0.000870764</td><td>5.19832e-6</td><td>2500</td><td>0.000865566</td><td>0.000875962</td></tr><tr><th>7</th><td>1000</td><td>2</td><td>0.00158984</td><td>1.00595e-5</td><td>2000</td><td>0.00157979</td><td>0.0015999</td></tr><tr><th>8</th><td>1000</td><td>5</td><td>0.0023795</td><td>1.19107e-5</td><td>5000</td><td>0.00236759</td><td>0.00239141</td></tr><tr><th>9</th><td>1000</td><td>10</td><td>0.00453914</td><td>0.000611586</td><td>10000</td><td>0.00392755</td><td>0.00515072</td></tr><tr><th>10</th><td>1000</td><td>15</td><td>0.00497132</td><td>0.000435219</td><td>15000</td><td>0.0045361</td><td>0.00540654</td></tr><tr><th>11</th><td>1000</td><td>20</td><td>0.00563719</td><td>0.000373855</td><td>20000</td><td>0.00526333</td><td>0.00601104</td></tr><tr><th>12</th><td>1000</td><td>25</td><td>0.00712638</td><td>0.000571793</td><td>25000</td><td>0.00655459</td><td>0.00769818</td></tr><tr><th>13</th><td>10000</td><td>2</td><td>0.0225756</td><td>0.00251942</td><td>20000</td><td>0.0200562</td><td>0.025095</td></tr><tr><th>14</th><td>10000</td><td>5</td><td>0.0337183</td><td>0.00282695</td><td>50000</td><td>0.0308914</td><td>0.0365453</td></tr><tr><th>15</th><td>10000</td><td>10</td><td>0.0472157</td><td>0.00221578</td><td>100000</td><td>0.0449999</td><td>0.0494315</td></tr><tr><th>16</th><td>10000</td><td>15</td><td>0.0694394</td><td>0.00464446</td><td>150000</td><td>0.0647949</td><td>0.0740839</td></tr><tr><th>17</th><td>10000</td><td>20</td><td>0.0849835</td><td>0.00328165</td><td>200000</td><td>0.0817018</td><td>0.0882651</td></tr><tr><th>18</th><td>10000</td><td>25</td><td>0.0995283</td><td>0.00609963</td><td>250000</td><td>0.0934287</td><td>0.105628</td></tr></tbody></table></div>"
      ],
      "text/latex": [
       "\\begin{tabular}{r|cccccccc}\n",
       "\t& samplesize & obssize & fittime & se & nobs & fitmin & fitmax & \\\\\n",
       "\t\\hline\n",
       "\t& String & String & Float64 & Float64 & Int64 & Float64 & Float64 & \\\\\n",
       "\t\\hline\n",
       "\t1 & 100 & 2 & 0.00231379 & 0.00184341 & 200 & 0.000470376 & 0.00415721 & $\\dots$ \\\\\n",
       "\t2 & 100 & 5 & 0.00258388 & 0.00209332 & 500 & 0.000490555 & 0.0046772 & $\\dots$ \\\\\n",
       "\t3 & 100 & 10 & 0.000549063 & 2.351e-6 & 1000 & 0.000546712 & 0.000551414 & $\\dots$ \\\\\n",
       "\t4 & 100 & 15 & 0.000689271 & 2.47009e-6 & 1500 & 0.000686801 & 0.000691741 & $\\dots$ \\\\\n",
       "\t5 & 100 & 20 & 0.000775651 & 2.50757e-6 & 2000 & 0.000773143 & 0.000778159 & $\\dots$ \\\\\n",
       "\t6 & 100 & 25 & 0.000870764 & 5.19832e-6 & 2500 & 0.000865566 & 0.000875962 & $\\dots$ \\\\\n",
       "\t7 & 1000 & 2 & 0.00158984 & 1.00595e-5 & 2000 & 0.00157979 & 0.0015999 & $\\dots$ \\\\\n",
       "\t8 & 1000 & 5 & 0.0023795 & 1.19107e-5 & 5000 & 0.00236759 & 0.00239141 & $\\dots$ \\\\\n",
       "\t9 & 1000 & 10 & 0.00453914 & 0.000611586 & 10000 & 0.00392755 & 0.00515072 & $\\dots$ \\\\\n",
       "\t10 & 1000 & 15 & 0.00497132 & 0.000435219 & 15000 & 0.0045361 & 0.00540654 & $\\dots$ \\\\\n",
       "\t11 & 1000 & 20 & 0.00563719 & 0.000373855 & 20000 & 0.00526333 & 0.00601104 & $\\dots$ \\\\\n",
       "\t12 & 1000 & 25 & 0.00712638 & 0.000571793 & 25000 & 0.00655459 & 0.00769818 & $\\dots$ \\\\\n",
       "\t13 & 10000 & 2 & 0.0225756 & 0.00251942 & 20000 & 0.0200562 & 0.025095 & $\\dots$ \\\\\n",
       "\t14 & 10000 & 5 & 0.0337183 & 0.00282695 & 50000 & 0.0308914 & 0.0365453 & $\\dots$ \\\\\n",
       "\t15 & 10000 & 10 & 0.0472157 & 0.00221578 & 100000 & 0.0449999 & 0.0494315 & $\\dots$ \\\\\n",
       "\t16 & 10000 & 15 & 0.0694394 & 0.00464446 & 150000 & 0.0647949 & 0.0740839 & $\\dots$ \\\\\n",
       "\t17 & 10000 & 20 & 0.0849835 & 0.00328165 & 200000 & 0.0817018 & 0.0882651 & $\\dots$ \\\\\n",
       "\t18 & 10000 & 25 & 0.0995283 & 0.00609963 & 250000 & 0.0934287 & 0.105628 & $\\dots$ \\\\\n",
       "\\end{tabular}\n"
      ],
      "text/plain": [
       "\u001b[1m18×8 DataFrame\u001b[0m\n",
       "\u001b[1m Row \u001b[0m│\u001b[1m samplesize \u001b[0m\u001b[1m obssize \u001b[0m\u001b[1m fittime     \u001b[0m\u001b[1m se          \u001b[0m\u001b[1m nobs   \u001b[0m\u001b[1m fitmin      \u001b[0m\u001b[1m fit\u001b[0m ⋯\n",
       "\u001b[1m     \u001b[0m│\u001b[90m String     \u001b[0m\u001b[90m String  \u001b[0m\u001b[90m Float64     \u001b[0m\u001b[90m Float64     \u001b[0m\u001b[90m Int64  \u001b[0m\u001b[90m Float64     \u001b[0m\u001b[90m Flo\u001b[0m ⋯\n",
       "─────┼──────────────────────────────────────────────────────────────────────────\n",
       "   1 │ 100         2        0.00231379   0.00184341      200  0.000470376  0.0 ⋯\n",
       "   2 │ 100         5        0.00258388   0.00209332      500  0.000490555  0.0\n",
       "   3 │ 100         10       0.000549063  2.351e-6       1000  0.000546712  0.0\n",
       "   4 │ 100         15       0.000689271  2.47009e-6     1500  0.000686801  0.0\n",
       "   5 │ 100         20       0.000775651  2.50757e-6     2000  0.000773143  0.0 ⋯\n",
       "   6 │ 100         25       0.000870764  5.19832e-6     2500  0.000865566  0.0\n",
       "   7 │ 1000        2        0.00158984   1.00595e-5     2000  0.00157979   0.0\n",
       "   8 │ 1000        5        0.0023795    1.19107e-5     5000  0.00236759   0.0\n",
       "   9 │ 1000        10       0.00453914   0.000611586   10000  0.00392755   0.0 ⋯\n",
       "  10 │ 1000        15       0.00497132   0.000435219   15000  0.0045361    0.0\n",
       "  11 │ 1000        20       0.00563719   0.000373855   20000  0.00526333   0.0\n",
       "  12 │ 1000        25       0.00712638   0.000571793   25000  0.00655459   0.0\n",
       "  13 │ 10000       2        0.0225756    0.00251942    20000  0.0200562    0.0 ⋯\n",
       "  14 │ 10000       5        0.0337183    0.00282695    50000  0.0308914    0.0\n",
       "  15 │ 10000       10       0.0472157    0.00221578   100000  0.0449999    0.0\n",
       "  16 │ 10000       15       0.0694394    0.00464446   150000  0.0647949    0.0\n",
       "  17 │ 10000       20       0.0849835    0.00328165   200000  0.0817018    0.0 ⋯\n",
       "  18 │ 10000       25       0.0995283    0.00609963   250000  0.0934287    0.1\n",
       "\u001b[36m                                                               2 columns omitted\u001b[0m"
      ]
     },
     "execution_count": 7,
     "metadata": {},
     "output_type": "execute_result"
    }
   ],
   "source": [
    "#simulation parameters\n",
    "@info \"making results table GLMM\"\n",
    "sample_sizes = repeat(string.(samplesizes), inner = nsims * length(ns))\n",
    "obs_sizes = repeat(string.(ns), inner = nsims, outer = length(samplesizes))\n",
    "\n",
    "msedf = DataFrame(samplesize = sample_sizes, obssize = obs_sizes, fittimes = fittimes_GLMM)\n",
    "timedf2 = combine(groupby(msedf, [:samplesize, :obssize]), :fittimes => mean => :fittime,\n",
    "    :fittimes => x -> (std(x)/sqrt(length(x))))\n",
    "rename!(timedf2, Dict(:fittimes_function => \"se\"))\n",
    "timedf2[!, :nobs] = Meta.parse.(timedf2[!, :samplesize]) .* Meta.parse.(timedf2[!, :obssize])\n",
    "timedf2[!, :fitmin] = timedf2[!, :fittime] - timedf2[!, :se]\n",
    "timedf2[!, :fitmax] = timedf2[!, :fittime] + timedf2[!, :se]\n",
    "timedf2[!, :perobsratio] = timedf2[!, :fittime] ./ timedf2[!, :nobs]\n",
    "timedf2"
   ]
  },
  {
   "cell_type": "code",
   "execution_count": 8,
   "metadata": {},
   "outputs": [
    {
     "data": {
      "text/html": [
       "<div class=\"data-frame\"><p>18 rows × 6 columns (omitted printing of 1 columns)</p><table class=\"data-frame\"><thead><tr><th></th><th>people_obs</th><th>β1</th><th>β2</th><th>β3</th><th>θ1</th></tr><tr><th></th><th title=\"String\">String</th><th title=\"Tuple{Float64, Float64}\">Tuple…</th><th title=\"Tuple{Float64, Float64}\">Tuple…</th><th title=\"Tuple{Float64, Float64}\">Tuple…</th><th title=\"Tuple{Float64, Float64}\">Tuple…</th></tr></thead><tbody><tr><th>1</th><td>N: 100  ni: 2</td><td>(0.76, 0.0429235)</td><td>(0.84, 0.0368453)</td><td>(0.76, 0.0429235)</td><td>(0.0, 0.0)</td></tr><tr><th>2</th><td>N: 100  ni: 5</td><td>(0.7, 0.0460566)</td><td>(0.8, 0.0402015)</td><td>(0.77, 0.0422953)</td><td>(0.0, 0.0)</td></tr><tr><th>3</th><td>N: 100  ni: 10</td><td>(0.52, 0.0502117)</td><td>(0.89, 0.0314466)</td><td>(0.8, 0.0402015)</td><td>(0.0, 0.0)</td></tr><tr><th>4</th><td>N: 100  ni: 15</td><td>(0.69, 0.0464823)</td><td>(0.84, 0.0368453)</td><td>(0.8, 0.0402015)</td><td>(0.0, 0.0)</td></tr><tr><th>5</th><td>N: 100  ni: 20</td><td>(0.59, 0.0494311)</td><td>(0.83, 0.0377525)</td><td>(0.84, 0.0368453)</td><td>(0.0, 0.0)</td></tr><tr><th>6</th><td>N: 100  ni: 25</td><td>(0.5, 0.0502519)</td><td>(0.88, 0.0326599)</td><td>(0.86, 0.0348735)</td><td>(0.0, 0.0)</td></tr><tr><th>7</th><td>N: 1000  ni: 2</td><td>(0.73, 0.0446196)</td><td>(0.74, 0.0440844)</td><td>(0.79, 0.040936)</td><td>(0.0, 0.0)</td></tr><tr><th>8</th><td>N: 1000  ni: 5</td><td>(0.7, 0.0460566)</td><td>(0.86, 0.0348735)</td><td>(0.86, 0.0348735)</td><td>(0.0, 0.0)</td></tr><tr><th>9</th><td>N: 1000  ni: 10</td><td>(0.72, 0.0451261)</td><td>(0.89, 0.0314466)</td><td>(0.83, 0.0377525)</td><td>(0.0, 0.0)</td></tr><tr><th>10</th><td>N: 1000  ni: 15</td><td>(0.57, 0.049757)</td><td>(0.91, 0.0287623)</td><td>(0.95, 0.0219043)</td><td>(0.0, 0.0)</td></tr><tr><th>11</th><td>N: 1000  ni: 20</td><td>(0.59, 0.0494311)</td><td>(0.95, 0.0219043)</td><td>(0.87, 0.0337998)</td><td>(0.0, 0.0)</td></tr><tr><th>12</th><td>N: 1000  ni: 25</td><td>(0.55, 0.05)</td><td>(0.89, 0.0314466)</td><td>(0.85, 0.035887)</td><td>(0.0, 0.0)</td></tr><tr><th>13</th><td>N: 10000  ni: 2</td><td>(0.7, 0.0460566)</td><td>(0.8, 0.0402015)</td><td>(0.82, 0.0386123)</td><td>(0.0, 0.0)</td></tr><tr><th>14</th><td>N: 10000  ni: 5</td><td>(0.76, 0.0429235)</td><td>(0.86, 0.0348735)</td><td>(0.9, 0.0301511)</td><td>(0.0, 0.0)</td></tr><tr><th>15</th><td>N: 10000  ni: 10</td><td>(0.64, 0.0482418)</td><td>(0.88, 0.0326599)</td><td>(0.9, 0.0301511)</td><td>(0.0, 0.0)</td></tr><tr><th>16</th><td>N: 10000  ni: 15</td><td>(0.64, 0.0482418)</td><td>(0.83, 0.0377525)</td><td>(0.86, 0.0348735)</td><td>(0.0, 0.0)</td></tr><tr><th>17</th><td>N: 10000  ni: 20</td><td>(0.61, 0.0490207)</td><td>(0.85, 0.035887)</td><td>(0.87, 0.0337998)</td><td>(0.0, 0.0)</td></tr><tr><th>18</th><td>N: 10000  ni: 25</td><td>(0.52, 0.0502117)</td><td>(0.91, 0.0287623)</td><td>(0.86, 0.0348735)</td><td>(0.0, 0.0)</td></tr></tbody></table></div>"
      ],
      "text/latex": [
       "\\begin{tabular}{r|cccccc}\n",
       "\t& people\\_obs & β1 & β2 & β3 & θ1 & \\\\\n",
       "\t\\hline\n",
       "\t& String & Tuple… & Tuple… & Tuple… & Tuple… & \\\\\n",
       "\t\\hline\n",
       "\t1 & N: 100  ni: 2 & (0.76, 0.0429235) & (0.84, 0.0368453) & (0.76, 0.0429235) & (0.0, 0.0) & $\\dots$ \\\\\n",
       "\t2 & N: 100  ni: 5 & (0.7, 0.0460566) & (0.8, 0.0402015) & (0.77, 0.0422953) & (0.0, 0.0) & $\\dots$ \\\\\n",
       "\t3 & N: 100  ni: 10 & (0.52, 0.0502117) & (0.89, 0.0314466) & (0.8, 0.0402015) & (0.0, 0.0) & $\\dots$ \\\\\n",
       "\t4 & N: 100  ni: 15 & (0.69, 0.0464823) & (0.84, 0.0368453) & (0.8, 0.0402015) & (0.0, 0.0) & $\\dots$ \\\\\n",
       "\t5 & N: 100  ni: 20 & (0.59, 0.0494311) & (0.83, 0.0377525) & (0.84, 0.0368453) & (0.0, 0.0) & $\\dots$ \\\\\n",
       "\t6 & N: 100  ni: 25 & (0.5, 0.0502519) & (0.88, 0.0326599) & (0.86, 0.0348735) & (0.0, 0.0) & $\\dots$ \\\\\n",
       "\t7 & N: 1000  ni: 2 & (0.73, 0.0446196) & (0.74, 0.0440844) & (0.79, 0.040936) & (0.0, 0.0) & $\\dots$ \\\\\n",
       "\t8 & N: 1000  ni: 5 & (0.7, 0.0460566) & (0.86, 0.0348735) & (0.86, 0.0348735) & (0.0, 0.0) & $\\dots$ \\\\\n",
       "\t9 & N: 1000  ni: 10 & (0.72, 0.0451261) & (0.89, 0.0314466) & (0.83, 0.0377525) & (0.0, 0.0) & $\\dots$ \\\\\n",
       "\t10 & N: 1000  ni: 15 & (0.57, 0.049757) & (0.91, 0.0287623) & (0.95, 0.0219043) & (0.0, 0.0) & $\\dots$ \\\\\n",
       "\t11 & N: 1000  ni: 20 & (0.59, 0.0494311) & (0.95, 0.0219043) & (0.87, 0.0337998) & (0.0, 0.0) & $\\dots$ \\\\\n",
       "\t12 & N: 1000  ni: 25 & (0.55, 0.05) & (0.89, 0.0314466) & (0.85, 0.035887) & (0.0, 0.0) & $\\dots$ \\\\\n",
       "\t13 & N: 10000  ni: 2 & (0.7, 0.0460566) & (0.8, 0.0402015) & (0.82, 0.0386123) & (0.0, 0.0) & $\\dots$ \\\\\n",
       "\t14 & N: 10000  ni: 5 & (0.76, 0.0429235) & (0.86, 0.0348735) & (0.9, 0.0301511) & (0.0, 0.0) & $\\dots$ \\\\\n",
       "\t15 & N: 10000  ni: 10 & (0.64, 0.0482418) & (0.88, 0.0326599) & (0.9, 0.0301511) & (0.0, 0.0) & $\\dots$ \\\\\n",
       "\t16 & N: 10000  ni: 15 & (0.64, 0.0482418) & (0.83, 0.0377525) & (0.86, 0.0348735) & (0.0, 0.0) & $\\dots$ \\\\\n",
       "\t17 & N: 10000  ni: 20 & (0.61, 0.0490207) & (0.85, 0.035887) & (0.87, 0.0337998) & (0.0, 0.0) & $\\dots$ \\\\\n",
       "\t18 & N: 10000  ni: 25 & (0.52, 0.0502117) & (0.91, 0.0287623) & (0.86, 0.0348735) & (0.0, 0.0) & $\\dots$ \\\\\n",
       "\\end{tabular}\n"
      ],
      "text/plain": [
       "\u001b[1m18×6 DataFrame\u001b[0m\n",
       "\u001b[1m Row \u001b[0m│\u001b[1m people_obs       \u001b[0m\u001b[1m β1                \u001b[0m\u001b[1m β2                \u001b[0m\u001b[1m β3             \u001b[0m ⋯\n",
       "\u001b[1m     \u001b[0m│\u001b[90m String           \u001b[0m\u001b[90m Tuple…            \u001b[0m\u001b[90m Tuple…            \u001b[0m\u001b[90m Tuple…         \u001b[0m ⋯\n",
       "─────┼──────────────────────────────────────────────────────────────────────────\n",
       "   1 │ N: 100  ni: 2     (0.76, 0.0429235)  (0.84, 0.0368453)  (0.76, 0.042923 ⋯\n",
       "   2 │ N: 100  ni: 5     (0.7, 0.0460566)   (0.8, 0.0402015)   (0.77, 0.042295\n",
       "   3 │ N: 100  ni: 10    (0.52, 0.0502117)  (0.89, 0.0314466)  (0.8, 0.0402015\n",
       "   4 │ N: 100  ni: 15    (0.69, 0.0464823)  (0.84, 0.0368453)  (0.8, 0.0402015\n",
       "   5 │ N: 100  ni: 20    (0.59, 0.0494311)  (0.83, 0.0377525)  (0.84, 0.036845 ⋯\n",
       "   6 │ N: 100  ni: 25    (0.5, 0.0502519)   (0.88, 0.0326599)  (0.86, 0.034873\n",
       "   7 │ N: 1000  ni: 2    (0.73, 0.0446196)  (0.74, 0.0440844)  (0.79, 0.040936\n",
       "   8 │ N: 1000  ni: 5    (0.7, 0.0460566)   (0.86, 0.0348735)  (0.86, 0.034873\n",
       "   9 │ N: 1000  ni: 10   (0.72, 0.0451261)  (0.89, 0.0314466)  (0.83, 0.037752 ⋯\n",
       "  10 │ N: 1000  ni: 15   (0.57, 0.049757)   (0.91, 0.0287623)  (0.95, 0.021904\n",
       "  11 │ N: 1000  ni: 20   (0.59, 0.0494311)  (0.95, 0.0219043)  (0.87, 0.033799\n",
       "  12 │ N: 1000  ni: 25   (0.55, 0.05)       (0.89, 0.0314466)  (0.85, 0.035887\n",
       "  13 │ N: 10000  ni: 2   (0.7, 0.0460566)   (0.8, 0.0402015)   (0.82, 0.038612 ⋯\n",
       "  14 │ N: 10000  ni: 5   (0.76, 0.0429235)  (0.86, 0.0348735)  (0.9, 0.0301511\n",
       "  15 │ N: 10000  ni: 10  (0.64, 0.0482418)  (0.88, 0.0326599)  (0.9, 0.0301511\n",
       "  16 │ N: 10000  ni: 15  (0.64, 0.0482418)  (0.83, 0.0377525)  (0.86, 0.034873\n",
       "  17 │ N: 10000  ni: 20  (0.61, 0.0490207)  (0.85, 0.035887)   (0.87, 0.033799 ⋯\n",
       "  18 │ N: 10000  ni: 25  (0.52, 0.0502117)  (0.91, 0.0287623)  (0.86, 0.034873\n",
       "\u001b[36m                                                               3 columns omitted\u001b[0m"
      ]
     },
     "execution_count": 8,
     "metadata": {},
     "output_type": "execute_result"
    }
   ],
   "source": [
    "######  supplementary table s1\n",
    "using Random, DataFrames, DelimitedFiles, Statistics\n",
    "import StatsBase: sem\n",
    "\n",
    "βθτcoverage = readdlm(\"beta_theta_tau_coverage_normal$(nsims)reps_sim.csv\", ',')\n",
    "\n",
    "m = 1\n",
    "\n",
    "covdf = DataFrame(Matrix(transpose(βθτcoverage)), :auto)\n",
    "rename!(covdf, Symbol.([[\"β$i\" for i in 1:p]; [\"θ$i\" for i in 1:m]; [\"τ\"]]))\n",
    "covdf[!, :samplesize] = sample_sizes\n",
    "covdf[!, :obssize] = obs_sizes\n",
    "first(covdf, 10)\n",
    "\n",
    "row_stats = [[(mean(col), sem(col)) for col = eachcol(d[!, 1:end-2])] for d = groupby(covdf, [:samplesize; :obssize])]\n",
    "df = DataFrame(row_stats, :auto)\n",
    "ss_obs = unique(\"N: \" .* sample_sizes .* \"  ni: \" .* obs_sizes)\n",
    "rename!(df, Symbol.(ss_obs))\n",
    "covdfdisplay = DataFrame([[names(df)]; collect.(eachrow(df))], \n",
    "    [:people_obs; Symbol.([[\"β$i\" for i in 1:p]; [\"θ$i\" for i in 1:m]; \"τ\"])])\n",
    "# deletecols!(covdfdisplay, p + 2)\n",
    "covdfdisplay\n"
   ]
  },
  {
   "cell_type": "code",
   "execution_count": 9,
   "metadata": {},
   "outputs": [
    {
     "data": {
      "text/html": [
       "<div class=\"data-frame\"><p>10,800 rows × 5 columns</p><table class=\"data-frame\"><thead><tr><th></th><th>mse</th><th>obssize</th><th>samplesize</th><th>parameters</th><th>robust</th></tr><tr><th></th><th title=\"Float64\">Float64</th><th title=\"String\">String</th><th title=\"String\">String</th><th title=\"String\">String</th><th title=\"String\">String</th></tr></thead><tbody><tr><th>1</th><td>1.404e-5</td><td>2</td><td>100</td><td>beta</td><td>Gaussian QC</td></tr><tr><th>2</th><td>9.30466e-5</td><td>2</td><td>100</td><td>beta</td><td>Gaussian QC</td></tr><tr><th>3</th><td>7.7389e-5</td><td>2</td><td>100</td><td>beta</td><td>Gaussian QC</td></tr><tr><th>4</th><td>8.95334e-6</td><td>2</td><td>100</td><td>beta</td><td>Gaussian QC</td></tr><tr><th>5</th><td>8.50245e-5</td><td>2</td><td>100</td><td>beta</td><td>Gaussian QC</td></tr><tr><th>6</th><td>2.65177e-5</td><td>2</td><td>100</td><td>beta</td><td>Gaussian QC</td></tr><tr><th>7</th><td>3.31454e-5</td><td>2</td><td>100</td><td>beta</td><td>Gaussian QC</td></tr><tr><th>8</th><td>2.35112e-5</td><td>2</td><td>100</td><td>beta</td><td>Gaussian QC</td></tr><tr><th>9</th><td>9.72627e-5</td><td>2</td><td>100</td><td>beta</td><td>Gaussian QC</td></tr><tr><th>10</th><td>0.000113696</td><td>2</td><td>100</td><td>beta</td><td>Gaussian QC</td></tr><tr><th>11</th><td>3.34892e-5</td><td>2</td><td>100</td><td>beta</td><td>Gaussian QC</td></tr><tr><th>12</th><td>8.8263e-5</td><td>2</td><td>100</td><td>beta</td><td>Gaussian QC</td></tr><tr><th>13</th><td>9.12064e-5</td><td>2</td><td>100</td><td>beta</td><td>Gaussian QC</td></tr><tr><th>14</th><td>3.87993e-5</td><td>2</td><td>100</td><td>beta</td><td>Gaussian QC</td></tr><tr><th>15</th><td>6.23505e-5</td><td>2</td><td>100</td><td>beta</td><td>Gaussian QC</td></tr><tr><th>16</th><td>5.59352e-5</td><td>2</td><td>100</td><td>beta</td><td>Gaussian QC</td></tr><tr><th>17</th><td>8.37235e-6</td><td>2</td><td>100</td><td>beta</td><td>Gaussian QC</td></tr><tr><th>18</th><td>9.83483e-6</td><td>2</td><td>100</td><td>beta</td><td>Gaussian QC</td></tr><tr><th>19</th><td>0.000141558</td><td>2</td><td>100</td><td>beta</td><td>Gaussian QC</td></tr><tr><th>20</th><td>9.30016e-5</td><td>2</td><td>100</td><td>beta</td><td>Gaussian QC</td></tr><tr><th>21</th><td>6.22289e-5</td><td>2</td><td>100</td><td>beta</td><td>Gaussian QC</td></tr><tr><th>22</th><td>9.08441e-5</td><td>2</td><td>100</td><td>beta</td><td>Gaussian QC</td></tr><tr><th>23</th><td>0.000117867</td><td>2</td><td>100</td><td>beta</td><td>Gaussian QC</td></tr><tr><th>24</th><td>8.06214e-5</td><td>2</td><td>100</td><td>beta</td><td>Gaussian QC</td></tr><tr><th>25</th><td>5.41192e-5</td><td>2</td><td>100</td><td>beta</td><td>Gaussian QC</td></tr><tr><th>26</th><td>7.00791e-5</td><td>2</td><td>100</td><td>beta</td><td>Gaussian QC</td></tr><tr><th>27</th><td>1.88307e-5</td><td>2</td><td>100</td><td>beta</td><td>Gaussian QC</td></tr><tr><th>28</th><td>7.48846e-5</td><td>2</td><td>100</td><td>beta</td><td>Gaussian QC</td></tr><tr><th>29</th><td>2.26313e-5</td><td>2</td><td>100</td><td>beta</td><td>Gaussian QC</td></tr><tr><th>30</th><td>1.85035e-5</td><td>2</td><td>100</td><td>beta</td><td>Gaussian QC</td></tr><tr><th>&vellip;</th><td>&vellip;</td><td>&vellip;</td><td>&vellip;</td><td>&vellip;</td><td>&vellip;</td></tr></tbody></table></div>"
      ],
      "text/latex": [
       "\\begin{tabular}{r|ccccc}\n",
       "\t& mse & obssize & samplesize & parameters & robust\\\\\n",
       "\t\\hline\n",
       "\t& Float64 & String & String & String & String\\\\\n",
       "\t\\hline\n",
       "\t1 & 1.404e-5 & 2 & 100 & beta & Gaussian QC \\\\\n",
       "\t2 & 9.30466e-5 & 2 & 100 & beta & Gaussian QC \\\\\n",
       "\t3 & 7.7389e-5 & 2 & 100 & beta & Gaussian QC \\\\\n",
       "\t4 & 8.95334e-6 & 2 & 100 & beta & Gaussian QC \\\\\n",
       "\t5 & 8.50245e-5 & 2 & 100 & beta & Gaussian QC \\\\\n",
       "\t6 & 2.65177e-5 & 2 & 100 & beta & Gaussian QC \\\\\n",
       "\t7 & 3.31454e-5 & 2 & 100 & beta & Gaussian QC \\\\\n",
       "\t8 & 2.35112e-5 & 2 & 100 & beta & Gaussian QC \\\\\n",
       "\t9 & 9.72627e-5 & 2 & 100 & beta & Gaussian QC \\\\\n",
       "\t10 & 0.000113696 & 2 & 100 & beta & Gaussian QC \\\\\n",
       "\t11 & 3.34892e-5 & 2 & 100 & beta & Gaussian QC \\\\\n",
       "\t12 & 8.8263e-5 & 2 & 100 & beta & Gaussian QC \\\\\n",
       "\t13 & 9.12064e-5 & 2 & 100 & beta & Gaussian QC \\\\\n",
       "\t14 & 3.87993e-5 & 2 & 100 & beta & Gaussian QC \\\\\n",
       "\t15 & 6.23505e-5 & 2 & 100 & beta & Gaussian QC \\\\\n",
       "\t16 & 5.59352e-5 & 2 & 100 & beta & Gaussian QC \\\\\n",
       "\t17 & 8.37235e-6 & 2 & 100 & beta & Gaussian QC \\\\\n",
       "\t18 & 9.83483e-6 & 2 & 100 & beta & Gaussian QC \\\\\n",
       "\t19 & 0.000141558 & 2 & 100 & beta & Gaussian QC \\\\\n",
       "\t20 & 9.30016e-5 & 2 & 100 & beta & Gaussian QC \\\\\n",
       "\t21 & 6.22289e-5 & 2 & 100 & beta & Gaussian QC \\\\\n",
       "\t22 & 9.08441e-5 & 2 & 100 & beta & Gaussian QC \\\\\n",
       "\t23 & 0.000117867 & 2 & 100 & beta & Gaussian QC \\\\\n",
       "\t24 & 8.06214e-5 & 2 & 100 & beta & Gaussian QC \\\\\n",
       "\t25 & 5.41192e-5 & 2 & 100 & beta & Gaussian QC \\\\\n",
       "\t26 & 7.00791e-5 & 2 & 100 & beta & Gaussian QC \\\\\n",
       "\t27 & 1.88307e-5 & 2 & 100 & beta & Gaussian QC \\\\\n",
       "\t28 & 7.48846e-5 & 2 & 100 & beta & Gaussian QC \\\\\n",
       "\t29 & 2.26313e-5 & 2 & 100 & beta & Gaussian QC \\\\\n",
       "\t30 & 1.85035e-5 & 2 & 100 & beta & Gaussian QC \\\\\n",
       "\t$\\dots$ & $\\dots$ & $\\dots$ & $\\dots$ & $\\dots$ & $\\dots$ \\\\\n",
       "\\end{tabular}\n"
      ],
      "text/plain": [
       "\u001b[1m10800×5 DataFrame\u001b[0m\n",
       "\u001b[1m   Row \u001b[0m│\u001b[1m mse         \u001b[0m\u001b[1m obssize \u001b[0m\u001b[1m samplesize \u001b[0m\u001b[1m parameters \u001b[0m\u001b[1m robust       \u001b[0m\n",
       "\u001b[1m       \u001b[0m│\u001b[90m Float64     \u001b[0m\u001b[90m String  \u001b[0m\u001b[90m String     \u001b[0m\u001b[90m String     \u001b[0m\u001b[90m String       \u001b[0m\n",
       "───────┼────────────────────────────────────────────────────────────\n",
       "     1 │ 1.404e-5     2        100         beta        Gaussian QC\n",
       "     2 │ 9.30466e-5   2        100         beta        Gaussian QC\n",
       "     3 │ 7.7389e-5    2        100         beta        Gaussian QC\n",
       "     4 │ 8.95334e-6   2        100         beta        Gaussian QC\n",
       "     5 │ 8.50245e-5   2        100         beta        Gaussian QC\n",
       "     6 │ 2.65177e-5   2        100         beta        Gaussian QC\n",
       "     7 │ 3.31454e-5   2        100         beta        Gaussian QC\n",
       "     8 │ 2.35112e-5   2        100         beta        Gaussian QC\n",
       "     9 │ 9.72627e-5   2        100         beta        Gaussian QC\n",
       "    10 │ 0.000113696  2        100         beta        Gaussian QC\n",
       "    11 │ 3.34892e-5   2        100         beta        Gaussian QC\n",
       "   ⋮   │      ⋮          ⋮         ⋮           ⋮            ⋮\n",
       " 10791 │ 5.44458e-10  25       10000       tau         Gaussian LMM\n",
       " 10792 │ 2.47148e-9   25       10000       tau         Gaussian LMM\n",
       " 10793 │ 6.88703e-8   25       10000       tau         Gaussian LMM\n",
       " 10794 │ 3.55023e-8   25       10000       tau         Gaussian LMM\n",
       " 10795 │ 1.4897e-8    25       10000       tau         Gaussian LMM\n",
       " 10796 │ 5.14444e-9   25       10000       tau         Gaussian LMM\n",
       " 10797 │ 1.17967e-8   25       10000       tau         Gaussian LMM\n",
       " 10798 │ 4.18279e-9   25       10000       tau         Gaussian LMM\n",
       " 10799 │ 3.91259e-8   25       10000       tau         Gaussian LMM\n",
       " 10800 │ 3.0327e-9    25       10000       tau         Gaussian LMM\n",
       "\u001b[36m                                                  10779 rows omitted\u001b[0m"
      ]
     },
     "execution_count": 9,
     "metadata": {},
     "output_type": "execute_result"
    }
   ],
   "source": [
    "#### \n",
    "#import data and reorganize to create figure\n",
    "using Random, DataFrames, DelimitedFiles, Statistics, RCall, Printf\n",
    "import StatsBase: sem\n",
    "\n",
    "βMseresult = vec(readdlm(\"mse_beta_multivariate_normal$(nsims)reps_sim.csv\", ','))\n",
    "θMseresult = vec(readdlm(\"mse_theta_multivariate_normal$(nsims)reps_sim.csv\", ','))\n",
    "τMseresult = vec(readdlm(\"mse_tau_multivariate_normal$(nsims)reps_sim.csv\", ','))\n",
    "\n",
    "βMseresult_GLMM = vec(readdlm(\"mse_beta_GLMM_normal$(nsims)reps_sim.csv\", ','))\n",
    "θMseresult_GLMM = vec(readdlm(\"mse_theta_GLMM_normal$(nsims)reps_sim.csv\", ','))\n",
    "τMseresult_GLMM = vec(readdlm(\"mse_tau_GLMM_normal$(nsims)reps_sim.csv\", ','))\n",
    "\n",
    "p = 3; m = 1\n",
    "sample_sizes = repeat(string.(samplesizes), inner = nsims * length(ns))\n",
    "obs_sizes = repeat(string.(ns), inner = nsims, outer = length(samplesizes))\n",
    "msedf1 = DataFrame(βmse = βMseresult, thetamse = θMseresult, τmse = τMseresult,\n",
    "    samplesize = sample_sizes, obssize = obs_sizes)\n",
    "\n",
    "msedf2 = DataFrame(βmse = βMseresult_GLMM, thetamse = θMseresult_GLMM, τmse = τMseresult_GLMM,\n",
    "    samplesize = sample_sizes, obssize = obs_sizes)\n",
    "\n",
    "#rename to make parsing easier for R.\n",
    "\n",
    "msedf1 = deepcopy(msedf1)\n",
    "rename!(msedf1, [\"betamse\"\n",
    "    \"thetamse\"\n",
    "        \"taumse\"\n",
    "    \"samplesize\"\n",
    " \"obssize\"]);\n",
    "\n",
    "msedf2 = deepcopy(msedf2)\n",
    "rename!(msedf2, [\"betamse\"\n",
    "    \"thetamse\"\n",
    "        \"taumse\"\n",
    "    \"samplesize\"\n",
    " \"obssize\"]);\n",
    "\n",
    "mses = [msedf1[!, :betamse]; msedf1[!, :thetamse]; msedf1[!, :taumse]; msedf2[!, :betamse]; msedf2[!, :thetamse]; msedf2[!, :taumse]]\n",
    "    # msedfnormR[!, :betamse]; msedfnormR[!, :taumse]; msedfnormR[!, :Sigmamse]]\n",
    "obssize = [collect([repeat(msedf1[!, :obssize], 3)]...) ; collect([repeat(msedf2[!, :obssize], 3)]...)]\n",
    "#40\n",
    "samplesize = [collect([repeat(msedf1[!, :samplesize], 3)]...) ; collect([repeat(msedf2[!, :samplesize], 3)]...)]\n",
    "\n",
    "parameters = [collect([repeat(string.([:beta, :theta, :tau]), inner = nsims * length(ns) * length(samplesizes))]...) ; collect([repeat(string.([:beta, :theta, :tau]), inner = nsims * length(ns) * length(samplesizes))]...)]\n",
    "robust = [collect([repeat([\"Gaussian QC\"], 3 * nsims * length(ns) * length(samplesizes))]...); collect([repeat([\"Gaussian LMM\"],  3 * nsims * length(ns) * length(samplesizes))]...)]\n",
    "\n",
    "msedfR = DataFrame(mse = mses, obssize = obssize, samplesize = samplesize,\n",
    "    parameters = parameters, robust = robust)\n",
    "\n",
    "#5 of the 30,000 simulations did not converge, filter out\n",
    "msedfR = filter(x -> !isnan(x.mse), msedfR)\n",
    "# additionally, there are 5 where an error was not caught so it did not try a differnt solver\n",
    "msedfR = filter(x -> x.mse < 40000, msedfR)"
   ]
  },
  {
   "cell_type": "code",
   "execution_count": 10,
   "metadata": {},
   "outputs": [
    {
     "name": "stderr",
     "output_type": "stream",
     "text": [
      "┌ Warning: RCall.jl: Warning: package ‘scales’ was built under R version 4.0.2\n",
      "└ @ RCall /Users/sarahji/.julia/packages/RCall/6kphM/src/io.jl:172\n",
      "┌ Warning: RCall.jl: Warning: package ‘ggplot2’ was built under R version 4.0.2\n",
      "└ @ RCall /Users/sarahji/.julia/packages/RCall/6kphM/src/io.jl:172\n",
      "┌ Warning: RCall.jl: Warning: package ‘data.table’ was built under R version 4.0.2\n",
      "└ @ RCall /Users/sarahji/.julia/packages/RCall/6kphM/src/io.jl:172\n"
     ]
    },
    {
     "data": {
      "image/png": "[encoded data removed]"
     },
     "metadata": {},
     "output_type": "display_data"
    },
    {
     "data": {
      "text/plain": [
       "RObject{VecSxp}\n"
      ]
     },
     "execution_count": 10,
     "metadata": {},
     "output_type": "execute_result"
    }
   ],
   "source": [
    "### working on figure next\n",
    "@rput msedfR\n",
    "\n",
    "R\"\"\"\n",
    "library(scales)\n",
    "library(ggplot2)\n",
    "library(data.table)\n",
    "\n",
    "msedfR = data.table(msedfR)\n",
    "\n",
    "msedfR[parameters == \"beta\",y_min := 10^-8]\n",
    "msedfR[parameters == \"beta\",y_max := 10^-2]\n",
    "msedfR[parameters == \"theta\",y_min := 10^-5]\n",
    "msedfR[parameters == \"theta\",y_max := 10^1]\n",
    "msedfR[parameters == \"tau\",y_min := 10^-8]\n",
    "msedfR[parameters == \"tau\",y_max := 10^-2]\n",
    "\n",
    "#msedfR[parameters == \"beta\",y_min := 10^-8]\n",
    "#msedfR[parameters == \"beta\",y_max := 10^-2]\n",
    "#msedfR[parameters == \"tau\",y_min := 10^-8]\n",
    "#msedfR[parameters == \"tau\",y_max := 10^-2]\n",
    "#msedfR[parameters == \"Sigma\",y_min := 10^-5]\n",
    "#msedfR[parameters == \"Sigma\",y_max := 10^-2]\n",
    "\n",
    "\n",
    "msedfR$obssize = factor(msedfR$obssize, levels = c('2', '5', '10', '15', '20', '25'))\n",
    "msedfR$samplesize = factor(msedfR$samplesize, levels = c('100', '1000', '10000'))\n",
    "msedfR$parameters = factor(msedfR$parameters, levels = c('beta', 'theta', 'tau'), labels = c(beta = expression(hat(bold(beta))), theta = expression(hat(bold(theta))[]), tau = expression(hat(bold(tau)))))\n",
    "msedfR$robust <- factor(msedfR$robust, levels = c('Gaussian QC', 'Gaussian LMM'),\n",
    "    labels = c(expression(paste(\"Gaussian QC\")), expression(paste(\"Gaussian LMM\"))))\n",
    "\n",
    "\n",
    "#mseplot <- ggplot(msedfR[msedfR$mse < 10^0, ], aes(x=samplesize, y=mse, fill=obssize)) + \n",
    "mseplot = ggplot(msedfR[msedfR$mse < 10^3, ], aes(x=samplesize, y=mse, fill=obssize)) + \n",
    "  #geom_boxplot(outlier.size = 0.0, outlier.alpha = 0) +\n",
    "  geom_boxplot(outlier.size = 0.25) +\n",
    "#    geom_violin() +\n",
    "    facet_grid(parameters ~ robust, labeller = label_parsed, scales = \"free_y\") +\n",
    "  theme(legend.position=\"right\", legend.key = element_blank(), axis.text.x = element_text(angle=0, size=30),\n",
    "        axis.text.y = element_text(angle=0, size=30), axis.title.x = element_text(size = 30, face=\"bold\"), \n",
    "        axis.title.y = element_text(size = 40, face=\"bold\"), legend.title = element_text(size = 30, face=\"bold\"),\n",
    "        panel.grid.major = element_blank(), panel.grid.minor = element_blank(),\n",
    "        legend.text=element_text(size=30), panel.background = element_rect(fill = NA, color = \"black\"),\n",
    "        #panel.background = element_blank(), #panel.border = element_blank(),\n",
    "        axis.line = element_line(color = 'black',size=0.3), plot.title = element_text(hjust = 0.5),\n",
    "        strip.background = element_rect(colour=\"black\", fill=\"white\"), strip.text.y = element_text(angle = 0, size=75, face=\"bold\"),\n",
    "        strip.text.x = element_text(size=25)) + \n",
    "  scale_fill_manual(values = c(\"#c85f55\",\n",
    "\"#a964bf\",\n",
    "\"#8db352\",\n",
    "\"#fa7300\",\n",
    "\"#05aec0\",\n",
    "\"#ff1493\")) +\n",
    "#scale_y_log10(breaks = scales::trans_breaks(\"log10\", function(x) 10^x)) +\n",
    "#scale_y_log10(breaks = 10^(-8:8), limit=c(10^-8, 10^2)) + \n",
    "scale_y_log10(breaks = 10^seq(-10, 10, 2), labels=trans_format(\"log10\", math_format(10^.x))) + #, limit=c(10^-8, 10^2)) +\n",
    "  labs(x = \"Sample Size\", y = \"MSE of Parameter Estimates\", fill = \"Cluster Size\") +\n",
    "geom_blank(aes(y = y_max)) + \n",
    "geom_blank(aes(y = y_min))\n",
    "\"\"\""
   ]
  },
  {
   "cell_type": "code",
   "execution_count": 11,
   "metadata": {},
   "outputs": [
    {
     "data": {
      "text/plain": [
       "RObject{StrSxp}\n",
       "[1] \"updated_msefacetplot_normal_sim1.png\"\n"
      ]
     },
     "execution_count": 11,
     "metadata": {},
     "output_type": "execute_result"
    }
   ],
   "source": [
    "R\"\"\"\n",
    "    ggsave('updated_msefacetplot_normal_sim1.png', mseplot, width = 20, height = 15, units = 'in', dpi = 450)\n",
    "\"\"\""
   ]
  }
 ],
 "metadata": {
  "@webio": {
   "lastCommId": null,
   "lastKernelId": null
  },
  "kernelspec": {
   "display_name": "Julia 1.6.2",
   "language": "julia",
   "name": "julia-1.6"
  },
  "language_info": {
   "file_extension": ".jl",
   "mimetype": "application/julia",
   "name": "julia",
   "version": "1.6.2"
  }
 },
 "nbformat": 4,
 "nbformat_minor": 2
}
