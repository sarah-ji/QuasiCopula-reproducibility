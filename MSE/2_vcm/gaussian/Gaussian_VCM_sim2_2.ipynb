{
 "cells": [
  {
   "cell_type": "markdown",
   "metadata": {},
   "source": [
    "## Normal VCM Results \n",
    "\n",
    "This notebook goes over the code needed to reproduce the results from the MSE and time figures for the Gaussian base distribution with Identity Link and covariance matrix $\\Gamma$ structured under variance component model framework as follows:\n",
    "\n",
    "$$\n",
    "\\Gamma = 0.05 * \\mathbf{1_{n} 1_{n}^\\top} +  0.01 * \\mathbf{I_{n}}\n",
    "$$\n",
    "\n",
    "In this example simulate three fixed effects under the Linear Mixed model with $\\beta \\sim$ rand(Uniform(-2, 2), p) where p = 3 fixed effects.\n",
    "\n",
    "We use multi-threading on 8 threads to obtain these MSE results on the following machine, and include MSE results from 100 simulation runs comparing the fit of ours with that of LMM's random intercept model from MixedModels.jl for each scenario."
   ]
  },
  {
   "cell_type": "code",
   "execution_count": 12,
   "metadata": {},
   "outputs": [
    {
     "name": "stdout",
     "output_type": "stream",
     "text": [
      "Julia Version 1.6.2\n",
      "Commit 1b93d53fc4 (2021-07-14 15:36 UTC)\n",
      "Platform Info:\n",
      "  OS: macOS (x86_64-apple-darwin18.7.0)\n",
      "  CPU: Intel(R) Core(TM) i9-9880H CPU @ 2.30GHz\n",
      "  WORD_SIZE: 64\n",
      "  LIBM: libopenlibm\n",
      "  LLVM: libLLVM-11.0.1 (ORCJIT, skylake)\n"
     ]
    }
   ],
   "source": [
    "versioninfo()"
   ]
  },
  {
   "cell_type": "code",
   "execution_count": 13,
   "metadata": {},
   "outputs": [],
   "source": [
    "using QuasiCopula, DelimitedFiles, LinearAlgebra, Random\n",
    "using DataFrames"
   ]
  },
  {
   "cell_type": "code",
   "execution_count": 14,
   "metadata": {},
   "outputs": [],
   "source": [
    "p = 3    # number of fixed effects, including intercept\n",
    "m = 1    # number of variance components\n",
    "# true parameter values\n",
    "Random.seed!(12345)\n",
    "βtrue = rand(Uniform(-2, 2), p)\n",
    "θtrue = [0.05]\n",
    "τtrue = [100]\n",
    "\n",
    "# generate data\n",
    "intervals = zeros(p + m, 2) #hold intervals\n",
    "curcoverage = zeros(p + m) #hold current coverage resutls\n",
    "trueparams = [βtrue; θtrue; τtrue] #hold true parameters\n",
    "\n",
    "#simulation parameters\n",
    "samplesizes = [100; 1000; 10000]\n",
    "ns = [2; 5; 10; 15; 20; 25]\n",
    "nsims = 100;"
   ]
  },
  {
   "cell_type": "code",
   "execution_count": 15,
   "metadata": {},
   "outputs": [
    {
     "name": "stderr",
     "output_type": "stream",
     "text": [
      "┌ Info: reading in the files with results\n",
      "└ @ Main In[15]:1\n"
     ]
    },
    {
     "data": {
      "text/plain": [
       "1800-element Vector{Float64}:\n",
       " 0.080131003\n",
       " 0.086746191\n",
       " 0.074310858\n",
       " 0.090680429\n",
       " 0.086297252\n",
       " 0.08949192\n",
       " 0.085504094\n",
       " 0.076278281\n",
       " 0.081053727\n",
       " 0.088748325\n",
       " 0.095411394\n",
       " 0.064347191\n",
       " 0.056873938\n",
       " ⋮\n",
       " 0.220777659\n",
       " 0.277890145\n",
       " 0.222669207\n",
       " 0.216323563\n",
       " 0.230323164\n",
       " 0.258823767\n",
       " 0.246119033\n",
       " 0.237175935\n",
       " 0.251956234\n",
       " 0.229587363\n",
       " 0.226785135\n",
       " 0.239024927"
      ]
     },
     "execution_count": 15,
     "metadata": {},
     "output_type": "execute_result"
    }
   ],
   "source": [
    "@info \"reading in the files with results\"\n",
    "βMseresult = vec(readdlm(\"mse_beta_multivariate_normal$(nsims)reps_sim.csv\", ','))\n",
    "θMseresult = vec(readdlm(\"mse_theta_multivariate_normal$(nsims)reps_sim.csv\", ','))\n",
    "fittimes_QC = vec(readdlm(\"fittimes_multivariate_normal$(nsims)reps_sim.csv\", ','))"
   ]
  },
  {
   "cell_type": "code",
   "execution_count": 16,
   "metadata": {},
   "outputs": [
    {
     "data": {
      "text/plain": [
       "1800-element Vector{Float64}:\n",
       " 0.187504174\n",
       " 0.000431665\n",
       " 0.000432887\n",
       " 0.000437696\n",
       " 0.000412653\n",
       " 0.000421517\n",
       " 0.000434723\n",
       " 0.000431802\n",
       " 0.000425501\n",
       " 0.000432197\n",
       " 0.000427679\n",
       " 0.000425398\n",
       " 0.000427015\n",
       " ⋮\n",
       " 0.079397267\n",
       " 0.143474652\n",
       " 0.138084736\n",
       " 0.140154184\n",
       " 0.141590708\n",
       " 0.14376747\n",
       " 0.144793156\n",
       " 0.1381087\n",
       " 0.144939479\n",
       " 0.143362703\n",
       " 0.136871857\n",
       " 0.145933141"
      ]
     },
     "execution_count": 16,
     "metadata": {},
     "output_type": "execute_result"
    }
   ],
   "source": [
    "fittimes_GLMM = vec(readdlm(\"fittimes_GLMM_normal$(nsims)reps_sim.csv\", ','))"
   ]
  },
  {
   "cell_type": "code",
   "execution_count": 17,
   "metadata": {},
   "outputs": [
    {
     "name": "stderr",
     "output_type": "stream",
     "text": [
      "┌ Info: making results table Quasi-Copula\n",
      "└ @ Main In[17]:2\n"
     ]
    },
    {
     "data": {
      "text/html": [
       "<div class=\"data-frame\"><p>18 rows × 8 columns</p><table class=\"data-frame\"><thead><tr><th></th><th>samplesize</th><th>obssize</th><th>fittime</th><th>se</th><th>nobs</th><th>fitmin</th><th>fitmax</th><th>perobsratio</th></tr><tr><th></th><th title=\"String\">String</th><th title=\"String\">String</th><th title=\"Float64\">Float64</th><th title=\"Float64\">Float64</th><th title=\"Int64\">Int64</th><th title=\"Float64\">Float64</th><th title=\"Float64\">Float64</th><th title=\"Float64\">Float64</th></tr></thead><tbody><tr><th>1</th><td>100</td><td>2</td><td>0.0832821</td><td>0.00161054</td><td>200</td><td>0.0816715</td><td>0.0865031</td><td>0.00041641</td></tr><tr><th>2</th><td>100</td><td>5</td><td>0.076088</td><td>0.00102354</td><td>500</td><td>0.0750645</td><td>0.0781351</td><td>0.000152176</td></tr><tr><th>3</th><td>100</td><td>10</td><td>0.0821868</td><td>0.00250478</td><td>1000</td><td>0.0796821</td><td>0.0871964</td><td>8.21868e-5</td></tr><tr><th>4</th><td>100</td><td>15</td><td>0.0845154</td><td>0.00540675</td><td>1500</td><td>0.0791087</td><td>0.0953289</td><td>5.63436e-5</td></tr><tr><th>5</th><td>100</td><td>20</td><td>0.101459</td><td>0.00884542</td><td>2000</td><td>0.0926131</td><td>0.119149</td><td>5.07293e-5</td></tr><tr><th>6</th><td>100</td><td>25</td><td>0.148135</td><td>0.0164907</td><td>2500</td><td>0.131645</td><td>0.181117</td><td>5.92542e-5</td></tr><tr><th>7</th><td>1000</td><td>2</td><td>0.087935</td><td>0.00181397</td><td>2000</td><td>0.086121</td><td>0.0915629</td><td>4.39675e-5</td></tr><tr><th>8</th><td>1000</td><td>5</td><td>0.074982</td><td>0.00080174</td><td>5000</td><td>0.0741803</td><td>0.0765855</td><td>1.49964e-5</td></tr><tr><th>9</th><td>1000</td><td>10</td><td>0.0732627</td><td>0.00106453</td><td>10000</td><td>0.0721982</td><td>0.0753917</td><td>7.32627e-6</td></tr><tr><th>10</th><td>1000</td><td>15</td><td>0.0750565</td><td>0.00130768</td><td>15000</td><td>0.0737488</td><td>0.0776719</td><td>5.00377e-6</td></tr><tr><th>11</th><td>1000</td><td>20</td><td>0.0750124</td><td>0.00116246</td><td>20000</td><td>0.0738499</td><td>0.0773373</td><td>3.75062e-6</td></tr><tr><th>12</th><td>1000</td><td>25</td><td>0.0832233</td><td>0.00223871</td><td>25000</td><td>0.0809846</td><td>0.0877007</td><td>3.32893e-6</td></tr><tr><th>13</th><td>10000</td><td>2</td><td>0.164597</td><td>0.00315897</td><td>20000</td><td>0.161438</td><td>0.170915</td><td>8.22987e-6</td></tr><tr><th>14</th><td>10000</td><td>5</td><td>0.163921</td><td>0.0023586</td><td>50000</td><td>0.161562</td><td>0.168638</td><td>3.27841e-6</td></tr><tr><th>15</th><td>10000</td><td>10</td><td>0.167148</td><td>0.00187663</td><td>100000</td><td>0.165271</td><td>0.170901</td><td>1.67148e-6</td></tr><tr><th>16</th><td>10000</td><td>15</td><td>0.179177</td><td>0.00200926</td><td>150000</td><td>0.177168</td><td>0.183196</td><td>1.19451e-6</td></tr><tr><th>17</th><td>10000</td><td>20</td><td>0.193901</td><td>0.00234963</td><td>200000</td><td>0.191551</td><td>0.1986</td><td>9.69504e-7</td></tr><tr><th>18</th><td>10000</td><td>25</td><td>0.227168</td><td>0.00292065</td><td>250000</td><td>0.224247</td><td>0.233009</td><td>9.08672e-7</td></tr></tbody></table></div>"
      ],
      "text/latex": [
       "\\begin{tabular}{r|cccccccc}\n",
       "\t& samplesize & obssize & fittime & se & nobs & fitmin & fitmax & perobsratio\\\\\n",
       "\t\\hline\n",
       "\t& String & String & Float64 & Float64 & Int64 & Float64 & Float64 & Float64\\\\\n",
       "\t\\hline\n",
       "\t1 & 100 & 2 & 0.0832821 & 0.00161054 & 200 & 0.0816715 & 0.0865031 & 0.00041641 \\\\\n",
       "\t2 & 100 & 5 & 0.076088 & 0.00102354 & 500 & 0.0750645 & 0.0781351 & 0.000152176 \\\\\n",
       "\t3 & 100 & 10 & 0.0821868 & 0.00250478 & 1000 & 0.0796821 & 0.0871964 & 8.21868e-5 \\\\\n",
       "\t4 & 100 & 15 & 0.0845154 & 0.00540675 & 1500 & 0.0791087 & 0.0953289 & 5.63436e-5 \\\\\n",
       "\t5 & 100 & 20 & 0.101459 & 0.00884542 & 2000 & 0.0926131 & 0.119149 & 5.07293e-5 \\\\\n",
       "\t6 & 100 & 25 & 0.148135 & 0.0164907 & 2500 & 0.131645 & 0.181117 & 5.92542e-5 \\\\\n",
       "\t7 & 1000 & 2 & 0.087935 & 0.00181397 & 2000 & 0.086121 & 0.0915629 & 4.39675e-5 \\\\\n",
       "\t8 & 1000 & 5 & 0.074982 & 0.00080174 & 5000 & 0.0741803 & 0.0765855 & 1.49964e-5 \\\\\n",
       "\t9 & 1000 & 10 & 0.0732627 & 0.00106453 & 10000 & 0.0721982 & 0.0753917 & 7.32627e-6 \\\\\n",
       "\t10 & 1000 & 15 & 0.0750565 & 0.00130768 & 15000 & 0.0737488 & 0.0776719 & 5.00377e-6 \\\\\n",
       "\t11 & 1000 & 20 & 0.0750124 & 0.00116246 & 20000 & 0.0738499 & 0.0773373 & 3.75062e-6 \\\\\n",
       "\t12 & 1000 & 25 & 0.0832233 & 0.00223871 & 25000 & 0.0809846 & 0.0877007 & 3.32893e-6 \\\\\n",
       "\t13 & 10000 & 2 & 0.164597 & 0.00315897 & 20000 & 0.161438 & 0.170915 & 8.22987e-6 \\\\\n",
       "\t14 & 10000 & 5 & 0.163921 & 0.0023586 & 50000 & 0.161562 & 0.168638 & 3.27841e-6 \\\\\n",
       "\t15 & 10000 & 10 & 0.167148 & 0.00187663 & 100000 & 0.165271 & 0.170901 & 1.67148e-6 \\\\\n",
       "\t16 & 10000 & 15 & 0.179177 & 0.00200926 & 150000 & 0.177168 & 0.183196 & 1.19451e-6 \\\\\n",
       "\t17 & 10000 & 20 & 0.193901 & 0.00234963 & 200000 & 0.191551 & 0.1986 & 9.69504e-7 \\\\\n",
       "\t18 & 10000 & 25 & 0.227168 & 0.00292065 & 250000 & 0.224247 & 0.233009 & 9.08672e-7 \\\\\n",
       "\\end{tabular}\n"
      ],
      "text/plain": [
       "\u001b[1m18×8 DataFrame\u001b[0m\n",
       "\u001b[1m Row \u001b[0m│\u001b[1m samplesize \u001b[0m\u001b[1m obssize \u001b[0m\u001b[1m fittime   \u001b[0m\u001b[1m se         \u001b[0m\u001b[1m nobs   \u001b[0m\u001b[1m fitmin    \u001b[0m\u001b[1m fitmax  \u001b[0m ⋯\n",
       "\u001b[1m     \u001b[0m│\u001b[90m String     \u001b[0m\u001b[90m String  \u001b[0m\u001b[90m Float64   \u001b[0m\u001b[90m Float64    \u001b[0m\u001b[90m Int64  \u001b[0m\u001b[90m Float64   \u001b[0m\u001b[90m Float64 \u001b[0m ⋯\n",
       "─────┼──────────────────────────────────────────────────────────────────────────\n",
       "   1 │ 100         2        0.0832821  0.00161054     200  0.0816715  0.086503 ⋯\n",
       "   2 │ 100         5        0.076088   0.00102354     500  0.0750645  0.078135\n",
       "   3 │ 100         10       0.0821868  0.00250478    1000  0.0796821  0.087196\n",
       "   4 │ 100         15       0.0845154  0.00540675    1500  0.0791087  0.095328\n",
       "   5 │ 100         20       0.101459   0.00884542    2000  0.0926131  0.119149 ⋯\n",
       "   6 │ 100         25       0.148135   0.0164907     2500  0.131645   0.181117\n",
       "   7 │ 1000        2        0.087935   0.00181397    2000  0.086121   0.091562\n",
       "   8 │ 1000        5        0.074982   0.00080174    5000  0.0741803  0.076585\n",
       "   9 │ 1000        10       0.0732627  0.00106453   10000  0.0721982  0.075391 ⋯\n",
       "  10 │ 1000        15       0.0750565  0.00130768   15000  0.0737488  0.077671\n",
       "  11 │ 1000        20       0.0750124  0.00116246   20000  0.0738499  0.077337\n",
       "  12 │ 1000        25       0.0832233  0.00223871   25000  0.0809846  0.087700\n",
       "  13 │ 10000       2        0.164597   0.00315897   20000  0.161438   0.170915 ⋯\n",
       "  14 │ 10000       5        0.163921   0.0023586    50000  0.161562   0.168638\n",
       "  15 │ 10000       10       0.167148   0.00187663  100000  0.165271   0.170901\n",
       "  16 │ 10000       15       0.179177   0.00200926  150000  0.177168   0.183196\n",
       "  17 │ 10000       20       0.193901   0.00234963  200000  0.191551   0.1986   ⋯\n",
       "  18 │ 10000       25       0.227168   0.00292065  250000  0.224247   0.233009\n",
       "\u001b[36m                                                               2 columns omitted\u001b[0m"
      ]
     },
     "execution_count": 17,
     "metadata": {},
     "output_type": "execute_result"
    }
   ],
   "source": [
    "#simulation parameters\n",
    "@info \"making results table Quasi-Copula\"\n",
    "sample_sizes = repeat(string.(samplesizes), inner = nsims * length(ns))\n",
    "obs_sizes = repeat(string.(ns), inner = nsims, outer = length(samplesizes))\n",
    "\n",
    "msedf = DataFrame(samplesize = sample_sizes, obssize = obs_sizes, fittimes = fittimes_QC)\n",
    "timedf1 = combine(groupby(msedf, [:samplesize, :obssize]), :fittimes => mean => :fittime,\n",
    "    :fittimes => x -> (std(x)/sqrt(length(x))))\n",
    "rename!(timedf1, Dict(:fittimes_function => \"se\"))\n",
    "timedf1[!, :nobs] = Meta.parse.(timedf1[!, :samplesize]) .* Meta.parse.(timedf1[!, :obssize])\n",
    "timedf1[!, :fitmin] = timedf1[!, :fittime] - timedf1[!, :se]\n",
    "timedf1[!, :fitmax] = timedf1[!, :fittime] + 2 * timedf1[!, :se]\n",
    "timedf1[!, :perobsratio] = timedf1[!, :fittime] ./ timedf1[!, :nobs]\n",
    "timedf1"
   ]
  },
  {
   "cell_type": "code",
   "execution_count": 18,
   "metadata": {},
   "outputs": [
    {
     "name": "stderr",
     "output_type": "stream",
     "text": [
      "┌ Info: making results table GLMM\n",
      "└ @ Main In[18]:2\n"
     ]
    },
    {
     "data": {
      "text/html": [
       "<div class=\"data-frame\"><p>18 rows × 8 columns (omitted printing of 1 columns)</p><table class=\"data-frame\"><thead><tr><th></th><th>samplesize</th><th>obssize</th><th>fittime</th><th>se</th><th>nobs</th><th>fitmin</th><th>fitmax</th></tr><tr><th></th><th title=\"String\">String</th><th title=\"String\">String</th><th title=\"Float64\">Float64</th><th title=\"Float64\">Float64</th><th title=\"Int64\">Int64</th><th title=\"Float64\">Float64</th><th title=\"Float64\">Float64</th></tr></thead><tbody><tr><th>1</th><td>100</td><td>2</td><td>0.00229804</td><td>0.00187077</td><td>200</td><td>0.000427266</td><td>0.00416881</td></tr><tr><th>2</th><td>100</td><td>5</td><td>0.000508508</td><td>2.6506e-6</td><td>500</td><td>0.000505857</td><td>0.000511158</td></tr><tr><th>3</th><td>100</td><td>10</td><td>0.000565851</td><td>2.0467e-6</td><td>1000</td><td>0.000563805</td><td>0.000567898</td></tr><tr><th>4</th><td>100</td><td>15</td><td>0.000707788</td><td>3.12449e-6</td><td>1500</td><td>0.000704664</td><td>0.000710913</td></tr><tr><th>5</th><td>100</td><td>20</td><td>0.000798335</td><td>3.46784e-6</td><td>2000</td><td>0.000794867</td><td>0.000801803</td></tr><tr><th>6</th><td>100</td><td>25</td><td>0.000891876</td><td>3.74413e-6</td><td>2500</td><td>0.000888132</td><td>0.00089562</td></tr><tr><th>7</th><td>1000</td><td>2</td><td>0.00152548</td><td>5.81878e-6</td><td>2000</td><td>0.00151966</td><td>0.0015313</td></tr><tr><th>8</th><td>1000</td><td>5</td><td>0.00333743</td><td>0.000910254</td><td>5000</td><td>0.00242717</td><td>0.00424768</td></tr><tr><th>9</th><td>1000</td><td>10</td><td>0.00566939</td><td>0.00123452</td><td>10000</td><td>0.00443487</td><td>0.00690391</td></tr><tr><th>10</th><td>1000</td><td>15</td><td>0.00458865</td><td>9.98568e-6</td><td>15000</td><td>0.00457866</td><td>0.00459863</td></tr><tr><th>11</th><td>1000</td><td>20</td><td>0.00565872</td><td>9.65905e-6</td><td>20000</td><td>0.00564906</td><td>0.00566838</td></tr><tr><th>12</th><td>1000</td><td>25</td><td>0.00888933</td><td>0.000950576</td><td>25000</td><td>0.00793875</td><td>0.00983991</td></tr><tr><th>13</th><td>10000</td><td>2</td><td>0.0186288</td><td>0.00171331</td><td>20000</td><td>0.0169155</td><td>0.0203421</td></tr><tr><th>14</th><td>10000</td><td>5</td><td>0.032607</td><td>0.00229116</td><td>50000</td><td>0.0303158</td><td>0.0348982</td></tr><tr><th>15</th><td>10000</td><td>10</td><td>0.0628224</td><td>0.0032197</td><td>100000</td><td>0.0596027</td><td>0.0660421</td></tr><tr><th>16</th><td>10000</td><td>15</td><td>0.0657783</td><td>0.00272439</td><td>150000</td><td>0.0630539</td><td>0.0685027</td></tr><tr><th>17</th><td>10000</td><td>20</td><td>0.0834983</td><td>0.00285062</td><td>200000</td><td>0.0806477</td><td>0.0863489</td></tr><tr><th>18</th><td>10000</td><td>25</td><td>0.116595</td><td>0.00303072</td><td>250000</td><td>0.113564</td><td>0.119626</td></tr></tbody></table></div>"
      ],
      "text/latex": [
       "\\begin{tabular}{r|cccccccc}\n",
       "\t& samplesize & obssize & fittime & se & nobs & fitmin & fitmax & \\\\\n",
       "\t\\hline\n",
       "\t& String & String & Float64 & Float64 & Int64 & Float64 & Float64 & \\\\\n",
       "\t\\hline\n",
       "\t1 & 100 & 2 & 0.00229804 & 0.00187077 & 200 & 0.000427266 & 0.00416881 & $\\dots$ \\\\\n",
       "\t2 & 100 & 5 & 0.000508508 & 2.6506e-6 & 500 & 0.000505857 & 0.000511158 & $\\dots$ \\\\\n",
       "\t3 & 100 & 10 & 0.000565851 & 2.0467e-6 & 1000 & 0.000563805 & 0.000567898 & $\\dots$ \\\\\n",
       "\t4 & 100 & 15 & 0.000707788 & 3.12449e-6 & 1500 & 0.000704664 & 0.000710913 & $\\dots$ \\\\\n",
       "\t5 & 100 & 20 & 0.000798335 & 3.46784e-6 & 2000 & 0.000794867 & 0.000801803 & $\\dots$ \\\\\n",
       "\t6 & 100 & 25 & 0.000891876 & 3.74413e-6 & 2500 & 0.000888132 & 0.00089562 & $\\dots$ \\\\\n",
       "\t7 & 1000 & 2 & 0.00152548 & 5.81878e-6 & 2000 & 0.00151966 & 0.0015313 & $\\dots$ \\\\\n",
       "\t8 & 1000 & 5 & 0.00333743 & 0.000910254 & 5000 & 0.00242717 & 0.00424768 & $\\dots$ \\\\\n",
       "\t9 & 1000 & 10 & 0.00566939 & 0.00123452 & 10000 & 0.00443487 & 0.00690391 & $\\dots$ \\\\\n",
       "\t10 & 1000 & 15 & 0.00458865 & 9.98568e-6 & 15000 & 0.00457866 & 0.00459863 & $\\dots$ \\\\\n",
       "\t11 & 1000 & 20 & 0.00565872 & 9.65905e-6 & 20000 & 0.00564906 & 0.00566838 & $\\dots$ \\\\\n",
       "\t12 & 1000 & 25 & 0.00888933 & 0.000950576 & 25000 & 0.00793875 & 0.00983991 & $\\dots$ \\\\\n",
       "\t13 & 10000 & 2 & 0.0186288 & 0.00171331 & 20000 & 0.0169155 & 0.0203421 & $\\dots$ \\\\\n",
       "\t14 & 10000 & 5 & 0.032607 & 0.00229116 & 50000 & 0.0303158 & 0.0348982 & $\\dots$ \\\\\n",
       "\t15 & 10000 & 10 & 0.0628224 & 0.0032197 & 100000 & 0.0596027 & 0.0660421 & $\\dots$ \\\\\n",
       "\t16 & 10000 & 15 & 0.0657783 & 0.00272439 & 150000 & 0.0630539 & 0.0685027 & $\\dots$ \\\\\n",
       "\t17 & 10000 & 20 & 0.0834983 & 0.00285062 & 200000 & 0.0806477 & 0.0863489 & $\\dots$ \\\\\n",
       "\t18 & 10000 & 25 & 0.116595 & 0.00303072 & 250000 & 0.113564 & 0.119626 & $\\dots$ \\\\\n",
       "\\end{tabular}\n"
      ],
      "text/plain": [
       "\u001b[1m18×8 DataFrame\u001b[0m\n",
       "\u001b[1m Row \u001b[0m│\u001b[1m samplesize \u001b[0m\u001b[1m obssize \u001b[0m\u001b[1m fittime     \u001b[0m\u001b[1m se          \u001b[0m\u001b[1m nobs   \u001b[0m\u001b[1m fitmin      \u001b[0m\u001b[1m fit\u001b[0m ⋯\n",
       "\u001b[1m     \u001b[0m│\u001b[90m String     \u001b[0m\u001b[90m String  \u001b[0m\u001b[90m Float64     \u001b[0m\u001b[90m Float64     \u001b[0m\u001b[90m Int64  \u001b[0m\u001b[90m Float64     \u001b[0m\u001b[90m Flo\u001b[0m ⋯\n",
       "─────┼──────────────────────────────────────────────────────────────────────────\n",
       "   1 │ 100         2        0.00229804   0.00187077      200  0.000427266  0.0 ⋯\n",
       "   2 │ 100         5        0.000508508  2.6506e-6       500  0.000505857  0.0\n",
       "   3 │ 100         10       0.000565851  2.0467e-6      1000  0.000563805  0.0\n",
       "   4 │ 100         15       0.000707788  3.12449e-6     1500  0.000704664  0.0\n",
       "   5 │ 100         20       0.000798335  3.46784e-6     2000  0.000794867  0.0 ⋯\n",
       "   6 │ 100         25       0.000891876  3.74413e-6     2500  0.000888132  0.0\n",
       "   7 │ 1000        2        0.00152548   5.81878e-6     2000  0.00151966   0.0\n",
       "   8 │ 1000        5        0.00333743   0.000910254    5000  0.00242717   0.0\n",
       "   9 │ 1000        10       0.00566939   0.00123452    10000  0.00443487   0.0 ⋯\n",
       "  10 │ 1000        15       0.00458865   9.98568e-6    15000  0.00457866   0.0\n",
       "  11 │ 1000        20       0.00565872   9.65905e-6    20000  0.00564906   0.0\n",
       "  12 │ 1000        25       0.00888933   0.000950576   25000  0.00793875   0.0\n",
       "  13 │ 10000       2        0.0186288    0.00171331    20000  0.0169155    0.0 ⋯\n",
       "  14 │ 10000       5        0.032607     0.00229116    50000  0.0303158    0.0\n",
       "  15 │ 10000       10       0.0628224    0.0032197    100000  0.0596027    0.0\n",
       "  16 │ 10000       15       0.0657783    0.00272439   150000  0.0630539    0.0\n",
       "  17 │ 10000       20       0.0834983    0.00285062   200000  0.0806477    0.0 ⋯\n",
       "  18 │ 10000       25       0.116595     0.00303072   250000  0.113564     0.1\n",
       "\u001b[36m                                                               2 columns omitted\u001b[0m"
      ]
     },
     "execution_count": 18,
     "metadata": {},
     "output_type": "execute_result"
    }
   ],
   "source": [
    "#simulation parameters\n",
    "@info \"making results table GLMM\"\n",
    "sample_sizes = repeat(string.(samplesizes), inner = nsims * length(ns))\n",
    "obs_sizes = repeat(string.(ns), inner = nsims, outer = length(samplesizes))\n",
    "\n",
    "msedf = DataFrame(samplesize = sample_sizes, obssize = obs_sizes, fittimes = fittimes_GLMM)\n",
    "timedf2 = combine(groupby(msedf, [:samplesize, :obssize]), :fittimes => mean => :fittime,\n",
    "    :fittimes => x -> (std(x)/sqrt(length(x))))\n",
    "rename!(timedf2, Dict(:fittimes_function => \"se\"))\n",
    "timedf2[!, :nobs] = Meta.parse.(timedf2[!, :samplesize]) .* Meta.parse.(timedf2[!, :obssize])\n",
    "timedf2[!, :fitmin] = timedf2[!, :fittime] - timedf2[!, :se]\n",
    "timedf2[!, :fitmax] = timedf2[!, :fittime] + timedf2[!, :se]\n",
    "timedf2[!, :perobsratio] = timedf2[!, :fittime] ./ timedf2[!, :nobs]\n",
    "timedf2"
   ]
  },
  {
   "cell_type": "code",
   "execution_count": 19,
   "metadata": {},
   "outputs": [
    {
     "data": {
      "text/html": [
       "<div class=\"data-frame\"><p>18 rows × 6 columns (omitted printing of 1 columns)</p><table class=\"data-frame\"><thead><tr><th></th><th>people_obs</th><th>β1</th><th>β2</th><th>β3</th><th>θ1</th></tr><tr><th></th><th title=\"String\">String</th><th title=\"Tuple{Float64, Float64}\">Tuple…</th><th title=\"Tuple{Float64, Float64}\">Tuple…</th><th title=\"Tuple{Float64, Float64}\">Tuple…</th><th title=\"Tuple{Float64, Float64}\">Tuple…</th></tr></thead><tbody><tr><th>1</th><td>N: 100  ni: 2</td><td>(0.52, 0.0502117)</td><td>(0.64, 0.0482418)</td><td>(0.56, 0.0498888)</td><td>(0.0, 0.0)</td></tr><tr><th>2</th><td>N: 100  ni: 5</td><td>(0.49, 0.0502418)</td><td>(0.78, 0.0416333)</td><td>(0.65, 0.0479372)</td><td>(0.0, 0.0)</td></tr><tr><th>3</th><td>N: 100  ni: 10</td><td>(0.5, 0.0502519)</td><td>(0.93, 0.0256432)</td><td>(0.82, 0.0386123)</td><td>(0.0, 0.0)</td></tr><tr><th>4</th><td>N: 100  ni: 15</td><td>(0.46, 0.0500908)</td><td>(0.88, 0.0326599)</td><td>(0.84, 0.0368453)</td><td>(0.0, 0.0)</td></tr><tr><th>5</th><td>N: 100  ni: 20</td><td>(0.55, 0.05)</td><td>(0.82, 0.0386123)</td><td>(0.82, 0.0386123)</td><td>(0.0, 0.0)</td></tr><tr><th>6</th><td>N: 100  ni: 25</td><td>(0.43, 0.049757)</td><td>(0.9, 0.0301511)</td><td>(0.88, 0.0326599)</td><td>(0.0, 0.0)</td></tr><tr><th>7</th><td>N: 1000  ni: 2</td><td>(0.49, 0.0502418)</td><td>(0.7, 0.0460566)</td><td>(0.63, 0.0485237)</td><td>(0.0, 0.0)</td></tr><tr><th>8</th><td>N: 1000  ni: 5</td><td>(0.43, 0.049757)</td><td>(0.83, 0.0377525)</td><td>(0.85, 0.035887)</td><td>(0.0, 0.0)</td></tr><tr><th>9</th><td>N: 1000  ni: 10</td><td>(0.49, 0.0502418)</td><td>(0.86, 0.0348735)</td><td>(0.85, 0.035887)</td><td>(0.0, 0.0)</td></tr><tr><th>10</th><td>N: 1000  ni: 15</td><td>(0.51, 0.0502418)</td><td>(0.81, 0.0394277)</td><td>(0.83, 0.0377525)</td><td>(0.0, 0.0)</td></tr><tr><th>11</th><td>N: 1000  ni: 20</td><td>(0.49, 0.0502418)</td><td>(0.85, 0.035887)</td><td>(0.85, 0.035887)</td><td>(0.0, 0.0)</td></tr><tr><th>12</th><td>N: 1000  ni: 25</td><td>(0.47, 0.0501614)</td><td>(0.88, 0.0326599)</td><td>(0.89, 0.0314466)</td><td>(0.0, 0.0)</td></tr><tr><th>13</th><td>N: 10000  ni: 2</td><td>(0.52, 0.0502117)</td><td>(0.73, 0.0446196)</td><td>(0.72, 0.0451261)</td><td>(0.0, 0.0)</td></tr><tr><th>14</th><td>N: 10000  ni: 5</td><td>(0.44, 0.0498888)</td><td>(0.75, 0.0435194)</td><td>(0.8, 0.0402015)</td><td>(0.0, 0.0)</td></tr><tr><th>15</th><td>N: 10000  ni: 10</td><td>(0.44, 0.0498888)</td><td>(0.87, 0.0337998)</td><td>(0.88, 0.0326599)</td><td>(0.0, 0.0)</td></tr><tr><th>16</th><td>N: 10000  ni: 15</td><td>(0.51, 0.0502418)</td><td>(0.93, 0.0256432)</td><td>(0.87, 0.0337998)</td><td>(0.0, 0.0)</td></tr><tr><th>17</th><td>N: 10000  ni: 20</td><td>(0.45, 0.05)</td><td>(0.9, 0.0301511)</td><td>(0.93, 0.0256432)</td><td>(0.0, 0.0)</td></tr><tr><th>18</th><td>N: 10000  ni: 25</td><td>(0.53, 0.0501614)</td><td>(0.91, 0.0287623)</td><td>(0.87, 0.0337998)</td><td>(0.0, 0.0)</td></tr></tbody></table></div>"
      ],
      "text/latex": [
       "\\begin{tabular}{r|cccccc}\n",
       "\t& people\\_obs & β1 & β2 & β3 & θ1 & \\\\\n",
       "\t\\hline\n",
       "\t& String & Tuple… & Tuple… & Tuple… & Tuple… & \\\\\n",
       "\t\\hline\n",
       "\t1 & N: 100  ni: 2 & (0.52, 0.0502117) & (0.64, 0.0482418) & (0.56, 0.0498888) & (0.0, 0.0) & $\\dots$ \\\\\n",
       "\t2 & N: 100  ni: 5 & (0.49, 0.0502418) & (0.78, 0.0416333) & (0.65, 0.0479372) & (0.0, 0.0) & $\\dots$ \\\\\n",
       "\t3 & N: 100  ni: 10 & (0.5, 0.0502519) & (0.93, 0.0256432) & (0.82, 0.0386123) & (0.0, 0.0) & $\\dots$ \\\\\n",
       "\t4 & N: 100  ni: 15 & (0.46, 0.0500908) & (0.88, 0.0326599) & (0.84, 0.0368453) & (0.0, 0.0) & $\\dots$ \\\\\n",
       "\t5 & N: 100  ni: 20 & (0.55, 0.05) & (0.82, 0.0386123) & (0.82, 0.0386123) & (0.0, 0.0) & $\\dots$ \\\\\n",
       "\t6 & N: 100  ni: 25 & (0.43, 0.049757) & (0.9, 0.0301511) & (0.88, 0.0326599) & (0.0, 0.0) & $\\dots$ \\\\\n",
       "\t7 & N: 1000  ni: 2 & (0.49, 0.0502418) & (0.7, 0.0460566) & (0.63, 0.0485237) & (0.0, 0.0) & $\\dots$ \\\\\n",
       "\t8 & N: 1000  ni: 5 & (0.43, 0.049757) & (0.83, 0.0377525) & (0.85, 0.035887) & (0.0, 0.0) & $\\dots$ \\\\\n",
       "\t9 & N: 1000  ni: 10 & (0.49, 0.0502418) & (0.86, 0.0348735) & (0.85, 0.035887) & (0.0, 0.0) & $\\dots$ \\\\\n",
       "\t10 & N: 1000  ni: 15 & (0.51, 0.0502418) & (0.81, 0.0394277) & (0.83, 0.0377525) & (0.0, 0.0) & $\\dots$ \\\\\n",
       "\t11 & N: 1000  ni: 20 & (0.49, 0.0502418) & (0.85, 0.035887) & (0.85, 0.035887) & (0.0, 0.0) & $\\dots$ \\\\\n",
       "\t12 & N: 1000  ni: 25 & (0.47, 0.0501614) & (0.88, 0.0326599) & (0.89, 0.0314466) & (0.0, 0.0) & $\\dots$ \\\\\n",
       "\t13 & N: 10000  ni: 2 & (0.52, 0.0502117) & (0.73, 0.0446196) & (0.72, 0.0451261) & (0.0, 0.0) & $\\dots$ \\\\\n",
       "\t14 & N: 10000  ni: 5 & (0.44, 0.0498888) & (0.75, 0.0435194) & (0.8, 0.0402015) & (0.0, 0.0) & $\\dots$ \\\\\n",
       "\t15 & N: 10000  ni: 10 & (0.44, 0.0498888) & (0.87, 0.0337998) & (0.88, 0.0326599) & (0.0, 0.0) & $\\dots$ \\\\\n",
       "\t16 & N: 10000  ni: 15 & (0.51, 0.0502418) & (0.93, 0.0256432) & (0.87, 0.0337998) & (0.0, 0.0) & $\\dots$ \\\\\n",
       "\t17 & N: 10000  ni: 20 & (0.45, 0.05) & (0.9, 0.0301511) & (0.93, 0.0256432) & (0.0, 0.0) & $\\dots$ \\\\\n",
       "\t18 & N: 10000  ni: 25 & (0.53, 0.0501614) & (0.91, 0.0287623) & (0.87, 0.0337998) & (0.0, 0.0) & $\\dots$ \\\\\n",
       "\\end{tabular}\n"
      ],
      "text/plain": [
       "\u001b[1m18×6 DataFrame\u001b[0m\n",
       "\u001b[1m Row \u001b[0m│\u001b[1m people_obs       \u001b[0m\u001b[1m β1                \u001b[0m\u001b[1m β2                \u001b[0m\u001b[1m β3             \u001b[0m ⋯\n",
       "\u001b[1m     \u001b[0m│\u001b[90m String           \u001b[0m\u001b[90m Tuple…            \u001b[0m\u001b[90m Tuple…            \u001b[0m\u001b[90m Tuple…         \u001b[0m ⋯\n",
       "─────┼──────────────────────────────────────────────────────────────────────────\n",
       "   1 │ N: 100  ni: 2     (0.52, 0.0502117)  (0.64, 0.0482418)  (0.56, 0.049888 ⋯\n",
       "   2 │ N: 100  ni: 5     (0.49, 0.0502418)  (0.78, 0.0416333)  (0.65, 0.047937\n",
       "   3 │ N: 100  ni: 10    (0.5, 0.0502519)   (0.93, 0.0256432)  (0.82, 0.038612\n",
       "   4 │ N: 100  ni: 15    (0.46, 0.0500908)  (0.88, 0.0326599)  (0.84, 0.036845\n",
       "   5 │ N: 100  ni: 20    (0.55, 0.05)       (0.82, 0.0386123)  (0.82, 0.038612 ⋯\n",
       "   6 │ N: 100  ni: 25    (0.43, 0.049757)   (0.9, 0.0301511)   (0.88, 0.032659\n",
       "   7 │ N: 1000  ni: 2    (0.49, 0.0502418)  (0.7, 0.0460566)   (0.63, 0.048523\n",
       "   8 │ N: 1000  ni: 5    (0.43, 0.049757)   (0.83, 0.0377525)  (0.85, 0.035887\n",
       "   9 │ N: 1000  ni: 10   (0.49, 0.0502418)  (0.86, 0.0348735)  (0.85, 0.035887 ⋯\n",
       "  10 │ N: 1000  ni: 15   (0.51, 0.0502418)  (0.81, 0.0394277)  (0.83, 0.037752\n",
       "  11 │ N: 1000  ni: 20   (0.49, 0.0502418)  (0.85, 0.035887)   (0.85, 0.035887\n",
       "  12 │ N: 1000  ni: 25   (0.47, 0.0501614)  (0.88, 0.0326599)  (0.89, 0.031446\n",
       "  13 │ N: 10000  ni: 2   (0.52, 0.0502117)  (0.73, 0.0446196)  (0.72, 0.045126 ⋯\n",
       "  14 │ N: 10000  ni: 5   (0.44, 0.0498888)  (0.75, 0.0435194)  (0.8, 0.0402015\n",
       "  15 │ N: 10000  ni: 10  (0.44, 0.0498888)  (0.87, 0.0337998)  (0.88, 0.032659\n",
       "  16 │ N: 10000  ni: 15  (0.51, 0.0502418)  (0.93, 0.0256432)  (0.87, 0.033799\n",
       "  17 │ N: 10000  ni: 20  (0.45, 0.05)       (0.9, 0.0301511)   (0.93, 0.025643 ⋯\n",
       "  18 │ N: 10000  ni: 25  (0.53, 0.0501614)  (0.91, 0.0287623)  (0.87, 0.033799\n",
       "\u001b[36m                                                               3 columns omitted\u001b[0m"
      ]
     },
     "execution_count": 19,
     "metadata": {},
     "output_type": "execute_result"
    }
   ],
   "source": [
    "######  supplementary table s1\n",
    "using Random, DataFrames, DelimitedFiles, Statistics\n",
    "import StatsBase: sem\n",
    "\n",
    "βθτcoverage = readdlm(\"beta_theta_tau_coverage_normal$(nsims)reps_sim.csv\", ',')\n",
    "\n",
    "m  = 1\n",
    "\n",
    "covdf = DataFrame(Matrix(transpose(βθτcoverage)), :auto)[!, 1:5]\n",
    "rename!(covdf, Symbol.([[\"β$i\" for i in 1:p]; [\"θ$i\" for i in 1:m]; [\"τ\"]]))\n",
    "covdf[!, :samplesize] = sample_sizes\n",
    "covdf[!, :obssize] = obs_sizes\n",
    "first(covdf, 10)\n",
    "\n",
    "row_stats = [[(mean(col), sem(col)) for col = eachcol(d[!, 1:end-2])] for d = groupby(covdf, [:samplesize; :obssize])]\n",
    "df = DataFrame(row_stats, :auto)\n",
    "ss_obs = unique(\"N: \" .* sample_sizes .* \"  ni: \" .* obs_sizes)\n",
    "rename!(df, Symbol.(ss_obs))\n",
    "covdfdisplay = DataFrame([[names(df)]; collect.(eachrow(df))], \n",
    "    [:people_obs; Symbol.([[\"β$i\" for i in 1:p]; [\"θ$i\" for i in 1:m]; \"τ\"])])\n",
    "# deletecols!(covdfdisplay, p + 2)\n",
    "covdfdisplay\n"
   ]
  },
  {
   "cell_type": "code",
   "execution_count": 20,
   "metadata": {},
   "outputs": [
    {
     "data": {
      "text/html": [
       "<div class=\"data-frame\"><p>10,787 rows × 5 columns</p><table class=\"data-frame\"><thead><tr><th></th><th>mse</th><th>obssize</th><th>samplesize</th><th>parameters</th><th>robust</th></tr><tr><th></th><th title=\"Float64\">Float64</th><th title=\"String\">String</th><th title=\"String\">String</th><th title=\"String\">String</th><th title=\"String\">String</th></tr></thead><tbody><tr><th>1</th><td>0.000312907</td><td>2</td><td>100</td><td>beta</td><td>Gaussian QC</td></tr><tr><th>2</th><td>0.000509746</td><td>2</td><td>100</td><td>beta</td><td>Gaussian QC</td></tr><tr><th>3</th><td>2.27896e-5</td><td>2</td><td>100</td><td>beta</td><td>Gaussian QC</td></tr><tr><th>4</th><td>0.000465848</td><td>2</td><td>100</td><td>beta</td><td>Gaussian QC</td></tr><tr><th>5</th><td>7.77977e-5</td><td>2</td><td>100</td><td>beta</td><td>Gaussian QC</td></tr><tr><th>6</th><td>0.000269171</td><td>2</td><td>100</td><td>beta</td><td>Gaussian QC</td></tr><tr><th>7</th><td>0.000168307</td><td>2</td><td>100</td><td>beta</td><td>Gaussian QC</td></tr><tr><th>8</th><td>0.000326731</td><td>2</td><td>100</td><td>beta</td><td>Gaussian QC</td></tr><tr><th>9</th><td>4.08434e-5</td><td>2</td><td>100</td><td>beta</td><td>Gaussian QC</td></tr><tr><th>10</th><td>0.000299836</td><td>2</td><td>100</td><td>beta</td><td>Gaussian QC</td></tr><tr><th>11</th><td>0.000196951</td><td>2</td><td>100</td><td>beta</td><td>Gaussian QC</td></tr><tr><th>12</th><td>0.000120538</td><td>2</td><td>100</td><td>beta</td><td>Gaussian QC</td></tr><tr><th>13</th><td>0.000711331</td><td>2</td><td>100</td><td>beta</td><td>Gaussian QC</td></tr><tr><th>14</th><td>7.05083e-5</td><td>2</td><td>100</td><td>beta</td><td>Gaussian QC</td></tr><tr><th>15</th><td>0.000137444</td><td>2</td><td>100</td><td>beta</td><td>Gaussian QC</td></tr><tr><th>16</th><td>7.6552e-5</td><td>2</td><td>100</td><td>beta</td><td>Gaussian QC</td></tr><tr><th>17</th><td>0.000450357</td><td>2</td><td>100</td><td>beta</td><td>Gaussian QC</td></tr><tr><th>18</th><td>0.000772928</td><td>2</td><td>100</td><td>beta</td><td>Gaussian QC</td></tr><tr><th>19</th><td>9.49361e-5</td><td>2</td><td>100</td><td>beta</td><td>Gaussian QC</td></tr><tr><th>20</th><td>0.000411346</td><td>2</td><td>100</td><td>beta</td><td>Gaussian QC</td></tr><tr><th>21</th><td>0.000134107</td><td>2</td><td>100</td><td>beta</td><td>Gaussian QC</td></tr><tr><th>22</th><td>0.000501374</td><td>2</td><td>100</td><td>beta</td><td>Gaussian QC</td></tr><tr><th>23</th><td>0.000212198</td><td>2</td><td>100</td><td>beta</td><td>Gaussian QC</td></tr><tr><th>24</th><td>0.00161686</td><td>2</td><td>100</td><td>beta</td><td>Gaussian QC</td></tr><tr><th>25</th><td>0.000596481</td><td>2</td><td>100</td><td>beta</td><td>Gaussian QC</td></tr><tr><th>26</th><td>0.000480621</td><td>2</td><td>100</td><td>beta</td><td>Gaussian QC</td></tr><tr><th>27</th><td>0.000180693</td><td>2</td><td>100</td><td>beta</td><td>Gaussian QC</td></tr><tr><th>28</th><td>6.74034e-5</td><td>2</td><td>100</td><td>beta</td><td>Gaussian QC</td></tr><tr><th>29</th><td>0.00102328</td><td>2</td><td>100</td><td>beta</td><td>Gaussian QC</td></tr><tr><th>30</th><td>0.000359983</td><td>2</td><td>100</td><td>beta</td><td>Gaussian QC</td></tr><tr><th>&vellip;</th><td>&vellip;</td><td>&vellip;</td><td>&vellip;</td><td>&vellip;</td><td>&vellip;</td></tr></tbody></table></div>"
      ],
      "text/latex": [
       "\\begin{tabular}{r|ccccc}\n",
       "\t& mse & obssize & samplesize & parameters & robust\\\\\n",
       "\t\\hline\n",
       "\t& Float64 & String & String & String & String\\\\\n",
       "\t\\hline\n",
       "\t1 & 0.000312907 & 2 & 100 & beta & Gaussian QC \\\\\n",
       "\t2 & 0.000509746 & 2 & 100 & beta & Gaussian QC \\\\\n",
       "\t3 & 2.27896e-5 & 2 & 100 & beta & Gaussian QC \\\\\n",
       "\t4 & 0.000465848 & 2 & 100 & beta & Gaussian QC \\\\\n",
       "\t5 & 7.77977e-5 & 2 & 100 & beta & Gaussian QC \\\\\n",
       "\t6 & 0.000269171 & 2 & 100 & beta & Gaussian QC \\\\\n",
       "\t7 & 0.000168307 & 2 & 100 & beta & Gaussian QC \\\\\n",
       "\t8 & 0.000326731 & 2 & 100 & beta & Gaussian QC \\\\\n",
       "\t9 & 4.08434e-5 & 2 & 100 & beta & Gaussian QC \\\\\n",
       "\t10 & 0.000299836 & 2 & 100 & beta & Gaussian QC \\\\\n",
       "\t11 & 0.000196951 & 2 & 100 & beta & Gaussian QC \\\\\n",
       "\t12 & 0.000120538 & 2 & 100 & beta & Gaussian QC \\\\\n",
       "\t13 & 0.000711331 & 2 & 100 & beta & Gaussian QC \\\\\n",
       "\t14 & 7.05083e-5 & 2 & 100 & beta & Gaussian QC \\\\\n",
       "\t15 & 0.000137444 & 2 & 100 & beta & Gaussian QC \\\\\n",
       "\t16 & 7.6552e-5 & 2 & 100 & beta & Gaussian QC \\\\\n",
       "\t17 & 0.000450357 & 2 & 100 & beta & Gaussian QC \\\\\n",
       "\t18 & 0.000772928 & 2 & 100 & beta & Gaussian QC \\\\\n",
       "\t19 & 9.49361e-5 & 2 & 100 & beta & Gaussian QC \\\\\n",
       "\t20 & 0.000411346 & 2 & 100 & beta & Gaussian QC \\\\\n",
       "\t21 & 0.000134107 & 2 & 100 & beta & Gaussian QC \\\\\n",
       "\t22 & 0.000501374 & 2 & 100 & beta & Gaussian QC \\\\\n",
       "\t23 & 0.000212198 & 2 & 100 & beta & Gaussian QC \\\\\n",
       "\t24 & 0.00161686 & 2 & 100 & beta & Gaussian QC \\\\\n",
       "\t25 & 0.000596481 & 2 & 100 & beta & Gaussian QC \\\\\n",
       "\t26 & 0.000480621 & 2 & 100 & beta & Gaussian QC \\\\\n",
       "\t27 & 0.000180693 & 2 & 100 & beta & Gaussian QC \\\\\n",
       "\t28 & 6.74034e-5 & 2 & 100 & beta & Gaussian QC \\\\\n",
       "\t29 & 0.00102328 & 2 & 100 & beta & Gaussian QC \\\\\n",
       "\t30 & 0.000359983 & 2 & 100 & beta & Gaussian QC \\\\\n",
       "\t$\\dots$ & $\\dots$ & $\\dots$ & $\\dots$ & $\\dots$ & $\\dots$ \\\\\n",
       "\\end{tabular}\n"
      ],
      "text/plain": [
       "\u001b[1m10787×5 DataFrame\u001b[0m\n",
       "\u001b[1m   Row \u001b[0m│\u001b[1m mse         \u001b[0m\u001b[1m obssize \u001b[0m\u001b[1m samplesize \u001b[0m\u001b[1m parameters \u001b[0m\u001b[1m robust       \u001b[0m\n",
       "\u001b[1m       \u001b[0m│\u001b[90m Float64     \u001b[0m\u001b[90m String  \u001b[0m\u001b[90m String     \u001b[0m\u001b[90m String     \u001b[0m\u001b[90m String       \u001b[0m\n",
       "───────┼────────────────────────────────────────────────────────────\n",
       "     1 │ 0.000312907  2        100         beta        Gaussian QC\n",
       "     2 │ 0.000509746  2        100         beta        Gaussian QC\n",
       "     3 │ 2.27896e-5   2        100         beta        Gaussian QC\n",
       "     4 │ 0.000465848  2        100         beta        Gaussian QC\n",
       "     5 │ 7.77977e-5   2        100         beta        Gaussian QC\n",
       "     6 │ 0.000269171  2        100         beta        Gaussian QC\n",
       "     7 │ 0.000168307  2        100         beta        Gaussian QC\n",
       "     8 │ 0.000326731  2        100         beta        Gaussian QC\n",
       "     9 │ 4.08434e-5   2        100         beta        Gaussian QC\n",
       "    10 │ 0.000299836  2        100         beta        Gaussian QC\n",
       "    11 │ 0.000196951  2        100         beta        Gaussian QC\n",
       "   ⋮   │      ⋮          ⋮         ⋮           ⋮            ⋮\n",
       " 10778 │ 1.31092e-9   25       10000       tau         Gaussian LMM\n",
       " 10779 │ 1.42677e-11  25       10000       tau         Gaussian LMM\n",
       " 10780 │ 1.97923e-10  25       10000       tau         Gaussian LMM\n",
       " 10781 │ 3.84376e-9   25       10000       tau         Gaussian LMM\n",
       " 10782 │ 9.66384e-10  25       10000       tau         Gaussian LMM\n",
       " 10783 │ 1.64736e-9   25       10000       tau         Gaussian LMM\n",
       " 10784 │ 4.77493e-10  25       10000       tau         Gaussian LMM\n",
       " 10785 │ 7.69313e-10  25       10000       tau         Gaussian LMM\n",
       " 10786 │ 4.49845e-11  25       10000       tau         Gaussian LMM\n",
       " 10787 │ 2.27241e-10  25       10000       tau         Gaussian LMM\n",
       "\u001b[36m                                                  10766 rows omitted\u001b[0m"
      ]
     },
     "execution_count": 20,
     "metadata": {},
     "output_type": "execute_result"
    }
   ],
   "source": [
    "#### \n",
    "#import data and reorganize to create figure\n",
    "using Random, DataFrames, DelimitedFiles, Statistics, RCall, Printf\n",
    "import StatsBase: sem\n",
    "\n",
    "βMseresult = vec(readdlm(\"mse_beta_multivariate_normal$(nsims)reps_sim.csv\", ','))\n",
    "θMseresult = vec(readdlm(\"mse_theta_multivariate_normal$(nsims)reps_sim.csv\", ','))\n",
    "τMseresult = vec(readdlm(\"mse_tau_multivariate_normal$(nsims)reps_sim.csv\", ','))\n",
    "\n",
    "βMseresult_GLMM = vec(readdlm(\"mse_beta_GLMM_normal$(nsims)reps_sim.csv\", ','))\n",
    "θMseresult_GLMM = vec(readdlm(\"mse_theta_GLMM_normal$(nsims)reps_sim.csv\", ','))\n",
    "τMseresult_GLMM = vec(readdlm(\"mse_tau_GLMM_normal$(nsims)reps_sim.csv\", ','))\n",
    "\n",
    "p = 3; m = 1\n",
    "sample_sizes = repeat(string.(samplesizes), inner = nsims * length(ns))\n",
    "obs_sizes = repeat(string.(ns), inner = nsims, outer = length(samplesizes))\n",
    "msedf1 = DataFrame(βmse = βMseresult, thetamse = θMseresult, τmse = τMseresult,\n",
    "    samplesize = sample_sizes, obssize = obs_sizes)\n",
    "\n",
    "msedf2 = DataFrame(βmse = βMseresult_GLMM, thetamse = θMseresult_GLMM, τmse = τMseresult_GLMM,\n",
    "    samplesize = sample_sizes, obssize = obs_sizes)\n",
    "\n",
    "#rename to make parsing easier for R.\n",
    "\n",
    "msedf1 = deepcopy(msedf1)\n",
    "rename!(msedf1, [\"betamse\"\n",
    "    \"thetamse\"\n",
    "        \"taumse\"\n",
    "    \"samplesize\"\n",
    " \"obssize\"]);\n",
    "\n",
    "msedf2 = deepcopy(msedf2)\n",
    "rename!(msedf2, [\"betamse\"\n",
    "    \"thetamse\"\n",
    "        \"taumse\"\n",
    "    \"samplesize\"\n",
    " \"obssize\"]);\n",
    "\n",
    "mses = [msedf1[!, :betamse]; msedf1[!, :thetamse]; msedf1[!, :taumse]; msedf2[!, :betamse]; msedf2[!, :thetamse]; msedf2[!, :taumse]]\n",
    "    # msedfnormR[!, :betamse]; msedfnormR[!, :taumse]; msedfnormR[!, :Sigmamse]]\n",
    "obssize = [collect([repeat(msedf1[!, :obssize], 3)]...) ; collect([repeat(msedf2[!, :obssize], 3)]...)]\n",
    "#40\n",
    "samplesize = [collect([repeat(msedf1[!, :samplesize], 3)]...) ; collect([repeat(msedf2[!, :samplesize], 3)]...)]\n",
    "\n",
    "parameters = [collect([repeat(string.([:beta, :theta, :tau]), inner = nsims * length(ns) * length(samplesizes))]...) ; collect([repeat(string.([:beta, :theta, :tau]), inner = nsims * length(ns) * length(samplesizes))]...)]\n",
    "robust = [collect([repeat([\"Gaussian QC\"], 3 * nsims * length(ns) * length(samplesizes))]...); collect([repeat([\"Gaussian LMM\"],  3 * nsims * length(ns) * length(samplesizes))]...)]\n",
    "\n",
    "msedfR = DataFrame(mse = mses, obssize = obssize, samplesize = samplesize,\n",
    "    parameters = parameters, robust = robust)\n",
    "\n",
    "#5 of the 30,000 simulations did not converge, filter out\n",
    "msedfR = filter(x -> !isnan(x.mse), msedfR)\n",
    "# additionally, there are 5 where an error was not caught so it did not try a differnt solver\n",
    "msedfR = filter(x -> x.mse < 40000, msedfR)"
   ]
  },
  {
   "cell_type": "code",
   "execution_count": 21,
   "metadata": {},
   "outputs": [
    {
     "data": {
      "image/png": "[encoded data removed]"
     },
     "metadata": {},
     "output_type": "display_data"
    },
    {
     "data": {
      "text/plain": [
       "RObject{VecSxp}\n"
      ]
     },
     "execution_count": 21,
     "metadata": {},
     "output_type": "execute_result"
    }
   ],
   "source": [
    "### working on figure next\n",
    "@rput msedfR\n",
    "\n",
    "R\"\"\"\n",
    "library(scales)\n",
    "library(ggplot2)\n",
    "library(data.table)\n",
    "\n",
    "msedfR = data.table(msedfR)\n",
    "\n",
    "msedfR[parameters == \"beta\",y_min := 10^-8]\n",
    "msedfR[parameters == \"beta\",y_max := 10^-2]\n",
    "msedfR[parameters == \"theta\",y_min := 10^-5]\n",
    "msedfR[parameters == \"theta\",y_max := 10^1]\n",
    "msedfR[parameters == \"tau\",y_min := 10^-4]\n",
    "msedfR[parameters == \"tau\",y_max := 10^-2]\n",
    "\n",
    "#msedfR[parameters == \"beta\",y_min := 10^-8]\n",
    "#msedfR[parameters == \"beta\",y_max := 10^-2]\n",
    "#msedfR[parameters == \"tau\",y_min := 10^-8]\n",
    "#msedfR[parameters == \"tau\",y_max := 10^-2]\n",
    "#msedfR[parameters == \"Sigma\",y_min := 10^-5]\n",
    "#msedfR[parameters == \"Sigma\",y_max := 10^-2]\n",
    "\n",
    "\n",
    "msedfR$obssize = factor(msedfR$obssize, levels = c('2', '5', '10', '15', '20', '25'))\n",
    "msedfR$samplesize = factor(msedfR$samplesize, levels = c('100', '1000', '10000'))\n",
    "msedfR$parameters = factor(msedfR$parameters, levels = c('beta', 'theta', 'tau'), labels = c(beta = expression(hat(bold(beta))), theta = expression(hat(bold(theta))[]), tau = expression(hat(bold(tau)))))\n",
    "msedfR$robust <- factor(msedfR$robust, levels = c('Gaussian QC', 'Gaussian LMM'),\n",
    "    labels = c(expression(paste(\"Gaussian QC\")), expression(paste(\"Gaussian LMM\"))))\n",
    "\n",
    "\n",
    "#mseplot <- ggplot(msedfR[msedfR$mse < 10^0, ], aes(x=samplesize, y=mse, fill=obssize)) + \n",
    "mseplot = ggplot(msedfR[msedfR$mse < 10^3, ], aes(x=samplesize, y=mse, fill=obssize)) + \n",
    "  #geom_boxplot(outlier.size = 0.0, outlier.alpha = 0) +\n",
    "  geom_boxplot(outlier.size = 0.25) +\n",
    "#    geom_violin() +\n",
    "    facet_grid(parameters ~ robust, labeller = label_parsed, scales = \"free_y\") +\n",
    "  theme(legend.position=\"right\", legend.key = element_blank(), axis.text.x = element_text(angle=0, size=30),\n",
    "        axis.text.y = element_text(angle=0, size=30), axis.title.x = element_text(size = 30, face=\"bold\"), \n",
    "        axis.title.y = element_text(size = 40, face=\"bold\"), legend.title = element_text(size = 30, face=\"bold\"),\n",
    "        panel.grid.major = element_blank(), panel.grid.minor = element_blank(),\n",
    "        legend.text=element_text(size=30), panel.background = element_rect(fill = NA, color = \"black\"),\n",
    "        #panel.background = element_blank(), #panel.border = element_blank(),\n",
    "        axis.line = element_line(color = 'black',size=0.3), plot.title = element_text(hjust = 0.5),\n",
    "        strip.background = element_rect(colour=\"black\", fill=\"white\"), strip.text.y = element_text(angle = 0, size=75, face=\"bold\"),\n",
    "        strip.text.x = element_text(size=25)) + \n",
    "  scale_fill_manual(values = c(\"#c85f55\",\n",
    "\"#a964bf\",\n",
    "\"#8db352\",\n",
    "\"#fa7300\",\n",
    "\"#05aec0\",\n",
    "\"#ff1493\")) +\n",
    "#scale_y_log10(breaks = scales::trans_breaks(\"log10\", function(x) 10^x)) +\n",
    "#scale_y_log10(breaks = 10^(-8:8), limit=c(10^-8, 10^2)) + \n",
    "scale_y_log10(breaks = 10^seq(-10, 10, 2), labels=trans_format(\"log10\", math_format(10^.x))) + #, limit=c(10^-8, 10^2)) +\n",
    "  labs(x = \"Sample Size\", y = \"MSE of Parameter Estimates\", fill = \"Cluster Size\") +\n",
    "geom_blank(aes(y = y_max)) + \n",
    "geom_blank(aes(y = y_min)) \n",
    "\"\"\""
   ]
  },
  {
   "cell_type": "code",
   "execution_count": 22,
   "metadata": {},
   "outputs": [
    {
     "data": {
      "text/plain": [
       "RObject{StrSxp}\n",
       "[1] \"updated_msefacetplot_normal_sim2_2.png\"\n"
      ]
     },
     "execution_count": 22,
     "metadata": {},
     "output_type": "execute_result"
    }
   ],
   "source": [
    "R\"\"\"\n",
    "    ggsave('updated_msefacetplot_normal_sim2_2.png', mseplot, width = 20, height = 15, units = 'in', dpi = 450)\n",
    "\"\"\""
   ]
  }
 ],
 "metadata": {
  "@webio": {
   "lastCommId": null,
   "lastKernelId": null
  },
  "kernelspec": {
   "display_name": "Julia 1.6.2",
   "language": "julia",
   "name": "julia-1.6"
  },
  "language_info": {
   "file_extension": ".jl",
   "mimetype": "application/julia",
   "name": "julia",
   "version": "1.6.2"
  }
 },
 "nbformat": 4,
 "nbformat_minor": 2
}
