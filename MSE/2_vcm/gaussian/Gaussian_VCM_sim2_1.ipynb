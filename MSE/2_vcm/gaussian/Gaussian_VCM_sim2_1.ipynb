{
 "cells": [
  {
   "cell_type": "markdown",
   "metadata": {},
   "source": [
    "## Normal VCM Results \n",
    "\n",
    "This notebook goes over the code needed to reproduce the results from the MSE and time figures for the Gaussian base distribution with Identity Link and covariance matrix $\\Gamma$ structured under variance component model framework as follows:\n",
    "\n",
    "$$\n",
    "\\Gamma = 0.01 * \\mathbf{1_{n} 1_{n}^\\top} +  0.01 * \\mathbf{I_{n}}\n",
    "$$\n",
    "\n",
    "In this example simulate three fixed effects under the Linear Mixed model with $\\beta \\sim$ rand(Uniform(-2, 2), p) where p = 3 fixed effects.\n",
    "\n",
    "We use multi-threading on 8 threads to obtain these MSE results on the following machine, and include MSE results from 100 simulation runs comparing the fit of ours with that of LMM's random intercept model from MixedModels.jl for each scenario."
   ]
  },
  {
   "cell_type": "code",
   "execution_count": 1,
   "metadata": {},
   "outputs": [
    {
     "name": "stdout",
     "output_type": "stream",
     "text": [
      "Julia Version 1.6.2\n",
      "Commit 1b93d53fc4 (2021-07-14 15:36 UTC)\n",
      "Platform Info:\n",
      "  OS: macOS (x86_64-apple-darwin18.7.0)\n",
      "  CPU: Intel(R) Core(TM) i9-9880H CPU @ 2.30GHz\n",
      "  WORD_SIZE: 64\n",
      "  LIBM: libopenlibm\n",
      "  LLVM: libLLVM-11.0.1 (ORCJIT, skylake)\n"
     ]
    }
   ],
   "source": [
    "versioninfo()"
   ]
  },
  {
   "cell_type": "code",
   "execution_count": 2,
   "metadata": {},
   "outputs": [],
   "source": [
    "using QuasiCopula, DelimitedFiles, LinearAlgebra, Random\n",
    "using DataFrames"
   ]
  },
  {
   "cell_type": "code",
   "execution_count": 3,
   "metadata": {},
   "outputs": [],
   "source": [
    "p = 3    # number of fixed effects, including intercept\n",
    "m = 1    # number of variance components\n",
    "# true parameter values\n",
    "Random.seed!(12345)\n",
    "βtrue = rand(Uniform(-2, 2), p)\n",
    "θtrue = [0.01]\n",
    "τtrue = [100]\n",
    "\n",
    "# generate data\n",
    "intervals = zeros(p + m, 2) #hold intervals\n",
    "curcoverage = zeros(p + m) #hold current coverage resutls\n",
    "trueparams = [βtrue; θtrue; τtrue] #hold true parameters\n",
    "\n",
    "#simulation parameters\n",
    "samplesizes = [100; 1000; 10000]\n",
    "ns = [2; 5; 10; 15; 20; 25]\n",
    "nsims = 100;"
   ]
  },
  {
   "cell_type": "code",
   "execution_count": 4,
   "metadata": {},
   "outputs": [
    {
     "name": "stderr",
     "output_type": "stream",
     "text": [
      "┌ Info: reading in the files with results\n",
      "└ @ Main In[4]:1\n"
     ]
    },
    {
     "data": {
      "text/plain": [
       "1800-element Vector{Float64}:\n",
       " 0.119613069\n",
       " 0.107194932\n",
       " 0.115444392\n",
       " 0.107939082\n",
       " 0.08866109\n",
       " 0.155827816\n",
       " 0.104660498\n",
       " 0.108342603\n",
       " 0.092806436\n",
       " 0.11455034\n",
       " 0.15677359\n",
       " 0.094732158\n",
       " 0.106511646\n",
       " ⋮\n",
       " 0.231510931\n",
       " 0.265074033\n",
       " 0.262262471\n",
       " 0.28637175\n",
       " 0.19384673\n",
       " 0.240181722\n",
       " 0.240177831\n",
       " 0.311083316\n",
       " 0.278254273\n",
       " 0.265706229\n",
       " 0.263147262\n",
       " 0.23555291"
      ]
     },
     "execution_count": 4,
     "metadata": {},
     "output_type": "execute_result"
    }
   ],
   "source": [
    "@info \"reading in the files with results\"\n",
    "βMseresult = vec(readdlm(\"mse_beta_multivariate_normal$(nsims)reps_sim.csv\", ','))\n",
    "θMseresult = vec(readdlm(\"mse_theta_multivariate_normal$(nsims)reps_sim.csv\", ','))\n",
    "fittimes_QC = vec(readdlm(\"fittimes_multivariate_normal$(nsims)reps_sim.csv\", ','))"
   ]
  },
  {
   "cell_type": "code",
   "execution_count": 5,
   "metadata": {},
   "outputs": [
    {
     "data": {
      "text/plain": [
       "1800-element Vector{Float64}:\n",
       " 0.289986994\n",
       " 0.001088045\n",
       " 0.000498835\n",
       " 0.000465988\n",
       " 0.000479358\n",
       " 0.000528394\n",
       " 0.000508339\n",
       " 0.000505467\n",
       " 0.000497463\n",
       " 0.00051193\n",
       " 0.000448464\n",
       " 0.000482336\n",
       " 0.000477543\n",
       " ⋮\n",
       " 0.135459955\n",
       " 0.078978604\n",
       " 0.078211867\n",
       " 0.077442313\n",
       " 0.078191111\n",
       " 0.135607565\n",
       " 0.133517678\n",
       " 0.08024175\n",
       " 0.079221184\n",
       " 0.079014856\n",
       " 0.078948832\n",
       " 0.130720707"
      ]
     },
     "execution_count": 5,
     "metadata": {},
     "output_type": "execute_result"
    }
   ],
   "source": [
    "fittimes_GLMM = vec(readdlm(\"fittimes_GLMM_normal$(nsims)reps_sim.csv\", ','))"
   ]
  },
  {
   "cell_type": "code",
   "execution_count": 6,
   "metadata": {},
   "outputs": [
    {
     "name": "stderr",
     "output_type": "stream",
     "text": [
      "┌ Info: making results table Quasi-Copula\n",
      "└ @ Main In[6]:2\n"
     ]
    },
    {
     "data": {
      "text/html": [
       "<div class=\"data-frame\"><p>18 rows × 8 columns</p><table class=\"data-frame\"><thead><tr><th></th><th>samplesize</th><th>obssize</th><th>fittime</th><th>se</th><th>nobs</th><th>fitmin</th><th>fitmax</th><th>perobsratio</th></tr><tr><th></th><th title=\"String\">String</th><th title=\"String\">String</th><th title=\"Float64\">Float64</th><th title=\"Float64\">Float64</th><th title=\"Int64\">Int64</th><th title=\"Float64\">Float64</th><th title=\"Float64\">Float64</th><th title=\"Float64\">Float64</th></tr></thead><tbody><tr><th>1</th><td>100</td><td>2</td><td>0.111729</td><td>0.00181293</td><td>200</td><td>0.109917</td><td>0.115355</td><td>0.000558647</td></tr><tr><th>2</th><td>100</td><td>5</td><td>0.105994</td><td>0.00263564</td><td>500</td><td>0.103359</td><td>0.111266</td><td>0.000211989</td></tr><tr><th>3</th><td>100</td><td>10</td><td>0.0966886</td><td>0.00171503</td><td>1000</td><td>0.0949736</td><td>0.100119</td><td>9.66886e-5</td></tr><tr><th>4</th><td>100</td><td>15</td><td>0.0994448</td><td>0.0037735</td><td>1500</td><td>0.0956713</td><td>0.106992</td><td>6.62965e-5</td></tr><tr><th>5</th><td>100</td><td>20</td><td>0.104902</td><td>0.00797655</td><td>2000</td><td>0.0969256</td><td>0.120855</td><td>5.24511e-5</td></tr><tr><th>6</th><td>100</td><td>25</td><td>0.109496</td><td>0.00770253</td><td>2500</td><td>0.101794</td><td>0.124902</td><td>4.37986e-5</td></tr><tr><th>7</th><td>1000</td><td>2</td><td>0.109875</td><td>0.00183282</td><td>2000</td><td>0.108043</td><td>0.113541</td><td>5.49377e-5</td></tr><tr><th>8</th><td>1000</td><td>5</td><td>0.102861</td><td>0.00154845</td><td>5000</td><td>0.101313</td><td>0.105958</td><td>2.05722e-5</td></tr><tr><th>9</th><td>1000</td><td>10</td><td>0.10014</td><td>0.00159811</td><td>10000</td><td>0.098542</td><td>0.103336</td><td>1.0014e-5</td></tr><tr><th>10</th><td>1000</td><td>15</td><td>0.0953705</td><td>0.0013841</td><td>15000</td><td>0.0939864</td><td>0.0981387</td><td>6.35803e-6</td></tr><tr><th>11</th><td>1000</td><td>20</td><td>0.0937942</td><td>0.00162734</td><td>20000</td><td>0.0921669</td><td>0.0970489</td><td>4.68971e-6</td></tr><tr><th>12</th><td>1000</td><td>25</td><td>0.0986609</td><td>0.0018541</td><td>25000</td><td>0.0968068</td><td>0.102369</td><td>3.94644e-6</td></tr><tr><th>13</th><td>10000</td><td>2</td><td>0.199574</td><td>0.00522489</td><td>20000</td><td>0.19435</td><td>0.210024</td><td>9.97872e-6</td></tr><tr><th>14</th><td>10000</td><td>5</td><td>0.191613</td><td>0.00403106</td><td>50000</td><td>0.187582</td><td>0.199675</td><td>3.83225e-6</td></tr><tr><th>15</th><td>10000</td><td>10</td><td>0.215615</td><td>0.00364683</td><td>100000</td><td>0.211968</td><td>0.222908</td><td>2.15615e-6</td></tr><tr><th>16</th><td>10000</td><td>15</td><td>0.218529</td><td>0.00330804</td><td>150000</td><td>0.215221</td><td>0.225146</td><td>1.45686e-6</td></tr><tr><th>17</th><td>10000</td><td>20</td><td>0.238907</td><td>0.00272728</td><td>200000</td><td>0.23618</td><td>0.244361</td><td>1.19453e-6</td></tr><tr><th>18</th><td>10000</td><td>25</td><td>0.258029</td><td>0.00243356</td><td>250000</td><td>0.255596</td><td>0.262896</td><td>1.03212e-6</td></tr></tbody></table></div>"
      ],
      "text/latex": [
       "\\begin{tabular}{r|cccccccc}\n",
       "\t& samplesize & obssize & fittime & se & nobs & fitmin & fitmax & perobsratio\\\\\n",
       "\t\\hline\n",
       "\t& String & String & Float64 & Float64 & Int64 & Float64 & Float64 & Float64\\\\\n",
       "\t\\hline\n",
       "\t1 & 100 & 2 & 0.111729 & 0.00181293 & 200 & 0.109917 & 0.115355 & 0.000558647 \\\\\n",
       "\t2 & 100 & 5 & 0.105994 & 0.00263564 & 500 & 0.103359 & 0.111266 & 0.000211989 \\\\\n",
       "\t3 & 100 & 10 & 0.0966886 & 0.00171503 & 1000 & 0.0949736 & 0.100119 & 9.66886e-5 \\\\\n",
       "\t4 & 100 & 15 & 0.0994448 & 0.0037735 & 1500 & 0.0956713 & 0.106992 & 6.62965e-5 \\\\\n",
       "\t5 & 100 & 20 & 0.104902 & 0.00797655 & 2000 & 0.0969256 & 0.120855 & 5.24511e-5 \\\\\n",
       "\t6 & 100 & 25 & 0.109496 & 0.00770253 & 2500 & 0.101794 & 0.124902 & 4.37986e-5 \\\\\n",
       "\t7 & 1000 & 2 & 0.109875 & 0.00183282 & 2000 & 0.108043 & 0.113541 & 5.49377e-5 \\\\\n",
       "\t8 & 1000 & 5 & 0.102861 & 0.00154845 & 5000 & 0.101313 & 0.105958 & 2.05722e-5 \\\\\n",
       "\t9 & 1000 & 10 & 0.10014 & 0.00159811 & 10000 & 0.098542 & 0.103336 & 1.0014e-5 \\\\\n",
       "\t10 & 1000 & 15 & 0.0953705 & 0.0013841 & 15000 & 0.0939864 & 0.0981387 & 6.35803e-6 \\\\\n",
       "\t11 & 1000 & 20 & 0.0937942 & 0.00162734 & 20000 & 0.0921669 & 0.0970489 & 4.68971e-6 \\\\\n",
       "\t12 & 1000 & 25 & 0.0986609 & 0.0018541 & 25000 & 0.0968068 & 0.102369 & 3.94644e-6 \\\\\n",
       "\t13 & 10000 & 2 & 0.199574 & 0.00522489 & 20000 & 0.19435 & 0.210024 & 9.97872e-6 \\\\\n",
       "\t14 & 10000 & 5 & 0.191613 & 0.00403106 & 50000 & 0.187582 & 0.199675 & 3.83225e-6 \\\\\n",
       "\t15 & 10000 & 10 & 0.215615 & 0.00364683 & 100000 & 0.211968 & 0.222908 & 2.15615e-6 \\\\\n",
       "\t16 & 10000 & 15 & 0.218529 & 0.00330804 & 150000 & 0.215221 & 0.225146 & 1.45686e-6 \\\\\n",
       "\t17 & 10000 & 20 & 0.238907 & 0.00272728 & 200000 & 0.23618 & 0.244361 & 1.19453e-6 \\\\\n",
       "\t18 & 10000 & 25 & 0.258029 & 0.00243356 & 250000 & 0.255596 & 0.262896 & 1.03212e-6 \\\\\n",
       "\\end{tabular}\n"
      ],
      "text/plain": [
       "\u001b[1m18×8 DataFrame\u001b[0m\n",
       "\u001b[1m Row \u001b[0m│\u001b[1m samplesize \u001b[0m\u001b[1m obssize \u001b[0m\u001b[1m fittime   \u001b[0m\u001b[1m se         \u001b[0m\u001b[1m nobs   \u001b[0m\u001b[1m fitmin    \u001b[0m\u001b[1m fitmax  \u001b[0m ⋯\n",
       "\u001b[1m     \u001b[0m│\u001b[90m String     \u001b[0m\u001b[90m String  \u001b[0m\u001b[90m Float64   \u001b[0m\u001b[90m Float64    \u001b[0m\u001b[90m Int64  \u001b[0m\u001b[90m Float64   \u001b[0m\u001b[90m Float64 \u001b[0m ⋯\n",
       "─────┼──────────────────────────────────────────────────────────────────────────\n",
       "   1 │ 100         2        0.111729   0.00181293     200  0.109917   0.115355 ⋯\n",
       "   2 │ 100         5        0.105994   0.00263564     500  0.103359   0.111266\n",
       "   3 │ 100         10       0.0966886  0.00171503    1000  0.0949736  0.100119\n",
       "   4 │ 100         15       0.0994448  0.0037735     1500  0.0956713  0.106992\n",
       "   5 │ 100         20       0.104902   0.00797655    2000  0.0969256  0.120855 ⋯\n",
       "   6 │ 100         25       0.109496   0.00770253    2500  0.101794   0.124902\n",
       "   7 │ 1000        2        0.109875   0.00183282    2000  0.108043   0.113541\n",
       "   8 │ 1000        5        0.102861   0.00154845    5000  0.101313   0.105958\n",
       "   9 │ 1000        10       0.10014    0.00159811   10000  0.098542   0.103336 ⋯\n",
       "  10 │ 1000        15       0.0953705  0.0013841    15000  0.0939864  0.098138\n",
       "  11 │ 1000        20       0.0937942  0.00162734   20000  0.0921669  0.097048\n",
       "  12 │ 1000        25       0.0986609  0.0018541    25000  0.0968068  0.102369\n",
       "  13 │ 10000       2        0.199574   0.00522489   20000  0.19435    0.210024 ⋯\n",
       "  14 │ 10000       5        0.191613   0.00403106   50000  0.187582   0.199675\n",
       "  15 │ 10000       10       0.215615   0.00364683  100000  0.211968   0.222908\n",
       "  16 │ 10000       15       0.218529   0.00330804  150000  0.215221   0.225146\n",
       "  17 │ 10000       20       0.238907   0.00272728  200000  0.23618    0.244361 ⋯\n",
       "  18 │ 10000       25       0.258029   0.00243356  250000  0.255596   0.262896\n",
       "\u001b[36m                                                               2 columns omitted\u001b[0m"
      ]
     },
     "execution_count": 6,
     "metadata": {},
     "output_type": "execute_result"
    }
   ],
   "source": [
    "#simulation parameters\n",
    "@info \"making results table Quasi-Copula\"\n",
    "sample_sizes = repeat(string.(samplesizes), inner = nsims * length(ns))\n",
    "obs_sizes = repeat(string.(ns), inner = nsims, outer = length(samplesizes))\n",
    "\n",
    "msedf = DataFrame(samplesize = sample_sizes, obssize = obs_sizes, fittimes = fittimes_QC)\n",
    "timedf1 = combine(groupby(msedf, [:samplesize, :obssize]), :fittimes => mean => :fittime,\n",
    "    :fittimes => x -> (std(x)/sqrt(length(x))))\n",
    "rename!(timedf1, Dict(:fittimes_function => \"se\"))\n",
    "timedf1[!, :nobs] = Meta.parse.(timedf1[!, :samplesize]) .* Meta.parse.(timedf1[!, :obssize])\n",
    "timedf1[!, :fitmin] = timedf1[!, :fittime] - timedf1[!, :se]\n",
    "timedf1[!, :fitmax] = timedf1[!, :fittime] + 2 * timedf1[!, :se]\n",
    "timedf1[!, :perobsratio] = timedf1[!, :fittime] ./ timedf1[!, :nobs]\n",
    "timedf1"
   ]
  },
  {
   "cell_type": "code",
   "execution_count": 7,
   "metadata": {},
   "outputs": [
    {
     "name": "stderr",
     "output_type": "stream",
     "text": [
      "┌ Info: making results table GLMM\n",
      "└ @ Main In[7]:2\n"
     ]
    },
    {
     "data": {
      "text/html": [
       "<div class=\"data-frame\"><p>18 rows × 8 columns (omitted printing of 1 columns)</p><table class=\"data-frame\"><thead><tr><th></th><th>samplesize</th><th>obssize</th><th>fittime</th><th>se</th><th>nobs</th><th>fitmin</th><th>fitmax</th></tr><tr><th></th><th title=\"String\">String</th><th title=\"String\">String</th><th title=\"Float64\">Float64</th><th title=\"Float64\">Float64</th><th title=\"Int64\">Int64</th><th title=\"Float64\">Float64</th><th title=\"Float64\">Float64</th></tr></thead><tbody><tr><th>1</th><td>100</td><td>2</td><td>0.00339202</td><td>0.00289491</td><td>200</td><td>0.000497112</td><td>0.00628693</td></tr><tr><th>2</th><td>100</td><td>5</td><td>0.000527665</td><td>6.43541e-6</td><td>500</td><td>0.00052123</td><td>0.0005341</td></tr><tr><th>3</th><td>100</td><td>10</td><td>0.000645416</td><td>1.39822e-5</td><td>1000</td><td>0.000631434</td><td>0.000659399</td></tr><tr><th>4</th><td>100</td><td>15</td><td>0.000736486</td><td>9.14335e-6</td><td>1500</td><td>0.000727342</td><td>0.000745629</td></tr><tr><th>5</th><td>100</td><td>20</td><td>0.000856657</td><td>1.35244e-5</td><td>2000</td><td>0.000843133</td><td>0.000870181</td></tr><tr><th>6</th><td>100</td><td>25</td><td>0.00282228</td><td>0.00188707</td><td>2500</td><td>0.000935216</td><td>0.00470935</td></tr><tr><th>7</th><td>1000</td><td>2</td><td>0.00354855</td><td>0.00198776</td><td>2000</td><td>0.00156079</td><td>0.00553631</td></tr><tr><th>8</th><td>1000</td><td>5</td><td>0.00232654</td><td>7.67471e-6</td><td>5000</td><td>0.00231886</td><td>0.00233421</td></tr><tr><th>9</th><td>1000</td><td>10</td><td>0.00635363</td><td>0.00205503</td><td>10000</td><td>0.0042986</td><td>0.00840866</td></tr><tr><th>10</th><td>1000</td><td>15</td><td>0.00558029</td><td>0.00107616</td><td>15000</td><td>0.00450414</td><td>0.00665645</td></tr><tr><th>11</th><td>1000</td><td>20</td><td>0.00757199</td><td>0.00140362</td><td>20000</td><td>0.00616837</td><td>0.00897561</td></tr><tr><th>12</th><td>1000</td><td>25</td><td>0.0113496</td><td>0.00207963</td><td>25000</td><td>0.00926996</td><td>0.0134292</td></tr><tr><th>13</th><td>10000</td><td>2</td><td>0.0184025</td><td>0.00250989</td><td>20000</td><td>0.0158926</td><td>0.0209124</td></tr><tr><th>14</th><td>10000</td><td>5</td><td>0.0290251</td><td>0.00301649</td><td>50000</td><td>0.0260086</td><td>0.0320415</td></tr><tr><th>15</th><td>10000</td><td>10</td><td>0.0495526</td><td>0.00353892</td><td>100000</td><td>0.0460137</td><td>0.0530915</td></tr><tr><th>16</th><td>10000</td><td>15</td><td>0.0671049</td><td>0.00301162</td><td>150000</td><td>0.0640933</td><td>0.0701165</td></tr><tr><th>17</th><td>10000</td><td>20</td><td>0.0912341</td><td>0.00275381</td><td>200000</td><td>0.0884803</td><td>0.0939879</td></tr><tr><th>18</th><td>10000</td><td>25</td><td>0.0987712</td><td>0.00275134</td><td>250000</td><td>0.0960199</td><td>0.101523</td></tr></tbody></table></div>"
      ],
      "text/latex": [
       "\\begin{tabular}{r|cccccccc}\n",
       "\t& samplesize & obssize & fittime & se & nobs & fitmin & fitmax & \\\\\n",
       "\t\\hline\n",
       "\t& String & String & Float64 & Float64 & Int64 & Float64 & Float64 & \\\\\n",
       "\t\\hline\n",
       "\t1 & 100 & 2 & 0.00339202 & 0.00289491 & 200 & 0.000497112 & 0.00628693 & $\\dots$ \\\\\n",
       "\t2 & 100 & 5 & 0.000527665 & 6.43541e-6 & 500 & 0.00052123 & 0.0005341 & $\\dots$ \\\\\n",
       "\t3 & 100 & 10 & 0.000645416 & 1.39822e-5 & 1000 & 0.000631434 & 0.000659399 & $\\dots$ \\\\\n",
       "\t4 & 100 & 15 & 0.000736486 & 9.14335e-6 & 1500 & 0.000727342 & 0.000745629 & $\\dots$ \\\\\n",
       "\t5 & 100 & 20 & 0.000856657 & 1.35244e-5 & 2000 & 0.000843133 & 0.000870181 & $\\dots$ \\\\\n",
       "\t6 & 100 & 25 & 0.00282228 & 0.00188707 & 2500 & 0.000935216 & 0.00470935 & $\\dots$ \\\\\n",
       "\t7 & 1000 & 2 & 0.00354855 & 0.00198776 & 2000 & 0.00156079 & 0.00553631 & $\\dots$ \\\\\n",
       "\t8 & 1000 & 5 & 0.00232654 & 7.67471e-6 & 5000 & 0.00231886 & 0.00233421 & $\\dots$ \\\\\n",
       "\t9 & 1000 & 10 & 0.00635363 & 0.00205503 & 10000 & 0.0042986 & 0.00840866 & $\\dots$ \\\\\n",
       "\t10 & 1000 & 15 & 0.00558029 & 0.00107616 & 15000 & 0.00450414 & 0.00665645 & $\\dots$ \\\\\n",
       "\t11 & 1000 & 20 & 0.00757199 & 0.00140362 & 20000 & 0.00616837 & 0.00897561 & $\\dots$ \\\\\n",
       "\t12 & 1000 & 25 & 0.0113496 & 0.00207963 & 25000 & 0.00926996 & 0.0134292 & $\\dots$ \\\\\n",
       "\t13 & 10000 & 2 & 0.0184025 & 0.00250989 & 20000 & 0.0158926 & 0.0209124 & $\\dots$ \\\\\n",
       "\t14 & 10000 & 5 & 0.0290251 & 0.00301649 & 50000 & 0.0260086 & 0.0320415 & $\\dots$ \\\\\n",
       "\t15 & 10000 & 10 & 0.0495526 & 0.00353892 & 100000 & 0.0460137 & 0.0530915 & $\\dots$ \\\\\n",
       "\t16 & 10000 & 15 & 0.0671049 & 0.00301162 & 150000 & 0.0640933 & 0.0701165 & $\\dots$ \\\\\n",
       "\t17 & 10000 & 20 & 0.0912341 & 0.00275381 & 200000 & 0.0884803 & 0.0939879 & $\\dots$ \\\\\n",
       "\t18 & 10000 & 25 & 0.0987712 & 0.00275134 & 250000 & 0.0960199 & 0.101523 & $\\dots$ \\\\\n",
       "\\end{tabular}\n"
      ],
      "text/plain": [
       "\u001b[1m18×8 DataFrame\u001b[0m\n",
       "\u001b[1m Row \u001b[0m│\u001b[1m samplesize \u001b[0m\u001b[1m obssize \u001b[0m\u001b[1m fittime     \u001b[0m\u001b[1m se         \u001b[0m\u001b[1m nobs   \u001b[0m\u001b[1m fitmin      \u001b[0m\u001b[1m fitm\u001b[0m ⋯\n",
       "\u001b[1m     \u001b[0m│\u001b[90m String     \u001b[0m\u001b[90m String  \u001b[0m\u001b[90m Float64     \u001b[0m\u001b[90m Float64    \u001b[0m\u001b[90m Int64  \u001b[0m\u001b[90m Float64     \u001b[0m\u001b[90m Floa\u001b[0m ⋯\n",
       "─────┼──────────────────────────────────────────────────────────────────────────\n",
       "   1 │ 100         2        0.00339202   0.00289491     200  0.000497112  0.00 ⋯\n",
       "   2 │ 100         5        0.000527665  6.43541e-6     500  0.00052123   0.00\n",
       "   3 │ 100         10       0.000645416  1.39822e-5    1000  0.000631434  0.00\n",
       "   4 │ 100         15       0.000736486  9.14335e-6    1500  0.000727342  0.00\n",
       "   5 │ 100         20       0.000856657  1.35244e-5    2000  0.000843133  0.00 ⋯\n",
       "   6 │ 100         25       0.00282228   0.00188707    2500  0.000935216  0.00\n",
       "   7 │ 1000        2        0.00354855   0.00198776    2000  0.00156079   0.00\n",
       "   8 │ 1000        5        0.00232654   7.67471e-6    5000  0.00231886   0.00\n",
       "   9 │ 1000        10       0.00635363   0.00205503   10000  0.0042986    0.00 ⋯\n",
       "  10 │ 1000        15       0.00558029   0.00107616   15000  0.00450414   0.00\n",
       "  11 │ 1000        20       0.00757199   0.00140362   20000  0.00616837   0.00\n",
       "  12 │ 1000        25       0.0113496    0.00207963   25000  0.00926996   0.01\n",
       "  13 │ 10000       2        0.0184025    0.00250989   20000  0.0158926    0.02 ⋯\n",
       "  14 │ 10000       5        0.0290251    0.00301649   50000  0.0260086    0.03\n",
       "  15 │ 10000       10       0.0495526    0.00353892  100000  0.0460137    0.05\n",
       "  16 │ 10000       15       0.0671049    0.00301162  150000  0.0640933    0.07\n",
       "  17 │ 10000       20       0.0912341    0.00275381  200000  0.0884803    0.09 ⋯\n",
       "  18 │ 10000       25       0.0987712    0.00275134  250000  0.0960199    0.10\n",
       "\u001b[36m                                                               2 columns omitted\u001b[0m"
      ]
     },
     "execution_count": 7,
     "metadata": {},
     "output_type": "execute_result"
    }
   ],
   "source": [
    "#simulation parameters\n",
    "@info \"making results table GLMM\"\n",
    "sample_sizes = repeat(string.(samplesizes), inner = nsims * length(ns))\n",
    "obs_sizes = repeat(string.(ns), inner = nsims, outer = length(samplesizes))\n",
    "\n",
    "msedf = DataFrame(samplesize = sample_sizes, obssize = obs_sizes, fittimes = fittimes_GLMM)\n",
    "timedf2 = combine(groupby(msedf, [:samplesize, :obssize]), :fittimes => mean => :fittime,\n",
    "    :fittimes => x -> (std(x)/sqrt(length(x))))\n",
    "rename!(timedf2, Dict(:fittimes_function => \"se\"))\n",
    "timedf2[!, :nobs] = Meta.parse.(timedf2[!, :samplesize]) .* Meta.parse.(timedf2[!, :obssize])\n",
    "timedf2[!, :fitmin] = timedf2[!, :fittime] - timedf2[!, :se]\n",
    "timedf2[!, :fitmax] = timedf2[!, :fittime] + timedf2[!, :se]\n",
    "timedf2[!, :perobsratio] = timedf2[!, :fittime] ./ timedf2[!, :nobs]\n",
    "timedf2"
   ]
  },
  {
   "cell_type": "code",
   "execution_count": 8,
   "metadata": {},
   "outputs": [
    {
     "data": {
      "text/html": [
       "<div class=\"data-frame\"><p>18 rows × 6 columns (omitted printing of 1 columns)</p><table class=\"data-frame\"><thead><tr><th></th><th>people_obs</th><th>β1</th><th>β2</th><th>β3</th><th>θ1</th></tr><tr><th></th><th title=\"String\">String</th><th title=\"Tuple{Float64, Float64}\">Tuple…</th><th title=\"Tuple{Float64, Float64}\">Tuple…</th><th title=\"Tuple{Float64, Float64}\">Tuple…</th><th title=\"Tuple{Float64, Float64}\">Tuple…</th></tr></thead><tbody><tr><th>1</th><td>N: 100  ni: 2</td><td>(0.58, 0.0496045)</td><td>(0.68, 0.0468826)</td><td>(0.58, 0.0496045)</td><td>(0.0, 0.0)</td></tr><tr><th>2</th><td>N: 100  ni: 5</td><td>(0.6, 0.0492366)</td><td>(0.8, 0.0402015)</td><td>(0.71, 0.0456048)</td><td>(0.0, 0.0)</td></tr><tr><th>3</th><td>N: 100  ni: 10</td><td>(0.41, 0.0494311)</td><td>(0.89, 0.0314466)</td><td>(0.81, 0.0394277)</td><td>(0.0, 0.0)</td></tr><tr><th>4</th><td>N: 100  ni: 15</td><td>(0.52, 0.0502117)</td><td>(0.86, 0.0348735)</td><td>(0.85, 0.035887)</td><td>(0.0, 0.0)</td></tr><tr><th>5</th><td>N: 100  ni: 20</td><td>(0.49, 0.0502418)</td><td>(0.76, 0.0429235)</td><td>(0.89, 0.0314466)</td><td>(0.0, 0.0)</td></tr><tr><th>6</th><td>N: 100  ni: 25</td><td>(0.49, 0.0502418)</td><td>(0.87, 0.0337998)</td><td>(0.8, 0.0402015)</td><td>(0.0, 0.0)</td></tr><tr><th>7</th><td>N: 1000  ni: 2</td><td>(0.55, 0.05)</td><td>(0.7, 0.0460566)</td><td>(0.77, 0.0422953)</td><td>(0.0, 0.0)</td></tr><tr><th>8</th><td>N: 1000  ni: 5</td><td>(0.51, 0.0502418)</td><td>(0.77, 0.0422953)</td><td>(0.85, 0.035887)</td><td>(0.0, 0.0)</td></tr><tr><th>9</th><td>N: 1000  ni: 10</td><td>(0.54, 0.0500908)</td><td>(0.82, 0.0386123)</td><td>(0.87, 0.0337998)</td><td>(0.0, 0.0)</td></tr><tr><th>10</th><td>N: 1000  ni: 15</td><td>(0.45, 0.05)</td><td>(0.84, 0.0368453)</td><td>(0.84, 0.0368453)</td><td>(0.0, 0.0)</td></tr><tr><th>11</th><td>N: 1000  ni: 20</td><td>(0.45, 0.05)</td><td>(0.86, 0.0348735)</td><td>(0.89, 0.0314466)</td><td>(0.0, 0.0)</td></tr><tr><th>12</th><td>N: 1000  ni: 25</td><td>(0.51, 0.0502418)</td><td>(0.88, 0.0326599)</td><td>(0.9, 0.0301511)</td><td>(0.0, 0.0)</td></tr><tr><th>13</th><td>N: 10000  ni: 2</td><td>(0.62, 0.0487832)</td><td>(0.74, 0.0440844)</td><td>(0.79, 0.040936)</td><td>(0.0, 0.0)</td></tr><tr><th>14</th><td>N: 10000  ni: 5</td><td>(0.45, 0.05)</td><td>(0.84, 0.0368453)</td><td>(0.8, 0.0402015)</td><td>(0.0, 0.0)</td></tr><tr><th>15</th><td>N: 10000  ni: 10</td><td>(0.46, 0.0500908)</td><td>(0.85, 0.035887)</td><td>(0.87, 0.0337998)</td><td>(0.0, 0.0)</td></tr><tr><th>16</th><td>N: 10000  ni: 15</td><td>(0.6, 0.0492366)</td><td>(0.85, 0.035887)</td><td>(0.88, 0.0326599)</td><td>(0.0, 0.0)</td></tr><tr><th>17</th><td>N: 10000  ni: 20</td><td>(0.54, 0.0500908)</td><td>(0.86, 0.0348735)</td><td>(0.89, 0.0314466)</td><td>(0.0, 0.0)</td></tr><tr><th>18</th><td>N: 10000  ni: 25</td><td>(0.47, 0.0501614)</td><td>(0.9, 0.0301511)</td><td>(0.84, 0.0368453)</td><td>(0.0, 0.0)</td></tr></tbody></table></div>"
      ],
      "text/latex": [
       "\\begin{tabular}{r|cccccc}\n",
       "\t& people\\_obs & β1 & β2 & β3 & θ1 & \\\\\n",
       "\t\\hline\n",
       "\t& String & Tuple… & Tuple… & Tuple… & Tuple… & \\\\\n",
       "\t\\hline\n",
       "\t1 & N: 100  ni: 2 & (0.58, 0.0496045) & (0.68, 0.0468826) & (0.58, 0.0496045) & (0.0, 0.0) & $\\dots$ \\\\\n",
       "\t2 & N: 100  ni: 5 & (0.6, 0.0492366) & (0.8, 0.0402015) & (0.71, 0.0456048) & (0.0, 0.0) & $\\dots$ \\\\\n",
       "\t3 & N: 100  ni: 10 & (0.41, 0.0494311) & (0.89, 0.0314466) & (0.81, 0.0394277) & (0.0, 0.0) & $\\dots$ \\\\\n",
       "\t4 & N: 100  ni: 15 & (0.52, 0.0502117) & (0.86, 0.0348735) & (0.85, 0.035887) & (0.0, 0.0) & $\\dots$ \\\\\n",
       "\t5 & N: 100  ni: 20 & (0.49, 0.0502418) & (0.76, 0.0429235) & (0.89, 0.0314466) & (0.0, 0.0) & $\\dots$ \\\\\n",
       "\t6 & N: 100  ni: 25 & (0.49, 0.0502418) & (0.87, 0.0337998) & (0.8, 0.0402015) & (0.0, 0.0) & $\\dots$ \\\\\n",
       "\t7 & N: 1000  ni: 2 & (0.55, 0.05) & (0.7, 0.0460566) & (0.77, 0.0422953) & (0.0, 0.0) & $\\dots$ \\\\\n",
       "\t8 & N: 1000  ni: 5 & (0.51, 0.0502418) & (0.77, 0.0422953) & (0.85, 0.035887) & (0.0, 0.0) & $\\dots$ \\\\\n",
       "\t9 & N: 1000  ni: 10 & (0.54, 0.0500908) & (0.82, 0.0386123) & (0.87, 0.0337998) & (0.0, 0.0) & $\\dots$ \\\\\n",
       "\t10 & N: 1000  ni: 15 & (0.45, 0.05) & (0.84, 0.0368453) & (0.84, 0.0368453) & (0.0, 0.0) & $\\dots$ \\\\\n",
       "\t11 & N: 1000  ni: 20 & (0.45, 0.05) & (0.86, 0.0348735) & (0.89, 0.0314466) & (0.0, 0.0) & $\\dots$ \\\\\n",
       "\t12 & N: 1000  ni: 25 & (0.51, 0.0502418) & (0.88, 0.0326599) & (0.9, 0.0301511) & (0.0, 0.0) & $\\dots$ \\\\\n",
       "\t13 & N: 10000  ni: 2 & (0.62, 0.0487832) & (0.74, 0.0440844) & (0.79, 0.040936) & (0.0, 0.0) & $\\dots$ \\\\\n",
       "\t14 & N: 10000  ni: 5 & (0.45, 0.05) & (0.84, 0.0368453) & (0.8, 0.0402015) & (0.0, 0.0) & $\\dots$ \\\\\n",
       "\t15 & N: 10000  ni: 10 & (0.46, 0.0500908) & (0.85, 0.035887) & (0.87, 0.0337998) & (0.0, 0.0) & $\\dots$ \\\\\n",
       "\t16 & N: 10000  ni: 15 & (0.6, 0.0492366) & (0.85, 0.035887) & (0.88, 0.0326599) & (0.0, 0.0) & $\\dots$ \\\\\n",
       "\t17 & N: 10000  ni: 20 & (0.54, 0.0500908) & (0.86, 0.0348735) & (0.89, 0.0314466) & (0.0, 0.0) & $\\dots$ \\\\\n",
       "\t18 & N: 10000  ni: 25 & (0.47, 0.0501614) & (0.9, 0.0301511) & (0.84, 0.0368453) & (0.0, 0.0) & $\\dots$ \\\\\n",
       "\\end{tabular}\n"
      ],
      "text/plain": [
       "\u001b[1m18×6 DataFrame\u001b[0m\n",
       "\u001b[1m Row \u001b[0m│\u001b[1m people_obs       \u001b[0m\u001b[1m β1                \u001b[0m\u001b[1m β2                \u001b[0m\u001b[1m β3             \u001b[0m ⋯\n",
       "\u001b[1m     \u001b[0m│\u001b[90m String           \u001b[0m\u001b[90m Tuple…            \u001b[0m\u001b[90m Tuple…            \u001b[0m\u001b[90m Tuple…         \u001b[0m ⋯\n",
       "─────┼──────────────────────────────────────────────────────────────────────────\n",
       "   1 │ N: 100  ni: 2     (0.58, 0.0496045)  (0.68, 0.0468826)  (0.58, 0.049604 ⋯\n",
       "   2 │ N: 100  ni: 5     (0.6, 0.0492366)   (0.8, 0.0402015)   (0.71, 0.045604\n",
       "   3 │ N: 100  ni: 10    (0.41, 0.0494311)  (0.89, 0.0314466)  (0.81, 0.039427\n",
       "   4 │ N: 100  ni: 15    (0.52, 0.0502117)  (0.86, 0.0348735)  (0.85, 0.035887\n",
       "   5 │ N: 100  ni: 20    (0.49, 0.0502418)  (0.76, 0.0429235)  (0.89, 0.031446 ⋯\n",
       "   6 │ N: 100  ni: 25    (0.49, 0.0502418)  (0.87, 0.0337998)  (0.8, 0.0402015\n",
       "   7 │ N: 1000  ni: 2    (0.55, 0.05)       (0.7, 0.0460566)   (0.77, 0.042295\n",
       "   8 │ N: 1000  ni: 5    (0.51, 0.0502418)  (0.77, 0.0422953)  (0.85, 0.035887\n",
       "   9 │ N: 1000  ni: 10   (0.54, 0.0500908)  (0.82, 0.0386123)  (0.87, 0.033799 ⋯\n",
       "  10 │ N: 1000  ni: 15   (0.45, 0.05)       (0.84, 0.0368453)  (0.84, 0.036845\n",
       "  11 │ N: 1000  ni: 20   (0.45, 0.05)       (0.86, 0.0348735)  (0.89, 0.031446\n",
       "  12 │ N: 1000  ni: 25   (0.51, 0.0502418)  (0.88, 0.0326599)  (0.9, 0.0301511\n",
       "  13 │ N: 10000  ni: 2   (0.62, 0.0487832)  (0.74, 0.0440844)  (0.79, 0.040936 ⋯\n",
       "  14 │ N: 10000  ni: 5   (0.45, 0.05)       (0.84, 0.0368453)  (0.8, 0.0402015\n",
       "  15 │ N: 10000  ni: 10  (0.46, 0.0500908)  (0.85, 0.035887)   (0.87, 0.033799\n",
       "  16 │ N: 10000  ni: 15  (0.6, 0.0492366)   (0.85, 0.035887)   (0.88, 0.032659\n",
       "  17 │ N: 10000  ni: 20  (0.54, 0.0500908)  (0.86, 0.0348735)  (0.89, 0.031446 ⋯\n",
       "  18 │ N: 10000  ni: 25  (0.47, 0.0501614)  (0.9, 0.0301511)   (0.84, 0.036845\n",
       "\u001b[36m                                                               3 columns omitted\u001b[0m"
      ]
     },
     "execution_count": 8,
     "metadata": {},
     "output_type": "execute_result"
    }
   ],
   "source": [
    "######  supplementary table s1\n",
    "using Random, DataFrames, DelimitedFiles, Statistics\n",
    "import StatsBase: sem\n",
    "\n",
    "βθτcoverage = readdlm(\"beta_theta_tau_coverage_normal$(nsims)reps_sim.csv\", ',')\n",
    "\n",
    "m  = 1\n",
    "\n",
    "covdf = DataFrame(Matrix(transpose(βθτcoverage)), :auto)[!, 1:5]\n",
    "rename!(covdf, Symbol.([[\"β$i\" for i in 1:p]; [\"θ$i\" for i in 1:m]; [\"τ\"]]))\n",
    "covdf[!, :samplesize] = sample_sizes\n",
    "covdf[!, :obssize] = obs_sizes\n",
    "first(covdf, 10)\n",
    "\n",
    "row_stats = [[(mean(col), sem(col)) for col = eachcol(d[!, 1:end-2])] for d = groupby(covdf, [:samplesize; :obssize])]\n",
    "df = DataFrame(row_stats, :auto)\n",
    "ss_obs = unique(\"N: \" .* sample_sizes .* \"  ni: \" .* obs_sizes)\n",
    "rename!(df, Symbol.(ss_obs))\n",
    "covdfdisplay = DataFrame([[names(df)]; collect.(eachrow(df))], \n",
    "    [:people_obs; Symbol.([[\"β$i\" for i in 1:p]; [\"θ$i\" for i in 1:m]; \"τ\"])])\n",
    "# deletecols!(covdfdisplay, p + 2)\n",
    "covdfdisplay\n"
   ]
  },
  {
   "cell_type": "code",
   "execution_count": 9,
   "metadata": {},
   "outputs": [
    {
     "data": {
      "text/html": [
       "<div class=\"data-frame\"><p>10,797 rows × 5 columns</p><table class=\"data-frame\"><thead><tr><th></th><th>mse</th><th>obssize</th><th>samplesize</th><th>parameters</th><th>robust</th></tr><tr><th></th><th title=\"Float64\">Float64</th><th title=\"String\">String</th><th title=\"String\">String</th><th title=\"String\">String</th><th title=\"String\">String</th></tr></thead><tbody><tr><th>1</th><td>8.3979e-5</td><td>2</td><td>100</td><td>beta</td><td>Gaussian QC</td></tr><tr><th>2</th><td>0.000151821</td><td>2</td><td>100</td><td>beta</td><td>Gaussian QC</td></tr><tr><th>3</th><td>4.18359e-5</td><td>2</td><td>100</td><td>beta</td><td>Gaussian QC</td></tr><tr><th>4</th><td>8.28493e-5</td><td>2</td><td>100</td><td>beta</td><td>Gaussian QC</td></tr><tr><th>5</th><td>1.1785e-5</td><td>2</td><td>100</td><td>beta</td><td>Gaussian QC</td></tr><tr><th>6</th><td>0.000106475</td><td>2</td><td>100</td><td>beta</td><td>Gaussian QC</td></tr><tr><th>7</th><td>8.85118e-5</td><td>2</td><td>100</td><td>beta</td><td>Gaussian QC</td></tr><tr><th>8</th><td>5.56634e-5</td><td>2</td><td>100</td><td>beta</td><td>Gaussian QC</td></tr><tr><th>9</th><td>6.68373e-6</td><td>2</td><td>100</td><td>beta</td><td>Gaussian QC</td></tr><tr><th>10</th><td>0.00020065</td><td>2</td><td>100</td><td>beta</td><td>Gaussian QC</td></tr><tr><th>11</th><td>0.000101367</td><td>2</td><td>100</td><td>beta</td><td>Gaussian QC</td></tr><tr><th>12</th><td>8.10797e-5</td><td>2</td><td>100</td><td>beta</td><td>Gaussian QC</td></tr><tr><th>13</th><td>0.000109795</td><td>2</td><td>100</td><td>beta</td><td>Gaussian QC</td></tr><tr><th>14</th><td>3.473e-5</td><td>2</td><td>100</td><td>beta</td><td>Gaussian QC</td></tr><tr><th>15</th><td>5.35511e-5</td><td>2</td><td>100</td><td>beta</td><td>Gaussian QC</td></tr><tr><th>16</th><td>5.87602e-5</td><td>2</td><td>100</td><td>beta</td><td>Gaussian QC</td></tr><tr><th>17</th><td>0.000192691</td><td>2</td><td>100</td><td>beta</td><td>Gaussian QC</td></tr><tr><th>18</th><td>0.000237506</td><td>2</td><td>100</td><td>beta</td><td>Gaussian QC</td></tr><tr><th>19</th><td>1.56286e-6</td><td>2</td><td>100</td><td>beta</td><td>Gaussian QC</td></tr><tr><th>20</th><td>0.000115929</td><td>2</td><td>100</td><td>beta</td><td>Gaussian QC</td></tr><tr><th>21</th><td>9.47775e-5</td><td>2</td><td>100</td><td>beta</td><td>Gaussian QC</td></tr><tr><th>22</th><td>7.92671e-5</td><td>2</td><td>100</td><td>beta</td><td>Gaussian QC</td></tr><tr><th>23</th><td>0.000105726</td><td>2</td><td>100</td><td>beta</td><td>Gaussian QC</td></tr><tr><th>24</th><td>0.000234301</td><td>2</td><td>100</td><td>beta</td><td>Gaussian QC</td></tr><tr><th>25</th><td>0.00020834</td><td>2</td><td>100</td><td>beta</td><td>Gaussian QC</td></tr><tr><th>26</th><td>0.00012554</td><td>2</td><td>100</td><td>beta</td><td>Gaussian QC</td></tr><tr><th>27</th><td>5.36698e-5</td><td>2</td><td>100</td><td>beta</td><td>Gaussian QC</td></tr><tr><th>28</th><td>2.34213e-5</td><td>2</td><td>100</td><td>beta</td><td>Gaussian QC</td></tr><tr><th>29</th><td>0.000317857</td><td>2</td><td>100</td><td>beta</td><td>Gaussian QC</td></tr><tr><th>30</th><td>0.000154761</td><td>2</td><td>100</td><td>beta</td><td>Gaussian QC</td></tr><tr><th>&vellip;</th><td>&vellip;</td><td>&vellip;</td><td>&vellip;</td><td>&vellip;</td><td>&vellip;</td></tr></tbody></table></div>"
      ],
      "text/latex": [
       "\\begin{tabular}{r|ccccc}\n",
       "\t& mse & obssize & samplesize & parameters & robust\\\\\n",
       "\t\\hline\n",
       "\t& Float64 & String & String & String & String\\\\\n",
       "\t\\hline\n",
       "\t1 & 8.3979e-5 & 2 & 100 & beta & Gaussian QC \\\\\n",
       "\t2 & 0.000151821 & 2 & 100 & beta & Gaussian QC \\\\\n",
       "\t3 & 4.18359e-5 & 2 & 100 & beta & Gaussian QC \\\\\n",
       "\t4 & 8.28493e-5 & 2 & 100 & beta & Gaussian QC \\\\\n",
       "\t5 & 1.1785e-5 & 2 & 100 & beta & Gaussian QC \\\\\n",
       "\t6 & 0.000106475 & 2 & 100 & beta & Gaussian QC \\\\\n",
       "\t7 & 8.85118e-5 & 2 & 100 & beta & Gaussian QC \\\\\n",
       "\t8 & 5.56634e-5 & 2 & 100 & beta & Gaussian QC \\\\\n",
       "\t9 & 6.68373e-6 & 2 & 100 & beta & Gaussian QC \\\\\n",
       "\t10 & 0.00020065 & 2 & 100 & beta & Gaussian QC \\\\\n",
       "\t11 & 0.000101367 & 2 & 100 & beta & Gaussian QC \\\\\n",
       "\t12 & 8.10797e-5 & 2 & 100 & beta & Gaussian QC \\\\\n",
       "\t13 & 0.000109795 & 2 & 100 & beta & Gaussian QC \\\\\n",
       "\t14 & 3.473e-5 & 2 & 100 & beta & Gaussian QC \\\\\n",
       "\t15 & 5.35511e-5 & 2 & 100 & beta & Gaussian QC \\\\\n",
       "\t16 & 5.87602e-5 & 2 & 100 & beta & Gaussian QC \\\\\n",
       "\t17 & 0.000192691 & 2 & 100 & beta & Gaussian QC \\\\\n",
       "\t18 & 0.000237506 & 2 & 100 & beta & Gaussian QC \\\\\n",
       "\t19 & 1.56286e-6 & 2 & 100 & beta & Gaussian QC \\\\\n",
       "\t20 & 0.000115929 & 2 & 100 & beta & Gaussian QC \\\\\n",
       "\t21 & 9.47775e-5 & 2 & 100 & beta & Gaussian QC \\\\\n",
       "\t22 & 7.92671e-5 & 2 & 100 & beta & Gaussian QC \\\\\n",
       "\t23 & 0.000105726 & 2 & 100 & beta & Gaussian QC \\\\\n",
       "\t24 & 0.000234301 & 2 & 100 & beta & Gaussian QC \\\\\n",
       "\t25 & 0.00020834 & 2 & 100 & beta & Gaussian QC \\\\\n",
       "\t26 & 0.00012554 & 2 & 100 & beta & Gaussian QC \\\\\n",
       "\t27 & 5.36698e-5 & 2 & 100 & beta & Gaussian QC \\\\\n",
       "\t28 & 2.34213e-5 & 2 & 100 & beta & Gaussian QC \\\\\n",
       "\t29 & 0.000317857 & 2 & 100 & beta & Gaussian QC \\\\\n",
       "\t30 & 0.000154761 & 2 & 100 & beta & Gaussian QC \\\\\n",
       "\t$\\dots$ & $\\dots$ & $\\dots$ & $\\dots$ & $\\dots$ & $\\dots$ \\\\\n",
       "\\end{tabular}\n"
      ],
      "text/plain": [
       "\u001b[1m10797×5 DataFrame\u001b[0m\n",
       "\u001b[1m   Row \u001b[0m│\u001b[1m mse         \u001b[0m\u001b[1m obssize \u001b[0m\u001b[1m samplesize \u001b[0m\u001b[1m parameters \u001b[0m\u001b[1m robust       \u001b[0m\n",
       "\u001b[1m       \u001b[0m│\u001b[90m Float64     \u001b[0m\u001b[90m String  \u001b[0m\u001b[90m String     \u001b[0m\u001b[90m String     \u001b[0m\u001b[90m String       \u001b[0m\n",
       "───────┼────────────────────────────────────────────────────────────\n",
       "     1 │ 8.3979e-5    2        100         beta        Gaussian QC\n",
       "     2 │ 0.000151821  2        100         beta        Gaussian QC\n",
       "     3 │ 4.18359e-5   2        100         beta        Gaussian QC\n",
       "     4 │ 8.28493e-5   2        100         beta        Gaussian QC\n",
       "     5 │ 1.1785e-5    2        100         beta        Gaussian QC\n",
       "     6 │ 0.000106475  2        100         beta        Gaussian QC\n",
       "     7 │ 8.85118e-5   2        100         beta        Gaussian QC\n",
       "     8 │ 5.56634e-5   2        100         beta        Gaussian QC\n",
       "     9 │ 6.68373e-6   2        100         beta        Gaussian QC\n",
       "    10 │ 0.00020065   2        100         beta        Gaussian QC\n",
       "    11 │ 0.000101367  2        100         beta        Gaussian QC\n",
       "   ⋮   │      ⋮          ⋮         ⋮           ⋮            ⋮\n",
       " 10788 │ 1.46219e-9   25       10000       tau         Gaussian LMM\n",
       " 10789 │ 1.17256e-14  25       10000       tau         Gaussian LMM\n",
       " 10790 │ 3.43605e-10  25       10000       tau         Gaussian LMM\n",
       " 10791 │ 3.97869e-9   25       10000       tau         Gaussian LMM\n",
       " 10792 │ 1.00967e-9   25       10000       tau         Gaussian LMM\n",
       " 10793 │ 1.96063e-9   25       10000       tau         Gaussian LMM\n",
       " 10794 │ 5.41421e-10  25       10000       tau         Gaussian LMM\n",
       " 10795 │ 9.50981e-10  25       10000       tau         Gaussian LMM\n",
       " 10796 │ 2.14114e-11  25       10000       tau         Gaussian LMM\n",
       " 10797 │ 1.24898e-10  25       10000       tau         Gaussian LMM\n",
       "\u001b[36m                                                  10776 rows omitted\u001b[0m"
      ]
     },
     "execution_count": 9,
     "metadata": {},
     "output_type": "execute_result"
    }
   ],
   "source": [
    "#### \n",
    "#import data and reorganize to create figure\n",
    "using Random, DataFrames, DelimitedFiles, Statistics, RCall, Printf\n",
    "import StatsBase: sem\n",
    "\n",
    "βMseresult = vec(readdlm(\"mse_beta_multivariate_normal$(nsims)reps_sim.csv\", ','))\n",
    "θMseresult = vec(readdlm(\"mse_theta_multivariate_normal$(nsims)reps_sim.csv\", ','))\n",
    "τMseresult = vec(readdlm(\"mse_tau_multivariate_normal$(nsims)reps_sim.csv\", ','))\n",
    "\n",
    "βMseresult_GLMM = vec(readdlm(\"mse_beta_GLMM_normal$(nsims)reps_sim.csv\", ','))\n",
    "θMseresult_GLMM = vec(readdlm(\"mse_theta_GLMM_normal$(nsims)reps_sim.csv\", ','))\n",
    "τMseresult_GLMM = vec(readdlm(\"mse_tau_GLMM_normal$(nsims)reps_sim.csv\", ','))\n",
    "\n",
    "p = 3; m = 1\n",
    "sample_sizes = repeat(string.(samplesizes), inner = nsims * length(ns))\n",
    "obs_sizes = repeat(string.(ns), inner = nsims, outer = length(samplesizes))\n",
    "msedf1 = DataFrame(βmse = βMseresult, thetamse = θMseresult, τmse = τMseresult,\n",
    "    samplesize = sample_sizes, obssize = obs_sizes)\n",
    "\n",
    "msedf2 = DataFrame(βmse = βMseresult_GLMM, thetamse = θMseresult_GLMM, τmse = τMseresult_GLMM,\n",
    "    samplesize = sample_sizes, obssize = obs_sizes)\n",
    "\n",
    "#rename to make parsing easier for R.\n",
    "\n",
    "msedf1 = deepcopy(msedf1)\n",
    "rename!(msedf1, [\"betamse\"\n",
    "    \"thetamse\"\n",
    "        \"taumse\"\n",
    "    \"samplesize\"\n",
    " \"obssize\"]);\n",
    "\n",
    "msedf2 = deepcopy(msedf2)\n",
    "rename!(msedf2, [\"betamse\"\n",
    "    \"thetamse\"\n",
    "        \"taumse\"\n",
    "    \"samplesize\"\n",
    " \"obssize\"]);\n",
    "\n",
    "mses = [msedf1[!, :betamse]; msedf1[!, :thetamse]; msedf1[!, :taumse]; msedf2[!, :betamse]; msedf2[!, :thetamse]; msedf2[!, :taumse]]\n",
    "    # msedfnormR[!, :betamse]; msedfnormR[!, :taumse]; msedfnormR[!, :Sigmamse]]\n",
    "obssize = [collect([repeat(msedf1[!, :obssize], 3)]...) ; collect([repeat(msedf2[!, :obssize], 3)]...)]\n",
    "#40\n",
    "samplesize = [collect([repeat(msedf1[!, :samplesize], 3)]...) ; collect([repeat(msedf2[!, :samplesize], 3)]...)]\n",
    "\n",
    "parameters = [collect([repeat(string.([:beta, :theta, :tau]), inner = nsims * length(ns) * length(samplesizes))]...) ; collect([repeat(string.([:beta, :theta, :tau]), inner = nsims * length(ns) * length(samplesizes))]...)]\n",
    "robust = [collect([repeat([\"Gaussian QC\"], 3 * nsims * length(ns) * length(samplesizes))]...); collect([repeat([\"Gaussian LMM\"],  3 * nsims * length(ns) * length(samplesizes))]...)]\n",
    "\n",
    "msedfR = DataFrame(mse = mses, obssize = obssize, samplesize = samplesize,\n",
    "    parameters = parameters, robust = robust)\n",
    "\n",
    "#5 of the 30,000 simulations did not converge, filter out\n",
    "msedfR = filter(x -> !isnan(x.mse), msedfR)\n",
    "# additionally, there are 5 where an error was not caught so it did not try a differnt solver\n",
    "msedfR = filter(x -> x.mse < 40000, msedfR)"
   ]
  },
  {
   "cell_type": "code",
   "execution_count": 10,
   "metadata": {},
   "outputs": [
    {
     "name": "stderr",
     "output_type": "stream",
     "text": [
      "┌ Warning: RCall.jl: Warning: package ‘scales’ was built under R version 4.0.2\n",
      "└ @ RCall /Users/sarahji/.julia/packages/RCall/6kphM/src/io.jl:172\n",
      "┌ Warning: RCall.jl: Warning: package ‘ggplot2’ was built under R version 4.0.2\n",
      "└ @ RCall /Users/sarahji/.julia/packages/RCall/6kphM/src/io.jl:172\n",
      "┌ Warning: RCall.jl: Warning: package ‘data.table’ was built under R version 4.0.2\n",
      "└ @ RCall /Users/sarahji/.julia/packages/RCall/6kphM/src/io.jl:172\n"
     ]
    },
    {
     "data": {
      "image/png": "[encoded data removed]"
     },
     "metadata": {},
     "output_type": "display_data"
    },
    {
     "data": {
      "text/plain": [
       "RObject{VecSxp}\n"
      ]
     },
     "execution_count": 10,
     "metadata": {},
     "output_type": "execute_result"
    }
   ],
   "source": [
    "### working on figure next\n",
    "@rput msedfR\n",
    "\n",
    "R\"\"\"\n",
    "library(scales)\n",
    "library(ggplot2)\n",
    "library(data.table)\n",
    "\n",
    "msedfR = data.table(msedfR)\n",
    "\n",
    "msedfR[parameters == \"beta\",y_min := 10^-8]\n",
    "msedfR[parameters == \"beta\",y_max := 10^-2]\n",
    "msedfR[parameters == \"theta\",y_min := 10^-5]\n",
    "msedfR[parameters == \"theta\",y_max := 10^1]\n",
    "msedfR[parameters == \"tau\",y_min := 10^-4]\n",
    "msedfR[parameters == \"tau\",y_max := 10^-2]\n",
    "\n",
    "#msedfR[parameters == \"beta\",y_min := 10^-8]\n",
    "#msedfR[parameters == \"beta\",y_max := 10^-2]\n",
    "#msedfR[parameters == \"tau\",y_min := 10^-8]\n",
    "#msedfR[parameters == \"tau\",y_max := 10^-2]\n",
    "#msedfR[parameters == \"Sigma\",y_min := 10^-5]\n",
    "#msedfR[parameters == \"Sigma\",y_max := 10^-2]\n",
    "\n",
    "\n",
    "msedfR$obssize = factor(msedfR$obssize, levels = c('2', '5', '10', '15', '20', '25'))\n",
    "msedfR$samplesize = factor(msedfR$samplesize, levels = c('100', '1000', '10000'))\n",
    "msedfR$parameters = factor(msedfR$parameters, levels = c('beta', 'theta', 'tau'), labels = c(beta = expression(hat(bold(beta))), theta = expression(hat(bold(theta))[]), tau = expression(hat(bold(tau)))))\n",
    "msedfR$robust <- factor(msedfR$robust, levels = c('Gaussian QC', 'Gaussian LMM'),\n",
    "    labels = c(expression(paste(\"Gaussian QC\")), expression(paste(\"Gaussian LMM\"))))\n",
    "\n",
    "\n",
    "#mseplot <- ggplot(msedfR[msedfR$mse < 10^0, ], aes(x=samplesize, y=mse, fill=obssize)) + \n",
    "mseplot = ggplot(msedfR[msedfR$mse < 10^3, ], aes(x=samplesize, y=mse, fill=obssize)) + \n",
    "  #geom_boxplot(outlier.size = 0.0, outlier.alpha = 0) +\n",
    "  geom_boxplot(outlier.size = 0.25) +\n",
    "#    geom_violin() +\n",
    "    facet_grid(parameters ~ robust, labeller = label_parsed, scales = \"free_y\") +\n",
    "  theme(legend.position=\"right\", legend.key = element_blank(), axis.text.x = element_text(angle=0, size=30),\n",
    "        axis.text.y = element_text(angle=0, size=30), axis.title.x = element_text(size = 30, face=\"bold\"), \n",
    "        axis.title.y = element_text(size = 40, face=\"bold\"), legend.title = element_text(size = 30, face=\"bold\"),\n",
    "        panel.grid.major = element_blank(), panel.grid.minor = element_blank(),\n",
    "        legend.text=element_text(size=30), panel.background = element_rect(fill = NA, color = \"black\"),\n",
    "        #panel.background = element_blank(), #panel.border = element_blank(),\n",
    "        axis.line = element_line(color = 'black',size=0.3), plot.title = element_text(hjust = 0.5),\n",
    "        strip.background = element_rect(colour=\"black\", fill=\"white\"), strip.text.y = element_text(angle = 0, size=75, face=\"bold\"),\n",
    "        strip.text.x = element_text(size=25)) + \n",
    "  scale_fill_manual(values = c(\"#c85f55\",\n",
    "\"#a964bf\",\n",
    "\"#8db352\",\n",
    "\"#fa7300\",\n",
    "\"#05aec0\",\n",
    "\"#ff1493\")) +\n",
    "#scale_y_log10(breaks = scales::trans_breaks(\"log10\", function(x) 10^x)) +\n",
    "#scale_y_log10(breaks = 10^(-8:8), limit=c(10^-8, 10^2)) + \n",
    "scale_y_log10(breaks = 10^seq(-10, 10, 2), labels=trans_format(\"log10\", math_format(10^.x))) + #, limit=c(10^-8, 10^2)) +\n",
    "  labs(x = \"Sample Size\", y = \"MSE of Parameter Estimates\", fill = \"Cluster Size\") +\n",
    "geom_blank(aes(y = y_max)) + \n",
    "geom_blank(aes(y = y_min)) \n",
    "\"\"\""
   ]
  },
  {
   "cell_type": "code",
   "execution_count": 11,
   "metadata": {},
   "outputs": [
    {
     "data": {
      "text/plain": [
       "RObject{StrSxp}\n",
       "[1] \"updated_msefacetplot_normal_sim2_1.png\"\n"
      ]
     },
     "execution_count": 11,
     "metadata": {},
     "output_type": "execute_result"
    }
   ],
   "source": [
    "R\"\"\"\n",
    "    ggsave('updated_msefacetplot_normal_sim2_1.png', mseplot, width = 20, height = 15, units = 'in', dpi = 450)\n",
    "\"\"\""
   ]
  }
 ],
 "metadata": {
  "@webio": {
   "lastCommId": null,
   "lastKernelId": null
  },
  "kernelspec": {
   "display_name": "Julia 1.6.2",
   "language": "julia",
   "name": "julia-1.6"
  },
  "language_info": {
   "file_extension": ".jl",
   "mimetype": "application/julia",
   "name": "julia",
   "version": "1.6.2"
  }
 },
 "nbformat": 4,
 "nbformat_minor": 2
}
