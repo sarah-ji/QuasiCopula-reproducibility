{
 "cells": [
  {
   "cell_type": "markdown",
   "metadata": {},
   "source": [
    "## Bernoulli VCM Results \n",
    "\n",
    "\n",
    "This notebook goes over the code needed to reproduce the results from the MSE and time figures for the Bernoulli base distribution with Logit Link and covariance matrix $\\Gamma$ structured under variance component model framework as follows:\n",
    "\n",
    "$$\n",
    "\\Gamma = 0.01 * \\mathbf{1_{n} 1_{n}^\\top}\n",
    "$$\n",
    "\n",
    "In this example simulate three fixed effects under the random intercept Bernoulli GLMM with $\\beta \\sim$ rand(Uniform(-0.2, 0.2), p) where p = 3 fixed effects.\n",
    "\n",
    "We use multi-threading on 8 threads to obtain these MSE results on the following machine, and include MSE results from 100 simulation runs comparing the fit of ours with that of the random intercept Bernoulli GLMM from MixedModels.jl for each scenario."
   ]
  },
  {
   "cell_type": "code",
   "execution_count": 1,
   "metadata": {},
   "outputs": [
    {
     "name": "stdout",
     "output_type": "stream",
     "text": [
      "Julia Version 1.6.2\n",
      "Commit 1b93d53fc4 (2021-07-14 15:36 UTC)\n",
      "Platform Info:\n",
      "  OS: macOS (x86_64-apple-darwin18.7.0)\n",
      "  CPU: Intel(R) Core(TM) i9-9880H CPU @ 2.30GHz\n",
      "  WORD_SIZE: 64\n",
      "  LIBM: libopenlibm\n",
      "  LLVM: libLLVM-11.0.1 (ORCJIT, skylake)\n"
     ]
    }
   ],
   "source": [
    "versioninfo()"
   ]
  },
  {
   "cell_type": "code",
   "execution_count": 2,
   "metadata": {},
   "outputs": [],
   "source": [
    "using QuasiCopula, DelimitedFiles, LinearAlgebra, Random, GLM\n",
    "using DataFrames"
   ]
  },
  {
   "cell_type": "code",
   "execution_count": 3,
   "metadata": {},
   "outputs": [],
   "source": [
    "p = 3    # number of fixed effects, including intercept\n",
    "m = 1    # number of variance components\n",
    "# true parameter values\n",
    "Random.seed!(12345)\n",
    "βtrue = rand(Uniform(-0.2, 0.2), p)\n",
    "θtrue = [0.01]\n",
    "\n",
    "# generate data\n",
    "intervals = zeros(p + m, 2) #hold intervals\n",
    "curcoverage = zeros(p + m) #hold current coverage resutls\n",
    "trueparams = [βtrue; θtrue] #hold true parameters\n",
    "\n",
    "#simulation parameters\n",
    "samplesizes = [100; 1000; 10000]\n",
    "ns = [2; 5; 10; 15; 20; 25]\n",
    "nsims = 100;"
   ]
  },
  {
   "cell_type": "code",
   "execution_count": 4,
   "metadata": {},
   "outputs": [
    {
     "name": "stderr",
     "output_type": "stream",
     "text": [
      "┌ Info: reading in the files with results\n",
      "└ @ Main In[4]:1\n"
     ]
    },
    {
     "data": {
      "text/plain": [
       "1800-element Vector{Float64}:\n",
       " 0.015710761\n",
       " 0.04914721\n",
       " 0.048089421\n",
       " 0.047499319\n",
       " 0.047770722\n",
       " 0.047908474\n",
       " 0.048288704\n",
       " 0.048046799\n",
       " 0.048249099\n",
       " 0.048065959\n",
       " 0.048227765\n",
       " 0.047847802\n",
       " 0.048413636\n",
       " ⋮\n",
       " 0.334779009\n",
       " 0.326835967\n",
       " 0.335357151\n",
       " 0.329020861\n",
       " 0.325519526\n",
       " 0.326930426\n",
       " 0.33156555\n",
       " 0.330176683\n",
       " 0.327173301\n",
       " 0.325141024\n",
       " 0.335892244\n",
       " 0.327485968"
      ]
     },
     "execution_count": 4,
     "metadata": {},
     "output_type": "execute_result"
    }
   ],
   "source": [
    "@info \"reading in the files with results\"\n",
    "βMseresult = vec(readdlm(\"mse_beta_multivariate_bernoulli_vcm$(nsims)reps_sim.csv\", ','))\n",
    "θMseresult = vec(readdlm(\"mse_theta_multivariate_bernoulli_vcm$(nsims)reps_sim.csv\", ','))\n",
    "fittimes_QC = vec(readdlm(\"fittimes_multivariate_bernoulli_vcm$(nsims)reps_sim.csv\", ','))"
   ]
  },
  {
   "cell_type": "code",
   "execution_count": 5,
   "metadata": {},
   "outputs": [
    {
     "data": {
      "text/plain": [
       "1800-element Vector{Float64}:\n",
       "  0.247938658\n",
       "  0.01929033\n",
       "  0.014074019\n",
       "  0.016461462\n",
       "  0.020443718\n",
       "  0.017979338\n",
       "  0.016160009\n",
       "  0.023247547\n",
       "  0.015181878\n",
       "  0.01595746\n",
       "  0.016262179\n",
       "  0.024043614\n",
       "  0.019092196\n",
       "  ⋮\n",
       " 27.756085686\n",
       " 26.965856933\n",
       " 39.471145488\n",
       " 26.570753079\n",
       " 27.878388015\n",
       " 30.554666255\n",
       " 31.893723418\n",
       " 23.905423347\n",
       " 34.035876823\n",
       " 21.203298535\n",
       " 28.654518836\n",
       " 27.854601006"
      ]
     },
     "execution_count": 5,
     "metadata": {},
     "output_type": "execute_result"
    }
   ],
   "source": [
    "fittimes_GLMM = vec(readdlm(\"fittimes_GLMM_multivariate_bernoulli_vcm$(nsims)reps_sim.csv\", ','))"
   ]
  },
  {
   "cell_type": "code",
   "execution_count": 6,
   "metadata": {},
   "outputs": [
    {
     "name": "stderr",
     "output_type": "stream",
     "text": [
      "┌ Info: making results table Quasi-Copula\n",
      "└ @ Main In[6]:2\n"
     ]
    },
    {
     "data": {
      "text/html": [
       "<div class=\"data-frame\"><p>18 rows × 8 columns</p><table class=\"data-frame\"><thead><tr><th></th><th>samplesize</th><th>obssize</th><th>fittime</th><th>se</th><th>nobs</th><th>fitmin</th><th>fitmax</th><th>perobsratio</th></tr><tr><th></th><th title=\"String\">String</th><th title=\"String\">String</th><th title=\"Float64\">Float64</th><th title=\"Float64\">Float64</th><th title=\"Int64\">Int64</th><th title=\"Float64\">Float64</th><th title=\"Float64\">Float64</th><th title=\"Float64\">Float64</th></tr></thead><tbody><tr><th>1</th><td>100</td><td>2</td><td>0.0478559</td><td>0.000326082</td><td>200</td><td>0.0475299</td><td>0.0485081</td><td>0.00023928</td></tr><tr><th>2</th><td>100</td><td>5</td><td>0.0489067</td><td>0.000793404</td><td>500</td><td>0.0481133</td><td>0.0504935</td><td>9.78133e-5</td></tr><tr><th>3</th><td>100</td><td>10</td><td>0.0498064</td><td>0.00113739</td><td>1000</td><td>0.048669</td><td>0.0520812</td><td>4.98064e-5</td></tr><tr><th>4</th><td>100</td><td>15</td><td>0.0485724</td><td>0.00111099</td><td>1500</td><td>0.0474614</td><td>0.0507944</td><td>3.23816e-5</td></tr><tr><th>5</th><td>100</td><td>20</td><td>0.0470536</td><td>0.00093152</td><td>2000</td><td>0.0461221</td><td>0.0489166</td><td>2.35268e-5</td></tr><tr><th>6</th><td>100</td><td>25</td><td>0.0466939</td><td>0.000823466</td><td>2500</td><td>0.0458705</td><td>0.0483409</td><td>1.86776e-5</td></tr><tr><th>7</th><td>1000</td><td>2</td><td>0.0449828</td><td>0.00104264</td><td>2000</td><td>0.0439401</td><td>0.0470681</td><td>2.24914e-5</td></tr><tr><th>8</th><td>1000</td><td>5</td><td>0.0446954</td><td>0.00108942</td><td>5000</td><td>0.0436059</td><td>0.0468742</td><td>8.93907e-6</td></tr><tr><th>9</th><td>1000</td><td>10</td><td>0.0434371</td><td>0.000930105</td><td>10000</td><td>0.042507</td><td>0.0452973</td><td>4.34371e-6</td></tr><tr><th>10</th><td>1000</td><td>15</td><td>0.0441097</td><td>0.00100974</td><td>15000</td><td>0.0431</td><td>0.0461292</td><td>2.94065e-6</td></tr><tr><th>11</th><td>1000</td><td>20</td><td>0.0537863</td><td>0.00179438</td><td>20000</td><td>0.0519919</td><td>0.057375</td><td>2.68931e-6</td></tr><tr><th>12</th><td>1000</td><td>25</td><td>0.0769028</td><td>0.00183231</td><td>25000</td><td>0.0750705</td><td>0.0805674</td><td>3.07611e-6</td></tr><tr><th>13</th><td>10000</td><td>2</td><td>0.137684</td><td>0.00262676</td><td>20000</td><td>0.135057</td><td>0.142937</td><td>6.88418e-6</td></tr><tr><th>14</th><td>10000</td><td>5</td><td>0.159612</td><td>0.00278959</td><td>50000</td><td>0.156822</td><td>0.165191</td><td>3.19223e-6</td></tr><tr><th>15</th><td>10000</td><td>10</td><td>0.188655</td><td>0.0026058</td><td>100000</td><td>0.186049</td><td>0.193867</td><td>1.88655e-6</td></tr><tr><th>16</th><td>10000</td><td>15</td><td>0.231841</td><td>0.00269388</td><td>150000</td><td>0.229148</td><td>0.237229</td><td>1.54561e-6</td></tr><tr><th>17</th><td>10000</td><td>20</td><td>0.27643</td><td>0.00280505</td><td>200000</td><td>0.273625</td><td>0.28204</td><td>1.38215e-6</td></tr><tr><th>18</th><td>10000</td><td>25</td><td>0.348918</td><td>0.00288815</td><td>250000</td><td>0.34603</td><td>0.354695</td><td>1.39567e-6</td></tr></tbody></table></div>"
      ],
      "text/latex": [
       "\\begin{tabular}{r|cccccccc}\n",
       "\t& samplesize & obssize & fittime & se & nobs & fitmin & fitmax & perobsratio\\\\\n",
       "\t\\hline\n",
       "\t& String & String & Float64 & Float64 & Int64 & Float64 & Float64 & Float64\\\\\n",
       "\t\\hline\n",
       "\t1 & 100 & 2 & 0.0478559 & 0.000326082 & 200 & 0.0475299 & 0.0485081 & 0.00023928 \\\\\n",
       "\t2 & 100 & 5 & 0.0489067 & 0.000793404 & 500 & 0.0481133 & 0.0504935 & 9.78133e-5 \\\\\n",
       "\t3 & 100 & 10 & 0.0498064 & 0.00113739 & 1000 & 0.048669 & 0.0520812 & 4.98064e-5 \\\\\n",
       "\t4 & 100 & 15 & 0.0485724 & 0.00111099 & 1500 & 0.0474614 & 0.0507944 & 3.23816e-5 \\\\\n",
       "\t5 & 100 & 20 & 0.0470536 & 0.00093152 & 2000 & 0.0461221 & 0.0489166 & 2.35268e-5 \\\\\n",
       "\t6 & 100 & 25 & 0.0466939 & 0.000823466 & 2500 & 0.0458705 & 0.0483409 & 1.86776e-5 \\\\\n",
       "\t7 & 1000 & 2 & 0.0449828 & 0.00104264 & 2000 & 0.0439401 & 0.0470681 & 2.24914e-5 \\\\\n",
       "\t8 & 1000 & 5 & 0.0446954 & 0.00108942 & 5000 & 0.0436059 & 0.0468742 & 8.93907e-6 \\\\\n",
       "\t9 & 1000 & 10 & 0.0434371 & 0.000930105 & 10000 & 0.042507 & 0.0452973 & 4.34371e-6 \\\\\n",
       "\t10 & 1000 & 15 & 0.0441097 & 0.00100974 & 15000 & 0.0431 & 0.0461292 & 2.94065e-6 \\\\\n",
       "\t11 & 1000 & 20 & 0.0537863 & 0.00179438 & 20000 & 0.0519919 & 0.057375 & 2.68931e-6 \\\\\n",
       "\t12 & 1000 & 25 & 0.0769028 & 0.00183231 & 25000 & 0.0750705 & 0.0805674 & 3.07611e-6 \\\\\n",
       "\t13 & 10000 & 2 & 0.137684 & 0.00262676 & 20000 & 0.135057 & 0.142937 & 6.88418e-6 \\\\\n",
       "\t14 & 10000 & 5 & 0.159612 & 0.00278959 & 50000 & 0.156822 & 0.165191 & 3.19223e-6 \\\\\n",
       "\t15 & 10000 & 10 & 0.188655 & 0.0026058 & 100000 & 0.186049 & 0.193867 & 1.88655e-6 \\\\\n",
       "\t16 & 10000 & 15 & 0.231841 & 0.00269388 & 150000 & 0.229148 & 0.237229 & 1.54561e-6 \\\\\n",
       "\t17 & 10000 & 20 & 0.27643 & 0.00280505 & 200000 & 0.273625 & 0.28204 & 1.38215e-6 \\\\\n",
       "\t18 & 10000 & 25 & 0.348918 & 0.00288815 & 250000 & 0.34603 & 0.354695 & 1.39567e-6 \\\\\n",
       "\\end{tabular}\n"
      ],
      "text/plain": [
       "\u001b[1m18×8 DataFrame\u001b[0m\n",
       "\u001b[1m Row \u001b[0m│\u001b[1m samplesize \u001b[0m\u001b[1m obssize \u001b[0m\u001b[1m fittime   \u001b[0m\u001b[1m se          \u001b[0m\u001b[1m nobs   \u001b[0m\u001b[1m fitmin    \u001b[0m\u001b[1m fitmax \u001b[0m ⋯\n",
       "\u001b[1m     \u001b[0m│\u001b[90m String     \u001b[0m\u001b[90m String  \u001b[0m\u001b[90m Float64   \u001b[0m\u001b[90m Float64     \u001b[0m\u001b[90m Int64  \u001b[0m\u001b[90m Float64   \u001b[0m\u001b[90m Float64\u001b[0m ⋯\n",
       "─────┼──────────────────────────────────────────────────────────────────────────\n",
       "   1 │ 100         2        0.0478559  0.000326082     200  0.0475299  0.04850 ⋯\n",
       "   2 │ 100         5        0.0489067  0.000793404     500  0.0481133  0.05049\n",
       "   3 │ 100         10       0.0498064  0.00113739     1000  0.048669   0.05208\n",
       "   4 │ 100         15       0.0485724  0.00111099     1500  0.0474614  0.05079\n",
       "   5 │ 100         20       0.0470536  0.00093152     2000  0.0461221  0.04891 ⋯\n",
       "   6 │ 100         25       0.0466939  0.000823466    2500  0.0458705  0.04834\n",
       "   7 │ 1000        2        0.0449828  0.00104264     2000  0.0439401  0.04706\n",
       "   8 │ 1000        5        0.0446954  0.00108942     5000  0.0436059  0.04687\n",
       "   9 │ 1000        10       0.0434371  0.000930105   10000  0.042507   0.04529 ⋯\n",
       "  10 │ 1000        15       0.0441097  0.00100974    15000  0.0431     0.04612\n",
       "  11 │ 1000        20       0.0537863  0.00179438    20000  0.0519919  0.05737\n",
       "  12 │ 1000        25       0.0769028  0.00183231    25000  0.0750705  0.08056\n",
       "  13 │ 10000       2        0.137684   0.00262676    20000  0.135057   0.14293 ⋯\n",
       "  14 │ 10000       5        0.159612   0.00278959    50000  0.156822   0.16519\n",
       "  15 │ 10000       10       0.188655   0.0026058    100000  0.186049   0.19386\n",
       "  16 │ 10000       15       0.231841   0.00269388   150000  0.229148   0.23722\n",
       "  17 │ 10000       20       0.27643    0.00280505   200000  0.273625   0.28204 ⋯\n",
       "  18 │ 10000       25       0.348918   0.00288815   250000  0.34603    0.35469\n",
       "\u001b[36m                                                               2 columns omitted\u001b[0m"
      ]
     },
     "execution_count": 6,
     "metadata": {},
     "output_type": "execute_result"
    }
   ],
   "source": [
    "#simulation parameters\n",
    "@info \"making results table Quasi-Copula\"\n",
    "sample_sizes = repeat(string.(samplesizes), inner = nsims * length(ns))\n",
    "obs_sizes = repeat(string.(ns), inner = nsims, outer = length(samplesizes))\n",
    "\n",
    "msedf = DataFrame(samplesize = sample_sizes, obssize = obs_sizes, fittimes = fittimes_QC)\n",
    "timedf1 = combine(groupby(msedf, [:samplesize, :obssize]), :fittimes => mean => :fittime,\n",
    "    :fittimes => x -> (std(x)/sqrt(length(x))))\n",
    "rename!(timedf1, Dict(:fittimes_function => \"se\"))\n",
    "timedf1[!, :nobs] = Meta.parse.(timedf1[!, :samplesize]) .* Meta.parse.(timedf1[!, :obssize])\n",
    "timedf1[!, :fitmin] = timedf1[!, :fittime] - timedf1[!, :se]\n",
    "timedf1[!, :fitmax] = timedf1[!, :fittime] + 2 * timedf1[!, :se]\n",
    "timedf1[!, :perobsratio] = timedf1[!, :fittime] ./ timedf1[!, :nobs]\n",
    "timedf1"
   ]
  },
  {
   "cell_type": "code",
   "execution_count": 7,
   "metadata": {},
   "outputs": [
    {
     "name": "stderr",
     "output_type": "stream",
     "text": [
      "┌ Info: making results table GLMM\n",
      "└ @ Main In[7]:2\n"
     ]
    },
    {
     "data": {
      "text/html": [
       "<div class=\"data-frame\"><p>18 rows × 8 columns</p><table class=\"data-frame\"><thead><tr><th></th><th>samplesize</th><th>obssize</th><th>fittime</th><th>se</th><th>nobs</th><th>fitmin</th><th>fitmax</th><th>perobsratio</th></tr><tr><th></th><th title=\"String\">String</th><th title=\"String\">String</th><th title=\"Float64\">Float64</th><th title=\"Float64\">Float64</th><th title=\"Int64\">Int64</th><th title=\"Float64\">Float64</th><th title=\"Float64\">Float64</th><th title=\"Float64\">Float64</th></tr></thead><tbody><tr><th>1</th><td>100</td><td>2</td><td>0.0219714</td><td>0.00232309</td><td>200</td><td>0.0196483</td><td>0.0242945</td><td>0.000109857</td></tr><tr><th>2</th><td>100</td><td>5</td><td>0.0409134</td><td>0.00130456</td><td>500</td><td>0.0396088</td><td>0.0422179</td><td>8.18267e-5</td></tr><tr><th>3</th><td>100</td><td>10</td><td>0.0857956</td><td>0.00402017</td><td>1000</td><td>0.0817754</td><td>0.0898158</td><td>8.57956e-5</td></tr><tr><th>4</th><td>100</td><td>15</td><td>0.125158</td><td>0.00510749</td><td>1500</td><td>0.120051</td><td>0.130266</td><td>8.34389e-5</td></tr><tr><th>5</th><td>100</td><td>20</td><td>0.167439</td><td>0.00521372</td><td>2000</td><td>0.162225</td><td>0.172652</td><td>8.37193e-5</td></tr><tr><th>6</th><td>100</td><td>25</td><td>0.202711</td><td>0.00764084</td><td>2500</td><td>0.19507</td><td>0.210351</td><td>8.10842e-5</td></tr><tr><th>7</th><td>1000</td><td>2</td><td>0.16559</td><td>0.00333898</td><td>2000</td><td>0.162251</td><td>0.168929</td><td>8.27952e-5</td></tr><tr><th>8</th><td>1000</td><td>5</td><td>0.446179</td><td>0.0133558</td><td>5000</td><td>0.432823</td><td>0.459535</td><td>8.92357e-5</td></tr><tr><th>9</th><td>1000</td><td>10</td><td>0.898596</td><td>0.0223745</td><td>10000</td><td>0.876222</td><td>0.920971</td><td>8.98596e-5</td></tr><tr><th>10</th><td>1000</td><td>15</td><td>1.435</td><td>0.0381002</td><td>15000</td><td>1.3969</td><td>1.4731</td><td>9.56665e-5</td></tr><tr><th>11</th><td>1000</td><td>20</td><td>1.88834</td><td>0.0405241</td><td>20000</td><td>1.84782</td><td>1.92886</td><td>9.4417e-5</td></tr><tr><th>12</th><td>1000</td><td>25</td><td>2.46081</td><td>0.0568522</td><td>25000</td><td>2.40396</td><td>2.51767</td><td>9.84325e-5</td></tr><tr><th>13</th><td>10000</td><td>2</td><td>1.72585</td><td>0.0344906</td><td>20000</td><td>1.69136</td><td>1.76034</td><td>8.62926e-5</td></tr><tr><th>14</th><td>10000</td><td>5</td><td>4.71111</td><td>0.09895</td><td>50000</td><td>4.61216</td><td>4.81006</td><td>9.42222e-5</td></tr><tr><th>15</th><td>10000</td><td>10</td><td>10.3889</td><td>0.221366</td><td>100000</td><td>10.1675</td><td>10.6102</td><td>0.000103889</td></tr><tr><th>16</th><td>10000</td><td>15</td><td>15.9583</td><td>0.327155</td><td>150000</td><td>15.6311</td><td>16.2854</td><td>0.000106389</td></tr><tr><th>17</th><td>10000</td><td>20</td><td>21.6093</td><td>0.312963</td><td>200000</td><td>21.2964</td><td>21.9223</td><td>0.000108047</td></tr><tr><th>18</th><td>10000</td><td>25</td><td>28.7228</td><td>0.493792</td><td>250000</td><td>28.229</td><td>29.2166</td><td>0.000114891</td></tr></tbody></table></div>"
      ],
      "text/latex": [
       "\\begin{tabular}{r|cccccccc}\n",
       "\t& samplesize & obssize & fittime & se & nobs & fitmin & fitmax & perobsratio\\\\\n",
       "\t\\hline\n",
       "\t& String & String & Float64 & Float64 & Int64 & Float64 & Float64 & Float64\\\\\n",
       "\t\\hline\n",
       "\t1 & 100 & 2 & 0.0219714 & 0.00232309 & 200 & 0.0196483 & 0.0242945 & 0.000109857 \\\\\n",
       "\t2 & 100 & 5 & 0.0409134 & 0.00130456 & 500 & 0.0396088 & 0.0422179 & 8.18267e-5 \\\\\n",
       "\t3 & 100 & 10 & 0.0857956 & 0.00402017 & 1000 & 0.0817754 & 0.0898158 & 8.57956e-5 \\\\\n",
       "\t4 & 100 & 15 & 0.125158 & 0.00510749 & 1500 & 0.120051 & 0.130266 & 8.34389e-5 \\\\\n",
       "\t5 & 100 & 20 & 0.167439 & 0.00521372 & 2000 & 0.162225 & 0.172652 & 8.37193e-5 \\\\\n",
       "\t6 & 100 & 25 & 0.202711 & 0.00764084 & 2500 & 0.19507 & 0.210351 & 8.10842e-5 \\\\\n",
       "\t7 & 1000 & 2 & 0.16559 & 0.00333898 & 2000 & 0.162251 & 0.168929 & 8.27952e-5 \\\\\n",
       "\t8 & 1000 & 5 & 0.446179 & 0.0133558 & 5000 & 0.432823 & 0.459535 & 8.92357e-5 \\\\\n",
       "\t9 & 1000 & 10 & 0.898596 & 0.0223745 & 10000 & 0.876222 & 0.920971 & 8.98596e-5 \\\\\n",
       "\t10 & 1000 & 15 & 1.435 & 0.0381002 & 15000 & 1.3969 & 1.4731 & 9.56665e-5 \\\\\n",
       "\t11 & 1000 & 20 & 1.88834 & 0.0405241 & 20000 & 1.84782 & 1.92886 & 9.4417e-5 \\\\\n",
       "\t12 & 1000 & 25 & 2.46081 & 0.0568522 & 25000 & 2.40396 & 2.51767 & 9.84325e-5 \\\\\n",
       "\t13 & 10000 & 2 & 1.72585 & 0.0344906 & 20000 & 1.69136 & 1.76034 & 8.62926e-5 \\\\\n",
       "\t14 & 10000 & 5 & 4.71111 & 0.09895 & 50000 & 4.61216 & 4.81006 & 9.42222e-5 \\\\\n",
       "\t15 & 10000 & 10 & 10.3889 & 0.221366 & 100000 & 10.1675 & 10.6102 & 0.000103889 \\\\\n",
       "\t16 & 10000 & 15 & 15.9583 & 0.327155 & 150000 & 15.6311 & 16.2854 & 0.000106389 \\\\\n",
       "\t17 & 10000 & 20 & 21.6093 & 0.312963 & 200000 & 21.2964 & 21.9223 & 0.000108047 \\\\\n",
       "\t18 & 10000 & 25 & 28.7228 & 0.493792 & 250000 & 28.229 & 29.2166 & 0.000114891 \\\\\n",
       "\\end{tabular}\n"
      ],
      "text/plain": [
       "\u001b[1m18×8 DataFrame\u001b[0m\n",
       "\u001b[1m Row \u001b[0m│\u001b[1m samplesize \u001b[0m\u001b[1m obssize \u001b[0m\u001b[1m fittime    \u001b[0m\u001b[1m se         \u001b[0m\u001b[1m nobs   \u001b[0m\u001b[1m fitmin     \u001b[0m\u001b[1m fitmax\u001b[0m ⋯\n",
       "\u001b[1m     \u001b[0m│\u001b[90m String     \u001b[0m\u001b[90m String  \u001b[0m\u001b[90m Float64    \u001b[0m\u001b[90m Float64    \u001b[0m\u001b[90m Int64  \u001b[0m\u001b[90m Float64    \u001b[0m\u001b[90m Float6\u001b[0m ⋯\n",
       "─────┼──────────────────────────────────────────────────────────────────────────\n",
       "   1 │ 100         2         0.0219714  0.00232309     200   0.0196483   0.024 ⋯\n",
       "   2 │ 100         5         0.0409134  0.00130456     500   0.0396088   0.042\n",
       "   3 │ 100         10        0.0857956  0.00402017    1000   0.0817754   0.089\n",
       "   4 │ 100         15        0.125158   0.00510749    1500   0.120051    0.130\n",
       "   5 │ 100         20        0.167439   0.00521372    2000   0.162225    0.172 ⋯\n",
       "   6 │ 100         25        0.202711   0.00764084    2500   0.19507     0.210\n",
       "   7 │ 1000        2         0.16559    0.00333898    2000   0.162251    0.168\n",
       "   8 │ 1000        5         0.446179   0.0133558     5000   0.432823    0.459\n",
       "   9 │ 1000        10        0.898596   0.0223745    10000   0.876222    0.920 ⋯\n",
       "  10 │ 1000        15        1.435      0.0381002    15000   1.3969      1.473\n",
       "  11 │ 1000        20        1.88834    0.0405241    20000   1.84782     1.928\n",
       "  12 │ 1000        25        2.46081    0.0568522    25000   2.40396     2.517\n",
       "  13 │ 10000       2         1.72585    0.0344906    20000   1.69136     1.760 ⋯\n",
       "  14 │ 10000       5         4.71111    0.09895      50000   4.61216     4.810\n",
       "  15 │ 10000       10       10.3889     0.221366    100000  10.1675     10.610\n",
       "  16 │ 10000       15       15.9583     0.327155    150000  15.6311     16.285\n",
       "  17 │ 10000       20       21.6093     0.312963    200000  21.2964     21.922 ⋯\n",
       "  18 │ 10000       25       28.7228     0.493792    250000  28.229      29.216\n",
       "\u001b[36m                                                               2 columns omitted\u001b[0m"
      ]
     },
     "execution_count": 7,
     "metadata": {},
     "output_type": "execute_result"
    }
   ],
   "source": [
    "#simulation parameters\n",
    "@info \"making results table GLMM\"\n",
    "sample_sizes = repeat(string.(samplesizes), inner = nsims * length(ns))\n",
    "obs_sizes = repeat(string.(ns), inner = nsims, outer = length(samplesizes))\n",
    "\n",
    "msedf = DataFrame(samplesize = sample_sizes, obssize = obs_sizes, fittimes = fittimes_GLMM)\n",
    "timedf2 = combine(groupby(msedf, [:samplesize, :obssize]), :fittimes => mean => :fittime,\n",
    "    :fittimes => x -> (std(x)/sqrt(length(x))))\n",
    "rename!(timedf2, Dict(:fittimes_function => \"se\"))\n",
    "timedf2[!, :nobs] = Meta.parse.(timedf2[!, :samplesize]) .* Meta.parse.(timedf2[!, :obssize])\n",
    "timedf2[!, :fitmin] = timedf2[!, :fittime] - timedf2[!, :se]\n",
    "timedf2[!, :fitmax] = timedf2[!, :fittime] + timedf2[!, :se]\n",
    "timedf2[!, :perobsratio] = timedf2[!, :fittime] ./ timedf2[!, :nobs]\n",
    "timedf2"
   ]
  },
  {
   "cell_type": "code",
   "execution_count": 8,
   "metadata": {},
   "outputs": [
    {
     "data": {
      "text/html": [
       "<div class=\"data-frame\"><p>18 rows × 5 columns</p><table class=\"data-frame\"><thead><tr><th></th><th>people_obs</th><th>β1</th><th>β2</th><th>β3</th><th>θ1</th></tr><tr><th></th><th title=\"String\">String</th><th title=\"Tuple{Float64, Float64}\">Tuple…</th><th title=\"Tuple{Float64, Float64}\">Tuple…</th><th title=\"Tuple{Float64, Float64}\">Tuple…</th><th title=\"Tuple{Float64, Float64}\">Tuple…</th></tr></thead><tbody><tr><th>1</th><td>N: 100  ni: 2</td><td>(0.78, 0.0416333)</td><td>(0.78, 0.0416333)</td><td>(0.8, 0.0402015)</td><td>(0.96, 0.0196946)</td></tr><tr><th>2</th><td>N: 100  ni: 5</td><td>(0.68, 0.0468826)</td><td>(0.79, 0.040936)</td><td>(0.83, 0.0377525)</td><td>(0.98, 0.0140705)</td></tr><tr><th>3</th><td>N: 100  ni: 10</td><td>(0.77, 0.0422953)</td><td>(0.77, 0.0422953)</td><td>(0.85, 0.035887)</td><td>(0.96, 0.0196946)</td></tr><tr><th>4</th><td>N: 100  ni: 15</td><td>(0.84, 0.0368453)</td><td>(0.85, 0.035887)</td><td>(0.89, 0.0314466)</td><td>(0.91, 0.0287623)</td></tr><tr><th>5</th><td>N: 100  ni: 20</td><td>(0.91, 0.0287623)</td><td>(0.86, 0.0348735)</td><td>(0.87, 0.0337998)</td><td>(0.82, 0.0386123)</td></tr><tr><th>6</th><td>N: 100  ni: 25</td><td>(0.83, 0.0377525)</td><td>(0.76, 0.0429235)</td><td>(0.79, 0.040936)</td><td>(0.74, 0.0440844)</td></tr><tr><th>7</th><td>N: 1000  ni: 2</td><td>(0.79, 0.040936)</td><td>(0.81, 0.0394277)</td><td>(0.82, 0.0386123)</td><td>(0.96, 0.0196946)</td></tr><tr><th>8</th><td>N: 1000  ni: 5</td><td>(0.79, 0.040936)</td><td>(0.81, 0.0394277)</td><td>(0.78, 0.0416333)</td><td>(0.83, 0.0377525)</td></tr><tr><th>9</th><td>N: 1000  ni: 10</td><td>(0.84, 0.0368453)</td><td>(0.8, 0.0402015)</td><td>(0.82, 0.0386123)</td><td>(0.47, 0.0501614)</td></tr><tr><th>10</th><td>N: 1000  ni: 15</td><td>(0.87, 0.0337998)</td><td>(0.84, 0.0368453)</td><td>(0.84, 0.0368453)</td><td>(0.32, 0.0468826)</td></tr><tr><th>11</th><td>N: 1000  ni: 20</td><td>(0.87, 0.0337998)</td><td>(0.85, 0.035887)</td><td>(0.84, 0.0368453)</td><td>(0.2, 0.0402015)</td></tr><tr><th>12</th><td>N: 1000  ni: 25</td><td>(0.91, 0.0287623)</td><td>(0.93, 0.0256432)</td><td>(0.88, 0.0326599)</td><td>(0.07, 0.0256432)</td></tr><tr><th>13</th><td>N: 10000  ni: 2</td><td>(0.73, 0.0446196)</td><td>(0.75, 0.0435194)</td><td>(0.83, 0.0377525)</td><td>(0.86, 0.0348735)</td></tr><tr><th>14</th><td>N: 10000  ni: 5</td><td>(0.86, 0.0348735)</td><td>(0.81, 0.0394277)</td><td>(0.87, 0.0337998)</td><td>(0.3, 0.0460566)</td></tr><tr><th>15</th><td>N: 10000  ni: 10</td><td>(0.96, 0.0196946)</td><td>(0.86, 0.0348735)</td><td>(0.82, 0.0386123)</td><td>(0.0, 0.0)</td></tr><tr><th>16</th><td>N: 10000  ni: 15</td><td>(0.95, 0.0219043)</td><td>(0.83, 0.0377525)</td><td>(0.83, 0.0377525)</td><td>(0.0, 0.0)</td></tr><tr><th>17</th><td>N: 10000  ni: 20</td><td>(0.93, 0.0256432)</td><td>(0.84, 0.0368453)</td><td>(0.81, 0.0394277)</td><td>(0.0, 0.0)</td></tr><tr><th>18</th><td>N: 10000  ni: 25</td><td>(0.97, 0.0171447)</td><td>(0.77, 0.0422953)</td><td>(0.73, 0.0446196)</td><td>(0.0, 0.0)</td></tr></tbody></table></div>"
      ],
      "text/latex": [
       "\\begin{tabular}{r|ccccc}\n",
       "\t& people\\_obs & β1 & β2 & β3 & θ1\\\\\n",
       "\t\\hline\n",
       "\t& String & Tuple… & Tuple… & Tuple… & Tuple…\\\\\n",
       "\t\\hline\n",
       "\t1 & N: 100  ni: 2 & (0.78, 0.0416333) & (0.78, 0.0416333) & (0.8, 0.0402015) & (0.96, 0.0196946) \\\\\n",
       "\t2 & N: 100  ni: 5 & (0.68, 0.0468826) & (0.79, 0.040936) & (0.83, 0.0377525) & (0.98, 0.0140705) \\\\\n",
       "\t3 & N: 100  ni: 10 & (0.77, 0.0422953) & (0.77, 0.0422953) & (0.85, 0.035887) & (0.96, 0.0196946) \\\\\n",
       "\t4 & N: 100  ni: 15 & (0.84, 0.0368453) & (0.85, 0.035887) & (0.89, 0.0314466) & (0.91, 0.0287623) \\\\\n",
       "\t5 & N: 100  ni: 20 & (0.91, 0.0287623) & (0.86, 0.0348735) & (0.87, 0.0337998) & (0.82, 0.0386123) \\\\\n",
       "\t6 & N: 100  ni: 25 & (0.83, 0.0377525) & (0.76, 0.0429235) & (0.79, 0.040936) & (0.74, 0.0440844) \\\\\n",
       "\t7 & N: 1000  ni: 2 & (0.79, 0.040936) & (0.81, 0.0394277) & (0.82, 0.0386123) & (0.96, 0.0196946) \\\\\n",
       "\t8 & N: 1000  ni: 5 & (0.79, 0.040936) & (0.81, 0.0394277) & (0.78, 0.0416333) & (0.83, 0.0377525) \\\\\n",
       "\t9 & N: 1000  ni: 10 & (0.84, 0.0368453) & (0.8, 0.0402015) & (0.82, 0.0386123) & (0.47, 0.0501614) \\\\\n",
       "\t10 & N: 1000  ni: 15 & (0.87, 0.0337998) & (0.84, 0.0368453) & (0.84, 0.0368453) & (0.32, 0.0468826) \\\\\n",
       "\t11 & N: 1000  ni: 20 & (0.87, 0.0337998) & (0.85, 0.035887) & (0.84, 0.0368453) & (0.2, 0.0402015) \\\\\n",
       "\t12 & N: 1000  ni: 25 & (0.91, 0.0287623) & (0.93, 0.0256432) & (0.88, 0.0326599) & (0.07, 0.0256432) \\\\\n",
       "\t13 & N: 10000  ni: 2 & (0.73, 0.0446196) & (0.75, 0.0435194) & (0.83, 0.0377525) & (0.86, 0.0348735) \\\\\n",
       "\t14 & N: 10000  ni: 5 & (0.86, 0.0348735) & (0.81, 0.0394277) & (0.87, 0.0337998) & (0.3, 0.0460566) \\\\\n",
       "\t15 & N: 10000  ni: 10 & (0.96, 0.0196946) & (0.86, 0.0348735) & (0.82, 0.0386123) & (0.0, 0.0) \\\\\n",
       "\t16 & N: 10000  ni: 15 & (0.95, 0.0219043) & (0.83, 0.0377525) & (0.83, 0.0377525) & (0.0, 0.0) \\\\\n",
       "\t17 & N: 10000  ni: 20 & (0.93, 0.0256432) & (0.84, 0.0368453) & (0.81, 0.0394277) & (0.0, 0.0) \\\\\n",
       "\t18 & N: 10000  ni: 25 & (0.97, 0.0171447) & (0.77, 0.0422953) & (0.73, 0.0446196) & (0.0, 0.0) \\\\\n",
       "\\end{tabular}\n"
      ],
      "text/plain": [
       "\u001b[1m18×5 DataFrame\u001b[0m\n",
       "\u001b[1m Row \u001b[0m│\u001b[1m people_obs       \u001b[0m\u001b[1m β1                \u001b[0m\u001b[1m β2                \u001b[0m\u001b[1m β3             \u001b[0m ⋯\n",
       "\u001b[1m     \u001b[0m│\u001b[90m String           \u001b[0m\u001b[90m Tuple…            \u001b[0m\u001b[90m Tuple…            \u001b[0m\u001b[90m Tuple…         \u001b[0m ⋯\n",
       "─────┼──────────────────────────────────────────────────────────────────────────\n",
       "   1 │ N: 100  ni: 2     (0.78, 0.0416333)  (0.78, 0.0416333)  (0.8, 0.0402015 ⋯\n",
       "   2 │ N: 100  ni: 5     (0.68, 0.0468826)  (0.79, 0.040936)   (0.83, 0.037752\n",
       "   3 │ N: 100  ni: 10    (0.77, 0.0422953)  (0.77, 0.0422953)  (0.85, 0.035887\n",
       "   4 │ N: 100  ni: 15    (0.84, 0.0368453)  (0.85, 0.035887)   (0.89, 0.031446\n",
       "   5 │ N: 100  ni: 20    (0.91, 0.0287623)  (0.86, 0.0348735)  (0.87, 0.033799 ⋯\n",
       "   6 │ N: 100  ni: 25    (0.83, 0.0377525)  (0.76, 0.0429235)  (0.79, 0.040936\n",
       "   7 │ N: 1000  ni: 2    (0.79, 0.040936)   (0.81, 0.0394277)  (0.82, 0.038612\n",
       "   8 │ N: 1000  ni: 5    (0.79, 0.040936)   (0.81, 0.0394277)  (0.78, 0.041633\n",
       "   9 │ N: 1000  ni: 10   (0.84, 0.0368453)  (0.8, 0.0402015)   (0.82, 0.038612 ⋯\n",
       "  10 │ N: 1000  ni: 15   (0.87, 0.0337998)  (0.84, 0.0368453)  (0.84, 0.036845\n",
       "  11 │ N: 1000  ni: 20   (0.87, 0.0337998)  (0.85, 0.035887)   (0.84, 0.036845\n",
       "  12 │ N: 1000  ni: 25   (0.91, 0.0287623)  (0.93, 0.0256432)  (0.88, 0.032659\n",
       "  13 │ N: 10000  ni: 2   (0.73, 0.0446196)  (0.75, 0.0435194)  (0.83, 0.037752 ⋯\n",
       "  14 │ N: 10000  ni: 5   (0.86, 0.0348735)  (0.81, 0.0394277)  (0.87, 0.033799\n",
       "  15 │ N: 10000  ni: 10  (0.96, 0.0196946)  (0.86, 0.0348735)  (0.82, 0.038612\n",
       "  16 │ N: 10000  ni: 15  (0.95, 0.0219043)  (0.83, 0.0377525)  (0.83, 0.037752\n",
       "  17 │ N: 10000  ni: 20  (0.93, 0.0256432)  (0.84, 0.0368453)  (0.81, 0.039427 ⋯\n",
       "  18 │ N: 10000  ni: 25  (0.97, 0.0171447)  (0.77, 0.0422953)  (0.73, 0.044619\n",
       "\u001b[36m                                                               2 columns omitted\u001b[0m"
      ]
     },
     "execution_count": 8,
     "metadata": {},
     "output_type": "execute_result"
    }
   ],
   "source": [
    "######  supplementary table s1\n",
    "using Random, DataFrames, DelimitedFiles, Statistics\n",
    "import StatsBase: sem\n",
    "\n",
    "βθcoverage = readdlm(\"beta_theta_coverage_multivariate_bernoulli_vcm$(nsims)reps_sim.csv\", ',')\n",
    "\n",
    "m = 1\n",
    "\n",
    "covdf = DataFrame(Matrix(transpose(βθcoverage)), :auto)\n",
    "rename!(covdf, Symbol.([[\"β$i\" for i in 1:p]; [\"θ$i\" for i in 1:m]]))\n",
    "covdf[!, :samplesize] = sample_sizes\n",
    "covdf[!, :obssize] = obs_sizes\n",
    "first(covdf, 10)\n",
    "\n",
    "row_stats = [[(mean(col), sem(col)) for col = eachcol(d[!, 1:end-2])] for d = groupby(covdf, [:samplesize; :obssize])]\n",
    "df = DataFrame(row_stats, :auto)\n",
    "ss_obs = unique(\"N: \" .* sample_sizes .* \"  ni: \" .* obs_sizes)\n",
    "rename!(df, Symbol.(ss_obs))\n",
    "covdfdisplay = DataFrame([[names(df)]; collect.(eachrow(df))], \n",
    "    [:people_obs; Symbol.([[\"β$i\" for i in 1:p]; [\"θ$i\" for i in 1:m]])])\n",
    "# deletecols!(covdfdisplay, p + 2)\n",
    "covdfdisplay\n"
   ]
  },
  {
   "cell_type": "code",
   "execution_count": 9,
   "metadata": {},
   "outputs": [
    {
     "data": {
      "text/html": [
       "<div class=\"data-frame\"><p>7,200 rows × 5 columns</p><table class=\"data-frame\"><thead><tr><th></th><th>mse</th><th>obssize</th><th>samplesize</th><th>parameters</th><th>robust</th></tr><tr><th></th><th title=\"Float64\">Float64</th><th title=\"String\">String</th><th title=\"String\">String</th><th title=\"String\">String</th><th title=\"String\">String</th></tr></thead><tbody><tr><th>1</th><td>0.014126</td><td>2</td><td>100</td><td>beta</td><td>Bernoulli Quasi-Copula</td></tr><tr><th>2</th><td>0.02135</td><td>2</td><td>100</td><td>beta</td><td>Bernoulli Quasi-Copula</td></tr><tr><th>3</th><td>0.0167018</td><td>2</td><td>100</td><td>beta</td><td>Bernoulli Quasi-Copula</td></tr><tr><th>4</th><td>0.0564457</td><td>2</td><td>100</td><td>beta</td><td>Bernoulli Quasi-Copula</td></tr><tr><th>5</th><td>0.0208587</td><td>2</td><td>100</td><td>beta</td><td>Bernoulli Quasi-Copula</td></tr><tr><th>6</th><td>0.0208102</td><td>2</td><td>100</td><td>beta</td><td>Bernoulli Quasi-Copula</td></tr><tr><th>7</th><td>0.028725</td><td>2</td><td>100</td><td>beta</td><td>Bernoulli Quasi-Copula</td></tr><tr><th>8</th><td>0.037671</td><td>2</td><td>100</td><td>beta</td><td>Bernoulli Quasi-Copula</td></tr><tr><th>9</th><td>0.00984151</td><td>2</td><td>100</td><td>beta</td><td>Bernoulli Quasi-Copula</td></tr><tr><th>10</th><td>0.0605283</td><td>2</td><td>100</td><td>beta</td><td>Bernoulli Quasi-Copula</td></tr><tr><th>11</th><td>0.00957072</td><td>2</td><td>100</td><td>beta</td><td>Bernoulli Quasi-Copula</td></tr><tr><th>12</th><td>0.00225629</td><td>2</td><td>100</td><td>beta</td><td>Bernoulli Quasi-Copula</td></tr><tr><th>13</th><td>0.0224859</td><td>2</td><td>100</td><td>beta</td><td>Bernoulli Quasi-Copula</td></tr><tr><th>14</th><td>0.0116963</td><td>2</td><td>100</td><td>beta</td><td>Bernoulli Quasi-Copula</td></tr><tr><th>15</th><td>0.00358347</td><td>2</td><td>100</td><td>beta</td><td>Bernoulli Quasi-Copula</td></tr><tr><th>16</th><td>0.0030772</td><td>2</td><td>100</td><td>beta</td><td>Bernoulli Quasi-Copula</td></tr><tr><th>17</th><td>0.0120613</td><td>2</td><td>100</td><td>beta</td><td>Bernoulli Quasi-Copula</td></tr><tr><th>18</th><td>0.018912</td><td>2</td><td>100</td><td>beta</td><td>Bernoulli Quasi-Copula</td></tr><tr><th>19</th><td>0.000369638</td><td>2</td><td>100</td><td>beta</td><td>Bernoulli Quasi-Copula</td></tr><tr><th>20</th><td>0.0316749</td><td>2</td><td>100</td><td>beta</td><td>Bernoulli Quasi-Copula</td></tr><tr><th>21</th><td>0.00473093</td><td>2</td><td>100</td><td>beta</td><td>Bernoulli Quasi-Copula</td></tr><tr><th>22</th><td>0.0316084</td><td>2</td><td>100</td><td>beta</td><td>Bernoulli Quasi-Copula</td></tr><tr><th>23</th><td>0.00898684</td><td>2</td><td>100</td><td>beta</td><td>Bernoulli Quasi-Copula</td></tr><tr><th>24</th><td>0.0210236</td><td>2</td><td>100</td><td>beta</td><td>Bernoulli Quasi-Copula</td></tr><tr><th>25</th><td>0.025244</td><td>2</td><td>100</td><td>beta</td><td>Bernoulli Quasi-Copula</td></tr><tr><th>26</th><td>0.0176693</td><td>2</td><td>100</td><td>beta</td><td>Bernoulli Quasi-Copula</td></tr><tr><th>27</th><td>0.00114346</td><td>2</td><td>100</td><td>beta</td><td>Bernoulli Quasi-Copula</td></tr><tr><th>28</th><td>0.00382734</td><td>2</td><td>100</td><td>beta</td><td>Bernoulli Quasi-Copula</td></tr><tr><th>29</th><td>0.0147815</td><td>2</td><td>100</td><td>beta</td><td>Bernoulli Quasi-Copula</td></tr><tr><th>30</th><td>0.0106263</td><td>2</td><td>100</td><td>beta</td><td>Bernoulli Quasi-Copula</td></tr><tr><th>&vellip;</th><td>&vellip;</td><td>&vellip;</td><td>&vellip;</td><td>&vellip;</td><td>&vellip;</td></tr></tbody></table></div>"
      ],
      "text/latex": [
       "\\begin{tabular}{r|ccccc}\n",
       "\t& mse & obssize & samplesize & parameters & robust\\\\\n",
       "\t\\hline\n",
       "\t& Float64 & String & String & String & String\\\\\n",
       "\t\\hline\n",
       "\t1 & 0.014126 & 2 & 100 & beta & Bernoulli Quasi-Copula \\\\\n",
       "\t2 & 0.02135 & 2 & 100 & beta & Bernoulli Quasi-Copula \\\\\n",
       "\t3 & 0.0167018 & 2 & 100 & beta & Bernoulli Quasi-Copula \\\\\n",
       "\t4 & 0.0564457 & 2 & 100 & beta & Bernoulli Quasi-Copula \\\\\n",
       "\t5 & 0.0208587 & 2 & 100 & beta & Bernoulli Quasi-Copula \\\\\n",
       "\t6 & 0.0208102 & 2 & 100 & beta & Bernoulli Quasi-Copula \\\\\n",
       "\t7 & 0.028725 & 2 & 100 & beta & Bernoulli Quasi-Copula \\\\\n",
       "\t8 & 0.037671 & 2 & 100 & beta & Bernoulli Quasi-Copula \\\\\n",
       "\t9 & 0.00984151 & 2 & 100 & beta & Bernoulli Quasi-Copula \\\\\n",
       "\t10 & 0.0605283 & 2 & 100 & beta & Bernoulli Quasi-Copula \\\\\n",
       "\t11 & 0.00957072 & 2 & 100 & beta & Bernoulli Quasi-Copula \\\\\n",
       "\t12 & 0.00225629 & 2 & 100 & beta & Bernoulli Quasi-Copula \\\\\n",
       "\t13 & 0.0224859 & 2 & 100 & beta & Bernoulli Quasi-Copula \\\\\n",
       "\t14 & 0.0116963 & 2 & 100 & beta & Bernoulli Quasi-Copula \\\\\n",
       "\t15 & 0.00358347 & 2 & 100 & beta & Bernoulli Quasi-Copula \\\\\n",
       "\t16 & 0.0030772 & 2 & 100 & beta & Bernoulli Quasi-Copula \\\\\n",
       "\t17 & 0.0120613 & 2 & 100 & beta & Bernoulli Quasi-Copula \\\\\n",
       "\t18 & 0.018912 & 2 & 100 & beta & Bernoulli Quasi-Copula \\\\\n",
       "\t19 & 0.000369638 & 2 & 100 & beta & Bernoulli Quasi-Copula \\\\\n",
       "\t20 & 0.0316749 & 2 & 100 & beta & Bernoulli Quasi-Copula \\\\\n",
       "\t21 & 0.00473093 & 2 & 100 & beta & Bernoulli Quasi-Copula \\\\\n",
       "\t22 & 0.0316084 & 2 & 100 & beta & Bernoulli Quasi-Copula \\\\\n",
       "\t23 & 0.00898684 & 2 & 100 & beta & Bernoulli Quasi-Copula \\\\\n",
       "\t24 & 0.0210236 & 2 & 100 & beta & Bernoulli Quasi-Copula \\\\\n",
       "\t25 & 0.025244 & 2 & 100 & beta & Bernoulli Quasi-Copula \\\\\n",
       "\t26 & 0.0176693 & 2 & 100 & beta & Bernoulli Quasi-Copula \\\\\n",
       "\t27 & 0.00114346 & 2 & 100 & beta & Bernoulli Quasi-Copula \\\\\n",
       "\t28 & 0.00382734 & 2 & 100 & beta & Bernoulli Quasi-Copula \\\\\n",
       "\t29 & 0.0147815 & 2 & 100 & beta & Bernoulli Quasi-Copula \\\\\n",
       "\t30 & 0.0106263 & 2 & 100 & beta & Bernoulli Quasi-Copula \\\\\n",
       "\t$\\dots$ & $\\dots$ & $\\dots$ & $\\dots$ & $\\dots$ & $\\dots$ \\\\\n",
       "\\end{tabular}\n"
      ],
      "text/plain": [
       "\u001b[1m7200×5 DataFrame\u001b[0m\n",
       "\u001b[1m  Row \u001b[0m│\u001b[1m mse        \u001b[0m\u001b[1m obssize \u001b[0m\u001b[1m samplesize \u001b[0m\u001b[1m parameters \u001b[0m\u001b[1m robust                 \u001b[0m\n",
       "\u001b[1m      \u001b[0m│\u001b[90m Float64    \u001b[0m\u001b[90m String  \u001b[0m\u001b[90m String     \u001b[0m\u001b[90m String     \u001b[0m\u001b[90m String                 \u001b[0m\n",
       "──────┼─────────────────────────────────────────────────────────────────────\n",
       "    1 │ 0.014126    2        100         beta        Bernoulli Quasi-Copula\n",
       "    2 │ 0.02135     2        100         beta        Bernoulli Quasi-Copula\n",
       "    3 │ 0.0167018   2        100         beta        Bernoulli Quasi-Copula\n",
       "    4 │ 0.0564457   2        100         beta        Bernoulli Quasi-Copula\n",
       "    5 │ 0.0208587   2        100         beta        Bernoulli Quasi-Copula\n",
       "    6 │ 0.0208102   2        100         beta        Bernoulli Quasi-Copula\n",
       "    7 │ 0.028725    2        100         beta        Bernoulli Quasi-Copula\n",
       "    8 │ 0.037671    2        100         beta        Bernoulli Quasi-Copula\n",
       "    9 │ 0.00984151  2        100         beta        Bernoulli Quasi-Copula\n",
       "   10 │ 0.0605283   2        100         beta        Bernoulli Quasi-Copula\n",
       "   11 │ 0.00957072  2        100         beta        Bernoulli Quasi-Copula\n",
       "  ⋮   │     ⋮          ⋮         ⋮           ⋮                 ⋮\n",
       " 7191 │ 1.53708e-6  25       10000       theta       Bernoulli GLMM\n",
       " 7192 │ 4.84018e-6  25       10000       theta       Bernoulli GLMM\n",
       " 7193 │ 3.24422e-6  25       10000       theta       Bernoulli GLMM\n",
       " 7194 │ 5.33088e-7  25       10000       theta       Bernoulli GLMM\n",
       " 7195 │ 1.68534e-5  25       10000       theta       Bernoulli GLMM\n",
       " 7196 │ 2.13186e-6  25       10000       theta       Bernoulli GLMM\n",
       " 7197 │ 1.39044e-5  25       10000       theta       Bernoulli GLMM\n",
       " 7198 │ 4.26457e-6  25       10000       theta       Bernoulli GLMM\n",
       " 7199 │ 4.62915e-7  25       10000       theta       Bernoulli GLMM\n",
       " 7200 │ 1.33624e-7  25       10000       theta       Bernoulli GLMM\n",
       "\u001b[36m                                                           7179 rows omitted\u001b[0m"
      ]
     },
     "execution_count": 9,
     "metadata": {},
     "output_type": "execute_result"
    }
   ],
   "source": [
    "#### \n",
    "#import data and reorganize to create figure\n",
    "using Random, DataFrames, DelimitedFiles, Statistics, RCall, Printf\n",
    "import StatsBase: sem\n",
    "\n",
    "βMseresult = vec(readdlm(\"mse_beta_multivariate_bernoulli_vcm$(nsims)reps_sim.csv\", ','))\n",
    "θMseresult = vec(readdlm(\"mse_theta_multivariate_bernoulli_vcm$(nsims)reps_sim.csv\", ','))\n",
    "\n",
    "βMseresult_GLMM = vec(readdlm(\"mse_beta_GLMM_multivariate_bernoulli_vcm$(nsims)reps_sim.csv\", ','))\n",
    "θMseresult_GLMM = vec(readdlm(\"mse_theta_GLMM_multivariate_bernoulli_vcm$(nsims)reps_sim.csv\", ','))\n",
    "\n",
    "\n",
    "p = 3; m = 1\n",
    "sample_sizes = repeat(string.(samplesizes), inner = nsims * length(ns))\n",
    "obs_sizes = repeat(string.(ns), inner = nsims, outer = length(samplesizes))\n",
    "msedf1 = DataFrame(βmse = βMseresult, thetamse = θMseresult, \n",
    "    samplesize = sample_sizes, obssize = obs_sizes)\n",
    "\n",
    "msedf2 = DataFrame(βmse = βMseresult_GLMM, thetamse = θMseresult_GLMM, \n",
    "    samplesize = sample_sizes, obssize = obs_sizes)\n",
    "\n",
    "#rename to make parsing easier for R.\n",
    "\n",
    "msedf1 = deepcopy(msedf1)\n",
    "rename!(msedf1, [\"betamse\"\n",
    "    \"thetamse\"\n",
    "    \"samplesize\"\n",
    " \"obssize\"]);\n",
    "\n",
    "msedf2 = deepcopy(msedf2)\n",
    "rename!(msedf2, [\"betamse\"\n",
    "    \"thetamse\"\n",
    "    \"samplesize\"\n",
    " \"obssize\"]);\n",
    "\n",
    "mses = [msedf1[!, :betamse]; msedf1[!, :thetamse]; msedf2[!, :betamse]; msedf2[!, :thetamse]]\n",
    "    # msedfnormR[!, :betamse]; msedfnormR[!, :taumse]; msedfnormR[!, :Sigmamse]]\n",
    "obssize = [collect([repeat(msedf1[!, :obssize], 2)]...) ; collect([repeat(msedf2[!, :obssize], 2)]...)]\n",
    "#40\n",
    "samplesize = [collect([repeat(msedf1[!, :samplesize], 2)]...) ; collect([repeat(msedf2[!, :samplesize], 2)]...)]\n",
    "\n",
    "parameters = [collect([repeat(string.([:beta, :theta]), inner = nsims * length(ns) * length(samplesizes))]...) ; collect([repeat(string.([:beta, :theta]), inner = nsims * length(ns) * length(samplesizes))]...)]\n",
    "robust = [collect([repeat([\"Bernoulli Quasi-Copula\"], 2 * nsims * length(ns) * length(samplesizes))]...); collect([repeat([\"Bernoulli GLMM\"],  2 * nsims * length(ns) * length(samplesizes))]...)]\n",
    "\n",
    "msedfR = DataFrame(mse = mses, obssize = obssize, samplesize = samplesize,\n",
    "    parameters = parameters, robust = robust)\n",
    "\n",
    "#5 of the 30,000 simulations did not converge, filter out\n",
    "msedfR = filter(x -> !isnan(x.mse), msedfR)\n",
    "# additionally, there are 5 where an error was not caught so it did not try a differnt solver\n",
    "msedfR = filter(x -> x.mse < 40000, msedfR)"
   ]
  },
  {
   "cell_type": "code",
   "execution_count": 10,
   "metadata": {},
   "outputs": [
    {
     "name": "stderr",
     "output_type": "stream",
     "text": [
      "┌ Warning: RCall.jl: Warning: package ‘scales’ was built under R version 4.0.2\n",
      "└ @ RCall /Users/sarahji/.julia/packages/RCall/6kphM/src/io.jl:172\n",
      "┌ Warning: RCall.jl: Warning: package ‘ggplot2’ was built under R version 4.0.2\n",
      "└ @ RCall /Users/sarahji/.julia/packages/RCall/6kphM/src/io.jl:172\n",
      "┌ Warning: RCall.jl: Warning: package ‘data.table’ was built under R version 4.0.2\n",
      "└ @ RCall /Users/sarahji/.julia/packages/RCall/6kphM/src/io.jl:172\n"
     ]
    },
    {
     "data": {
      "image/png": "[encoded data removed]"
     },
     "metadata": {},
     "output_type": "display_data"
    },
    {
     "data": {
      "text/plain": [
       "RObject{VecSxp}\n"
      ]
     },
     "execution_count": 10,
     "metadata": {},
     "output_type": "execute_result"
    }
   ],
   "source": [
    "### working on figure next\n",
    "@rput msedfR\n",
    "\n",
    "R\"\"\"\n",
    "library(scales)\n",
    "library(ggplot2)\n",
    "library(data.table)\n",
    "\n",
    "msedfR = data.table(msedfR)\n",
    "\n",
    "msedfR[parameters == \"beta\",y_min := 10^-6]\n",
    "msedfR[parameters == \"beta\",y_max := 10^0]\n",
    "msedfR[parameters == \"theta\",y_min := 10^-5]\n",
    "msedfR[parameters == \"theta\",y_max := 10^1]\n",
    "\n",
    "#msedfR[parameters == \"beta\",y_min := 10^-8]\n",
    "#msedfR[parameters == \"beta\",y_max := 10^-2]\n",
    "#msedfR[parameters == \"tau\",y_min := 10^-8]\n",
    "#msedfR[parameters == \"tau\",y_max := 10^-2]\n",
    "#msedfR[parameters == \"Sigma\",y_min := 10^-5]\n",
    "#msedfR[parameters == \"Sigma\",y_max := 10^-2]\n",
    "\n",
    "\n",
    "msedfR$obssize = factor(msedfR$obssize, levels = c('2', '5', '10', '15', '20', '25'))\n",
    "msedfR$samplesize = factor(msedfR$samplesize, levels = c('100', '1000', '10000'))\n",
    "msedfR$parameters = factor(msedfR$parameters, levels = c('beta', 'theta'), labels = c(beta = expression(hat(bold(beta))), theta = expression(hat(bold(theta))[])))\n",
    "msedfR$robust <- factor(msedfR$robust, levels = c('Bernoulli Quasi-Copula', 'Bernoulli GLMM'),\n",
    "    labels = c(expression(paste(\"Bernoulli Quasi-Copula\")), expression(paste(\"Bernoulli GLMM\"))))\n",
    "\n",
    "\n",
    "#mseplot <- ggplot(msedfR[msedfR$mse < 10^0, ], aes(x=samplesize, y=mse, fill=obssize)) + \n",
    "mseplot = ggplot(msedfR[msedfR$mse < 10^3, ], aes(x=samplesize, y=mse, fill=obssize)) + \n",
    "  #geom_boxplot(outlier.size = 0.0, outlier.alpha = 0) +\n",
    "  geom_boxplot(outlier.size = 0.25) +\n",
    "#    geom_violin() +\n",
    "    facet_grid(parameters ~ robust, labeller = label_parsed, scales = \"free_y\") +\n",
    "  theme(legend.position=\"right\", legend.key = element_blank(), axis.text.x = element_text(angle=0, size=30),\n",
    "        axis.text.y = element_text(angle=0, size=30), axis.title.x = element_text(size = 30, face=\"bold\"), \n",
    "        axis.title.y = element_text(size = 40, face=\"bold\"), legend.title = element_text(size = 30, face=\"bold\"),\n",
    "        panel.grid.major = element_blank(), panel.grid.minor = element_blank(),\n",
    "        legend.text=element_text(size=30), panel.background = element_rect(fill = NA, color = \"black\"),\n",
    "        #panel.background = element_blank(), #panel.border = element_blank(),\n",
    "        axis.line = element_line(color = 'black',size=0.3), plot.title = element_text(hjust = 0.5),\n",
    "        strip.background = element_rect(colour=\"black\", fill=\"white\"), strip.text.y = element_text(angle = 0, size=75, face=\"bold\"),\n",
    "        strip.text.x = element_text(size=25)) + \n",
    "  scale_fill_manual(values = c(\"#c85f55\",\n",
    "\"#a964bf\",\n",
    "\"#8db352\",\n",
    "\"#fa7300\",\n",
    "\"#05aec0\",\n",
    "\"#ff1493\")) +\n",
    "#scale_y_log10(breaks = scales::trans_breaks(\"log10\", function(x) 10^x)) +\n",
    "#scale_y_log10(breaks = 10^(-8:8), limit=c(10^-8, 10^2)) + \n",
    "scale_y_log10(breaks = 10^seq(-10, 10, 2), labels=trans_format(\"log10\", math_format(10^.x))) + #, limit=c(10^-8, 10^2)) +\n",
    "  labs(x = \"Sample Size\", y = \"MSE of Parameter Estimates\", fill = \"Cluster Size\") +\n",
    "geom_blank(aes(y = y_max)) + \n",
    "geom_blank(aes(y = y_min)) \n",
    "\"\"\""
   ]
  },
  {
   "cell_type": "code",
   "execution_count": 11,
   "metadata": {},
   "outputs": [
    {
     "data": {
      "text/plain": [
       "RObject{StrSxp}\n",
       "[1] \"updated_msefacetplot_bernoulli_sim2_1.png\"\n"
      ]
     },
     "execution_count": 11,
     "metadata": {},
     "output_type": "execute_result"
    }
   ],
   "source": [
    "R\"\"\"\n",
    "    ggsave('updated_msefacetplot_bernoulli_sim2_1.png', mseplot, width = 20, height = 15, units = 'in', dpi = 450)\n",
    "\"\"\""
   ]
  }
 ],
 "metadata": {
  "@webio": {
   "lastCommId": null,
   "lastKernelId": null
  },
  "kernelspec": {
   "display_name": "Julia 1.6.2",
   "language": "julia",
   "name": "julia-1.6"
  },
  "language_info": {
   "file_extension": ".jl",
   "mimetype": "application/julia",
   "name": "julia",
   "version": "1.6.2"
  }
 },
 "nbformat": 4,
 "nbformat_minor": 2
}
