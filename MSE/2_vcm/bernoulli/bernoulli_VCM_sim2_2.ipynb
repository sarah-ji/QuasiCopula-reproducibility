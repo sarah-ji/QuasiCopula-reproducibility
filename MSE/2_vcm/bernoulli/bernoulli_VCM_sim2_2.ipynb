{
 "cells": [
  {
   "cell_type": "markdown",
   "metadata": {},
   "source": [
    "## Bernoulli VCM Results \n",
    "\n",
    "\n",
    "This notebook goes over the code needed to reproduce the results from the MSE and time figures for the Bernoulli base distribution with Logit Link and covariance matrix $\\Gamma$ structured under variance component model framework as follows:\n",
    "\n",
    "$$\n",
    "\\Gamma = 0.05 * \\mathbf{1_{n} 1_{n}^\\top}\n",
    "$$\n",
    "\n",
    "In this example simulate three fixed effects under the random intercept Bernoulli GLMM with $\\beta \\sim$ rand(Uniform(-0.2, 0.2), p) where p = 3 fixed effects.\n",
    "\n",
    "We use multi-threading on 8 threads to obtain these MSE results on the following machine, and include MSE results from 100 simulation runs comparing the fit of ours with that of the random intercept Bernoulli GLMM from MixedModels.jl for each scenario."
   ]
  },
  {
   "cell_type": "code",
   "execution_count": 1,
   "metadata": {},
   "outputs": [
    {
     "name": "stdout",
     "output_type": "stream",
     "text": [
      "Julia Version 1.6.2\n",
      "Commit 1b93d53fc4 (2021-07-14 15:36 UTC)\n",
      "Platform Info:\n",
      "  OS: macOS (x86_64-apple-darwin18.7.0)\n",
      "  CPU: Intel(R) Core(TM) i9-9880H CPU @ 2.30GHz\n",
      "  WORD_SIZE: 64\n",
      "  LIBM: libopenlibm\n",
      "  LLVM: libLLVM-11.0.1 (ORCJIT, skylake)\n"
     ]
    }
   ],
   "source": [
    "versioninfo()"
   ]
  },
  {
   "cell_type": "code",
   "execution_count": 2,
   "metadata": {},
   "outputs": [],
   "source": [
    "using QuasiCopula, DelimitedFiles, LinearAlgebra, Random, GLM\n",
    "using DataFrames"
   ]
  },
  {
   "cell_type": "code",
   "execution_count": 3,
   "metadata": {},
   "outputs": [],
   "source": [
    "p = 3    # number of fixed effects, including intercept\n",
    "m = 1    # number of variance components\n",
    "# true parameter values\n",
    "Random.seed!(12345)\n",
    "βtrue = rand(Uniform(-0.2, 0.2), p)\n",
    "θtrue = [0.05]\n",
    "\n",
    "# generate data\n",
    "intervals = zeros(p + m, 2) #hold intervals\n",
    "curcoverage = zeros(p + m) #hold current coverage resutls\n",
    "trueparams = [βtrue; θtrue] #hold true parameters\n",
    "\n",
    "#simulation parameters\n",
    "samplesizes = [100; 1000; 10000]\n",
    "ns = [2; 5; 10; 15; 20; 25]\n",
    "nsims = 100;"
   ]
  },
  {
   "cell_type": "code",
   "execution_count": 4,
   "metadata": {},
   "outputs": [
    {
     "name": "stderr",
     "output_type": "stream",
     "text": [
      "┌ Info: reading in the files with results\n",
      "└ @ Main In[4]:1\n"
     ]
    },
    {
     "data": {
      "text/plain": [
       "1800-element Vector{Float64}:\n",
       " 0.027200007\n",
       " 0.037857988\n",
       " 0.048340829\n",
       " 0.04812458\n",
       " 0.048136661\n",
       " 0.047766269\n",
       " 0.047653026\n",
       " 0.04784408\n",
       " 0.048614202\n",
       " 0.048087671\n",
       " 0.048073588\n",
       " 0.048517491\n",
       " 0.048114259\n",
       " ⋮\n",
       " 0.441330149\n",
       " 0.387843663\n",
       " 0.393265267\n",
       " 0.38557996\n",
       " 0.376162398\n",
       " 0.493107289\n",
       " 0.385484919\n",
       " 0.4007312\n",
       " 0.430611425\n",
       " 0.375098755\n",
       " 0.389490245\n",
       " 0.406034782"
      ]
     },
     "execution_count": 4,
     "metadata": {},
     "output_type": "execute_result"
    }
   ],
   "source": [
    "@info \"reading in the files with results\"\n",
    "βMseresult = vec(readdlm(\"mse_beta_multivariate_bernoulli_vcm$(nsims)reps_sim.csv\", ','))\n",
    "θMseresult = vec(readdlm(\"mse_theta_multivariate_bernoulli_vcm$(nsims)reps_sim.csv\", ','))\n",
    "fittimes_QC = vec(readdlm(\"fittimes_multivariate_bernoulli_vcm$(nsims)reps_sim.csv\", ','))"
   ]
  },
  {
   "cell_type": "code",
   "execution_count": 5,
   "metadata": {},
   "outputs": [
    {
     "data": {
      "text/plain": [
       "1800-element Vector{Float64}:\n",
       "  0.252320116\n",
       "  0.027442846\n",
       "  0.017966262\n",
       "  0.024278307\n",
       "  0.019063381\n",
       "  0.026357706\n",
       "  0.018093877\n",
       "  0.018976363\n",
       "  0.01453913\n",
       "  0.020573255\n",
       "  0.036323203\n",
       "  0.020283798\n",
       "  0.018653192\n",
       "  ⋮\n",
       " 26.029762357\n",
       " 22.963963669\n",
       " 33.611061998\n",
       " 36.346347006\n",
       " 20.154686183\n",
       " 26.492029745\n",
       " 27.44610387\n",
       " 17.640329666\n",
       " 27.079334965\n",
       " 22.432638205\n",
       " 25.804773422\n",
       " 20.981835473"
      ]
     },
     "execution_count": 5,
     "metadata": {},
     "output_type": "execute_result"
    }
   ],
   "source": [
    "fittimes_GLMM = vec(readdlm(\"fittimes_GLMM_multivariate_bernoulli_vcm$(nsims)reps_sim.csv\", ','))"
   ]
  },
  {
   "cell_type": "code",
   "execution_count": 6,
   "metadata": {},
   "outputs": [
    {
     "name": "stderr",
     "output_type": "stream",
     "text": [
      "┌ Info: making results table Quasi-Copula\n",
      "└ @ Main In[6]:2\n"
     ]
    },
    {
     "data": {
      "text/html": [
       "<div class=\"data-frame\"><p>18 rows × 8 columns</p><table class=\"data-frame\"><thead><tr><th></th><th>samplesize</th><th>obssize</th><th>fittime</th><th>se</th><th>nobs</th><th>fitmin</th><th>fitmax</th><th>perobsratio</th></tr><tr><th></th><th title=\"String\">String</th><th title=\"String\">String</th><th title=\"Float64\">Float64</th><th title=\"Float64\">Float64</th><th title=\"Int64\">Int64</th><th title=\"Float64\">Float64</th><th title=\"Float64\">Float64</th><th title=\"Float64\">Float64</th></tr></thead><tbody><tr><th>1</th><td>100</td><td>2</td><td>0.0474216</td><td>0.000233284</td><td>200</td><td>0.0471884</td><td>0.0478882</td><td>0.000237108</td></tr><tr><th>2</th><td>100</td><td>5</td><td>0.0487347</td><td>0.000899157</td><td>500</td><td>0.0478355</td><td>0.050533</td><td>9.74694e-5</td></tr><tr><th>3</th><td>100</td><td>10</td><td>0.0502037</td><td>0.00118082</td><td>1000</td><td>0.0490229</td><td>0.0525653</td><td>5.02037e-5</td></tr><tr><th>4</th><td>100</td><td>15</td><td>0.0415672</td><td>0.00117311</td><td>1500</td><td>0.0403941</td><td>0.0439134</td><td>2.77114e-5</td></tr><tr><th>5</th><td>100</td><td>20</td><td>0.0481895</td><td>0.00106262</td><td>2000</td><td>0.0471269</td><td>0.0503147</td><td>2.40948e-5</td></tr><tr><th>6</th><td>100</td><td>25</td><td>0.0468265</td><td>0.000909173</td><td>2500</td><td>0.0459173</td><td>0.0486448</td><td>1.87306e-5</td></tr><tr><th>7</th><td>1000</td><td>2</td><td>0.0457953</td><td>0.0012483</td><td>2000</td><td>0.044547</td><td>0.0482919</td><td>2.28977e-5</td></tr><tr><th>8</th><td>1000</td><td>5</td><td>0.0436489</td><td>0.00101221</td><td>5000</td><td>0.0426367</td><td>0.0456734</td><td>8.72979e-6</td></tr><tr><th>9</th><td>1000</td><td>10</td><td>0.0423816</td><td>0.000872205</td><td>10000</td><td>0.0415094</td><td>0.044126</td><td>4.23816e-6</td></tr><tr><th>10</th><td>1000</td><td>15</td><td>0.0412137</td><td>0.000872874</td><td>15000</td><td>0.0403409</td><td>0.0429595</td><td>2.74758e-6</td></tr><tr><th>11</th><td>1000</td><td>20</td><td>0.0428637</td><td>0.0012454</td><td>20000</td><td>0.0416183</td><td>0.0453545</td><td>2.14319e-6</td></tr><tr><th>12</th><td>1000</td><td>25</td><td>0.0552282</td><td>0.00182566</td><td>25000</td><td>0.0534025</td><td>0.0588795</td><td>2.20913e-6</td></tr><tr><th>13</th><td>10000</td><td>2</td><td>0.129845</td><td>0.00223427</td><td>20000</td><td>0.127611</td><td>0.134314</td><td>6.49227e-6</td></tr><tr><th>14</th><td>10000</td><td>5</td><td>0.16339</td><td>0.00159964</td><td>50000</td><td>0.161791</td><td>0.16659</td><td>3.26781e-6</td></tr><tr><th>15</th><td>10000</td><td>10</td><td>0.208648</td><td>0.002193</td><td>100000</td><td>0.206455</td><td>0.213034</td><td>2.08648e-6</td></tr><tr><th>16</th><td>10000</td><td>15</td><td>0.261421</td><td>0.00304596</td><td>150000</td><td>0.258375</td><td>0.267513</td><td>1.74281e-6</td></tr><tr><th>17</th><td>10000</td><td>20</td><td>0.31595</td><td>0.00197304</td><td>200000</td><td>0.313977</td><td>0.319897</td><td>1.57975e-6</td></tr><tr><th>18</th><td>10000</td><td>25</td><td>0.399916</td><td>0.0030497</td><td>250000</td><td>0.396866</td><td>0.406015</td><td>1.59966e-6</td></tr></tbody></table></div>"
      ],
      "text/latex": [
       "\\begin{tabular}{r|cccccccc}\n",
       "\t& samplesize & obssize & fittime & se & nobs & fitmin & fitmax & perobsratio\\\\\n",
       "\t\\hline\n",
       "\t& String & String & Float64 & Float64 & Int64 & Float64 & Float64 & Float64\\\\\n",
       "\t\\hline\n",
       "\t1 & 100 & 2 & 0.0474216 & 0.000233284 & 200 & 0.0471884 & 0.0478882 & 0.000237108 \\\\\n",
       "\t2 & 100 & 5 & 0.0487347 & 0.000899157 & 500 & 0.0478355 & 0.050533 & 9.74694e-5 \\\\\n",
       "\t3 & 100 & 10 & 0.0502037 & 0.00118082 & 1000 & 0.0490229 & 0.0525653 & 5.02037e-5 \\\\\n",
       "\t4 & 100 & 15 & 0.0415672 & 0.00117311 & 1500 & 0.0403941 & 0.0439134 & 2.77114e-5 \\\\\n",
       "\t5 & 100 & 20 & 0.0481895 & 0.00106262 & 2000 & 0.0471269 & 0.0503147 & 2.40948e-5 \\\\\n",
       "\t6 & 100 & 25 & 0.0468265 & 0.000909173 & 2500 & 0.0459173 & 0.0486448 & 1.87306e-5 \\\\\n",
       "\t7 & 1000 & 2 & 0.0457953 & 0.0012483 & 2000 & 0.044547 & 0.0482919 & 2.28977e-5 \\\\\n",
       "\t8 & 1000 & 5 & 0.0436489 & 0.00101221 & 5000 & 0.0426367 & 0.0456734 & 8.72979e-6 \\\\\n",
       "\t9 & 1000 & 10 & 0.0423816 & 0.000872205 & 10000 & 0.0415094 & 0.044126 & 4.23816e-6 \\\\\n",
       "\t10 & 1000 & 15 & 0.0412137 & 0.000872874 & 15000 & 0.0403409 & 0.0429595 & 2.74758e-6 \\\\\n",
       "\t11 & 1000 & 20 & 0.0428637 & 0.0012454 & 20000 & 0.0416183 & 0.0453545 & 2.14319e-6 \\\\\n",
       "\t12 & 1000 & 25 & 0.0552282 & 0.00182566 & 25000 & 0.0534025 & 0.0588795 & 2.20913e-6 \\\\\n",
       "\t13 & 10000 & 2 & 0.129845 & 0.00223427 & 20000 & 0.127611 & 0.134314 & 6.49227e-6 \\\\\n",
       "\t14 & 10000 & 5 & 0.16339 & 0.00159964 & 50000 & 0.161791 & 0.16659 & 3.26781e-6 \\\\\n",
       "\t15 & 10000 & 10 & 0.208648 & 0.002193 & 100000 & 0.206455 & 0.213034 & 2.08648e-6 \\\\\n",
       "\t16 & 10000 & 15 & 0.261421 & 0.00304596 & 150000 & 0.258375 & 0.267513 & 1.74281e-6 \\\\\n",
       "\t17 & 10000 & 20 & 0.31595 & 0.00197304 & 200000 & 0.313977 & 0.319897 & 1.57975e-6 \\\\\n",
       "\t18 & 10000 & 25 & 0.399916 & 0.0030497 & 250000 & 0.396866 & 0.406015 & 1.59966e-6 \\\\\n",
       "\\end{tabular}\n"
      ],
      "text/plain": [
       "\u001b[1m18×8 DataFrame\u001b[0m\n",
       "\u001b[1m Row \u001b[0m│\u001b[1m samplesize \u001b[0m\u001b[1m obssize \u001b[0m\u001b[1m fittime   \u001b[0m\u001b[1m se          \u001b[0m\u001b[1m nobs   \u001b[0m\u001b[1m fitmin    \u001b[0m\u001b[1m fitmax \u001b[0m ⋯\n",
       "\u001b[1m     \u001b[0m│\u001b[90m String     \u001b[0m\u001b[90m String  \u001b[0m\u001b[90m Float64   \u001b[0m\u001b[90m Float64     \u001b[0m\u001b[90m Int64  \u001b[0m\u001b[90m Float64   \u001b[0m\u001b[90m Float64\u001b[0m ⋯\n",
       "─────┼──────────────────────────────────────────────────────────────────────────\n",
       "   1 │ 100         2        0.0474216  0.000233284     200  0.0471884  0.04788 ⋯\n",
       "   2 │ 100         5        0.0487347  0.000899157     500  0.0478355  0.05053\n",
       "   3 │ 100         10       0.0502037  0.00118082     1000  0.0490229  0.05256\n",
       "   4 │ 100         15       0.0415672  0.00117311     1500  0.0403941  0.04391\n",
       "   5 │ 100         20       0.0481895  0.00106262     2000  0.0471269  0.05031 ⋯\n",
       "   6 │ 100         25       0.0468265  0.000909173    2500  0.0459173  0.04864\n",
       "   7 │ 1000        2        0.0457953  0.0012483      2000  0.044547   0.04829\n",
       "   8 │ 1000        5        0.0436489  0.00101221     5000  0.0426367  0.04567\n",
       "   9 │ 1000        10       0.0423816  0.000872205   10000  0.0415094  0.04412 ⋯\n",
       "  10 │ 1000        15       0.0412137  0.000872874   15000  0.0403409  0.04295\n",
       "  11 │ 1000        20       0.0428637  0.0012454     20000  0.0416183  0.04535\n",
       "  12 │ 1000        25       0.0552282  0.00182566    25000  0.0534025  0.05887\n",
       "  13 │ 10000       2        0.129845   0.00223427    20000  0.127611   0.13431 ⋯\n",
       "  14 │ 10000       5        0.16339    0.00159964    50000  0.161791   0.16659\n",
       "  15 │ 10000       10       0.208648   0.002193     100000  0.206455   0.21303\n",
       "  16 │ 10000       15       0.261421   0.00304596   150000  0.258375   0.26751\n",
       "  17 │ 10000       20       0.31595    0.00197304   200000  0.313977   0.31989 ⋯\n",
       "  18 │ 10000       25       0.399916   0.0030497    250000  0.396866   0.40601\n",
       "\u001b[36m                                                               2 columns omitted\u001b[0m"
      ]
     },
     "execution_count": 6,
     "metadata": {},
     "output_type": "execute_result"
    }
   ],
   "source": [
    "#simulation parameters\n",
    "@info \"making results table Quasi-Copula\"\n",
    "sample_sizes = repeat(string.(samplesizes), inner = nsims * length(ns))\n",
    "obs_sizes = repeat(string.(ns), inner = nsims, outer = length(samplesizes))\n",
    "\n",
    "msedf = DataFrame(samplesize = sample_sizes, obssize = obs_sizes, fittimes = fittimes_QC)\n",
    "timedf1 = combine(groupby(msedf, [:samplesize, :obssize]), :fittimes => mean => :fittime,\n",
    "    :fittimes => x -> (std(x)/sqrt(length(x))))\n",
    "rename!(timedf1, Dict(:fittimes_function => \"se\"))\n",
    "timedf1[!, :nobs] = Meta.parse.(timedf1[!, :samplesize]) .* Meta.parse.(timedf1[!, :obssize])\n",
    "timedf1[!, :fitmin] = timedf1[!, :fittime] - timedf1[!, :se]\n",
    "timedf1[!, :fitmax] = timedf1[!, :fittime] + 2 * timedf1[!, :se]\n",
    "timedf1[!, :perobsratio] = timedf1[!, :fittime] ./ timedf1[!, :nobs]\n",
    "timedf1"
   ]
  },
  {
   "cell_type": "code",
   "execution_count": 7,
   "metadata": {},
   "outputs": [
    {
     "name": "stderr",
     "output_type": "stream",
     "text": [
      "┌ Info: making results table GLMM\n",
      "└ @ Main In[7]:2\n"
     ]
    },
    {
     "data": {
      "text/html": [
       "<div class=\"data-frame\"><p>18 rows × 8 columns</p><table class=\"data-frame\"><thead><tr><th></th><th>samplesize</th><th>obssize</th><th>fittime</th><th>se</th><th>nobs</th><th>fitmin</th><th>fitmax</th><th>perobsratio</th></tr><tr><th></th><th title=\"String\">String</th><th title=\"String\">String</th><th title=\"Float64\">Float64</th><th title=\"Float64\">Float64</th><th title=\"Int64\">Int64</th><th title=\"Float64\">Float64</th><th title=\"Float64\">Float64</th><th title=\"Float64\">Float64</th></tr></thead><tbody><tr><th>1</th><td>100</td><td>2</td><td>0.0224746</td><td>0.00235798</td><td>200</td><td>0.0201166</td><td>0.0248326</td><td>0.000112373</td></tr><tr><th>2</th><td>100</td><td>5</td><td>0.0417117</td><td>0.000926936</td><td>500</td><td>0.0407848</td><td>0.0426387</td><td>8.34234e-5</td></tr><tr><th>3</th><td>100</td><td>10</td><td>0.0863078</td><td>0.00294616</td><td>1000</td><td>0.0833616</td><td>0.0892539</td><td>8.63078e-5</td></tr><tr><th>4</th><td>100</td><td>15</td><td>0.141395</td><td>0.00471186</td><td>1500</td><td>0.136684</td><td>0.146107</td><td>9.42636e-5</td></tr><tr><th>5</th><td>100</td><td>20</td><td>0.18837</td><td>0.00603821</td><td>2000</td><td>0.182332</td><td>0.194408</td><td>9.41851e-5</td></tr><tr><th>6</th><td>100</td><td>25</td><td>0.253656</td><td>0.0105944</td><td>2500</td><td>0.243061</td><td>0.26425</td><td>0.000101462</td></tr><tr><th>7</th><td>1000</td><td>2</td><td>0.16773</td><td>0.00495854</td><td>2000</td><td>0.162772</td><td>0.172689</td><td>8.38652e-5</td></tr><tr><th>8</th><td>1000</td><td>5</td><td>0.422655</td><td>0.0122243</td><td>5000</td><td>0.41043</td><td>0.434879</td><td>8.45309e-5</td></tr><tr><th>9</th><td>1000</td><td>10</td><td>0.842538</td><td>0.0195655</td><td>10000</td><td>0.822973</td><td>0.862104</td><td>8.42538e-5</td></tr><tr><th>10</th><td>1000</td><td>15</td><td>1.27536</td><td>0.0311682</td><td>15000</td><td>1.24419</td><td>1.30653</td><td>8.50241e-5</td></tr><tr><th>11</th><td>1000</td><td>20</td><td>1.90254</td><td>0.0450993</td><td>20000</td><td>1.85744</td><td>1.94764</td><td>9.5127e-5</td></tr><tr><th>12</th><td>1000</td><td>25</td><td>2.44695</td><td>0.0575868</td><td>25000</td><td>2.38936</td><td>2.50454</td><td>9.78781e-5</td></tr><tr><th>13</th><td>10000</td><td>2</td><td>1.71975</td><td>0.0276389</td><td>20000</td><td>1.69211</td><td>1.74739</td><td>8.59875e-5</td></tr><tr><th>14</th><td>10000</td><td>5</td><td>4.18632</td><td>0.0886233</td><td>50000</td><td>4.0977</td><td>4.27495</td><td>8.37265e-5</td></tr><tr><th>15</th><td>10000</td><td>10</td><td>8.49766</td><td>0.173116</td><td>100000</td><td>8.32455</td><td>8.67078</td><td>8.49766e-5</td></tr><tr><th>16</th><td>10000</td><td>15</td><td>13.8393</td><td>0.283153</td><td>150000</td><td>13.5561</td><td>14.1224</td><td>9.22617e-5</td></tr><tr><th>17</th><td>10000</td><td>20</td><td>20.2222</td><td>0.431151</td><td>200000</td><td>19.791</td><td>20.6533</td><td>0.000101111</td></tr><tr><th>18</th><td>10000</td><td>25</td><td>25.7095</td><td>0.484973</td><td>250000</td><td>25.2245</td><td>26.1945</td><td>0.000102838</td></tr></tbody></table></div>"
      ],
      "text/latex": [
       "\\begin{tabular}{r|cccccccc}\n",
       "\t& samplesize & obssize & fittime & se & nobs & fitmin & fitmax & perobsratio\\\\\n",
       "\t\\hline\n",
       "\t& String & String & Float64 & Float64 & Int64 & Float64 & Float64 & Float64\\\\\n",
       "\t\\hline\n",
       "\t1 & 100 & 2 & 0.0224746 & 0.00235798 & 200 & 0.0201166 & 0.0248326 & 0.000112373 \\\\\n",
       "\t2 & 100 & 5 & 0.0417117 & 0.000926936 & 500 & 0.0407848 & 0.0426387 & 8.34234e-5 \\\\\n",
       "\t3 & 100 & 10 & 0.0863078 & 0.00294616 & 1000 & 0.0833616 & 0.0892539 & 8.63078e-5 \\\\\n",
       "\t4 & 100 & 15 & 0.141395 & 0.00471186 & 1500 & 0.136684 & 0.146107 & 9.42636e-5 \\\\\n",
       "\t5 & 100 & 20 & 0.18837 & 0.00603821 & 2000 & 0.182332 & 0.194408 & 9.41851e-5 \\\\\n",
       "\t6 & 100 & 25 & 0.253656 & 0.0105944 & 2500 & 0.243061 & 0.26425 & 0.000101462 \\\\\n",
       "\t7 & 1000 & 2 & 0.16773 & 0.00495854 & 2000 & 0.162772 & 0.172689 & 8.38652e-5 \\\\\n",
       "\t8 & 1000 & 5 & 0.422655 & 0.0122243 & 5000 & 0.41043 & 0.434879 & 8.45309e-5 \\\\\n",
       "\t9 & 1000 & 10 & 0.842538 & 0.0195655 & 10000 & 0.822973 & 0.862104 & 8.42538e-5 \\\\\n",
       "\t10 & 1000 & 15 & 1.27536 & 0.0311682 & 15000 & 1.24419 & 1.30653 & 8.50241e-5 \\\\\n",
       "\t11 & 1000 & 20 & 1.90254 & 0.0450993 & 20000 & 1.85744 & 1.94764 & 9.5127e-5 \\\\\n",
       "\t12 & 1000 & 25 & 2.44695 & 0.0575868 & 25000 & 2.38936 & 2.50454 & 9.78781e-5 \\\\\n",
       "\t13 & 10000 & 2 & 1.71975 & 0.0276389 & 20000 & 1.69211 & 1.74739 & 8.59875e-5 \\\\\n",
       "\t14 & 10000 & 5 & 4.18632 & 0.0886233 & 50000 & 4.0977 & 4.27495 & 8.37265e-5 \\\\\n",
       "\t15 & 10000 & 10 & 8.49766 & 0.173116 & 100000 & 8.32455 & 8.67078 & 8.49766e-5 \\\\\n",
       "\t16 & 10000 & 15 & 13.8393 & 0.283153 & 150000 & 13.5561 & 14.1224 & 9.22617e-5 \\\\\n",
       "\t17 & 10000 & 20 & 20.2222 & 0.431151 & 200000 & 19.791 & 20.6533 & 0.000101111 \\\\\n",
       "\t18 & 10000 & 25 & 25.7095 & 0.484973 & 250000 & 25.2245 & 26.1945 & 0.000102838 \\\\\n",
       "\\end{tabular}\n"
      ],
      "text/plain": [
       "\u001b[1m18×8 DataFrame\u001b[0m\n",
       "\u001b[1m Row \u001b[0m│\u001b[1m samplesize \u001b[0m\u001b[1m obssize \u001b[0m\u001b[1m fittime    \u001b[0m\u001b[1m se          \u001b[0m\u001b[1m nobs   \u001b[0m\u001b[1m fitmin     \u001b[0m\u001b[1m fitma\u001b[0m ⋯\n",
       "\u001b[1m     \u001b[0m│\u001b[90m String     \u001b[0m\u001b[90m String  \u001b[0m\u001b[90m Float64    \u001b[0m\u001b[90m Float64     \u001b[0m\u001b[90m Int64  \u001b[0m\u001b[90m Float64    \u001b[0m\u001b[90m Float\u001b[0m ⋯\n",
       "─────┼──────────────────────────────────────────────────────────────────────────\n",
       "   1 │ 100         2         0.0224746  0.00235798      200   0.0201166   0.02 ⋯\n",
       "   2 │ 100         5         0.0417117  0.000926936     500   0.0407848   0.04\n",
       "   3 │ 100         10        0.0863078  0.00294616     1000   0.0833616   0.08\n",
       "   4 │ 100         15        0.141395   0.00471186     1500   0.136684    0.14\n",
       "   5 │ 100         20        0.18837    0.00603821     2000   0.182332    0.19 ⋯\n",
       "   6 │ 100         25        0.253656   0.0105944      2500   0.243061    0.26\n",
       "   7 │ 1000        2         0.16773    0.00495854     2000   0.162772    0.17\n",
       "   8 │ 1000        5         0.422655   0.0122243      5000   0.41043     0.43\n",
       "   9 │ 1000        10        0.842538   0.0195655     10000   0.822973    0.86 ⋯\n",
       "  10 │ 1000        15        1.27536    0.0311682     15000   1.24419     1.30\n",
       "  11 │ 1000        20        1.90254    0.0450993     20000   1.85744     1.94\n",
       "  12 │ 1000        25        2.44695    0.0575868     25000   2.38936     2.50\n",
       "  13 │ 10000       2         1.71975    0.0276389     20000   1.69211     1.74 ⋯\n",
       "  14 │ 10000       5         4.18632    0.0886233     50000   4.0977      4.27\n",
       "  15 │ 10000       10        8.49766    0.173116     100000   8.32455     8.67\n",
       "  16 │ 10000       15       13.8393     0.283153     150000  13.5561     14.12\n",
       "  17 │ 10000       20       20.2222     0.431151     200000  19.791      20.65 ⋯\n",
       "  18 │ 10000       25       25.7095     0.484973     250000  25.2245     26.19\n",
       "\u001b[36m                                                               2 columns omitted\u001b[0m"
      ]
     },
     "execution_count": 7,
     "metadata": {},
     "output_type": "execute_result"
    }
   ],
   "source": [
    "#simulation parameters\n",
    "@info \"making results table GLMM\"\n",
    "sample_sizes = repeat(string.(samplesizes), inner = nsims * length(ns))\n",
    "obs_sizes = repeat(string.(ns), inner = nsims, outer = length(samplesizes))\n",
    "\n",
    "msedf = DataFrame(samplesize = sample_sizes, obssize = obs_sizes, fittimes = fittimes_GLMM)\n",
    "timedf2 = combine(groupby(msedf, [:samplesize, :obssize]), :fittimes => mean => :fittime,\n",
    "    :fittimes => x -> (std(x)/sqrt(length(x))))\n",
    "rename!(timedf2, Dict(:fittimes_function => \"se\"))\n",
    "timedf2[!, :nobs] = Meta.parse.(timedf2[!, :samplesize]) .* Meta.parse.(timedf2[!, :obssize])\n",
    "timedf2[!, :fitmin] = timedf2[!, :fittime] - timedf2[!, :se]\n",
    "timedf2[!, :fitmax] = timedf2[!, :fittime] + timedf2[!, :se]\n",
    "timedf2[!, :perobsratio] = timedf2[!, :fittime] ./ timedf2[!, :nobs]\n",
    "timedf2"
   ]
  },
  {
   "cell_type": "code",
   "execution_count": 8,
   "metadata": {},
   "outputs": [
    {
     "data": {
      "text/html": [
       "<div class=\"data-frame\"><p>18 rows × 5 columns</p><table class=\"data-frame\"><thead><tr><th></th><th>people_obs</th><th>β1</th><th>β2</th><th>β3</th><th>θ1</th></tr><tr><th></th><th title=\"String\">String</th><th title=\"Tuple{Float64, Float64}\">Tuple…</th><th title=\"Tuple{Float64, Float64}\">Tuple…</th><th title=\"Tuple{Float64, Float64}\">Tuple…</th><th title=\"Tuple{Float64, Float64}\">Tuple…</th></tr></thead><tbody><tr><th>1</th><td>N: 100  ni: 2</td><td>(0.75, 0.0435194)</td><td>(0.79, 0.040936)</td><td>(0.78, 0.0416333)</td><td>(0.94, 0.0238683)</td></tr><tr><th>2</th><td>N: 100  ni: 5</td><td>(0.73, 0.0446196)</td><td>(0.79, 0.040936)</td><td>(0.81, 0.0394277)</td><td>(0.7, 0.0460566)</td></tr><tr><th>3</th><td>N: 100  ni: 10</td><td>(0.85, 0.035887)</td><td>(0.83, 0.0377525)</td><td>(0.83, 0.0377525)</td><td>(0.37, 0.0485237)</td></tr><tr><th>4</th><td>N: 100  ni: 15</td><td>(0.9, 0.0301511)</td><td>(0.85, 0.035887)</td><td>(0.87, 0.0337998)</td><td>(0.24, 0.0429235)</td></tr><tr><th>5</th><td>N: 100  ni: 20</td><td>(0.92, 0.027266)</td><td>(0.88, 0.0326599)</td><td>(0.84, 0.0368453)</td><td>(0.18, 0.0386123)</td></tr><tr><th>6</th><td>N: 100  ni: 25</td><td>(0.88, 0.0326599)</td><td>(0.88, 0.0326599)</td><td>(0.78, 0.0416333)</td><td>(0.13, 0.0337998)</td></tr><tr><th>7</th><td>N: 1000  ni: 2</td><td>(0.76, 0.0429235)</td><td>(0.78, 0.0416333)</td><td>(0.8, 0.0402015)</td><td>(0.63, 0.0485237)</td></tr><tr><th>8</th><td>N: 1000  ni: 5</td><td>(0.86, 0.0348735)</td><td>(0.92, 0.027266)</td><td>(0.86, 0.0348735)</td><td>(0.11, 0.0314466)</td></tr><tr><th>9</th><td>N: 1000  ni: 10</td><td>(0.92, 0.027266)</td><td>(0.88, 0.0326599)</td><td>(0.86, 0.0348735)</td><td>(0.0, 0.0)</td></tr><tr><th>10</th><td>N: 1000  ni: 15</td><td>(0.92, 0.027266)</td><td>(0.84, 0.0368453)</td><td>(0.88, 0.0326599)</td><td>(0.0, 0.0)</td></tr><tr><th>11</th><td>N: 1000  ni: 20</td><td>(0.94, 0.0238683)</td><td>(0.82, 0.0386123)</td><td>(0.81, 0.0394277)</td><td>(0.0, 0.0)</td></tr><tr><th>12</th><td>N: 1000  ni: 25</td><td>(0.95, 0.0219043)</td><td>(0.89, 0.0314466)</td><td>(0.87, 0.0337998)</td><td>(0.0, 0.0)</td></tr><tr><th>13</th><td>N: 10000  ni: 2</td><td>(0.77, 0.0422953)</td><td>(0.8, 0.0402015)</td><td>(0.8, 0.0402015)</td><td>(0.04, 0.0196946)</td></tr><tr><th>14</th><td>N: 10000  ni: 5</td><td>(0.93, 0.0256432)</td><td>(0.86, 0.0348735)</td><td>(0.89, 0.0314466)</td><td>(0.0, 0.0)</td></tr><tr><th>15</th><td>N: 10000  ni: 10</td><td>(0.95, 0.0219043)</td><td>(0.86, 0.0348735)</td><td>(0.84, 0.0368453)</td><td>(0.0, 0.0)</td></tr><tr><th>16</th><td>N: 10000  ni: 15</td><td>(0.96, 0.0196946)</td><td>(0.76, 0.0429235)</td><td>(0.86, 0.0348735)</td><td>(0.0, 0.0)</td></tr><tr><th>17</th><td>N: 10000  ni: 20</td><td>(0.93, 0.0256432)</td><td>(0.82, 0.0386123)</td><td>(0.84, 0.0368453)</td><td>(0.0, 0.0)</td></tr><tr><th>18</th><td>N: 10000  ni: 25</td><td>(0.96, 0.0196946)</td><td>(0.75, 0.0435194)</td><td>(0.69, 0.0464823)</td><td>(0.0, 0.0)</td></tr></tbody></table></div>"
      ],
      "text/latex": [
       "\\begin{tabular}{r|ccccc}\n",
       "\t& people\\_obs & β1 & β2 & β3 & θ1\\\\\n",
       "\t\\hline\n",
       "\t& String & Tuple… & Tuple… & Tuple… & Tuple…\\\\\n",
       "\t\\hline\n",
       "\t1 & N: 100  ni: 2 & (0.75, 0.0435194) & (0.79, 0.040936) & (0.78, 0.0416333) & (0.94, 0.0238683) \\\\\n",
       "\t2 & N: 100  ni: 5 & (0.73, 0.0446196) & (0.79, 0.040936) & (0.81, 0.0394277) & (0.7, 0.0460566) \\\\\n",
       "\t3 & N: 100  ni: 10 & (0.85, 0.035887) & (0.83, 0.0377525) & (0.83, 0.0377525) & (0.37, 0.0485237) \\\\\n",
       "\t4 & N: 100  ni: 15 & (0.9, 0.0301511) & (0.85, 0.035887) & (0.87, 0.0337998) & (0.24, 0.0429235) \\\\\n",
       "\t5 & N: 100  ni: 20 & (0.92, 0.027266) & (0.88, 0.0326599) & (0.84, 0.0368453) & (0.18, 0.0386123) \\\\\n",
       "\t6 & N: 100  ni: 25 & (0.88, 0.0326599) & (0.88, 0.0326599) & (0.78, 0.0416333) & (0.13, 0.0337998) \\\\\n",
       "\t7 & N: 1000  ni: 2 & (0.76, 0.0429235) & (0.78, 0.0416333) & (0.8, 0.0402015) & (0.63, 0.0485237) \\\\\n",
       "\t8 & N: 1000  ni: 5 & (0.86, 0.0348735) & (0.92, 0.027266) & (0.86, 0.0348735) & (0.11, 0.0314466) \\\\\n",
       "\t9 & N: 1000  ni: 10 & (0.92, 0.027266) & (0.88, 0.0326599) & (0.86, 0.0348735) & (0.0, 0.0) \\\\\n",
       "\t10 & N: 1000  ni: 15 & (0.92, 0.027266) & (0.84, 0.0368453) & (0.88, 0.0326599) & (0.0, 0.0) \\\\\n",
       "\t11 & N: 1000  ni: 20 & (0.94, 0.0238683) & (0.82, 0.0386123) & (0.81, 0.0394277) & (0.0, 0.0) \\\\\n",
       "\t12 & N: 1000  ni: 25 & (0.95, 0.0219043) & (0.89, 0.0314466) & (0.87, 0.0337998) & (0.0, 0.0) \\\\\n",
       "\t13 & N: 10000  ni: 2 & (0.77, 0.0422953) & (0.8, 0.0402015) & (0.8, 0.0402015) & (0.04, 0.0196946) \\\\\n",
       "\t14 & N: 10000  ni: 5 & (0.93, 0.0256432) & (0.86, 0.0348735) & (0.89, 0.0314466) & (0.0, 0.0) \\\\\n",
       "\t15 & N: 10000  ni: 10 & (0.95, 0.0219043) & (0.86, 0.0348735) & (0.84, 0.0368453) & (0.0, 0.0) \\\\\n",
       "\t16 & N: 10000  ni: 15 & (0.96, 0.0196946) & (0.76, 0.0429235) & (0.86, 0.0348735) & (0.0, 0.0) \\\\\n",
       "\t17 & N: 10000  ni: 20 & (0.93, 0.0256432) & (0.82, 0.0386123) & (0.84, 0.0368453) & (0.0, 0.0) \\\\\n",
       "\t18 & N: 10000  ni: 25 & (0.96, 0.0196946) & (0.75, 0.0435194) & (0.69, 0.0464823) & (0.0, 0.0) \\\\\n",
       "\\end{tabular}\n"
      ],
      "text/plain": [
       "\u001b[1m18×5 DataFrame\u001b[0m\n",
       "\u001b[1m Row \u001b[0m│\u001b[1m people_obs       \u001b[0m\u001b[1m β1                \u001b[0m\u001b[1m β2                \u001b[0m\u001b[1m β3             \u001b[0m ⋯\n",
       "\u001b[1m     \u001b[0m│\u001b[90m String           \u001b[0m\u001b[90m Tuple…            \u001b[0m\u001b[90m Tuple…            \u001b[0m\u001b[90m Tuple…         \u001b[0m ⋯\n",
       "─────┼──────────────────────────────────────────────────────────────────────────\n",
       "   1 │ N: 100  ni: 2     (0.75, 0.0435194)  (0.79, 0.040936)   (0.78, 0.041633 ⋯\n",
       "   2 │ N: 100  ni: 5     (0.73, 0.0446196)  (0.79, 0.040936)   (0.81, 0.039427\n",
       "   3 │ N: 100  ni: 10    (0.85, 0.035887)   (0.83, 0.0377525)  (0.83, 0.037752\n",
       "   4 │ N: 100  ni: 15    (0.9, 0.0301511)   (0.85, 0.035887)   (0.87, 0.033799\n",
       "   5 │ N: 100  ni: 20    (0.92, 0.027266)   (0.88, 0.0326599)  (0.84, 0.036845 ⋯\n",
       "   6 │ N: 100  ni: 25    (0.88, 0.0326599)  (0.88, 0.0326599)  (0.78, 0.041633\n",
       "   7 │ N: 1000  ni: 2    (0.76, 0.0429235)  (0.78, 0.0416333)  (0.8, 0.0402015\n",
       "   8 │ N: 1000  ni: 5    (0.86, 0.0348735)  (0.92, 0.027266)   (0.86, 0.034873\n",
       "   9 │ N: 1000  ni: 10   (0.92, 0.027266)   (0.88, 0.0326599)  (0.86, 0.034873 ⋯\n",
       "  10 │ N: 1000  ni: 15   (0.92, 0.027266)   (0.84, 0.0368453)  (0.88, 0.032659\n",
       "  11 │ N: 1000  ni: 20   (0.94, 0.0238683)  (0.82, 0.0386123)  (0.81, 0.039427\n",
       "  12 │ N: 1000  ni: 25   (0.95, 0.0219043)  (0.89, 0.0314466)  (0.87, 0.033799\n",
       "  13 │ N: 10000  ni: 2   (0.77, 0.0422953)  (0.8, 0.0402015)   (0.8, 0.0402015 ⋯\n",
       "  14 │ N: 10000  ni: 5   (0.93, 0.0256432)  (0.86, 0.0348735)  (0.89, 0.031446\n",
       "  15 │ N: 10000  ni: 10  (0.95, 0.0219043)  (0.86, 0.0348735)  (0.84, 0.036845\n",
       "  16 │ N: 10000  ni: 15  (0.96, 0.0196946)  (0.76, 0.0429235)  (0.86, 0.034873\n",
       "  17 │ N: 10000  ni: 20  (0.93, 0.0256432)  (0.82, 0.0386123)  (0.84, 0.036845 ⋯\n",
       "  18 │ N: 10000  ni: 25  (0.96, 0.0196946)  (0.75, 0.0435194)  (0.69, 0.046482\n",
       "\u001b[36m                                                               2 columns omitted\u001b[0m"
      ]
     },
     "execution_count": 8,
     "metadata": {},
     "output_type": "execute_result"
    }
   ],
   "source": [
    "######  supplementary table s1\n",
    "using Random, DataFrames, DelimitedFiles, Statistics\n",
    "import StatsBase: sem\n",
    "\n",
    "βθcoverage = readdlm(\"beta_theta_coverage_multivariate_bernoulli_vcm$(nsims)reps_sim.csv\", ',')\n",
    "\n",
    "m  = 1\n",
    "\n",
    "covdf = DataFrame(Matrix(transpose(βθcoverage)), :auto)\n",
    "rename!(covdf, Symbol.([[\"β$i\" for i in 1:p]; [\"θ$i\" for i in 1:m]]))\n",
    "covdf[!, :samplesize] = sample_sizes\n",
    "covdf[!, :obssize] = obs_sizes\n",
    "first(covdf, 10)\n",
    "\n",
    "row_stats = [[(mean(col), sem(col)) for col = eachcol(d[!, 1:end-2])] for d = groupby(covdf, [:samplesize; :obssize])]\n",
    "df = DataFrame(row_stats, :auto)\n",
    "ss_obs = unique(\"N: \" .* sample_sizes .* \"  ni: \" .* obs_sizes)\n",
    "rename!(df, Symbol.(ss_obs))\n",
    "covdfdisplay = DataFrame([[names(df)]; collect.(eachrow(df))], \n",
    "    [:people_obs; Symbol.([[\"β$i\" for i in 1:p]; [\"θ$i\" for i in 1:m]])])\n",
    "# deletecols!(covdfdisplay, p + 2)\n",
    "covdfdisplay\n"
   ]
  },
  {
   "cell_type": "code",
   "execution_count": 9,
   "metadata": {},
   "outputs": [
    {
     "data": {
      "text/html": [
       "<div class=\"data-frame\"><p>7,200 rows × 5 columns</p><table class=\"data-frame\"><thead><tr><th></th><th>mse</th><th>obssize</th><th>samplesize</th><th>parameters</th><th>robust</th></tr><tr><th></th><th title=\"Float64\">Float64</th><th title=\"String\">String</th><th title=\"String\">String</th><th title=\"String\">String</th><th title=\"String\">String</th></tr></thead><tbody><tr><th>1</th><td>0.0238059</td><td>2</td><td>100</td><td>beta</td><td>Bernoulli Quasi-Copula</td></tr><tr><th>2</th><td>0.0135012</td><td>2</td><td>100</td><td>beta</td><td>Bernoulli Quasi-Copula</td></tr><tr><th>3</th><td>0.0135056</td><td>2</td><td>100</td><td>beta</td><td>Bernoulli Quasi-Copula</td></tr><tr><th>4</th><td>0.0912365</td><td>2</td><td>100</td><td>beta</td><td>Bernoulli Quasi-Copula</td></tr><tr><th>5</th><td>0.0163651</td><td>2</td><td>100</td><td>beta</td><td>Bernoulli Quasi-Copula</td></tr><tr><th>6</th><td>0.0218255</td><td>2</td><td>100</td><td>beta</td><td>Bernoulli Quasi-Copula</td></tr><tr><th>7</th><td>0.0299512</td><td>2</td><td>100</td><td>beta</td><td>Bernoulli Quasi-Copula</td></tr><tr><th>8</th><td>0.0290976</td><td>2</td><td>100</td><td>beta</td><td>Bernoulli Quasi-Copula</td></tr><tr><th>9</th><td>0.00556009</td><td>2</td><td>100</td><td>beta</td><td>Bernoulli Quasi-Copula</td></tr><tr><th>10</th><td>0.0742099</td><td>2</td><td>100</td><td>beta</td><td>Bernoulli Quasi-Copula</td></tr><tr><th>11</th><td>0.0114111</td><td>2</td><td>100</td><td>beta</td><td>Bernoulli Quasi-Copula</td></tr><tr><th>12</th><td>0.0126345</td><td>2</td><td>100</td><td>beta</td><td>Bernoulli Quasi-Copula</td></tr><tr><th>13</th><td>0.0160465</td><td>2</td><td>100</td><td>beta</td><td>Bernoulli Quasi-Copula</td></tr><tr><th>14</th><td>0.0185022</td><td>2</td><td>100</td><td>beta</td><td>Bernoulli Quasi-Copula</td></tr><tr><th>15</th><td>0.0061119</td><td>2</td><td>100</td><td>beta</td><td>Bernoulli Quasi-Copula</td></tr><tr><th>16</th><td>0.00211376</td><td>2</td><td>100</td><td>beta</td><td>Bernoulli Quasi-Copula</td></tr><tr><th>17</th><td>0.0129061</td><td>2</td><td>100</td><td>beta</td><td>Bernoulli Quasi-Copula</td></tr><tr><th>18</th><td>0.0134867</td><td>2</td><td>100</td><td>beta</td><td>Bernoulli Quasi-Copula</td></tr><tr><th>19</th><td>0.00177203</td><td>2</td><td>100</td><td>beta</td><td>Bernoulli Quasi-Copula</td></tr><tr><th>20</th><td>0.0286167</td><td>2</td><td>100</td><td>beta</td><td>Bernoulli Quasi-Copula</td></tr><tr><th>21</th><td>0.0141533</td><td>2</td><td>100</td><td>beta</td><td>Bernoulli Quasi-Copula</td></tr><tr><th>22</th><td>0.0523843</td><td>2</td><td>100</td><td>beta</td><td>Bernoulli Quasi-Copula</td></tr><tr><th>23</th><td>0.00816525</td><td>2</td><td>100</td><td>beta</td><td>Bernoulli Quasi-Copula</td></tr><tr><th>24</th><td>0.0230071</td><td>2</td><td>100</td><td>beta</td><td>Bernoulli Quasi-Copula</td></tr><tr><th>25</th><td>0.0192196</td><td>2</td><td>100</td><td>beta</td><td>Bernoulli Quasi-Copula</td></tr><tr><th>26</th><td>0.0221158</td><td>2</td><td>100</td><td>beta</td><td>Bernoulli Quasi-Copula</td></tr><tr><th>27</th><td>0.0060778</td><td>2</td><td>100</td><td>beta</td><td>Bernoulli Quasi-Copula</td></tr><tr><th>28</th><td>0.00540972</td><td>2</td><td>100</td><td>beta</td><td>Bernoulli Quasi-Copula</td></tr><tr><th>29</th><td>0.00822874</td><td>2</td><td>100</td><td>beta</td><td>Bernoulli Quasi-Copula</td></tr><tr><th>30</th><td>0.00741489</td><td>2</td><td>100</td><td>beta</td><td>Bernoulli Quasi-Copula</td></tr><tr><th>&vellip;</th><td>&vellip;</td><td>&vellip;</td><td>&vellip;</td><td>&vellip;</td><td>&vellip;</td></tr></tbody></table></div>"
      ],
      "text/latex": [
       "\\begin{tabular}{r|ccccc}\n",
       "\t& mse & obssize & samplesize & parameters & robust\\\\\n",
       "\t\\hline\n",
       "\t& Float64 & String & String & String & String\\\\\n",
       "\t\\hline\n",
       "\t1 & 0.0238059 & 2 & 100 & beta & Bernoulli Quasi-Copula \\\\\n",
       "\t2 & 0.0135012 & 2 & 100 & beta & Bernoulli Quasi-Copula \\\\\n",
       "\t3 & 0.0135056 & 2 & 100 & beta & Bernoulli Quasi-Copula \\\\\n",
       "\t4 & 0.0912365 & 2 & 100 & beta & Bernoulli Quasi-Copula \\\\\n",
       "\t5 & 0.0163651 & 2 & 100 & beta & Bernoulli Quasi-Copula \\\\\n",
       "\t6 & 0.0218255 & 2 & 100 & beta & Bernoulli Quasi-Copula \\\\\n",
       "\t7 & 0.0299512 & 2 & 100 & beta & Bernoulli Quasi-Copula \\\\\n",
       "\t8 & 0.0290976 & 2 & 100 & beta & Bernoulli Quasi-Copula \\\\\n",
       "\t9 & 0.00556009 & 2 & 100 & beta & Bernoulli Quasi-Copula \\\\\n",
       "\t10 & 0.0742099 & 2 & 100 & beta & Bernoulli Quasi-Copula \\\\\n",
       "\t11 & 0.0114111 & 2 & 100 & beta & Bernoulli Quasi-Copula \\\\\n",
       "\t12 & 0.0126345 & 2 & 100 & beta & Bernoulli Quasi-Copula \\\\\n",
       "\t13 & 0.0160465 & 2 & 100 & beta & Bernoulli Quasi-Copula \\\\\n",
       "\t14 & 0.0185022 & 2 & 100 & beta & Bernoulli Quasi-Copula \\\\\n",
       "\t15 & 0.0061119 & 2 & 100 & beta & Bernoulli Quasi-Copula \\\\\n",
       "\t16 & 0.00211376 & 2 & 100 & beta & Bernoulli Quasi-Copula \\\\\n",
       "\t17 & 0.0129061 & 2 & 100 & beta & Bernoulli Quasi-Copula \\\\\n",
       "\t18 & 0.0134867 & 2 & 100 & beta & Bernoulli Quasi-Copula \\\\\n",
       "\t19 & 0.00177203 & 2 & 100 & beta & Bernoulli Quasi-Copula \\\\\n",
       "\t20 & 0.0286167 & 2 & 100 & beta & Bernoulli Quasi-Copula \\\\\n",
       "\t21 & 0.0141533 & 2 & 100 & beta & Bernoulli Quasi-Copula \\\\\n",
       "\t22 & 0.0523843 & 2 & 100 & beta & Bernoulli Quasi-Copula \\\\\n",
       "\t23 & 0.00816525 & 2 & 100 & beta & Bernoulli Quasi-Copula \\\\\n",
       "\t24 & 0.0230071 & 2 & 100 & beta & Bernoulli Quasi-Copula \\\\\n",
       "\t25 & 0.0192196 & 2 & 100 & beta & Bernoulli Quasi-Copula \\\\\n",
       "\t26 & 0.0221158 & 2 & 100 & beta & Bernoulli Quasi-Copula \\\\\n",
       "\t27 & 0.0060778 & 2 & 100 & beta & Bernoulli Quasi-Copula \\\\\n",
       "\t28 & 0.00540972 & 2 & 100 & beta & Bernoulli Quasi-Copula \\\\\n",
       "\t29 & 0.00822874 & 2 & 100 & beta & Bernoulli Quasi-Copula \\\\\n",
       "\t30 & 0.00741489 & 2 & 100 & beta & Bernoulli Quasi-Copula \\\\\n",
       "\t$\\dots$ & $\\dots$ & $\\dots$ & $\\dots$ & $\\dots$ & $\\dots$ \\\\\n",
       "\\end{tabular}\n"
      ],
      "text/plain": [
       "\u001b[1m7200×5 DataFrame\u001b[0m\n",
       "\u001b[1m  Row \u001b[0m│\u001b[1m mse        \u001b[0m\u001b[1m obssize \u001b[0m\u001b[1m samplesize \u001b[0m\u001b[1m parameters \u001b[0m\u001b[1m robust                 \u001b[0m\n",
       "\u001b[1m      \u001b[0m│\u001b[90m Float64    \u001b[0m\u001b[90m String  \u001b[0m\u001b[90m String     \u001b[0m\u001b[90m String     \u001b[0m\u001b[90m String                 \u001b[0m\n",
       "──────┼─────────────────────────────────────────────────────────────────────\n",
       "    1 │ 0.0238059   2        100         beta        Bernoulli Quasi-Copula\n",
       "    2 │ 0.0135012   2        100         beta        Bernoulli Quasi-Copula\n",
       "    3 │ 0.0135056   2        100         beta        Bernoulli Quasi-Copula\n",
       "    4 │ 0.0912365   2        100         beta        Bernoulli Quasi-Copula\n",
       "    5 │ 0.0163651   2        100         beta        Bernoulli Quasi-Copula\n",
       "    6 │ 0.0218255   2        100         beta        Bernoulli Quasi-Copula\n",
       "    7 │ 0.0299512   2        100         beta        Bernoulli Quasi-Copula\n",
       "    8 │ 0.0290976   2        100         beta        Bernoulli Quasi-Copula\n",
       "    9 │ 0.00556009  2        100         beta        Bernoulli Quasi-Copula\n",
       "   10 │ 0.0742099   2        100         beta        Bernoulli Quasi-Copula\n",
       "   11 │ 0.0114111   2        100         beta        Bernoulli Quasi-Copula\n",
       "  ⋮   │     ⋮          ⋮         ⋮           ⋮                 ⋮\n",
       " 7191 │ 1.34686e-6  25       10000       theta       Bernoulli GLMM\n",
       " 7192 │ 2.36874e-5  25       10000       theta       Bernoulli GLMM\n",
       " 7193 │ 9.24981e-6  25       10000       theta       Bernoulli GLMM\n",
       " 7194 │ 6.87899e-9  25       10000       theta       Bernoulli GLMM\n",
       " 7195 │ 1.21943e-5  25       10000       theta       Bernoulli GLMM\n",
       " 7196 │ 1.21089e-6  25       10000       theta       Bernoulli GLMM\n",
       " 7197 │ 7.61597e-6  25       10000       theta       Bernoulli GLMM\n",
       " 7198 │ 1.07933e-5  25       10000       theta       Bernoulli GLMM\n",
       " 7199 │ 4.61727e-6  25       10000       theta       Bernoulli GLMM\n",
       " 7200 │ 1.33684e-5  25       10000       theta       Bernoulli GLMM\n",
       "\u001b[36m                                                           7179 rows omitted\u001b[0m"
      ]
     },
     "execution_count": 9,
     "metadata": {},
     "output_type": "execute_result"
    }
   ],
   "source": [
    "#### \n",
    "#import data and reorganize to create figure\n",
    "using Random, DataFrames, DelimitedFiles, Statistics, RCall, Printf\n",
    "import StatsBase: sem\n",
    "\n",
    "βMseresult = vec(readdlm(\"mse_beta_multivariate_bernoulli_vcm$(nsims)reps_sim.csv\", ','))\n",
    "θMseresult = vec(readdlm(\"mse_theta_multivariate_bernoulli_vcm$(nsims)reps_sim.csv\", ','))\n",
    "\n",
    "βMseresult_GLMM = vec(readdlm(\"mse_beta_GLMM_multivariate_bernoulli_vcm$(nsims)reps_sim.csv\", ','))\n",
    "θMseresult_GLMM = vec(readdlm(\"mse_theta_GLMM_multivariate_bernoulli_vcm$(nsims)reps_sim.csv\", ','))\n",
    "\n",
    "\n",
    "p = 3; m = 1\n",
    "sample_sizes = repeat(string.(samplesizes), inner = nsims * length(ns))\n",
    "obs_sizes = repeat(string.(ns), inner = nsims, outer = length(samplesizes))\n",
    "msedf1 = DataFrame(βmse = βMseresult, thetamse = θMseresult, \n",
    "    samplesize = sample_sizes, obssize = obs_sizes)\n",
    "\n",
    "msedf2 = DataFrame(βmse = βMseresult_GLMM, thetamse = θMseresult_GLMM, \n",
    "    samplesize = sample_sizes, obssize = obs_sizes)\n",
    "\n",
    "#rename to make parsing easier for R.\n",
    "\n",
    "msedf1 = deepcopy(msedf1)\n",
    "rename!(msedf1, [\"betamse\"\n",
    "    \"thetamse\"\n",
    "    \"samplesize\"\n",
    " \"obssize\"]);\n",
    "\n",
    "msedf2 = deepcopy(msedf2)\n",
    "rename!(msedf2, [\"betamse\"\n",
    "    \"thetamse\"\n",
    "    \"samplesize\"\n",
    " \"obssize\"]);\n",
    "\n",
    "mses = [msedf1[!, :betamse]; msedf1[!, :thetamse]; msedf2[!, :betamse]; msedf2[!, :thetamse]]\n",
    "    # msedfnormR[!, :betamse]; msedfnormR[!, :taumse]; msedfnormR[!, :Sigmamse]]\n",
    "obssize = [collect([repeat(msedf1[!, :obssize], 2)]...) ; collect([repeat(msedf2[!, :obssize], 2)]...)]\n",
    "#40\n",
    "samplesize = [collect([repeat(msedf1[!, :samplesize], 2)]...) ; collect([repeat(msedf2[!, :samplesize], 2)]...)]\n",
    "\n",
    "parameters = [collect([repeat(string.([:beta, :theta]), inner = nsims * length(ns) * length(samplesizes))]...) ; collect([repeat(string.([:beta, :theta]), inner = nsims * length(ns) * length(samplesizes))]...)]\n",
    "robust = [collect([repeat([\"Bernoulli Quasi-Copula\"], 2 * nsims * length(ns) * length(samplesizes))]...); collect([repeat([\"Bernoulli GLMM\"],  2 * nsims * length(ns) * length(samplesizes))]...)]\n",
    "\n",
    "msedfR = DataFrame(mse = mses, obssize = obssize, samplesize = samplesize,\n",
    "    parameters = parameters, robust = robust)\n",
    "\n",
    "#5 of the 30,000 simulations did not converge, filter out\n",
    "msedfR = filter(x -> !isnan(x.mse), msedfR)\n",
    "# additionally, there are 5 where an error was not caught so it did not try a differnt solver\n",
    "msedfR = filter(x -> x.mse < 40000, msedfR)"
   ]
  },
  {
   "cell_type": "code",
   "execution_count": 10,
   "metadata": {},
   "outputs": [
    {
     "name": "stderr",
     "output_type": "stream",
     "text": [
      "┌ Warning: RCall.jl: Warning: package ‘scales’ was built under R version 4.0.2\n",
      "└ @ RCall /Users/sarahji/.julia/packages/RCall/6kphM/src/io.jl:172\n",
      "┌ Warning: RCall.jl: Warning: package ‘ggplot2’ was built under R version 4.0.2\n",
      "└ @ RCall /Users/sarahji/.julia/packages/RCall/6kphM/src/io.jl:172\n",
      "┌ Warning: RCall.jl: Warning: package ‘data.table’ was built under R version 4.0.2\n",
      "└ @ RCall /Users/sarahji/.julia/packages/RCall/6kphM/src/io.jl:172\n"
     ]
    },
    {
     "data": {
      "image/png": "[encoded data removed]"
     },
     "metadata": {},
     "output_type": "display_data"
    },
    {
     "data": {
      "text/plain": [
       "RObject{VecSxp}\n"
      ]
     },
     "execution_count": 10,
     "metadata": {},
     "output_type": "execute_result"
    }
   ],
   "source": [
    "### working on figure next\n",
    "@rput msedfR\n",
    "\n",
    "R\"\"\"\n",
    "library(scales)\n",
    "library(ggplot2)\n",
    "library(data.table)\n",
    "\n",
    "msedfR = data.table(msedfR)\n",
    "\n",
    "msedfR[parameters == \"beta\",y_min := 10^-6]\n",
    "msedfR[parameters == \"beta\",y_max := 10^0]\n",
    "msedfR[parameters == \"theta\",y_min := 10^-5]\n",
    "msedfR[parameters == \"theta\",y_max := 10^1]\n",
    "\n",
    "#msedfR[parameters == \"beta\",y_min := 10^-8]\n",
    "#msedfR[parameters == \"beta\",y_max := 10^-2]\n",
    "#msedfR[parameters == \"tau\",y_min := 10^-8]\n",
    "#msedfR[parameters == \"tau\",y_max := 10^-2]\n",
    "#msedfR[parameters == \"Sigma\",y_min := 10^-5]\n",
    "#msedfR[parameters == \"Sigma\",y_max := 10^-2]\n",
    "\n",
    "\n",
    "msedfR$obssize = factor(msedfR$obssize, levels = c('2', '5', '10', '15', '20', '25'))\n",
    "msedfR$samplesize = factor(msedfR$samplesize, levels = c('100', '1000', '10000'))\n",
    "msedfR$parameters = factor(msedfR$parameters, levels = c('beta', 'theta'), labels = c(beta = expression(hat(bold(beta))), theta = expression(hat(bold(theta))[])))\n",
    "msedfR$robust <- factor(msedfR$robust, levels = c('Bernoulli Quasi-Copula', 'Bernoulli GLMM'),\n",
    "    labels = c(expression(paste(\"Bernoulli Quasi-Copula\")), expression(paste(\"Bernoulli GLMM\"))))\n",
    "\n",
    "\n",
    "#mseplot <- ggplot(msedfR[msedfR$mse < 10^0, ], aes(x=samplesize, y=mse, fill=obssize)) + \n",
    "mseplot = ggplot(msedfR[msedfR$mse < 10^3, ], aes(x=samplesize, y=mse, fill=obssize)) + \n",
    "  #geom_boxplot(outlier.size = 0.0, outlier.alpha = 0) +\n",
    "  geom_boxplot(outlier.size = 0.25) +\n",
    "#    geom_violin() +\n",
    "    facet_grid(parameters ~ robust, labeller = label_parsed, scales = \"free_y\") +\n",
    "  theme(legend.position=\"right\", legend.key = element_blank(), axis.text.x = element_text(angle=0, size=30),\n",
    "        axis.text.y = element_text(angle=0, size=30), axis.title.x = element_text(size = 30, face=\"bold\"), \n",
    "        axis.title.y = element_text(size = 40, face=\"bold\"), legend.title = element_text(size = 30, face=\"bold\"),\n",
    "        panel.grid.major = element_blank(), panel.grid.minor = element_blank(),\n",
    "        legend.text=element_text(size=30), panel.background = element_rect(fill = NA, color = \"black\"),\n",
    "        #panel.background = element_blank(), #panel.border = element_blank(),\n",
    "        axis.line = element_line(color = 'black',size=0.3), plot.title = element_text(hjust = 0.5),\n",
    "        strip.background = element_rect(colour=\"black\", fill=\"white\"), strip.text.y = element_text(angle = 0, size=75, face=\"bold\"),\n",
    "        strip.text.x = element_text(size=25)) + \n",
    "  scale_fill_manual(values = c(\"#c85f55\",\n",
    "\"#a964bf\",\n",
    "\"#8db352\",\n",
    "\"#fa7300\",\n",
    "\"#05aec0\",\n",
    "\"#ff1493\")) +\n",
    "#scale_y_log10(breaks = scales::trans_breaks(\"log10\", function(x) 10^x)) +\n",
    "#scale_y_log10(breaks = 10^(-8:8), limit=c(10^-8, 10^2)) + \n",
    "scale_y_log10(breaks = 10^seq(-10, 10, 2), labels=trans_format(\"log10\", math_format(10^.x))) + #, limit=c(10^-8, 10^2)) +\n",
    "  labs(x = \"Sample Size\", y = \"MSE of Parameter Estimates\", fill = \"Cluster Size\") +\n",
    "geom_blank(aes(y = y_max)) + \n",
    "geom_blank(aes(y = y_min)) \n",
    "\"\"\""
   ]
  },
  {
   "cell_type": "code",
   "execution_count": 11,
   "metadata": {},
   "outputs": [
    {
     "data": {
      "text/plain": [
       "RObject{StrSxp}\n",
       "[1] \"updated_msefacetplot_bernoulli_sim2_2.png\"\n"
      ]
     },
     "execution_count": 11,
     "metadata": {},
     "output_type": "execute_result"
    }
   ],
   "source": [
    "R\"\"\"\n",
    "ggsave('updated_msefacetplot_bernoulli_sim2_2.png', mseplot, width = 20, height = 15, units = 'in', dpi = 450)\n",
    "\"\"\""
   ]
  }
 ],
 "metadata": {
  "@webio": {
   "lastCommId": null,
   "lastKernelId": null
  },
  "kernelspec": {
   "display_name": "Julia 1.6.2",
   "language": "julia",
   "name": "julia-1.6"
  },
  "language_info": {
   "file_extension": ".jl",
   "mimetype": "application/julia",
   "name": "julia",
   "version": "1.6.2"
  }
 },
 "nbformat": 4,
 "nbformat_minor": 2
}
