{
 "cells": [
  {
   "cell_type": "markdown",
   "metadata": {},
   "source": [
    "## Bernoulli VCM Results \n",
    "\n",
    "\n",
    "This notebook goes over the code needed to reproduce the results from the MSE and time figures for the Bernoulli base distribution with Logit Link and covariance matrix $\\Gamma$ structured under variance component model framework as follows:\n",
    "\n",
    "$$\n",
    "\\Gamma = 0.1 * \\mathbf{1_{n} 1_{n}^\\top}\n",
    "$$\n",
    "\n",
    "In this example simulate three fixed effects under our Quasi-Copula model with $\\beta \\sim$ rand(Uniform(-0.2, 0.2), p) where p = 3 fixed effects.\n",
    "\n",
    "We use multi-threading on 8 threads to obtain these MSE results on the following machine, and include MSE results from 100 simulation runs comparing the fit of ours with that of the random intercept Bernoulli GLMM from MixedModels.jl for each scenario."
   ]
  },
  {
   "cell_type": "code",
   "execution_count": 1,
   "metadata": {},
   "outputs": [
    {
     "name": "stdout",
     "output_type": "stream",
     "text": [
      "Julia Version 1.6.2\n",
      "Commit 1b93d53fc4 (2021-07-14 15:36 UTC)\n",
      "Platform Info:\n",
      "  OS: macOS (x86_64-apple-darwin18.7.0)\n",
      "  CPU: Intel(R) Core(TM) i9-9880H CPU @ 2.30GHz\n",
      "  WORD_SIZE: 64\n",
      "  LIBM: libopenlibm\n",
      "  LLVM: libLLVM-11.0.1 (ORCJIT, skylake)\n"
     ]
    }
   ],
   "source": [
    "versioninfo()"
   ]
  },
  {
   "cell_type": "code",
   "execution_count": 2,
   "metadata": {},
   "outputs": [],
   "source": [
    "using QuasiCopula, DelimitedFiles, LinearAlgebra, Random, GLM\n",
    "using DataFrames"
   ]
  },
  {
   "cell_type": "code",
   "execution_count": 3,
   "metadata": {},
   "outputs": [],
   "source": [
    "p = 3    # number of fixed effects, including intercept\n",
    "m = 1    # number of variance components\n",
    "# true parameter values\n",
    "Random.seed!(12345)\n",
    "βtrue = rand(Uniform(-0.2, 0.2), p)\n",
    "θtrue = [0.1]\n",
    "\n",
    "# generate data\n",
    "intervals = zeros(p + m, 2) #hold intervals\n",
    "curcoverage = zeros(p + m) #hold current coverage resutls\n",
    "trueparams = [βtrue; θtrue] #hold true parameters\n",
    "\n",
    "#simulation parameters\n",
    "samplesizes = [100; 1000; 10000]\n",
    "ns = [2; 5; 10; 15; 20; 25]\n",
    "nsims = 100;"
   ]
  },
  {
   "cell_type": "code",
   "execution_count": 4,
   "metadata": {},
   "outputs": [
    {
     "name": "stderr",
     "output_type": "stream",
     "text": [
      "┌ Info: reading in the files with results\n",
      "└ @ Main In[4]:1\n"
     ]
    },
    {
     "data": {
      "text/plain": [
       "1800-element Vector{Float64}:\n",
       " 0.019209117\n",
       " 0.017338406\n",
       " 0.018053326\n",
       " 0.013055266\n",
       " 0.020255901\n",
       " 0.017660454\n",
       " 0.017539243\n",
       " 0.017166517\n",
       " 0.017482204\n",
       " 0.020199744\n",
       " 0.020111825\n",
       " 0.017952074\n",
       " 0.017605801\n",
       " ⋮\n",
       " 0.32281094\n",
       " 0.349673976\n",
       " 0.326267312\n",
       " 0.389798756\n",
       " 0.343114898\n",
       " 0.342602914\n",
       " 0.324404333\n",
       " 0.318930847\n",
       " 0.357523882\n",
       " 0.329411064\n",
       " 0.295831233\n",
       " 0.347705308"
      ]
     },
     "execution_count": 4,
     "metadata": {},
     "output_type": "execute_result"
    }
   ],
   "source": [
    "@info \"reading in the files with results\"\n",
    "βMseresult = vec(readdlm(\"mse_beta_multivariate_bernoulli_vcm$(nsims)reps_sim.csv\", ','))\n",
    "θMseresult = vec(readdlm(\"mse_theta_multivariate_bernoulli_vcm$(nsims)reps_sim.csv\", ','))\n",
    "fittimes_QC = vec(readdlm(\"fittimes_multivariate_bernoulli_vcm$(nsims)reps_sim.csv\", ','))"
   ]
  },
  {
   "cell_type": "code",
   "execution_count": 5,
   "metadata": {},
   "outputs": [
    {
     "data": {
      "text/plain": [
       "1800-element Vector{Float64}:\n",
       "  0.281555617\n",
       "  0.009006552\n",
       "  0.015922774\n",
       "  0.021324778\n",
       "  0.01688285\n",
       "  0.033171286\n",
       "  0.012434944\n",
       "  0.015882419\n",
       "  0.027000817\n",
       "  0.014903725\n",
       "  0.026773929\n",
       "  0.013185197\n",
       "  0.012504818\n",
       "  ⋮\n",
       " 36.346219612\n",
       " 38.560522705\n",
       " 35.824892654\n",
       " 55.549645816\n",
       " 36.615764238\n",
       " 35.838799626\n",
       " 32.913802051\n",
       " 44.897881784\n",
       " 44.539686502\n",
       " 42.032751806\n",
       " 37.495845604\n",
       " 39.384317822"
      ]
     },
     "execution_count": 5,
     "metadata": {},
     "output_type": "execute_result"
    }
   ],
   "source": [
    "fittimes_GLMM = vec(readdlm(\"fittimes_GLMM_multivariate_bernoulli_vcm$(nsims)reps_sim.csv\", ','))"
   ]
  },
  {
   "cell_type": "code",
   "execution_count": 6,
   "metadata": {},
   "outputs": [
    {
     "name": "stderr",
     "output_type": "stream",
     "text": [
      "┌ Info: making results table Quasi-Copula\n",
      "└ @ Main In[6]:2\n"
     ]
    },
    {
     "data": {
      "text/html": [
       "<div class=\"data-frame\"><p>18 rows × 8 columns</p><table class=\"data-frame\"><thead><tr><th></th><th>samplesize</th><th>obssize</th><th>fittime</th><th>se</th><th>nobs</th><th>fitmin</th><th>fitmax</th><th>perobsratio</th></tr><tr><th></th><th title=\"String\">String</th><th title=\"String\">String</th><th title=\"Float64\">Float64</th><th title=\"Float64\">Float64</th><th title=\"Int64\">Int64</th><th title=\"Float64\">Float64</th><th title=\"Float64\">Float64</th><th title=\"Float64\">Float64</th></tr></thead><tbody><tr><th>1</th><td>100</td><td>2</td><td>0.0180764</td><td>0.000379734</td><td>200</td><td>0.0176967</td><td>0.0188359</td><td>9.0382e-5</td></tr><tr><th>2</th><td>100</td><td>5</td><td>0.0215939</td><td>0.0003521</td><td>500</td><td>0.0212418</td><td>0.0222981</td><td>4.31877e-5</td></tr><tr><th>3</th><td>100</td><td>10</td><td>0.0227089</td><td>0.000317792</td><td>1000</td><td>0.0223911</td><td>0.0233445</td><td>2.27089e-5</td></tr><tr><th>4</th><td>100</td><td>15</td><td>0.0224459</td><td>0.00037848</td><td>1500</td><td>0.0220674</td><td>0.0232028</td><td>1.49639e-5</td></tr><tr><th>5</th><td>100</td><td>20</td><td>0.0233343</td><td>0.000450623</td><td>2000</td><td>0.0228836</td><td>0.0242355</td><td>1.16671e-5</td></tr><tr><th>6</th><td>100</td><td>25</td><td>0.0231535</td><td>0.000456604</td><td>2500</td><td>0.0226969</td><td>0.0240667</td><td>9.26139e-6</td></tr><tr><th>7</th><td>1000</td><td>2</td><td>0.0221786</td><td>0.000645877</td><td>2000</td><td>0.0215328</td><td>0.0234704</td><td>1.10893e-5</td></tr><tr><th>8</th><td>1000</td><td>5</td><td>0.0269002</td><td>0.000184625</td><td>5000</td><td>0.0267156</td><td>0.0272694</td><td>5.38004e-6</td></tr><tr><th>9</th><td>1000</td><td>10</td><td>0.0309658</td><td>0.000566114</td><td>10000</td><td>0.0303997</td><td>0.032098</td><td>3.09658e-6</td></tr><tr><th>10</th><td>1000</td><td>15</td><td>0.0330577</td><td>0.00029931</td><td>15000</td><td>0.0327584</td><td>0.0336564</td><td>2.20385e-6</td></tr><tr><th>11</th><td>1000</td><td>20</td><td>0.0354206</td><td>0.00060247</td><td>20000</td><td>0.0348181</td><td>0.0366255</td><td>1.77103e-6</td></tr><tr><th>12</th><td>1000</td><td>25</td><td>0.040038</td><td>0.00106263</td><td>25000</td><td>0.0389754</td><td>0.0421633</td><td>1.60152e-6</td></tr><tr><th>13</th><td>10000</td><td>2</td><td>0.118635</td><td>0.00189268</td><td>20000</td><td>0.116742</td><td>0.12242</td><td>5.93175e-6</td></tr><tr><th>14</th><td>10000</td><td>5</td><td>0.174184</td><td>0.0019437</td><td>50000</td><td>0.17224</td><td>0.178071</td><td>3.48367e-6</td></tr><tr><th>15</th><td>10000</td><td>10</td><td>0.231305</td><td>0.00270611</td><td>100000</td><td>0.228599</td><td>0.236717</td><td>2.31305e-6</td></tr><tr><th>16</th><td>10000</td><td>15</td><td>0.260861</td><td>0.00206639</td><td>150000</td><td>0.258794</td><td>0.264993</td><td>1.73907e-6</td></tr><tr><th>17</th><td>10000</td><td>20</td><td>0.297952</td><td>0.0027951</td><td>200000</td><td>0.295157</td><td>0.303543</td><td>1.48976e-6</td></tr><tr><th>18</th><td>10000</td><td>25</td><td>0.341053</td><td>0.00213457</td><td>250000</td><td>0.338918</td><td>0.345322</td><td>1.36421e-6</td></tr></tbody></table></div>"
      ],
      "text/latex": [
       "\\begin{tabular}{r|cccccccc}\n",
       "\t& samplesize & obssize & fittime & se & nobs & fitmin & fitmax & perobsratio\\\\\n",
       "\t\\hline\n",
       "\t& String & String & Float64 & Float64 & Int64 & Float64 & Float64 & Float64\\\\\n",
       "\t\\hline\n",
       "\t1 & 100 & 2 & 0.0180764 & 0.000379734 & 200 & 0.0176967 & 0.0188359 & 9.0382e-5 \\\\\n",
       "\t2 & 100 & 5 & 0.0215939 & 0.0003521 & 500 & 0.0212418 & 0.0222981 & 4.31877e-5 \\\\\n",
       "\t3 & 100 & 10 & 0.0227089 & 0.000317792 & 1000 & 0.0223911 & 0.0233445 & 2.27089e-5 \\\\\n",
       "\t4 & 100 & 15 & 0.0224459 & 0.00037848 & 1500 & 0.0220674 & 0.0232028 & 1.49639e-5 \\\\\n",
       "\t5 & 100 & 20 & 0.0233343 & 0.000450623 & 2000 & 0.0228836 & 0.0242355 & 1.16671e-5 \\\\\n",
       "\t6 & 100 & 25 & 0.0231535 & 0.000456604 & 2500 & 0.0226969 & 0.0240667 & 9.26139e-6 \\\\\n",
       "\t7 & 1000 & 2 & 0.0221786 & 0.000645877 & 2000 & 0.0215328 & 0.0234704 & 1.10893e-5 \\\\\n",
       "\t8 & 1000 & 5 & 0.0269002 & 0.000184625 & 5000 & 0.0267156 & 0.0272694 & 5.38004e-6 \\\\\n",
       "\t9 & 1000 & 10 & 0.0309658 & 0.000566114 & 10000 & 0.0303997 & 0.032098 & 3.09658e-6 \\\\\n",
       "\t10 & 1000 & 15 & 0.0330577 & 0.00029931 & 15000 & 0.0327584 & 0.0336564 & 2.20385e-6 \\\\\n",
       "\t11 & 1000 & 20 & 0.0354206 & 0.00060247 & 20000 & 0.0348181 & 0.0366255 & 1.77103e-6 \\\\\n",
       "\t12 & 1000 & 25 & 0.040038 & 0.00106263 & 25000 & 0.0389754 & 0.0421633 & 1.60152e-6 \\\\\n",
       "\t13 & 10000 & 2 & 0.118635 & 0.00189268 & 20000 & 0.116742 & 0.12242 & 5.93175e-6 \\\\\n",
       "\t14 & 10000 & 5 & 0.174184 & 0.0019437 & 50000 & 0.17224 & 0.178071 & 3.48367e-6 \\\\\n",
       "\t15 & 10000 & 10 & 0.231305 & 0.00270611 & 100000 & 0.228599 & 0.236717 & 2.31305e-6 \\\\\n",
       "\t16 & 10000 & 15 & 0.260861 & 0.00206639 & 150000 & 0.258794 & 0.264993 & 1.73907e-6 \\\\\n",
       "\t17 & 10000 & 20 & 0.297952 & 0.0027951 & 200000 & 0.295157 & 0.303543 & 1.48976e-6 \\\\\n",
       "\t18 & 10000 & 25 & 0.341053 & 0.00213457 & 250000 & 0.338918 & 0.345322 & 1.36421e-6 \\\\\n",
       "\\end{tabular}\n"
      ],
      "text/plain": [
       "\u001b[1m18×8 DataFrame\u001b[0m\n",
       "\u001b[1m Row \u001b[0m│\u001b[1m samplesize \u001b[0m\u001b[1m obssize \u001b[0m\u001b[1m fittime   \u001b[0m\u001b[1m se          \u001b[0m\u001b[1m nobs   \u001b[0m\u001b[1m fitmin    \u001b[0m\u001b[1m fitmax \u001b[0m ⋯\n",
       "\u001b[1m     \u001b[0m│\u001b[90m String     \u001b[0m\u001b[90m String  \u001b[0m\u001b[90m Float64   \u001b[0m\u001b[90m Float64     \u001b[0m\u001b[90m Int64  \u001b[0m\u001b[90m Float64   \u001b[0m\u001b[90m Float64\u001b[0m ⋯\n",
       "─────┼──────────────────────────────────────────────────────────────────────────\n",
       "   1 │ 100         2        0.0180764  0.000379734     200  0.0176967  0.01883 ⋯\n",
       "   2 │ 100         5        0.0215939  0.0003521       500  0.0212418  0.02229\n",
       "   3 │ 100         10       0.0227089  0.000317792    1000  0.0223911  0.02334\n",
       "   4 │ 100         15       0.0224459  0.00037848     1500  0.0220674  0.02320\n",
       "   5 │ 100         20       0.0233343  0.000450623    2000  0.0228836  0.02423 ⋯\n",
       "   6 │ 100         25       0.0231535  0.000456604    2500  0.0226969  0.02406\n",
       "   7 │ 1000        2        0.0221786  0.000645877    2000  0.0215328  0.02347\n",
       "   8 │ 1000        5        0.0269002  0.000184625    5000  0.0267156  0.02726\n",
       "   9 │ 1000        10       0.0309658  0.000566114   10000  0.0303997  0.03209 ⋯\n",
       "  10 │ 1000        15       0.0330577  0.00029931    15000  0.0327584  0.03365\n",
       "  11 │ 1000        20       0.0354206  0.00060247    20000  0.0348181  0.03662\n",
       "  12 │ 1000        25       0.040038   0.00106263    25000  0.0389754  0.04216\n",
       "  13 │ 10000       2        0.118635   0.00189268    20000  0.116742   0.12242 ⋯\n",
       "  14 │ 10000       5        0.174184   0.0019437     50000  0.17224    0.17807\n",
       "  15 │ 10000       10       0.231305   0.00270611   100000  0.228599   0.23671\n",
       "  16 │ 10000       15       0.260861   0.00206639   150000  0.258794   0.26499\n",
       "  17 │ 10000       20       0.297952   0.0027951    200000  0.295157   0.30354 ⋯\n",
       "  18 │ 10000       25       0.341053   0.00213457   250000  0.338918   0.34532\n",
       "\u001b[36m                                                               2 columns omitted\u001b[0m"
      ]
     },
     "execution_count": 6,
     "metadata": {},
     "output_type": "execute_result"
    }
   ],
   "source": [
    "#simulation parameters\n",
    "@info \"making results table Quasi-Copula\"\n",
    "sample_sizes = repeat(string.(samplesizes), inner = nsims * length(ns))\n",
    "obs_sizes = repeat(string.(ns), inner = nsims, outer = length(samplesizes))\n",
    "\n",
    "msedf = DataFrame(samplesize = sample_sizes, obssize = obs_sizes, fittimes = fittimes_QC)\n",
    "timedf1 = combine(groupby(msedf, [:samplesize, :obssize]), :fittimes => mean => :fittime,\n",
    "    :fittimes => x -> (std(x)/sqrt(length(x))))\n",
    "rename!(timedf1, Dict(:fittimes_function => \"se\"))\n",
    "timedf1[!, :nobs] = Meta.parse.(timedf1[!, :samplesize]) .* Meta.parse.(timedf1[!, :obssize])\n",
    "timedf1[!, :fitmin] = timedf1[!, :fittime] - timedf1[!, :se]\n",
    "timedf1[!, :fitmax] = timedf1[!, :fittime] + 2 * timedf1[!, :se]\n",
    "timedf1[!, :perobsratio] = timedf1[!, :fittime] ./ timedf1[!, :nobs]\n",
    "timedf1"
   ]
  },
  {
   "cell_type": "code",
   "execution_count": 7,
   "metadata": {},
   "outputs": [
    {
     "name": "stderr",
     "output_type": "stream",
     "text": [
      "┌ Info: making results table GLMM\n",
      "└ @ Main In[7]:2\n"
     ]
    },
    {
     "data": {
      "text/html": [
       "<div class=\"data-frame\"><p>18 rows × 8 columns</p><table class=\"data-frame\"><thead><tr><th></th><th>samplesize</th><th>obssize</th><th>fittime</th><th>se</th><th>nobs</th><th>fitmin</th><th>fitmax</th><th>perobsratio</th></tr><tr><th></th><th title=\"String\">String</th><th title=\"String\">String</th><th title=\"Float64\">Float64</th><th title=\"Float64\">Float64</th><th title=\"Int64\">Int64</th><th title=\"Float64\">Float64</th><th title=\"Float64\">Float64</th><th title=\"Float64\">Float64</th></tr></thead><tbody><tr><th>1</th><td>100</td><td>2</td><td>0.0199942</td><td>0.00273002</td><td>200</td><td>0.0172641</td><td>0.0227242</td><td>9.99708e-5</td></tr><tr><th>2</th><td>100</td><td>5</td><td>0.0399408</td><td>0.00180903</td><td>500</td><td>0.0381318</td><td>0.0417498</td><td>7.98816e-5</td></tr><tr><th>3</th><td>100</td><td>10</td><td>0.104375</td><td>0.00443813</td><td>1000</td><td>0.0999369</td><td>0.108813</td><td>0.000104375</td></tr><tr><th>4</th><td>100</td><td>15</td><td>0.176131</td><td>0.00595423</td><td>1500</td><td>0.170177</td><td>0.182085</td><td>0.000117421</td></tr><tr><th>5</th><td>100</td><td>20</td><td>0.237807</td><td>0.00731659</td><td>2000</td><td>0.230491</td><td>0.245124</td><td>0.000118904</td></tr><tr><th>6</th><td>100</td><td>25</td><td>0.322227</td><td>0.0110565</td><td>2500</td><td>0.31117</td><td>0.333283</td><td>0.000128891</td></tr><tr><th>7</th><td>1000</td><td>2</td><td>0.156581</td><td>0.00466943</td><td>2000</td><td>0.151912</td><td>0.161251</td><td>7.82906e-5</td></tr><tr><th>8</th><td>1000</td><td>5</td><td>0.473995</td><td>0.0153308</td><td>5000</td><td>0.458664</td><td>0.489325</td><td>9.47989e-5</td></tr><tr><th>9</th><td>1000</td><td>10</td><td>1.15281</td><td>0.0339923</td><td>10000</td><td>1.11882</td><td>1.1868</td><td>0.000115281</td></tr><tr><th>10</th><td>1000</td><td>15</td><td>1.77635</td><td>0.0557205</td><td>15000</td><td>1.72063</td><td>1.83207</td><td>0.000118423</td></tr><tr><th>11</th><td>1000</td><td>20</td><td>2.39069</td><td>0.0590245</td><td>20000</td><td>2.33167</td><td>2.44972</td><td>0.000119535</td></tr><tr><th>12</th><td>1000</td><td>25</td><td>3.23556</td><td>0.0828795</td><td>25000</td><td>3.15268</td><td>3.31844</td><td>0.000129423</td></tr><tr><th>13</th><td>10000</td><td>2</td><td>1.62625</td><td>0.0367928</td><td>20000</td><td>1.58946</td><td>1.66304</td><td>8.13125e-5</td></tr><tr><th>14</th><td>10000</td><td>5</td><td>4.91426</td><td>0.0908054</td><td>50000</td><td>4.82346</td><td>5.00507</td><td>9.82853e-5</td></tr><tr><th>15</th><td>10000</td><td>10</td><td>11.4024</td><td>0.249822</td><td>100000</td><td>11.1525</td><td>11.6522</td><td>0.000114024</td></tr><tr><th>16</th><td>10000</td><td>15</td><td>17.0803</td><td>0.469138</td><td>150000</td><td>16.6111</td><td>17.5494</td><td>0.000113868</td></tr><tr><th>17</th><td>10000</td><td>20</td><td>27.4638</td><td>0.558897</td><td>200000</td><td>26.9049</td><td>28.0227</td><td>0.000137319</td></tr><tr><th>18</th><td>10000</td><td>25</td><td>39.7428</td><td>0.581203</td><td>250000</td><td>39.1616</td><td>40.324</td><td>0.000158971</td></tr></tbody></table></div>"
      ],
      "text/latex": [
       "\\begin{tabular}{r|cccccccc}\n",
       "\t& samplesize & obssize & fittime & se & nobs & fitmin & fitmax & perobsratio\\\\\n",
       "\t\\hline\n",
       "\t& String & String & Float64 & Float64 & Int64 & Float64 & Float64 & Float64\\\\\n",
       "\t\\hline\n",
       "\t1 & 100 & 2 & 0.0199942 & 0.00273002 & 200 & 0.0172641 & 0.0227242 & 9.99708e-5 \\\\\n",
       "\t2 & 100 & 5 & 0.0399408 & 0.00180903 & 500 & 0.0381318 & 0.0417498 & 7.98816e-5 \\\\\n",
       "\t3 & 100 & 10 & 0.104375 & 0.00443813 & 1000 & 0.0999369 & 0.108813 & 0.000104375 \\\\\n",
       "\t4 & 100 & 15 & 0.176131 & 0.00595423 & 1500 & 0.170177 & 0.182085 & 0.000117421 \\\\\n",
       "\t5 & 100 & 20 & 0.237807 & 0.00731659 & 2000 & 0.230491 & 0.245124 & 0.000118904 \\\\\n",
       "\t6 & 100 & 25 & 0.322227 & 0.0110565 & 2500 & 0.31117 & 0.333283 & 0.000128891 \\\\\n",
       "\t7 & 1000 & 2 & 0.156581 & 0.00466943 & 2000 & 0.151912 & 0.161251 & 7.82906e-5 \\\\\n",
       "\t8 & 1000 & 5 & 0.473995 & 0.0153308 & 5000 & 0.458664 & 0.489325 & 9.47989e-5 \\\\\n",
       "\t9 & 1000 & 10 & 1.15281 & 0.0339923 & 10000 & 1.11882 & 1.1868 & 0.000115281 \\\\\n",
       "\t10 & 1000 & 15 & 1.77635 & 0.0557205 & 15000 & 1.72063 & 1.83207 & 0.000118423 \\\\\n",
       "\t11 & 1000 & 20 & 2.39069 & 0.0590245 & 20000 & 2.33167 & 2.44972 & 0.000119535 \\\\\n",
       "\t12 & 1000 & 25 & 3.23556 & 0.0828795 & 25000 & 3.15268 & 3.31844 & 0.000129423 \\\\\n",
       "\t13 & 10000 & 2 & 1.62625 & 0.0367928 & 20000 & 1.58946 & 1.66304 & 8.13125e-5 \\\\\n",
       "\t14 & 10000 & 5 & 4.91426 & 0.0908054 & 50000 & 4.82346 & 5.00507 & 9.82853e-5 \\\\\n",
       "\t15 & 10000 & 10 & 11.4024 & 0.249822 & 100000 & 11.1525 & 11.6522 & 0.000114024 \\\\\n",
       "\t16 & 10000 & 15 & 17.0803 & 0.469138 & 150000 & 16.6111 & 17.5494 & 0.000113868 \\\\\n",
       "\t17 & 10000 & 20 & 27.4638 & 0.558897 & 200000 & 26.9049 & 28.0227 & 0.000137319 \\\\\n",
       "\t18 & 10000 & 25 & 39.7428 & 0.581203 & 250000 & 39.1616 & 40.324 & 0.000158971 \\\\\n",
       "\\end{tabular}\n"
      ],
      "text/plain": [
       "\u001b[1m18×8 DataFrame\u001b[0m\n",
       "\u001b[1m Row \u001b[0m│\u001b[1m samplesize \u001b[0m\u001b[1m obssize \u001b[0m\u001b[1m fittime    \u001b[0m\u001b[1m se         \u001b[0m\u001b[1m nobs   \u001b[0m\u001b[1m fitmin     \u001b[0m\u001b[1m fitmax\u001b[0m ⋯\n",
       "\u001b[1m     \u001b[0m│\u001b[90m String     \u001b[0m\u001b[90m String  \u001b[0m\u001b[90m Float64    \u001b[0m\u001b[90m Float64    \u001b[0m\u001b[90m Int64  \u001b[0m\u001b[90m Float64    \u001b[0m\u001b[90m Float6\u001b[0m ⋯\n",
       "─────┼──────────────────────────────────────────────────────────────────────────\n",
       "   1 │ 100         2         0.0199942  0.00273002     200   0.0172641   0.022 ⋯\n",
       "   2 │ 100         5         0.0399408  0.00180903     500   0.0381318   0.041\n",
       "   3 │ 100         10        0.104375   0.00443813    1000   0.0999369   0.108\n",
       "   4 │ 100         15        0.176131   0.00595423    1500   0.170177    0.182\n",
       "   5 │ 100         20        0.237807   0.00731659    2000   0.230491    0.245 ⋯\n",
       "   6 │ 100         25        0.322227   0.0110565     2500   0.31117     0.333\n",
       "   7 │ 1000        2         0.156581   0.00466943    2000   0.151912    0.161\n",
       "   8 │ 1000        5         0.473995   0.0153308     5000   0.458664    0.489\n",
       "   9 │ 1000        10        1.15281    0.0339923    10000   1.11882     1.186 ⋯\n",
       "  10 │ 1000        15        1.77635    0.0557205    15000   1.72063     1.832\n",
       "  11 │ 1000        20        2.39069    0.0590245    20000   2.33167     2.449\n",
       "  12 │ 1000        25        3.23556    0.0828795    25000   3.15268     3.318\n",
       "  13 │ 10000       2         1.62625    0.0367928    20000   1.58946     1.663 ⋯\n",
       "  14 │ 10000       5         4.91426    0.0908054    50000   4.82346     5.005\n",
       "  15 │ 10000       10       11.4024     0.249822    100000  11.1525     11.652\n",
       "  16 │ 10000       15       17.0803     0.469138    150000  16.6111     17.549\n",
       "  17 │ 10000       20       27.4638     0.558897    200000  26.9049     28.022 ⋯\n",
       "  18 │ 10000       25       39.7428     0.581203    250000  39.1616     40.324\n",
       "\u001b[36m                                                               2 columns omitted\u001b[0m"
      ]
     },
     "execution_count": 7,
     "metadata": {},
     "output_type": "execute_result"
    }
   ],
   "source": [
    "#simulation parameters\n",
    "@info \"making results table GLMM\"\n",
    "sample_sizes = repeat(string.(samplesizes), inner = nsims * length(ns))\n",
    "obs_sizes = repeat(string.(ns), inner = nsims, outer = length(samplesizes))\n",
    "\n",
    "msedf = DataFrame(samplesize = sample_sizes, obssize = obs_sizes, fittimes = fittimes_GLMM)\n",
    "timedf2 = combine(groupby(msedf, [:samplesize, :obssize]), :fittimes => mean => :fittime,\n",
    "    :fittimes => x -> (std(x)/sqrt(length(x))))\n",
    "rename!(timedf2, Dict(:fittimes_function => \"se\"))\n",
    "timedf2[!, :nobs] = Meta.parse.(timedf2[!, :samplesize]) .* Meta.parse.(timedf2[!, :obssize])\n",
    "timedf2[!, :fitmin] = timedf2[!, :fittime] - timedf2[!, :se]\n",
    "timedf2[!, :fitmax] = timedf2[!, :fittime] + timedf2[!, :se]\n",
    "timedf2[!, :perobsratio] = timedf2[!, :fittime] ./ timedf2[!, :nobs]\n",
    "timedf2"
   ]
  },
  {
   "cell_type": "code",
   "execution_count": 8,
   "metadata": {},
   "outputs": [
    {
     "data": {
      "text/html": [
       "<div class=\"data-frame\"><p>18 rows × 5 columns</p><table class=\"data-frame\"><thead><tr><th></th><th>people_obs</th><th>β1</th><th>β2</th><th>β3</th><th>θ1</th></tr><tr><th></th><th title=\"String\">String</th><th title=\"Tuple{Float64, Float64}\">Tuple…</th><th title=\"Tuple{Float64, Float64}\">Tuple…</th><th title=\"Tuple{Float64, Float64}\">Tuple…</th><th title=\"Tuple{Float64, Float64}\">Tuple…</th></tr></thead><tbody><tr><th>1</th><td>N: 100  ni: 2</td><td>(0.76, 0.0429235)</td><td>(0.8, 0.0402015)</td><td>(0.68, 0.0468826)</td><td>(0.82, 0.0386123)</td></tr><tr><th>2</th><td>N: 100  ni: 5</td><td>(0.83, 0.0377525)</td><td>(0.77, 0.0422953)</td><td>(0.82, 0.0386123)</td><td>(0.85, 0.035887)</td></tr><tr><th>3</th><td>N: 100  ni: 10</td><td>(0.88, 0.0326599)</td><td>(0.9, 0.0301511)</td><td>(0.83, 0.0377525)</td><td>(0.92, 0.027266)</td></tr><tr><th>4</th><td>N: 100  ni: 15</td><td>(0.9, 0.0301511)</td><td>(0.9, 0.0301511)</td><td>(0.87, 0.0337998)</td><td>(0.93, 0.0256432)</td></tr><tr><th>5</th><td>N: 100  ni: 20</td><td>(0.85, 0.035887)</td><td>(0.89, 0.0314466)</td><td>(0.77, 0.0422953)</td><td>(0.88, 0.0326599)</td></tr><tr><th>6</th><td>N: 100  ni: 25</td><td>(0.79, 0.040936)</td><td>(0.84, 0.0368453)</td><td>(0.79, 0.040936)</td><td>(0.93, 0.0256432)</td></tr><tr><th>7</th><td>N: 1000  ni: 2</td><td>(0.79, 0.040936)</td><td>(0.85, 0.035887)</td><td>(0.79, 0.040936)</td><td>(0.89, 0.0314466)</td></tr><tr><th>8</th><td>N: 1000  ni: 5</td><td>(0.87, 0.0337998)</td><td>(0.86, 0.0348735)</td><td>(0.92, 0.027266)</td><td>(0.91, 0.0287623)</td></tr><tr><th>9</th><td>N: 1000  ni: 10</td><td>(0.95, 0.0219043)</td><td>(0.8, 0.0402015)</td><td>(0.77, 0.0422953)</td><td>(0.95, 0.0219043)</td></tr><tr><th>10</th><td>N: 1000  ni: 15</td><td>(0.9, 0.0301511)</td><td>(0.85, 0.035887)</td><td>(0.89, 0.0314466)</td><td>(0.98, 0.0140705)</td></tr><tr><th>11</th><td>N: 1000  ni: 20</td><td>(0.93, 0.0256432)</td><td>(0.9, 0.0301511)</td><td>(0.85, 0.035887)</td><td>(0.94, 0.0238683)</td></tr><tr><th>12</th><td>N: 1000  ni: 25</td><td>(0.87, 0.0337998)</td><td>(0.8, 0.0402015)</td><td>(0.78, 0.0416333)</td><td>(0.88, 0.0326599)</td></tr><tr><th>13</th><td>N: 10000  ni: 2</td><td>(0.89, 0.0314466)</td><td>(0.81, 0.0394277)</td><td>(0.85, 0.035887)</td><td>(0.93, 0.0256432)</td></tr><tr><th>14</th><td>N: 10000  ni: 5</td><td>(0.91, 0.0287623)</td><td>(0.81, 0.0394277)</td><td>(0.83, 0.0377525)</td><td>(0.93, 0.0256432)</td></tr><tr><th>15</th><td>N: 10000  ni: 10</td><td>(0.91, 0.0287623)</td><td>(0.8, 0.0402015)</td><td>(0.83, 0.0377525)</td><td>(0.97, 0.0171447)</td></tr><tr><th>16</th><td>N: 10000  ni: 15</td><td>(0.91, 0.0287623)</td><td>(0.77, 0.0422953)</td><td>(0.85, 0.035887)</td><td>(0.96, 0.0196946)</td></tr><tr><th>17</th><td>N: 10000  ni: 20</td><td>(0.91, 0.0287623)</td><td>(0.68, 0.0468826)</td><td>(0.8, 0.0402015)</td><td>(0.93, 0.0256432)</td></tr><tr><th>18</th><td>N: 10000  ni: 25</td><td>(0.89, 0.0314466)</td><td>(0.81, 0.0394277)</td><td>(0.76, 0.0429235)</td><td>(0.95, 0.0219043)</td></tr></tbody></table></div>"
      ],
      "text/latex": [
       "\\begin{tabular}{r|ccccc}\n",
       "\t& people\\_obs & β1 & β2 & β3 & θ1\\\\\n",
       "\t\\hline\n",
       "\t& String & Tuple… & Tuple… & Tuple… & Tuple…\\\\\n",
       "\t\\hline\n",
       "\t1 & N: 100  ni: 2 & (0.76, 0.0429235) & (0.8, 0.0402015) & (0.68, 0.0468826) & (0.82, 0.0386123) \\\\\n",
       "\t2 & N: 100  ni: 5 & (0.83, 0.0377525) & (0.77, 0.0422953) & (0.82, 0.0386123) & (0.85, 0.035887) \\\\\n",
       "\t3 & N: 100  ni: 10 & (0.88, 0.0326599) & (0.9, 0.0301511) & (0.83, 0.0377525) & (0.92, 0.027266) \\\\\n",
       "\t4 & N: 100  ni: 15 & (0.9, 0.0301511) & (0.9, 0.0301511) & (0.87, 0.0337998) & (0.93, 0.0256432) \\\\\n",
       "\t5 & N: 100  ni: 20 & (0.85, 0.035887) & (0.89, 0.0314466) & (0.77, 0.0422953) & (0.88, 0.0326599) \\\\\n",
       "\t6 & N: 100  ni: 25 & (0.79, 0.040936) & (0.84, 0.0368453) & (0.79, 0.040936) & (0.93, 0.0256432) \\\\\n",
       "\t7 & N: 1000  ni: 2 & (0.79, 0.040936) & (0.85, 0.035887) & (0.79, 0.040936) & (0.89, 0.0314466) \\\\\n",
       "\t8 & N: 1000  ni: 5 & (0.87, 0.0337998) & (0.86, 0.0348735) & (0.92, 0.027266) & (0.91, 0.0287623) \\\\\n",
       "\t9 & N: 1000  ni: 10 & (0.95, 0.0219043) & (0.8, 0.0402015) & (0.77, 0.0422953) & (0.95, 0.0219043) \\\\\n",
       "\t10 & N: 1000  ni: 15 & (0.9, 0.0301511) & (0.85, 0.035887) & (0.89, 0.0314466) & (0.98, 0.0140705) \\\\\n",
       "\t11 & N: 1000  ni: 20 & (0.93, 0.0256432) & (0.9, 0.0301511) & (0.85, 0.035887) & (0.94, 0.0238683) \\\\\n",
       "\t12 & N: 1000  ni: 25 & (0.87, 0.0337998) & (0.8, 0.0402015) & (0.78, 0.0416333) & (0.88, 0.0326599) \\\\\n",
       "\t13 & N: 10000  ni: 2 & (0.89, 0.0314466) & (0.81, 0.0394277) & (0.85, 0.035887) & (0.93, 0.0256432) \\\\\n",
       "\t14 & N: 10000  ni: 5 & (0.91, 0.0287623) & (0.81, 0.0394277) & (0.83, 0.0377525) & (0.93, 0.0256432) \\\\\n",
       "\t15 & N: 10000  ni: 10 & (0.91, 0.0287623) & (0.8, 0.0402015) & (0.83, 0.0377525) & (0.97, 0.0171447) \\\\\n",
       "\t16 & N: 10000  ni: 15 & (0.91, 0.0287623) & (0.77, 0.0422953) & (0.85, 0.035887) & (0.96, 0.0196946) \\\\\n",
       "\t17 & N: 10000  ni: 20 & (0.91, 0.0287623) & (0.68, 0.0468826) & (0.8, 0.0402015) & (0.93, 0.0256432) \\\\\n",
       "\t18 & N: 10000  ni: 25 & (0.89, 0.0314466) & (0.81, 0.0394277) & (0.76, 0.0429235) & (0.95, 0.0219043) \\\\\n",
       "\\end{tabular}\n"
      ],
      "text/plain": [
       "\u001b[1m18×5 DataFrame\u001b[0m\n",
       "\u001b[1m Row \u001b[0m│\u001b[1m people_obs       \u001b[0m\u001b[1m β1                \u001b[0m\u001b[1m β2                \u001b[0m\u001b[1m β3             \u001b[0m ⋯\n",
       "\u001b[1m     \u001b[0m│\u001b[90m String           \u001b[0m\u001b[90m Tuple…            \u001b[0m\u001b[90m Tuple…            \u001b[0m\u001b[90m Tuple…         \u001b[0m ⋯\n",
       "─────┼──────────────────────────────────────────────────────────────────────────\n",
       "   1 │ N: 100  ni: 2     (0.76, 0.0429235)  (0.8, 0.0402015)   (0.68, 0.046882 ⋯\n",
       "   2 │ N: 100  ni: 5     (0.83, 0.0377525)  (0.77, 0.0422953)  (0.82, 0.038612\n",
       "   3 │ N: 100  ni: 10    (0.88, 0.0326599)  (0.9, 0.0301511)   (0.83, 0.037752\n",
       "   4 │ N: 100  ni: 15    (0.9, 0.0301511)   (0.9, 0.0301511)   (0.87, 0.033799\n",
       "   5 │ N: 100  ni: 20    (0.85, 0.035887)   (0.89, 0.0314466)  (0.77, 0.042295 ⋯\n",
       "   6 │ N: 100  ni: 25    (0.79, 0.040936)   (0.84, 0.0368453)  (0.79, 0.040936\n",
       "   7 │ N: 1000  ni: 2    (0.79, 0.040936)   (0.85, 0.035887)   (0.79, 0.040936\n",
       "   8 │ N: 1000  ni: 5    (0.87, 0.0337998)  (0.86, 0.0348735)  (0.92, 0.027266\n",
       "   9 │ N: 1000  ni: 10   (0.95, 0.0219043)  (0.8, 0.0402015)   (0.77, 0.042295 ⋯\n",
       "  10 │ N: 1000  ni: 15   (0.9, 0.0301511)   (0.85, 0.035887)   (0.89, 0.031446\n",
       "  11 │ N: 1000  ni: 20   (0.93, 0.0256432)  (0.9, 0.0301511)   (0.85, 0.035887\n",
       "  12 │ N: 1000  ni: 25   (0.87, 0.0337998)  (0.8, 0.0402015)   (0.78, 0.041633\n",
       "  13 │ N: 10000  ni: 2   (0.89, 0.0314466)  (0.81, 0.0394277)  (0.85, 0.035887 ⋯\n",
       "  14 │ N: 10000  ni: 5   (0.91, 0.0287623)  (0.81, 0.0394277)  (0.83, 0.037752\n",
       "  15 │ N: 10000  ni: 10  (0.91, 0.0287623)  (0.8, 0.0402015)   (0.83, 0.037752\n",
       "  16 │ N: 10000  ni: 15  (0.91, 0.0287623)  (0.77, 0.0422953)  (0.85, 0.035887\n",
       "  17 │ N: 10000  ni: 20  (0.91, 0.0287623)  (0.68, 0.0468826)  (0.8, 0.0402015 ⋯\n",
       "  18 │ N: 10000  ni: 25  (0.89, 0.0314466)  (0.81, 0.0394277)  (0.76, 0.042923\n",
       "\u001b[36m                                                               2 columns omitted\u001b[0m"
      ]
     },
     "execution_count": 8,
     "metadata": {},
     "output_type": "execute_result"
    }
   ],
   "source": [
    "######  supplementary table s1\n",
    "using Random, DataFrames, DelimitedFiles, Statistics\n",
    "import StatsBase: sem\n",
    "\n",
    "βθcoverage = readdlm(\"beta_theta_coverage_multivariate_bernoulli_vcm$(nsims)reps_sim.csv\", ',')\n",
    "\n",
    "m  = 1\n",
    "\n",
    "covdf = DataFrame(Matrix(transpose(βθcoverage)), :auto)\n",
    "rename!(covdf, Symbol.([[\"β$i\" for i in 1:p]; [\"θ$i\" for i in 1:m]]))\n",
    "covdf[!, :samplesize] = sample_sizes\n",
    "covdf[!, :obssize] = obs_sizes\n",
    "first(covdf, 10)\n",
    "\n",
    "row_stats = [[(mean(col), sem(col)) for col = eachcol(d[!, 1:end-2])] for d = groupby(covdf, [:samplesize; :obssize])]\n",
    "df = DataFrame(row_stats, :auto)\n",
    "ss_obs = unique(\"N: \" .* sample_sizes .* \"  ni: \" .* obs_sizes)\n",
    "rename!(df, Symbol.(ss_obs))\n",
    "covdfdisplay = DataFrame([[names(df)]; collect.(eachrow(df))], \n",
    "    [:people_obs; Symbol.([[\"β$i\" for i in 1:p]; [\"θ$i\" for i in 1:m]])])\n",
    "# deletecols!(covdfdisplay, p + 2)\n",
    "covdfdisplay\n"
   ]
  },
  {
   "cell_type": "code",
   "execution_count": 9,
   "metadata": {},
   "outputs": [
    {
     "data": {
      "text/html": [
       "<div class=\"data-frame\"><p>7,200 rows × 5 columns</p><table class=\"data-frame\"><thead><tr><th></th><th>mse</th><th>obssize</th><th>samplesize</th><th>parameters</th><th>robust</th></tr><tr><th></th><th title=\"Float64\">Float64</th><th title=\"String\">String</th><th title=\"String\">String</th><th title=\"String\">String</th><th title=\"String\">String</th></tr></thead><tbody><tr><th>1</th><td>0.00745542</td><td>2</td><td>100</td><td>beta</td><td>Bernoulli Quasi-Copula</td></tr><tr><th>2</th><td>0.0500384</td><td>2</td><td>100</td><td>beta</td><td>Bernoulli Quasi-Copula</td></tr><tr><th>3</th><td>0.0391015</td><td>2</td><td>100</td><td>beta</td><td>Bernoulli Quasi-Copula</td></tr><tr><th>4</th><td>0.00389419</td><td>2</td><td>100</td><td>beta</td><td>Bernoulli Quasi-Copula</td></tr><tr><th>5</th><td>0.0447958</td><td>2</td><td>100</td><td>beta</td><td>Bernoulli Quasi-Copula</td></tr><tr><th>6</th><td>0.0113265</td><td>2</td><td>100</td><td>beta</td><td>Bernoulli Quasi-Copula</td></tr><tr><th>7</th><td>0.0183304</td><td>2</td><td>100</td><td>beta</td><td>Bernoulli Quasi-Copula</td></tr><tr><th>8</th><td>0.00657923</td><td>2</td><td>100</td><td>beta</td><td>Bernoulli Quasi-Copula</td></tr><tr><th>9</th><td>0.0267323</td><td>2</td><td>100</td><td>beta</td><td>Bernoulli Quasi-Copula</td></tr><tr><th>10</th><td>0.105282</td><td>2</td><td>100</td><td>beta</td><td>Bernoulli Quasi-Copula</td></tr><tr><th>11</th><td>0.00717617</td><td>2</td><td>100</td><td>beta</td><td>Bernoulli Quasi-Copula</td></tr><tr><th>12</th><td>0.0523069</td><td>2</td><td>100</td><td>beta</td><td>Bernoulli Quasi-Copula</td></tr><tr><th>13</th><td>0.0529605</td><td>2</td><td>100</td><td>beta</td><td>Bernoulli Quasi-Copula</td></tr><tr><th>14</th><td>0.0422532</td><td>2</td><td>100</td><td>beta</td><td>Bernoulli Quasi-Copula</td></tr><tr><th>15</th><td>0.0424024</td><td>2</td><td>100</td><td>beta</td><td>Bernoulli Quasi-Copula</td></tr><tr><th>16</th><td>0.0328455</td><td>2</td><td>100</td><td>beta</td><td>Bernoulli Quasi-Copula</td></tr><tr><th>17</th><td>0.0082423</td><td>2</td><td>100</td><td>beta</td><td>Bernoulli Quasi-Copula</td></tr><tr><th>18</th><td>0.018594</td><td>2</td><td>100</td><td>beta</td><td>Bernoulli Quasi-Copula</td></tr><tr><th>19</th><td>0.0201452</td><td>2</td><td>100</td><td>beta</td><td>Bernoulli Quasi-Copula</td></tr><tr><th>20</th><td>0.011696</td><td>2</td><td>100</td><td>beta</td><td>Bernoulli Quasi-Copula</td></tr><tr><th>21</th><td>0.0920363</td><td>2</td><td>100</td><td>beta</td><td>Bernoulli Quasi-Copula</td></tr><tr><th>22</th><td>0.0626817</td><td>2</td><td>100</td><td>beta</td><td>Bernoulli Quasi-Copula</td></tr><tr><th>23</th><td>0.0425643</td><td>2</td><td>100</td><td>beta</td><td>Bernoulli Quasi-Copula</td></tr><tr><th>24</th><td>0.0481978</td><td>2</td><td>100</td><td>beta</td><td>Bernoulli Quasi-Copula</td></tr><tr><th>25</th><td>0.00700664</td><td>2</td><td>100</td><td>beta</td><td>Bernoulli Quasi-Copula</td></tr><tr><th>26</th><td>0.0592822</td><td>2</td><td>100</td><td>beta</td><td>Bernoulli Quasi-Copula</td></tr><tr><th>27</th><td>0.0140769</td><td>2</td><td>100</td><td>beta</td><td>Bernoulli Quasi-Copula</td></tr><tr><th>28</th><td>0.0210129</td><td>2</td><td>100</td><td>beta</td><td>Bernoulli Quasi-Copula</td></tr><tr><th>29</th><td>0.0150102</td><td>2</td><td>100</td><td>beta</td><td>Bernoulli Quasi-Copula</td></tr><tr><th>30</th><td>0.00709239</td><td>2</td><td>100</td><td>beta</td><td>Bernoulli Quasi-Copula</td></tr><tr><th>&vellip;</th><td>&vellip;</td><td>&vellip;</td><td>&vellip;</td><td>&vellip;</td><td>&vellip;</td></tr></tbody></table></div>"
      ],
      "text/latex": [
       "\\begin{tabular}{r|ccccc}\n",
       "\t& mse & obssize & samplesize & parameters & robust\\\\\n",
       "\t\\hline\n",
       "\t& Float64 & String & String & String & String\\\\\n",
       "\t\\hline\n",
       "\t1 & 0.00745542 & 2 & 100 & beta & Bernoulli Quasi-Copula \\\\\n",
       "\t2 & 0.0500384 & 2 & 100 & beta & Bernoulli Quasi-Copula \\\\\n",
       "\t3 & 0.0391015 & 2 & 100 & beta & Bernoulli Quasi-Copula \\\\\n",
       "\t4 & 0.00389419 & 2 & 100 & beta & Bernoulli Quasi-Copula \\\\\n",
       "\t5 & 0.0447958 & 2 & 100 & beta & Bernoulli Quasi-Copula \\\\\n",
       "\t6 & 0.0113265 & 2 & 100 & beta & Bernoulli Quasi-Copula \\\\\n",
       "\t7 & 0.0183304 & 2 & 100 & beta & Bernoulli Quasi-Copula \\\\\n",
       "\t8 & 0.00657923 & 2 & 100 & beta & Bernoulli Quasi-Copula \\\\\n",
       "\t9 & 0.0267323 & 2 & 100 & beta & Bernoulli Quasi-Copula \\\\\n",
       "\t10 & 0.105282 & 2 & 100 & beta & Bernoulli Quasi-Copula \\\\\n",
       "\t11 & 0.00717617 & 2 & 100 & beta & Bernoulli Quasi-Copula \\\\\n",
       "\t12 & 0.0523069 & 2 & 100 & beta & Bernoulli Quasi-Copula \\\\\n",
       "\t13 & 0.0529605 & 2 & 100 & beta & Bernoulli Quasi-Copula \\\\\n",
       "\t14 & 0.0422532 & 2 & 100 & beta & Bernoulli Quasi-Copula \\\\\n",
       "\t15 & 0.0424024 & 2 & 100 & beta & Bernoulli Quasi-Copula \\\\\n",
       "\t16 & 0.0328455 & 2 & 100 & beta & Bernoulli Quasi-Copula \\\\\n",
       "\t17 & 0.0082423 & 2 & 100 & beta & Bernoulli Quasi-Copula \\\\\n",
       "\t18 & 0.018594 & 2 & 100 & beta & Bernoulli Quasi-Copula \\\\\n",
       "\t19 & 0.0201452 & 2 & 100 & beta & Bernoulli Quasi-Copula \\\\\n",
       "\t20 & 0.011696 & 2 & 100 & beta & Bernoulli Quasi-Copula \\\\\n",
       "\t21 & 0.0920363 & 2 & 100 & beta & Bernoulli Quasi-Copula \\\\\n",
       "\t22 & 0.0626817 & 2 & 100 & beta & Bernoulli Quasi-Copula \\\\\n",
       "\t23 & 0.0425643 & 2 & 100 & beta & Bernoulli Quasi-Copula \\\\\n",
       "\t24 & 0.0481978 & 2 & 100 & beta & Bernoulli Quasi-Copula \\\\\n",
       "\t25 & 0.00700664 & 2 & 100 & beta & Bernoulli Quasi-Copula \\\\\n",
       "\t26 & 0.0592822 & 2 & 100 & beta & Bernoulli Quasi-Copula \\\\\n",
       "\t27 & 0.0140769 & 2 & 100 & beta & Bernoulli Quasi-Copula \\\\\n",
       "\t28 & 0.0210129 & 2 & 100 & beta & Bernoulli Quasi-Copula \\\\\n",
       "\t29 & 0.0150102 & 2 & 100 & beta & Bernoulli Quasi-Copula \\\\\n",
       "\t30 & 0.00709239 & 2 & 100 & beta & Bernoulli Quasi-Copula \\\\\n",
       "\t$\\dots$ & $\\dots$ & $\\dots$ & $\\dots$ & $\\dots$ & $\\dots$ \\\\\n",
       "\\end{tabular}\n"
      ],
      "text/plain": [
       "\u001b[1m7200×5 DataFrame\u001b[0m\n",
       "\u001b[1m  Row \u001b[0m│\u001b[1m mse        \u001b[0m\u001b[1m obssize \u001b[0m\u001b[1m samplesize \u001b[0m\u001b[1m parameters \u001b[0m\u001b[1m robust                 \u001b[0m\n",
       "\u001b[1m      \u001b[0m│\u001b[90m Float64    \u001b[0m\u001b[90m String  \u001b[0m\u001b[90m String     \u001b[0m\u001b[90m String     \u001b[0m\u001b[90m String                 \u001b[0m\n",
       "──────┼─────────────────────────────────────────────────────────────────────\n",
       "    1 │ 0.00745542  2        100         beta        Bernoulli Quasi-Copula\n",
       "    2 │ 0.0500384   2        100         beta        Bernoulli Quasi-Copula\n",
       "    3 │ 0.0391015   2        100         beta        Bernoulli Quasi-Copula\n",
       "    4 │ 0.00389419  2        100         beta        Bernoulli Quasi-Copula\n",
       "    5 │ 0.0447958   2        100         beta        Bernoulli Quasi-Copula\n",
       "    6 │ 0.0113265   2        100         beta        Bernoulli Quasi-Copula\n",
       "    7 │ 0.0183304   2        100         beta        Bernoulli Quasi-Copula\n",
       "    8 │ 0.00657923  2        100         beta        Bernoulli Quasi-Copula\n",
       "    9 │ 0.0267323   2        100         beta        Bernoulli Quasi-Copula\n",
       "   10 │ 0.105282    2        100         beta        Bernoulli Quasi-Copula\n",
       "   11 │ 0.00717617  2        100         beta        Bernoulli Quasi-Copula\n",
       "  ⋮   │     ⋮          ⋮         ⋮           ⋮                 ⋮\n",
       " 7191 │ 0.00907325  25       10000       theta       Bernoulli GLMM\n",
       " 7192 │ 0.00893702  25       10000       theta       Bernoulli GLMM\n",
       " 7193 │ 0.00987607  25       10000       theta       Bernoulli GLMM\n",
       " 7194 │ 0.00814321  25       10000       theta       Bernoulli GLMM\n",
       " 7195 │ 0.0101203   25       10000       theta       Bernoulli GLMM\n",
       " 7196 │ 0.00854683  25       10000       theta       Bernoulli GLMM\n",
       " 7197 │ 0.00942894  25       10000       theta       Bernoulli GLMM\n",
       " 7198 │ 0.00988017  25       10000       theta       Bernoulli GLMM\n",
       " 7199 │ 0.00868918  25       10000       theta       Bernoulli GLMM\n",
       " 7200 │ 0.00788235  25       10000       theta       Bernoulli GLMM\n",
       "\u001b[36m                                                           7179 rows omitted\u001b[0m"
      ]
     },
     "execution_count": 9,
     "metadata": {},
     "output_type": "execute_result"
    }
   ],
   "source": [
    "#### \n",
    "#import data and reorganize to create figure\n",
    "using Random, DataFrames, DelimitedFiles, Statistics, RCall, Printf\n",
    "import StatsBase: sem\n",
    "\n",
    "βMseresult = vec(readdlm(\"mse_beta_multivariate_bernoulli_vcm$(nsims)reps_sim.csv\", ','))\n",
    "θMseresult = vec(readdlm(\"mse_theta_multivariate_bernoulli_vcm$(nsims)reps_sim.csv\", ','))\n",
    "\n",
    "βMseresult_GLMM = vec(readdlm(\"mse_beta_GLMM_multivariate_bernoulli_vcm$(nsims)reps_sim.csv\", ','))\n",
    "θMseresult_GLMM = vec(readdlm(\"mse_theta_GLMM_multivariate_bernoulli_vcm$(nsims)reps_sim.csv\", ','))\n",
    "\n",
    "\n",
    "p = 3; m = 1\n",
    "sample_sizes = repeat(string.(samplesizes), inner = nsims * length(ns))\n",
    "obs_sizes = repeat(string.(ns), inner = nsims, outer = length(samplesizes))\n",
    "msedf1 = DataFrame(βmse = βMseresult, thetamse = θMseresult, \n",
    "    samplesize = sample_sizes, obssize = obs_sizes)\n",
    "\n",
    "msedf2 = DataFrame(βmse = βMseresult_GLMM, thetamse = θMseresult_GLMM, \n",
    "    samplesize = sample_sizes, obssize = obs_sizes)\n",
    "\n",
    "#rename to make parsing easier for R.\n",
    "\n",
    "msedf1 = deepcopy(msedf1)\n",
    "rename!(msedf1, [\"betamse\"\n",
    "    \"thetamse\"\n",
    "    \"samplesize\"\n",
    " \"obssize\"]);\n",
    "\n",
    "msedf2 = deepcopy(msedf2)\n",
    "rename!(msedf2, [\"betamse\"\n",
    "    \"thetamse\"\n",
    "    \"samplesize\"\n",
    " \"obssize\"]);\n",
    "\n",
    "mses = [msedf1[!, :betamse]; msedf1[!, :thetamse]; msedf2[!, :betamse]; msedf2[!, :thetamse]]\n",
    "    # msedfnormR[!, :betamse]; msedfnormR[!, :taumse]; msedfnormR[!, :Sigmamse]]\n",
    "obssize = [collect([repeat(msedf1[!, :obssize], 2)]...) ; collect([repeat(msedf2[!, :obssize], 2)]...)]\n",
    "#40\n",
    "samplesize = [collect([repeat(msedf1[!, :samplesize], 2)]...) ; collect([repeat(msedf2[!, :samplesize], 2)]...)]\n",
    "\n",
    "parameters = [collect([repeat(string.([:beta, :theta]), inner = nsims * length(ns) * length(samplesizes))]...) ; collect([repeat(string.([:beta, :theta]), inner = nsims * length(ns) * length(samplesizes))]...)]\n",
    "robust = [collect([repeat([\"Bernoulli Quasi-Copula\"], 2 * nsims * length(ns) * length(samplesizes))]...); collect([repeat([\"Bernoulli GLMM\"],  2 * nsims * length(ns) * length(samplesizes))]...)]\n",
    "\n",
    "msedfR = DataFrame(mse = mses, obssize = obssize, samplesize = samplesize,\n",
    "    parameters = parameters, robust = robust)\n",
    "\n",
    "#5 of the 30,000 simulations did not converge, filter out\n",
    "msedfR = filter(x -> !isnan(x.mse), msedfR)\n",
    "# additionally, there are 5 where an error was not caught so it did not try a differnt solver\n",
    "msedfR = filter(x -> x.mse < 40000, msedfR)"
   ]
  },
  {
   "cell_type": "code",
   "execution_count": 10,
   "metadata": {},
   "outputs": [
    {
     "name": "stderr",
     "output_type": "stream",
     "text": [
      "┌ Warning: RCall.jl: Warning: package ‘scales’ was built under R version 4.0.2\n",
      "└ @ RCall /Users/sarahji/.julia/packages/RCall/6kphM/src/io.jl:172\n",
      "┌ Warning: RCall.jl: Warning: package ‘ggplot2’ was built under R version 4.0.2\n",
      "└ @ RCall /Users/sarahji/.julia/packages/RCall/6kphM/src/io.jl:172\n",
      "┌ Warning: RCall.jl: Warning: package ‘data.table’ was built under R version 4.0.2\n",
      "└ @ RCall /Users/sarahji/.julia/packages/RCall/6kphM/src/io.jl:172\n"
     ]
    },
    {
     "data": {
      "image/png": "[encoded data removed]"
     },
     "metadata": {},
     "output_type": "display_data"
    },
    {
     "data": {
      "text/plain": [
       "RObject{VecSxp}\n"
      ]
     },
     "execution_count": 10,
     "metadata": {},
     "output_type": "execute_result"
    }
   ],
   "source": [
    "### working on figure next\n",
    "@rput msedfR\n",
    "\n",
    "R\"\"\"\n",
    "library(scales)\n",
    "library(ggplot2)\n",
    "library(data.table)\n",
    "\n",
    "msedfR = data.table(msedfR)\n",
    "\n",
    "msedfR[parameters == \"beta\",y_min := 10^-6]\n",
    "msedfR[parameters == \"beta\",y_max := 10^0]\n",
    "msedfR[parameters == \"theta\",y_min := 10^-5]\n",
    "msedfR[parameters == \"theta\",y_max := 10^1]\n",
    "\n",
    "#msedfR[parameters == \"beta\",y_min := 10^-8]\n",
    "#msedfR[parameters == \"beta\",y_max := 10^-2]\n",
    "#msedfR[parameters == \"tau\",y_min := 10^-8]\n",
    "#msedfR[parameters == \"tau\",y_max := 10^-2]\n",
    "#msedfR[parameters == \"Sigma\",y_min := 10^-5]\n",
    "#msedfR[parameters == \"Sigma\",y_max := 10^-2]\n",
    "\n",
    "\n",
    "msedfR$obssize = factor(msedfR$obssize, levels = c('2', '5', '10', '15', '20', '25'))\n",
    "msedfR$samplesize = factor(msedfR$samplesize, levels = c('100', '1000', '10000'))\n",
    "msedfR$parameters = factor(msedfR$parameters, levels = c('beta', 'theta'), labels = c(beta = expression(hat(bold(beta))), theta = expression(hat(bold(theta))[])))\n",
    "msedfR$robust <- factor(msedfR$robust, levels = c('Bernoulli Quasi-Copula', 'Bernoulli GLMM'),\n",
    "    labels = c(expression(paste(\"Bernoulli Quasi-Copula\")), expression(paste(\"Bernoulli GLMM\"))))\n",
    "\n",
    "\n",
    "#mseplot <- ggplot(msedfR[msedfR$mse < 10^0, ], aes(x=samplesize, y=mse, fill=obssize)) + \n",
    "mseplot = ggplot(msedfR[msedfR$mse < 10^3, ], aes(x=samplesize, y=mse, fill=obssize)) + \n",
    "  #geom_boxplot(outlier.size = 0.0, outlier.alpha = 0) +\n",
    "  geom_boxplot(outlier.size = 0.25) +\n",
    "#    geom_violin() +\n",
    "    facet_grid(parameters ~ robust, labeller = label_parsed, scales = \"free_y\") +\n",
    "  theme(legend.position=\"right\", legend.key = element_blank(), axis.text.x = element_text(angle=0, size=30),\n",
    "        axis.text.y = element_text(angle=0, size=30), axis.title.x = element_text(size = 30, face=\"bold\"), \n",
    "        axis.title.y = element_text(size = 40, face=\"bold\"), legend.title = element_text(size = 30, face=\"bold\"),\n",
    "        panel.grid.major = element_blank(), panel.grid.minor = element_blank(),\n",
    "        legend.text=element_text(size=30), panel.background = element_rect(fill = NA, color = \"black\"),\n",
    "        #panel.background = element_blank(), #panel.border = element_blank(),\n",
    "        axis.line = element_line(color = 'black',size=0.3), plot.title = element_text(hjust = 0.5),\n",
    "        strip.background = element_rect(colour=\"black\", fill=\"white\"), strip.text.y = element_text(angle = 0, size=75, face=\"bold\"),\n",
    "        strip.text.x = element_text(size=25)) + \n",
    "  scale_fill_manual(values = c(\"#c85f55\",\n",
    "\"#a964bf\",\n",
    "\"#8db352\",\n",
    "\"#fa7300\",\n",
    "\"#05aec0\",\n",
    "\"#ff1493\")) +\n",
    "#scale_y_log10(breaks = scales::trans_breaks(\"log10\", function(x) 10^x)) +\n",
    "#scale_y_log10(breaks = 10^(-8:8), limit=c(10^-8, 10^2)) + \n",
    "scale_y_log10(breaks = 10^seq(-10, 10, 2), labels=trans_format(\"log10\", math_format(10^.x))) + #, limit=c(10^-8, 10^2)) +\n",
    "  labs(x = \"Sample Size\", y = \"MSE of Parameter Estimates\", fill = \"Cluster Size\") +\n",
    "geom_blank(aes(y = y_max)) + \n",
    "geom_blank(aes(y = y_min)) \n",
    "\"\"\""
   ]
  },
  {
   "cell_type": "code",
   "execution_count": 11,
   "metadata": {},
   "outputs": [
    {
     "data": {
      "text/plain": [
       "RObject{StrSxp}\n",
       "[1] \"updated_msefacetplot_bernoulli_sim1.png\"\n"
      ]
     },
     "execution_count": 11,
     "metadata": {},
     "output_type": "execute_result"
    }
   ],
   "source": [
    "R\"\"\"\n",
    "    ggsave('updated_msefacetplot_bernoulli_sim1.png', mseplot, width = 20, height = 15, units = 'in', dpi = 450)\n",
    "\"\"\""
   ]
  }
 ],
 "metadata": {
  "@webio": {
   "lastCommId": null,
   "lastKernelId": null
  },
  "kernelspec": {
   "display_name": "Julia 1.6.2",
   "language": "julia",
   "name": "julia-1.6"
  },
  "language_info": {
   "file_extension": ".jl",
   "mimetype": "application/julia",
   "name": "julia",
   "version": "1.6.2"
  }
 },
 "nbformat": 4,
 "nbformat_minor": 2
}
