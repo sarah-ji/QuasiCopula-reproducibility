{
 "cells": [
  {
   "cell_type": "markdown",
   "metadata": {},
   "source": [
    "## Poisson VCM Results \n",
    "\n",
    "This notebook goes over the code needed to reproduce the results from the MSE and time figures for the Poisson base distribution with Log Link and covariance matrix $\\Gamma$ structured under variance component model framework as follows:\n",
    "\n",
    "$$\n",
    "\\Gamma = 0.01 * \\mathbf{1_{n} 1_{n}^\\top}\n",
    "$$\n",
    "\n",
    "In this example simulate three fixed effects under our the random intercept Poisson GLMM with $\\beta \\sim$ rand(Uniform(-0.2, 0.2), p) where p = 3 fixed effects.\n",
    "\n",
    "We use multi-threading on 8 threads to obtain these MSE results on the following machine, and include MSE results from 100 simulation runs comparing the fit of ours with that of the random intercept Poisson GLMM from MixedModels.jl for each scenario."
   ]
  },
  {
   "cell_type": "code",
   "execution_count": 1,
   "metadata": {},
   "outputs": [
    {
     "name": "stdout",
     "output_type": "stream",
     "text": [
      "Julia Version 1.6.2\n",
      "Commit 1b93d53fc4 (2021-07-14 15:36 UTC)\n",
      "Platform Info:\n",
      "  OS: macOS (x86_64-apple-darwin18.7.0)\n",
      "  CPU: Intel(R) Core(TM) i9-9880H CPU @ 2.30GHz\n",
      "  WORD_SIZE: 64\n",
      "  LIBM: libopenlibm\n",
      "  LLVM: libLLVM-11.0.1 (ORCJIT, skylake)\n"
     ]
    }
   ],
   "source": [
    "versioninfo()"
   ]
  },
  {
   "cell_type": "code",
   "execution_count": 2,
   "metadata": {},
   "outputs": [],
   "source": [
    "using QuasiCopula, DelimitedFiles, LinearAlgebra, Random, GLM\n",
    "using DataFrames"
   ]
  },
  {
   "cell_type": "code",
   "execution_count": 3,
   "metadata": {},
   "outputs": [],
   "source": [
    "p = 3    # number of fixed effects, including intercept\n",
    "m = 1    # number of variance components\n",
    "# true parameter values\n",
    "Random.seed!(12345)\n",
    "βtrue = rand(Uniform(-0.2, 0.2), p)\n",
    "θtrue = [0.01]\n",
    "\n",
    "# generate data\n",
    "intervals = zeros(p + m, 2) #hold intervals\n",
    "curcoverage = zeros(p + m) #hold current coverage resutls\n",
    "trueparams = [βtrue; θtrue] #hold true parameters\n",
    "\n",
    "#simulation parameters\n",
    "samplesizes = [100; 1000; 10000]\n",
    "ns = [2; 5; 10; 15; 20; 25]\n",
    "nsims = 100;"
   ]
  },
  {
   "cell_type": "code",
   "execution_count": 4,
   "metadata": {},
   "outputs": [
    {
     "name": "stderr",
     "output_type": "stream",
     "text": [
      "┌ Info: reading in the files with results\n",
      "└ @ Main In[4]:1\n"
     ]
    },
    {
     "data": {
      "text/plain": [
       "1800-element Vector{Float64}:\n",
       " 0.031700524\n",
       " 0.046852253\n",
       " 0.019752109\n",
       " 0.024646972\n",
       " 0.017007503\n",
       " 0.022530229\n",
       " 0.020399759\n",
       " 0.017965821\n",
       " 0.026239391\n",
       " 0.020634826\n",
       " 0.019794828\n",
       " 0.02260704\n",
       " 0.028815591\n",
       " ⋮\n",
       " 0.406568663\n",
       " 0.416288137\n",
       " 0.420704228\n",
       " 0.481566869\n",
       " 0.381293336\n",
       " 0.434105638\n",
       " 0.414348066\n",
       " 0.395131571\n",
       " 0.408073513\n",
       " 0.480894105\n",
       " 0.407862463\n",
       " 0.411841061"
      ]
     },
     "execution_count": 4,
     "metadata": {},
     "output_type": "execute_result"
    }
   ],
   "source": [
    "@info \"reading in the files with results\"\n",
    "βMseresult = vec(readdlm(\"mse_beta_multivariate_poisson_vcm$(nsims)reps_sim.csv\", ','))\n",
    "θMseresult = vec(readdlm(\"mse_theta_multivariate_poisson_vcm$(nsims)reps_sim.csv\", ','))\n",
    "fittimes_QC = vec(readdlm(\"fittimes_multivariate_poisson_vcm$(nsims)reps_sim.csv\", ','))"
   ]
  },
  {
   "cell_type": "code",
   "execution_count": 5,
   "metadata": {},
   "outputs": [
    {
     "data": {
      "text/plain": [
       "1800-element Vector{Float64}:\n",
       "  0.269525027\n",
       "  0.032344802\n",
       "  0.019079233\n",
       "  0.011208326\n",
       "  0.012346617\n",
       "  0.011353309\n",
       "  0.012682733\n",
       "  0.013696291\n",
       "  0.028689679\n",
       "  0.016622579\n",
       "  0.011705698\n",
       "  0.012600812\n",
       "  0.016347552\n",
       "  ⋮\n",
       " 39.054554012\n",
       " 24.35878525\n",
       " 31.165512165\n",
       " 27.735288592\n",
       " 22.12924036\n",
       " 32.961110211\n",
       " 26.363548652\n",
       " 32.100388663\n",
       " 32.411110442\n",
       " 33.78636201\n",
       " 34.459002712\n",
       " 26.990697288"
      ]
     },
     "execution_count": 5,
     "metadata": {},
     "output_type": "execute_result"
    }
   ],
   "source": [
    "fittimes_GLMM = vec(readdlm(\"fittimes_GLMM_multivariate_poisson_vcm$(nsims)reps_sim.csv\", ','))"
   ]
  },
  {
   "cell_type": "code",
   "execution_count": 6,
   "metadata": {},
   "outputs": [
    {
     "name": "stderr",
     "output_type": "stream",
     "text": [
      "┌ Info: making results table Quasi-Copula\n",
      "└ @ Main In[6]:2\n"
     ]
    },
    {
     "data": {
      "text/html": [
       "<div class=\"data-frame\"><p>18 rows × 8 columns</p><table class=\"data-frame\"><thead><tr><th></th><th>samplesize</th><th>obssize</th><th>fittime</th><th>se</th><th>nobs</th><th>fitmin</th><th>fitmax</th><th>perobsratio</th></tr><tr><th></th><th title=\"String\">String</th><th title=\"String\">String</th><th title=\"Float64\">Float64</th><th title=\"Float64\">Float64</th><th title=\"Int64\">Int64</th><th title=\"Float64\">Float64</th><th title=\"Float64\">Float64</th><th title=\"Float64\">Float64</th></tr></thead><tbody><tr><th>1</th><td>100</td><td>2</td><td>0.0213322</td><td>0.000461036</td><td>200</td><td>0.0208712</td><td>0.0222543</td><td>0.000106661</td></tr><tr><th>2</th><td>100</td><td>5</td><td>0.0199243</td><td>0.000388184</td><td>500</td><td>0.0195361</td><td>0.0207006</td><td>3.98486e-5</td></tr><tr><th>3</th><td>100</td><td>10</td><td>0.0232597</td><td>0.000543725</td><td>1000</td><td>0.022716</td><td>0.0243472</td><td>2.32597e-5</td></tr><tr><th>4</th><td>100</td><td>15</td><td>0.0241589</td><td>0.000525172</td><td>1500</td><td>0.0236337</td><td>0.0252093</td><td>1.61059e-5</td></tr><tr><th>5</th><td>100</td><td>20</td><td>0.0254905</td><td>0.00062182</td><td>2000</td><td>0.0248687</td><td>0.0267341</td><td>1.27452e-5</td></tr><tr><th>6</th><td>100</td><td>25</td><td>0.0256979</td><td>0.000384349</td><td>2500</td><td>0.0253135</td><td>0.0264665</td><td>1.02791e-5</td></tr><tr><th>7</th><td>1000</td><td>2</td><td>0.0253263</td><td>0.000473007</td><td>2000</td><td>0.0248533</td><td>0.0262723</td><td>1.26632e-5</td></tr><tr><th>8</th><td>1000</td><td>5</td><td>0.0304325</td><td>0.000470622</td><td>5000</td><td>0.0299619</td><td>0.0313738</td><td>6.08651e-6</td></tr><tr><th>9</th><td>1000</td><td>10</td><td>0.0350438</td><td>0.000721555</td><td>10000</td><td>0.0343222</td><td>0.0364869</td><td>3.50438e-6</td></tr><tr><th>10</th><td>1000</td><td>15</td><td>0.0399876</td><td>0.000382742</td><td>15000</td><td>0.0396049</td><td>0.0407531</td><td>2.66584e-6</td></tr><tr><th>11</th><td>1000</td><td>20</td><td>0.0424898</td><td>0.000451124</td><td>20000</td><td>0.0420387</td><td>0.043392</td><td>2.12449e-6</td></tr><tr><th>12</th><td>1000</td><td>25</td><td>0.0514595</td><td>0.000573166</td><td>25000</td><td>0.0508863</td><td>0.0526058</td><td>2.05838e-6</td></tr><tr><th>13</th><td>10000</td><td>2</td><td>0.127627</td><td>0.00130213</td><td>20000</td><td>0.126325</td><td>0.130231</td><td>6.38134e-6</td></tr><tr><th>14</th><td>10000</td><td>5</td><td>0.153644</td><td>0.00104744</td><td>50000</td><td>0.152597</td><td>0.155739</td><td>3.07288e-6</td></tr><tr><th>15</th><td>10000</td><td>10</td><td>0.232203</td><td>0.00193311</td><td>100000</td><td>0.23027</td><td>0.236069</td><td>2.32203e-6</td></tr><tr><th>16</th><td>10000</td><td>15</td><td>0.272236</td><td>0.00186189</td><td>150000</td><td>0.270374</td><td>0.27596</td><td>1.81491e-6</td></tr><tr><th>17</th><td>10000</td><td>20</td><td>0.336461</td><td>0.0024458</td><td>200000</td><td>0.334015</td><td>0.341353</td><td>1.68231e-6</td></tr><tr><th>18</th><td>10000</td><td>25</td><td>0.429444</td><td>0.00300618</td><td>250000</td><td>0.426438</td><td>0.435456</td><td>1.71778e-6</td></tr></tbody></table></div>"
      ],
      "text/latex": [
       "\\begin{tabular}{r|cccccccc}\n",
       "\t& samplesize & obssize & fittime & se & nobs & fitmin & fitmax & perobsratio\\\\\n",
       "\t\\hline\n",
       "\t& String & String & Float64 & Float64 & Int64 & Float64 & Float64 & Float64\\\\\n",
       "\t\\hline\n",
       "\t1 & 100 & 2 & 0.0213322 & 0.000461036 & 200 & 0.0208712 & 0.0222543 & 0.000106661 \\\\\n",
       "\t2 & 100 & 5 & 0.0199243 & 0.000388184 & 500 & 0.0195361 & 0.0207006 & 3.98486e-5 \\\\\n",
       "\t3 & 100 & 10 & 0.0232597 & 0.000543725 & 1000 & 0.022716 & 0.0243472 & 2.32597e-5 \\\\\n",
       "\t4 & 100 & 15 & 0.0241589 & 0.000525172 & 1500 & 0.0236337 & 0.0252093 & 1.61059e-5 \\\\\n",
       "\t5 & 100 & 20 & 0.0254905 & 0.00062182 & 2000 & 0.0248687 & 0.0267341 & 1.27452e-5 \\\\\n",
       "\t6 & 100 & 25 & 0.0256979 & 0.000384349 & 2500 & 0.0253135 & 0.0264665 & 1.02791e-5 \\\\\n",
       "\t7 & 1000 & 2 & 0.0253263 & 0.000473007 & 2000 & 0.0248533 & 0.0262723 & 1.26632e-5 \\\\\n",
       "\t8 & 1000 & 5 & 0.0304325 & 0.000470622 & 5000 & 0.0299619 & 0.0313738 & 6.08651e-6 \\\\\n",
       "\t9 & 1000 & 10 & 0.0350438 & 0.000721555 & 10000 & 0.0343222 & 0.0364869 & 3.50438e-6 \\\\\n",
       "\t10 & 1000 & 15 & 0.0399876 & 0.000382742 & 15000 & 0.0396049 & 0.0407531 & 2.66584e-6 \\\\\n",
       "\t11 & 1000 & 20 & 0.0424898 & 0.000451124 & 20000 & 0.0420387 & 0.043392 & 2.12449e-6 \\\\\n",
       "\t12 & 1000 & 25 & 0.0514595 & 0.000573166 & 25000 & 0.0508863 & 0.0526058 & 2.05838e-6 \\\\\n",
       "\t13 & 10000 & 2 & 0.127627 & 0.00130213 & 20000 & 0.126325 & 0.130231 & 6.38134e-6 \\\\\n",
       "\t14 & 10000 & 5 & 0.153644 & 0.00104744 & 50000 & 0.152597 & 0.155739 & 3.07288e-6 \\\\\n",
       "\t15 & 10000 & 10 & 0.232203 & 0.00193311 & 100000 & 0.23027 & 0.236069 & 2.32203e-6 \\\\\n",
       "\t16 & 10000 & 15 & 0.272236 & 0.00186189 & 150000 & 0.270374 & 0.27596 & 1.81491e-6 \\\\\n",
       "\t17 & 10000 & 20 & 0.336461 & 0.0024458 & 200000 & 0.334015 & 0.341353 & 1.68231e-6 \\\\\n",
       "\t18 & 10000 & 25 & 0.429444 & 0.00300618 & 250000 & 0.426438 & 0.435456 & 1.71778e-6 \\\\\n",
       "\\end{tabular}\n"
      ],
      "text/plain": [
       "\u001b[1m18×8 DataFrame\u001b[0m\n",
       "\u001b[1m Row \u001b[0m│\u001b[1m samplesize \u001b[0m\u001b[1m obssize \u001b[0m\u001b[1m fittime   \u001b[0m\u001b[1m se          \u001b[0m\u001b[1m nobs   \u001b[0m\u001b[1m fitmin    \u001b[0m\u001b[1m fitmax \u001b[0m ⋯\n",
       "\u001b[1m     \u001b[0m│\u001b[90m String     \u001b[0m\u001b[90m String  \u001b[0m\u001b[90m Float64   \u001b[0m\u001b[90m Float64     \u001b[0m\u001b[90m Int64  \u001b[0m\u001b[90m Float64   \u001b[0m\u001b[90m Float64\u001b[0m ⋯\n",
       "─────┼──────────────────────────────────────────────────────────────────────────\n",
       "   1 │ 100         2        0.0213322  0.000461036     200  0.0208712  0.02225 ⋯\n",
       "   2 │ 100         5        0.0199243  0.000388184     500  0.0195361  0.02070\n",
       "   3 │ 100         10       0.0232597  0.000543725    1000  0.022716   0.02434\n",
       "   4 │ 100         15       0.0241589  0.000525172    1500  0.0236337  0.02520\n",
       "   5 │ 100         20       0.0254905  0.00062182     2000  0.0248687  0.02673 ⋯\n",
       "   6 │ 100         25       0.0256979  0.000384349    2500  0.0253135  0.02646\n",
       "   7 │ 1000        2        0.0253263  0.000473007    2000  0.0248533  0.02627\n",
       "   8 │ 1000        5        0.0304325  0.000470622    5000  0.0299619  0.03137\n",
       "   9 │ 1000        10       0.0350438  0.000721555   10000  0.0343222  0.03648 ⋯\n",
       "  10 │ 1000        15       0.0399876  0.000382742   15000  0.0396049  0.04075\n",
       "  11 │ 1000        20       0.0424898  0.000451124   20000  0.0420387  0.04339\n",
       "  12 │ 1000        25       0.0514595  0.000573166   25000  0.0508863  0.05260\n",
       "  13 │ 10000       2        0.127627   0.00130213    20000  0.126325   0.13023 ⋯\n",
       "  14 │ 10000       5        0.153644   0.00104744    50000  0.152597   0.15573\n",
       "  15 │ 10000       10       0.232203   0.00193311   100000  0.23027    0.23606\n",
       "  16 │ 10000       15       0.272236   0.00186189   150000  0.270374   0.27596\n",
       "  17 │ 10000       20       0.336461   0.0024458    200000  0.334015   0.34135 ⋯\n",
       "  18 │ 10000       25       0.429444   0.00300618   250000  0.426438   0.43545\n",
       "\u001b[36m                                                               2 columns omitted\u001b[0m"
      ]
     },
     "execution_count": 6,
     "metadata": {},
     "output_type": "execute_result"
    }
   ],
   "source": [
    "#simulation parameters\n",
    "@info \"making results table Quasi-Copula\"\n",
    "sample_sizes = repeat(string.(samplesizes), inner = nsims * length(ns))\n",
    "obs_sizes = repeat(string.(ns), inner = nsims, outer = length(samplesizes))\n",
    "\n",
    "msedf = DataFrame(samplesize = sample_sizes, obssize = obs_sizes, fittimes = fittimes_QC)\n",
    "timedf1 = combine(groupby(msedf, [:samplesize, :obssize]), :fittimes => mean => :fittime,\n",
    "    :fittimes => x -> (std(x)/sqrt(length(x))))\n",
    "rename!(timedf1, Dict(:fittimes_function => \"se\"))\n",
    "timedf1[!, :nobs] = Meta.parse.(timedf1[!, :samplesize]) .* Meta.parse.(timedf1[!, :obssize])\n",
    "timedf1[!, :fitmin] = timedf1[!, :fittime] - timedf1[!, :se]\n",
    "timedf1[!, :fitmax] = timedf1[!, :fittime] + 2 * timedf1[!, :se]\n",
    "timedf1[!, :perobsratio] = timedf1[!, :fittime] ./ timedf1[!, :nobs]\n",
    "timedf1"
   ]
  },
  {
   "cell_type": "code",
   "execution_count": 7,
   "metadata": {},
   "outputs": [
    {
     "name": "stderr",
     "output_type": "stream",
     "text": [
      "┌ Info: making results table GLMM\n",
      "└ @ Main In[7]:2\n"
     ]
    },
    {
     "data": {
      "text/html": [
       "<div class=\"data-frame\"><p>18 rows × 8 columns</p><table class=\"data-frame\"><thead><tr><th></th><th>samplesize</th><th>obssize</th><th>fittime</th><th>se</th><th>nobs</th><th>fitmin</th><th>fitmax</th><th>perobsratio</th></tr><tr><th></th><th title=\"String\">String</th><th title=\"String\">String</th><th title=\"Float64\">Float64</th><th title=\"Float64\">Float64</th><th title=\"Int64\">Int64</th><th title=\"Float64\">Float64</th><th title=\"Float64\">Float64</th><th title=\"Float64\">Float64</th></tr></thead><tbody><tr><th>1</th><td>100</td><td>2</td><td>0.0218861</td><td>0.00273348</td><td>200</td><td>0.0191527</td><td>0.0246196</td><td>0.000109431</td></tr><tr><th>2</th><td>100</td><td>5</td><td>0.0451705</td><td>0.00298322</td><td>500</td><td>0.0421873</td><td>0.0481538</td><td>9.03411e-5</td></tr><tr><th>3</th><td>100</td><td>10</td><td>0.0803202</td><td>0.00362838</td><td>1000</td><td>0.0766918</td><td>0.0839486</td><td>8.03202e-5</td></tr><tr><th>4</th><td>100</td><td>15</td><td>0.148068</td><td>0.00629576</td><td>1500</td><td>0.141772</td><td>0.154363</td><td>9.87117e-5</td></tr><tr><th>5</th><td>100</td><td>20</td><td>0.185531</td><td>0.00724304</td><td>2000</td><td>0.178287</td><td>0.192774</td><td>9.27653e-5</td></tr><tr><th>6</th><td>100</td><td>25</td><td>0.265465</td><td>0.0090585</td><td>2500</td><td>0.256406</td><td>0.274523</td><td>0.000106186</td></tr><tr><th>7</th><td>1000</td><td>2</td><td>0.191977</td><td>0.00695893</td><td>2000</td><td>0.185018</td><td>0.198936</td><td>9.59883e-5</td></tr><tr><th>8</th><td>1000</td><td>5</td><td>0.515674</td><td>0.0159514</td><td>5000</td><td>0.499722</td><td>0.531625</td><td>0.000103135</td></tr><tr><th>9</th><td>1000</td><td>10</td><td>1.01125</td><td>0.0218606</td><td>10000</td><td>0.989389</td><td>1.03311</td><td>0.000101125</td></tr><tr><th>10</th><td>1000</td><td>15</td><td>1.40216</td><td>0.0297605</td><td>15000</td><td>1.3724</td><td>1.43192</td><td>9.3477e-5</td></tr><tr><th>11</th><td>1000</td><td>20</td><td>1.88749</td><td>0.0364979</td><td>20000</td><td>1.85099</td><td>1.92399</td><td>9.43746e-5</td></tr><tr><th>12</th><td>1000</td><td>25</td><td>2.53095</td><td>0.0455575</td><td>25000</td><td>2.48539</td><td>2.57651</td><td>0.000101238</td></tr><tr><th>13</th><td>10000</td><td>2</td><td>1.89577</td><td>0.0316609</td><td>20000</td><td>1.86411</td><td>1.92743</td><td>9.47885e-5</td></tr><tr><th>14</th><td>10000</td><td>5</td><td>4.33307</td><td>0.0746031</td><td>50000</td><td>4.25846</td><td>4.40767</td><td>8.66613e-5</td></tr><tr><th>15</th><td>10000</td><td>10</td><td>9.54534</td><td>0.143467</td><td>100000</td><td>9.40188</td><td>9.68881</td><td>9.54534e-5</td></tr><tr><th>16</th><td>10000</td><td>15</td><td>14.844</td><td>0.248877</td><td>150000</td><td>14.5951</td><td>15.0929</td><td>9.896e-5</td></tr><tr><th>17</th><td>10000</td><td>20</td><td>21.4229</td><td>0.356116</td><td>200000</td><td>21.0668</td><td>21.779</td><td>0.000107114</td></tr><tr><th>18</th><td>10000</td><td>25</td><td>29.324</td><td>0.527616</td><td>250000</td><td>28.7964</td><td>29.8516</td><td>0.000117296</td></tr></tbody></table></div>"
      ],
      "text/latex": [
       "\\begin{tabular}{r|cccccccc}\n",
       "\t& samplesize & obssize & fittime & se & nobs & fitmin & fitmax & perobsratio\\\\\n",
       "\t\\hline\n",
       "\t& String & String & Float64 & Float64 & Int64 & Float64 & Float64 & Float64\\\\\n",
       "\t\\hline\n",
       "\t1 & 100 & 2 & 0.0218861 & 0.00273348 & 200 & 0.0191527 & 0.0246196 & 0.000109431 \\\\\n",
       "\t2 & 100 & 5 & 0.0451705 & 0.00298322 & 500 & 0.0421873 & 0.0481538 & 9.03411e-5 \\\\\n",
       "\t3 & 100 & 10 & 0.0803202 & 0.00362838 & 1000 & 0.0766918 & 0.0839486 & 8.03202e-5 \\\\\n",
       "\t4 & 100 & 15 & 0.148068 & 0.00629576 & 1500 & 0.141772 & 0.154363 & 9.87117e-5 \\\\\n",
       "\t5 & 100 & 20 & 0.185531 & 0.00724304 & 2000 & 0.178287 & 0.192774 & 9.27653e-5 \\\\\n",
       "\t6 & 100 & 25 & 0.265465 & 0.0090585 & 2500 & 0.256406 & 0.274523 & 0.000106186 \\\\\n",
       "\t7 & 1000 & 2 & 0.191977 & 0.00695893 & 2000 & 0.185018 & 0.198936 & 9.59883e-5 \\\\\n",
       "\t8 & 1000 & 5 & 0.515674 & 0.0159514 & 5000 & 0.499722 & 0.531625 & 0.000103135 \\\\\n",
       "\t9 & 1000 & 10 & 1.01125 & 0.0218606 & 10000 & 0.989389 & 1.03311 & 0.000101125 \\\\\n",
       "\t10 & 1000 & 15 & 1.40216 & 0.0297605 & 15000 & 1.3724 & 1.43192 & 9.3477e-5 \\\\\n",
       "\t11 & 1000 & 20 & 1.88749 & 0.0364979 & 20000 & 1.85099 & 1.92399 & 9.43746e-5 \\\\\n",
       "\t12 & 1000 & 25 & 2.53095 & 0.0455575 & 25000 & 2.48539 & 2.57651 & 0.000101238 \\\\\n",
       "\t13 & 10000 & 2 & 1.89577 & 0.0316609 & 20000 & 1.86411 & 1.92743 & 9.47885e-5 \\\\\n",
       "\t14 & 10000 & 5 & 4.33307 & 0.0746031 & 50000 & 4.25846 & 4.40767 & 8.66613e-5 \\\\\n",
       "\t15 & 10000 & 10 & 9.54534 & 0.143467 & 100000 & 9.40188 & 9.68881 & 9.54534e-5 \\\\\n",
       "\t16 & 10000 & 15 & 14.844 & 0.248877 & 150000 & 14.5951 & 15.0929 & 9.896e-5 \\\\\n",
       "\t17 & 10000 & 20 & 21.4229 & 0.356116 & 200000 & 21.0668 & 21.779 & 0.000107114 \\\\\n",
       "\t18 & 10000 & 25 & 29.324 & 0.527616 & 250000 & 28.7964 & 29.8516 & 0.000117296 \\\\\n",
       "\\end{tabular}\n"
      ],
      "text/plain": [
       "\u001b[1m18×8 DataFrame\u001b[0m\n",
       "\u001b[1m Row \u001b[0m│\u001b[1m samplesize \u001b[0m\u001b[1m obssize \u001b[0m\u001b[1m fittime    \u001b[0m\u001b[1m se         \u001b[0m\u001b[1m nobs   \u001b[0m\u001b[1m fitmin     \u001b[0m\u001b[1m fitmax\u001b[0m ⋯\n",
       "\u001b[1m     \u001b[0m│\u001b[90m String     \u001b[0m\u001b[90m String  \u001b[0m\u001b[90m Float64    \u001b[0m\u001b[90m Float64    \u001b[0m\u001b[90m Int64  \u001b[0m\u001b[90m Float64    \u001b[0m\u001b[90m Float6\u001b[0m ⋯\n",
       "─────┼──────────────────────────────────────────────────────────────────────────\n",
       "   1 │ 100         2         0.0218861  0.00273348     200   0.0191527   0.024 ⋯\n",
       "   2 │ 100         5         0.0451705  0.00298322     500   0.0421873   0.048\n",
       "   3 │ 100         10        0.0803202  0.00362838    1000   0.0766918   0.083\n",
       "   4 │ 100         15        0.148068   0.00629576    1500   0.141772    0.154\n",
       "   5 │ 100         20        0.185531   0.00724304    2000   0.178287    0.192 ⋯\n",
       "   6 │ 100         25        0.265465   0.0090585     2500   0.256406    0.274\n",
       "   7 │ 1000        2         0.191977   0.00695893    2000   0.185018    0.198\n",
       "   8 │ 1000        5         0.515674   0.0159514     5000   0.499722    0.531\n",
       "   9 │ 1000        10        1.01125    0.0218606    10000   0.989389    1.033 ⋯\n",
       "  10 │ 1000        15        1.40216    0.0297605    15000   1.3724      1.431\n",
       "  11 │ 1000        20        1.88749    0.0364979    20000   1.85099     1.923\n",
       "  12 │ 1000        25        2.53095    0.0455575    25000   2.48539     2.576\n",
       "  13 │ 10000       2         1.89577    0.0316609    20000   1.86411     1.927 ⋯\n",
       "  14 │ 10000       5         4.33307    0.0746031    50000   4.25846     4.407\n",
       "  15 │ 10000       10        9.54534    0.143467    100000   9.40188     9.688\n",
       "  16 │ 10000       15       14.844      0.248877    150000  14.5951     15.092\n",
       "  17 │ 10000       20       21.4229     0.356116    200000  21.0668     21.779 ⋯\n",
       "  18 │ 10000       25       29.324      0.527616    250000  28.7964     29.851\n",
       "\u001b[36m                                                               2 columns omitted\u001b[0m"
      ]
     },
     "execution_count": 7,
     "metadata": {},
     "output_type": "execute_result"
    }
   ],
   "source": [
    "#simulation parameters\n",
    "@info \"making results table GLMM\"\n",
    "sample_sizes = repeat(string.(samplesizes), inner = nsims * length(ns))\n",
    "obs_sizes = repeat(string.(ns), inner = nsims, outer = length(samplesizes))\n",
    "\n",
    "msedf = DataFrame(samplesize = sample_sizes, obssize = obs_sizes, fittimes = fittimes_GLMM)\n",
    "timedf2 = combine(groupby(msedf, [:samplesize, :obssize]), :fittimes => mean => :fittime,\n",
    "    :fittimes => x -> (std(x)/sqrt(length(x))))\n",
    "rename!(timedf2, Dict(:fittimes_function => \"se\"))\n",
    "timedf2[!, :nobs] = Meta.parse.(timedf2[!, :samplesize]) .* Meta.parse.(timedf2[!, :obssize])\n",
    "timedf2[!, :fitmin] = timedf2[!, :fittime] - timedf2[!, :se]\n",
    "timedf2[!, :fitmax] = timedf2[!, :fittime] + timedf2[!, :se]\n",
    "timedf2[!, :perobsratio] = timedf2[!, :fittime] ./ timedf2[!, :nobs]\n",
    "timedf2"
   ]
  },
  {
   "cell_type": "code",
   "execution_count": 8,
   "metadata": {},
   "outputs": [
    {
     "data": {
      "text/html": [
       "<div class=\"data-frame\"><p>18 rows × 5 columns</p><table class=\"data-frame\"><thead><tr><th></th><th>people_obs</th><th>β1</th><th>β2</th><th>β3</th><th>θ1</th></tr><tr><th></th><th title=\"String\">String</th><th title=\"Tuple{Float64, Float64}\">Tuple…</th><th title=\"Tuple{Float64, Float64}\">Tuple…</th><th title=\"Tuple{Float64, Float64}\">Tuple…</th><th title=\"Tuple{Float64, Float64}\">Tuple…</th></tr></thead><tbody><tr><th>1</th><td>N: 100  ni: 2</td><td>(0.75, 0.0435194)</td><td>(0.86, 0.0348735)</td><td>(0.87, 0.0337998)</td><td>(0.96, 0.0196946)</td></tr><tr><th>2</th><td>N: 100  ni: 5</td><td>(0.77, 0.0422953)</td><td>(0.82, 0.0386123)</td><td>(0.77, 0.0422953)</td><td>(0.99, 0.01)</td></tr><tr><th>3</th><td>N: 100  ni: 10</td><td>(0.84, 0.0368453)</td><td>(0.71, 0.0456048)</td><td>(0.79, 0.040936)</td><td>(0.98, 0.0140705)</td></tr><tr><th>4</th><td>N: 100  ni: 15</td><td>(0.86, 0.0348735)</td><td>(0.68, 0.0468826)</td><td>(0.86, 0.0348735)</td><td>(0.91, 0.0287623)</td></tr><tr><th>5</th><td>N: 100  ni: 20</td><td>(0.92, 0.027266)</td><td>(0.77, 0.0422953)</td><td>(0.85, 0.035887)</td><td>(0.84, 0.0368453)</td></tr><tr><th>6</th><td>N: 100  ni: 25</td><td>(0.86, 0.0348735)</td><td>(0.64, 0.0482418)</td><td>(0.89, 0.0314466)</td><td>(0.86, 0.0348735)</td></tr><tr><th>7</th><td>N: 1000  ni: 2</td><td>(0.87, 0.0337998)</td><td>(0.82, 0.0386123)</td><td>(0.82, 0.0386123)</td><td>(0.94, 0.0238683)</td></tr><tr><th>8</th><td>N: 1000  ni: 5</td><td>(0.76, 0.0429235)</td><td>(0.67, 0.0472582)</td><td>(0.9, 0.0301511)</td><td>(0.86, 0.0348735)</td></tr><tr><th>9</th><td>N: 1000  ni: 10</td><td>(0.91, 0.0287623)</td><td>(0.7, 0.0460566)</td><td>(0.9, 0.0301511)</td><td>(0.87, 0.0337998)</td></tr><tr><th>10</th><td>N: 1000  ni: 15</td><td>(0.9, 0.0301511)</td><td>(0.72, 0.0451261)</td><td>(0.9, 0.0301511)</td><td>(0.9, 0.0301511)</td></tr><tr><th>11</th><td>N: 1000  ni: 20</td><td>(0.93, 0.0256432)</td><td>(0.77, 0.0422953)</td><td>(0.9, 0.0301511)</td><td>(0.93, 0.0256432)</td></tr><tr><th>12</th><td>N: 1000  ni: 25</td><td>(0.92, 0.027266)</td><td>(0.83, 0.0377525)</td><td>(0.89, 0.0314466)</td><td>(0.91, 0.0287623)</td></tr><tr><th>13</th><td>N: 10000  ni: 2</td><td>(0.87, 0.0337998)</td><td>(0.83, 0.0377525)</td><td>(0.95, 0.0219043)</td><td>(0.81, 0.0394277)</td></tr><tr><th>14</th><td>N: 10000  ni: 5</td><td>(0.84, 0.0368453)</td><td>(0.68, 0.0468826)</td><td>(0.97, 0.0171447)</td><td>(0.82, 0.0386123)</td></tr><tr><th>15</th><td>N: 10000  ni: 10</td><td>(0.87, 0.0337998)</td><td>(0.77, 0.0422953)</td><td>(0.93, 0.0256432)</td><td>(0.93, 0.0256432)</td></tr><tr><th>16</th><td>N: 10000  ni: 15</td><td>(0.98, 0.0140705)</td><td>(0.84, 0.0368453)</td><td>(0.94, 0.0238683)</td><td>(0.79, 0.040936)</td></tr><tr><th>17</th><td>N: 10000  ni: 20</td><td>(0.97, 0.0171447)</td><td>(0.88, 0.0326599)</td><td>(0.89, 0.0314466)</td><td>(0.81, 0.0394277)</td></tr><tr><th>18</th><td>N: 10000  ni: 25</td><td>(0.94, 0.0238683)</td><td>(0.9, 0.0301511)</td><td>(0.87, 0.0337998)</td><td>(0.63, 0.0485237)</td></tr></tbody></table></div>"
      ],
      "text/latex": [
       "\\begin{tabular}{r|ccccc}\n",
       "\t& people\\_obs & β1 & β2 & β3 & θ1\\\\\n",
       "\t\\hline\n",
       "\t& String & Tuple… & Tuple… & Tuple… & Tuple…\\\\\n",
       "\t\\hline\n",
       "\t1 & N: 100  ni: 2 & (0.75, 0.0435194) & (0.86, 0.0348735) & (0.87, 0.0337998) & (0.96, 0.0196946) \\\\\n",
       "\t2 & N: 100  ni: 5 & (0.77, 0.0422953) & (0.82, 0.0386123) & (0.77, 0.0422953) & (0.99, 0.01) \\\\\n",
       "\t3 & N: 100  ni: 10 & (0.84, 0.0368453) & (0.71, 0.0456048) & (0.79, 0.040936) & (0.98, 0.0140705) \\\\\n",
       "\t4 & N: 100  ni: 15 & (0.86, 0.0348735) & (0.68, 0.0468826) & (0.86, 0.0348735) & (0.91, 0.0287623) \\\\\n",
       "\t5 & N: 100  ni: 20 & (0.92, 0.027266) & (0.77, 0.0422953) & (0.85, 0.035887) & (0.84, 0.0368453) \\\\\n",
       "\t6 & N: 100  ni: 25 & (0.86, 0.0348735) & (0.64, 0.0482418) & (0.89, 0.0314466) & (0.86, 0.0348735) \\\\\n",
       "\t7 & N: 1000  ni: 2 & (0.87, 0.0337998) & (0.82, 0.0386123) & (0.82, 0.0386123) & (0.94, 0.0238683) \\\\\n",
       "\t8 & N: 1000  ni: 5 & (0.76, 0.0429235) & (0.67, 0.0472582) & (0.9, 0.0301511) & (0.86, 0.0348735) \\\\\n",
       "\t9 & N: 1000  ni: 10 & (0.91, 0.0287623) & (0.7, 0.0460566) & (0.9, 0.0301511) & (0.87, 0.0337998) \\\\\n",
       "\t10 & N: 1000  ni: 15 & (0.9, 0.0301511) & (0.72, 0.0451261) & (0.9, 0.0301511) & (0.9, 0.0301511) \\\\\n",
       "\t11 & N: 1000  ni: 20 & (0.93, 0.0256432) & (0.77, 0.0422953) & (0.9, 0.0301511) & (0.93, 0.0256432) \\\\\n",
       "\t12 & N: 1000  ni: 25 & (0.92, 0.027266) & (0.83, 0.0377525) & (0.89, 0.0314466) & (0.91, 0.0287623) \\\\\n",
       "\t13 & N: 10000  ni: 2 & (0.87, 0.0337998) & (0.83, 0.0377525) & (0.95, 0.0219043) & (0.81, 0.0394277) \\\\\n",
       "\t14 & N: 10000  ni: 5 & (0.84, 0.0368453) & (0.68, 0.0468826) & (0.97, 0.0171447) & (0.82, 0.0386123) \\\\\n",
       "\t15 & N: 10000  ni: 10 & (0.87, 0.0337998) & (0.77, 0.0422953) & (0.93, 0.0256432) & (0.93, 0.0256432) \\\\\n",
       "\t16 & N: 10000  ni: 15 & (0.98, 0.0140705) & (0.84, 0.0368453) & (0.94, 0.0238683) & (0.79, 0.040936) \\\\\n",
       "\t17 & N: 10000  ni: 20 & (0.97, 0.0171447) & (0.88, 0.0326599) & (0.89, 0.0314466) & (0.81, 0.0394277) \\\\\n",
       "\t18 & N: 10000  ni: 25 & (0.94, 0.0238683) & (0.9, 0.0301511) & (0.87, 0.0337998) & (0.63, 0.0485237) \\\\\n",
       "\\end{tabular}\n"
      ],
      "text/plain": [
       "\u001b[1m18×5 DataFrame\u001b[0m\n",
       "\u001b[1m Row \u001b[0m│\u001b[1m people_obs       \u001b[0m\u001b[1m β1                \u001b[0m\u001b[1m β2                \u001b[0m\u001b[1m β3             \u001b[0m ⋯\n",
       "\u001b[1m     \u001b[0m│\u001b[90m String           \u001b[0m\u001b[90m Tuple…            \u001b[0m\u001b[90m Tuple…            \u001b[0m\u001b[90m Tuple…         \u001b[0m ⋯\n",
       "─────┼──────────────────────────────────────────────────────────────────────────\n",
       "   1 │ N: 100  ni: 2     (0.75, 0.0435194)  (0.86, 0.0348735)  (0.87, 0.033799 ⋯\n",
       "   2 │ N: 100  ni: 5     (0.77, 0.0422953)  (0.82, 0.0386123)  (0.77, 0.042295\n",
       "   3 │ N: 100  ni: 10    (0.84, 0.0368453)  (0.71, 0.0456048)  (0.79, 0.040936\n",
       "   4 │ N: 100  ni: 15    (0.86, 0.0348735)  (0.68, 0.0468826)  (0.86, 0.034873\n",
       "   5 │ N: 100  ni: 20    (0.92, 0.027266)   (0.77, 0.0422953)  (0.85, 0.035887 ⋯\n",
       "   6 │ N: 100  ni: 25    (0.86, 0.0348735)  (0.64, 0.0482418)  (0.89, 0.031446\n",
       "   7 │ N: 1000  ni: 2    (0.87, 0.0337998)  (0.82, 0.0386123)  (0.82, 0.038612\n",
       "   8 │ N: 1000  ni: 5    (0.76, 0.0429235)  (0.67, 0.0472582)  (0.9, 0.0301511\n",
       "   9 │ N: 1000  ni: 10   (0.91, 0.0287623)  (0.7, 0.0460566)   (0.9, 0.0301511 ⋯\n",
       "  10 │ N: 1000  ni: 15   (0.9, 0.0301511)   (0.72, 0.0451261)  (0.9, 0.0301511\n",
       "  11 │ N: 1000  ni: 20   (0.93, 0.0256432)  (0.77, 0.0422953)  (0.9, 0.0301511\n",
       "  12 │ N: 1000  ni: 25   (0.92, 0.027266)   (0.83, 0.0377525)  (0.89, 0.031446\n",
       "  13 │ N: 10000  ni: 2   (0.87, 0.0337998)  (0.83, 0.0377525)  (0.95, 0.021904 ⋯\n",
       "  14 │ N: 10000  ni: 5   (0.84, 0.0368453)  (0.68, 0.0468826)  (0.97, 0.017144\n",
       "  15 │ N: 10000  ni: 10  (0.87, 0.0337998)  (0.77, 0.0422953)  (0.93, 0.025643\n",
       "  16 │ N: 10000  ni: 15  (0.98, 0.0140705)  (0.84, 0.0368453)  (0.94, 0.023868\n",
       "  17 │ N: 10000  ni: 20  (0.97, 0.0171447)  (0.88, 0.0326599)  (0.89, 0.031446 ⋯\n",
       "  18 │ N: 10000  ni: 25  (0.94, 0.0238683)  (0.9, 0.0301511)   (0.87, 0.033799\n",
       "\u001b[36m                                                               2 columns omitted\u001b[0m"
      ]
     },
     "execution_count": 8,
     "metadata": {},
     "output_type": "execute_result"
    }
   ],
   "source": [
    "######  supplementary table s1\n",
    "using Random, DataFrames, DelimitedFiles, Statistics\n",
    "import StatsBase: sem\n",
    "\n",
    "βθcoverage = readdlm(\"beta_theta_coverage_multivariate_poisson_vcm$(nsims)reps_sim.csv\", ',')\n",
    "\n",
    "m  = 1\n",
    "\n",
    "covdf = DataFrame(Matrix(transpose(βθcoverage)), :auto)\n",
    "rename!(covdf, Symbol.([[\"β$i\" for i in 1:p]; [\"θ$i\" for i in 1:m]]))\n",
    "covdf[!, :samplesize] = sample_sizes\n",
    "covdf[!, :obssize] = obs_sizes\n",
    "first(covdf, 10)\n",
    "\n",
    "row_stats = [[(mean(col), sem(col)) for col = eachcol(d[!, 1:end-2])] for d = groupby(covdf, [:samplesize; :obssize])]\n",
    "df = DataFrame(row_stats, :auto)\n",
    "ss_obs = unique(\"N: \" .* sample_sizes .* \"  ni: \" .* obs_sizes)\n",
    "rename!(df, Symbol.(ss_obs))\n",
    "covdfdisplay = DataFrame([[names(df)]; collect.(eachrow(df))], \n",
    "    [:people_obs; Symbol.([[\"β$i\" for i in 1:p]; [\"θ$i\" for i in 1:m]])])\n",
    "covdfdisplay\n"
   ]
  },
  {
   "cell_type": "code",
   "execution_count": 9,
   "metadata": {},
   "outputs": [
    {
     "data": {
      "text/html": [
       "<div class=\"data-frame\"><p>7,200 rows × 5 columns</p><table class=\"data-frame\"><thead><tr><th></th><th>mse</th><th>obssize</th><th>samplesize</th><th>parameters</th><th>robust</th></tr><tr><th></th><th title=\"Float64\">Float64</th><th title=\"String\">String</th><th title=\"String\">String</th><th title=\"String\">String</th><th title=\"String\">String</th></tr></thead><tbody><tr><th>1</th><td>0.00504839</td><td>2</td><td>100</td><td>beta</td><td>Poisson QC</td></tr><tr><th>2</th><td>0.0246691</td><td>2</td><td>100</td><td>beta</td><td>Poisson QC</td></tr><tr><th>3</th><td>0.0115729</td><td>2</td><td>100</td><td>beta</td><td>Poisson QC</td></tr><tr><th>4</th><td>0.00118239</td><td>2</td><td>100</td><td>beta</td><td>Poisson QC</td></tr><tr><th>5</th><td>0.00964668</td><td>2</td><td>100</td><td>beta</td><td>Poisson QC</td></tr><tr><th>6</th><td>0.0244286</td><td>2</td><td>100</td><td>beta</td><td>Poisson QC</td></tr><tr><th>7</th><td>0.00390293</td><td>2</td><td>100</td><td>beta</td><td>Poisson QC</td></tr><tr><th>8</th><td>0.00405897</td><td>2</td><td>100</td><td>beta</td><td>Poisson QC</td></tr><tr><th>9</th><td>0.00153526</td><td>2</td><td>100</td><td>beta</td><td>Poisson QC</td></tr><tr><th>10</th><td>0.00346674</td><td>2</td><td>100</td><td>beta</td><td>Poisson QC</td></tr><tr><th>11</th><td>0.00441299</td><td>2</td><td>100</td><td>beta</td><td>Poisson QC</td></tr><tr><th>12</th><td>0.00279409</td><td>2</td><td>100</td><td>beta</td><td>Poisson QC</td></tr><tr><th>13</th><td>0.00156714</td><td>2</td><td>100</td><td>beta</td><td>Poisson QC</td></tr><tr><th>14</th><td>0.0202702</td><td>2</td><td>100</td><td>beta</td><td>Poisson QC</td></tr><tr><th>15</th><td>0.00272659</td><td>2</td><td>100</td><td>beta</td><td>Poisson QC</td></tr><tr><th>16</th><td>0.00362664</td><td>2</td><td>100</td><td>beta</td><td>Poisson QC</td></tr><tr><th>17</th><td>0.00163342</td><td>2</td><td>100</td><td>beta</td><td>Poisson QC</td></tr><tr><th>18</th><td>0.00319954</td><td>2</td><td>100</td><td>beta</td><td>Poisson QC</td></tr><tr><th>19</th><td>0.00111893</td><td>2</td><td>100</td><td>beta</td><td>Poisson QC</td></tr><tr><th>20</th><td>0.00169585</td><td>2</td><td>100</td><td>beta</td><td>Poisson QC</td></tr><tr><th>21</th><td>0.0258958</td><td>2</td><td>100</td><td>beta</td><td>Poisson QC</td></tr><tr><th>22</th><td>0.00828707</td><td>2</td><td>100</td><td>beta</td><td>Poisson QC</td></tr><tr><th>23</th><td>0.0113844</td><td>2</td><td>100</td><td>beta</td><td>Poisson QC</td></tr><tr><th>24</th><td>0.00240869</td><td>2</td><td>100</td><td>beta</td><td>Poisson QC</td></tr><tr><th>25</th><td>0.0057421</td><td>2</td><td>100</td><td>beta</td><td>Poisson QC</td></tr><tr><th>26</th><td>0.00276319</td><td>2</td><td>100</td><td>beta</td><td>Poisson QC</td></tr><tr><th>27</th><td>0.00711876</td><td>2</td><td>100</td><td>beta</td><td>Poisson QC</td></tr><tr><th>28</th><td>0.00364444</td><td>2</td><td>100</td><td>beta</td><td>Poisson QC</td></tr><tr><th>29</th><td>0.00226948</td><td>2</td><td>100</td><td>beta</td><td>Poisson QC</td></tr><tr><th>30</th><td>0.00440975</td><td>2</td><td>100</td><td>beta</td><td>Poisson QC</td></tr><tr><th>&vellip;</th><td>&vellip;</td><td>&vellip;</td><td>&vellip;</td><td>&vellip;</td><td>&vellip;</td></tr></tbody></table></div>"
      ],
      "text/latex": [
       "\\begin{tabular}{r|ccccc}\n",
       "\t& mse & obssize & samplesize & parameters & robust\\\\\n",
       "\t\\hline\n",
       "\t& Float64 & String & String & String & String\\\\\n",
       "\t\\hline\n",
       "\t1 & 0.00504839 & 2 & 100 & beta & Poisson QC \\\\\n",
       "\t2 & 0.0246691 & 2 & 100 & beta & Poisson QC \\\\\n",
       "\t3 & 0.0115729 & 2 & 100 & beta & Poisson QC \\\\\n",
       "\t4 & 0.00118239 & 2 & 100 & beta & Poisson QC \\\\\n",
       "\t5 & 0.00964668 & 2 & 100 & beta & Poisson QC \\\\\n",
       "\t6 & 0.0244286 & 2 & 100 & beta & Poisson QC \\\\\n",
       "\t7 & 0.00390293 & 2 & 100 & beta & Poisson QC \\\\\n",
       "\t8 & 0.00405897 & 2 & 100 & beta & Poisson QC \\\\\n",
       "\t9 & 0.00153526 & 2 & 100 & beta & Poisson QC \\\\\n",
       "\t10 & 0.00346674 & 2 & 100 & beta & Poisson QC \\\\\n",
       "\t11 & 0.00441299 & 2 & 100 & beta & Poisson QC \\\\\n",
       "\t12 & 0.00279409 & 2 & 100 & beta & Poisson QC \\\\\n",
       "\t13 & 0.00156714 & 2 & 100 & beta & Poisson QC \\\\\n",
       "\t14 & 0.0202702 & 2 & 100 & beta & Poisson QC \\\\\n",
       "\t15 & 0.00272659 & 2 & 100 & beta & Poisson QC \\\\\n",
       "\t16 & 0.00362664 & 2 & 100 & beta & Poisson QC \\\\\n",
       "\t17 & 0.00163342 & 2 & 100 & beta & Poisson QC \\\\\n",
       "\t18 & 0.00319954 & 2 & 100 & beta & Poisson QC \\\\\n",
       "\t19 & 0.00111893 & 2 & 100 & beta & Poisson QC \\\\\n",
       "\t20 & 0.00169585 & 2 & 100 & beta & Poisson QC \\\\\n",
       "\t21 & 0.0258958 & 2 & 100 & beta & Poisson QC \\\\\n",
       "\t22 & 0.00828707 & 2 & 100 & beta & Poisson QC \\\\\n",
       "\t23 & 0.0113844 & 2 & 100 & beta & Poisson QC \\\\\n",
       "\t24 & 0.00240869 & 2 & 100 & beta & Poisson QC \\\\\n",
       "\t25 & 0.0057421 & 2 & 100 & beta & Poisson QC \\\\\n",
       "\t26 & 0.00276319 & 2 & 100 & beta & Poisson QC \\\\\n",
       "\t27 & 0.00711876 & 2 & 100 & beta & Poisson QC \\\\\n",
       "\t28 & 0.00364444 & 2 & 100 & beta & Poisson QC \\\\\n",
       "\t29 & 0.00226948 & 2 & 100 & beta & Poisson QC \\\\\n",
       "\t30 & 0.00440975 & 2 & 100 & beta & Poisson QC \\\\\n",
       "\t$\\dots$ & $\\dots$ & $\\dots$ & $\\dots$ & $\\dots$ & $\\dots$ \\\\\n",
       "\\end{tabular}\n"
      ],
      "text/plain": [
       "\u001b[1m7200×5 DataFrame\u001b[0m\n",
       "\u001b[1m  Row \u001b[0m│\u001b[1m mse        \u001b[0m\u001b[1m obssize \u001b[0m\u001b[1m samplesize \u001b[0m\u001b[1m parameters \u001b[0m\u001b[1m robust       \u001b[0m\n",
       "\u001b[1m      \u001b[0m│\u001b[90m Float64    \u001b[0m\u001b[90m String  \u001b[0m\u001b[90m String     \u001b[0m\u001b[90m String     \u001b[0m\u001b[90m String       \u001b[0m\n",
       "──────┼───────────────────────────────────────────────────────────\n",
       "    1 │ 0.00504839  2        100         beta        Poisson QC\n",
       "    2 │ 0.0246691   2        100         beta        Poisson QC\n",
       "    3 │ 0.0115729   2        100         beta        Poisson QC\n",
       "    4 │ 0.00118239  2        100         beta        Poisson QC\n",
       "    5 │ 0.00964668  2        100         beta        Poisson QC\n",
       "    6 │ 0.0244286   2        100         beta        Poisson QC\n",
       "    7 │ 0.00390293  2        100         beta        Poisson QC\n",
       "    8 │ 0.00405897  2        100         beta        Poisson QC\n",
       "    9 │ 0.00153526  2        100         beta        Poisson QC\n",
       "   10 │ 0.00346674  2        100         beta        Poisson QC\n",
       "   11 │ 0.00441299  2        100         beta        Poisson QC\n",
       "  ⋮   │     ⋮          ⋮         ⋮           ⋮            ⋮\n",
       " 7191 │ 5.50794e-8  25       10000       theta       Poisson GLMM\n",
       " 7192 │ 1.71033e-8  25       10000       theta       Poisson GLMM\n",
       " 7193 │ 2.76396e-6  25       10000       theta       Poisson GLMM\n",
       " 7194 │ 2.13024e-7  25       10000       theta       Poisson GLMM\n",
       " 7195 │ 3.26022e-7  25       10000       theta       Poisson GLMM\n",
       " 7196 │ 1.53425e-6  25       10000       theta       Poisson GLMM\n",
       " 7197 │ 7.74418e-8  25       10000       theta       Poisson GLMM\n",
       " 7198 │ 6.9164e-9   25       10000       theta       Poisson GLMM\n",
       " 7199 │ 4.24643e-8  25       10000       theta       Poisson GLMM\n",
       " 7200 │ 3.16971e-6  25       10000       theta       Poisson GLMM\n",
       "\u001b[36m                                                 7179 rows omitted\u001b[0m"
      ]
     },
     "execution_count": 9,
     "metadata": {},
     "output_type": "execute_result"
    }
   ],
   "source": [
    "#### \n",
    "#import data and reorganize to create figure\n",
    "using Random, DataFrames, DelimitedFiles, Statistics, RCall, Printf\n",
    "import StatsBase: sem\n",
    "\n",
    "βMseresult = vec(readdlm(\"mse_beta_multivariate_poisson_vcm$(nsims)reps_sim.csv\", ','))\n",
    "θMseresult = vec(readdlm(\"mse_theta_multivariate_poisson_vcm$(nsims)reps_sim.csv\", ','))\n",
    "\n",
    "βMseresult_GLMM = vec(readdlm(\"mse_beta_GLMM_multivariate_poisson_vcm$(nsims)reps_sim.csv\", ','))\n",
    "θMseresult_GLMM = vec(readdlm(\"mse_theta_GLMM_multivariate_poisson_vcm$(nsims)reps_sim.csv\", ','))\n",
    "\n",
    "\n",
    "p = 3; m = 1\n",
    "sample_sizes = repeat(string.(samplesizes), inner = nsims * length(ns))\n",
    "obs_sizes = repeat(string.(ns), inner = nsims, outer = length(samplesizes))\n",
    "msedf1 = DataFrame(βmse = βMseresult, thetamse = θMseresult, \n",
    "    samplesize = sample_sizes, obssize = obs_sizes)\n",
    "\n",
    "msedf2 = DataFrame(βmse = βMseresult_GLMM, thetamse = θMseresult_GLMM, \n",
    "    samplesize = sample_sizes, obssize = obs_sizes)\n",
    "\n",
    "#rename to make parsing easier for R.\n",
    "\n",
    "msedf1 = deepcopy(msedf1)\n",
    "rename!(msedf1, [\"betamse\"\n",
    "    \"thetamse\"\n",
    "    \"samplesize\"\n",
    " \"obssize\"]);\n",
    "\n",
    "msedf2 = deepcopy(msedf2)\n",
    "rename!(msedf2, [\"betamse\"\n",
    "    \"thetamse\"\n",
    "    \"samplesize\"\n",
    " \"obssize\"]);\n",
    "\n",
    "mses = [msedf1[!, :betamse]; msedf1[!, :thetamse]; msedf2[!, :betamse]; msedf2[!, :thetamse]]\n",
    "    # msedfnormR[!, :betamse]; msedfnormR[!, :taumse]; msedfnormR[!, :Sigmamse]]\n",
    "obssize = [collect([repeat(msedf1[!, :obssize], 2)]...) ; collect([repeat(msedf2[!, :obssize], 2)]...)]\n",
    "#40\n",
    "samplesize = [collect([repeat(msedf1[!, :samplesize], 2)]...) ; collect([repeat(msedf2[!, :samplesize], 2)]...)]\n",
    "\n",
    "parameters = [collect([repeat(string.([:beta, :theta]), inner = nsims * length(ns) * length(samplesizes))]...) ; collect([repeat(string.([:beta, :theta]), inner = nsims * length(ns) * length(samplesizes))]...)]\n",
    "robust = [collect([repeat([\"Poisson QC\"], 2 * nsims * length(ns) * length(samplesizes))]...); collect([repeat([\"Poisson GLMM\"],  2 * nsims * length(ns) * length(samplesizes))]...)]\n",
    "\n",
    "msedfR = DataFrame(mse = mses, obssize = obssize, samplesize = samplesize,\n",
    "    parameters = parameters, robust = robust)\n",
    "\n",
    "#5 of the 30,000 simulations did not converge, filter out\n",
    "msedfR = filter(x -> !isnan(x.mse), msedfR)\n",
    "# additionally, there are 5 where an error was not caught so it did not try a differnt solver\n",
    "msedfR = filter(x -> x.mse < 40000, msedfR)"
   ]
  },
  {
   "cell_type": "code",
   "execution_count": 10,
   "metadata": {},
   "outputs": [
    {
     "name": "stderr",
     "output_type": "stream",
     "text": [
      "┌ Warning: RCall.jl: Warning: package ‘scales’ was built under R version 4.0.2\n",
      "└ @ RCall /Users/sarahji/.julia/packages/RCall/6kphM/src/io.jl:172\n",
      "┌ Warning: RCall.jl: Warning: package ‘ggplot2’ was built under R version 4.0.2\n",
      "└ @ RCall /Users/sarahji/.julia/packages/RCall/6kphM/src/io.jl:172\n",
      "┌ Warning: RCall.jl: Warning: package ‘data.table’ was built under R version 4.0.2\n",
      "└ @ RCall /Users/sarahji/.julia/packages/RCall/6kphM/src/io.jl:172\n"
     ]
    },
    {
     "data": {
      "image/png": "[encoded data removed]"
     },
     "metadata": {},
     "output_type": "display_data"
    },
    {
     "data": {
      "text/plain": [
       "RObject{VecSxp}\n"
      ]
     },
     "execution_count": 10,
     "metadata": {},
     "output_type": "execute_result"
    }
   ],
   "source": [
    "### working on figure next\n",
    "@rput msedfR\n",
    "\n",
    "R\"\"\"\n",
    "library(scales)\n",
    "library(ggplot2)\n",
    "library(data.table)\n",
    "\n",
    "msedfR = data.table(msedfR)\n",
    "\n",
    "msedfR[parameters == \"beta\",y_min := 10^-4]\n",
    "msedfR[parameters == \"beta\",y_max := 10^-2]\n",
    "msedfR[parameters == \"theta\",y_min := 10^-5]\n",
    "msedfR[parameters == \"theta\",y_max := 10^1]\n",
    "\n",
    "#msedfR[parameters == \"beta\",y_min := 10^-8]\n",
    "#msedfR[parameters == \"beta\",y_max := 10^-2]\n",
    "#msedfR[parameters == \"tau\",y_min := 10^-8]\n",
    "#msedfR[parameters == \"tau\",y_max := 10^-2]\n",
    "#msedfR[parameters == \"Sigma\",y_min := 10^-5]\n",
    "#msedfR[parameters == \"Sigma\",y_max := 10^-2]\n",
    "\n",
    "\n",
    "msedfR$obssize = factor(msedfR$obssize, levels = c('2', '5', '10', '15', '20', '25'))\n",
    "msedfR$samplesize = factor(msedfR$samplesize, levels = c('100', '1000', '10000'))\n",
    "msedfR$parameters = factor(msedfR$parameters, levels = c('beta', 'theta'), labels = c(beta = expression(hat(bold(beta))), thetaa = expression(hat(bold(theta))[])))\n",
    "msedfR$robust <- factor(msedfR$robust, levels = c('Poisson QC', 'Poisson GLMM'),\n",
    "    labels = c(expression(paste(\"Poisson QC\")), expression(paste(\"Poisson GLMM\"))))\n",
    "\n",
    "\n",
    "#mseplot <- ggplot(msedfR[msedfR$mse < 10^0, ], aes(x=samplesize, y=mse, fill=obssize)) + \n",
    "mseplot = ggplot(msedfR[msedfR$mse < 10^3, ], aes(x=samplesize, y=mse, fill=obssize)) + \n",
    "  #geom_boxplot(outlier.size = 0.0, outlier.alpha = 0) +\n",
    "  geom_boxplot(outlier.size = 0.25) +\n",
    "#    geom_violin() +\n",
    "    facet_grid(parameters ~ robust, labeller = label_parsed, scales = \"free_y\") +\n",
    "  theme(legend.position=\"right\", legend.key = element_blank(), axis.text.x = element_text(angle=0, size=30),\n",
    "        axis.text.y = element_text(angle=0, size=30), axis.title.x = element_text(size = 30, face=\"bold\"), \n",
    "        axis.title.y = element_text(size = 40, face=\"bold\"), legend.title = element_text(size = 30, face=\"bold\"),\n",
    "        panel.grid.major = element_blank(), panel.grid.minor = element_blank(),\n",
    "        legend.text=element_text(size=30), panel.background = element_rect(fill = NA, color = \"black\"),\n",
    "        #panel.background = element_blank(), #panel.border = element_blank(),\n",
    "        axis.line = element_line(color = 'black',size=0.3), plot.title = element_text(hjust = 0.5),\n",
    "        strip.background = element_rect(colour=\"black\", fill=\"white\"), strip.text.y = element_text(angle = 0, size=75, face=\"bold\"),\n",
    "        strip.text.x = element_text(size=25)) + \n",
    "  scale_fill_manual(values = c(\"#c85f55\",\n",
    "\"#a964bf\",\n",
    "\"#8db352\",\n",
    "\"#fa7300\",\n",
    "\"#05aec0\",\n",
    "\"#ff1493\")) +\n",
    "#scale_y_log10(breaks = scales::trans_breaks(\"log10\", function(x) 10^x)) +\n",
    "#scale_y_log10(breaks = 10^(-8:8), limit=c(10^-8, 10^2)) + \n",
    "scale_y_log10(breaks = 10^seq(-10, 10, 2), labels=trans_format(\"log10\", math_format(10^.x))) + #, limit=c(10^-8, 10^2)) +\n",
    "  labs(x = \"Sample Size\", y = \"MSE of Parameter Estimates\", fill = \"Cluster Size\") +\n",
    "geom_blank(aes(y = y_max)) + \n",
    "geom_blank(aes(y = y_min)) \n",
    "\n",
    "\"\"\""
   ]
  },
  {
   "cell_type": "code",
   "execution_count": 11,
   "metadata": {},
   "outputs": [
    {
     "data": {
      "text/plain": [
       "RObject{StrSxp}\n",
       "[1] \"updated_msefacetplot_poisson_sim2_1.png\"\n"
      ]
     },
     "execution_count": 11,
     "metadata": {},
     "output_type": "execute_result"
    }
   ],
   "source": [
    "R\"\"\"\n",
    "    ggsave('updated_msefacetplot_poisson_sim2_1.png', mseplot, width = 20, height = 15, units = 'in', dpi = 450)\n",
    "\"\"\""
   ]
  }
 ],
 "metadata": {
  "@webio": {
   "lastCommId": null,
   "lastKernelId": null
  },
  "kernelspec": {
   "display_name": "Julia 1.6.2",
   "language": "julia",
   "name": "julia-1.6"
  },
  "language_info": {
   "file_extension": ".jl",
   "mimetype": "application/julia",
   "name": "julia",
   "version": "1.6.2"
  }
 },
 "nbformat": 4,
 "nbformat_minor": 2
}
