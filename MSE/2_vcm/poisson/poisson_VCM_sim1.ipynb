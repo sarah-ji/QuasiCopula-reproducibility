{
 "cells": [
  {
   "cell_type": "markdown",
   "metadata": {},
   "source": [
    "## Poisson VCM Results \n",
    "\n",
    "This notebook goes over the code needed to reproduce the results from the MSE and time figures for the Poisson base distribution with Log Link and covariance matrix $\\Gamma$ structured under variance component model framework as follows:\n",
    "\n",
    "$$\n",
    "\\Gamma = 0.1 * \\mathbf{1_{n} 1_{n}^\\top}\n",
    "$$\n",
    "\n",
    "In this example simulate three fixed effects under our Quasi-Copula model with $\\beta \\sim$ rand(Uniform(-0.2, 0.2), p) where p = 3 fixed effects.\n",
    "\n",
    "We use multi-threading on 8 threads to obtain these MSE results on the following machine, and include MSE results from 100 simulation runs comparing the fit of ours with that of the random intercept Poisson GLMM from MixedModels.jl for each scenario."
   ]
  },
  {
   "cell_type": "code",
   "execution_count": 1,
   "metadata": {},
   "outputs": [
    {
     "name": "stdout",
     "output_type": "stream",
     "text": [
      "Julia Version 1.6.2\n",
      "Commit 1b93d53fc4 (2021-07-14 15:36 UTC)\n",
      "Platform Info:\n",
      "  OS: macOS (x86_64-apple-darwin18.7.0)\n",
      "  CPU: Intel(R) Core(TM) i9-9880H CPU @ 2.30GHz\n",
      "  WORD_SIZE: 64\n",
      "  LIBM: libopenlibm\n",
      "  LLVM: libLLVM-11.0.1 (ORCJIT, skylake)\n"
     ]
    }
   ],
   "source": [
    "versioninfo()"
   ]
  },
  {
   "cell_type": "code",
   "execution_count": 2,
   "metadata": {},
   "outputs": [],
   "source": [
    "using QuasiCopula, DelimitedFiles, LinearAlgebra, Random, GLM\n",
    "using DataFrames"
   ]
  },
  {
   "cell_type": "code",
   "execution_count": 3,
   "metadata": {},
   "outputs": [],
   "source": [
    "p = 3    # number of fixed effects, including intercept\n",
    "m = 1    # number of variance components\n",
    "# true parameter values\n",
    "Random.seed!(12345)\n",
    "βtrue = rand(Uniform(-0.2, 0.2), p)\n",
    "θtrue = [0.1]\n",
    "\n",
    "# generate data\n",
    "intervals = zeros(p + m, 2) #hold intervals\n",
    "curcoverage = zeros(p + m) #hold current coverage resutls\n",
    "trueparams = [βtrue; θtrue] #hold true parameters\n",
    "\n",
    "#simulation parameters\n",
    "samplesizes = [100; 1000; 10000]\n",
    "ns = [2; 5; 10; 15; 20; 25]\n",
    "nsims = 100;"
   ]
  },
  {
   "cell_type": "code",
   "execution_count": 4,
   "metadata": {},
   "outputs": [
    {
     "name": "stderr",
     "output_type": "stream",
     "text": [
      "┌ Info: reading in the files with results\n",
      "└ @ Main In[4]:1\n"
     ]
    },
    {
     "data": {
      "text/plain": [
       "1800-element Vector{Float64}:\n",
       " 0.025811217\n",
       " 0.03980042\n",
       " 0.047136125\n",
       " 0.047265227\n",
       " 0.04751497\n",
       " 0.047373405\n",
       " 0.044847512\n",
       " 0.046870917\n",
       " 0.047290215\n",
       " 0.04719379\n",
       " 0.047544072\n",
       " 0.047324655\n",
       " 0.046654405\n",
       " ⋮\n",
       " 0.410845201\n",
       " 0.389278503\n",
       " 0.416093896\n",
       " 0.434910748\n",
       " 0.418554542\n",
       " 0.462937131\n",
       " 0.419438777\n",
       " 0.44918649\n",
       " 0.474265784\n",
       " 0.503343267\n",
       " 0.486814228\n",
       " 0.404168265"
      ]
     },
     "execution_count": 4,
     "metadata": {},
     "output_type": "execute_result"
    }
   ],
   "source": [
    "@info \"reading in the files with results\"\n",
    "βMseresult = vec(readdlm(\"mse_beta_multivariate_poisson_vcm$(nsims)reps_sim.csv\", ','))\n",
    "θMseresult = vec(readdlm(\"mse_theta_multivariate_poisson_vcm$(nsims)reps_sim.csv\", ','))\n",
    "fittimes_QC = vec(readdlm(\"fittimes_multivariate_poisson_vcm$(nsims)reps_sim.csv\", ','))"
   ]
  },
  {
   "cell_type": "code",
   "execution_count": 5,
   "metadata": {},
   "outputs": [
    {
     "data": {
      "text/plain": [
       "1800-element Vector{Float64}:\n",
       "  0.249378982\n",
       "  0.02645183\n",
       "  0.038533747\n",
       "  0.02820775\n",
       "  0.029832509\n",
       "  0.042800619\n",
       "  0.01874533\n",
       "  0.032515213\n",
       "  0.032038511\n",
       "  0.037097094\n",
       "  0.036861559\n",
       "  0.033436727\n",
       "  0.024651246\n",
       "  ⋮\n",
       " 30.742012093\n",
       " 22.058513539\n",
       " 28.404798363\n",
       " 38.866157236\n",
       " 21.414215488\n",
       " 31.598654243\n",
       " 24.920926393\n",
       " 24.985590407\n",
       " 28.922611466\n",
       " 18.105330711\n",
       " 30.253181949\n",
       " 33.21172808"
      ]
     },
     "execution_count": 5,
     "metadata": {},
     "output_type": "execute_result"
    }
   ],
   "source": [
    "fittimes_GLMM = vec(readdlm(\"fittimes_GLMM_multivariate_poisson_vcm$(nsims)reps_sim.csv\", ','))"
   ]
  },
  {
   "cell_type": "code",
   "execution_count": 6,
   "metadata": {},
   "outputs": [
    {
     "name": "stderr",
     "output_type": "stream",
     "text": [
      "┌ Info: making results table Quasi-Copula\n",
      "└ @ Main In[6]:2\n"
     ]
    },
    {
     "data": {
      "text/html": [
       "<div class=\"data-frame\"><p>18 rows × 8 columns</p><table class=\"data-frame\"><thead><tr><th></th><th>samplesize</th><th>obssize</th><th>fittime</th><th>se</th><th>nobs</th><th>fitmin</th><th>fitmax</th><th>perobsratio</th></tr><tr><th></th><th title=\"String\">String</th><th title=\"String\">String</th><th title=\"Float64\">Float64</th><th title=\"Float64\">Float64</th><th title=\"Int64\">Int64</th><th title=\"Float64\">Float64</th><th title=\"Float64\">Float64</th><th title=\"Float64\">Float64</th></tr></thead><tbody><tr><th>1</th><td>100</td><td>2</td><td>0.0465497</td><td>0.000291891</td><td>200</td><td>0.0462578</td><td>0.0471335</td><td>0.000232749</td></tr><tr><th>2</th><td>100</td><td>5</td><td>0.0478493</td><td>0.00115775</td><td>500</td><td>0.0466915</td><td>0.0501648</td><td>9.56985e-5</td></tr><tr><th>3</th><td>100</td><td>10</td><td>0.0432295</td><td>0.000947899</td><td>1000</td><td>0.0422816</td><td>0.0451253</td><td>4.32295e-5</td></tr><tr><th>4</th><td>100</td><td>15</td><td>0.0420007</td><td>0.00112696</td><td>1500</td><td>0.0408737</td><td>0.0442546</td><td>2.80005e-5</td></tr><tr><th>5</th><td>100</td><td>20</td><td>0.0406893</td><td>0.00130493</td><td>2000</td><td>0.0393843</td><td>0.0432991</td><td>2.03446e-5</td></tr><tr><th>6</th><td>100</td><td>25</td><td>0.0389741</td><td>0.00130211</td><td>2500</td><td>0.037672</td><td>0.0415783</td><td>1.55897e-5</td></tr><tr><th>7</th><td>1000</td><td>2</td><td>0.0434259</td><td>0.00146883</td><td>2000</td><td>0.0419571</td><td>0.0463636</td><td>2.1713e-5</td></tr><tr><th>8</th><td>1000</td><td>5</td><td>0.0381921</td><td>0.00152928</td><td>5000</td><td>0.0366628</td><td>0.0412506</td><td>7.63841e-6</td></tr><tr><th>9</th><td>1000</td><td>10</td><td>0.053669</td><td>0.00141984</td><td>10000</td><td>0.0522491</td><td>0.0565087</td><td>5.3669e-6</td></tr><tr><th>10</th><td>1000</td><td>15</td><td>0.0441988</td><td>0.000895726</td><td>15000</td><td>0.0433031</td><td>0.0459903</td><td>2.94659e-6</td></tr><tr><th>11</th><td>1000</td><td>20</td><td>0.0666396</td><td>0.000503656</td><td>20000</td><td>0.0661359</td><td>0.0676469</td><td>3.33198e-6</td></tr><tr><th>12</th><td>1000</td><td>25</td><td>0.0600647</td><td>0.00155515</td><td>25000</td><td>0.0585095</td><td>0.063175</td><td>2.40259e-6</td></tr><tr><th>13</th><td>10000</td><td>2</td><td>0.15009</td><td>0.00141412</td><td>20000</td><td>0.148676</td><td>0.152918</td><td>7.50448e-6</td></tr><tr><th>14</th><td>10000</td><td>5</td><td>0.168249</td><td>0.000867972</td><td>50000</td><td>0.167381</td><td>0.169985</td><td>3.36499e-6</td></tr><tr><th>15</th><td>10000</td><td>10</td><td>0.218184</td><td>0.00229968</td><td>100000</td><td>0.215885</td><td>0.222784</td><td>2.18184e-6</td></tr><tr><th>16</th><td>10000</td><td>15</td><td>0.285136</td><td>0.00239488</td><td>150000</td><td>0.282741</td><td>0.289926</td><td>1.90091e-6</td></tr><tr><th>17</th><td>10000</td><td>20</td><td>0.350986</td><td>0.00271</td><td>200000</td><td>0.348276</td><td>0.356406</td><td>1.75493e-6</td></tr><tr><th>18</th><td>10000</td><td>25</td><td>0.43788</td><td>0.00263899</td><td>250000</td><td>0.435241</td><td>0.443158</td><td>1.75152e-6</td></tr></tbody></table></div>"
      ],
      "text/latex": [
       "\\begin{tabular}{r|cccccccc}\n",
       "\t& samplesize & obssize & fittime & se & nobs & fitmin & fitmax & perobsratio\\\\\n",
       "\t\\hline\n",
       "\t& String & String & Float64 & Float64 & Int64 & Float64 & Float64 & Float64\\\\\n",
       "\t\\hline\n",
       "\t1 & 100 & 2 & 0.0465497 & 0.000291891 & 200 & 0.0462578 & 0.0471335 & 0.000232749 \\\\\n",
       "\t2 & 100 & 5 & 0.0478493 & 0.00115775 & 500 & 0.0466915 & 0.0501648 & 9.56985e-5 \\\\\n",
       "\t3 & 100 & 10 & 0.0432295 & 0.000947899 & 1000 & 0.0422816 & 0.0451253 & 4.32295e-5 \\\\\n",
       "\t4 & 100 & 15 & 0.0420007 & 0.00112696 & 1500 & 0.0408737 & 0.0442546 & 2.80005e-5 \\\\\n",
       "\t5 & 100 & 20 & 0.0406893 & 0.00130493 & 2000 & 0.0393843 & 0.0432991 & 2.03446e-5 \\\\\n",
       "\t6 & 100 & 25 & 0.0389741 & 0.00130211 & 2500 & 0.037672 & 0.0415783 & 1.55897e-5 \\\\\n",
       "\t7 & 1000 & 2 & 0.0434259 & 0.00146883 & 2000 & 0.0419571 & 0.0463636 & 2.1713e-5 \\\\\n",
       "\t8 & 1000 & 5 & 0.0381921 & 0.00152928 & 5000 & 0.0366628 & 0.0412506 & 7.63841e-6 \\\\\n",
       "\t9 & 1000 & 10 & 0.053669 & 0.00141984 & 10000 & 0.0522491 & 0.0565087 & 5.3669e-6 \\\\\n",
       "\t10 & 1000 & 15 & 0.0441988 & 0.000895726 & 15000 & 0.0433031 & 0.0459903 & 2.94659e-6 \\\\\n",
       "\t11 & 1000 & 20 & 0.0666396 & 0.000503656 & 20000 & 0.0661359 & 0.0676469 & 3.33198e-6 \\\\\n",
       "\t12 & 1000 & 25 & 0.0600647 & 0.00155515 & 25000 & 0.0585095 & 0.063175 & 2.40259e-6 \\\\\n",
       "\t13 & 10000 & 2 & 0.15009 & 0.00141412 & 20000 & 0.148676 & 0.152918 & 7.50448e-6 \\\\\n",
       "\t14 & 10000 & 5 & 0.168249 & 0.000867972 & 50000 & 0.167381 & 0.169985 & 3.36499e-6 \\\\\n",
       "\t15 & 10000 & 10 & 0.218184 & 0.00229968 & 100000 & 0.215885 & 0.222784 & 2.18184e-6 \\\\\n",
       "\t16 & 10000 & 15 & 0.285136 & 0.00239488 & 150000 & 0.282741 & 0.289926 & 1.90091e-6 \\\\\n",
       "\t17 & 10000 & 20 & 0.350986 & 0.00271 & 200000 & 0.348276 & 0.356406 & 1.75493e-6 \\\\\n",
       "\t18 & 10000 & 25 & 0.43788 & 0.00263899 & 250000 & 0.435241 & 0.443158 & 1.75152e-6 \\\\\n",
       "\\end{tabular}\n"
      ],
      "text/plain": [
       "\u001b[1m18×8 DataFrame\u001b[0m\n",
       "\u001b[1m Row \u001b[0m│\u001b[1m samplesize \u001b[0m\u001b[1m obssize \u001b[0m\u001b[1m fittime   \u001b[0m\u001b[1m se          \u001b[0m\u001b[1m nobs   \u001b[0m\u001b[1m fitmin    \u001b[0m\u001b[1m fitmax \u001b[0m ⋯\n",
       "\u001b[1m     \u001b[0m│\u001b[90m String     \u001b[0m\u001b[90m String  \u001b[0m\u001b[90m Float64   \u001b[0m\u001b[90m Float64     \u001b[0m\u001b[90m Int64  \u001b[0m\u001b[90m Float64   \u001b[0m\u001b[90m Float64\u001b[0m ⋯\n",
       "─────┼──────────────────────────────────────────────────────────────────────────\n",
       "   1 │ 100         2        0.0465497  0.000291891     200  0.0462578  0.04713 ⋯\n",
       "   2 │ 100         5        0.0478493  0.00115775      500  0.0466915  0.05016\n",
       "   3 │ 100         10       0.0432295  0.000947899    1000  0.0422816  0.04512\n",
       "   4 │ 100         15       0.0420007  0.00112696     1500  0.0408737  0.04425\n",
       "   5 │ 100         20       0.0406893  0.00130493     2000  0.0393843  0.04329 ⋯\n",
       "   6 │ 100         25       0.0389741  0.00130211     2500  0.037672   0.04157\n",
       "   7 │ 1000        2        0.0434259  0.00146883     2000  0.0419571  0.04636\n",
       "   8 │ 1000        5        0.0381921  0.00152928     5000  0.0366628  0.04125\n",
       "   9 │ 1000        10       0.053669   0.00141984    10000  0.0522491  0.05650 ⋯\n",
       "  10 │ 1000        15       0.0441988  0.000895726   15000  0.0433031  0.04599\n",
       "  11 │ 1000        20       0.0666396  0.000503656   20000  0.0661359  0.06764\n",
       "  12 │ 1000        25       0.0600647  0.00155515    25000  0.0585095  0.06317\n",
       "  13 │ 10000       2        0.15009    0.00141412    20000  0.148676   0.15291 ⋯\n",
       "  14 │ 10000       5        0.168249   0.000867972   50000  0.167381   0.16998\n",
       "  15 │ 10000       10       0.218184   0.00229968   100000  0.215885   0.22278\n",
       "  16 │ 10000       15       0.285136   0.00239488   150000  0.282741   0.28992\n",
       "  17 │ 10000       20       0.350986   0.00271      200000  0.348276   0.35640 ⋯\n",
       "  18 │ 10000       25       0.43788    0.00263899   250000  0.435241   0.44315\n",
       "\u001b[36m                                                               2 columns omitted\u001b[0m"
      ]
     },
     "execution_count": 6,
     "metadata": {},
     "output_type": "execute_result"
    }
   ],
   "source": [
    "#simulation parameters\n",
    "@info \"making results table Quasi-Copula\"\n",
    "sample_sizes = repeat(string.(samplesizes), inner = nsims * length(ns))\n",
    "obs_sizes = repeat(string.(ns), inner = nsims, outer = length(samplesizes))\n",
    "\n",
    "msedf = DataFrame(samplesize = sample_sizes, obssize = obs_sizes, fittimes = fittimes_QC)\n",
    "timedf1 = combine(groupby(msedf, [:samplesize, :obssize]), :fittimes => mean => :fittime,\n",
    "    :fittimes => x -> (std(x)/sqrt(length(x))))\n",
    "rename!(timedf1, Dict(:fittimes_function => \"se\"))\n",
    "timedf1[!, :nobs] = Meta.parse.(timedf1[!, :samplesize]) .* Meta.parse.(timedf1[!, :obssize])\n",
    "timedf1[!, :fitmin] = timedf1[!, :fittime] - timedf1[!, :se]\n",
    "timedf1[!, :fitmax] = timedf1[!, :fittime] + 2 * timedf1[!, :se]\n",
    "timedf1[!, :perobsratio] = timedf1[!, :fittime] ./ timedf1[!, :nobs]\n",
    "timedf1"
   ]
  },
  {
   "cell_type": "code",
   "execution_count": 7,
   "metadata": {},
   "outputs": [
    {
     "name": "stderr",
     "output_type": "stream",
     "text": [
      "┌ Info: making results table GLMM\n",
      "└ @ Main In[7]:2\n"
     ]
    },
    {
     "data": {
      "text/html": [
       "<div class=\"data-frame\"><p>18 rows × 8 columns</p><table class=\"data-frame\"><thead><tr><th></th><th>samplesize</th><th>obssize</th><th>fittime</th><th>se</th><th>nobs</th><th>fitmin</th><th>fitmax</th><th>perobsratio</th></tr><tr><th></th><th title=\"String\">String</th><th title=\"String\">String</th><th title=\"Float64\">Float64</th><th title=\"Float64\">Float64</th><th title=\"Int64\">Int64</th><th title=\"Float64\">Float64</th><th title=\"Float64\">Float64</th><th title=\"Float64\">Float64</th></tr></thead><tbody><tr><th>1</th><td>100</td><td>2</td><td>0.0325312</td><td>0.00290093</td><td>200</td><td>0.0296302</td><td>0.0354321</td><td>0.000162656</td></tr><tr><th>2</th><td>100</td><td>5</td><td>0.0649089</td><td>0.00395576</td><td>500</td><td>0.0609531</td><td>0.0688646</td><td>0.000129818</td></tr><tr><th>3</th><td>100</td><td>10</td><td>0.128669</td><td>0.00379331</td><td>1000</td><td>0.124875</td><td>0.132462</td><td>0.000128669</td></tr><tr><th>4</th><td>100</td><td>15</td><td>0.180785</td><td>0.00500416</td><td>1500</td><td>0.175781</td><td>0.185789</td><td>0.000120524</td></tr><tr><th>5</th><td>100</td><td>20</td><td>0.237624</td><td>0.00620306</td><td>2000</td><td>0.231421</td><td>0.243827</td><td>0.000118812</td></tr><tr><th>6</th><td>100</td><td>25</td><td>0.309187</td><td>0.00977595</td><td>2500</td><td>0.299411</td><td>0.318962</td><td>0.000123675</td></tr><tr><th>7</th><td>1000</td><td>2</td><td>0.236283</td><td>0.00704393</td><td>2000</td><td>0.229239</td><td>0.243327</td><td>0.000118142</td></tr><tr><th>8</th><td>1000</td><td>5</td><td>0.568781</td><td>0.00942874</td><td>5000</td><td>0.559352</td><td>0.57821</td><td>0.000113756</td></tr><tr><th>9</th><td>1000</td><td>10</td><td>1.11119</td><td>0.0161332</td><td>10000</td><td>1.09505</td><td>1.12732</td><td>0.000111119</td></tr><tr><th>10</th><td>1000</td><td>15</td><td>1.63154</td><td>0.0235182</td><td>15000</td><td>1.60803</td><td>1.65506</td><td>0.00010877</td></tr><tr><th>11</th><td>1000</td><td>20</td><td>2.13939</td><td>0.038868</td><td>20000</td><td>2.10052</td><td>2.17826</td><td>0.00010697</td></tr><tr><th>12</th><td>1000</td><td>25</td><td>2.75158</td><td>0.0434016</td><td>25000</td><td>2.70818</td><td>2.79498</td><td>0.000110063</td></tr><tr><th>13</th><td>10000</td><td>2</td><td>2.29817</td><td>0.0296686</td><td>20000</td><td>2.2685</td><td>2.32784</td><td>0.000114909</td></tr><tr><th>14</th><td>10000</td><td>5</td><td>5.72612</td><td>0.0827763</td><td>50000</td><td>5.64334</td><td>5.8089</td><td>0.000114522</td></tr><tr><th>15</th><td>10000</td><td>10</td><td>10.9764</td><td>0.175239</td><td>100000</td><td>10.8011</td><td>11.1516</td><td>0.000109764</td></tr><tr><th>16</th><td>10000</td><td>15</td><td>17.0994</td><td>0.26548</td><td>150000</td><td>16.834</td><td>17.3649</td><td>0.000113996</td></tr><tr><th>17</th><td>10000</td><td>20</td><td>22.8402</td><td>0.357104</td><td>200000</td><td>22.4831</td><td>23.1973</td><td>0.000114201</td></tr><tr><th>18</th><td>10000</td><td>25</td><td>29.155</td><td>0.523117</td><td>250000</td><td>28.6319</td><td>29.6781</td><td>0.00011662</td></tr></tbody></table></div>"
      ],
      "text/latex": [
       "\\begin{tabular}{r|cccccccc}\n",
       "\t& samplesize & obssize & fittime & se & nobs & fitmin & fitmax & perobsratio\\\\\n",
       "\t\\hline\n",
       "\t& String & String & Float64 & Float64 & Int64 & Float64 & Float64 & Float64\\\\\n",
       "\t\\hline\n",
       "\t1 & 100 & 2 & 0.0325312 & 0.00290093 & 200 & 0.0296302 & 0.0354321 & 0.000162656 \\\\\n",
       "\t2 & 100 & 5 & 0.0649089 & 0.00395576 & 500 & 0.0609531 & 0.0688646 & 0.000129818 \\\\\n",
       "\t3 & 100 & 10 & 0.128669 & 0.00379331 & 1000 & 0.124875 & 0.132462 & 0.000128669 \\\\\n",
       "\t4 & 100 & 15 & 0.180785 & 0.00500416 & 1500 & 0.175781 & 0.185789 & 0.000120524 \\\\\n",
       "\t5 & 100 & 20 & 0.237624 & 0.00620306 & 2000 & 0.231421 & 0.243827 & 0.000118812 \\\\\n",
       "\t6 & 100 & 25 & 0.309187 & 0.00977595 & 2500 & 0.299411 & 0.318962 & 0.000123675 \\\\\n",
       "\t7 & 1000 & 2 & 0.236283 & 0.00704393 & 2000 & 0.229239 & 0.243327 & 0.000118142 \\\\\n",
       "\t8 & 1000 & 5 & 0.568781 & 0.00942874 & 5000 & 0.559352 & 0.57821 & 0.000113756 \\\\\n",
       "\t9 & 1000 & 10 & 1.11119 & 0.0161332 & 10000 & 1.09505 & 1.12732 & 0.000111119 \\\\\n",
       "\t10 & 1000 & 15 & 1.63154 & 0.0235182 & 15000 & 1.60803 & 1.65506 & 0.00010877 \\\\\n",
       "\t11 & 1000 & 20 & 2.13939 & 0.038868 & 20000 & 2.10052 & 2.17826 & 0.00010697 \\\\\n",
       "\t12 & 1000 & 25 & 2.75158 & 0.0434016 & 25000 & 2.70818 & 2.79498 & 0.000110063 \\\\\n",
       "\t13 & 10000 & 2 & 2.29817 & 0.0296686 & 20000 & 2.2685 & 2.32784 & 0.000114909 \\\\\n",
       "\t14 & 10000 & 5 & 5.72612 & 0.0827763 & 50000 & 5.64334 & 5.8089 & 0.000114522 \\\\\n",
       "\t15 & 10000 & 10 & 10.9764 & 0.175239 & 100000 & 10.8011 & 11.1516 & 0.000109764 \\\\\n",
       "\t16 & 10000 & 15 & 17.0994 & 0.26548 & 150000 & 16.834 & 17.3649 & 0.000113996 \\\\\n",
       "\t17 & 10000 & 20 & 22.8402 & 0.357104 & 200000 & 22.4831 & 23.1973 & 0.000114201 \\\\\n",
       "\t18 & 10000 & 25 & 29.155 & 0.523117 & 250000 & 28.6319 & 29.6781 & 0.00011662 \\\\\n",
       "\\end{tabular}\n"
      ],
      "text/plain": [
       "\u001b[1m18×8 DataFrame\u001b[0m\n",
       "\u001b[1m Row \u001b[0m│\u001b[1m samplesize \u001b[0m\u001b[1m obssize \u001b[0m\u001b[1m fittime    \u001b[0m\u001b[1m se         \u001b[0m\u001b[1m nobs   \u001b[0m\u001b[1m fitmin     \u001b[0m\u001b[1m fitmax\u001b[0m ⋯\n",
       "\u001b[1m     \u001b[0m│\u001b[90m String     \u001b[0m\u001b[90m String  \u001b[0m\u001b[90m Float64    \u001b[0m\u001b[90m Float64    \u001b[0m\u001b[90m Int64  \u001b[0m\u001b[90m Float64    \u001b[0m\u001b[90m Float6\u001b[0m ⋯\n",
       "─────┼──────────────────────────────────────────────────────────────────────────\n",
       "   1 │ 100         2         0.0325312  0.00290093     200   0.0296302   0.035 ⋯\n",
       "   2 │ 100         5         0.0649089  0.00395576     500   0.0609531   0.068\n",
       "   3 │ 100         10        0.128669   0.00379331    1000   0.124875    0.132\n",
       "   4 │ 100         15        0.180785   0.00500416    1500   0.175781    0.185\n",
       "   5 │ 100         20        0.237624   0.00620306    2000   0.231421    0.243 ⋯\n",
       "   6 │ 100         25        0.309187   0.00977595    2500   0.299411    0.318\n",
       "   7 │ 1000        2         0.236283   0.00704393    2000   0.229239    0.243\n",
       "   8 │ 1000        5         0.568781   0.00942874    5000   0.559352    0.578\n",
       "   9 │ 1000        10        1.11119    0.0161332    10000   1.09505     1.127 ⋯\n",
       "  10 │ 1000        15        1.63154    0.0235182    15000   1.60803     1.655\n",
       "  11 │ 1000        20        2.13939    0.038868     20000   2.10052     2.178\n",
       "  12 │ 1000        25        2.75158    0.0434016    25000   2.70818     2.794\n",
       "  13 │ 10000       2         2.29817    0.0296686    20000   2.2685      2.327 ⋯\n",
       "  14 │ 10000       5         5.72612    0.0827763    50000   5.64334     5.808\n",
       "  15 │ 10000       10       10.9764     0.175239    100000  10.8011     11.151\n",
       "  16 │ 10000       15       17.0994     0.26548     150000  16.834      17.364\n",
       "  17 │ 10000       20       22.8402     0.357104    200000  22.4831     23.197 ⋯\n",
       "  18 │ 10000       25       29.155      0.523117    250000  28.6319     29.678\n",
       "\u001b[36m                                                               2 columns omitted\u001b[0m"
      ]
     },
     "execution_count": 7,
     "metadata": {},
     "output_type": "execute_result"
    }
   ],
   "source": [
    "#simulation parameters\n",
    "@info \"making results table GLMM\"\n",
    "sample_sizes = repeat(string.(samplesizes), inner = nsims * length(ns))\n",
    "obs_sizes = repeat(string.(ns), inner = nsims, outer = length(samplesizes))\n",
    "\n",
    "msedf = DataFrame(samplesize = sample_sizes, obssize = obs_sizes, fittimes = fittimes_GLMM)\n",
    "timedf2 = combine(groupby(msedf, [:samplesize, :obssize]), :fittimes => mean => :fittime,\n",
    "    :fittimes => x -> (std(x)/sqrt(length(x))))\n",
    "rename!(timedf2, Dict(:fittimes_function => \"se\"))\n",
    "timedf2[!, :nobs] = Meta.parse.(timedf2[!, :samplesize]) .* Meta.parse.(timedf2[!, :obssize])\n",
    "timedf2[!, :fitmin] = timedf2[!, :fittime] - timedf2[!, :se]\n",
    "timedf2[!, :fitmax] = timedf2[!, :fittime] + timedf2[!, :se]\n",
    "timedf2[!, :perobsratio] = timedf2[!, :fittime] ./ timedf2[!, :nobs]\n",
    "timedf2"
   ]
  },
  {
   "cell_type": "code",
   "execution_count": 8,
   "metadata": {},
   "outputs": [
    {
     "data": {
      "text/html": [
       "<div class=\"data-frame\"><p>18 rows × 5 columns</p><table class=\"data-frame\"><thead><tr><th></th><th>people_obs</th><th>β1</th><th>β2</th><th>β3</th><th>θ1</th></tr><tr><th></th><th title=\"String\">String</th><th title=\"Tuple{Float64, Float64}\">Tuple…</th><th title=\"Tuple{Float64, Float64}\">Tuple…</th><th title=\"Tuple{Float64, Float64}\">Tuple…</th><th title=\"Tuple{Float64, Float64}\">Tuple…</th></tr></thead><tbody><tr><th>1</th><td>N: 100  ni: 2</td><td>(0.73, 0.0446196)</td><td>(0.9, 0.0301511)</td><td>(0.78, 0.0416333)</td><td>(0.93, 0.0256432)</td></tr><tr><th>2</th><td>N: 100  ni: 5</td><td>(0.78, 0.0416333)</td><td>(0.87, 0.0337998)</td><td>(0.77, 0.0422953)</td><td>(0.81, 0.0394277)</td></tr><tr><th>3</th><td>N: 100  ni: 10</td><td>(0.77, 0.0422953)</td><td>(0.84, 0.0368453)</td><td>(0.76, 0.0429235)</td><td>(0.9, 0.0301511)</td></tr><tr><th>4</th><td>N: 100  ni: 15</td><td>(0.75, 0.0435194)</td><td>(0.83, 0.0377525)</td><td>(0.73, 0.0446196)</td><td>(0.9, 0.0301511)</td></tr><tr><th>5</th><td>N: 100  ni: 20</td><td>(0.74, 0.0440844)</td><td>(0.76, 0.0429235)</td><td>(0.67, 0.0472582)</td><td>(0.84, 0.0368453)</td></tr><tr><th>6</th><td>N: 100  ni: 25</td><td>(0.69, 0.0464823)</td><td>(0.79, 0.040936)</td><td>(0.78, 0.0416333)</td><td>(0.95, 0.0219043)</td></tr><tr><th>7</th><td>N: 1000  ni: 2</td><td>(0.81, 0.0394277)</td><td>(0.84, 0.0368453)</td><td>(0.74, 0.0440844)</td><td>(0.91, 0.0287623)</td></tr><tr><th>8</th><td>N: 1000  ni: 5</td><td>(0.78, 0.0416333)</td><td>(0.84, 0.0368453)</td><td>(0.74, 0.0440844)</td><td>(0.93, 0.0256432)</td></tr><tr><th>9</th><td>N: 1000  ni: 10</td><td>(0.74, 0.0440844)</td><td>(0.82, 0.0386123)</td><td>(0.75, 0.0435194)</td><td>(0.89, 0.0314466)</td></tr><tr><th>10</th><td>N: 1000  ni: 15</td><td>(0.66, 0.0476095)</td><td>(0.78, 0.0416333)</td><td>(0.72, 0.0451261)</td><td>(0.93, 0.0256432)</td></tr><tr><th>11</th><td>N: 1000  ni: 20</td><td>(0.57, 0.049757)</td><td>(0.74, 0.0440844)</td><td>(0.65, 0.0479372)</td><td>(0.97, 0.0171447)</td></tr><tr><th>12</th><td>N: 1000  ni: 25</td><td>(0.53, 0.0501614)</td><td>(0.69, 0.0464823)</td><td>(0.58, 0.0496045)</td><td>(0.92, 0.027266)</td></tr><tr><th>13</th><td>N: 10000  ni: 2</td><td>(0.85, 0.035887)</td><td>(0.72, 0.0451261)</td><td>(0.7, 0.0460566)</td><td>(0.95, 0.0219043)</td></tr><tr><th>14</th><td>N: 10000  ni: 5</td><td>(0.88, 0.0326599)</td><td>(0.76, 0.0429235)</td><td>(0.74, 0.0440844)</td><td>(0.9, 0.0301511)</td></tr><tr><th>15</th><td>N: 10000  ni: 10</td><td>(0.64, 0.0482418)</td><td>(0.78, 0.0416333)</td><td>(0.72, 0.0451261)</td><td>(0.97, 0.0171447)</td></tr><tr><th>16</th><td>N: 10000  ni: 15</td><td>(0.52, 0.0502117)</td><td>(0.82, 0.0386123)</td><td>(0.48, 0.0502117)</td><td>(0.95, 0.0219043)</td></tr><tr><th>17</th><td>N: 10000  ni: 20</td><td>(0.55, 0.05)</td><td>(0.74, 0.0440844)</td><td>(0.53, 0.0501614)</td><td>(0.88, 0.0326599)</td></tr><tr><th>18</th><td>N: 10000  ni: 25</td><td>(0.48, 0.0502117)</td><td>(0.72, 0.0451261)</td><td>(0.5, 0.0502519)</td><td>(0.95, 0.0219043)</td></tr></tbody></table></div>"
      ],
      "text/latex": [
       "\\begin{tabular}{r|ccccc}\n",
       "\t& people\\_obs & β1 & β2 & β3 & θ1\\\\\n",
       "\t\\hline\n",
       "\t& String & Tuple… & Tuple… & Tuple… & Tuple…\\\\\n",
       "\t\\hline\n",
       "\t1 & N: 100  ni: 2 & (0.73, 0.0446196) & (0.9, 0.0301511) & (0.78, 0.0416333) & (0.93, 0.0256432) \\\\\n",
       "\t2 & N: 100  ni: 5 & (0.78, 0.0416333) & (0.87, 0.0337998) & (0.77, 0.0422953) & (0.81, 0.0394277) \\\\\n",
       "\t3 & N: 100  ni: 10 & (0.77, 0.0422953) & (0.84, 0.0368453) & (0.76, 0.0429235) & (0.9, 0.0301511) \\\\\n",
       "\t4 & N: 100  ni: 15 & (0.75, 0.0435194) & (0.83, 0.0377525) & (0.73, 0.0446196) & (0.9, 0.0301511) \\\\\n",
       "\t5 & N: 100  ni: 20 & (0.74, 0.0440844) & (0.76, 0.0429235) & (0.67, 0.0472582) & (0.84, 0.0368453) \\\\\n",
       "\t6 & N: 100  ni: 25 & (0.69, 0.0464823) & (0.79, 0.040936) & (0.78, 0.0416333) & (0.95, 0.0219043) \\\\\n",
       "\t7 & N: 1000  ni: 2 & (0.81, 0.0394277) & (0.84, 0.0368453) & (0.74, 0.0440844) & (0.91, 0.0287623) \\\\\n",
       "\t8 & N: 1000  ni: 5 & (0.78, 0.0416333) & (0.84, 0.0368453) & (0.74, 0.0440844) & (0.93, 0.0256432) \\\\\n",
       "\t9 & N: 1000  ni: 10 & (0.74, 0.0440844) & (0.82, 0.0386123) & (0.75, 0.0435194) & (0.89, 0.0314466) \\\\\n",
       "\t10 & N: 1000  ni: 15 & (0.66, 0.0476095) & (0.78, 0.0416333) & (0.72, 0.0451261) & (0.93, 0.0256432) \\\\\n",
       "\t11 & N: 1000  ni: 20 & (0.57, 0.049757) & (0.74, 0.0440844) & (0.65, 0.0479372) & (0.97, 0.0171447) \\\\\n",
       "\t12 & N: 1000  ni: 25 & (0.53, 0.0501614) & (0.69, 0.0464823) & (0.58, 0.0496045) & (0.92, 0.027266) \\\\\n",
       "\t13 & N: 10000  ni: 2 & (0.85, 0.035887) & (0.72, 0.0451261) & (0.7, 0.0460566) & (0.95, 0.0219043) \\\\\n",
       "\t14 & N: 10000  ni: 5 & (0.88, 0.0326599) & (0.76, 0.0429235) & (0.74, 0.0440844) & (0.9, 0.0301511) \\\\\n",
       "\t15 & N: 10000  ni: 10 & (0.64, 0.0482418) & (0.78, 0.0416333) & (0.72, 0.0451261) & (0.97, 0.0171447) \\\\\n",
       "\t16 & N: 10000  ni: 15 & (0.52, 0.0502117) & (0.82, 0.0386123) & (0.48, 0.0502117) & (0.95, 0.0219043) \\\\\n",
       "\t17 & N: 10000  ni: 20 & (0.55, 0.05) & (0.74, 0.0440844) & (0.53, 0.0501614) & (0.88, 0.0326599) \\\\\n",
       "\t18 & N: 10000  ni: 25 & (0.48, 0.0502117) & (0.72, 0.0451261) & (0.5, 0.0502519) & (0.95, 0.0219043) \\\\\n",
       "\\end{tabular}\n"
      ],
      "text/plain": [
       "\u001b[1m18×5 DataFrame\u001b[0m\n",
       "\u001b[1m Row \u001b[0m│\u001b[1m people_obs       \u001b[0m\u001b[1m β1                \u001b[0m\u001b[1m β2                \u001b[0m\u001b[1m β3             \u001b[0m ⋯\n",
       "\u001b[1m     \u001b[0m│\u001b[90m String           \u001b[0m\u001b[90m Tuple…            \u001b[0m\u001b[90m Tuple…            \u001b[0m\u001b[90m Tuple…         \u001b[0m ⋯\n",
       "─────┼──────────────────────────────────────────────────────────────────────────\n",
       "   1 │ N: 100  ni: 2     (0.73, 0.0446196)  (0.9, 0.0301511)   (0.78, 0.041633 ⋯\n",
       "   2 │ N: 100  ni: 5     (0.78, 0.0416333)  (0.87, 0.0337998)  (0.77, 0.042295\n",
       "   3 │ N: 100  ni: 10    (0.77, 0.0422953)  (0.84, 0.0368453)  (0.76, 0.042923\n",
       "   4 │ N: 100  ni: 15    (0.75, 0.0435194)  (0.83, 0.0377525)  (0.73, 0.044619\n",
       "   5 │ N: 100  ni: 20    (0.74, 0.0440844)  (0.76, 0.0429235)  (0.67, 0.047258 ⋯\n",
       "   6 │ N: 100  ni: 25    (0.69, 0.0464823)  (0.79, 0.040936)   (0.78, 0.041633\n",
       "   7 │ N: 1000  ni: 2    (0.81, 0.0394277)  (0.84, 0.0368453)  (0.74, 0.044084\n",
       "   8 │ N: 1000  ni: 5    (0.78, 0.0416333)  (0.84, 0.0368453)  (0.74, 0.044084\n",
       "   9 │ N: 1000  ni: 10   (0.74, 0.0440844)  (0.82, 0.0386123)  (0.75, 0.043519 ⋯\n",
       "  10 │ N: 1000  ni: 15   (0.66, 0.0476095)  (0.78, 0.0416333)  (0.72, 0.045126\n",
       "  11 │ N: 1000  ni: 20   (0.57, 0.049757)   (0.74, 0.0440844)  (0.65, 0.047937\n",
       "  12 │ N: 1000  ni: 25   (0.53, 0.0501614)  (0.69, 0.0464823)  (0.58, 0.049604\n",
       "  13 │ N: 10000  ni: 2   (0.85, 0.035887)   (0.72, 0.0451261)  (0.7, 0.0460566 ⋯\n",
       "  14 │ N: 10000  ni: 5   (0.88, 0.0326599)  (0.76, 0.0429235)  (0.74, 0.044084\n",
       "  15 │ N: 10000  ni: 10  (0.64, 0.0482418)  (0.78, 0.0416333)  (0.72, 0.045126\n",
       "  16 │ N: 10000  ni: 15  (0.52, 0.0502117)  (0.82, 0.0386123)  (0.48, 0.050211\n",
       "  17 │ N: 10000  ni: 20  (0.55, 0.05)       (0.74, 0.0440844)  (0.53, 0.050161 ⋯\n",
       "  18 │ N: 10000  ni: 25  (0.48, 0.0502117)  (0.72, 0.0451261)  (0.5, 0.0502519\n",
       "\u001b[36m                                                               2 columns omitted\u001b[0m"
      ]
     },
     "execution_count": 8,
     "metadata": {},
     "output_type": "execute_result"
    }
   ],
   "source": [
    "######  supplementary table s1\n",
    "using Random, DataFrames, DelimitedFiles, Statistics\n",
    "import StatsBase: sem\n",
    "\n",
    "βθcoverage = readdlm(\"beta_theta_coverage_multivariate_poisson_vcm$(nsims)reps_sim.csv\", ',')\n",
    "\n",
    "m  = 1\n",
    "\n",
    "covdf = DataFrame(Matrix(transpose(βθcoverage)), :auto)\n",
    "rename!(covdf, Symbol.([[\"β$i\" for i in 1:p]; [\"θ$i\" for i in 1:m]]))\n",
    "covdf[!, :samplesize] = sample_sizes\n",
    "covdf[!, :obssize] = obs_sizes\n",
    "first(covdf, 10)\n",
    "\n",
    "row_stats = [[(mean(col), sem(col)) for col = eachcol(d[!, 1:end-2])] for d = groupby(covdf, [:samplesize; :obssize])]\n",
    "df = DataFrame(row_stats, :auto)\n",
    "ss_obs = unique(\"N: \" .* sample_sizes .* \"  ni: \" .* obs_sizes)\n",
    "rename!(df, Symbol.(ss_obs))\n",
    "covdfdisplay = DataFrame([[names(df)]; collect.(eachrow(df))], \n",
    "    [:people_obs; Symbol.([[\"β$i\" for i in 1:p]; [\"θ$i\" for i in 1:m]])])\n",
    "covdfdisplay\n"
   ]
  },
  {
   "cell_type": "code",
   "execution_count": 9,
   "metadata": {},
   "outputs": [
    {
     "data": {
      "text/html": [
       "<div class=\"data-frame\"><p>7,200 rows × 5 columns</p><table class=\"data-frame\"><thead><tr><th></th><th>mse</th><th>obssize</th><th>samplesize</th><th>parameters</th><th>robust</th></tr><tr><th></th><th title=\"Float64\">Float64</th><th title=\"String\">String</th><th title=\"String\">String</th><th title=\"String\">String</th><th title=\"String\">String</th></tr></thead><tbody><tr><th>1</th><td>0.00227088</td><td>2</td><td>100</td><td>beta</td><td>Poisson QC</td></tr><tr><th>2</th><td>0.00377698</td><td>2</td><td>100</td><td>beta</td><td>Poisson QC</td></tr><tr><th>3</th><td>0.00494321</td><td>2</td><td>100</td><td>beta</td><td>Poisson QC</td></tr><tr><th>4</th><td>0.00206682</td><td>2</td><td>100</td><td>beta</td><td>Poisson QC</td></tr><tr><th>5</th><td>0.00440837</td><td>2</td><td>100</td><td>beta</td><td>Poisson QC</td></tr><tr><th>6</th><td>0.00560408</td><td>2</td><td>100</td><td>beta</td><td>Poisson QC</td></tr><tr><th>7</th><td>0.0192982</td><td>2</td><td>100</td><td>beta</td><td>Poisson QC</td></tr><tr><th>8</th><td>0.00502579</td><td>2</td><td>100</td><td>beta</td><td>Poisson QC</td></tr><tr><th>9</th><td>0.00248801</td><td>2</td><td>100</td><td>beta</td><td>Poisson QC</td></tr><tr><th>10</th><td>0.0225837</td><td>2</td><td>100</td><td>beta</td><td>Poisson QC</td></tr><tr><th>11</th><td>0.0081593</td><td>2</td><td>100</td><td>beta</td><td>Poisson QC</td></tr><tr><th>12</th><td>0.0102421</td><td>2</td><td>100</td><td>beta</td><td>Poisson QC</td></tr><tr><th>13</th><td>0.000707222</td><td>2</td><td>100</td><td>beta</td><td>Poisson QC</td></tr><tr><th>14</th><td>0.00207289</td><td>2</td><td>100</td><td>beta</td><td>Poisson QC</td></tr><tr><th>15</th><td>0.000157407</td><td>2</td><td>100</td><td>beta</td><td>Poisson QC</td></tr><tr><th>16</th><td>0.00214714</td><td>2</td><td>100</td><td>beta</td><td>Poisson QC</td></tr><tr><th>17</th><td>0.00300666</td><td>2</td><td>100</td><td>beta</td><td>Poisson QC</td></tr><tr><th>18</th><td>0.00013407</td><td>2</td><td>100</td><td>beta</td><td>Poisson QC</td></tr><tr><th>19</th><td>0.00932813</td><td>2</td><td>100</td><td>beta</td><td>Poisson QC</td></tr><tr><th>20</th><td>0.00377707</td><td>2</td><td>100</td><td>beta</td><td>Poisson QC</td></tr><tr><th>21</th><td>0.00485719</td><td>2</td><td>100</td><td>beta</td><td>Poisson QC</td></tr><tr><th>22</th><td>0.00431503</td><td>2</td><td>100</td><td>beta</td><td>Poisson QC</td></tr><tr><th>23</th><td>0.00591826</td><td>2</td><td>100</td><td>beta</td><td>Poisson QC</td></tr><tr><th>24</th><td>0.00627947</td><td>2</td><td>100</td><td>beta</td><td>Poisson QC</td></tr><tr><th>25</th><td>0.00350802</td><td>2</td><td>100</td><td>beta</td><td>Poisson QC</td></tr><tr><th>26</th><td>0.000185128</td><td>2</td><td>100</td><td>beta</td><td>Poisson QC</td></tr><tr><th>27</th><td>0.00102769</td><td>2</td><td>100</td><td>beta</td><td>Poisson QC</td></tr><tr><th>28</th><td>0.00433749</td><td>2</td><td>100</td><td>beta</td><td>Poisson QC</td></tr><tr><th>29</th><td>0.00312906</td><td>2</td><td>100</td><td>beta</td><td>Poisson QC</td></tr><tr><th>30</th><td>0.00151207</td><td>2</td><td>100</td><td>beta</td><td>Poisson QC</td></tr><tr><th>&vellip;</th><td>&vellip;</td><td>&vellip;</td><td>&vellip;</td><td>&vellip;</td><td>&vellip;</td></tr></tbody></table></div>"
      ],
      "text/latex": [
       "\\begin{tabular}{r|ccccc}\n",
       "\t& mse & obssize & samplesize & parameters & robust\\\\\n",
       "\t\\hline\n",
       "\t& Float64 & String & String & String & String\\\\\n",
       "\t\\hline\n",
       "\t1 & 0.00227088 & 2 & 100 & beta & Poisson QC \\\\\n",
       "\t2 & 0.00377698 & 2 & 100 & beta & Poisson QC \\\\\n",
       "\t3 & 0.00494321 & 2 & 100 & beta & Poisson QC \\\\\n",
       "\t4 & 0.00206682 & 2 & 100 & beta & Poisson QC \\\\\n",
       "\t5 & 0.00440837 & 2 & 100 & beta & Poisson QC \\\\\n",
       "\t6 & 0.00560408 & 2 & 100 & beta & Poisson QC \\\\\n",
       "\t7 & 0.0192982 & 2 & 100 & beta & Poisson QC \\\\\n",
       "\t8 & 0.00502579 & 2 & 100 & beta & Poisson QC \\\\\n",
       "\t9 & 0.00248801 & 2 & 100 & beta & Poisson QC \\\\\n",
       "\t10 & 0.0225837 & 2 & 100 & beta & Poisson QC \\\\\n",
       "\t11 & 0.0081593 & 2 & 100 & beta & Poisson QC \\\\\n",
       "\t12 & 0.0102421 & 2 & 100 & beta & Poisson QC \\\\\n",
       "\t13 & 0.000707222 & 2 & 100 & beta & Poisson QC \\\\\n",
       "\t14 & 0.00207289 & 2 & 100 & beta & Poisson QC \\\\\n",
       "\t15 & 0.000157407 & 2 & 100 & beta & Poisson QC \\\\\n",
       "\t16 & 0.00214714 & 2 & 100 & beta & Poisson QC \\\\\n",
       "\t17 & 0.00300666 & 2 & 100 & beta & Poisson QC \\\\\n",
       "\t18 & 0.00013407 & 2 & 100 & beta & Poisson QC \\\\\n",
       "\t19 & 0.00932813 & 2 & 100 & beta & Poisson QC \\\\\n",
       "\t20 & 0.00377707 & 2 & 100 & beta & Poisson QC \\\\\n",
       "\t21 & 0.00485719 & 2 & 100 & beta & Poisson QC \\\\\n",
       "\t22 & 0.00431503 & 2 & 100 & beta & Poisson QC \\\\\n",
       "\t23 & 0.00591826 & 2 & 100 & beta & Poisson QC \\\\\n",
       "\t24 & 0.00627947 & 2 & 100 & beta & Poisson QC \\\\\n",
       "\t25 & 0.00350802 & 2 & 100 & beta & Poisson QC \\\\\n",
       "\t26 & 0.000185128 & 2 & 100 & beta & Poisson QC \\\\\n",
       "\t27 & 0.00102769 & 2 & 100 & beta & Poisson QC \\\\\n",
       "\t28 & 0.00433749 & 2 & 100 & beta & Poisson QC \\\\\n",
       "\t29 & 0.00312906 & 2 & 100 & beta & Poisson QC \\\\\n",
       "\t30 & 0.00151207 & 2 & 100 & beta & Poisson QC \\\\\n",
       "\t$\\dots$ & $\\dots$ & $\\dots$ & $\\dots$ & $\\dots$ & $\\dots$ \\\\\n",
       "\\end{tabular}\n"
      ],
      "text/plain": [
       "\u001b[1m7200×5 DataFrame\u001b[0m\n",
       "\u001b[1m  Row \u001b[0m│\u001b[1m mse         \u001b[0m\u001b[1m obssize \u001b[0m\u001b[1m samplesize \u001b[0m\u001b[1m parameters \u001b[0m\u001b[1m robust       \u001b[0m\n",
       "\u001b[1m      \u001b[0m│\u001b[90m Float64     \u001b[0m\u001b[90m String  \u001b[0m\u001b[90m String     \u001b[0m\u001b[90m String     \u001b[0m\u001b[90m String       \u001b[0m\n",
       "──────┼────────────────────────────────────────────────────────────\n",
       "    1 │ 0.00227088   2        100         beta        Poisson QC\n",
       "    2 │ 0.00377698   2        100         beta        Poisson QC\n",
       "    3 │ 0.00494321   2        100         beta        Poisson QC\n",
       "    4 │ 0.00206682   2        100         beta        Poisson QC\n",
       "    5 │ 0.00440837   2        100         beta        Poisson QC\n",
       "    6 │ 0.00560408   2        100         beta        Poisson QC\n",
       "    7 │ 0.0192982    2        100         beta        Poisson QC\n",
       "    8 │ 0.00502579   2        100         beta        Poisson QC\n",
       "    9 │ 0.00248801   2        100         beta        Poisson QC\n",
       "   10 │ 0.0225837    2        100         beta        Poisson QC\n",
       "   11 │ 0.0081593    2        100         beta        Poisson QC\n",
       "  ⋮   │      ⋮          ⋮         ⋮           ⋮            ⋮\n",
       " 7191 │ 0.00353422   25       10000       theta       Poisson GLMM\n",
       " 7192 │ 0.00343008   25       10000       theta       Poisson GLMM\n",
       " 7193 │ 0.00323705   25       10000       theta       Poisson GLMM\n",
       " 7194 │ 0.00347859   25       10000       theta       Poisson GLMM\n",
       " 7195 │ 0.00340337   25       10000       theta       Poisson GLMM\n",
       " 7196 │ 0.00342698   25       10000       theta       Poisson GLMM\n",
       " 7197 │ 0.00342053   25       10000       theta       Poisson GLMM\n",
       " 7198 │ 0.0033162    25       10000       theta       Poisson GLMM\n",
       " 7199 │ 0.0033359    25       10000       theta       Poisson GLMM\n",
       " 7200 │ 0.00357907   25       10000       theta       Poisson GLMM\n",
       "\u001b[36m                                                  7179 rows omitted\u001b[0m"
      ]
     },
     "execution_count": 9,
     "metadata": {},
     "output_type": "execute_result"
    }
   ],
   "source": [
    "#### \n",
    "#import data and reorganize to create figure\n",
    "using Random, DataFrames, DelimitedFiles, Statistics, RCall, Printf\n",
    "import StatsBase: sem\n",
    "\n",
    "βMseresult = vec(readdlm(\"mse_beta_multivariate_poisson_vcm$(nsims)reps_sim.csv\", ','))\n",
    "θMseresult = vec(readdlm(\"mse_theta_multivariate_poisson_vcm$(nsims)reps_sim.csv\", ','))\n",
    "\n",
    "βMseresult_GLMM = vec(readdlm(\"mse_beta_GLMM_multivariate_poisson_vcm$(nsims)reps_sim.csv\", ','))\n",
    "θMseresult_GLMM = vec(readdlm(\"mse_theta_GLMM_multivariate_poisson_vcm$(nsims)reps_sim.csv\", ','))\n",
    "\n",
    "\n",
    "p = 3; m = 1\n",
    "sample_sizes = repeat(string.(samplesizes), inner = nsims * length(ns))\n",
    "obs_sizes = repeat(string.(ns), inner = nsims, outer = length(samplesizes))\n",
    "msedf1 = DataFrame(βmse = βMseresult, thetamse = θMseresult, \n",
    "    samplesize = sample_sizes, obssize = obs_sizes)\n",
    "\n",
    "msedf2 = DataFrame(βmse = βMseresult_GLMM, thetamse = θMseresult_GLMM, \n",
    "    samplesize = sample_sizes, obssize = obs_sizes)\n",
    "\n",
    "#rename to make parsing easier for R.\n",
    "\n",
    "msedf1 = deepcopy(msedf1)\n",
    "rename!(msedf1, [\"betamse\"\n",
    "    \"thetamse\"\n",
    "    \"samplesize\"\n",
    " \"obssize\"]);\n",
    "\n",
    "msedf2 = deepcopy(msedf2)\n",
    "rename!(msedf2, [\"betamse\"\n",
    "    \"thetamse\"\n",
    "    \"samplesize\"\n",
    " \"obssize\"]);\n",
    "\n",
    "mses = [msedf1[!, :betamse]; msedf1[!, :thetamse]; msedf2[!, :betamse]; msedf2[!, :thetamse]]\n",
    "    # msedfnormR[!, :betamse]; msedfnormR[!, :taumse]; msedfnormR[!, :Sigmamse]]\n",
    "obssize = [collect([repeat(msedf1[!, :obssize], 2)]...) ; collect([repeat(msedf2[!, :obssize], 2)]...)]\n",
    "#40\n",
    "samplesize = [collect([repeat(msedf1[!, :samplesize], 2)]...) ; collect([repeat(msedf2[!, :samplesize], 2)]...)]\n",
    "\n",
    "parameters = [collect([repeat(string.([:beta, :theta]), inner = nsims * length(ns) * length(samplesizes))]...) ; collect([repeat(string.([:beta, :theta]), inner = nsims * length(ns) * length(samplesizes))]...)]\n",
    "robust = [collect([repeat([\"Poisson QC\"], 2 * nsims * length(ns) * length(samplesizes))]...); collect([repeat([\"Poisson GLMM\"],  2 * nsims * length(ns) * length(samplesizes))]...)]\n",
    "\n",
    "msedfR = DataFrame(mse = mses, obssize = obssize, samplesize = samplesize,\n",
    "    parameters = parameters, robust = robust)\n",
    "\n",
    "#5 of the 30,000 simulations did not converge, filter out\n",
    "msedfR = filter(x -> !isnan(x.mse), msedfR)\n",
    "# additionally, there are 5 where an error was not caught so it did not try a differnt solver\n",
    "msedfR = filter(x -> x.mse < 40000, msedfR)"
   ]
  },
  {
   "cell_type": "code",
   "execution_count": 10,
   "metadata": {},
   "outputs": [
    {
     "name": "stderr",
     "output_type": "stream",
     "text": [
      "┌ Warning: RCall.jl: Warning: package ‘scales’ was built under R version 4.0.2\n",
      "└ @ RCall /Users/sarahji/.julia/packages/RCall/6kphM/src/io.jl:172\n",
      "┌ Warning: RCall.jl: Warning: package ‘ggplot2’ was built under R version 4.0.2\n",
      "└ @ RCall /Users/sarahji/.julia/packages/RCall/6kphM/src/io.jl:172\n",
      "┌ Warning: RCall.jl: Warning: package ‘data.table’ was built under R version 4.0.2\n",
      "└ @ RCall /Users/sarahji/.julia/packages/RCall/6kphM/src/io.jl:172\n"
     ]
    },
    {
     "data": {
      "image/png": "[encoded data removed]"
     },
     "metadata": {},
     "output_type": "display_data"
    },
    {
     "data": {
      "text/plain": [
       "RObject{VecSxp}\n"
      ]
     },
     "execution_count": 10,
     "metadata": {},
     "output_type": "execute_result"
    }
   ],
   "source": [
    "### working on figure next\n",
    "@rput msedfR\n",
    "\n",
    "R\"\"\"\n",
    "library(scales)\n",
    "library(ggplot2)\n",
    "library(data.table)\n",
    "\n",
    "msedfR = data.table(msedfR)\n",
    "\n",
    "msedfR[parameters == \"beta\",y_min := 10^-4]\n",
    "msedfR[parameters == \"beta\",y_max := 10^-2]\n",
    "msedfR[parameters == \"theta\",y_min := 10^-5]\n",
    "msedfR[parameters == \"theta\",y_max := 10^1]\n",
    "\n",
    "#msedfR[parameters == \"beta\",y_min := 10^-8]\n",
    "#msedfR[parameters == \"beta\",y_max := 10^-2]\n",
    "#msedfR[parameters == \"tau\",y_min := 10^-8]\n",
    "#msedfR[parameters == \"tau\",y_max := 10^-2]\n",
    "#msedfR[parameters == \"Sigma\",y_min := 10^-5]\n",
    "#msedfR[parameters == \"Sigma\",y_max := 10^-2]\n",
    "\n",
    "\n",
    "msedfR$obssize = factor(msedfR$obssize, levels = c('2', '5', '10', '15', '20', '25'))\n",
    "msedfR$samplesize = factor(msedfR$samplesize, levels = c('100', '1000', '10000'))\n",
    "msedfR$parameters = factor(msedfR$parameters, levels = c('beta', 'theta'), labels = c(beta = expression(hat(bold(beta))), thetaa = expression(hat(bold(theta))[])))\n",
    "msedfR$robust <- factor(msedfR$robust, levels = c('Poisson QC', 'Poisson GLMM'),\n",
    "    labels = c(expression(paste(\"Poisson QC\")), expression(paste(\"Poisson GLMM\"))))\n",
    "\n",
    "\n",
    "#mseplot <- ggplot(msedfR[msedfR$mse < 10^0, ], aes(x=samplesize, y=mse, fill=obssize)) + \n",
    "mseplot = ggplot(msedfR[msedfR$mse < 10^3, ], aes(x=samplesize, y=mse, fill=obssize)) + \n",
    "  #geom_boxplot(outlier.size = 0.0, outlier.alpha = 0) +\n",
    "  geom_boxplot(outlier.size = 0.25) +\n",
    "#    geom_violin() +\n",
    "    facet_grid(parameters ~ robust, labeller = label_parsed, scales = \"free_y\") +\n",
    "  theme(legend.position=\"right\", legend.key = element_blank(), axis.text.x = element_text(angle=0, size=30),\n",
    "        axis.text.y = element_text(angle=0, size=30), axis.title.x = element_text(size = 30, face=\"bold\"), \n",
    "        axis.title.y = element_text(size = 40, face=\"bold\"), legend.title = element_text(size = 30, face=\"bold\"),\n",
    "        panel.grid.major = element_blank(), panel.grid.minor = element_blank(),\n",
    "        legend.text=element_text(size=30), panel.background = element_rect(fill = NA, color = \"black\"),\n",
    "        #panel.background = element_blank(), #panel.border = element_blank(),\n",
    "        axis.line = element_line(color = 'black',size=0.3), plot.title = element_text(hjust = 0.5),\n",
    "        strip.background = element_rect(colour=\"black\", fill=\"white\"), strip.text.y = element_text(angle = 0, size=75, face=\"bold\"),\n",
    "        strip.text.x = element_text(size=25)) + \n",
    "  scale_fill_manual(values = c(\"#c85f55\",\n",
    "\"#a964bf\",\n",
    "\"#8db352\",\n",
    "\"#fa7300\",\n",
    "\"#05aec0\",\n",
    "\"#ff1493\")) +\n",
    "#scale_y_log10(breaks = scales::trans_breaks(\"log10\", function(x) 10^x)) +\n",
    "#scale_y_log10(breaks = 10^(-8:8), limit=c(10^-8, 10^2)) + \n",
    "scale_y_log10(breaks = 10^seq(-10, 10, 2), labels=trans_format(\"log10\", math_format(10^.x))) + #, limit=c(10^-8, 10^2)) +\n",
    "  labs(x = \"Sample Size\", y = \"MSE of Parameter Estimates\", fill = \"Cluster Size\") +\n",
    "geom_blank(aes(y = y_max)) + \n",
    "geom_blank(aes(y = y_min)) \n",
    "\n",
    "\"\"\""
   ]
  },
  {
   "cell_type": "code",
   "execution_count": 11,
   "metadata": {},
   "outputs": [
    {
     "data": {
      "text/plain": [
       "RObject{StrSxp}\n",
       "[1] \"updated_msefacetplot_poisson_sim1.png\"\n"
      ]
     },
     "execution_count": 11,
     "metadata": {},
     "output_type": "execute_result"
    }
   ],
   "source": [
    "R\"\"\"\n",
    "    ggsave('updated_msefacetplot_poisson_sim1.png', mseplot, width = 20, height = 15, units = 'in', dpi = 450)\n",
    "\"\"\""
   ]
  }
 ],
 "metadata": {
  "@webio": {
   "lastCommId": null,
   "lastKernelId": null
  },
  "kernelspec": {
   "display_name": "Julia 1.6.2",
   "language": "julia",
   "name": "julia-1.6"
  },
  "language_info": {
   "file_extension": ".jl",
   "mimetype": "application/julia",
   "name": "julia",
   "version": "1.6.2"
  }
 },
 "nbformat": 4,
 "nbformat_minor": 2
}
