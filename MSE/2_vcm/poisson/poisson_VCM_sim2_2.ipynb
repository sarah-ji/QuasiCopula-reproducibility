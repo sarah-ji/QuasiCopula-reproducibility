{
 "cells": [
  {
   "cell_type": "markdown",
   "metadata": {},
   "source": [
    "## Poisson VCM Results \n",
    "\n",
    "This notebook goes over the code needed to reproduce the results from the MSE and time figures for the Poisson base distribution with Log Link and covariance matrix $\\Gamma$ structured under variance component model framework as follows:\n",
    "\n",
    "$$\n",
    "\\Gamma = 0.05 * \\mathbf{1_{n} 1_{n}^\\top}\n",
    "$$\n",
    "\n",
    "In this example simulate three fixed effects under our the random intercept Poisson GLMM with $\\beta \\sim$ rand(Uniform(-0.2, 0.2), p) where p = 3 fixed effects.\n",
    "\n",
    "We use multi-threading on 8 threads to obtain these MSE results on the following machine, and include MSE results from 100 simulation runs comparing the fit of ours with that of the random intercept Poisson GLMM from MixedModels.jl for each scenario."
   ]
  },
  {
   "cell_type": "code",
   "execution_count": 1,
   "metadata": {},
   "outputs": [
    {
     "name": "stdout",
     "output_type": "stream",
     "text": [
      "Julia Version 1.6.2\n",
      "Commit 1b93d53fc4 (2021-07-14 15:36 UTC)\n",
      "Platform Info:\n",
      "  OS: macOS (x86_64-apple-darwin18.7.0)\n",
      "  CPU: Intel(R) Core(TM) i9-9880H CPU @ 2.30GHz\n",
      "  WORD_SIZE: 64\n",
      "  LIBM: libopenlibm\n",
      "  LLVM: libLLVM-11.0.1 (ORCJIT, skylake)\n"
     ]
    }
   ],
   "source": [
    "versioninfo()"
   ]
  },
  {
   "cell_type": "code",
   "execution_count": 2,
   "metadata": {},
   "outputs": [],
   "source": [
    "using QuasiCopula, DelimitedFiles, LinearAlgebra, Random, GLM\n",
    "using DataFrames"
   ]
  },
  {
   "cell_type": "code",
   "execution_count": 3,
   "metadata": {},
   "outputs": [],
   "source": [
    "p = 3    # number of fixed effects, including intercept\n",
    "m = 1    # number of variance components\n",
    "# true parameter values\n",
    "Random.seed!(12345)\n",
    "βtrue = rand(Uniform(-0.2, 0.2), p)\n",
    "θtrue = [0.05]\n",
    "\n",
    "# generate data\n",
    "intervals = zeros(p + m, 2) #hold intervals\n",
    "curcoverage = zeros(p + m) #hold current coverage resutls\n",
    "trueparams = [βtrue; θtrue] #hold true parameters\n",
    "\n",
    "#simulation parameters\n",
    "samplesizes = [100; 1000; 10000]\n",
    "ns = [2; 5; 10; 15; 20; 25]\n",
    "nsims = 100;"
   ]
  },
  {
   "cell_type": "code",
   "execution_count": 4,
   "metadata": {},
   "outputs": [
    {
     "name": "stderr",
     "output_type": "stream",
     "text": [
      "┌ Info: reading in the files with results\n",
      "└ @ Main In[4]:1\n"
     ]
    },
    {
     "data": {
      "text/plain": [
       "1800-element Vector{Float64}:\n",
       " 0.022131138\n",
       " 0.027386049\n",
       " 0.018445264\n",
       " 0.025071243\n",
       " 0.020375564\n",
       " 0.018281662\n",
       " 0.024804335\n",
       " 0.018628747\n",
       " 0.020537805\n",
       " 0.027026214\n",
       " 0.024106566\n",
       " 0.022465311\n",
       " 0.02918265\n",
       " ⋮\n",
       " 0.387353589\n",
       " 0.384287787\n",
       " 0.440122833\n",
       " 0.374626701\n",
       " 0.362218004\n",
       " 0.330588703\n",
       " 0.337014139\n",
       " 0.341634753\n",
       " 0.383108899\n",
       " 0.437844133\n",
       " 0.377763906\n",
       " 0.364216263"
      ]
     },
     "execution_count": 4,
     "metadata": {},
     "output_type": "execute_result"
    }
   ],
   "source": [
    "@info \"reading in the files with results\"\n",
    "βMseresult = vec(readdlm(\"mse_beta_multivariate_poisson_vcm$(nsims)reps_sim.csv\", ','))\n",
    "θMseresult = vec(readdlm(\"mse_theta_multivariate_poisson_vcm$(nsims)reps_sim.csv\", ','))\n",
    "fittimes_QC = vec(readdlm(\"fittimes_multivariate_poisson_vcm$(nsims)reps_sim.csv\", ','))"
   ]
  },
  {
   "cell_type": "code",
   "execution_count": 5,
   "metadata": {},
   "outputs": [
    {
     "data": {
      "text/plain": [
       "1800-element Vector{Float64}:\n",
       "  0.250377488\n",
       "  0.032834883\n",
       "  0.01342575\n",
       "  0.016960444\n",
       "  0.019141846\n",
       "  0.017385654\n",
       "  0.017991826\n",
       "  0.023508913\n",
       "  0.025419351\n",
       "  0.030772749\n",
       "  0.016310111\n",
       "  0.013045252\n",
       "  0.039993806\n",
       "  ⋮\n",
       " 33.56993949\n",
       " 30.232213656\n",
       " 37.048178633\n",
       " 30.161387138\n",
       " 31.281420421\n",
       " 31.394558512\n",
       " 32.406556057\n",
       " 25.989885058\n",
       " 35.815075581\n",
       " 33.870249888\n",
       " 32.496071116\n",
       " 33.45089804"
      ]
     },
     "execution_count": 5,
     "metadata": {},
     "output_type": "execute_result"
    }
   ],
   "source": [
    "fittimes_GLMM = vec(readdlm(\"fittimes_GLMM_multivariate_poisson_vcm$(nsims)reps_sim.csv\", ','))"
   ]
  },
  {
   "cell_type": "code",
   "execution_count": 6,
   "metadata": {},
   "outputs": [
    {
     "name": "stderr",
     "output_type": "stream",
     "text": [
      "┌ Info: making results table Quasi-Copula\n",
      "└ @ Main In[6]:2\n"
     ]
    },
    {
     "data": {
      "text/html": [
       "<div class=\"data-frame\"><p>18 rows × 8 columns</p><table class=\"data-frame\"><thead><tr><th></th><th>samplesize</th><th>obssize</th><th>fittime</th><th>se</th><th>nobs</th><th>fitmin</th><th>fitmax</th><th>perobsratio</th></tr><tr><th></th><th title=\"String\">String</th><th title=\"String\">String</th><th title=\"Float64\">Float64</th><th title=\"Float64\">Float64</th><th title=\"Int64\">Int64</th><th title=\"Float64\">Float64</th><th title=\"Float64\">Float64</th><th title=\"Float64\">Float64</th></tr></thead><tbody><tr><th>1</th><td>100</td><td>2</td><td>0.0226049</td><td>0.000426767</td><td>200</td><td>0.0221782</td><td>0.0234585</td><td>0.000113025</td></tr><tr><th>2</th><td>100</td><td>5</td><td>0.0208112</td><td>0.000389731</td><td>500</td><td>0.0204215</td><td>0.0215907</td><td>4.16225e-5</td></tr><tr><th>3</th><td>100</td><td>10</td><td>0.0217577</td><td>0.000309682</td><td>1000</td><td>0.0214481</td><td>0.0223771</td><td>2.17577e-5</td></tr><tr><th>4</th><td>100</td><td>15</td><td>0.0213802</td><td>0.000326567</td><td>1500</td><td>0.0210537</td><td>0.0220334</td><td>1.42535e-5</td></tr><tr><th>5</th><td>100</td><td>20</td><td>0.0225545</td><td>0.000311719</td><td>2000</td><td>0.0222427</td><td>0.0231779</td><td>1.12772e-5</td></tr><tr><th>6</th><td>100</td><td>25</td><td>0.0237611</td><td>0.000674161</td><td>2500</td><td>0.023087</td><td>0.0251094</td><td>9.50445e-6</td></tr><tr><th>7</th><td>1000</td><td>2</td><td>0.0275328</td><td>0.000454212</td><td>2000</td><td>0.0270786</td><td>0.0284412</td><td>1.37664e-5</td></tr><tr><th>8</th><td>1000</td><td>5</td><td>0.0259981</td><td>0.000231426</td><td>5000</td><td>0.0257666</td><td>0.0264609</td><td>5.19961e-6</td></tr><tr><th>9</th><td>1000</td><td>10</td><td>0.0301046</td><td>0.000220816</td><td>10000</td><td>0.0298838</td><td>0.0305462</td><td>3.01046e-6</td></tr><tr><th>10</th><td>1000</td><td>15</td><td>0.033282</td><td>0.000589904</td><td>15000</td><td>0.0326921</td><td>0.0344618</td><td>2.2188e-6</td></tr><tr><th>11</th><td>1000</td><td>20</td><td>0.035386</td><td>0.000266433</td><td>20000</td><td>0.0351195</td><td>0.0359188</td><td>1.7693e-6</td></tr><tr><th>12</th><td>1000</td><td>25</td><td>0.0425523</td><td>0.000598545</td><td>25000</td><td>0.0419538</td><td>0.0437494</td><td>1.70209e-6</td></tr><tr><th>13</th><td>10000</td><td>2</td><td>0.125798</td><td>0.00135476</td><td>20000</td><td>0.124443</td><td>0.128507</td><td>6.28988e-6</td></tr><tr><th>14</th><td>10000</td><td>5</td><td>0.153803</td><td>0.00193225</td><td>50000</td><td>0.151871</td><td>0.157668</td><td>3.07607e-6</td></tr><tr><th>15</th><td>10000</td><td>10</td><td>0.205482</td><td>0.0016197</td><td>100000</td><td>0.203862</td><td>0.208721</td><td>2.05482e-6</td></tr><tr><th>16</th><td>10000</td><td>15</td><td>0.242977</td><td>0.00193507</td><td>150000</td><td>0.241042</td><td>0.246848</td><td>1.61985e-6</td></tr><tr><th>17</th><td>10000</td><td>20</td><td>0.282051</td><td>0.00270704</td><td>200000</td><td>0.279344</td><td>0.287465</td><td>1.41026e-6</td></tr><tr><th>18</th><td>10000</td><td>25</td><td>0.364541</td><td>0.00319311</td><td>250000</td><td>0.361347</td><td>0.370927</td><td>1.45816e-6</td></tr></tbody></table></div>"
      ],
      "text/latex": [
       "\\begin{tabular}{r|cccccccc}\n",
       "\t& samplesize & obssize & fittime & se & nobs & fitmin & fitmax & perobsratio\\\\\n",
       "\t\\hline\n",
       "\t& String & String & Float64 & Float64 & Int64 & Float64 & Float64 & Float64\\\\\n",
       "\t\\hline\n",
       "\t1 & 100 & 2 & 0.0226049 & 0.000426767 & 200 & 0.0221782 & 0.0234585 & 0.000113025 \\\\\n",
       "\t2 & 100 & 5 & 0.0208112 & 0.000389731 & 500 & 0.0204215 & 0.0215907 & 4.16225e-5 \\\\\n",
       "\t3 & 100 & 10 & 0.0217577 & 0.000309682 & 1000 & 0.0214481 & 0.0223771 & 2.17577e-5 \\\\\n",
       "\t4 & 100 & 15 & 0.0213802 & 0.000326567 & 1500 & 0.0210537 & 0.0220334 & 1.42535e-5 \\\\\n",
       "\t5 & 100 & 20 & 0.0225545 & 0.000311719 & 2000 & 0.0222427 & 0.0231779 & 1.12772e-5 \\\\\n",
       "\t6 & 100 & 25 & 0.0237611 & 0.000674161 & 2500 & 0.023087 & 0.0251094 & 9.50445e-6 \\\\\n",
       "\t7 & 1000 & 2 & 0.0275328 & 0.000454212 & 2000 & 0.0270786 & 0.0284412 & 1.37664e-5 \\\\\n",
       "\t8 & 1000 & 5 & 0.0259981 & 0.000231426 & 5000 & 0.0257666 & 0.0264609 & 5.19961e-6 \\\\\n",
       "\t9 & 1000 & 10 & 0.0301046 & 0.000220816 & 10000 & 0.0298838 & 0.0305462 & 3.01046e-6 \\\\\n",
       "\t10 & 1000 & 15 & 0.033282 & 0.000589904 & 15000 & 0.0326921 & 0.0344618 & 2.2188e-6 \\\\\n",
       "\t11 & 1000 & 20 & 0.035386 & 0.000266433 & 20000 & 0.0351195 & 0.0359188 & 1.7693e-6 \\\\\n",
       "\t12 & 1000 & 25 & 0.0425523 & 0.000598545 & 25000 & 0.0419538 & 0.0437494 & 1.70209e-6 \\\\\n",
       "\t13 & 10000 & 2 & 0.125798 & 0.00135476 & 20000 & 0.124443 & 0.128507 & 6.28988e-6 \\\\\n",
       "\t14 & 10000 & 5 & 0.153803 & 0.00193225 & 50000 & 0.151871 & 0.157668 & 3.07607e-6 \\\\\n",
       "\t15 & 10000 & 10 & 0.205482 & 0.0016197 & 100000 & 0.203862 & 0.208721 & 2.05482e-6 \\\\\n",
       "\t16 & 10000 & 15 & 0.242977 & 0.00193507 & 150000 & 0.241042 & 0.246848 & 1.61985e-6 \\\\\n",
       "\t17 & 10000 & 20 & 0.282051 & 0.00270704 & 200000 & 0.279344 & 0.287465 & 1.41026e-6 \\\\\n",
       "\t18 & 10000 & 25 & 0.364541 & 0.00319311 & 250000 & 0.361347 & 0.370927 & 1.45816e-6 \\\\\n",
       "\\end{tabular}\n"
      ],
      "text/plain": [
       "\u001b[1m18×8 DataFrame\u001b[0m\n",
       "\u001b[1m Row \u001b[0m│\u001b[1m samplesize \u001b[0m\u001b[1m obssize \u001b[0m\u001b[1m fittime   \u001b[0m\u001b[1m se          \u001b[0m\u001b[1m nobs   \u001b[0m\u001b[1m fitmin    \u001b[0m\u001b[1m fitmax \u001b[0m ⋯\n",
       "\u001b[1m     \u001b[0m│\u001b[90m String     \u001b[0m\u001b[90m String  \u001b[0m\u001b[90m Float64   \u001b[0m\u001b[90m Float64     \u001b[0m\u001b[90m Int64  \u001b[0m\u001b[90m Float64   \u001b[0m\u001b[90m Float64\u001b[0m ⋯\n",
       "─────┼──────────────────────────────────────────────────────────────────────────\n",
       "   1 │ 100         2        0.0226049  0.000426767     200  0.0221782  0.02345 ⋯\n",
       "   2 │ 100         5        0.0208112  0.000389731     500  0.0204215  0.02159\n",
       "   3 │ 100         10       0.0217577  0.000309682    1000  0.0214481  0.02237\n",
       "   4 │ 100         15       0.0213802  0.000326567    1500  0.0210537  0.02203\n",
       "   5 │ 100         20       0.0225545  0.000311719    2000  0.0222427  0.02317 ⋯\n",
       "   6 │ 100         25       0.0237611  0.000674161    2500  0.023087   0.02510\n",
       "   7 │ 1000        2        0.0275328  0.000454212    2000  0.0270786  0.02844\n",
       "   8 │ 1000        5        0.0259981  0.000231426    5000  0.0257666  0.02646\n",
       "   9 │ 1000        10       0.0301046  0.000220816   10000  0.0298838  0.03054 ⋯\n",
       "  10 │ 1000        15       0.033282   0.000589904   15000  0.0326921  0.03446\n",
       "  11 │ 1000        20       0.035386   0.000266433   20000  0.0351195  0.03591\n",
       "  12 │ 1000        25       0.0425523  0.000598545   25000  0.0419538  0.04374\n",
       "  13 │ 10000       2        0.125798   0.00135476    20000  0.124443   0.12850 ⋯\n",
       "  14 │ 10000       5        0.153803   0.00193225    50000  0.151871   0.15766\n",
       "  15 │ 10000       10       0.205482   0.0016197    100000  0.203862   0.20872\n",
       "  16 │ 10000       15       0.242977   0.00193507   150000  0.241042   0.24684\n",
       "  17 │ 10000       20       0.282051   0.00270704   200000  0.279344   0.28746 ⋯\n",
       "  18 │ 10000       25       0.364541   0.00319311   250000  0.361347   0.37092\n",
       "\u001b[36m                                                               2 columns omitted\u001b[0m"
      ]
     },
     "execution_count": 6,
     "metadata": {},
     "output_type": "execute_result"
    }
   ],
   "source": [
    "#simulation parameters\n",
    "@info \"making results table Quasi-Copula\"\n",
    "sample_sizes = repeat(string.(samplesizes), inner = nsims * length(ns))\n",
    "obs_sizes = repeat(string.(ns), inner = nsims, outer = length(samplesizes))\n",
    "\n",
    "msedf = DataFrame(samplesize = sample_sizes, obssize = obs_sizes, fittimes = fittimes_QC)\n",
    "timedf1 = combine(groupby(msedf, [:samplesize, :obssize]), :fittimes => mean => :fittime,\n",
    "    :fittimes => x -> (std(x)/sqrt(length(x))))\n",
    "rename!(timedf1, Dict(:fittimes_function => \"se\"))\n",
    "timedf1[!, :nobs] = Meta.parse.(timedf1[!, :samplesize]) .* Meta.parse.(timedf1[!, :obssize])\n",
    "timedf1[!, :fitmin] = timedf1[!, :fittime] - timedf1[!, :se]\n",
    "timedf1[!, :fitmax] = timedf1[!, :fittime] + 2 * timedf1[!, :se]\n",
    "timedf1[!, :perobsratio] = timedf1[!, :fittime] ./ timedf1[!, :nobs]\n",
    "timedf1"
   ]
  },
  {
   "cell_type": "code",
   "execution_count": 7,
   "metadata": {},
   "outputs": [
    {
     "name": "stderr",
     "output_type": "stream",
     "text": [
      "┌ Info: making results table GLMM\n",
      "└ @ Main In[7]:2\n"
     ]
    },
    {
     "data": {
      "text/html": [
       "<div class=\"data-frame\"><p>18 rows × 8 columns</p><table class=\"data-frame\"><thead><tr><th></th><th>samplesize</th><th>obssize</th><th>fittime</th><th>se</th><th>nobs</th><th>fitmin</th><th>fitmax</th><th>perobsratio</th></tr><tr><th></th><th title=\"String\">String</th><th title=\"String\">String</th><th title=\"Float64\">Float64</th><th title=\"Float64\">Float64</th><th title=\"Int64\">Int64</th><th title=\"Float64\">Float64</th><th title=\"Float64\">Float64</th><th title=\"Float64\">Float64</th></tr></thead><tbody><tr><th>1</th><td>100</td><td>2</td><td>0.0276447</td><td>0.00276454</td><td>200</td><td>0.0248802</td><td>0.0304092</td><td>0.000138223</td></tr><tr><th>2</th><td>100</td><td>5</td><td>0.0556836</td><td>0.00257816</td><td>500</td><td>0.0531054</td><td>0.0582617</td><td>0.000111367</td></tr><tr><th>3</th><td>100</td><td>10</td><td>0.130091</td><td>0.00513027</td><td>1000</td><td>0.12496</td><td>0.135221</td><td>0.000130091</td></tr><tr><th>4</th><td>100</td><td>15</td><td>0.188456</td><td>0.00680894</td><td>1500</td><td>0.181648</td><td>0.195265</td><td>0.000125638</td></tr><tr><th>5</th><td>100</td><td>20</td><td>0.27</td><td>0.00934892</td><td>2000</td><td>0.260651</td><td>0.279349</td><td>0.000135</td></tr><tr><th>6</th><td>100</td><td>25</td><td>0.321411</td><td>0.00904125</td><td>2500</td><td>0.31237</td><td>0.330452</td><td>0.000128564</td></tr><tr><th>7</th><td>1000</td><td>2</td><td>0.212722</td><td>0.00561587</td><td>2000</td><td>0.207106</td><td>0.218338</td><td>0.000106361</td></tr><tr><th>8</th><td>1000</td><td>5</td><td>0.543365</td><td>0.0101037</td><td>5000</td><td>0.533262</td><td>0.553469</td><td>0.000108673</td></tr><tr><th>9</th><td>1000</td><td>10</td><td>1.10119</td><td>0.0162306</td><td>10000</td><td>1.08496</td><td>1.11743</td><td>0.000110119</td></tr><tr><th>10</th><td>1000</td><td>15</td><td>1.66336</td><td>0.0265164</td><td>15000</td><td>1.63684</td><td>1.68988</td><td>0.000110891</td></tr><tr><th>11</th><td>1000</td><td>20</td><td>2.20446</td><td>0.0344447</td><td>20000</td><td>2.17001</td><td>2.2389</td><td>0.000110223</td></tr><tr><th>12</th><td>1000</td><td>25</td><td>2.86924</td><td>0.040235</td><td>25000</td><td>2.82901</td><td>2.90948</td><td>0.00011477</td></tr><tr><th>13</th><td>10000</td><td>2</td><td>2.06552</td><td>0.0293918</td><td>20000</td><td>2.03613</td><td>2.09491</td><td>0.000103276</td></tr><tr><th>14</th><td>10000</td><td>5</td><td>5.25551</td><td>0.0699976</td><td>50000</td><td>5.18551</td><td>5.32551</td><td>0.00010511</td></tr><tr><th>15</th><td>10000</td><td>10</td><td>11.3704</td><td>0.141154</td><td>100000</td><td>11.2292</td><td>11.5115</td><td>0.000113704</td></tr><tr><th>16</th><td>10000</td><td>15</td><td>18.1557</td><td>0.283015</td><td>150000</td><td>17.8727</td><td>18.4387</td><td>0.000121038</td></tr><tr><th>17</th><td>10000</td><td>20</td><td>24.9475</td><td>0.4617</td><td>200000</td><td>24.4858</td><td>25.4092</td><td>0.000124737</td></tr><tr><th>18</th><td>10000</td><td>25</td><td>31.5307</td><td>0.467972</td><td>250000</td><td>31.0627</td><td>31.9987</td><td>0.000126123</td></tr></tbody></table></div>"
      ],
      "text/latex": [
       "\\begin{tabular}{r|cccccccc}\n",
       "\t& samplesize & obssize & fittime & se & nobs & fitmin & fitmax & perobsratio\\\\\n",
       "\t\\hline\n",
       "\t& String & String & Float64 & Float64 & Int64 & Float64 & Float64 & Float64\\\\\n",
       "\t\\hline\n",
       "\t1 & 100 & 2 & 0.0276447 & 0.00276454 & 200 & 0.0248802 & 0.0304092 & 0.000138223 \\\\\n",
       "\t2 & 100 & 5 & 0.0556836 & 0.00257816 & 500 & 0.0531054 & 0.0582617 & 0.000111367 \\\\\n",
       "\t3 & 100 & 10 & 0.130091 & 0.00513027 & 1000 & 0.12496 & 0.135221 & 0.000130091 \\\\\n",
       "\t4 & 100 & 15 & 0.188456 & 0.00680894 & 1500 & 0.181648 & 0.195265 & 0.000125638 \\\\\n",
       "\t5 & 100 & 20 & 0.27 & 0.00934892 & 2000 & 0.260651 & 0.279349 & 0.000135 \\\\\n",
       "\t6 & 100 & 25 & 0.321411 & 0.00904125 & 2500 & 0.31237 & 0.330452 & 0.000128564 \\\\\n",
       "\t7 & 1000 & 2 & 0.212722 & 0.00561587 & 2000 & 0.207106 & 0.218338 & 0.000106361 \\\\\n",
       "\t8 & 1000 & 5 & 0.543365 & 0.0101037 & 5000 & 0.533262 & 0.553469 & 0.000108673 \\\\\n",
       "\t9 & 1000 & 10 & 1.10119 & 0.0162306 & 10000 & 1.08496 & 1.11743 & 0.000110119 \\\\\n",
       "\t10 & 1000 & 15 & 1.66336 & 0.0265164 & 15000 & 1.63684 & 1.68988 & 0.000110891 \\\\\n",
       "\t11 & 1000 & 20 & 2.20446 & 0.0344447 & 20000 & 2.17001 & 2.2389 & 0.000110223 \\\\\n",
       "\t12 & 1000 & 25 & 2.86924 & 0.040235 & 25000 & 2.82901 & 2.90948 & 0.00011477 \\\\\n",
       "\t13 & 10000 & 2 & 2.06552 & 0.0293918 & 20000 & 2.03613 & 2.09491 & 0.000103276 \\\\\n",
       "\t14 & 10000 & 5 & 5.25551 & 0.0699976 & 50000 & 5.18551 & 5.32551 & 0.00010511 \\\\\n",
       "\t15 & 10000 & 10 & 11.3704 & 0.141154 & 100000 & 11.2292 & 11.5115 & 0.000113704 \\\\\n",
       "\t16 & 10000 & 15 & 18.1557 & 0.283015 & 150000 & 17.8727 & 18.4387 & 0.000121038 \\\\\n",
       "\t17 & 10000 & 20 & 24.9475 & 0.4617 & 200000 & 24.4858 & 25.4092 & 0.000124737 \\\\\n",
       "\t18 & 10000 & 25 & 31.5307 & 0.467972 & 250000 & 31.0627 & 31.9987 & 0.000126123 \\\\\n",
       "\\end{tabular}\n"
      ],
      "text/plain": [
       "\u001b[1m18×8 DataFrame\u001b[0m\n",
       "\u001b[1m Row \u001b[0m│\u001b[1m samplesize \u001b[0m\u001b[1m obssize \u001b[0m\u001b[1m fittime    \u001b[0m\u001b[1m se         \u001b[0m\u001b[1m nobs   \u001b[0m\u001b[1m fitmin     \u001b[0m\u001b[1m fitmax\u001b[0m ⋯\n",
       "\u001b[1m     \u001b[0m│\u001b[90m String     \u001b[0m\u001b[90m String  \u001b[0m\u001b[90m Float64    \u001b[0m\u001b[90m Float64    \u001b[0m\u001b[90m Int64  \u001b[0m\u001b[90m Float64    \u001b[0m\u001b[90m Float6\u001b[0m ⋯\n",
       "─────┼──────────────────────────────────────────────────────────────────────────\n",
       "   1 │ 100         2         0.0276447  0.00276454     200   0.0248802   0.030 ⋯\n",
       "   2 │ 100         5         0.0556836  0.00257816     500   0.0531054   0.058\n",
       "   3 │ 100         10        0.130091   0.00513027    1000   0.12496     0.135\n",
       "   4 │ 100         15        0.188456   0.00680894    1500   0.181648    0.195\n",
       "   5 │ 100         20        0.27       0.00934892    2000   0.260651    0.279 ⋯\n",
       "   6 │ 100         25        0.321411   0.00904125    2500   0.31237     0.330\n",
       "   7 │ 1000        2         0.212722   0.00561587    2000   0.207106    0.218\n",
       "   8 │ 1000        5         0.543365   0.0101037     5000   0.533262    0.553\n",
       "   9 │ 1000        10        1.10119    0.0162306    10000   1.08496     1.117 ⋯\n",
       "  10 │ 1000        15        1.66336    0.0265164    15000   1.63684     1.689\n",
       "  11 │ 1000        20        2.20446    0.0344447    20000   2.17001     2.238\n",
       "  12 │ 1000        25        2.86924    0.040235     25000   2.82901     2.909\n",
       "  13 │ 10000       2         2.06552    0.0293918    20000   2.03613     2.094 ⋯\n",
       "  14 │ 10000       5         5.25551    0.0699976    50000   5.18551     5.325\n",
       "  15 │ 10000       10       11.3704     0.141154    100000  11.2292     11.511\n",
       "  16 │ 10000       15       18.1557     0.283015    150000  17.8727     18.438\n",
       "  17 │ 10000       20       24.9475     0.4617      200000  24.4858     25.409 ⋯\n",
       "  18 │ 10000       25       31.5307     0.467972    250000  31.0627     31.998\n",
       "\u001b[36m                                                               2 columns omitted\u001b[0m"
      ]
     },
     "execution_count": 7,
     "metadata": {},
     "output_type": "execute_result"
    }
   ],
   "source": [
    "#simulation parameters\n",
    "@info \"making results table GLMM\"\n",
    "sample_sizes = repeat(string.(samplesizes), inner = nsims * length(ns))\n",
    "obs_sizes = repeat(string.(ns), inner = nsims, outer = length(samplesizes))\n",
    "\n",
    "msedf = DataFrame(samplesize = sample_sizes, obssize = obs_sizes, fittimes = fittimes_GLMM)\n",
    "timedf2 = combine(groupby(msedf, [:samplesize, :obssize]), :fittimes => mean => :fittime,\n",
    "    :fittimes => x -> (std(x)/sqrt(length(x))))\n",
    "rename!(timedf2, Dict(:fittimes_function => \"se\"))\n",
    "timedf2[!, :nobs] = Meta.parse.(timedf2[!, :samplesize]) .* Meta.parse.(timedf2[!, :obssize])\n",
    "timedf2[!, :fitmin] = timedf2[!, :fittime] - timedf2[!, :se]\n",
    "timedf2[!, :fitmax] = timedf2[!, :fittime] + timedf2[!, :se]\n",
    "timedf2[!, :perobsratio] = timedf2[!, :fittime] ./ timedf2[!, :nobs]\n",
    "timedf2"
   ]
  },
  {
   "cell_type": "code",
   "execution_count": 8,
   "metadata": {},
   "outputs": [
    {
     "data": {
      "text/html": [
       "<div class=\"data-frame\"><p>18 rows × 5 columns</p><table class=\"data-frame\"><thead><tr><th></th><th>people_obs</th><th>β1</th><th>β2</th><th>β3</th><th>θ1</th></tr><tr><th></th><th title=\"String\">String</th><th title=\"Tuple{Float64, Float64}\">Tuple…</th><th title=\"Tuple{Float64, Float64}\">Tuple…</th><th title=\"Tuple{Float64, Float64}\">Tuple…</th><th title=\"Tuple{Float64, Float64}\">Tuple…</th></tr></thead><tbody><tr><th>1</th><td>N: 100  ni: 2</td><td>(0.8, 0.0402015)</td><td>(0.82, 0.0386123)</td><td>(0.82, 0.0386123)</td><td>(0.97, 0.0171447)</td></tr><tr><th>2</th><td>N: 100  ni: 5</td><td>(0.7, 0.0460566)</td><td>(0.77, 0.0422953)</td><td>(0.7, 0.0460566)</td><td>(0.79, 0.040936)</td></tr><tr><th>3</th><td>N: 100  ni: 10</td><td>(0.89, 0.0314466)</td><td>(0.8, 0.0402015)</td><td>(0.9, 0.0301511)</td><td>(0.84, 0.0368453)</td></tr><tr><th>4</th><td>N: 100  ni: 15</td><td>(0.84, 0.0368453)</td><td>(0.79, 0.040936)</td><td>(0.85, 0.035887)</td><td>(0.93, 0.0256432)</td></tr><tr><th>5</th><td>N: 100  ni: 20</td><td>(0.77, 0.0422953)</td><td>(0.82, 0.0386123)</td><td>(0.83, 0.0377525)</td><td>(0.9, 0.0301511)</td></tr><tr><th>6</th><td>N: 100  ni: 25</td><td>(0.73, 0.0446196)</td><td>(0.91, 0.0287623)</td><td>(0.89, 0.0314466)</td><td>(0.98, 0.0140705)</td></tr><tr><th>7</th><td>N: 1000  ni: 2</td><td>(0.83, 0.0377525)</td><td>(0.78, 0.0416333)</td><td>(0.83, 0.0377525)</td><td>(0.9, 0.0301511)</td></tr><tr><th>8</th><td>N: 1000  ni: 5</td><td>(0.88, 0.0326599)</td><td>(0.78, 0.0416333)</td><td>(0.88, 0.0326599)</td><td>(0.83, 0.0377525)</td></tr><tr><th>9</th><td>N: 1000  ni: 10</td><td>(0.88, 0.0326599)</td><td>(0.82, 0.0386123)</td><td>(0.93, 0.0256432)</td><td>(0.83, 0.0377525)</td></tr><tr><th>10</th><td>N: 1000  ni: 15</td><td>(0.71, 0.0456048)</td><td>(0.91, 0.0287623)</td><td>(0.94, 0.0238683)</td><td>(0.72, 0.0451261)</td></tr><tr><th>11</th><td>N: 1000  ni: 20</td><td>(0.52, 0.0502117)</td><td>(0.92, 0.027266)</td><td>(0.96, 0.0196946)</td><td>(0.66, 0.0476095)</td></tr><tr><th>12</th><td>N: 1000  ni: 25</td><td>(0.39, 0.0490207)</td><td>(0.88, 0.0326599)</td><td>(0.95, 0.0219043)</td><td>(0.62, 0.0487832)</td></tr><tr><th>13</th><td>N: 10000  ni: 2</td><td>(0.81, 0.0394277)</td><td>(0.63, 0.0485237)</td><td>(0.72, 0.0451261)</td><td>(0.84, 0.0368453)</td></tr><tr><th>14</th><td>N: 10000  ni: 5</td><td>(0.91, 0.0287623)</td><td>(0.77, 0.0422953)</td><td>(0.94, 0.0238683)</td><td>(0.61, 0.0490207)</td></tr><tr><th>15</th><td>N: 10000  ni: 10</td><td>(0.51, 0.0502418)</td><td>(0.81, 0.0394277)</td><td>(0.91, 0.0287623)</td><td>(0.12, 0.0326599)</td></tr><tr><th>16</th><td>N: 10000  ni: 15</td><td>(0.08, 0.027266)</td><td>(0.82, 0.0386123)</td><td>(0.95, 0.0219043)</td><td>(0.02, 0.0140705)</td></tr><tr><th>17</th><td>N: 10000  ni: 20</td><td>(0.0, 0.0)</td><td>(0.81, 0.0394277)</td><td>(0.92, 0.027266)</td><td>(0.0, 0.0)</td></tr><tr><th>18</th><td>N: 10000  ni: 25</td><td>(0.0, 0.0)</td><td>(0.86, 0.0348735)</td><td>(0.99, 0.01)</td><td>(0.0, 0.0)</td></tr></tbody></table></div>"
      ],
      "text/latex": [
       "\\begin{tabular}{r|ccccc}\n",
       "\t& people\\_obs & β1 & β2 & β3 & θ1\\\\\n",
       "\t\\hline\n",
       "\t& String & Tuple… & Tuple… & Tuple… & Tuple…\\\\\n",
       "\t\\hline\n",
       "\t1 & N: 100  ni: 2 & (0.8, 0.0402015) & (0.82, 0.0386123) & (0.82, 0.0386123) & (0.97, 0.0171447) \\\\\n",
       "\t2 & N: 100  ni: 5 & (0.7, 0.0460566) & (0.77, 0.0422953) & (0.7, 0.0460566) & (0.79, 0.040936) \\\\\n",
       "\t3 & N: 100  ni: 10 & (0.89, 0.0314466) & (0.8, 0.0402015) & (0.9, 0.0301511) & (0.84, 0.0368453) \\\\\n",
       "\t4 & N: 100  ni: 15 & (0.84, 0.0368453) & (0.79, 0.040936) & (0.85, 0.035887) & (0.93, 0.0256432) \\\\\n",
       "\t5 & N: 100  ni: 20 & (0.77, 0.0422953) & (0.82, 0.0386123) & (0.83, 0.0377525) & (0.9, 0.0301511) \\\\\n",
       "\t6 & N: 100  ni: 25 & (0.73, 0.0446196) & (0.91, 0.0287623) & (0.89, 0.0314466) & (0.98, 0.0140705) \\\\\n",
       "\t7 & N: 1000  ni: 2 & (0.83, 0.0377525) & (0.78, 0.0416333) & (0.83, 0.0377525) & (0.9, 0.0301511) \\\\\n",
       "\t8 & N: 1000  ni: 5 & (0.88, 0.0326599) & (0.78, 0.0416333) & (0.88, 0.0326599) & (0.83, 0.0377525) \\\\\n",
       "\t9 & N: 1000  ni: 10 & (0.88, 0.0326599) & (0.82, 0.0386123) & (0.93, 0.0256432) & (0.83, 0.0377525) \\\\\n",
       "\t10 & N: 1000  ni: 15 & (0.71, 0.0456048) & (0.91, 0.0287623) & (0.94, 0.0238683) & (0.72, 0.0451261) \\\\\n",
       "\t11 & N: 1000  ni: 20 & (0.52, 0.0502117) & (0.92, 0.027266) & (0.96, 0.0196946) & (0.66, 0.0476095) \\\\\n",
       "\t12 & N: 1000  ni: 25 & (0.39, 0.0490207) & (0.88, 0.0326599) & (0.95, 0.0219043) & (0.62, 0.0487832) \\\\\n",
       "\t13 & N: 10000  ni: 2 & (0.81, 0.0394277) & (0.63, 0.0485237) & (0.72, 0.0451261) & (0.84, 0.0368453) \\\\\n",
       "\t14 & N: 10000  ni: 5 & (0.91, 0.0287623) & (0.77, 0.0422953) & (0.94, 0.0238683) & (0.61, 0.0490207) \\\\\n",
       "\t15 & N: 10000  ni: 10 & (0.51, 0.0502418) & (0.81, 0.0394277) & (0.91, 0.0287623) & (0.12, 0.0326599) \\\\\n",
       "\t16 & N: 10000  ni: 15 & (0.08, 0.027266) & (0.82, 0.0386123) & (0.95, 0.0219043) & (0.02, 0.0140705) \\\\\n",
       "\t17 & N: 10000  ni: 20 & (0.0, 0.0) & (0.81, 0.0394277) & (0.92, 0.027266) & (0.0, 0.0) \\\\\n",
       "\t18 & N: 10000  ni: 25 & (0.0, 0.0) & (0.86, 0.0348735) & (0.99, 0.01) & (0.0, 0.0) \\\\\n",
       "\\end{tabular}\n"
      ],
      "text/plain": [
       "\u001b[1m18×5 DataFrame\u001b[0m\n",
       "\u001b[1m Row \u001b[0m│\u001b[1m people_obs       \u001b[0m\u001b[1m β1                \u001b[0m\u001b[1m β2                \u001b[0m\u001b[1m β3             \u001b[0m ⋯\n",
       "\u001b[1m     \u001b[0m│\u001b[90m String           \u001b[0m\u001b[90m Tuple…            \u001b[0m\u001b[90m Tuple…            \u001b[0m\u001b[90m Tuple…         \u001b[0m ⋯\n",
       "─────┼──────────────────────────────────────────────────────────────────────────\n",
       "   1 │ N: 100  ni: 2     (0.8, 0.0402015)   (0.82, 0.0386123)  (0.82, 0.038612 ⋯\n",
       "   2 │ N: 100  ni: 5     (0.7, 0.0460566)   (0.77, 0.0422953)  (0.7, 0.0460566\n",
       "   3 │ N: 100  ni: 10    (0.89, 0.0314466)  (0.8, 0.0402015)   (0.9, 0.0301511\n",
       "   4 │ N: 100  ni: 15    (0.84, 0.0368453)  (0.79, 0.040936)   (0.85, 0.035887\n",
       "   5 │ N: 100  ni: 20    (0.77, 0.0422953)  (0.82, 0.0386123)  (0.83, 0.037752 ⋯\n",
       "   6 │ N: 100  ni: 25    (0.73, 0.0446196)  (0.91, 0.0287623)  (0.89, 0.031446\n",
       "   7 │ N: 1000  ni: 2    (0.83, 0.0377525)  (0.78, 0.0416333)  (0.83, 0.037752\n",
       "   8 │ N: 1000  ni: 5    (0.88, 0.0326599)  (0.78, 0.0416333)  (0.88, 0.032659\n",
       "   9 │ N: 1000  ni: 10   (0.88, 0.0326599)  (0.82, 0.0386123)  (0.93, 0.025643 ⋯\n",
       "  10 │ N: 1000  ni: 15   (0.71, 0.0456048)  (0.91, 0.0287623)  (0.94, 0.023868\n",
       "  11 │ N: 1000  ni: 20   (0.52, 0.0502117)  (0.92, 0.027266)   (0.96, 0.019694\n",
       "  12 │ N: 1000  ni: 25   (0.39, 0.0490207)  (0.88, 0.0326599)  (0.95, 0.021904\n",
       "  13 │ N: 10000  ni: 2   (0.81, 0.0394277)  (0.63, 0.0485237)  (0.72, 0.045126 ⋯\n",
       "  14 │ N: 10000  ni: 5   (0.91, 0.0287623)  (0.77, 0.0422953)  (0.94, 0.023868\n",
       "  15 │ N: 10000  ni: 10  (0.51, 0.0502418)  (0.81, 0.0394277)  (0.91, 0.028762\n",
       "  16 │ N: 10000  ni: 15  (0.08, 0.027266)   (0.82, 0.0386123)  (0.95, 0.021904\n",
       "  17 │ N: 10000  ni: 20  (0.0, 0.0)         (0.81, 0.0394277)  (0.92, 0.027266 ⋯\n",
       "  18 │ N: 10000  ni: 25  (0.0, 0.0)         (0.86, 0.0348735)  (0.99, 0.01)\n",
       "\u001b[36m                                                               2 columns omitted\u001b[0m"
      ]
     },
     "execution_count": 8,
     "metadata": {},
     "output_type": "execute_result"
    }
   ],
   "source": [
    "######  supplementary table s1\n",
    "using Random, DataFrames, DelimitedFiles, Statistics\n",
    "import StatsBase: sem\n",
    "\n",
    "βθcoverage = readdlm(\"beta_theta_coverage_multivariate_poisson_vcm$(nsims)reps_sim.csv\", ',')\n",
    "\n",
    "m  = 1\n",
    "\n",
    "covdf = DataFrame(Matrix(transpose(βθcoverage)), :auto)\n",
    "rename!(covdf, Symbol.([[\"β$i\" for i in 1:p]; [\"θ$i\" for i in 1:m]]))\n",
    "covdf[!, :samplesize] = sample_sizes\n",
    "covdf[!, :obssize] = obs_sizes\n",
    "first(covdf, 10)\n",
    "\n",
    "row_stats = [[(mean(col), sem(col)) for col = eachcol(d[!, 1:end-2])] for d = groupby(covdf, [:samplesize; :obssize])]\n",
    "df = DataFrame(row_stats, :auto)\n",
    "ss_obs = unique(\"N: \" .* sample_sizes .* \"  ni: \" .* obs_sizes)\n",
    "rename!(df, Symbol.(ss_obs))\n",
    "covdfdisplay = DataFrame([[names(df)]; collect.(eachrow(df))], \n",
    "    [:people_obs; Symbol.([[\"β$i\" for i in 1:p]; [\"θ$i\" for i in 1:m]])])\n",
    "covdfdisplay\n"
   ]
  },
  {
   "cell_type": "code",
   "execution_count": 9,
   "metadata": {},
   "outputs": [
    {
     "data": {
      "text/html": [
       "<div class=\"data-frame\"><p>7,200 rows × 5 columns</p><table class=\"data-frame\"><thead><tr><th></th><th>mse</th><th>obssize</th><th>samplesize</th><th>parameters</th><th>robust</th></tr><tr><th></th><th title=\"Float64\">Float64</th><th title=\"String\">String</th><th title=\"String\">String</th><th title=\"String\">String</th><th title=\"String\">String</th></tr></thead><tbody><tr><th>1</th><td>0.00937345</td><td>2</td><td>100</td><td>beta</td><td>Poisson QC</td></tr><tr><th>2</th><td>0.00411843</td><td>2</td><td>100</td><td>beta</td><td>Poisson QC</td></tr><tr><th>3</th><td>0.00185542</td><td>2</td><td>100</td><td>beta</td><td>Poisson QC</td></tr><tr><th>4</th><td>0.00169079</td><td>2</td><td>100</td><td>beta</td><td>Poisson QC</td></tr><tr><th>5</th><td>0.00541803</td><td>2</td><td>100</td><td>beta</td><td>Poisson QC</td></tr><tr><th>6</th><td>0.00878754</td><td>2</td><td>100</td><td>beta</td><td>Poisson QC</td></tr><tr><th>7</th><td>0.000424648</td><td>2</td><td>100</td><td>beta</td><td>Poisson QC</td></tr><tr><th>8</th><td>0.00833432</td><td>2</td><td>100</td><td>beta</td><td>Poisson QC</td></tr><tr><th>9</th><td>0.00611009</td><td>2</td><td>100</td><td>beta</td><td>Poisson QC</td></tr><tr><th>10</th><td>0.00620673</td><td>2</td><td>100</td><td>beta</td><td>Poisson QC</td></tr><tr><th>11</th><td>0.00613094</td><td>2</td><td>100</td><td>beta</td><td>Poisson QC</td></tr><tr><th>12</th><td>0.00163105</td><td>2</td><td>100</td><td>beta</td><td>Poisson QC</td></tr><tr><th>13</th><td>0.00241009</td><td>2</td><td>100</td><td>beta</td><td>Poisson QC</td></tr><tr><th>14</th><td>0.00661782</td><td>2</td><td>100</td><td>beta</td><td>Poisson QC</td></tr><tr><th>15</th><td>0.00150175</td><td>2</td><td>100</td><td>beta</td><td>Poisson QC</td></tr><tr><th>16</th><td>0.00195863</td><td>2</td><td>100</td><td>beta</td><td>Poisson QC</td></tr><tr><th>17</th><td>0.000911492</td><td>2</td><td>100</td><td>beta</td><td>Poisson QC</td></tr><tr><th>18</th><td>0.00239481</td><td>2</td><td>100</td><td>beta</td><td>Poisson QC</td></tr><tr><th>19</th><td>0.00968265</td><td>2</td><td>100</td><td>beta</td><td>Poisson QC</td></tr><tr><th>20</th><td>0.00222498</td><td>2</td><td>100</td><td>beta</td><td>Poisson QC</td></tr><tr><th>21</th><td>0.018923</td><td>2</td><td>100</td><td>beta</td><td>Poisson QC</td></tr><tr><th>22</th><td>0.00310451</td><td>2</td><td>100</td><td>beta</td><td>Poisson QC</td></tr><tr><th>23</th><td>0.0124878</td><td>2</td><td>100</td><td>beta</td><td>Poisson QC</td></tr><tr><th>24</th><td>0.00154166</td><td>2</td><td>100</td><td>beta</td><td>Poisson QC</td></tr><tr><th>25</th><td>0.00846654</td><td>2</td><td>100</td><td>beta</td><td>Poisson QC</td></tr><tr><th>26</th><td>0.00280625</td><td>2</td><td>100</td><td>beta</td><td>Poisson QC</td></tr><tr><th>27</th><td>0.000789097</td><td>2</td><td>100</td><td>beta</td><td>Poisson QC</td></tr><tr><th>28</th><td>0.00769291</td><td>2</td><td>100</td><td>beta</td><td>Poisson QC</td></tr><tr><th>29</th><td>0.00837097</td><td>2</td><td>100</td><td>beta</td><td>Poisson QC</td></tr><tr><th>30</th><td>0.00252906</td><td>2</td><td>100</td><td>beta</td><td>Poisson QC</td></tr><tr><th>&vellip;</th><td>&vellip;</td><td>&vellip;</td><td>&vellip;</td><td>&vellip;</td><td>&vellip;</td></tr></tbody></table></div>"
      ],
      "text/latex": [
       "\\begin{tabular}{r|ccccc}\n",
       "\t& mse & obssize & samplesize & parameters & robust\\\\\n",
       "\t\\hline\n",
       "\t& Float64 & String & String & String & String\\\\\n",
       "\t\\hline\n",
       "\t1 & 0.00937345 & 2 & 100 & beta & Poisson QC \\\\\n",
       "\t2 & 0.00411843 & 2 & 100 & beta & Poisson QC \\\\\n",
       "\t3 & 0.00185542 & 2 & 100 & beta & Poisson QC \\\\\n",
       "\t4 & 0.00169079 & 2 & 100 & beta & Poisson QC \\\\\n",
       "\t5 & 0.00541803 & 2 & 100 & beta & Poisson QC \\\\\n",
       "\t6 & 0.00878754 & 2 & 100 & beta & Poisson QC \\\\\n",
       "\t7 & 0.000424648 & 2 & 100 & beta & Poisson QC \\\\\n",
       "\t8 & 0.00833432 & 2 & 100 & beta & Poisson QC \\\\\n",
       "\t9 & 0.00611009 & 2 & 100 & beta & Poisson QC \\\\\n",
       "\t10 & 0.00620673 & 2 & 100 & beta & Poisson QC \\\\\n",
       "\t11 & 0.00613094 & 2 & 100 & beta & Poisson QC \\\\\n",
       "\t12 & 0.00163105 & 2 & 100 & beta & Poisson QC \\\\\n",
       "\t13 & 0.00241009 & 2 & 100 & beta & Poisson QC \\\\\n",
       "\t14 & 0.00661782 & 2 & 100 & beta & Poisson QC \\\\\n",
       "\t15 & 0.00150175 & 2 & 100 & beta & Poisson QC \\\\\n",
       "\t16 & 0.00195863 & 2 & 100 & beta & Poisson QC \\\\\n",
       "\t17 & 0.000911492 & 2 & 100 & beta & Poisson QC \\\\\n",
       "\t18 & 0.00239481 & 2 & 100 & beta & Poisson QC \\\\\n",
       "\t19 & 0.00968265 & 2 & 100 & beta & Poisson QC \\\\\n",
       "\t20 & 0.00222498 & 2 & 100 & beta & Poisson QC \\\\\n",
       "\t21 & 0.018923 & 2 & 100 & beta & Poisson QC \\\\\n",
       "\t22 & 0.00310451 & 2 & 100 & beta & Poisson QC \\\\\n",
       "\t23 & 0.0124878 & 2 & 100 & beta & Poisson QC \\\\\n",
       "\t24 & 0.00154166 & 2 & 100 & beta & Poisson QC \\\\\n",
       "\t25 & 0.00846654 & 2 & 100 & beta & Poisson QC \\\\\n",
       "\t26 & 0.00280625 & 2 & 100 & beta & Poisson QC \\\\\n",
       "\t27 & 0.000789097 & 2 & 100 & beta & Poisson QC \\\\\n",
       "\t28 & 0.00769291 & 2 & 100 & beta & Poisson QC \\\\\n",
       "\t29 & 0.00837097 & 2 & 100 & beta & Poisson QC \\\\\n",
       "\t30 & 0.00252906 & 2 & 100 & beta & Poisson QC \\\\\n",
       "\t$\\dots$ & $\\dots$ & $\\dots$ & $\\dots$ & $\\dots$ & $\\dots$ \\\\\n",
       "\\end{tabular}\n"
      ],
      "text/plain": [
       "\u001b[1m7200×5 DataFrame\u001b[0m\n",
       "\u001b[1m  Row \u001b[0m│\u001b[1m mse         \u001b[0m\u001b[1m obssize \u001b[0m\u001b[1m samplesize \u001b[0m\u001b[1m parameters \u001b[0m\u001b[1m robust       \u001b[0m\n",
       "\u001b[1m      \u001b[0m│\u001b[90m Float64     \u001b[0m\u001b[90m String  \u001b[0m\u001b[90m String     \u001b[0m\u001b[90m String     \u001b[0m\u001b[90m String       \u001b[0m\n",
       "──────┼────────────────────────────────────────────────────────────\n",
       "    1 │ 0.00937345   2        100         beta        Poisson QC\n",
       "    2 │ 0.00411843   2        100         beta        Poisson QC\n",
       "    3 │ 0.00185542   2        100         beta        Poisson QC\n",
       "    4 │ 0.00169079   2        100         beta        Poisson QC\n",
       "    5 │ 0.00541803   2        100         beta        Poisson QC\n",
       "    6 │ 0.00878754   2        100         beta        Poisson QC\n",
       "    7 │ 0.000424648  2        100         beta        Poisson QC\n",
       "    8 │ 0.00833432   2        100         beta        Poisson QC\n",
       "    9 │ 0.00611009   2        100         beta        Poisson QC\n",
       "   10 │ 0.00620673   2        100         beta        Poisson QC\n",
       "   11 │ 0.00613094   2        100         beta        Poisson QC\n",
       "  ⋮   │      ⋮          ⋮         ⋮           ⋮            ⋮\n",
       " 7191 │ 1.24419e-10  25       10000       theta       Poisson GLMM\n",
       " 7192 │ 1.86199e-6   25       10000       theta       Poisson GLMM\n",
       " 7193 │ 1.59144e-8   25       10000       theta       Poisson GLMM\n",
       " 7194 │ 4.02126e-6   25       10000       theta       Poisson GLMM\n",
       " 7195 │ 3.35196e-7   25       10000       theta       Poisson GLMM\n",
       " 7196 │ 4.13133e-7   25       10000       theta       Poisson GLMM\n",
       " 7197 │ 5.19338e-7   25       10000       theta       Poisson GLMM\n",
       " 7198 │ 4.75522e-6   25       10000       theta       Poisson GLMM\n",
       " 7199 │ 1.23938e-9   25       10000       theta       Poisson GLMM\n",
       " 7200 │ 1.11243e-8   25       10000       theta       Poisson GLMM\n",
       "\u001b[36m                                                  7179 rows omitted\u001b[0m"
      ]
     },
     "execution_count": 9,
     "metadata": {},
     "output_type": "execute_result"
    }
   ],
   "source": [
    "#### \n",
    "#import data and reorganize to create figure\n",
    "using Random, DataFrames, DelimitedFiles, Statistics, RCall, Printf\n",
    "import StatsBase: sem\n",
    "\n",
    "βMseresult = vec(readdlm(\"mse_beta_multivariate_poisson_vcm$(nsims)reps_sim.csv\", ','))\n",
    "θMseresult = vec(readdlm(\"mse_theta_multivariate_poisson_vcm$(nsims)reps_sim.csv\", ','))\n",
    "\n",
    "βMseresult_GLMM = vec(readdlm(\"mse_beta_GLMM_multivariate_poisson_vcm$(nsims)reps_sim.csv\", ','))\n",
    "θMseresult_GLMM = vec(readdlm(\"mse_theta_GLMM_multivariate_poisson_vcm$(nsims)reps_sim.csv\", ','))\n",
    "\n",
    "\n",
    "p = 3; m = 1\n",
    "sample_sizes = repeat(string.(samplesizes), inner = nsims * length(ns))\n",
    "obs_sizes = repeat(string.(ns), inner = nsims, outer = length(samplesizes))\n",
    "msedf1 = DataFrame(βmse = βMseresult, thetamse = θMseresult, \n",
    "    samplesize = sample_sizes, obssize = obs_sizes)\n",
    "\n",
    "msedf2 = DataFrame(βmse = βMseresult_GLMM, thetamse = θMseresult_GLMM, \n",
    "    samplesize = sample_sizes, obssize = obs_sizes)\n",
    "\n",
    "#rename to make parsing easier for R.\n",
    "\n",
    "msedf1 = deepcopy(msedf1)\n",
    "rename!(msedf1, [\"betamse\"\n",
    "    \"thetamse\"\n",
    "    \"samplesize\"\n",
    " \"obssize\"]);\n",
    "\n",
    "msedf2 = deepcopy(msedf2)\n",
    "rename!(msedf2, [\"betamse\"\n",
    "    \"thetamse\"\n",
    "    \"samplesize\"\n",
    " \"obssize\"]);\n",
    "\n",
    "mses = [msedf1[!, :betamse]; msedf1[!, :thetamse]; msedf2[!, :betamse]; msedf2[!, :thetamse]]\n",
    "    # msedfnormR[!, :betamse]; msedfnormR[!, :taumse]; msedfnormR[!, :Sigmamse]]\n",
    "obssize = [collect([repeat(msedf1[!, :obssize], 2)]...) ; collect([repeat(msedf2[!, :obssize], 2)]...)]\n",
    "#40\n",
    "samplesize = [collect([repeat(msedf1[!, :samplesize], 2)]...) ; collect([repeat(msedf2[!, :samplesize], 2)]...)]\n",
    "\n",
    "parameters = [collect([repeat(string.([:beta, :theta]), inner = nsims * length(ns) * length(samplesizes))]...) ; collect([repeat(string.([:beta, :theta]), inner = nsims * length(ns) * length(samplesizes))]...)]\n",
    "robust = [collect([repeat([\"Poisson QC\"], 2 * nsims * length(ns) * length(samplesizes))]...); collect([repeat([\"Poisson GLMM\"],  2 * nsims * length(ns) * length(samplesizes))]...)]\n",
    "\n",
    "msedfR = DataFrame(mse = mses, obssize = obssize, samplesize = samplesize,\n",
    "    parameters = parameters, robust = robust)\n",
    "\n",
    "#5 of the 30,000 simulations did not converge, filter out\n",
    "msedfR = filter(x -> !isnan(x.mse), msedfR)\n",
    "# additionally, there are 5 where an error was not caught so it did not try a differnt solver\n",
    "msedfR = filter(x -> x.mse < 40000, msedfR)"
   ]
  },
  {
   "cell_type": "code",
   "execution_count": 10,
   "metadata": {},
   "outputs": [
    {
     "name": "stderr",
     "output_type": "stream",
     "text": [
      "┌ Warning: RCall.jl: Warning: package ‘scales’ was built under R version 4.0.2\n",
      "└ @ RCall /Users/sarahji/.julia/packages/RCall/6kphM/src/io.jl:172\n",
      "┌ Warning: RCall.jl: Warning: package ‘ggplot2’ was built under R version 4.0.2\n",
      "└ @ RCall /Users/sarahji/.julia/packages/RCall/6kphM/src/io.jl:172\n",
      "┌ Warning: RCall.jl: Warning: package ‘data.table’ was built under R version 4.0.2\n",
      "└ @ RCall /Users/sarahji/.julia/packages/RCall/6kphM/src/io.jl:172\n"
     ]
    },
    {
     "data": {
      "image/png": "[encoded data removed]"
     },
     "metadata": {},
     "output_type": "display_data"
    },
    {
     "data": {
      "text/plain": [
       "RObject{VecSxp}\n"
      ]
     },
     "execution_count": 10,
     "metadata": {},
     "output_type": "execute_result"
    }
   ],
   "source": [
    "### working on figure next\n",
    "@rput msedfR\n",
    "\n",
    "R\"\"\"\n",
    "library(scales)\n",
    "library(ggplot2)\n",
    "library(data.table)\n",
    "\n",
    "msedfR = data.table(msedfR)\n",
    "\n",
    "msedfR[parameters == \"beta\",y_min := 10^-4]\n",
    "msedfR[parameters == \"beta\",y_max := 10^-2]\n",
    "msedfR[parameters == \"theta\",y_min := 10^-5]\n",
    "msedfR[parameters == \"theta\",y_max := 10^1]\n",
    "\n",
    "#msedfR[parameters == \"beta\",y_min := 10^-8]\n",
    "#msedfR[parameters == \"beta\",y_max := 10^-2]\n",
    "#msedfR[parameters == \"tau\",y_min := 10^-8]\n",
    "#msedfR[parameters == \"tau\",y_max := 10^-2]\n",
    "#msedfR[parameters == \"Sigma\",y_min := 10^-5]\n",
    "#msedfR[parameters == \"Sigma\",y_max := 10^-2]\n",
    "\n",
    "\n",
    "msedfR$obssize = factor(msedfR$obssize, levels = c('2', '5', '10', '15', '20', '25'))\n",
    "msedfR$samplesize = factor(msedfR$samplesize, levels = c('100', '1000', '10000'))\n",
    "msedfR$parameters = factor(msedfR$parameters, levels = c('beta', 'theta'), labels = c(beta = expression(hat(bold(beta))), thetaa = expression(hat(bold(theta))[])))\n",
    "msedfR$robust <- factor(msedfR$robust, levels = c('Poisson QC', 'Poisson GLMM'),\n",
    "    labels = c(expression(paste(\"Poisson QC\")), expression(paste(\"Poisson GLMM\"))))\n",
    "\n",
    "\n",
    "#mseplot <- ggplot(msedfR[msedfR$mse < 10^0, ], aes(x=samplesize, y=mse, fill=obssize)) + \n",
    "mseplot = ggplot(msedfR[msedfR$mse < 10^3, ], aes(x=samplesize, y=mse, fill=obssize)) + \n",
    "  #geom_boxplot(outlier.size = 0.0, outlier.alpha = 0) +\n",
    "  geom_boxplot(outlier.size = 0.25) +\n",
    "#    geom_violin() +\n",
    "    facet_grid(parameters ~ robust, labeller = label_parsed, scales = \"free_y\") +\n",
    "  theme(legend.position=\"right\", legend.key = element_blank(), axis.text.x = element_text(angle=0, size=30),\n",
    "        axis.text.y = element_text(angle=0, size=30), axis.title.x = element_text(size = 30, face=\"bold\"), \n",
    "        axis.title.y = element_text(size = 40, face=\"bold\"), legend.title = element_text(size = 30, face=\"bold\"),\n",
    "        panel.grid.major = element_blank(), panel.grid.minor = element_blank(),\n",
    "        legend.text=element_text(size=30), panel.background = element_rect(fill = NA, color = \"black\"),\n",
    "        #panel.background = element_blank(), #panel.border = element_blank(),\n",
    "        axis.line = element_line(color = 'black',size=0.3), plot.title = element_text(hjust = 0.5),\n",
    "        strip.background = element_rect(colour=\"black\", fill=\"white\"), strip.text.y = element_text(angle = 0, size=75, face=\"bold\"),\n",
    "        strip.text.x = element_text(size=25)) + \n",
    "  scale_fill_manual(values = c(\"#c85f55\",\n",
    "\"#a964bf\",\n",
    "\"#8db352\",\n",
    "\"#fa7300\",\n",
    "\"#05aec0\",\n",
    "\"#ff1493\")) +\n",
    "#scale_y_log10(breaks = scales::trans_breaks(\"log10\", function(x) 10^x)) +\n",
    "#scale_y_log10(breaks = 10^(-8:8), limit=c(10^-8, 10^2)) + \n",
    "scale_y_log10(breaks = 10^seq(-10, 10, 2), labels=trans_format(\"log10\", math_format(10^.x))) + #, limit=c(10^-8, 10^2)) +\n",
    "  labs(x = \"Sample Size\", y = \"MSE of Parameter Estimates\", fill = \"Cluster Size\") +\n",
    "geom_blank(aes(y = y_max)) + \n",
    "geom_blank(aes(y = y_min)) \n",
    "\n",
    "\"\"\""
   ]
  },
  {
   "cell_type": "code",
   "execution_count": 11,
   "metadata": {},
   "outputs": [
    {
     "data": {
      "text/plain": [
       "RObject{StrSxp}\n",
       "[1] \"updated_msefacetplot_poisson_sim2_2.png\"\n"
      ]
     },
     "execution_count": 11,
     "metadata": {},
     "output_type": "execute_result"
    }
   ],
   "source": [
    "R\"\"\"\n",
    "    ggsave('updated_msefacetplot_poisson_sim2_2.png', mseplot, width = 20, height = 15, units = 'in', dpi = 450)\n",
    "\"\"\""
   ]
  }
 ],
 "metadata": {
  "@webio": {
   "lastCommId": null,
   "lastKernelId": null
  },
  "kernelspec": {
   "display_name": "Julia 1.6.2",
   "language": "julia",
   "name": "julia-1.6"
  },
  "language_info": {
   "file_extension": ".jl",
   "mimetype": "application/julia",
   "name": "julia",
   "version": "1.6.2"
  }
 },
 "nbformat": 4,
 "nbformat_minor": 2
}
