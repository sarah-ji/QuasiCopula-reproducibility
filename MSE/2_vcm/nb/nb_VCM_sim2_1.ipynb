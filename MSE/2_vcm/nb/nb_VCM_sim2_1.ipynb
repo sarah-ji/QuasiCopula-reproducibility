{
 "cells": [
  {
   "cell_type": "markdown",
   "metadata": {},
   "source": [
    "## Negative Binomial VCM Results \n",
    "\n",
    "This notebook goes over the code needed to reproduce the results from the MSE and time figures for the Negative Binomial base distribution with Log Link and covariance matrix $\\Gamma$ structured under variance component model framework as follows:\n",
    "\n",
    "$$\n",
    "\\Gamma = 0.01 * \\mathbf{1_{n} 1_{n}^\\top}\n",
    "$$\n",
    "\n",
    "In this example simulate three fixed effects under GLMM with $\\beta \\sim$ randn(Uniform(-0.2, 0.2), p) where p = 3 fixed effects.\n",
    "\n",
    "We use multi-threading on 8 threads to obtain these MSE results on the following machine, and include MSE results from 100 simulation runs comparing the fit of ours with that of the random intercept Negative Binomial GLMM from MixedModels.jl for each scenario."
   ]
  },
  {
   "cell_type": "code",
   "execution_count": 1,
   "metadata": {},
   "outputs": [
    {
     "name": "stdout",
     "output_type": "stream",
     "text": [
      "Julia Version 1.6.2\n",
      "Commit 1b93d53fc4 (2021-07-14 15:36 UTC)\n",
      "Platform Info:\n",
      "  OS: macOS (x86_64-apple-darwin18.7.0)\n",
      "  CPU: Intel(R) Core(TM) i9-9880H CPU @ 2.30GHz\n",
      "  WORD_SIZE: 64\n",
      "  LIBM: libopenlibm\n",
      "  LLVM: libLLVM-11.0.1 (ORCJIT, skylake)\n"
     ]
    }
   ],
   "source": [
    "versioninfo()"
   ]
  },
  {
   "cell_type": "code",
   "execution_count": 2,
   "metadata": {},
   "outputs": [],
   "source": [
    "using QuasiCopula, DelimitedFiles, LinearAlgebra, Random, GLM\n",
    "using DataFrames"
   ]
  },
  {
   "cell_type": "code",
   "execution_count": 3,
   "metadata": {},
   "outputs": [],
   "source": [
    "p  = 3    # number of fixed effects, including intercept\n",
    "m  = 1    # number of variance components\n",
    "# true parameter values\n",
    "Random.seed!(12345)\n",
    "βtrue = rand(Uniform(-0.2, 0.2), p)\n",
    "rtrue = 10.0\n",
    "θtrue = [0.01]\n",
    "\n",
    "# generate data\n",
    "intervals = zeros(p + m, 2) #hold intervals\n",
    "curcoverage = zeros(p + m) #hold current coverage resutls\n",
    "trueparams = [βtrue; rtrue; θtrue] #hold true parameters\n",
    "\n",
    "#simulation parameters\n",
    "samplesizes = [100; 1000; 10000]\n",
    "ns = [2; 5; 10; 15; 20; 25]\n",
    "nsims = 100;"
   ]
  },
  {
   "cell_type": "code",
   "execution_count": 4,
   "metadata": {},
   "outputs": [
    {
     "name": "stderr",
     "output_type": "stream",
     "text": [
      "┌ Info: reading in the files with results\n",
      "└ @ Main In[4]:1\n"
     ]
    },
    {
     "data": {
      "text/plain": [
       "1800-element Vector{Float64}:\n",
       " 0.058265091\n",
       " 0.249747319\n",
       " 0.197956122\n",
       " 0.072223041\n",
       " 0.199786635\n",
       " 0.045572951\n",
       " 0.224305035\n",
       " 0.041194778\n",
       " 0.230862377\n",
       " 0.041206931\n",
       " 0.225729373\n",
       " 0.04384633\n",
       " 0.246335868\n",
       " ⋮\n",
       " 4.145942757\n",
       " 4.181362835\n",
       " 3.960101469\n",
       " 4.059277684\n",
       " 4.240015942\n",
       " 4.059097647\n",
       " 3.862772705\n",
       " 4.381440379\n",
       " 4.226094866\n",
       " 4.069770622\n",
       " 4.128440208\n",
       " 4.05468726"
      ]
     },
     "execution_count": 4,
     "metadata": {},
     "output_type": "execute_result"
    }
   ],
   "source": [
    "@info \"reading in the files with results\"\n",
    "βMseresult = vec(readdlm(\"mse_beta_multivariate_nb_vcm$(nsims)reps_sim.csv\", ','))\n",
    "θMseresult = vec(readdlm(\"mse_theta_multivariate_nb_vcm$(nsims)reps_sim.csv\", ','))\n",
    "fittimes_QC = vec(readdlm(\"fittimes_multivariate_nb_vcm$(nsims)reps_sim.csv\", ','))"
   ]
  },
  {
   "cell_type": "code",
   "execution_count": 5,
   "metadata": {},
   "outputs": [
    {
     "data": {
      "text/plain": [
       "1800-element Vector{Float64}:\n",
       "  0.27112859\n",
       "  0.054326619\n",
       "  0.016366418\n",
       "  0.013703861\n",
       "  0.029801769\n",
       "  0.017926989\n",
       "  0.024594269\n",
       "  0.023671098\n",
       "  0.029393586\n",
       "  0.018645181\n",
       "  0.017573982\n",
       "  0.047108911\n",
       "  0.040590321\n",
       "  ⋮\n",
       " 54.731292421\n",
       " 50.685371483\n",
       " 49.570942462\n",
       " 43.938362244\n",
       " 42.265586895\n",
       " 71.870095695\n",
       " 66.099638957\n",
       " 38.356182092\n",
       " 59.337916824\n",
       " 53.33004349\n",
       " 58.629244703\n",
       " 51.097988412"
      ]
     },
     "execution_count": 5,
     "metadata": {},
     "output_type": "execute_result"
    }
   ],
   "source": [
    "fittimes_GLMM = vec(readdlm(\"fittimes_GLMM_multivariate_NB_vcm$(nsims)reps_sim.csv\", ','))"
   ]
  },
  {
   "cell_type": "code",
   "execution_count": 6,
   "metadata": {},
   "outputs": [
    {
     "name": "stderr",
     "output_type": "stream",
     "text": [
      "┌ Info: making results table Quasi-Copula\n",
      "└ @ Main In[6]:2\n"
     ]
    },
    {
     "data": {
      "text/html": [
       "<div class=\"data-frame\"><p>18 rows × 8 columns</p><table class=\"data-frame\"><thead><tr><th></th><th>samplesize</th><th>obssize</th><th>fittime</th><th>se</th><th>nobs</th><th>fitmin</th><th>fitmax</th><th>perobsratio</th></tr><tr><th></th><th title=\"String\">String</th><th title=\"String\">String</th><th title=\"Float64\">Float64</th><th title=\"Float64\">Float64</th><th title=\"Int64\">Int64</th><th title=\"Float64\">Float64</th><th title=\"Float64\">Float64</th><th title=\"Float64\">Float64</th></tr></thead><tbody><tr><th>1</th><td>100</td><td>2</td><td>0.125488</td><td>0.00806829</td><td>200</td><td>0.11742</td><td>0.133557</td><td>0.000627442</td></tr><tr><th>2</th><td>100</td><td>5</td><td>0.0953789</td><td>0.00492537</td><td>500</td><td>0.0904535</td><td>0.100304</td><td>0.000190758</td></tr><tr><th>3</th><td>100</td><td>10</td><td>0.104743</td><td>0.00384668</td><td>1000</td><td>0.100896</td><td>0.10859</td><td>0.000104743</td></tr><tr><th>4</th><td>100</td><td>15</td><td>0.104538</td><td>0.00440385</td><td>1500</td><td>0.100135</td><td>0.108942</td><td>6.96922e-5</td></tr><tr><th>5</th><td>100</td><td>20</td><td>0.112163</td><td>0.00230643</td><td>2000</td><td>0.109857</td><td>0.11447</td><td>5.60816e-5</td></tr><tr><th>6</th><td>100</td><td>25</td><td>0.11857</td><td>0.00263808</td><td>2500</td><td>0.115932</td><td>0.121208</td><td>4.7428e-5</td></tr><tr><th>7</th><td>1000</td><td>2</td><td>0.162675</td><td>0.00940233</td><td>2000</td><td>0.153273</td><td>0.172078</td><td>8.13377e-5</td></tr><tr><th>8</th><td>1000</td><td>5</td><td>0.167472</td><td>0.00435447</td><td>5000</td><td>0.163117</td><td>0.171826</td><td>3.34943e-5</td></tr><tr><th>9</th><td>1000</td><td>10</td><td>0.243189</td><td>0.00312494</td><td>10000</td><td>0.240064</td><td>0.246314</td><td>2.43189e-5</td></tr><tr><th>10</th><td>1000</td><td>15</td><td>0.303114</td><td>0.00171094</td><td>15000</td><td>0.301403</td><td>0.304825</td><td>2.02076e-5</td></tr><tr><th>11</th><td>1000</td><td>20</td><td>0.371112</td><td>0.00196367</td><td>20000</td><td>0.369148</td><td>0.373075</td><td>1.85556e-5</td></tr><tr><th>12</th><td>1000</td><td>25</td><td>0.4354</td><td>0.0019523</td><td>25000</td><td>0.433447</td><td>0.437352</td><td>1.7416e-5</td></tr><tr><th>13</th><td>10000</td><td>2</td><td>1.1687</td><td>0.0400377</td><td>20000</td><td>1.12866</td><td>1.20874</td><td>5.84351e-5</td></tr><tr><th>14</th><td>10000</td><td>5</td><td>1.37492</td><td>0.0199567</td><td>50000</td><td>1.35497</td><td>1.39488</td><td>2.74985e-5</td></tr><tr><th>15</th><td>10000</td><td>10</td><td>2.15411</td><td>0.00725437</td><td>100000</td><td>2.14686</td><td>2.16136</td><td>2.15411e-5</td></tr><tr><th>16</th><td>10000</td><td>15</td><td>2.78069</td><td>0.00680206</td><td>150000</td><td>2.77388</td><td>2.78749</td><td>1.85379e-5</td></tr><tr><th>17</th><td>10000</td><td>20</td><td>3.31413</td><td>0.0073256</td><td>200000</td><td>3.3068</td><td>3.32145</td><td>1.65706e-5</td></tr><tr><th>18</th><td>10000</td><td>25</td><td>4.11139</td><td>0.0114215</td><td>250000</td><td>4.09997</td><td>4.12281</td><td>1.64456e-5</td></tr></tbody></table></div>"
      ],
      "text/latex": [
       "\\begin{tabular}{r|cccccccc}\n",
       "\t& samplesize & obssize & fittime & se & nobs & fitmin & fitmax & perobsratio\\\\\n",
       "\t\\hline\n",
       "\t& String & String & Float64 & Float64 & Int64 & Float64 & Float64 & Float64\\\\\n",
       "\t\\hline\n",
       "\t1 & 100 & 2 & 0.125488 & 0.00806829 & 200 & 0.11742 & 0.133557 & 0.000627442 \\\\\n",
       "\t2 & 100 & 5 & 0.0953789 & 0.00492537 & 500 & 0.0904535 & 0.100304 & 0.000190758 \\\\\n",
       "\t3 & 100 & 10 & 0.104743 & 0.00384668 & 1000 & 0.100896 & 0.10859 & 0.000104743 \\\\\n",
       "\t4 & 100 & 15 & 0.104538 & 0.00440385 & 1500 & 0.100135 & 0.108942 & 6.96922e-5 \\\\\n",
       "\t5 & 100 & 20 & 0.112163 & 0.00230643 & 2000 & 0.109857 & 0.11447 & 5.60816e-5 \\\\\n",
       "\t6 & 100 & 25 & 0.11857 & 0.00263808 & 2500 & 0.115932 & 0.121208 & 4.7428e-5 \\\\\n",
       "\t7 & 1000 & 2 & 0.162675 & 0.00940233 & 2000 & 0.153273 & 0.172078 & 8.13377e-5 \\\\\n",
       "\t8 & 1000 & 5 & 0.167472 & 0.00435447 & 5000 & 0.163117 & 0.171826 & 3.34943e-5 \\\\\n",
       "\t9 & 1000 & 10 & 0.243189 & 0.00312494 & 10000 & 0.240064 & 0.246314 & 2.43189e-5 \\\\\n",
       "\t10 & 1000 & 15 & 0.303114 & 0.00171094 & 15000 & 0.301403 & 0.304825 & 2.02076e-5 \\\\\n",
       "\t11 & 1000 & 20 & 0.371112 & 0.00196367 & 20000 & 0.369148 & 0.373075 & 1.85556e-5 \\\\\n",
       "\t12 & 1000 & 25 & 0.4354 & 0.0019523 & 25000 & 0.433447 & 0.437352 & 1.7416e-5 \\\\\n",
       "\t13 & 10000 & 2 & 1.1687 & 0.0400377 & 20000 & 1.12866 & 1.20874 & 5.84351e-5 \\\\\n",
       "\t14 & 10000 & 5 & 1.37492 & 0.0199567 & 50000 & 1.35497 & 1.39488 & 2.74985e-5 \\\\\n",
       "\t15 & 10000 & 10 & 2.15411 & 0.00725437 & 100000 & 2.14686 & 2.16136 & 2.15411e-5 \\\\\n",
       "\t16 & 10000 & 15 & 2.78069 & 0.00680206 & 150000 & 2.77388 & 2.78749 & 1.85379e-5 \\\\\n",
       "\t17 & 10000 & 20 & 3.31413 & 0.0073256 & 200000 & 3.3068 & 3.32145 & 1.65706e-5 \\\\\n",
       "\t18 & 10000 & 25 & 4.11139 & 0.0114215 & 250000 & 4.09997 & 4.12281 & 1.64456e-5 \\\\\n",
       "\\end{tabular}\n"
      ],
      "text/plain": [
       "\u001b[1m18×8 DataFrame\u001b[0m\n",
       "\u001b[1m Row \u001b[0m│\u001b[1m samplesize \u001b[0m\u001b[1m obssize \u001b[0m\u001b[1m fittime   \u001b[0m\u001b[1m se         \u001b[0m\u001b[1m nobs   \u001b[0m\u001b[1m fitmin    \u001b[0m\u001b[1m fitmax  \u001b[0m ⋯\n",
       "\u001b[1m     \u001b[0m│\u001b[90m String     \u001b[0m\u001b[90m String  \u001b[0m\u001b[90m Float64   \u001b[0m\u001b[90m Float64    \u001b[0m\u001b[90m Int64  \u001b[0m\u001b[90m Float64   \u001b[0m\u001b[90m Float64 \u001b[0m ⋯\n",
       "─────┼──────────────────────────────────────────────────────────────────────────\n",
       "   1 │ 100         2        0.125488   0.00806829     200  0.11742    0.133557 ⋯\n",
       "   2 │ 100         5        0.0953789  0.00492537     500  0.0904535  0.100304\n",
       "   3 │ 100         10       0.104743   0.00384668    1000  0.100896   0.10859\n",
       "   4 │ 100         15       0.104538   0.00440385    1500  0.100135   0.108942\n",
       "   5 │ 100         20       0.112163   0.00230643    2000  0.109857   0.11447  ⋯\n",
       "   6 │ 100         25       0.11857    0.00263808    2500  0.115932   0.121208\n",
       "   7 │ 1000        2        0.162675   0.00940233    2000  0.153273   0.172078\n",
       "   8 │ 1000        5        0.167472   0.00435447    5000  0.163117   0.171826\n",
       "   9 │ 1000        10       0.243189   0.00312494   10000  0.240064   0.246314 ⋯\n",
       "  10 │ 1000        15       0.303114   0.00171094   15000  0.301403   0.304825\n",
       "  11 │ 1000        20       0.371112   0.00196367   20000  0.369148   0.373075\n",
       "  12 │ 1000        25       0.4354     0.0019523    25000  0.433447   0.437352\n",
       "  13 │ 10000       2        1.1687     0.0400377    20000  1.12866    1.20874  ⋯\n",
       "  14 │ 10000       5        1.37492    0.0199567    50000  1.35497    1.39488\n",
       "  15 │ 10000       10       2.15411    0.00725437  100000  2.14686    2.16136\n",
       "  16 │ 10000       15       2.78069    0.00680206  150000  2.77388    2.78749\n",
       "  17 │ 10000       20       3.31413    0.0073256   200000  3.3068     3.32145  ⋯\n",
       "  18 │ 10000       25       4.11139    0.0114215   250000  4.09997    4.12281\n",
       "\u001b[36m                                                                1 column omitted\u001b[0m"
      ]
     },
     "execution_count": 6,
     "metadata": {},
     "output_type": "execute_result"
    }
   ],
   "source": [
    "#simulation parameters\n",
    "@info \"making results table Quasi-Copula\"\n",
    "sample_sizes = repeat(string.(samplesizes), inner = nsims * length(ns))\n",
    "obs_sizes = repeat(string.(ns), inner = nsims, outer = length(samplesizes))\n",
    "\n",
    "msedf = DataFrame(samplesize = sample_sizes, obssize = obs_sizes, fittimes = fittimes_QC)\n",
    "timedf1 = combine(groupby(msedf, [:samplesize, :obssize]), :fittimes => mean => :fittime,\n",
    "    :fittimes => x -> (std(x)/sqrt(length(x))))\n",
    "rename!(timedf1, Dict(:fittimes_function => \"se\"))\n",
    "timedf1[!, :nobs] = Meta.parse.(timedf1[!, :samplesize]) .* Meta.parse.(timedf1[!, :obssize])\n",
    "timedf1[!, :fitmin] = timedf1[!, :fittime] - timedf1[!, :se]\n",
    "timedf1[!, :fitmax] = timedf1[!, :fittime] + timedf1[!, :se]\n",
    "timedf1[!, :perobsratio] = timedf1[!, :fittime] ./ timedf1[!, :nobs]\n",
    "timedf1"
   ]
  },
  {
   "cell_type": "code",
   "execution_count": 7,
   "metadata": {},
   "outputs": [
    {
     "name": "stderr",
     "output_type": "stream",
     "text": [
      "┌ Info: making results table GLMM\n",
      "└ @ Main In[7]:2\n"
     ]
    },
    {
     "data": {
      "text/html": [
       "<div class=\"data-frame\"><p>18 rows × 8 columns</p><table class=\"data-frame\"><thead><tr><th></th><th>samplesize</th><th>obssize</th><th>fittime</th><th>se</th><th>nobs</th><th>fitmin</th><th>fitmax</th><th>perobsratio</th></tr><tr><th></th><th title=\"String\">String</th><th title=\"String\">String</th><th title=\"Float64\">Float64</th><th title=\"Float64\">Float64</th><th title=\"Int64\">Int64</th><th title=\"Float64\">Float64</th><th title=\"Float64\">Float64</th><th title=\"Float64\">Float64</th></tr></thead><tbody><tr><th>1</th><td>100</td><td>2</td><td>0.0369481</td><td>0.00325637</td><td>200</td><td>0.0336917</td><td>0.0402044</td><td>0.00018474</td></tr><tr><th>2</th><td>100</td><td>5</td><td>0.0682825</td><td>0.00373583</td><td>500</td><td>0.0645467</td><td>0.0720184</td><td>0.000136565</td></tr><tr><th>3</th><td>100</td><td>10</td><td>0.186808</td><td>0.0109937</td><td>1000</td><td>0.175814</td><td>0.197801</td><td>0.000186808</td></tr><tr><th>4</th><td>100</td><td>15</td><td>0.2816</td><td>0.0168822</td><td>1500</td><td>0.264718</td><td>0.298482</td><td>0.000187733</td></tr><tr><th>5</th><td>100</td><td>20</td><td>0.393975</td><td>0.0166376</td><td>2000</td><td>0.377337</td><td>0.410613</td><td>0.000196987</td></tr><tr><th>6</th><td>100</td><td>25</td><td>0.461224</td><td>0.0192332</td><td>2500</td><td>0.441991</td><td>0.480458</td><td>0.00018449</td></tr><tr><th>7</th><td>1000</td><td>2</td><td>0.365112</td><td>0.0134587</td><td>2000</td><td>0.351653</td><td>0.378571</td><td>0.000182556</td></tr><tr><th>8</th><td>1000</td><td>5</td><td>0.856917</td><td>0.0331729</td><td>5000</td><td>0.823744</td><td>0.89009</td><td>0.000171383</td></tr><tr><th>9</th><td>1000</td><td>10</td><td>1.97179</td><td>0.0496652</td><td>10000</td><td>1.92213</td><td>2.02146</td><td>0.000197179</td></tr><tr><th>10</th><td>1000</td><td>15</td><td>2.85357</td><td>0.0639273</td><td>15000</td><td>2.78964</td><td>2.9175</td><td>0.000190238</td></tr><tr><th>11</th><td>1000</td><td>20</td><td>3.72221</td><td>0.0765525</td><td>20000</td><td>3.64566</td><td>3.79876</td><td>0.00018611</td></tr><tr><th>12</th><td>1000</td><td>25</td><td>4.81499</td><td>0.0888026</td><td>25000</td><td>4.72618</td><td>4.90379</td><td>0.000192599</td></tr><tr><th>13</th><td>10000</td><td>2</td><td>3.90212</td><td>0.0791995</td><td>20000</td><td>3.82292</td><td>3.98132</td><td>0.000195106</td></tr><tr><th>14</th><td>10000</td><td>5</td><td>8.59806</td><td>0.140068</td><td>50000</td><td>8.45799</td><td>8.73812</td><td>0.000171961</td></tr><tr><th>15</th><td>10000</td><td>10</td><td>20.4987</td><td>0.302523</td><td>100000</td><td>20.1962</td><td>20.8012</td><td>0.000204987</td></tr><tr><th>16</th><td>10000</td><td>15</td><td>29.0025</td><td>0.464845</td><td>150000</td><td>28.5377</td><td>29.4674</td><td>0.00019335</td></tr><tr><th>17</th><td>10000</td><td>20</td><td>42.9521</td><td>0.679096</td><td>200000</td><td>42.273</td><td>43.6312</td><td>0.000214761</td></tr><tr><th>18</th><td>10000</td><td>25</td><td>54.676</td><td>0.860559</td><td>250000</td><td>53.8154</td><td>55.5365</td><td>0.000218704</td></tr></tbody></table></div>"
      ],
      "text/latex": [
       "\\begin{tabular}{r|cccccccc}\n",
       "\t& samplesize & obssize & fittime & se & nobs & fitmin & fitmax & perobsratio\\\\\n",
       "\t\\hline\n",
       "\t& String & String & Float64 & Float64 & Int64 & Float64 & Float64 & Float64\\\\\n",
       "\t\\hline\n",
       "\t1 & 100 & 2 & 0.0369481 & 0.00325637 & 200 & 0.0336917 & 0.0402044 & 0.00018474 \\\\\n",
       "\t2 & 100 & 5 & 0.0682825 & 0.00373583 & 500 & 0.0645467 & 0.0720184 & 0.000136565 \\\\\n",
       "\t3 & 100 & 10 & 0.186808 & 0.0109937 & 1000 & 0.175814 & 0.197801 & 0.000186808 \\\\\n",
       "\t4 & 100 & 15 & 0.2816 & 0.0168822 & 1500 & 0.264718 & 0.298482 & 0.000187733 \\\\\n",
       "\t5 & 100 & 20 & 0.393975 & 0.0166376 & 2000 & 0.377337 & 0.410613 & 0.000196987 \\\\\n",
       "\t6 & 100 & 25 & 0.461224 & 0.0192332 & 2500 & 0.441991 & 0.480458 & 0.00018449 \\\\\n",
       "\t7 & 1000 & 2 & 0.365112 & 0.0134587 & 2000 & 0.351653 & 0.378571 & 0.000182556 \\\\\n",
       "\t8 & 1000 & 5 & 0.856917 & 0.0331729 & 5000 & 0.823744 & 0.89009 & 0.000171383 \\\\\n",
       "\t9 & 1000 & 10 & 1.97179 & 0.0496652 & 10000 & 1.92213 & 2.02146 & 0.000197179 \\\\\n",
       "\t10 & 1000 & 15 & 2.85357 & 0.0639273 & 15000 & 2.78964 & 2.9175 & 0.000190238 \\\\\n",
       "\t11 & 1000 & 20 & 3.72221 & 0.0765525 & 20000 & 3.64566 & 3.79876 & 0.00018611 \\\\\n",
       "\t12 & 1000 & 25 & 4.81499 & 0.0888026 & 25000 & 4.72618 & 4.90379 & 0.000192599 \\\\\n",
       "\t13 & 10000 & 2 & 3.90212 & 0.0791995 & 20000 & 3.82292 & 3.98132 & 0.000195106 \\\\\n",
       "\t14 & 10000 & 5 & 8.59806 & 0.140068 & 50000 & 8.45799 & 8.73812 & 0.000171961 \\\\\n",
       "\t15 & 10000 & 10 & 20.4987 & 0.302523 & 100000 & 20.1962 & 20.8012 & 0.000204987 \\\\\n",
       "\t16 & 10000 & 15 & 29.0025 & 0.464845 & 150000 & 28.5377 & 29.4674 & 0.00019335 \\\\\n",
       "\t17 & 10000 & 20 & 42.9521 & 0.679096 & 200000 & 42.273 & 43.6312 & 0.000214761 \\\\\n",
       "\t18 & 10000 & 25 & 54.676 & 0.860559 & 250000 & 53.8154 & 55.5365 & 0.000218704 \\\\\n",
       "\\end{tabular}\n"
      ],
      "text/plain": [
       "\u001b[1m18×8 DataFrame\u001b[0m\n",
       "\u001b[1m Row \u001b[0m│\u001b[1m samplesize \u001b[0m\u001b[1m obssize \u001b[0m\u001b[1m fittime    \u001b[0m\u001b[1m se         \u001b[0m\u001b[1m nobs   \u001b[0m\u001b[1m fitmin     \u001b[0m\u001b[1m fitmax\u001b[0m ⋯\n",
       "\u001b[1m     \u001b[0m│\u001b[90m String     \u001b[0m\u001b[90m String  \u001b[0m\u001b[90m Float64    \u001b[0m\u001b[90m Float64    \u001b[0m\u001b[90m Int64  \u001b[0m\u001b[90m Float64    \u001b[0m\u001b[90m Float6\u001b[0m ⋯\n",
       "─────┼──────────────────────────────────────────────────────────────────────────\n",
       "   1 │ 100         2         0.0369481  0.00325637     200   0.0336917   0.040 ⋯\n",
       "   2 │ 100         5         0.0682825  0.00373583     500   0.0645467   0.072\n",
       "   3 │ 100         10        0.186808   0.0109937     1000   0.175814    0.197\n",
       "   4 │ 100         15        0.2816     0.0168822     1500   0.264718    0.298\n",
       "   5 │ 100         20        0.393975   0.0166376     2000   0.377337    0.410 ⋯\n",
       "   6 │ 100         25        0.461224   0.0192332     2500   0.441991    0.480\n",
       "   7 │ 1000        2         0.365112   0.0134587     2000   0.351653    0.378\n",
       "   8 │ 1000        5         0.856917   0.0331729     5000   0.823744    0.890\n",
       "   9 │ 1000        10        1.97179    0.0496652    10000   1.92213     2.021 ⋯\n",
       "  10 │ 1000        15        2.85357    0.0639273    15000   2.78964     2.917\n",
       "  11 │ 1000        20        3.72221    0.0765525    20000   3.64566     3.798\n",
       "  12 │ 1000        25        4.81499    0.0888026    25000   4.72618     4.903\n",
       "  13 │ 10000       2         3.90212    0.0791995    20000   3.82292     3.981 ⋯\n",
       "  14 │ 10000       5         8.59806    0.140068     50000   8.45799     8.738\n",
       "  15 │ 10000       10       20.4987     0.302523    100000  20.1962     20.801\n",
       "  16 │ 10000       15       29.0025     0.464845    150000  28.5377     29.467\n",
       "  17 │ 10000       20       42.9521     0.679096    200000  42.273      43.631 ⋯\n",
       "  18 │ 10000       25       54.676      0.860559    250000  53.8154     55.536\n",
       "\u001b[36m                                                               2 columns omitted\u001b[0m"
      ]
     },
     "execution_count": 7,
     "metadata": {},
     "output_type": "execute_result"
    }
   ],
   "source": [
    "#simulation parameters\n",
    "@info \"making results table GLMM\"\n",
    "sample_sizes = repeat(string.(samplesizes), inner = nsims * length(ns))\n",
    "obs_sizes = repeat(string.(ns), inner = nsims, outer = length(samplesizes))\n",
    "\n",
    "msedf = DataFrame(samplesize = sample_sizes, obssize = obs_sizes, fittimes = fittimes_GLMM)\n",
    "timedf2 = combine(groupby(msedf, [:samplesize, :obssize]), :fittimes => mean => :fittime,\n",
    "    :fittimes => x -> (std(x)/sqrt(length(x))))\n",
    "rename!(timedf2, Dict(:fittimes_function => \"se\"))\n",
    "timedf2[!, :nobs] = Meta.parse.(timedf2[!, :samplesize]) .* Meta.parse.(timedf2[!, :obssize])\n",
    "timedf2[!, :fitmin] = timedf2[!, :fittime] - timedf2[!, :se]\n",
    "timedf2[!, :fitmax] = timedf2[!, :fittime] + timedf2[!, :se]\n",
    "timedf2[!, :perobsratio] = timedf2[!, :fittime] ./ timedf2[!, :nobs]\n",
    "timedf2"
   ]
  },
  {
   "cell_type": "code",
   "execution_count": 8,
   "metadata": {},
   "outputs": [
    {
     "data": {
      "text/html": [
       "<div class=\"data-frame\"><p>18 rows × 6 columns (omitted printing of 1 columns)</p><table class=\"data-frame\"><thead><tr><th></th><th>people_obs</th><th>β1</th><th>β2</th><th>β3</th><th>r</th></tr><tr><th></th><th title=\"String\">String</th><th title=\"Tuple{Float64, Float64}\">Tuple…</th><th title=\"Tuple{Float64, Float64}\">Tuple…</th><th title=\"Tuple{Float64, Float64}\">Tuple…</th><th title=\"Tuple{Float64, Float64}\">Tuple…</th></tr></thead><tbody><tr><th>1</th><td>N: 100  ni: 2</td><td>(0.76, 0.0429235)</td><td>(0.73, 0.0446196)</td><td>(0.72, 0.0451261)</td><td>(0.72, 0.0451261)</td></tr><tr><th>2</th><td>N: 100  ni: 5</td><td>(0.93, 0.0256432)</td><td>(0.65, 0.0479372)</td><td>(0.84, 0.0368453)</td><td>(0.74, 0.0440844)</td></tr><tr><th>3</th><td>N: 100  ni: 10</td><td>(0.99, 0.01)</td><td>(0.79, 0.040936)</td><td>(0.79, 0.040936)</td><td>(0.78, 0.0416333)</td></tr><tr><th>4</th><td>N: 100  ni: 15</td><td>(0.95, 0.0219043)</td><td>(0.82, 0.0386123)</td><td>(0.87, 0.0337998)</td><td>(0.72, 0.0451261)</td></tr><tr><th>5</th><td>N: 100  ni: 20</td><td>(0.95, 0.0219043)</td><td>(0.83, 0.0377525)</td><td>(0.89, 0.0314466)</td><td>(0.64, 0.0482418)</td></tr><tr><th>6</th><td>N: 100  ni: 25</td><td>(0.94, 0.0238683)</td><td>(0.81, 0.0394277)</td><td>(0.87, 0.0337998)</td><td>(0.7, 0.0460566)</td></tr><tr><th>7</th><td>N: 1000  ni: 2</td><td>(0.74, 0.0440844)</td><td>(0.75, 0.0435194)</td><td>(0.85, 0.035887)</td><td>(0.78, 0.0416333)</td></tr><tr><th>8</th><td>N: 1000  ni: 5</td><td>(0.96, 0.0196946)</td><td>(0.63, 0.0485237)</td><td>(0.85, 0.035887)</td><td>(0.81, 0.0394277)</td></tr><tr><th>9</th><td>N: 1000  ni: 10</td><td>(0.93, 0.0256432)</td><td>(0.73, 0.0446196)</td><td>(0.89, 0.0314466)</td><td>(0.67, 0.0472582)</td></tr><tr><th>10</th><td>N: 1000  ni: 15</td><td>(0.85, 0.035887)</td><td>(0.79, 0.040936)</td><td>(0.9, 0.0301511)</td><td>(0.69, 0.0464823)</td></tr><tr><th>11</th><td>N: 1000  ni: 20</td><td>(0.91, 0.0287623)</td><td>(0.78, 0.0416333)</td><td>(0.93, 0.0256432)</td><td>(0.63, 0.0485237)</td></tr><tr><th>12</th><td>N: 1000  ni: 25</td><td>(0.86, 0.0348735)</td><td>(0.85, 0.035887)</td><td>(0.93, 0.0256432)</td><td>(0.62, 0.0487832)</td></tr><tr><th>13</th><td>N: 10000  ni: 2</td><td>(0.7, 0.0460566)</td><td>(0.67, 0.0472582)</td><td>(0.89, 0.0314466)</td><td>(0.69, 0.0464823)</td></tr><tr><th>14</th><td>N: 10000  ni: 5</td><td>(0.81, 0.0394277)</td><td>(0.75, 0.0435194)</td><td>(0.93, 0.0256432)</td><td>(0.69, 0.0464823)</td></tr><tr><th>15</th><td>N: 10000  ni: 10</td><td>(0.78, 0.0416333)</td><td>(0.77, 0.0422953)</td><td>(0.92, 0.027266)</td><td>(0.76, 0.0429235)</td></tr><tr><th>16</th><td>N: 10000  ni: 15</td><td>(0.7, 0.0460566)</td><td>(0.73, 0.0446196)</td><td>(0.94, 0.0238683)</td><td>(0.67, 0.0472582)</td></tr><tr><th>17</th><td>N: 10000  ni: 20</td><td>(0.72, 0.0451261)</td><td>(0.83, 0.0377525)</td><td>(0.94, 0.0238683)</td><td>(0.67, 0.0472582)</td></tr><tr><th>18</th><td>N: 10000  ni: 25</td><td>(0.69, 0.0464823)</td><td>(0.77, 0.0422953)</td><td>(0.91, 0.0287623)</td><td>(0.54, 0.0500908)</td></tr></tbody></table></div>"
      ],
      "text/latex": [
       "\\begin{tabular}{r|cccccc}\n",
       "\t& people\\_obs & β1 & β2 & β3 & r & \\\\\n",
       "\t\\hline\n",
       "\t& String & Tuple… & Tuple… & Tuple… & Tuple… & \\\\\n",
       "\t\\hline\n",
       "\t1 & N: 100  ni: 2 & (0.76, 0.0429235) & (0.73, 0.0446196) & (0.72, 0.0451261) & (0.72, 0.0451261) & $\\dots$ \\\\\n",
       "\t2 & N: 100  ni: 5 & (0.93, 0.0256432) & (0.65, 0.0479372) & (0.84, 0.0368453) & (0.74, 0.0440844) & $\\dots$ \\\\\n",
       "\t3 & N: 100  ni: 10 & (0.99, 0.01) & (0.79, 0.040936) & (0.79, 0.040936) & (0.78, 0.0416333) & $\\dots$ \\\\\n",
       "\t4 & N: 100  ni: 15 & (0.95, 0.0219043) & (0.82, 0.0386123) & (0.87, 0.0337998) & (0.72, 0.0451261) & $\\dots$ \\\\\n",
       "\t5 & N: 100  ni: 20 & (0.95, 0.0219043) & (0.83, 0.0377525) & (0.89, 0.0314466) & (0.64, 0.0482418) & $\\dots$ \\\\\n",
       "\t6 & N: 100  ni: 25 & (0.94, 0.0238683) & (0.81, 0.0394277) & (0.87, 0.0337998) & (0.7, 0.0460566) & $\\dots$ \\\\\n",
       "\t7 & N: 1000  ni: 2 & (0.74, 0.0440844) & (0.75, 0.0435194) & (0.85, 0.035887) & (0.78, 0.0416333) & $\\dots$ \\\\\n",
       "\t8 & N: 1000  ni: 5 & (0.96, 0.0196946) & (0.63, 0.0485237) & (0.85, 0.035887) & (0.81, 0.0394277) & $\\dots$ \\\\\n",
       "\t9 & N: 1000  ni: 10 & (0.93, 0.0256432) & (0.73, 0.0446196) & (0.89, 0.0314466) & (0.67, 0.0472582) & $\\dots$ \\\\\n",
       "\t10 & N: 1000  ni: 15 & (0.85, 0.035887) & (0.79, 0.040936) & (0.9, 0.0301511) & (0.69, 0.0464823) & $\\dots$ \\\\\n",
       "\t11 & N: 1000  ni: 20 & (0.91, 0.0287623) & (0.78, 0.0416333) & (0.93, 0.0256432) & (0.63, 0.0485237) & $\\dots$ \\\\\n",
       "\t12 & N: 1000  ni: 25 & (0.86, 0.0348735) & (0.85, 0.035887) & (0.93, 0.0256432) & (0.62, 0.0487832) & $\\dots$ \\\\\n",
       "\t13 & N: 10000  ni: 2 & (0.7, 0.0460566) & (0.67, 0.0472582) & (0.89, 0.0314466) & (0.69, 0.0464823) & $\\dots$ \\\\\n",
       "\t14 & N: 10000  ni: 5 & (0.81, 0.0394277) & (0.75, 0.0435194) & (0.93, 0.0256432) & (0.69, 0.0464823) & $\\dots$ \\\\\n",
       "\t15 & N: 10000  ni: 10 & (0.78, 0.0416333) & (0.77, 0.0422953) & (0.92, 0.027266) & (0.76, 0.0429235) & $\\dots$ \\\\\n",
       "\t16 & N: 10000  ni: 15 & (0.7, 0.0460566) & (0.73, 0.0446196) & (0.94, 0.0238683) & (0.67, 0.0472582) & $\\dots$ \\\\\n",
       "\t17 & N: 10000  ni: 20 & (0.72, 0.0451261) & (0.83, 0.0377525) & (0.94, 0.0238683) & (0.67, 0.0472582) & $\\dots$ \\\\\n",
       "\t18 & N: 10000  ni: 25 & (0.69, 0.0464823) & (0.77, 0.0422953) & (0.91, 0.0287623) & (0.54, 0.0500908) & $\\dots$ \\\\\n",
       "\\end{tabular}\n"
      ],
      "text/plain": [
       "\u001b[1m18×6 DataFrame\u001b[0m\n",
       "\u001b[1m Row \u001b[0m│\u001b[1m people_obs       \u001b[0m\u001b[1m β1                \u001b[0m\u001b[1m β2                \u001b[0m\u001b[1m β3             \u001b[0m ⋯\n",
       "\u001b[1m     \u001b[0m│\u001b[90m String           \u001b[0m\u001b[90m Tuple…            \u001b[0m\u001b[90m Tuple…            \u001b[0m\u001b[90m Tuple…         \u001b[0m ⋯\n",
       "─────┼──────────────────────────────────────────────────────────────────────────\n",
       "   1 │ N: 100  ni: 2     (0.76, 0.0429235)  (0.73, 0.0446196)  (0.72, 0.045126 ⋯\n",
       "   2 │ N: 100  ni: 5     (0.93, 0.0256432)  (0.65, 0.0479372)  (0.84, 0.036845\n",
       "   3 │ N: 100  ni: 10    (0.99, 0.01)       (0.79, 0.040936)   (0.79, 0.040936\n",
       "   4 │ N: 100  ni: 15    (0.95, 0.0219043)  (0.82, 0.0386123)  (0.87, 0.033799\n",
       "   5 │ N: 100  ni: 20    (0.95, 0.0219043)  (0.83, 0.0377525)  (0.89, 0.031446 ⋯\n",
       "   6 │ N: 100  ni: 25    (0.94, 0.0238683)  (0.81, 0.0394277)  (0.87, 0.033799\n",
       "   7 │ N: 1000  ni: 2    (0.74, 0.0440844)  (0.75, 0.0435194)  (0.85, 0.035887\n",
       "   8 │ N: 1000  ni: 5    (0.96, 0.0196946)  (0.63, 0.0485237)  (0.85, 0.035887\n",
       "   9 │ N: 1000  ni: 10   (0.93, 0.0256432)  (0.73, 0.0446196)  (0.89, 0.031446 ⋯\n",
       "  10 │ N: 1000  ni: 15   (0.85, 0.035887)   (0.79, 0.040936)   (0.9, 0.0301511\n",
       "  11 │ N: 1000  ni: 20   (0.91, 0.0287623)  (0.78, 0.0416333)  (0.93, 0.025643\n",
       "  12 │ N: 1000  ni: 25   (0.86, 0.0348735)  (0.85, 0.035887)   (0.93, 0.025643\n",
       "  13 │ N: 10000  ni: 2   (0.7, 0.0460566)   (0.67, 0.0472582)  (0.89, 0.031446 ⋯\n",
       "  14 │ N: 10000  ni: 5   (0.81, 0.0394277)  (0.75, 0.0435194)  (0.93, 0.025643\n",
       "  15 │ N: 10000  ni: 10  (0.78, 0.0416333)  (0.77, 0.0422953)  (0.92, 0.027266\n",
       "  16 │ N: 10000  ni: 15  (0.7, 0.0460566)   (0.73, 0.0446196)  (0.94, 0.023868\n",
       "  17 │ N: 10000  ni: 20  (0.72, 0.0451261)  (0.83, 0.0377525)  (0.94, 0.023868 ⋯\n",
       "  18 │ N: 10000  ni: 25  (0.69, 0.0464823)  (0.77, 0.0422953)  (0.91, 0.028762\n",
       "\u001b[36m                                                               3 columns omitted\u001b[0m"
      ]
     },
     "execution_count": 8,
     "metadata": {},
     "output_type": "execute_result"
    }
   ],
   "source": [
    "######  supplementary table s1\n",
    "using Random, DataFrames, DelimitedFiles, Statistics\n",
    "import StatsBase: sem\n",
    "\n",
    "βθrcoverage = readdlm(\"beta_r_theta_coverage_multivariate_NB_vcm$(nsims)reps_sim.csv\", ',')\n",
    "\n",
    "m  = 1\n",
    "\n",
    "covdf = DataFrame(Matrix(transpose(βθrcoverage)), :auto)\n",
    "rename!(covdf, Symbol.([[\"β$i\" for i in 1:p]; [\"r\"]; [\"θ$i\" for i in 1:m]]))\n",
    "covdf[!, :samplesize] = sample_sizes\n",
    "covdf[!, :obssize] = obs_sizes\n",
    "first(covdf, 10)\n",
    "\n",
    "row_stats = [[(mean(col), sem(col)) for col = eachcol(d[!, 1:end-2])] for d = groupby(covdf, [:samplesize; :obssize])]\n",
    "df = DataFrame(row_stats, :auto)\n",
    "ss_obs = unique(\"N: \" .* sample_sizes .* \"  ni: \" .* obs_sizes)\n",
    "rename!(df, Symbol.(ss_obs))\n",
    "covdfdisplay = DataFrame([[names(df)]; collect.(eachrow(df))], \n",
    "    [:people_obs; Symbol.([[\"β$i\" for i in 1:p];  [\"r\"];  [\"θ$i\" for i in 1:m]])])\n",
    "# deletecols!(covdfdisplay, p + 2)\n",
    "covdfdisplay\n"
   ]
  },
  {
   "cell_type": "code",
   "execution_count": 9,
   "metadata": {},
   "outputs": [
    {
     "data": {
      "text/html": [
       "<div class=\"data-frame\"><p>10,768 rows × 5 columns</p><table class=\"data-frame\"><thead><tr><th></th><th>mse</th><th>obssize</th><th>samplesize</th><th>parameters</th><th>robust</th></tr><tr><th></th><th title=\"Float64\">Float64</th><th title=\"String\">String</th><th title=\"String\">String</th><th title=\"String\">String</th><th title=\"String\">String</th></tr></thead><tbody><tr><th>1</th><td>0.000907418</td><td>2</td><td>100</td><td>beta</td><td>Negative Binomial QC</td></tr><tr><th>2</th><td>0.00178982</td><td>2</td><td>100</td><td>beta</td><td>Negative Binomial QC</td></tr><tr><th>3</th><td>0.0074143</td><td>2</td><td>100</td><td>beta</td><td>Negative Binomial QC</td></tr><tr><th>4</th><td>0.0171706</td><td>2</td><td>100</td><td>beta</td><td>Negative Binomial QC</td></tr><tr><th>5</th><td>0.00147286</td><td>2</td><td>100</td><td>beta</td><td>Negative Binomial QC</td></tr><tr><th>6</th><td>0.0084763</td><td>2</td><td>100</td><td>beta</td><td>Negative Binomial QC</td></tr><tr><th>7</th><td>0.00263791</td><td>2</td><td>100</td><td>beta</td><td>Negative Binomial QC</td></tr><tr><th>8</th><td>0.00819091</td><td>2</td><td>100</td><td>beta</td><td>Negative Binomial QC</td></tr><tr><th>9</th><td>0.0133683</td><td>2</td><td>100</td><td>beta</td><td>Negative Binomial QC</td></tr><tr><th>10</th><td>0.00444029</td><td>2</td><td>100</td><td>beta</td><td>Negative Binomial QC</td></tr><tr><th>11</th><td>0.0113363</td><td>2</td><td>100</td><td>beta</td><td>Negative Binomial QC</td></tr><tr><th>12</th><td>0.011306</td><td>2</td><td>100</td><td>beta</td><td>Negative Binomial QC</td></tr><tr><th>13</th><td>0.0281781</td><td>2</td><td>100</td><td>beta</td><td>Negative Binomial QC</td></tr><tr><th>14</th><td>0.00206726</td><td>2</td><td>100</td><td>beta</td><td>Negative Binomial QC</td></tr><tr><th>15</th><td>0.00160818</td><td>2</td><td>100</td><td>beta</td><td>Negative Binomial QC</td></tr><tr><th>16</th><td>0.00171402</td><td>2</td><td>100</td><td>beta</td><td>Negative Binomial QC</td></tr><tr><th>17</th><td>0.00088856</td><td>2</td><td>100</td><td>beta</td><td>Negative Binomial QC</td></tr><tr><th>18</th><td>0.00122393</td><td>2</td><td>100</td><td>beta</td><td>Negative Binomial QC</td></tr><tr><th>19</th><td>0.00706033</td><td>2</td><td>100</td><td>beta</td><td>Negative Binomial QC</td></tr><tr><th>20</th><td>0.00641025</td><td>2</td><td>100</td><td>beta</td><td>Negative Binomial QC</td></tr><tr><th>21</th><td>0.00694325</td><td>2</td><td>100</td><td>beta</td><td>Negative Binomial QC</td></tr><tr><th>22</th><td>0.00616729</td><td>2</td><td>100</td><td>beta</td><td>Negative Binomial QC</td></tr><tr><th>23</th><td>0.00173426</td><td>2</td><td>100</td><td>beta</td><td>Negative Binomial QC</td></tr><tr><th>24</th><td>0.00279229</td><td>2</td><td>100</td><td>beta</td><td>Negative Binomial QC</td></tr><tr><th>25</th><td>0.0180585</td><td>2</td><td>100</td><td>beta</td><td>Negative Binomial QC</td></tr><tr><th>26</th><td>0.00367839</td><td>2</td><td>100</td><td>beta</td><td>Negative Binomial QC</td></tr><tr><th>27</th><td>0.00749081</td><td>2</td><td>100</td><td>beta</td><td>Negative Binomial QC</td></tr><tr><th>28</th><td>0.00472557</td><td>2</td><td>100</td><td>beta</td><td>Negative Binomial QC</td></tr><tr><th>29</th><td>0.0365596</td><td>2</td><td>100</td><td>beta</td><td>Negative Binomial QC</td></tr><tr><th>30</th><td>0.00817528</td><td>2</td><td>100</td><td>beta</td><td>Negative Binomial QC</td></tr><tr><th>&vellip;</th><td>&vellip;</td><td>&vellip;</td><td>&vellip;</td><td>&vellip;</td><td>&vellip;</td></tr></tbody></table></div>"
      ],
      "text/latex": [
       "\\begin{tabular}{r|ccccc}\n",
       "\t& mse & obssize & samplesize & parameters & robust\\\\\n",
       "\t\\hline\n",
       "\t& Float64 & String & String & String & String\\\\\n",
       "\t\\hline\n",
       "\t1 & 0.000907418 & 2 & 100 & beta & Negative Binomial QC \\\\\n",
       "\t2 & 0.00178982 & 2 & 100 & beta & Negative Binomial QC \\\\\n",
       "\t3 & 0.0074143 & 2 & 100 & beta & Negative Binomial QC \\\\\n",
       "\t4 & 0.0171706 & 2 & 100 & beta & Negative Binomial QC \\\\\n",
       "\t5 & 0.00147286 & 2 & 100 & beta & Negative Binomial QC \\\\\n",
       "\t6 & 0.0084763 & 2 & 100 & beta & Negative Binomial QC \\\\\n",
       "\t7 & 0.00263791 & 2 & 100 & beta & Negative Binomial QC \\\\\n",
       "\t8 & 0.00819091 & 2 & 100 & beta & Negative Binomial QC \\\\\n",
       "\t9 & 0.0133683 & 2 & 100 & beta & Negative Binomial QC \\\\\n",
       "\t10 & 0.00444029 & 2 & 100 & beta & Negative Binomial QC \\\\\n",
       "\t11 & 0.0113363 & 2 & 100 & beta & Negative Binomial QC \\\\\n",
       "\t12 & 0.011306 & 2 & 100 & beta & Negative Binomial QC \\\\\n",
       "\t13 & 0.0281781 & 2 & 100 & beta & Negative Binomial QC \\\\\n",
       "\t14 & 0.00206726 & 2 & 100 & beta & Negative Binomial QC \\\\\n",
       "\t15 & 0.00160818 & 2 & 100 & beta & Negative Binomial QC \\\\\n",
       "\t16 & 0.00171402 & 2 & 100 & beta & Negative Binomial QC \\\\\n",
       "\t17 & 0.00088856 & 2 & 100 & beta & Negative Binomial QC \\\\\n",
       "\t18 & 0.00122393 & 2 & 100 & beta & Negative Binomial QC \\\\\n",
       "\t19 & 0.00706033 & 2 & 100 & beta & Negative Binomial QC \\\\\n",
       "\t20 & 0.00641025 & 2 & 100 & beta & Negative Binomial QC \\\\\n",
       "\t21 & 0.00694325 & 2 & 100 & beta & Negative Binomial QC \\\\\n",
       "\t22 & 0.00616729 & 2 & 100 & beta & Negative Binomial QC \\\\\n",
       "\t23 & 0.00173426 & 2 & 100 & beta & Negative Binomial QC \\\\\n",
       "\t24 & 0.00279229 & 2 & 100 & beta & Negative Binomial QC \\\\\n",
       "\t25 & 0.0180585 & 2 & 100 & beta & Negative Binomial QC \\\\\n",
       "\t26 & 0.00367839 & 2 & 100 & beta & Negative Binomial QC \\\\\n",
       "\t27 & 0.00749081 & 2 & 100 & beta & Negative Binomial QC \\\\\n",
       "\t28 & 0.00472557 & 2 & 100 & beta & Negative Binomial QC \\\\\n",
       "\t29 & 0.0365596 & 2 & 100 & beta & Negative Binomial QC \\\\\n",
       "\t30 & 0.00817528 & 2 & 100 & beta & Negative Binomial QC \\\\\n",
       "\t$\\dots$ & $\\dots$ & $\\dots$ & $\\dots$ & $\\dots$ & $\\dots$ \\\\\n",
       "\\end{tabular}\n"
      ],
      "text/plain": [
       "\u001b[1m10768×5 DataFrame\u001b[0m\n",
       "\u001b[1m   Row \u001b[0m│\u001b[1m mse          \u001b[0m\u001b[1m obssize \u001b[0m\u001b[1m samplesize \u001b[0m\u001b[1m parameters \u001b[0m\u001b[1m robust                \u001b[0m ⋯\n",
       "\u001b[1m       \u001b[0m│\u001b[90m Float64      \u001b[0m\u001b[90m String  \u001b[0m\u001b[90m String     \u001b[0m\u001b[90m String     \u001b[0m\u001b[90m String                \u001b[0m ⋯\n",
       "───────┼────────────────────────────────────────────────────────────────────────\n",
       "     1 │  0.000907418  2        100         beta        Negative Binomial QC   ⋯\n",
       "     2 │  0.00178982   2        100         beta        Negative Binomial QC\n",
       "     3 │  0.0074143    2        100         beta        Negative Binomial QC\n",
       "     4 │  0.0171706    2        100         beta        Negative Binomial QC\n",
       "     5 │  0.00147286   2        100         beta        Negative Binomial QC   ⋯\n",
       "     6 │  0.0084763    2        100         beta        Negative Binomial QC\n",
       "     7 │  0.00263791   2        100         beta        Negative Binomial QC\n",
       "     8 │  0.00819091   2        100         beta        Negative Binomial QC\n",
       "     9 │  0.0133683    2        100         beta        Negative Binomial QC   ⋯\n",
       "    10 │  0.00444029   2        100         beta        Negative Binomial QC\n",
       "    11 │  0.0113363    2        100         beta        Negative Binomial QC\n",
       "   ⋮   │      ⋮           ⋮         ⋮           ⋮                 ⋮            ⋱\n",
       " 10759 │ 80.7737       25       10000       r           Negative Binomial GLMM\n",
       " 10760 │ 80.7938       25       10000       r           Negative Binomial GLMM ⋯\n",
       " 10761 │ 80.7478       25       10000       r           Negative Binomial GLMM\n",
       " 10762 │ 80.9127       25       10000       r           Negative Binomial GLMM\n",
       " 10763 │ 80.8849       25       10000       r           Negative Binomial GLMM\n",
       " 10764 │ 80.7821       25       10000       r           Negative Binomial GLMM ⋯\n",
       " 10765 │ 80.7287       25       10000       r           Negative Binomial GLMM\n",
       " 10766 │ 80.8219       25       10000       r           Negative Binomial GLMM\n",
       " 10767 │ 80.7481       25       10000       r           Negative Binomial GLMM\n",
       " 10768 │ 80.7991       25       10000       r           Negative Binomial GLMM ⋯\n",
       "\u001b[36m                                                             10747 rows omitted\u001b[0m"
      ]
     },
     "execution_count": 9,
     "metadata": {},
     "output_type": "execute_result"
    }
   ],
   "source": [
    "#### \n",
    "#import data and reorganize to create figure\n",
    "using Random, DataFrames, DelimitedFiles, Statistics, RCall, Printf\n",
    "import StatsBase: sem\n",
    "\n",
    "βMseresult = vec(readdlm(\"mse_beta_multivariate_NB_vcm$(nsims)reps_sim.csv\", ','))\n",
    "θMseresult = vec(readdlm(\"mse_theta_multivariate_NB_vcm$(nsims)reps_sim.csv\", ','))\n",
    "rMseresult =  vec(readdlm(\"mse_r_multivariate_NB_vcm$(nsims)reps_sim.csv\", ','))\n",
    "\n",
    "βMseresult_GLMM = vec(readdlm(\"mse_beta_GLMM_multivariate_NB_vcm$(nsims)reps_sim.csv\", ','))\n",
    "θMseresult_GLMM = vec(readdlm(\"mse_theta_GLMM_multivariate_NB_vcm$(nsims)reps_sim.csv\", ','))\n",
    "rMseresult_GLMM =  vec(readdlm(\"mse_r_GLMMmultivariate_NB_vcm$(nsims)reps_sim.csv\", ','))\n",
    "\n",
    "\n",
    "p = 3; m = 1\n",
    "sample_sizes = repeat(string.(samplesizes), inner = nsims * length(ns))\n",
    "obs_sizes = repeat(string.(ns), inner = nsims, outer = length(samplesizes))\n",
    "msedf1 = DataFrame(βmse = βMseresult, thetamse = θMseresult, rmse = rMseresult,\n",
    "    samplesize = sample_sizes, obssize = obs_sizes)\n",
    "\n",
    "msedf2 = DataFrame(βmse = βMseresult_GLMM, thetamse = θMseresult_GLMM, rmse = rMseresult_GLMM,\n",
    "    samplesize = sample_sizes, obssize = obs_sizes)\n",
    "\n",
    "#rename to make parsing easier for R.\n",
    "\n",
    "msedf1 = deepcopy(msedf1)\n",
    "rename!(msedf1, [\"betamse\"\n",
    "    \"thetamse\"\n",
    "        \"rmse\"\n",
    "    \"samplesize\"\n",
    " \"obssize\"]);\n",
    "\n",
    "msedf2 = deepcopy(msedf2)\n",
    "rename!(msedf2, [\"betamse\"\n",
    "    \"thetamse\"\n",
    "        \"rmse\"\n",
    "    \"samplesize\"\n",
    " \"obssize\"]);\n",
    "\n",
    "mses = [msedf1[!, :betamse]; msedf1[!, :thetamse];msedf1[!, :rmse]; msedf2[!, :betamse]; msedf2[!, :thetamse]; msedf2[!, :rmse]]\n",
    "    # msedfnormR[!, :betamse]; msedfnormR[!, :taumse]; msedfnormR[!, :Sigmamse]]\n",
    "obssize = [collect([repeat(msedf1[!, :obssize], 3)]...) ; collect([repeat(msedf2[!, :obssize], 3)]...)]\n",
    "#40\n",
    "samplesize = [collect([repeat(msedf1[!, :samplesize], 3)]...) ; collect([repeat(msedf2[!, :samplesize], 3)]...)]\n",
    "\n",
    "parameters = [collect([repeat(string.([:beta, :theta, :r]), inner = nsims * length(ns) * length(samplesizes))]...) ; collect([repeat(string.([:beta, :theta, :r]), inner = nsims * length(ns) * length(samplesizes))]...)]\n",
    "robust = [collect([repeat([\"Negative Binomial QC\"], 3 * nsims * length(ns) * length(samplesizes))]...); collect([repeat([\"Negative Binomial GLMM\"],  3 * nsims * length(ns) * length(samplesizes))]...)]\n",
    "\n",
    "msedfR = DataFrame(mse = mses, obssize = obssize, samplesize = samplesize,\n",
    "    parameters = parameters, robust = robust)\n",
    "\n",
    "#5 of the 30,000 simulations did not converge, filter out\n",
    "msedfR = filter(x -> !isnan(x.mse), msedfR)\n",
    "# additionally, there are 5 where an error was not caught so it did not try a differnt solver\n",
    "msedfR = filter(x -> x.mse < 40000, msedfR)"
   ]
  },
  {
   "cell_type": "code",
   "execution_count": 10,
   "metadata": {},
   "outputs": [
    {
     "name": "stderr",
     "output_type": "stream",
     "text": [
      "┌ Warning: RCall.jl: Warning: package ‘scales’ was built under R version 4.0.2\n",
      "└ @ RCall /Users/sarahji/.julia/packages/RCall/6kphM/src/io.jl:172\n",
      "┌ Warning: RCall.jl: Warning: package ‘ggplot2’ was built under R version 4.0.2\n",
      "└ @ RCall /Users/sarahji/.julia/packages/RCall/6kphM/src/io.jl:172\n",
      "┌ Warning: RCall.jl: Warning: package ‘data.table’ was built under R version 4.0.2\n",
      "└ @ RCall /Users/sarahji/.julia/packages/RCall/6kphM/src/io.jl:172\n"
     ]
    },
    {
     "data": {
      "image/png": "[encoded data removed]"
     },
     "metadata": {},
     "output_type": "display_data"
    },
    {
     "data": {
      "text/plain": [
       "RObject{VecSxp}\n"
      ]
     },
     "execution_count": 10,
     "metadata": {},
     "output_type": "execute_result"
    }
   ],
   "source": [
    "### working on figure next\n",
    "@rput msedfR\n",
    "\n",
    "R\"\"\"\n",
    "library(scales)\n",
    "library(ggplot2)\n",
    "library(data.table)\n",
    "\n",
    "msedfR = data.table(msedfR)\n",
    "\n",
    "msedfR[parameters == \"beta\",y_min := 10^-4]\n",
    "msedfR[parameters == \"beta\",y_max := 10^0]\n",
    "msedfR[parameters == \"theta\",y_min := 10^-4]\n",
    "msedfR[parameters == \"theta\",y_max := 10^1]\n",
    "msedfR[parameters == \"r\", y_min := 10^-3]\n",
    "msedfR[parameters == \"r\", y_max := 10^3]\n",
    "\n",
    "#msedfR[parameters == \"beta\",y_min := 10^-8]\n",
    "#msedfR[parameters == \"beta\",y_max := 10^-2]\n",
    "#msedfR[parameters == \"tau\",y_min := 10^-8]\n",
    "#msedfR[parameters == \"tau\",y_max := 10^-2]\n",
    "#msedfR[parameters == \"Sigma\",y_min := 10^-5]\n",
    "#msedfR[parameters == \"Sigma\",y_max := 10^-2]\n",
    "\n",
    "\n",
    "msedfR$obssize = factor(msedfR$obssize, levels = c('2', '5', '10', '15', '20', '25'))\n",
    "msedfR$samplesize = factor(msedfR$samplesize, levels = c('100', '1000', '10000'))\n",
    "msedfR$parameters = factor(msedfR$parameters, levels = c('beta', 'theta', 'r'), labels = c(beta = expression(hat(bold(beta))), theta = expression(hat(bold(theta))[]), r = expression(hat(bold(r))[])))\n",
    "msedfR$robust <- factor(msedfR$robust, levels = c('Negative Binomial QC', 'Negative Binomial GLMM'),\n",
    "    labels = c(expression(paste(\"Negative Binomial QC\")), expression(paste(\"Negative Binomial GLMM\"))))\n",
    "\n",
    "#mseplot <- ggplot(msedfR[msedfR$mse < 10^0, ], aes(x=samplesize, y=mse, fill=obssize)) + \n",
    "mseplot = ggplot(msedfR[msedfR$mse < 10^3, ], aes(x=samplesize, y=mse, fill=obssize)) + \n",
    "  #geom_boxplot(outlier.size = 0.0, outlier.alpha = 0) +\n",
    "  geom_boxplot(outlier.size = 0.25) +\n",
    "#    geom_violin() +\n",
    "    facet_grid(parameters ~ robust, labeller = label_parsed, scales = \"free_y\") +\n",
    "  theme(legend.position=\"right\", legend.key = element_blank(), axis.text.x = element_text(angle=0, size=30),\n",
    "        axis.text.y = element_text(angle=0, size=30), axis.title.x = element_text(size = 30, face=\"bold\"), \n",
    "        axis.title.y = element_text(size = 40, face=\"bold\"), legend.title = element_text(size = 30, face=\"bold\"),\n",
    "        panel.grid.major = element_blank(), panel.grid.minor = element_blank(),\n",
    "        legend.text=element_text(size=30), panel.background = element_rect(fill = NA, color = \"black\"),\n",
    "        #panel.background = element_blank(), #panel.border = element_blank(),\n",
    "        axis.line = element_line(color = 'black',size=0.3), plot.title = element_text(hjust = 0.5),\n",
    "        strip.background = element_rect(colour=\"black\", fill=\"white\"), strip.text.y = element_text(angle = 0, size=75, face=\"bold\"),\n",
    "        strip.text.x = element_text(size=25)) + \n",
    "  scale_fill_manual(values = c(\"#c85f55\",\n",
    "\"#a964bf\",\n",
    "\"#8db352\",\n",
    "\"#fa7300\",\n",
    "\"#05aec0\",\n",
    "\"#ff1493\")) +\n",
    "#scale_y_log10(breaks = scales::trans_breaks(\"log10\", function(x) 10^x)) +\n",
    "#scale_y_log10(breaks = 10^(-8:8), limit=c(10^-8, 10^2)) + \n",
    "scale_y_log10(breaks = 10^seq(-10, 10, 2), labels=trans_format(\"log10\", math_format(10^.x))) + #, limit=c(10^-8, 10^2)) +\n",
    "  labs(x = \"Sample Size\", y = \"MSE of Parameter Estimates\", fill = \"Cluster Size\") +\n",
    "geom_blank(aes(y = y_max)) + \n",
    "geom_blank(aes(y = y_min)) \n",
    "\"\"\""
   ]
  },
  {
   "cell_type": "code",
   "execution_count": 11,
   "metadata": {},
   "outputs": [
    {
     "data": {
      "text/plain": [
       "RObject{StrSxp}\n",
       "[1] \"updated_msefacetplot_nb_sim2_1.png\"\n"
      ]
     },
     "execution_count": 11,
     "metadata": {},
     "output_type": "execute_result"
    }
   ],
   "source": [
    "R\"\"\"\n",
    "    ggsave('updated_msefacetplot_nb_sim2_1.png', mseplot, width = 20, height = 15, units = 'in', dpi = 450)\n",
    "\"\"\""
   ]
  }
 ],
 "metadata": {
  "@webio": {
   "lastCommId": null,
   "lastKernelId": null
  },
  "kernelspec": {
   "display_name": "Julia 1.6.2",
   "language": "julia",
   "name": "julia-1.6"
  },
  "language_info": {
   "file_extension": ".jl",
   "mimetype": "application/julia",
   "name": "julia",
   "version": "1.6.2"
  }
 },
 "nbformat": 4,
 "nbformat_minor": 2
}
