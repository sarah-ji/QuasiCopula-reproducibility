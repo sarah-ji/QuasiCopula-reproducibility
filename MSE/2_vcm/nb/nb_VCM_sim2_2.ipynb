{
 "cells": [
  {
   "cell_type": "markdown",
   "metadata": {},
   "source": [
    "## Negative Binomial VCM Results \n",
    "\n",
    "This notebook goes over the code needed to reproduce the results from the MSE and time figures for the Negative Binomial base distribution with Log Link and covariance matrix $\\Gamma$ structured under variance component model framework as follows:\n",
    "\n",
    "$$\n",
    "\\Gamma = 0.05 * \\mathbf{1_{n} 1_{n}^\\top}\n",
    "$$\n",
    "\n",
    "In this example simulate three fixed effects under GLMM with $\\beta \\sim$ randn(Uniform(-0.2, 0.2), p) where p = 3 fixed effects.\n",
    "\n",
    "We use multi-threading on 8 threads to obtain these MSE results on the following machine, and include MSE results from 100 simulation runs comparing the fit of ours with that of the random intercept Negative Binomial GLMM from MixedModels.jl for each scenario."
   ]
  },
  {
   "cell_type": "code",
   "execution_count": 1,
   "metadata": {},
   "outputs": [
    {
     "name": "stdout",
     "output_type": "stream",
     "text": [
      "Julia Version 1.6.2\n",
      "Commit 1b93d53fc4 (2021-07-14 15:36 UTC)\n",
      "Platform Info:\n",
      "  OS: macOS (x86_64-apple-darwin18.7.0)\n",
      "  CPU: Intel(R) Core(TM) i9-9880H CPU @ 2.30GHz\n",
      "  WORD_SIZE: 64\n",
      "  LIBM: libopenlibm\n",
      "  LLVM: libLLVM-11.0.1 (ORCJIT, skylake)\n"
     ]
    }
   ],
   "source": [
    "versioninfo()"
   ]
  },
  {
   "cell_type": "code",
   "execution_count": 2,
   "metadata": {},
   "outputs": [],
   "source": [
    "using QuasiCopula, DelimitedFiles, LinearAlgebra, Random, GLM\n",
    "using DataFrames"
   ]
  },
  {
   "cell_type": "code",
   "execution_count": 3,
   "metadata": {},
   "outputs": [],
   "source": [
    "p  = 3    # number of fixed effects, including intercept\n",
    "m  = 1    # number of variance components\n",
    "# true parameter values\n",
    "Random.seed!(12345)\n",
    "βtrue = rand(Uniform(-0.2, 0.2), p)\n",
    "rtrue = 10.0\n",
    "θtrue = [0.05]\n",
    "\n",
    "# generate data\n",
    "intervals = zeros(p + m, 2) #hold intervals\n",
    "curcoverage = zeros(p + m) #hold current coverage resutls\n",
    "trueparams = [βtrue; rtrue; θtrue] #hold true parameters\n",
    "\n",
    "#simulation parameters\n",
    "samplesizes = [100; 1000; 10000]\n",
    "ns = [2; 5; 10; 15; 20; 25]\n",
    "nsims = 100;"
   ]
  },
  {
   "cell_type": "code",
   "execution_count": 4,
   "metadata": {},
   "outputs": [
    {
     "name": "stderr",
     "output_type": "stream",
     "text": [
      "┌ Info: reading in the files with results\n",
      "└ @ Main In[4]:1\n"
     ]
    },
    {
     "data": {
      "text/plain": [
       "1800-element Vector{Float64}:\n",
       " 0.0458162\n",
       " 0.050289749\n",
       " 0.204372148\n",
       " 0.054904663\n",
       " 0.10629473\n",
       " 0.042852414\n",
       " 0.212318977\n",
       " 0.045954639\n",
       " 0.191875833\n",
       " 0.046228216\n",
       " 0.082955919\n",
       " 0.412194675\n",
       " 0.209683612\n",
       " ⋮\n",
       " 5.082000515\n",
       " 5.213866893\n",
       " 5.201846691\n",
       " 4.85651659\n",
       " 5.043499757\n",
       " 5.116178941\n",
       " 4.862799019\n",
       " 4.986124308\n",
       " 5.047558009\n",
       " 5.103483145\n",
       " 5.165469541\n",
       " 4.987871495"
      ]
     },
     "execution_count": 4,
     "metadata": {},
     "output_type": "execute_result"
    }
   ],
   "source": [
    "@info \"reading in the files with results\"\n",
    "βMseresult = vec(readdlm(\"mse_beta_multivariate_nb_vcm$(nsims)reps_sim.csv\", ','))\n",
    "θMseresult = vec(readdlm(\"mse_theta_multivariate_nb_vcm$(nsims)reps_sim.csv\", ','))\n",
    "fittimes_QC = vec(readdlm(\"fittimes_multivariate_nb_vcm$(nsims)reps_sim.csv\", ','))"
   ]
  },
  {
   "cell_type": "code",
   "execution_count": 5,
   "metadata": {},
   "outputs": [
    {
     "data": {
      "text/plain": [
       "1800-element Vector{Float64}:\n",
       "  0.290482098\n",
       "  0.039658026\n",
       "  0.021330082\n",
       "  0.015607854\n",
       "  0.051099804\n",
       "  0.018967387\n",
       "  0.031407641\n",
       "  0.0237259\n",
       "  0.016517548\n",
       "  0.018752261\n",
       "  0.020216986\n",
       "  0.044957504\n",
       "  0.039560362\n",
       "  ⋮\n",
       " 71.125957809\n",
       " 63.378958564\n",
       " 75.153761393\n",
       " 70.398250421\n",
       " 64.723954553\n",
       " 64.86490226\n",
       " 86.256458933\n",
       " 72.974641333\n",
       " 64.952463389\n",
       " 56.782739164\n",
       " 40.398571212\n",
       " 70.449287663"
      ]
     },
     "execution_count": 5,
     "metadata": {},
     "output_type": "execute_result"
    }
   ],
   "source": [
    "fittimes_GLMM = vec(readdlm(\"fittimes_GLMM_multivariate_NB_vcm$(nsims)reps_sim.csv\", ','))"
   ]
  },
  {
   "cell_type": "code",
   "execution_count": 6,
   "metadata": {},
   "outputs": [
    {
     "name": "stderr",
     "output_type": "stream",
     "text": [
      "┌ Info: making results table Quasi-Copula\n",
      "└ @ Main In[6]:2\n"
     ]
    },
    {
     "data": {
      "text/html": [
       "<div class=\"data-frame\"><p>18 rows × 8 columns</p><table class=\"data-frame\"><thead><tr><th></th><th>samplesize</th><th>obssize</th><th>fittime</th><th>se</th><th>nobs</th><th>fitmin</th><th>fitmax</th><th>perobsratio</th></tr><tr><th></th><th title=\"String\">String</th><th title=\"String\">String</th><th title=\"Float64\">Float64</th><th title=\"Float64\">Float64</th><th title=\"Int64\">Int64</th><th title=\"Float64\">Float64</th><th title=\"Float64\">Float64</th><th title=\"Float64\">Float64</th></tr></thead><tbody><tr><th>1</th><td>100</td><td>2</td><td>0.138149</td><td>0.00901575</td><td>200</td><td>0.129134</td><td>0.147165</td><td>0.000690746</td></tr><tr><th>2</th><td>100</td><td>5</td><td>0.139663</td><td>0.00526011</td><td>500</td><td>0.134403</td><td>0.144924</td><td>0.000279327</td></tr><tr><th>3</th><td>100</td><td>10</td><td>0.148849</td><td>0.00278083</td><td>1000</td><td>0.146068</td><td>0.151629</td><td>0.000148849</td></tr><tr><th>4</th><td>100</td><td>15</td><td>0.161865</td><td>0.00352329</td><td>1500</td><td>0.158341</td><td>0.165388</td><td>0.00010791</td></tr><tr><th>5</th><td>100</td><td>20</td><td>0.155352</td><td>0.00297448</td><td>2000</td><td>0.152377</td><td>0.158326</td><td>7.7676e-5</td></tr><tr><th>6</th><td>100</td><td>25</td><td>0.161533</td><td>0.001849</td><td>2500</td><td>0.159684</td><td>0.163382</td><td>6.46134e-5</td></tr><tr><th>7</th><td>1000</td><td>2</td><td>0.25038</td><td>0.00869233</td><td>2000</td><td>0.241688</td><td>0.259073</td><td>0.00012519</td></tr><tr><th>8</th><td>1000</td><td>5</td><td>0.253009</td><td>0.00274294</td><td>5000</td><td>0.250266</td><td>0.255751</td><td>5.06017e-5</td></tr><tr><th>9</th><td>1000</td><td>10</td><td>0.343205</td><td>0.00188399</td><td>10000</td><td>0.341321</td><td>0.345089</td><td>3.43205e-5</td></tr><tr><th>10</th><td>1000</td><td>15</td><td>0.415042</td><td>0.00380725</td><td>15000</td><td>0.411235</td><td>0.418849</td><td>2.76695e-5</td></tr><tr><th>11</th><td>1000</td><td>20</td><td>0.444586</td><td>0.00191386</td><td>20000</td><td>0.442672</td><td>0.4465</td><td>2.22293e-5</td></tr><tr><th>12</th><td>1000</td><td>25</td><td>0.548198</td><td>0.00228536</td><td>25000</td><td>0.545913</td><td>0.550484</td><td>2.19279e-5</td></tr><tr><th>13</th><td>10000</td><td>2</td><td>1.92173</td><td>0.0173107</td><td>20000</td><td>1.90442</td><td>1.93904</td><td>9.60865e-5</td></tr><tr><th>14</th><td>10000</td><td>5</td><td>1.95226</td><td>0.00724603</td><td>50000</td><td>1.94502</td><td>1.95951</td><td>3.90452e-5</td></tr><tr><th>15</th><td>10000</td><td>10</td><td>3.1367</td><td>0.00817293</td><td>100000</td><td>3.12853</td><td>3.14488</td><td>3.1367e-5</td></tr><tr><th>16</th><td>10000</td><td>15</td><td>4.04876</td><td>0.0108097</td><td>150000</td><td>4.03795</td><td>4.05957</td><td>2.69917e-5</td></tr><tr><th>17</th><td>10000</td><td>20</td><td>4.09909</td><td>0.00870865</td><td>200000</td><td>4.09038</td><td>4.1078</td><td>2.04955e-5</td></tr><tr><th>18</th><td>10000</td><td>25</td><td>5.19728</td><td>0.0119509</td><td>250000</td><td>5.18533</td><td>5.20923</td><td>2.07891e-5</td></tr></tbody></table></div>"
      ],
      "text/latex": [
       "\\begin{tabular}{r|cccccccc}\n",
       "\t& samplesize & obssize & fittime & se & nobs & fitmin & fitmax & perobsratio\\\\\n",
       "\t\\hline\n",
       "\t& String & String & Float64 & Float64 & Int64 & Float64 & Float64 & Float64\\\\\n",
       "\t\\hline\n",
       "\t1 & 100 & 2 & 0.138149 & 0.00901575 & 200 & 0.129134 & 0.147165 & 0.000690746 \\\\\n",
       "\t2 & 100 & 5 & 0.139663 & 0.00526011 & 500 & 0.134403 & 0.144924 & 0.000279327 \\\\\n",
       "\t3 & 100 & 10 & 0.148849 & 0.00278083 & 1000 & 0.146068 & 0.151629 & 0.000148849 \\\\\n",
       "\t4 & 100 & 15 & 0.161865 & 0.00352329 & 1500 & 0.158341 & 0.165388 & 0.00010791 \\\\\n",
       "\t5 & 100 & 20 & 0.155352 & 0.00297448 & 2000 & 0.152377 & 0.158326 & 7.7676e-5 \\\\\n",
       "\t6 & 100 & 25 & 0.161533 & 0.001849 & 2500 & 0.159684 & 0.163382 & 6.46134e-5 \\\\\n",
       "\t7 & 1000 & 2 & 0.25038 & 0.00869233 & 2000 & 0.241688 & 0.259073 & 0.00012519 \\\\\n",
       "\t8 & 1000 & 5 & 0.253009 & 0.00274294 & 5000 & 0.250266 & 0.255751 & 5.06017e-5 \\\\\n",
       "\t9 & 1000 & 10 & 0.343205 & 0.00188399 & 10000 & 0.341321 & 0.345089 & 3.43205e-5 \\\\\n",
       "\t10 & 1000 & 15 & 0.415042 & 0.00380725 & 15000 & 0.411235 & 0.418849 & 2.76695e-5 \\\\\n",
       "\t11 & 1000 & 20 & 0.444586 & 0.00191386 & 20000 & 0.442672 & 0.4465 & 2.22293e-5 \\\\\n",
       "\t12 & 1000 & 25 & 0.548198 & 0.00228536 & 25000 & 0.545913 & 0.550484 & 2.19279e-5 \\\\\n",
       "\t13 & 10000 & 2 & 1.92173 & 0.0173107 & 20000 & 1.90442 & 1.93904 & 9.60865e-5 \\\\\n",
       "\t14 & 10000 & 5 & 1.95226 & 0.00724603 & 50000 & 1.94502 & 1.95951 & 3.90452e-5 \\\\\n",
       "\t15 & 10000 & 10 & 3.1367 & 0.00817293 & 100000 & 3.12853 & 3.14488 & 3.1367e-5 \\\\\n",
       "\t16 & 10000 & 15 & 4.04876 & 0.0108097 & 150000 & 4.03795 & 4.05957 & 2.69917e-5 \\\\\n",
       "\t17 & 10000 & 20 & 4.09909 & 0.00870865 & 200000 & 4.09038 & 4.1078 & 2.04955e-5 \\\\\n",
       "\t18 & 10000 & 25 & 5.19728 & 0.0119509 & 250000 & 5.18533 & 5.20923 & 2.07891e-5 \\\\\n",
       "\\end{tabular}\n"
      ],
      "text/plain": [
       "\u001b[1m18×8 DataFrame\u001b[0m\n",
       "\u001b[1m Row \u001b[0m│\u001b[1m samplesize \u001b[0m\u001b[1m obssize \u001b[0m\u001b[1m fittime  \u001b[0m\u001b[1m se         \u001b[0m\u001b[1m nobs   \u001b[0m\u001b[1m fitmin   \u001b[0m\u001b[1m fitmax   \u001b[0m\u001b[1m \u001b[0m ⋯\n",
       "\u001b[1m     \u001b[0m│\u001b[90m String     \u001b[0m\u001b[90m String  \u001b[0m\u001b[90m Float64  \u001b[0m\u001b[90m Float64    \u001b[0m\u001b[90m Int64  \u001b[0m\u001b[90m Float64  \u001b[0m\u001b[90m Float64  \u001b[0m\u001b[90m \u001b[0m ⋯\n",
       "─────┼──────────────────────────────────────────────────────────────────────────\n",
       "   1 │ 100         2        0.138149  0.00901575     200  0.129134  0.147165   ⋯\n",
       "   2 │ 100         5        0.139663  0.00526011     500  0.134403  0.144924\n",
       "   3 │ 100         10       0.148849  0.00278083    1000  0.146068  0.151629\n",
       "   4 │ 100         15       0.161865  0.00352329    1500  0.158341  0.165388\n",
       "   5 │ 100         20       0.155352  0.00297448    2000  0.152377  0.158326   ⋯\n",
       "   6 │ 100         25       0.161533  0.001849      2500  0.159684  0.163382\n",
       "   7 │ 1000        2        0.25038   0.00869233    2000  0.241688  0.259073\n",
       "   8 │ 1000        5        0.253009  0.00274294    5000  0.250266  0.255751\n",
       "   9 │ 1000        10       0.343205  0.00188399   10000  0.341321  0.345089   ⋯\n",
       "  10 │ 1000        15       0.415042  0.00380725   15000  0.411235  0.418849\n",
       "  11 │ 1000        20       0.444586  0.00191386   20000  0.442672  0.4465\n",
       "  12 │ 1000        25       0.548198  0.00228536   25000  0.545913  0.550484\n",
       "  13 │ 10000       2        1.92173   0.0173107    20000  1.90442   1.93904    ⋯\n",
       "  14 │ 10000       5        1.95226   0.00724603   50000  1.94502   1.95951\n",
       "  15 │ 10000       10       3.1367    0.00817293  100000  3.12853   3.14488\n",
       "  16 │ 10000       15       4.04876   0.0108097   150000  4.03795   4.05957\n",
       "  17 │ 10000       20       4.09909   0.00870865  200000  4.09038   4.1078     ⋯\n",
       "  18 │ 10000       25       5.19728   0.0119509   250000  5.18533   5.20923\n",
       "\u001b[36m                                                                1 column omitted\u001b[0m"
      ]
     },
     "execution_count": 6,
     "metadata": {},
     "output_type": "execute_result"
    }
   ],
   "source": [
    "#simulation parameters\n",
    "@info \"making results table Quasi-Copula\"\n",
    "sample_sizes = repeat(string.(samplesizes), inner = nsims * length(ns))\n",
    "obs_sizes = repeat(string.(ns), inner = nsims, outer = length(samplesizes))\n",
    "\n",
    "msedf = DataFrame(samplesize = sample_sizes, obssize = obs_sizes, fittimes = fittimes_QC)\n",
    "timedf1 = combine(groupby(msedf, [:samplesize, :obssize]), :fittimes => mean => :fittime,\n",
    "    :fittimes => x -> (std(x)/sqrt(length(x))))\n",
    "rename!(timedf1, Dict(:fittimes_function => \"se\"))\n",
    "timedf1[!, :nobs] = Meta.parse.(timedf1[!, :samplesize]) .* Meta.parse.(timedf1[!, :obssize])\n",
    "timedf1[!, :fitmin] = timedf1[!, :fittime] - timedf1[!, :se]\n",
    "timedf1[!, :fitmax] = timedf1[!, :fittime] + timedf1[!, :se]\n",
    "timedf1[!, :perobsratio] = timedf1[!, :fittime] ./ timedf1[!, :nobs]\n",
    "timedf1"
   ]
  },
  {
   "cell_type": "code",
   "execution_count": 7,
   "metadata": {},
   "outputs": [
    {
     "name": "stderr",
     "output_type": "stream",
     "text": [
      "┌ Info: making results table GLMM\n",
      "└ @ Main In[7]:2\n"
     ]
    },
    {
     "data": {
      "text/html": [
       "<div class=\"data-frame\"><p>18 rows × 8 columns</p><table class=\"data-frame\"><thead><tr><th></th><th>samplesize</th><th>obssize</th><th>fittime</th><th>se</th><th>nobs</th><th>fitmin</th><th>fitmax</th><th>perobsratio</th></tr><tr><th></th><th title=\"String\">String</th><th title=\"String\">String</th><th title=\"Float64\">Float64</th><th title=\"Float64\">Float64</th><th title=\"Int64\">Int64</th><th title=\"Float64\">Float64</th><th title=\"Float64\">Float64</th><th title=\"Float64\">Float64</th></tr></thead><tbody><tr><th>1</th><td>100</td><td>2</td><td>0.0445738</td><td>0.00359513</td><td>200</td><td>0.0409787</td><td>0.0481689</td><td>0.000222869</td></tr><tr><th>2</th><td>100</td><td>5</td><td>0.107814</td><td>0.00524513</td><td>500</td><td>0.102569</td><td>0.113059</td><td>0.000215628</td></tr><tr><th>3</th><td>100</td><td>10</td><td>0.235405</td><td>0.00855296</td><td>1000</td><td>0.226852</td><td>0.243958</td><td>0.000235405</td></tr><tr><th>4</th><td>100</td><td>15</td><td>0.368081</td><td>0.0175987</td><td>1500</td><td>0.350482</td><td>0.38568</td><td>0.000245387</td></tr><tr><th>5</th><td>100</td><td>20</td><td>0.440822</td><td>0.0147078</td><td>2000</td><td>0.426114</td><td>0.455529</td><td>0.000220411</td></tr><tr><th>6</th><td>100</td><td>25</td><td>0.540113</td><td>0.0186364</td><td>2500</td><td>0.521476</td><td>0.558749</td><td>0.000216045</td></tr><tr><th>7</th><td>1000</td><td>2</td><td>0.454543</td><td>0.0212308</td><td>2000</td><td>0.433313</td><td>0.475774</td><td>0.000227272</td></tr><tr><th>8</th><td>1000</td><td>5</td><td>1.01404</td><td>0.0206866</td><td>5000</td><td>0.993351</td><td>1.03472</td><td>0.000202807</td></tr><tr><th>9</th><td>1000</td><td>10</td><td>2.21386</td><td>0.0600168</td><td>10000</td><td>2.15384</td><td>2.27387</td><td>0.000221386</td></tr><tr><th>10</th><td>1000</td><td>15</td><td>3.21995</td><td>0.0506903</td><td>15000</td><td>3.16926</td><td>3.27064</td><td>0.000214663</td></tr><tr><th>11</th><td>1000</td><td>20</td><td>4.25524</td><td>0.0823902</td><td>20000</td><td>4.17285</td><td>4.33763</td><td>0.000212762</td></tr><tr><th>12</th><td>1000</td><td>25</td><td>4.80455</td><td>0.0786153</td><td>25000</td><td>4.72593</td><td>4.88316</td><td>0.000192182</td></tr><tr><th>13</th><td>10000</td><td>2</td><td>4.05757</td><td>0.126512</td><td>20000</td><td>3.93106</td><td>4.18408</td><td>0.000202878</td></tr><tr><th>14</th><td>10000</td><td>5</td><td>30.9444</td><td>0.574997</td><td>50000</td><td>30.3694</td><td>31.5194</td><td>0.000618888</td></tr><tr><th>15</th><td>10000</td><td>10</td><td>72.0534</td><td>1.30109</td><td>100000</td><td>70.7523</td><td>73.3545</td><td>0.000720534</td></tr><tr><th>16</th><td>10000</td><td>15</td><td>112.779</td><td>1.9994</td><td>150000</td><td>110.779</td><td>114.778</td><td>0.000751858</td></tr><tr><th>17</th><td>10000</td><td>20</td><td>69.6343</td><td>3.07164</td><td>200000</td><td>66.5627</td><td>72.706</td><td>0.000348172</td></tr><tr><th>18</th><td>10000</td><td>25</td><td>67.2699</td><td>1.06845</td><td>250000</td><td>66.2015</td><td>68.3384</td><td>0.00026908</td></tr></tbody></table></div>"
      ],
      "text/latex": [
       "\\begin{tabular}{r|cccccccc}\n",
       "\t& samplesize & obssize & fittime & se & nobs & fitmin & fitmax & perobsratio\\\\\n",
       "\t\\hline\n",
       "\t& String & String & Float64 & Float64 & Int64 & Float64 & Float64 & Float64\\\\\n",
       "\t\\hline\n",
       "\t1 & 100 & 2 & 0.0445738 & 0.00359513 & 200 & 0.0409787 & 0.0481689 & 0.000222869 \\\\\n",
       "\t2 & 100 & 5 & 0.107814 & 0.00524513 & 500 & 0.102569 & 0.113059 & 0.000215628 \\\\\n",
       "\t3 & 100 & 10 & 0.235405 & 0.00855296 & 1000 & 0.226852 & 0.243958 & 0.000235405 \\\\\n",
       "\t4 & 100 & 15 & 0.368081 & 0.0175987 & 1500 & 0.350482 & 0.38568 & 0.000245387 \\\\\n",
       "\t5 & 100 & 20 & 0.440822 & 0.0147078 & 2000 & 0.426114 & 0.455529 & 0.000220411 \\\\\n",
       "\t6 & 100 & 25 & 0.540113 & 0.0186364 & 2500 & 0.521476 & 0.558749 & 0.000216045 \\\\\n",
       "\t7 & 1000 & 2 & 0.454543 & 0.0212308 & 2000 & 0.433313 & 0.475774 & 0.000227272 \\\\\n",
       "\t8 & 1000 & 5 & 1.01404 & 0.0206866 & 5000 & 0.993351 & 1.03472 & 0.000202807 \\\\\n",
       "\t9 & 1000 & 10 & 2.21386 & 0.0600168 & 10000 & 2.15384 & 2.27387 & 0.000221386 \\\\\n",
       "\t10 & 1000 & 15 & 3.21995 & 0.0506903 & 15000 & 3.16926 & 3.27064 & 0.000214663 \\\\\n",
       "\t11 & 1000 & 20 & 4.25524 & 0.0823902 & 20000 & 4.17285 & 4.33763 & 0.000212762 \\\\\n",
       "\t12 & 1000 & 25 & 4.80455 & 0.0786153 & 25000 & 4.72593 & 4.88316 & 0.000192182 \\\\\n",
       "\t13 & 10000 & 2 & 4.05757 & 0.126512 & 20000 & 3.93106 & 4.18408 & 0.000202878 \\\\\n",
       "\t14 & 10000 & 5 & 30.9444 & 0.574997 & 50000 & 30.3694 & 31.5194 & 0.000618888 \\\\\n",
       "\t15 & 10000 & 10 & 72.0534 & 1.30109 & 100000 & 70.7523 & 73.3545 & 0.000720534 \\\\\n",
       "\t16 & 10000 & 15 & 112.779 & 1.9994 & 150000 & 110.779 & 114.778 & 0.000751858 \\\\\n",
       "\t17 & 10000 & 20 & 69.6343 & 3.07164 & 200000 & 66.5627 & 72.706 & 0.000348172 \\\\\n",
       "\t18 & 10000 & 25 & 67.2699 & 1.06845 & 250000 & 66.2015 & 68.3384 & 0.00026908 \\\\\n",
       "\\end{tabular}\n"
      ],
      "text/plain": [
       "\u001b[1m18×8 DataFrame\u001b[0m\n",
       "\u001b[1m Row \u001b[0m│\u001b[1m samplesize \u001b[0m\u001b[1m obssize \u001b[0m\u001b[1m fittime     \u001b[0m\u001b[1m se         \u001b[0m\u001b[1m nobs   \u001b[0m\u001b[1m fitmin      \u001b[0m\u001b[1m fitm\u001b[0m ⋯\n",
       "\u001b[1m     \u001b[0m│\u001b[90m String     \u001b[0m\u001b[90m String  \u001b[0m\u001b[90m Float64     \u001b[0m\u001b[90m Float64    \u001b[0m\u001b[90m Int64  \u001b[0m\u001b[90m Float64     \u001b[0m\u001b[90m Floa\u001b[0m ⋯\n",
       "─────┼──────────────────────────────────────────────────────────────────────────\n",
       "   1 │ 100         2          0.0445738  0.00359513     200    0.0409787    0. ⋯\n",
       "   2 │ 100         5          0.107814   0.00524513     500    0.102569     0.\n",
       "   3 │ 100         10         0.235405   0.00855296    1000    0.226852     0.\n",
       "   4 │ 100         15         0.368081   0.0175987     1500    0.350482     0.\n",
       "   5 │ 100         20         0.440822   0.0147078     2000    0.426114     0. ⋯\n",
       "   6 │ 100         25         0.540113   0.0186364     2500    0.521476     0.\n",
       "   7 │ 1000        2          0.454543   0.0212308     2000    0.433313     0.\n",
       "   8 │ 1000        5          1.01404    0.0206866     5000    0.993351     1.\n",
       "   9 │ 1000        10         2.21386    0.0600168    10000    2.15384      2. ⋯\n",
       "  10 │ 1000        15         3.21995    0.0506903    15000    3.16926      3.\n",
       "  11 │ 1000        20         4.25524    0.0823902    20000    4.17285      4.\n",
       "  12 │ 1000        25         4.80455    0.0786153    25000    4.72593      4.\n",
       "  13 │ 10000       2          4.05757    0.126512     20000    3.93106      4. ⋯\n",
       "  14 │ 10000       5         30.9444     0.574997     50000   30.3694      31.\n",
       "  15 │ 10000       10        72.0534     1.30109     100000   70.7523      73.\n",
       "  16 │ 10000       15       112.779      1.9994      150000  110.779      114.\n",
       "  17 │ 10000       20        69.6343     3.07164     200000   66.5627      72. ⋯\n",
       "  18 │ 10000       25        67.2699     1.06845     250000   66.2015      68.\n",
       "\u001b[36m                                                               2 columns omitted\u001b[0m"
      ]
     },
     "execution_count": 7,
     "metadata": {},
     "output_type": "execute_result"
    }
   ],
   "source": [
    "#simulation parameters\n",
    "@info \"making results table GLMM\"\n",
    "sample_sizes = repeat(string.(samplesizes), inner = nsims * length(ns))\n",
    "obs_sizes = repeat(string.(ns), inner = nsims, outer = length(samplesizes))\n",
    "\n",
    "msedf = DataFrame(samplesize = sample_sizes, obssize = obs_sizes, fittimes = fittimes_GLMM)\n",
    "timedf2 = combine(groupby(msedf, [:samplesize, :obssize]), :fittimes => mean => :fittime,\n",
    "    :fittimes => x -> (std(x)/sqrt(length(x))))\n",
    "rename!(timedf2, Dict(:fittimes_function => \"se\"))\n",
    "timedf2[!, :nobs] = Meta.parse.(timedf2[!, :samplesize]) .* Meta.parse.(timedf2[!, :obssize])\n",
    "timedf2[!, :fitmin] = timedf2[!, :fittime] - timedf2[!, :se]\n",
    "timedf2[!, :fitmax] = timedf2[!, :fittime] + timedf2[!, :se]\n",
    "timedf2[!, :perobsratio] = timedf2[!, :fittime] ./ timedf2[!, :nobs]\n",
    "timedf2"
   ]
  },
  {
   "cell_type": "code",
   "execution_count": 8,
   "metadata": {},
   "outputs": [
    {
     "data": {
      "text/html": [
       "<div class=\"data-frame\"><p>18 rows × 6 columns (omitted printing of 1 columns)</p><table class=\"data-frame\"><thead><tr><th></th><th>people_obs</th><th>β1</th><th>β2</th><th>β3</th><th>r</th></tr><tr><th></th><th title=\"String\">String</th><th title=\"Tuple{Float64, Float64}\">Tuple…</th><th title=\"Tuple{Float64, Float64}\">Tuple…</th><th title=\"Tuple{Float64, Float64}\">Tuple…</th><th title=\"Tuple{Float64, Float64}\">Tuple…</th></tr></thead><tbody><tr><th>1</th><td>N: 100  ni: 2</td><td>(0.66, 0.0476095)</td><td>(0.71, 0.0456048)</td><td>(0.77, 0.0422953)</td><td>(0.72, 0.0451261)</td></tr><tr><th>2</th><td>N: 100  ni: 5</td><td>(0.81, 0.0394277)</td><td>(0.68, 0.0468826)</td><td>(0.83, 0.0377525)</td><td>(0.74, 0.0440844)</td></tr><tr><th>3</th><td>N: 100  ni: 10</td><td>(0.78, 0.0416333)</td><td>(0.87, 0.0337998)</td><td>(0.92, 0.027266)</td><td>(0.65, 0.0479372)</td></tr><tr><th>4</th><td>N: 100  ni: 15</td><td>(0.75, 0.0435194)</td><td>(0.86, 0.0348735)</td><td>(0.91, 0.0287623)</td><td>(0.63, 0.0485237)</td></tr><tr><th>5</th><td>N: 100  ni: 20</td><td>(0.74, 0.0440844)</td><td>(0.79, 0.040936)</td><td>(0.87, 0.0337998)</td><td>(0.51, 0.0502418)</td></tr><tr><th>6</th><td>N: 100  ni: 25</td><td>(0.58, 0.0496045)</td><td>(0.79, 0.040936)</td><td>(0.9, 0.0301511)</td><td>(0.45, 0.05)</td></tr><tr><th>7</th><td>N: 1000  ni: 2</td><td>(0.61, 0.0490207)</td><td>(0.71, 0.0456048)</td><td>(0.88, 0.0326599)</td><td>(0.69, 0.0464823)</td></tr><tr><th>8</th><td>N: 1000  ni: 5</td><td>(0.86, 0.0348735)</td><td>(0.75, 0.0435194)</td><td>(0.88, 0.0326599)</td><td>(0.59, 0.0494311)</td></tr><tr><th>9</th><td>N: 1000  ni: 10</td><td>(0.8, 0.0402015)</td><td>(0.83, 0.0377525)</td><td>(0.87, 0.0337998)</td><td>(0.4, 0.0492366)</td></tr><tr><th>10</th><td>N: 1000  ni: 15</td><td>(0.77, 0.0422953)</td><td>(0.84, 0.0368453)</td><td>(0.91, 0.0287623)</td><td>(0.28, 0.0451261)</td></tr><tr><th>11</th><td>N: 1000  ni: 20</td><td>(0.44, 0.0498888)</td><td>(0.89, 0.0314466)</td><td>(0.9, 0.0301511)</td><td>(0.18, 0.0386123)</td></tr><tr><th>12</th><td>N: 1000  ni: 25</td><td>(0.32, 0.0468826)</td><td>(0.81, 0.0394277)</td><td>(0.9, 0.0301511)</td><td>(0.1, 0.0301511)</td></tr><tr><th>13</th><td>N: 10000  ni: 2</td><td>(0.4, 0.0492366)</td><td>(0.61, 0.0490207)</td><td>(0.93, 0.0256432)</td><td>(0.6, 0.0492366)</td></tr><tr><th>14</th><td>N: 10000  ni: 5</td><td>(0.8, 0.0402015)</td><td>(0.67, 0.0472582)</td><td>(0.9, 0.0301511)</td><td>(0.38, 0.0487832)</td></tr><tr><th>15</th><td>N: 10000  ni: 10</td><td>(0.66, 0.0476095)</td><td>(0.76, 0.0429235)</td><td>(0.9, 0.0301511)</td><td>(0.06, 0.0238683)</td></tr><tr><th>16</th><td>N: 10000  ni: 15</td><td>(0.12, 0.0326599)</td><td>(0.9, 0.0301511)</td><td>(0.95, 0.0219043)</td><td>(0.01, 0.01)</td></tr><tr><th>17</th><td>N: 10000  ni: 20</td><td>(0.01, 0.01)</td><td>(0.91, 0.0287623)</td><td>(0.9, 0.0301511)</td><td>(0.0, 0.0)</td></tr><tr><th>18</th><td>N: 10000  ni: 25</td><td>(0.0, 0.0)</td><td>(0.93, 0.0256432)</td><td>(0.94, 0.0238683)</td><td>(0.0, 0.0)</td></tr></tbody></table></div>"
      ],
      "text/latex": [
       "\\begin{tabular}{r|cccccc}\n",
       "\t& people\\_obs & β1 & β2 & β3 & r & \\\\\n",
       "\t\\hline\n",
       "\t& String & Tuple… & Tuple… & Tuple… & Tuple… & \\\\\n",
       "\t\\hline\n",
       "\t1 & N: 100  ni: 2 & (0.66, 0.0476095) & (0.71, 0.0456048) & (0.77, 0.0422953) & (0.72, 0.0451261) & $\\dots$ \\\\\n",
       "\t2 & N: 100  ni: 5 & (0.81, 0.0394277) & (0.68, 0.0468826) & (0.83, 0.0377525) & (0.74, 0.0440844) & $\\dots$ \\\\\n",
       "\t3 & N: 100  ni: 10 & (0.78, 0.0416333) & (0.87, 0.0337998) & (0.92, 0.027266) & (0.65, 0.0479372) & $\\dots$ \\\\\n",
       "\t4 & N: 100  ni: 15 & (0.75, 0.0435194) & (0.86, 0.0348735) & (0.91, 0.0287623) & (0.63, 0.0485237) & $\\dots$ \\\\\n",
       "\t5 & N: 100  ni: 20 & (0.74, 0.0440844) & (0.79, 0.040936) & (0.87, 0.0337998) & (0.51, 0.0502418) & $\\dots$ \\\\\n",
       "\t6 & N: 100  ni: 25 & (0.58, 0.0496045) & (0.79, 0.040936) & (0.9, 0.0301511) & (0.45, 0.05) & $\\dots$ \\\\\n",
       "\t7 & N: 1000  ni: 2 & (0.61, 0.0490207) & (0.71, 0.0456048) & (0.88, 0.0326599) & (0.69, 0.0464823) & $\\dots$ \\\\\n",
       "\t8 & N: 1000  ni: 5 & (0.86, 0.0348735) & (0.75, 0.0435194) & (0.88, 0.0326599) & (0.59, 0.0494311) & $\\dots$ \\\\\n",
       "\t9 & N: 1000  ni: 10 & (0.8, 0.0402015) & (0.83, 0.0377525) & (0.87, 0.0337998) & (0.4, 0.0492366) & $\\dots$ \\\\\n",
       "\t10 & N: 1000  ni: 15 & (0.77, 0.0422953) & (0.84, 0.0368453) & (0.91, 0.0287623) & (0.28, 0.0451261) & $\\dots$ \\\\\n",
       "\t11 & N: 1000  ni: 20 & (0.44, 0.0498888) & (0.89, 0.0314466) & (0.9, 0.0301511) & (0.18, 0.0386123) & $\\dots$ \\\\\n",
       "\t12 & N: 1000  ni: 25 & (0.32, 0.0468826) & (0.81, 0.0394277) & (0.9, 0.0301511) & (0.1, 0.0301511) & $\\dots$ \\\\\n",
       "\t13 & N: 10000  ni: 2 & (0.4, 0.0492366) & (0.61, 0.0490207) & (0.93, 0.0256432) & (0.6, 0.0492366) & $\\dots$ \\\\\n",
       "\t14 & N: 10000  ni: 5 & (0.8, 0.0402015) & (0.67, 0.0472582) & (0.9, 0.0301511) & (0.38, 0.0487832) & $\\dots$ \\\\\n",
       "\t15 & N: 10000  ni: 10 & (0.66, 0.0476095) & (0.76, 0.0429235) & (0.9, 0.0301511) & (0.06, 0.0238683) & $\\dots$ \\\\\n",
       "\t16 & N: 10000  ni: 15 & (0.12, 0.0326599) & (0.9, 0.0301511) & (0.95, 0.0219043) & (0.01, 0.01) & $\\dots$ \\\\\n",
       "\t17 & N: 10000  ni: 20 & (0.01, 0.01) & (0.91, 0.0287623) & (0.9, 0.0301511) & (0.0, 0.0) & $\\dots$ \\\\\n",
       "\t18 & N: 10000  ni: 25 & (0.0, 0.0) & (0.93, 0.0256432) & (0.94, 0.0238683) & (0.0, 0.0) & $\\dots$ \\\\\n",
       "\\end{tabular}\n"
      ],
      "text/plain": [
       "\u001b[1m18×6 DataFrame\u001b[0m\n",
       "\u001b[1m Row \u001b[0m│\u001b[1m people_obs       \u001b[0m\u001b[1m β1                \u001b[0m\u001b[1m β2                \u001b[0m\u001b[1m β3             \u001b[0m ⋯\n",
       "\u001b[1m     \u001b[0m│\u001b[90m String           \u001b[0m\u001b[90m Tuple…            \u001b[0m\u001b[90m Tuple…            \u001b[0m\u001b[90m Tuple…         \u001b[0m ⋯\n",
       "─────┼──────────────────────────────────────────────────────────────────────────\n",
       "   1 │ N: 100  ni: 2     (0.66, 0.0476095)  (0.71, 0.0456048)  (0.77, 0.042295 ⋯\n",
       "   2 │ N: 100  ni: 5     (0.81, 0.0394277)  (0.68, 0.0468826)  (0.83, 0.037752\n",
       "   3 │ N: 100  ni: 10    (0.78, 0.0416333)  (0.87, 0.0337998)  (0.92, 0.027266\n",
       "   4 │ N: 100  ni: 15    (0.75, 0.0435194)  (0.86, 0.0348735)  (0.91, 0.028762\n",
       "   5 │ N: 100  ni: 20    (0.74, 0.0440844)  (0.79, 0.040936)   (0.87, 0.033799 ⋯\n",
       "   6 │ N: 100  ni: 25    (0.58, 0.0496045)  (0.79, 0.040936)   (0.9, 0.0301511\n",
       "   7 │ N: 1000  ni: 2    (0.61, 0.0490207)  (0.71, 0.0456048)  (0.88, 0.032659\n",
       "   8 │ N: 1000  ni: 5    (0.86, 0.0348735)  (0.75, 0.0435194)  (0.88, 0.032659\n",
       "   9 │ N: 1000  ni: 10   (0.8, 0.0402015)   (0.83, 0.0377525)  (0.87, 0.033799 ⋯\n",
       "  10 │ N: 1000  ni: 15   (0.77, 0.0422953)  (0.84, 0.0368453)  (0.91, 0.028762\n",
       "  11 │ N: 1000  ni: 20   (0.44, 0.0498888)  (0.89, 0.0314466)  (0.9, 0.0301511\n",
       "  12 │ N: 1000  ni: 25   (0.32, 0.0468826)  (0.81, 0.0394277)  (0.9, 0.0301511\n",
       "  13 │ N: 10000  ni: 2   (0.4, 0.0492366)   (0.61, 0.0490207)  (0.93, 0.025643 ⋯\n",
       "  14 │ N: 10000  ni: 5   (0.8, 0.0402015)   (0.67, 0.0472582)  (0.9, 0.0301511\n",
       "  15 │ N: 10000  ni: 10  (0.66, 0.0476095)  (0.76, 0.0429235)  (0.9, 0.0301511\n",
       "  16 │ N: 10000  ni: 15  (0.12, 0.0326599)  (0.9, 0.0301511)   (0.95, 0.021904\n",
       "  17 │ N: 10000  ni: 20  (0.01, 0.01)       (0.91, 0.0287623)  (0.9, 0.0301511 ⋯\n",
       "  18 │ N: 10000  ni: 25  (0.0, 0.0)         (0.93, 0.0256432)  (0.94, 0.023868\n",
       "\u001b[36m                                                               3 columns omitted\u001b[0m"
      ]
     },
     "execution_count": 8,
     "metadata": {},
     "output_type": "execute_result"
    }
   ],
   "source": [
    "######  supplementary table s1\n",
    "using Random, DataFrames, DelimitedFiles, Statistics\n",
    "import StatsBase: sem\n",
    "\n",
    "βθrcoverage = readdlm(\"beta_r_theta_coverage_multivariate_NB_vcm$(nsims)reps_sim.csv\", ',')\n",
    "\n",
    "m  = 1\n",
    "\n",
    "covdf = DataFrame(Matrix(transpose(βθrcoverage)), :auto)\n",
    "rename!(covdf, Symbol.([[\"β$i\" for i in 1:p]; [\"r\"]; [\"θ$i\" for i in 1:m]]))\n",
    "covdf[!, :samplesize] = sample_sizes\n",
    "covdf[!, :obssize] = obs_sizes\n",
    "first(covdf, 10)\n",
    "\n",
    "row_stats = [[(mean(col), sem(col)) for col = eachcol(d[!, 1:end-2])] for d = groupby(covdf, [:samplesize; :obssize])]\n",
    "df = DataFrame(row_stats, :auto)\n",
    "ss_obs = unique(\"N: \" .* sample_sizes .* \"  ni: \" .* obs_sizes)\n",
    "rename!(df, Symbol.(ss_obs))\n",
    "covdfdisplay = DataFrame([[names(df)]; collect.(eachrow(df))], \n",
    "    [:people_obs; Symbol.([[\"β$i\" for i in 1:p];  [\"r\"];  [\"θ$i\" for i in 1:m]])])\n",
    "# deletecols!(covdfdisplay, p + 2)\n",
    "covdfdisplay\n"
   ]
  },
  {
   "cell_type": "code",
   "execution_count": 9,
   "metadata": {},
   "outputs": [
    {
     "data": {
      "text/html": [
       "<div class=\"data-frame\"><p>10,782 rows × 5 columns</p><table class=\"data-frame\"><thead><tr><th></th><th>mse</th><th>obssize</th><th>samplesize</th><th>parameters</th><th>robust</th></tr><tr><th></th><th title=\"Float64\">Float64</th><th title=\"String\">String</th><th title=\"String\">String</th><th title=\"String\">String</th><th title=\"String\">String</th></tr></thead><tbody><tr><th>1</th><td>0.000769281</td><td>2</td><td>100</td><td>beta</td><td>Negative Binomial QC</td></tr><tr><th>2</th><td>0.00363661</td><td>2</td><td>100</td><td>beta</td><td>Negative Binomial QC</td></tr><tr><th>3</th><td>0.011898</td><td>2</td><td>100</td><td>beta</td><td>Negative Binomial QC</td></tr><tr><th>4</th><td>0.00453552</td><td>2</td><td>100</td><td>beta</td><td>Negative Binomial QC</td></tr><tr><th>5</th><td>0.00285434</td><td>2</td><td>100</td><td>beta</td><td>Negative Binomial QC</td></tr><tr><th>6</th><td>0.0108316</td><td>2</td><td>100</td><td>beta</td><td>Negative Binomial QC</td></tr><tr><th>7</th><td>0.00413322</td><td>2</td><td>100</td><td>beta</td><td>Negative Binomial QC</td></tr><tr><th>8</th><td>0.0106259</td><td>2</td><td>100</td><td>beta</td><td>Negative Binomial QC</td></tr><tr><th>9</th><td>0.00771883</td><td>2</td><td>100</td><td>beta</td><td>Negative Binomial QC</td></tr><tr><th>10</th><td>0.00548335</td><td>2</td><td>100</td><td>beta</td><td>Negative Binomial QC</td></tr><tr><th>11</th><td>0.00968619</td><td>2</td><td>100</td><td>beta</td><td>Negative Binomial QC</td></tr><tr><th>12</th><td>0.246154</td><td>2</td><td>100</td><td>beta</td><td>Negative Binomial QC</td></tr><tr><th>13</th><td>0.0225749</td><td>2</td><td>100</td><td>beta</td><td>Negative Binomial QC</td></tr><tr><th>14</th><td>0.00350228</td><td>2</td><td>100</td><td>beta</td><td>Negative Binomial QC</td></tr><tr><th>15</th><td>0.00470376</td><td>2</td><td>100</td><td>beta</td><td>Negative Binomial QC</td></tr><tr><th>16</th><td>0.0144065</td><td>2</td><td>100</td><td>beta</td><td>Negative Binomial QC</td></tr><tr><th>17</th><td>0.00505398</td><td>2</td><td>100</td><td>beta</td><td>Negative Binomial QC</td></tr><tr><th>18</th><td>0.00215704</td><td>2</td><td>100</td><td>beta</td><td>Negative Binomial QC</td></tr><tr><th>19</th><td>0.00179047</td><td>2</td><td>100</td><td>beta</td><td>Negative Binomial QC</td></tr><tr><th>20</th><td>0.0265199</td><td>2</td><td>100</td><td>beta</td><td>Negative Binomial QC</td></tr><tr><th>21</th><td>0.00955378</td><td>2</td><td>100</td><td>beta</td><td>Negative Binomial QC</td></tr><tr><th>22</th><td>0.00426013</td><td>2</td><td>100</td><td>beta</td><td>Negative Binomial QC</td></tr><tr><th>23</th><td>0.00953693</td><td>2</td><td>100</td><td>beta</td><td>Negative Binomial QC</td></tr><tr><th>24</th><td>0.00115816</td><td>2</td><td>100</td><td>beta</td><td>Negative Binomial QC</td></tr><tr><th>25</th><td>0.00809168</td><td>2</td><td>100</td><td>beta</td><td>Negative Binomial QC</td></tr><tr><th>26</th><td>0.0159417</td><td>2</td><td>100</td><td>beta</td><td>Negative Binomial QC</td></tr><tr><th>27</th><td>0.00268958</td><td>2</td><td>100</td><td>beta</td><td>Negative Binomial QC</td></tr><tr><th>28</th><td>0.00156111</td><td>2</td><td>100</td><td>beta</td><td>Negative Binomial QC</td></tr><tr><th>29</th><td>0.0150293</td><td>2</td><td>100</td><td>beta</td><td>Negative Binomial QC</td></tr><tr><th>30</th><td>0.00269796</td><td>2</td><td>100</td><td>beta</td><td>Negative Binomial QC</td></tr><tr><th>&vellip;</th><td>&vellip;</td><td>&vellip;</td><td>&vellip;</td><td>&vellip;</td><td>&vellip;</td></tr></tbody></table></div>"
      ],
      "text/latex": [
       "\\begin{tabular}{r|ccccc}\n",
       "\t& mse & obssize & samplesize & parameters & robust\\\\\n",
       "\t\\hline\n",
       "\t& Float64 & String & String & String & String\\\\\n",
       "\t\\hline\n",
       "\t1 & 0.000769281 & 2 & 100 & beta & Negative Binomial QC \\\\\n",
       "\t2 & 0.00363661 & 2 & 100 & beta & Negative Binomial QC \\\\\n",
       "\t3 & 0.011898 & 2 & 100 & beta & Negative Binomial QC \\\\\n",
       "\t4 & 0.00453552 & 2 & 100 & beta & Negative Binomial QC \\\\\n",
       "\t5 & 0.00285434 & 2 & 100 & beta & Negative Binomial QC \\\\\n",
       "\t6 & 0.0108316 & 2 & 100 & beta & Negative Binomial QC \\\\\n",
       "\t7 & 0.00413322 & 2 & 100 & beta & Negative Binomial QC \\\\\n",
       "\t8 & 0.0106259 & 2 & 100 & beta & Negative Binomial QC \\\\\n",
       "\t9 & 0.00771883 & 2 & 100 & beta & Negative Binomial QC \\\\\n",
       "\t10 & 0.00548335 & 2 & 100 & beta & Negative Binomial QC \\\\\n",
       "\t11 & 0.00968619 & 2 & 100 & beta & Negative Binomial QC \\\\\n",
       "\t12 & 0.246154 & 2 & 100 & beta & Negative Binomial QC \\\\\n",
       "\t13 & 0.0225749 & 2 & 100 & beta & Negative Binomial QC \\\\\n",
       "\t14 & 0.00350228 & 2 & 100 & beta & Negative Binomial QC \\\\\n",
       "\t15 & 0.00470376 & 2 & 100 & beta & Negative Binomial QC \\\\\n",
       "\t16 & 0.0144065 & 2 & 100 & beta & Negative Binomial QC \\\\\n",
       "\t17 & 0.00505398 & 2 & 100 & beta & Negative Binomial QC \\\\\n",
       "\t18 & 0.00215704 & 2 & 100 & beta & Negative Binomial QC \\\\\n",
       "\t19 & 0.00179047 & 2 & 100 & beta & Negative Binomial QC \\\\\n",
       "\t20 & 0.0265199 & 2 & 100 & beta & Negative Binomial QC \\\\\n",
       "\t21 & 0.00955378 & 2 & 100 & beta & Negative Binomial QC \\\\\n",
       "\t22 & 0.00426013 & 2 & 100 & beta & Negative Binomial QC \\\\\n",
       "\t23 & 0.00953693 & 2 & 100 & beta & Negative Binomial QC \\\\\n",
       "\t24 & 0.00115816 & 2 & 100 & beta & Negative Binomial QC \\\\\n",
       "\t25 & 0.00809168 & 2 & 100 & beta & Negative Binomial QC \\\\\n",
       "\t26 & 0.0159417 & 2 & 100 & beta & Negative Binomial QC \\\\\n",
       "\t27 & 0.00268958 & 2 & 100 & beta & Negative Binomial QC \\\\\n",
       "\t28 & 0.00156111 & 2 & 100 & beta & Negative Binomial QC \\\\\n",
       "\t29 & 0.0150293 & 2 & 100 & beta & Negative Binomial QC \\\\\n",
       "\t30 & 0.00269796 & 2 & 100 & beta & Negative Binomial QC \\\\\n",
       "\t$\\dots$ & $\\dots$ & $\\dots$ & $\\dots$ & $\\dots$ & $\\dots$ \\\\\n",
       "\\end{tabular}\n"
      ],
      "text/plain": [
       "\u001b[1m10782×5 DataFrame\u001b[0m\n",
       "\u001b[1m   Row \u001b[0m│\u001b[1m mse          \u001b[0m\u001b[1m obssize \u001b[0m\u001b[1m samplesize \u001b[0m\u001b[1m parameters \u001b[0m\u001b[1m robust                \u001b[0m ⋯\n",
       "\u001b[1m       \u001b[0m│\u001b[90m Float64      \u001b[0m\u001b[90m String  \u001b[0m\u001b[90m String     \u001b[0m\u001b[90m String     \u001b[0m\u001b[90m String                \u001b[0m ⋯\n",
       "───────┼────────────────────────────────────────────────────────────────────────\n",
       "     1 │  0.000769281  2        100         beta        Negative Binomial QC   ⋯\n",
       "     2 │  0.00363661   2        100         beta        Negative Binomial QC\n",
       "     3 │  0.011898     2        100         beta        Negative Binomial QC\n",
       "     4 │  0.00453552   2        100         beta        Negative Binomial QC\n",
       "     5 │  0.00285434   2        100         beta        Negative Binomial QC   ⋯\n",
       "     6 │  0.0108316    2        100         beta        Negative Binomial QC\n",
       "     7 │  0.00413322   2        100         beta        Negative Binomial QC\n",
       "     8 │  0.0106259    2        100         beta        Negative Binomial QC\n",
       "     9 │  0.00771883   2        100         beta        Negative Binomial QC   ⋯\n",
       "    10 │  0.00548335   2        100         beta        Negative Binomial QC\n",
       "    11 │  0.00968619   2        100         beta        Negative Binomial QC\n",
       "   ⋮   │      ⋮           ⋮         ⋮           ⋮                 ⋮            ⋱\n",
       " 10773 │ 80.2115       25       10000       r           Negative Binomial GLMM\n",
       " 10774 │ 80.2001       25       10000       r           Negative Binomial GLMM ⋯\n",
       " 10775 │ 80.2873       25       10000       r           Negative Binomial GLMM\n",
       " 10776 │ 80.3211       25       10000       r           Negative Binomial GLMM\n",
       " 10777 │ 80.2099       25       10000       r           Negative Binomial GLMM\n",
       " 10778 │ 80.2746       25       10000       r           Negative Binomial GLMM ⋯\n",
       " 10779 │ 80.2212       25       10000       r           Negative Binomial GLMM\n",
       " 10780 │ 80.2572       25       10000       r           Negative Binomial GLMM\n",
       " 10781 │ 80.3265       25       10000       r           Negative Binomial GLMM\n",
       " 10782 │ 80.318        25       10000       r           Negative Binomial GLMM ⋯\n",
       "\u001b[36m                                                             10761 rows omitted\u001b[0m"
      ]
     },
     "execution_count": 9,
     "metadata": {},
     "output_type": "execute_result"
    }
   ],
   "source": [
    "#### \n",
    "#import data and reorganize to create figure\n",
    "using Random, DataFrames, DelimitedFiles, Statistics, RCall, Printf\n",
    "import StatsBase: sem\n",
    "\n",
    "βMseresult = vec(readdlm(\"mse_beta_multivariate_NB_vcm$(nsims)reps_sim.csv\", ','))\n",
    "θMseresult = vec(readdlm(\"mse_theta_multivariate_NB_vcm$(nsims)reps_sim.csv\", ','))\n",
    "rMseresult =  vec(readdlm(\"mse_r_multivariate_NB_vcm$(nsims)reps_sim.csv\", ','))\n",
    "\n",
    "βMseresult_GLMM = vec(readdlm(\"mse_beta_GLMM_multivariate_NB_vcm$(nsims)reps_sim.csv\", ','))\n",
    "θMseresult_GLMM = vec(readdlm(\"mse_theta_GLMM_multivariate_NB_vcm$(nsims)reps_sim.csv\", ','))\n",
    "rMseresult_GLMM =  vec(readdlm(\"mse_r_GLMMmultivariate_NB_vcm$(nsims)reps_sim.csv\", ','))\n",
    "\n",
    "\n",
    "p = 3; m = 1\n",
    "sample_sizes = repeat(string.(samplesizes), inner = nsims * length(ns))\n",
    "obs_sizes = repeat(string.(ns), inner = nsims, outer = length(samplesizes))\n",
    "msedf1 = DataFrame(βmse = βMseresult, thetamse = θMseresult, rmse = rMseresult,\n",
    "    samplesize = sample_sizes, obssize = obs_sizes)\n",
    "\n",
    "msedf2 = DataFrame(βmse = βMseresult_GLMM, thetamse = θMseresult_GLMM, rmse = rMseresult_GLMM,\n",
    "    samplesize = sample_sizes, obssize = obs_sizes)\n",
    "\n",
    "#rename to make parsing easier for R.\n",
    "\n",
    "msedf1 = deepcopy(msedf1)\n",
    "rename!(msedf1, [\"betamse\"\n",
    "    \"thetamse\"\n",
    "        \"rmse\"\n",
    "    \"samplesize\"\n",
    " \"obssize\"]);\n",
    "\n",
    "msedf2 = deepcopy(msedf2)\n",
    "rename!(msedf2, [\"betamse\"\n",
    "    \"thetamse\"\n",
    "        \"rmse\"\n",
    "    \"samplesize\"\n",
    " \"obssize\"]);\n",
    "\n",
    "mses = [msedf1[!, :betamse]; msedf1[!, :thetamse];msedf1[!, :rmse]; msedf2[!, :betamse]; msedf2[!, :thetamse]; msedf2[!, :rmse]]\n",
    "    # msedfnormR[!, :betamse]; msedfnormR[!, :taumse]; msedfnormR[!, :Sigmamse]]\n",
    "obssize = [collect([repeat(msedf1[!, :obssize], 3)]...) ; collect([repeat(msedf2[!, :obssize], 3)]...)]\n",
    "#40\n",
    "samplesize = [collect([repeat(msedf1[!, :samplesize], 3)]...) ; collect([repeat(msedf2[!, :samplesize], 3)]...)]\n",
    "\n",
    "parameters = [collect([repeat(string.([:beta, :theta, :r]), inner = nsims * length(ns) * length(samplesizes))]...) ; collect([repeat(string.([:beta, :theta, :r]), inner = nsims * length(ns) * length(samplesizes))]...)]\n",
    "robust = [collect([repeat([\"Negative Binomial QC\"], 3 * nsims * length(ns) * length(samplesizes))]...); collect([repeat([\"Negative Binomial GLMM\"],  3 * nsims * length(ns) * length(samplesizes))]...)]\n",
    "\n",
    "msedfR = DataFrame(mse = mses, obssize = obssize, samplesize = samplesize,\n",
    "    parameters = parameters, robust = robust)\n",
    "\n",
    "#5 of the 30,000 simulations did not converge, filter out\n",
    "msedfR = filter(x -> !isnan(x.mse), msedfR)\n",
    "# additionally, there are 5 where an error was not caught so it did not try a differnt solver\n",
    "msedfR = filter(x -> x.mse < 40000, msedfR)"
   ]
  },
  {
   "cell_type": "code",
   "execution_count": 10,
   "metadata": {},
   "outputs": [
    {
     "name": "stderr",
     "output_type": "stream",
     "text": [
      "┌ Warning: RCall.jl: Warning: package ‘scales’ was built under R version 4.0.2\n",
      "└ @ RCall /Users/sarahji/.julia/packages/RCall/6kphM/src/io.jl:172\n",
      "┌ Warning: RCall.jl: Warning: package ‘ggplot2’ was built under R version 4.0.2\n",
      "└ @ RCall /Users/sarahji/.julia/packages/RCall/6kphM/src/io.jl:172\n",
      "┌ Warning: RCall.jl: Warning: package ‘data.table’ was built under R version 4.0.2\n",
      "└ @ RCall /Users/sarahji/.julia/packages/RCall/6kphM/src/io.jl:172\n"
     ]
    },
    {
     "data": {
      "image/png": "[encoded data removed]"
     },
     "metadata": {},
     "output_type": "display_data"
    },
    {
     "data": {
      "text/plain": [
       "RObject{VecSxp}\n"
      ]
     },
     "execution_count": 10,
     "metadata": {},
     "output_type": "execute_result"
    }
   ],
   "source": [
    "### working on figure next\n",
    "@rput msedfR\n",
    "\n",
    "R\"\"\"\n",
    "library(scales)\n",
    "library(ggplot2)\n",
    "library(data.table)\n",
    "\n",
    "msedfR = data.table(msedfR)\n",
    "\n",
    "msedfR[parameters == \"beta\",y_min := 10^-4]\n",
    "msedfR[parameters == \"beta\",y_max := 10^0]\n",
    "msedfR[parameters == \"theta\",y_min := 10^-4]\n",
    "msedfR[parameters == \"theta\",y_max := 10^1]\n",
    "msedfR[parameters == \"r\", y_min := 10^-3]\n",
    "msedfR[parameters == \"r\", y_max := 10^3]\n",
    "\n",
    "#msedfR[parameters == \"beta\",y_min := 10^-8]\n",
    "#msedfR[parameters == \"beta\",y_max := 10^-2]\n",
    "#msedfR[parameters == \"tau\",y_min := 10^-8]\n",
    "#msedfR[parameters == \"tau\",y_max := 10^-2]\n",
    "#msedfR[parameters == \"Sigma\",y_min := 10^-5]\n",
    "#msedfR[parameters == \"Sigma\",y_max := 10^-2]\n",
    "\n",
    "\n",
    "msedfR$obssize = factor(msedfR$obssize, levels = c('2', '5', '10', '15', '20', '25'))\n",
    "msedfR$samplesize = factor(msedfR$samplesize, levels = c('100', '1000', '10000'))\n",
    "msedfR$parameters = factor(msedfR$parameters, levels = c('beta', 'theta', 'r'), labels = c(beta = expression(hat(bold(beta))), theta = expression(hat(bold(theta))[]), r = expression(hat(bold(r))[])))\n",
    "msedfR$robust <- factor(msedfR$robust, levels = c('Negative Binomial QC', 'Negative Binomial GLMM'),\n",
    "    labels = c(expression(paste(\"Negative Binomial QC\")), expression(paste(\"Negative Binomial GLMM\"))))\n",
    "\n",
    "#mseplot <- ggplot(msedfR[msedfR$mse < 10^0, ], aes(x=samplesize, y=mse, fill=obssize)) + \n",
    "mseplot = ggplot(msedfR[msedfR$mse < 10^3, ], aes(x=samplesize, y=mse, fill=obssize)) + \n",
    "  #geom_boxplot(outlier.size = 0.0, outlier.alpha = 0) +\n",
    "  geom_boxplot(outlier.size = 0.25) +\n",
    "#    geom_violin() +\n",
    "    facet_grid(parameters ~ robust, labeller = label_parsed, scales = \"free_y\") +\n",
    "  theme(legend.position=\"right\", legend.key = element_blank(), axis.text.x = element_text(angle=0, size=30),\n",
    "        axis.text.y = element_text(angle=0, size=30), axis.title.x = element_text(size = 30, face=\"bold\"), \n",
    "        axis.title.y = element_text(size = 40, face=\"bold\"), legend.title = element_text(size = 30, face=\"bold\"),\n",
    "        panel.grid.major = element_blank(), panel.grid.minor = element_blank(),\n",
    "        legend.text=element_text(size=30), panel.background = element_rect(fill = NA, color = \"black\"),\n",
    "        #panel.background = element_blank(), #panel.border = element_blank(),\n",
    "        axis.line = element_line(color = 'black',size=0.3), plot.title = element_text(hjust = 0.5),\n",
    "        strip.background = element_rect(colour=\"black\", fill=\"white\"), strip.text.y = element_text(angle = 0, size=75, face=\"bold\"),\n",
    "        strip.text.x = element_text(size=25)) + \n",
    "  scale_fill_manual(values = c(\"#c85f55\",\n",
    "\"#a964bf\",\n",
    "\"#8db352\",\n",
    "\"#fa7300\",\n",
    "\"#05aec0\",\n",
    "\"#ff1493\")) +\n",
    "#scale_y_log10(breaks = scales::trans_breaks(\"log10\", function(x) 10^x)) +\n",
    "#scale_y_log10(breaks = 10^(-8:8), limit=c(10^-8, 10^2)) + \n",
    "scale_y_log10(breaks = 10^seq(-10, 10, 2), labels=trans_format(\"log10\", math_format(10^.x))) + #, limit=c(10^-8, 10^2)) +\n",
    "  labs(x = \"Sample Size\", y = \"MSE of Parameter Estimates\", fill = \"Cluster Size\") +\n",
    "geom_blank(aes(y = y_max)) + \n",
    "geom_blank(aes(y = y_min)) \n",
    "\"\"\""
   ]
  },
  {
   "cell_type": "code",
   "execution_count": 11,
   "metadata": {},
   "outputs": [
    {
     "data": {
      "text/plain": [
       "RObject{StrSxp}\n",
       "[1] \"updated_msefacetplot_nb_sim2_2.png\"\n"
      ]
     },
     "execution_count": 11,
     "metadata": {},
     "output_type": "execute_result"
    }
   ],
   "source": [
    "R\"\"\"\n",
    "    ggsave('updated_msefacetplot_nb_sim2_2.png', mseplot, width = 20, height = 15, units = 'in', dpi = 450)\n",
    "\"\"\""
   ]
  }
 ],
 "metadata": {
  "@webio": {
   "lastCommId": null,
   "lastKernelId": null
  },
  "kernelspec": {
   "display_name": "Julia 1.6.2",
   "language": "julia",
   "name": "julia-1.6"
  },
  "language_info": {
   "file_extension": ".jl",
   "mimetype": "application/julia",
   "name": "julia",
   "version": "1.6.2"
  }
 },
 "nbformat": 4,
 "nbformat_minor": 2
}
