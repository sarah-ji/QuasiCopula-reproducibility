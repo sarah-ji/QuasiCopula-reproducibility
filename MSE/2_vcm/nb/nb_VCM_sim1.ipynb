{
 "cells": [
  {
   "cell_type": "markdown",
   "metadata": {},
   "source": [
    "## Negative Binomial VCM Results \n",
    "\n",
    "This notebook goes over the code needed to reproduce the results from the MSE and time figures for the Negative Binomial base distribution with Log Link and covariance matrix $\\Gamma$ structured under variance component model framework as follows:\n",
    "\n",
    "$$\n",
    "\\Gamma = \\sigma_1 * \\mathbf{1_{n} 1_{n}^\\top}\n",
    "$$\n",
    "\n",
    "In this example simulate three fixed effects under our Quasi-Copula model with $\\beta \\sim$ randn(p) where p = 3 fixed effects.\n",
    "\n",
    "We use multi-threading on 8 threads to obtain these MSE results on the following machine, and include MSE results from 100 simulation runs comparing the fit of ours with that of the random intercept Negative Binomial GLMM from MixedModels.jl for each scenario."
   ]
  },
  {
   "cell_type": "code",
   "execution_count": 1,
   "metadata": {},
   "outputs": [
    {
     "name": "stdout",
     "output_type": "stream",
     "text": [
      "Julia Version 1.6.2\n",
      "Commit 1b93d53fc4 (2021-07-14 15:36 UTC)\n",
      "Platform Info:\n",
      "  OS: macOS (x86_64-apple-darwin18.7.0)\n",
      "  CPU: Intel(R) Core(TM) i9-9880H CPU @ 2.30GHz\n",
      "  WORD_SIZE: 64\n",
      "  LIBM: libopenlibm\n",
      "  LLVM: libLLVM-11.0.1 (ORCJIT, skylake)\n"
     ]
    }
   ],
   "source": [
    "versioninfo()"
   ]
  },
  {
   "cell_type": "code",
   "execution_count": 2,
   "metadata": {},
   "outputs": [],
   "source": [
    "using QuasiCopula, DelimitedFiles, LinearAlgebra, Random, GLM\n",
    "using DataFrames"
   ]
  },
  {
   "cell_type": "code",
   "execution_count": 3,
   "metadata": {},
   "outputs": [],
   "source": [
    "p = 3    # number of fixed effects, including intercept\n",
    "m = 1    # number of variance components\n",
    "# true parameter values\n",
    "Random.seed!(12345)\n",
    "βtrue = rand(Uniform(-0.2, 0.2), p)\n",
    "rtrue = 10.0\n",
    "θtrue = [0.1]\n",
    "\n",
    "# generate data\n",
    "intervals = zeros(p + m, 2) #hold intervals\n",
    "curcoverage = zeros(p + m) #hold current coverage resutls\n",
    "trueparams = [βtrue; rtrue; θtrue] #hold true parameters\n",
    "\n",
    "#simulation parameters\n",
    "samplesizes = [100; 1000; 10000]\n",
    "ns = [2; 5; 10; 15; 20; 25]\n",
    "nsims = 100;"
   ]
  },
  {
   "cell_type": "code",
   "execution_count": 4,
   "metadata": {},
   "outputs": [
    {
     "name": "stderr",
     "output_type": "stream",
     "text": [
      "┌ Info: reading in the files with results\n",
      "└ @ Main In[4]:1\n"
     ]
    },
    {
     "data": {
      "text/plain": [
       "1800-element Vector{Float64}:\n",
       " 0.050143609\n",
       " 0.193592773\n",
       " 0.135597127\n",
       " 0.045668911\n",
       " 0.232487525\n",
       " 0.244640913\n",
       " 0.252177759\n",
       " 0.173747143\n",
       " 0.046075343\n",
       " 0.296215098\n",
       " 0.20163482\n",
       " 0.22022374\n",
       " 0.170185888\n",
       " ⋮\n",
       " 6.189337658\n",
       " 6.247400937\n",
       " 6.00278709\n",
       " 6.079518391\n",
       " 6.030051843\n",
       " 6.104174174\n",
       " 6.056407183\n",
       " 6.152436985\n",
       " 6.113998348\n",
       " 6.016825301\n",
       " 6.014865309\n",
       " 6.161880892"
      ]
     },
     "execution_count": 4,
     "metadata": {},
     "output_type": "execute_result"
    }
   ],
   "source": [
    "@info \"reading in the files with results\"\n",
    "βMseresult = vec(readdlm(\"mse_beta_multivariate_nb_vcm$(nsims)reps_sim.csv\", ','))\n",
    "θMseresult = vec(readdlm(\"mse_theta_multivariate_nb_vcm$(nsims)reps_sim.csv\", ','))\n",
    "fittimes_QC = vec(readdlm(\"fittimes_multivariate_nb_vcm$(nsims)reps_sim.csv\", ','))"
   ]
  },
  {
   "cell_type": "code",
   "execution_count": 5,
   "metadata": {},
   "outputs": [
    {
     "data": {
      "text/plain": [
       "1800-element Vector{Float64}:\n",
       "  0.291323389\n",
       "  0.042420557\n",
       "  0.035935438\n",
       "  0.015137405\n",
       "  0.052944313\n",
       "  0.043638413\n",
       "  0.016796412\n",
       "  0.041503579\n",
       "  0.012624645\n",
       "  0.041584924\n",
       "  0.036381149\n",
       "  0.015221032\n",
       "  0.046662489\n",
       "  ⋮\n",
       " 39.57685549\n",
       " 50.342858691\n",
       " 39.424701046\n",
       " 45.077493687\n",
       " 54.367856998\n",
       " 48.311559682\n",
       " 45.965053312\n",
       " 45.653669558\n",
       " 41.072851848\n",
       " 53.042116292\n",
       " 58.467129019\n",
       " 37.935693579"
      ]
     },
     "execution_count": 5,
     "metadata": {},
     "output_type": "execute_result"
    }
   ],
   "source": [
    "fittimes_GLMM = vec(readdlm(\"fittimes_GLMM_multivariate_NB_vcm$(nsims)reps_sim.csv\", ','))"
   ]
  },
  {
   "cell_type": "code",
   "execution_count": 6,
   "metadata": {},
   "outputs": [
    {
     "name": "stderr",
     "output_type": "stream",
     "text": [
      "┌ Info: making results table Quasi-Copula\n",
      "└ @ Main In[6]:2\n"
     ]
    },
    {
     "data": {
      "text/html": [
       "<div class=\"data-frame\"><p>18 rows × 8 columns</p><table class=\"data-frame\"><thead><tr><th></th><th>samplesize</th><th>obssize</th><th>fittime</th><th>se</th><th>nobs</th><th>fitmin</th><th>fitmax</th><th>perobsratio</th></tr><tr><th></th><th title=\"String\">String</th><th title=\"String\">String</th><th title=\"Float64\">Float64</th><th title=\"Float64\">Float64</th><th title=\"Int64\">Int64</th><th title=\"Float64\">Float64</th><th title=\"Float64\">Float64</th><th title=\"Float64\">Float64</th></tr></thead><tbody><tr><th>1</th><td>100</td><td>2</td><td>0.184785</td><td>0.0108726</td><td>200</td><td>0.173913</td><td>0.195658</td><td>0.000923927</td></tr><tr><th>2</th><td>100</td><td>5</td><td>0.185839</td><td>0.00456401</td><td>500</td><td>0.181275</td><td>0.190403</td><td>0.000371678</td></tr><tr><th>3</th><td>100</td><td>10</td><td>0.195642</td><td>0.00565287</td><td>1000</td><td>0.189989</td><td>0.201295</td><td>0.000195642</td></tr><tr><th>4</th><td>100</td><td>15</td><td>0.212008</td><td>0.00562695</td><td>1500</td><td>0.206381</td><td>0.217635</td><td>0.000141339</td></tr><tr><th>5</th><td>100</td><td>20</td><td>0.207338</td><td>0.00686901</td><td>2000</td><td>0.200469</td><td>0.214207</td><td>0.000103669</td></tr><tr><th>6</th><td>100</td><td>25</td><td>0.226467</td><td>0.010744</td><td>2500</td><td>0.215723</td><td>0.237211</td><td>9.05868e-5</td></tr><tr><th>7</th><td>1000</td><td>2</td><td>0.325536</td><td>0.00622898</td><td>2000</td><td>0.319307</td><td>0.331765</td><td>0.000162768</td></tr><tr><th>8</th><td>1000</td><td>5</td><td>0.366634</td><td>0.00511817</td><td>5000</td><td>0.361516</td><td>0.371752</td><td>7.33268e-5</td></tr><tr><th>9</th><td>1000</td><td>10</td><td>0.394006</td><td>0.00264568</td><td>10000</td><td>0.39136</td><td>0.396651</td><td>3.94006e-5</td></tr><tr><th>10</th><td>1000</td><td>15</td><td>0.529551</td><td>0.00319563</td><td>15000</td><td>0.526355</td><td>0.532747</td><td>3.53034e-5</td></tr><tr><th>11</th><td>1000</td><td>20</td><td>0.645182</td><td>0.00559615</td><td>20000</td><td>0.639586</td><td>0.650778</td><td>3.22591e-5</td></tr><tr><th>12</th><td>1000</td><td>25</td><td>0.664703</td><td>0.00686976</td><td>25000</td><td>0.657833</td><td>0.671573</td><td>2.65881e-5</td></tr><tr><th>13</th><td>10000</td><td>2</td><td>2.73012</td><td>0.0129965</td><td>20000</td><td>2.71712</td><td>2.74311</td><td>0.000136506</td></tr><tr><th>14</th><td>10000</td><td>5</td><td>2.82187</td><td>0.00833415</td><td>50000</td><td>2.81353</td><td>2.8302</td><td>5.64373e-5</td></tr><tr><th>15</th><td>10000</td><td>10</td><td>3.62147</td><td>0.00923171</td><td>100000</td><td>3.61224</td><td>3.6307</td><td>3.62147e-5</td></tr><tr><th>16</th><td>10000</td><td>15</td><td>4.89931</td><td>0.017328</td><td>150000</td><td>4.88198</td><td>4.91664</td><td>3.26621e-5</td></tr><tr><th>17</th><td>10000</td><td>20</td><td>5.84365</td><td>0.0150936</td><td>200000</td><td>5.82856</td><td>5.85874</td><td>2.92183e-5</td></tr><tr><th>18</th><td>10000</td><td>25</td><td>6.18209</td><td>0.0367505</td><td>250000</td><td>6.14534</td><td>6.21885</td><td>2.47284e-5</td></tr></tbody></table></div>"
      ],
      "text/latex": [
       "\\begin{tabular}{r|cccccccc}\n",
       "\t& samplesize & obssize & fittime & se & nobs & fitmin & fitmax & perobsratio\\\\\n",
       "\t\\hline\n",
       "\t& String & String & Float64 & Float64 & Int64 & Float64 & Float64 & Float64\\\\\n",
       "\t\\hline\n",
       "\t1 & 100 & 2 & 0.184785 & 0.0108726 & 200 & 0.173913 & 0.195658 & 0.000923927 \\\\\n",
       "\t2 & 100 & 5 & 0.185839 & 0.00456401 & 500 & 0.181275 & 0.190403 & 0.000371678 \\\\\n",
       "\t3 & 100 & 10 & 0.195642 & 0.00565287 & 1000 & 0.189989 & 0.201295 & 0.000195642 \\\\\n",
       "\t4 & 100 & 15 & 0.212008 & 0.00562695 & 1500 & 0.206381 & 0.217635 & 0.000141339 \\\\\n",
       "\t5 & 100 & 20 & 0.207338 & 0.00686901 & 2000 & 0.200469 & 0.214207 & 0.000103669 \\\\\n",
       "\t6 & 100 & 25 & 0.226467 & 0.010744 & 2500 & 0.215723 & 0.237211 & 9.05868e-5 \\\\\n",
       "\t7 & 1000 & 2 & 0.325536 & 0.00622898 & 2000 & 0.319307 & 0.331765 & 0.000162768 \\\\\n",
       "\t8 & 1000 & 5 & 0.366634 & 0.00511817 & 5000 & 0.361516 & 0.371752 & 7.33268e-5 \\\\\n",
       "\t9 & 1000 & 10 & 0.394006 & 0.00264568 & 10000 & 0.39136 & 0.396651 & 3.94006e-5 \\\\\n",
       "\t10 & 1000 & 15 & 0.529551 & 0.00319563 & 15000 & 0.526355 & 0.532747 & 3.53034e-5 \\\\\n",
       "\t11 & 1000 & 20 & 0.645182 & 0.00559615 & 20000 & 0.639586 & 0.650778 & 3.22591e-5 \\\\\n",
       "\t12 & 1000 & 25 & 0.664703 & 0.00686976 & 25000 & 0.657833 & 0.671573 & 2.65881e-5 \\\\\n",
       "\t13 & 10000 & 2 & 2.73012 & 0.0129965 & 20000 & 2.71712 & 2.74311 & 0.000136506 \\\\\n",
       "\t14 & 10000 & 5 & 2.82187 & 0.00833415 & 50000 & 2.81353 & 2.8302 & 5.64373e-5 \\\\\n",
       "\t15 & 10000 & 10 & 3.62147 & 0.00923171 & 100000 & 3.61224 & 3.6307 & 3.62147e-5 \\\\\n",
       "\t16 & 10000 & 15 & 4.89931 & 0.017328 & 150000 & 4.88198 & 4.91664 & 3.26621e-5 \\\\\n",
       "\t17 & 10000 & 20 & 5.84365 & 0.0150936 & 200000 & 5.82856 & 5.85874 & 2.92183e-5 \\\\\n",
       "\t18 & 10000 & 25 & 6.18209 & 0.0367505 & 250000 & 6.14534 & 6.21885 & 2.47284e-5 \\\\\n",
       "\\end{tabular}\n"
      ],
      "text/plain": [
       "\u001b[1m18×8 DataFrame\u001b[0m\n",
       "\u001b[1m Row \u001b[0m│\u001b[1m samplesize \u001b[0m\u001b[1m obssize \u001b[0m\u001b[1m fittime  \u001b[0m\u001b[1m se         \u001b[0m\u001b[1m nobs   \u001b[0m\u001b[1m fitmin   \u001b[0m\u001b[1m fitmax   \u001b[0m\u001b[1m \u001b[0m ⋯\n",
       "\u001b[1m     \u001b[0m│\u001b[90m String     \u001b[0m\u001b[90m String  \u001b[0m\u001b[90m Float64  \u001b[0m\u001b[90m Float64    \u001b[0m\u001b[90m Int64  \u001b[0m\u001b[90m Float64  \u001b[0m\u001b[90m Float64  \u001b[0m\u001b[90m \u001b[0m ⋯\n",
       "─────┼──────────────────────────────────────────────────────────────────────────\n",
       "   1 │ 100         2        0.184785  0.0108726      200  0.173913  0.195658   ⋯\n",
       "   2 │ 100         5        0.185839  0.00456401     500  0.181275  0.190403\n",
       "   3 │ 100         10       0.195642  0.00565287    1000  0.189989  0.201295\n",
       "   4 │ 100         15       0.212008  0.00562695    1500  0.206381  0.217635\n",
       "   5 │ 100         20       0.207338  0.00686901    2000  0.200469  0.214207   ⋯\n",
       "   6 │ 100         25       0.226467  0.010744      2500  0.215723  0.237211\n",
       "   7 │ 1000        2        0.325536  0.00622898    2000  0.319307  0.331765\n",
       "   8 │ 1000        5        0.366634  0.00511817    5000  0.361516  0.371752\n",
       "   9 │ 1000        10       0.394006  0.00264568   10000  0.39136   0.396651   ⋯\n",
       "  10 │ 1000        15       0.529551  0.00319563   15000  0.526355  0.532747\n",
       "  11 │ 1000        20       0.645182  0.00559615   20000  0.639586  0.650778\n",
       "  12 │ 1000        25       0.664703  0.00686976   25000  0.657833  0.671573\n",
       "  13 │ 10000       2        2.73012   0.0129965    20000  2.71712   2.74311    ⋯\n",
       "  14 │ 10000       5        2.82187   0.00833415   50000  2.81353   2.8302\n",
       "  15 │ 10000       10       3.62147   0.00923171  100000  3.61224   3.6307\n",
       "  16 │ 10000       15       4.89931   0.017328    150000  4.88198   4.91664\n",
       "  17 │ 10000       20       5.84365   0.0150936   200000  5.82856   5.85874    ⋯\n",
       "  18 │ 10000       25       6.18209   0.0367505   250000  6.14534   6.21885\n",
       "\u001b[36m                                                                1 column omitted\u001b[0m"
      ]
     },
     "execution_count": 6,
     "metadata": {},
     "output_type": "execute_result"
    }
   ],
   "source": [
    "#simulation parameters\n",
    "@info \"making results table Quasi-Copula\"\n",
    "sample_sizes = repeat(string.(samplesizes), inner = nsims * length(ns))\n",
    "obs_sizes = repeat(string.(ns), inner = nsims, outer = length(samplesizes))\n",
    "\n",
    "msedf = DataFrame(samplesize = sample_sizes, obssize = obs_sizes, fittimes = fittimes_QC)\n",
    "timedf1 = combine(groupby(msedf, [:samplesize, :obssize]), :fittimes => mean => :fittime,\n",
    "    :fittimes => x -> (std(x)/sqrt(length(x))))\n",
    "rename!(timedf1, Dict(:fittimes_function => \"se\"))\n",
    "timedf1[!, :nobs] = Meta.parse.(timedf1[!, :samplesize]) .* Meta.parse.(timedf1[!, :obssize])\n",
    "timedf1[!, :fitmin] = timedf1[!, :fittime] - timedf1[!, :se]\n",
    "timedf1[!, :fitmax] = timedf1[!, :fittime] + timedf1[!, :se]\n",
    "timedf1[!, :perobsratio] = timedf1[!, :fittime] ./ timedf1[!, :nobs]\n",
    "timedf1"
   ]
  },
  {
   "cell_type": "code",
   "execution_count": 7,
   "metadata": {},
   "outputs": [
    {
     "name": "stderr",
     "output_type": "stream",
     "text": [
      "┌ Info: making results table GLMM\n",
      "└ @ Main In[7]:2\n"
     ]
    },
    {
     "data": {
      "text/html": [
       "<div class=\"data-frame\"><p>18 rows × 8 columns</p><table class=\"data-frame\"><thead><tr><th></th><th>samplesize</th><th>obssize</th><th>fittime</th><th>se</th><th>nobs</th><th>fitmin</th><th>fitmax</th><th>perobsratio</th></tr><tr><th></th><th title=\"String\">String</th><th title=\"String\">String</th><th title=\"Float64\">Float64</th><th title=\"Float64\">Float64</th><th title=\"Int64\">Int64</th><th title=\"Float64\">Float64</th><th title=\"Float64\">Float64</th><th title=\"Float64\">Float64</th></tr></thead><tbody><tr><th>1</th><td>100</td><td>2</td><td>0.02961</td><td>0.0032549</td><td>200</td><td>0.0263551</td><td>0.0328649</td><td>0.00014805</td></tr><tr><th>2</th><td>100</td><td>5</td><td>0.0451908</td><td>0.00125213</td><td>500</td><td>0.0439387</td><td>0.046443</td><td>9.03816e-5</td></tr><tr><th>3</th><td>100</td><td>10</td><td>0.0990221</td><td>0.00502559</td><td>1000</td><td>0.0939965</td><td>0.104048</td><td>9.90221e-5</td></tr><tr><th>4</th><td>100</td><td>15</td><td>0.169429</td><td>0.00871183</td><td>1500</td><td>0.160718</td><td>0.178141</td><td>0.000112953</td></tr><tr><th>5</th><td>100</td><td>20</td><td>0.255359</td><td>0.0107466</td><td>2000</td><td>0.244613</td><td>0.266106</td><td>0.00012768</td></tr><tr><th>6</th><td>100</td><td>25</td><td>0.356626</td><td>0.0135027</td><td>2500</td><td>0.343124</td><td>0.370129</td><td>0.000142651</td></tr><tr><th>7</th><td>1000</td><td>2</td><td>0.196118</td><td>0.00306513</td><td>2000</td><td>0.193053</td><td>0.199183</td><td>9.80591e-5</td></tr><tr><th>8</th><td>1000</td><td>5</td><td>0.403979</td><td>0.00593872</td><td>5000</td><td>0.398041</td><td>0.409918</td><td>8.07959e-5</td></tr><tr><th>9</th><td>1000</td><td>10</td><td>0.889545</td><td>0.0158213</td><td>10000</td><td>0.873723</td><td>0.905366</td><td>8.89545e-5</td></tr><tr><th>10</th><td>1000</td><td>15</td><td>1.52468</td><td>0.044078</td><td>15000</td><td>1.4806</td><td>1.56876</td><td>0.000101645</td></tr><tr><th>11</th><td>1000</td><td>20</td><td>2.89405</td><td>0.0617225</td><td>20000</td><td>2.83233</td><td>2.95577</td><td>0.000144702</td></tr><tr><th>12</th><td>1000</td><td>25</td><td>3.6891</td><td>0.0683902</td><td>25000</td><td>3.62071</td><td>3.75749</td><td>0.000147564</td></tr><tr><th>13</th><td>10000</td><td>2</td><td>1.97048</td><td>0.0249849</td><td>20000</td><td>1.94549</td><td>1.99546</td><td>9.85239e-5</td></tr><tr><th>14</th><td>10000</td><td>5</td><td>3.96075</td><td>0.0502016</td><td>50000</td><td>3.91055</td><td>4.01095</td><td>7.9215e-5</td></tr><tr><th>15</th><td>10000</td><td>10</td><td>8.96235</td><td>0.0991709</td><td>100000</td><td>8.86318</td><td>9.06152</td><td>8.96235e-5</td></tr><tr><th>16</th><td>10000</td><td>15</td><td>14.8808</td><td>0.270712</td><td>150000</td><td>14.6101</td><td>15.1515</td><td>9.92051e-5</td></tr><tr><th>17</th><td>10000</td><td>20</td><td>33.7805</td><td>0.510833</td><td>200000</td><td>33.2697</td><td>34.2914</td><td>0.000168903</td></tr><tr><th>18</th><td>10000</td><td>25</td><td>45.9731</td><td>0.776886</td><td>250000</td><td>45.1962</td><td>46.75</td><td>0.000183892</td></tr></tbody></table></div>"
      ],
      "text/latex": [
       "\\begin{tabular}{r|cccccccc}\n",
       "\t& samplesize & obssize & fittime & se & nobs & fitmin & fitmax & perobsratio\\\\\n",
       "\t\\hline\n",
       "\t& String & String & Float64 & Float64 & Int64 & Float64 & Float64 & Float64\\\\\n",
       "\t\\hline\n",
       "\t1 & 100 & 2 & 0.02961 & 0.0032549 & 200 & 0.0263551 & 0.0328649 & 0.00014805 \\\\\n",
       "\t2 & 100 & 5 & 0.0451908 & 0.00125213 & 500 & 0.0439387 & 0.046443 & 9.03816e-5 \\\\\n",
       "\t3 & 100 & 10 & 0.0990221 & 0.00502559 & 1000 & 0.0939965 & 0.104048 & 9.90221e-5 \\\\\n",
       "\t4 & 100 & 15 & 0.169429 & 0.00871183 & 1500 & 0.160718 & 0.178141 & 0.000112953 \\\\\n",
       "\t5 & 100 & 20 & 0.255359 & 0.0107466 & 2000 & 0.244613 & 0.266106 & 0.00012768 \\\\\n",
       "\t6 & 100 & 25 & 0.356626 & 0.0135027 & 2500 & 0.343124 & 0.370129 & 0.000142651 \\\\\n",
       "\t7 & 1000 & 2 & 0.196118 & 0.00306513 & 2000 & 0.193053 & 0.199183 & 9.80591e-5 \\\\\n",
       "\t8 & 1000 & 5 & 0.403979 & 0.00593872 & 5000 & 0.398041 & 0.409918 & 8.07959e-5 \\\\\n",
       "\t9 & 1000 & 10 & 0.889545 & 0.0158213 & 10000 & 0.873723 & 0.905366 & 8.89545e-5 \\\\\n",
       "\t10 & 1000 & 15 & 1.52468 & 0.044078 & 15000 & 1.4806 & 1.56876 & 0.000101645 \\\\\n",
       "\t11 & 1000 & 20 & 2.89405 & 0.0617225 & 20000 & 2.83233 & 2.95577 & 0.000144702 \\\\\n",
       "\t12 & 1000 & 25 & 3.6891 & 0.0683902 & 25000 & 3.62071 & 3.75749 & 0.000147564 \\\\\n",
       "\t13 & 10000 & 2 & 1.97048 & 0.0249849 & 20000 & 1.94549 & 1.99546 & 9.85239e-5 \\\\\n",
       "\t14 & 10000 & 5 & 3.96075 & 0.0502016 & 50000 & 3.91055 & 4.01095 & 7.9215e-5 \\\\\n",
       "\t15 & 10000 & 10 & 8.96235 & 0.0991709 & 100000 & 8.86318 & 9.06152 & 8.96235e-5 \\\\\n",
       "\t16 & 10000 & 15 & 14.8808 & 0.270712 & 150000 & 14.6101 & 15.1515 & 9.92051e-5 \\\\\n",
       "\t17 & 10000 & 20 & 33.7805 & 0.510833 & 200000 & 33.2697 & 34.2914 & 0.000168903 \\\\\n",
       "\t18 & 10000 & 25 & 45.9731 & 0.776886 & 250000 & 45.1962 & 46.75 & 0.000183892 \\\\\n",
       "\\end{tabular}\n"
      ],
      "text/plain": [
       "\u001b[1m18×8 DataFrame\u001b[0m\n",
       "\u001b[1m Row \u001b[0m│\u001b[1m samplesize \u001b[0m\u001b[1m obssize \u001b[0m\u001b[1m fittime    \u001b[0m\u001b[1m se         \u001b[0m\u001b[1m nobs   \u001b[0m\u001b[1m fitmin     \u001b[0m\u001b[1m fitmax\u001b[0m ⋯\n",
       "\u001b[1m     \u001b[0m│\u001b[90m String     \u001b[0m\u001b[90m String  \u001b[0m\u001b[90m Float64    \u001b[0m\u001b[90m Float64    \u001b[0m\u001b[90m Int64  \u001b[0m\u001b[90m Float64    \u001b[0m\u001b[90m Float6\u001b[0m ⋯\n",
       "─────┼──────────────────────────────────────────────────────────────────────────\n",
       "   1 │ 100         2         0.02961    0.0032549      200   0.0263551   0.032 ⋯\n",
       "   2 │ 100         5         0.0451908  0.00125213     500   0.0439387   0.046\n",
       "   3 │ 100         10        0.0990221  0.00502559    1000   0.0939965   0.104\n",
       "   4 │ 100         15        0.169429   0.00871183    1500   0.160718    0.178\n",
       "   5 │ 100         20        0.255359   0.0107466     2000   0.244613    0.266 ⋯\n",
       "   6 │ 100         25        0.356626   0.0135027     2500   0.343124    0.370\n",
       "   7 │ 1000        2         0.196118   0.00306513    2000   0.193053    0.199\n",
       "   8 │ 1000        5         0.403979   0.00593872    5000   0.398041    0.409\n",
       "   9 │ 1000        10        0.889545   0.0158213    10000   0.873723    0.905 ⋯\n",
       "  10 │ 1000        15        1.52468    0.044078     15000   1.4806      1.568\n",
       "  11 │ 1000        20        2.89405    0.0617225    20000   2.83233     2.955\n",
       "  12 │ 1000        25        3.6891     0.0683902    25000   3.62071     3.757\n",
       "  13 │ 10000       2         1.97048    0.0249849    20000   1.94549     1.995 ⋯\n",
       "  14 │ 10000       5         3.96075    0.0502016    50000   3.91055     4.010\n",
       "  15 │ 10000       10        8.96235    0.0991709   100000   8.86318     9.061\n",
       "  16 │ 10000       15       14.8808     0.270712    150000  14.6101     15.151\n",
       "  17 │ 10000       20       33.7805     0.510833    200000  33.2697     34.291 ⋯\n",
       "  18 │ 10000       25       45.9731     0.776886    250000  45.1962     46.75\n",
       "\u001b[36m                                                               2 columns omitted\u001b[0m"
      ]
     },
     "execution_count": 7,
     "metadata": {},
     "output_type": "execute_result"
    }
   ],
   "source": [
    "#simulation parameters\n",
    "@info \"making results table GLMM\"\n",
    "sample_sizes = repeat(string.(samplesizes), inner = nsims * length(ns))\n",
    "obs_sizes = repeat(string.(ns), inner = nsims, outer = length(samplesizes))\n",
    "\n",
    "msedf = DataFrame(samplesize = sample_sizes, obssize = obs_sizes, fittimes = fittimes_GLMM)\n",
    "timedf2 = combine(groupby(msedf, [:samplesize, :obssize]), :fittimes => mean => :fittime,\n",
    "    :fittimes => x -> (std(x)/sqrt(length(x))))\n",
    "rename!(timedf2, Dict(:fittimes_function => \"se\"))\n",
    "timedf2[!, :nobs] = Meta.parse.(timedf2[!, :samplesize]) .* Meta.parse.(timedf2[!, :obssize])\n",
    "timedf2[!, :fitmin] = timedf2[!, :fittime] - timedf2[!, :se]\n",
    "timedf2[!, :fitmax] = timedf2[!, :fittime] + timedf2[!, :se]\n",
    "timedf2[!, :perobsratio] = timedf2[!, :fittime] ./ timedf2[!, :nobs]\n",
    "timedf2"
   ]
  },
  {
   "cell_type": "code",
   "execution_count": 8,
   "metadata": {},
   "outputs": [
    {
     "data": {
      "text/html": [
       "<div class=\"data-frame\"><p>18 rows × 6 columns (omitted printing of 1 columns)</p><table class=\"data-frame\"><thead><tr><th></th><th>people_obs</th><th>β1</th><th>β2</th><th>β3</th><th>r</th></tr><tr><th></th><th title=\"String\">String</th><th title=\"Tuple{Float64, Float64}\">Tuple…</th><th title=\"Tuple{Float64, Float64}\">Tuple…</th><th title=\"Tuple{Float64, Float64}\">Tuple…</th><th title=\"Tuple{Float64, Float64}\">Tuple…</th></tr></thead><tbody><tr><th>1</th><td>N: 100  ni: 2</td><td>(0.66, 0.0476095)</td><td>(0.79, 0.040936)</td><td>(0.74, 0.0440844)</td><td>(0.71, 0.0456048)</td></tr><tr><th>2</th><td>N: 100  ni: 5</td><td>(0.61, 0.0490207)</td><td>(0.78, 0.0416333)</td><td>(0.78, 0.0416333)</td><td>(0.8, 0.0402015)</td></tr><tr><th>3</th><td>N: 100  ni: 10</td><td>(0.56, 0.0498888)</td><td>(0.7, 0.0460566)</td><td>(0.72, 0.0451261)</td><td>(0.7, 0.0460566)</td></tr><tr><th>4</th><td>N: 100  ni: 15</td><td>(0.68, 0.0468826)</td><td>(0.69, 0.0464823)</td><td>(0.77, 0.0422953)</td><td>(0.82, 0.0386123)</td></tr><tr><th>5</th><td>N: 100  ni: 20</td><td>(0.64, 0.0482418)</td><td>(0.76, 0.0429235)</td><td>(0.73, 0.0446196)</td><td>(0.84, 0.0368453)</td></tr><tr><th>6</th><td>N: 100  ni: 25</td><td>(0.71, 0.0456048)</td><td>(0.73, 0.0446196)</td><td>(0.67, 0.0472582)</td><td>(0.91, 0.0287623)</td></tr><tr><th>7</th><td>N: 1000  ni: 2</td><td>(0.7, 0.0460566)</td><td>(0.83, 0.0377525)</td><td>(0.83, 0.0377525)</td><td>(0.86, 0.0348735)</td></tr><tr><th>8</th><td>N: 1000  ni: 5</td><td>(0.37, 0.0485237)</td><td>(0.44, 0.0498888)</td><td>(0.88, 0.0326599)</td><td>(0.78, 0.0416333)</td></tr><tr><th>9</th><td>N: 1000  ni: 10</td><td>(0.45, 0.05)</td><td>(0.55, 0.05)</td><td>(0.81, 0.0394277)</td><td>(0.8, 0.0402015)</td></tr><tr><th>10</th><td>N: 1000  ni: 15</td><td>(0.51, 0.0502418)</td><td>(0.64, 0.0482418)</td><td>(0.73, 0.0446196)</td><td>(0.86, 0.0348735)</td></tr><tr><th>11</th><td>N: 1000  ni: 20</td><td>(0.54, 0.0500908)</td><td>(0.77, 0.0422953)</td><td>(0.63, 0.0485237)</td><td>(0.99, 0.01)</td></tr><tr><th>12</th><td>N: 1000  ni: 25</td><td>(0.6, 0.0492366)</td><td>(0.74, 0.0440844)</td><td>(0.56, 0.0498888)</td><td>(0.99, 0.01)</td></tr><tr><th>13</th><td>N: 10000  ni: 2</td><td>(0.82, 0.0386123)</td><td>(0.73, 0.0446196)</td><td>(0.69, 0.0464823)</td><td>(0.84, 0.0368453)</td></tr><tr><th>14</th><td>N: 10000  ni: 5</td><td>(0.21, 0.040936)</td><td>(0.21, 0.040936)</td><td>(1.0, 0.0)</td><td>(0.45, 0.05)</td></tr><tr><th>15</th><td>N: 10000  ni: 10</td><td>(0.33, 0.0472582)</td><td>(0.51, 0.0502418)</td><td>(0.79, 0.040936)</td><td>(0.73, 0.0446196)</td></tr><tr><th>16</th><td>N: 10000  ni: 15</td><td>(0.47, 0.0501614)</td><td>(0.8, 0.0402015)</td><td>(0.5, 0.0502519)</td><td>(0.96, 0.0196946)</td></tr><tr><th>17</th><td>N: 10000  ni: 20</td><td>(0.56, 0.0498888)</td><td>(0.75, 0.0435194)</td><td>(0.58, 0.0496045)</td><td>(0.96, 0.0196946)</td></tr><tr><th>18</th><td>N: 10000  ni: 25</td><td>(0.4, 0.0492366)</td><td>(0.78, 0.0416333)</td><td>(0.52, 0.0502117)</td><td>(0.98, 0.0140705)</td></tr></tbody></table></div>"
      ],
      "text/latex": [
       "\\begin{tabular}{r|cccccc}\n",
       "\t& people\\_obs & β1 & β2 & β3 & r & \\\\\n",
       "\t\\hline\n",
       "\t& String & Tuple… & Tuple… & Tuple… & Tuple… & \\\\\n",
       "\t\\hline\n",
       "\t1 & N: 100  ni: 2 & (0.66, 0.0476095) & (0.79, 0.040936) & (0.74, 0.0440844) & (0.71, 0.0456048) & $\\dots$ \\\\\n",
       "\t2 & N: 100  ni: 5 & (0.61, 0.0490207) & (0.78, 0.0416333) & (0.78, 0.0416333) & (0.8, 0.0402015) & $\\dots$ \\\\\n",
       "\t3 & N: 100  ni: 10 & (0.56, 0.0498888) & (0.7, 0.0460566) & (0.72, 0.0451261) & (0.7, 0.0460566) & $\\dots$ \\\\\n",
       "\t4 & N: 100  ni: 15 & (0.68, 0.0468826) & (0.69, 0.0464823) & (0.77, 0.0422953) & (0.82, 0.0386123) & $\\dots$ \\\\\n",
       "\t5 & N: 100  ni: 20 & (0.64, 0.0482418) & (0.76, 0.0429235) & (0.73, 0.0446196) & (0.84, 0.0368453) & $\\dots$ \\\\\n",
       "\t6 & N: 100  ni: 25 & (0.71, 0.0456048) & (0.73, 0.0446196) & (0.67, 0.0472582) & (0.91, 0.0287623) & $\\dots$ \\\\\n",
       "\t7 & N: 1000  ni: 2 & (0.7, 0.0460566) & (0.83, 0.0377525) & (0.83, 0.0377525) & (0.86, 0.0348735) & $\\dots$ \\\\\n",
       "\t8 & N: 1000  ni: 5 & (0.37, 0.0485237) & (0.44, 0.0498888) & (0.88, 0.0326599) & (0.78, 0.0416333) & $\\dots$ \\\\\n",
       "\t9 & N: 1000  ni: 10 & (0.45, 0.05) & (0.55, 0.05) & (0.81, 0.0394277) & (0.8, 0.0402015) & $\\dots$ \\\\\n",
       "\t10 & N: 1000  ni: 15 & (0.51, 0.0502418) & (0.64, 0.0482418) & (0.73, 0.0446196) & (0.86, 0.0348735) & $\\dots$ \\\\\n",
       "\t11 & N: 1000  ni: 20 & (0.54, 0.0500908) & (0.77, 0.0422953) & (0.63, 0.0485237) & (0.99, 0.01) & $\\dots$ \\\\\n",
       "\t12 & N: 1000  ni: 25 & (0.6, 0.0492366) & (0.74, 0.0440844) & (0.56, 0.0498888) & (0.99, 0.01) & $\\dots$ \\\\\n",
       "\t13 & N: 10000  ni: 2 & (0.82, 0.0386123) & (0.73, 0.0446196) & (0.69, 0.0464823) & (0.84, 0.0368453) & $\\dots$ \\\\\n",
       "\t14 & N: 10000  ni: 5 & (0.21, 0.040936) & (0.21, 0.040936) & (1.0, 0.0) & (0.45, 0.05) & $\\dots$ \\\\\n",
       "\t15 & N: 10000  ni: 10 & (0.33, 0.0472582) & (0.51, 0.0502418) & (0.79, 0.040936) & (0.73, 0.0446196) & $\\dots$ \\\\\n",
       "\t16 & N: 10000  ni: 15 & (0.47, 0.0501614) & (0.8, 0.0402015) & (0.5, 0.0502519) & (0.96, 0.0196946) & $\\dots$ \\\\\n",
       "\t17 & N: 10000  ni: 20 & (0.56, 0.0498888) & (0.75, 0.0435194) & (0.58, 0.0496045) & (0.96, 0.0196946) & $\\dots$ \\\\\n",
       "\t18 & N: 10000  ni: 25 & (0.4, 0.0492366) & (0.78, 0.0416333) & (0.52, 0.0502117) & (0.98, 0.0140705) & $\\dots$ \\\\\n",
       "\\end{tabular}\n"
      ],
      "text/plain": [
       "\u001b[1m18×6 DataFrame\u001b[0m\n",
       "\u001b[1m Row \u001b[0m│\u001b[1m people_obs       \u001b[0m\u001b[1m β1                \u001b[0m\u001b[1m β2                \u001b[0m\u001b[1m β3             \u001b[0m ⋯\n",
       "\u001b[1m     \u001b[0m│\u001b[90m String           \u001b[0m\u001b[90m Tuple…            \u001b[0m\u001b[90m Tuple…            \u001b[0m\u001b[90m Tuple…         \u001b[0m ⋯\n",
       "─────┼──────────────────────────────────────────────────────────────────────────\n",
       "   1 │ N: 100  ni: 2     (0.66, 0.0476095)  (0.79, 0.040936)   (0.74, 0.044084 ⋯\n",
       "   2 │ N: 100  ni: 5     (0.61, 0.0490207)  (0.78, 0.0416333)  (0.78, 0.041633\n",
       "   3 │ N: 100  ni: 10    (0.56, 0.0498888)  (0.7, 0.0460566)   (0.72, 0.045126\n",
       "   4 │ N: 100  ni: 15    (0.68, 0.0468826)  (0.69, 0.0464823)  (0.77, 0.042295\n",
       "   5 │ N: 100  ni: 20    (0.64, 0.0482418)  (0.76, 0.0429235)  (0.73, 0.044619 ⋯\n",
       "   6 │ N: 100  ni: 25    (0.71, 0.0456048)  (0.73, 0.0446196)  (0.67, 0.047258\n",
       "   7 │ N: 1000  ni: 2    (0.7, 0.0460566)   (0.83, 0.0377525)  (0.83, 0.037752\n",
       "   8 │ N: 1000  ni: 5    (0.37, 0.0485237)  (0.44, 0.0498888)  (0.88, 0.032659\n",
       "   9 │ N: 1000  ni: 10   (0.45, 0.05)       (0.55, 0.05)       (0.81, 0.039427 ⋯\n",
       "  10 │ N: 1000  ni: 15   (0.51, 0.0502418)  (0.64, 0.0482418)  (0.73, 0.044619\n",
       "  11 │ N: 1000  ni: 20   (0.54, 0.0500908)  (0.77, 0.0422953)  (0.63, 0.048523\n",
       "  12 │ N: 1000  ni: 25   (0.6, 0.0492366)   (0.74, 0.0440844)  (0.56, 0.049888\n",
       "  13 │ N: 10000  ni: 2   (0.82, 0.0386123)  (0.73, 0.0446196)  (0.69, 0.046482 ⋯\n",
       "  14 │ N: 10000  ni: 5   (0.21, 0.040936)   (0.21, 0.040936)   (1.0, 0.0)\n",
       "  15 │ N: 10000  ni: 10  (0.33, 0.0472582)  (0.51, 0.0502418)  (0.79, 0.040936\n",
       "  16 │ N: 10000  ni: 15  (0.47, 0.0501614)  (0.8, 0.0402015)   (0.5, 0.0502519\n",
       "  17 │ N: 10000  ni: 20  (0.56, 0.0498888)  (0.75, 0.0435194)  (0.58, 0.049604 ⋯\n",
       "  18 │ N: 10000  ni: 25  (0.4, 0.0492366)   (0.78, 0.0416333)  (0.52, 0.050211\n",
       "\u001b[36m                                                               3 columns omitted\u001b[0m"
      ]
     },
     "execution_count": 8,
     "metadata": {},
     "output_type": "execute_result"
    }
   ],
   "source": [
    "######  supplementary table s1\n",
    "using Random, DataFrames, DelimitedFiles, Statistics\n",
    "import StatsBase: sem\n",
    "\n",
    "βθcoverage = readdlm(\"beta_r_theta_coverage_multivariate_NB_vcm$(nsims)reps_sim.csv\", ',')\n",
    "\n",
    "m  = 1\n",
    "\n",
    "covdf = DataFrame(Matrix(transpose(βθcoverage)), :auto)\n",
    "rename!(covdf, Symbol.([[\"β$i\" for i in 1:p]; [\"r\"]; [\"θ$i\" for i in 1:m]]))\n",
    "covdf[!, :samplesize] = sample_sizes\n",
    "covdf[!, :obssize] = obs_sizes\n",
    "first(covdf, 10)\n",
    "\n",
    "row_stats = [[(mean(col), sem(col)) for col = eachcol(d[!, 1:end-2])] for d = groupby(covdf, [:samplesize; :obssize])]\n",
    "df = DataFrame(row_stats, :auto)\n",
    "ss_obs = unique(\"N: \" .* sample_sizes .* \"  ni: \" .* obs_sizes)\n",
    "rename!(df, Symbol.(ss_obs))\n",
    "covdfdisplay = DataFrame([[names(df)]; collect.(eachrow(df))], \n",
    "    [:people_obs; Symbol.([[\"β$i\" for i in 1:p];  [\"r\"];  [\"θ$i\" for i in 1:m]])])\n",
    "# deletecols!(covdfdisplay, p + 2)\n",
    "covdfdisplay\n"
   ]
  },
  {
   "cell_type": "code",
   "execution_count": 9,
   "metadata": {},
   "outputs": [
    {
     "data": {
      "text/html": [
       "<div class=\"data-frame\"><p>10,778 rows × 5 columns</p><table class=\"data-frame\"><thead><tr><th></th><th>mse</th><th>obssize</th><th>samplesize</th><th>parameters</th><th>robust</th></tr><tr><th></th><th title=\"Float64\">Float64</th><th title=\"String\">String</th><th title=\"String\">String</th><th title=\"String\">String</th><th title=\"String\">String</th></tr></thead><tbody><tr><th>1</th><td>0.00349731</td><td>2</td><td>100</td><td>beta</td><td>Negative Binomial QC</td></tr><tr><th>2</th><td>0.00319388</td><td>2</td><td>100</td><td>beta</td><td>Negative Binomial QC</td></tr><tr><th>3</th><td>0.00395464</td><td>2</td><td>100</td><td>beta</td><td>Negative Binomial QC</td></tr><tr><th>4</th><td>0.00174776</td><td>2</td><td>100</td><td>beta</td><td>Negative Binomial QC</td></tr><tr><th>5</th><td>0.00661194</td><td>2</td><td>100</td><td>beta</td><td>Negative Binomial QC</td></tr><tr><th>6</th><td>0.00887658</td><td>2</td><td>100</td><td>beta</td><td>Negative Binomial QC</td></tr><tr><th>7</th><td>0.0181029</td><td>2</td><td>100</td><td>beta</td><td>Negative Binomial QC</td></tr><tr><th>8</th><td>0.00418921</td><td>2</td><td>100</td><td>beta</td><td>Negative Binomial QC</td></tr><tr><th>9</th><td>0.00290134</td><td>2</td><td>100</td><td>beta</td><td>Negative Binomial QC</td></tr><tr><th>10</th><td>0.029853</td><td>2</td><td>100</td><td>beta</td><td>Negative Binomial QC</td></tr><tr><th>11</th><td>0.0087098</td><td>2</td><td>100</td><td>beta</td><td>Negative Binomial QC</td></tr><tr><th>12</th><td>0.00898717</td><td>2</td><td>100</td><td>beta</td><td>Negative Binomial QC</td></tr><tr><th>13</th><td>0.0020712</td><td>2</td><td>100</td><td>beta</td><td>Negative Binomial QC</td></tr><tr><th>14</th><td>0.00222453</td><td>2</td><td>100</td><td>beta</td><td>Negative Binomial QC</td></tr><tr><th>15</th><td>0.000696319</td><td>2</td><td>100</td><td>beta</td><td>Negative Binomial QC</td></tr><tr><th>16</th><td>0.00137535</td><td>2</td><td>100</td><td>beta</td><td>Negative Binomial QC</td></tr><tr><th>17</th><td>0.00210403</td><td>2</td><td>100</td><td>beta</td><td>Negative Binomial QC</td></tr><tr><th>18</th><td>0.00228096</td><td>2</td><td>100</td><td>beta</td><td>Negative Binomial QC</td></tr><tr><th>19</th><td>0.0154644</td><td>2</td><td>100</td><td>beta</td><td>Negative Binomial QC</td></tr><tr><th>20</th><td>0.00257617</td><td>2</td><td>100</td><td>beta</td><td>Negative Binomial QC</td></tr><tr><th>21</th><td>0.00438645</td><td>2</td><td>100</td><td>beta</td><td>Negative Binomial QC</td></tr><tr><th>22</th><td>0.00796879</td><td>2</td><td>100</td><td>beta</td><td>Negative Binomial QC</td></tr><tr><th>23</th><td>0.0102717</td><td>2</td><td>100</td><td>beta</td><td>Negative Binomial QC</td></tr><tr><th>24</th><td>0.00341414</td><td>2</td><td>100</td><td>beta</td><td>Negative Binomial QC</td></tr><tr><th>25</th><td>0.00846498</td><td>2</td><td>100</td><td>beta</td><td>Negative Binomial QC</td></tr><tr><th>26</th><td>0.000363989</td><td>2</td><td>100</td><td>beta</td><td>Negative Binomial QC</td></tr><tr><th>27</th><td>0.000707605</td><td>2</td><td>100</td><td>beta</td><td>Negative Binomial QC</td></tr><tr><th>28</th><td>0.00650303</td><td>2</td><td>100</td><td>beta</td><td>Negative Binomial QC</td></tr><tr><th>29</th><td>0.00233462</td><td>2</td><td>100</td><td>beta</td><td>Negative Binomial QC</td></tr><tr><th>30</th><td>0.00407097</td><td>2</td><td>100</td><td>beta</td><td>Negative Binomial QC</td></tr><tr><th>&vellip;</th><td>&vellip;</td><td>&vellip;</td><td>&vellip;</td><td>&vellip;</td><td>&vellip;</td></tr></tbody></table></div>"
      ],
      "text/latex": [
       "\\begin{tabular}{r|ccccc}\n",
       "\t& mse & obssize & samplesize & parameters & robust\\\\\n",
       "\t\\hline\n",
       "\t& Float64 & String & String & String & String\\\\\n",
       "\t\\hline\n",
       "\t1 & 0.00349731 & 2 & 100 & beta & Negative Binomial QC \\\\\n",
       "\t2 & 0.00319388 & 2 & 100 & beta & Negative Binomial QC \\\\\n",
       "\t3 & 0.00395464 & 2 & 100 & beta & Negative Binomial QC \\\\\n",
       "\t4 & 0.00174776 & 2 & 100 & beta & Negative Binomial QC \\\\\n",
       "\t5 & 0.00661194 & 2 & 100 & beta & Negative Binomial QC \\\\\n",
       "\t6 & 0.00887658 & 2 & 100 & beta & Negative Binomial QC \\\\\n",
       "\t7 & 0.0181029 & 2 & 100 & beta & Negative Binomial QC \\\\\n",
       "\t8 & 0.00418921 & 2 & 100 & beta & Negative Binomial QC \\\\\n",
       "\t9 & 0.00290134 & 2 & 100 & beta & Negative Binomial QC \\\\\n",
       "\t10 & 0.029853 & 2 & 100 & beta & Negative Binomial QC \\\\\n",
       "\t11 & 0.0087098 & 2 & 100 & beta & Negative Binomial QC \\\\\n",
       "\t12 & 0.00898717 & 2 & 100 & beta & Negative Binomial QC \\\\\n",
       "\t13 & 0.0020712 & 2 & 100 & beta & Negative Binomial QC \\\\\n",
       "\t14 & 0.00222453 & 2 & 100 & beta & Negative Binomial QC \\\\\n",
       "\t15 & 0.000696319 & 2 & 100 & beta & Negative Binomial QC \\\\\n",
       "\t16 & 0.00137535 & 2 & 100 & beta & Negative Binomial QC \\\\\n",
       "\t17 & 0.00210403 & 2 & 100 & beta & Negative Binomial QC \\\\\n",
       "\t18 & 0.00228096 & 2 & 100 & beta & Negative Binomial QC \\\\\n",
       "\t19 & 0.0154644 & 2 & 100 & beta & Negative Binomial QC \\\\\n",
       "\t20 & 0.00257617 & 2 & 100 & beta & Negative Binomial QC \\\\\n",
       "\t21 & 0.00438645 & 2 & 100 & beta & Negative Binomial QC \\\\\n",
       "\t22 & 0.00796879 & 2 & 100 & beta & Negative Binomial QC \\\\\n",
       "\t23 & 0.0102717 & 2 & 100 & beta & Negative Binomial QC \\\\\n",
       "\t24 & 0.00341414 & 2 & 100 & beta & Negative Binomial QC \\\\\n",
       "\t25 & 0.00846498 & 2 & 100 & beta & Negative Binomial QC \\\\\n",
       "\t26 & 0.000363989 & 2 & 100 & beta & Negative Binomial QC \\\\\n",
       "\t27 & 0.000707605 & 2 & 100 & beta & Negative Binomial QC \\\\\n",
       "\t28 & 0.00650303 & 2 & 100 & beta & Negative Binomial QC \\\\\n",
       "\t29 & 0.00233462 & 2 & 100 & beta & Negative Binomial QC \\\\\n",
       "\t30 & 0.00407097 & 2 & 100 & beta & Negative Binomial QC \\\\\n",
       "\t$\\dots$ & $\\dots$ & $\\dots$ & $\\dots$ & $\\dots$ & $\\dots$ \\\\\n",
       "\\end{tabular}\n"
      ],
      "text/plain": [
       "\u001b[1m10778×5 DataFrame\u001b[0m\n",
       "\u001b[1m   Row \u001b[0m│\u001b[1m mse         \u001b[0m\u001b[1m obssize \u001b[0m\u001b[1m samplesize \u001b[0m\u001b[1m parameters \u001b[0m\u001b[1m robust                 \u001b[0m\n",
       "\u001b[1m       \u001b[0m│\u001b[90m Float64     \u001b[0m\u001b[90m String  \u001b[0m\u001b[90m String     \u001b[0m\u001b[90m String     \u001b[0m\u001b[90m String                 \u001b[0m\n",
       "───────┼──────────────────────────────────────────────────────────────────────\n",
       "     1 │  0.00349731  2        100         beta        Negative Binomial QC\n",
       "     2 │  0.00319388  2        100         beta        Negative Binomial QC\n",
       "     3 │  0.00395464  2        100         beta        Negative Binomial QC\n",
       "     4 │  0.00174776  2        100         beta        Negative Binomial QC\n",
       "     5 │  0.00661194  2        100         beta        Negative Binomial QC\n",
       "     6 │  0.00887658  2        100         beta        Negative Binomial QC\n",
       "     7 │  0.0181029   2        100         beta        Negative Binomial QC\n",
       "     8 │  0.00418921  2        100         beta        Negative Binomial QC\n",
       "     9 │  0.00290134  2        100         beta        Negative Binomial QC\n",
       "    10 │  0.029853    2        100         beta        Negative Binomial QC\n",
       "    11 │  0.0087098   2        100         beta        Negative Binomial QC\n",
       "   ⋮   │      ⋮          ⋮         ⋮           ⋮                 ⋮\n",
       " 10769 │ 67.0137      25       10000       r           Negative Binomial GLMM\n",
       " 10770 │ 67.1835      25       10000       r           Negative Binomial GLMM\n",
       " 10771 │ 67.0837      25       10000       r           Negative Binomial GLMM\n",
       " 10772 │ 67.2183      25       10000       r           Negative Binomial GLMM\n",
       " 10773 │ 66.9834      25       10000       r           Negative Binomial GLMM\n",
       " 10774 │ 67.1186      25       10000       r           Negative Binomial GLMM\n",
       " 10775 │ 66.9827      25       10000       r           Negative Binomial GLMM\n",
       " 10776 │ 67.0154      25       10000       r           Negative Binomial GLMM\n",
       " 10777 │ 67.0739      25       10000       r           Negative Binomial GLMM\n",
       " 10778 │ 67.0986      25       10000       r           Negative Binomial GLMM\n",
       "\u001b[36m                                                            10757 rows omitted\u001b[0m"
      ]
     },
     "execution_count": 9,
     "metadata": {},
     "output_type": "execute_result"
    }
   ],
   "source": [
    "#### \n",
    "#import data and reorganize to create figure\n",
    "using Random, DataFrames, DelimitedFiles, Statistics, RCall, Printf\n",
    "import StatsBase: sem\n",
    "\n",
    "βMseresult = vec(readdlm(\"mse_beta_multivariate_NB_vcm$(nsims)reps_sim.csv\", ','))\n",
    "θMseresult = vec(readdlm(\"mse_theta_multivariate_NB_vcm$(nsims)reps_sim.csv\", ','))\n",
    "rMseresult =  vec(readdlm(\"mse_r_multivariate_NB_vcm$(nsims)reps_sim.csv\", ','))\n",
    "\n",
    "βMseresult_GLMM = vec(readdlm(\"mse_beta_GLMM_multivariate_NB_vcm$(nsims)reps_sim.csv\", ','))\n",
    "θMseresult_GLMM = vec(readdlm(\"mse_theta_GLMM_multivariate_NB_vcm$(nsims)reps_sim.csv\", ','))\n",
    "rMseresult_GLMM =  vec(readdlm(\"mse_r_GLMMmultivariate_NB_vcm$(nsims)reps_sim.csv\", ','))\n",
    "\n",
    "\n",
    "p = 3; m = 1\n",
    "sample_sizes = repeat(string.(samplesizes), inner = nsims * length(ns))\n",
    "obs_sizes = repeat(string.(ns), inner = nsims, outer = length(samplesizes))\n",
    "msedf1 = DataFrame(βmse = βMseresult, thetamse = θMseresult, rmse = rMseresult,\n",
    "    samplesize = sample_sizes, obssize = obs_sizes)\n",
    "\n",
    "msedf2 = DataFrame(βmse = βMseresult_GLMM, thetamse = θMseresult_GLMM, rmse = rMseresult_GLMM,\n",
    "    samplesize = sample_sizes, obssize = obs_sizes)\n",
    "\n",
    "#rename to make parsing easier for R.\n",
    "\n",
    "msedf1 = deepcopy(msedf1)\n",
    "rename!(msedf1, [\"betamse\"\n",
    "    \"thetamse\"\n",
    "        \"rmse\"\n",
    "    \"samplesize\"\n",
    " \"obssize\"]);\n",
    "\n",
    "msedf2 = deepcopy(msedf2)\n",
    "rename!(msedf2, [\"betamse\"\n",
    "    \"thetamse\"\n",
    "        \"rmse\"\n",
    "    \"samplesize\"\n",
    " \"obssize\"]);\n",
    "\n",
    "mses = [msedf1[!, :betamse]; msedf1[!, :thetamse];msedf1[!, :rmse]; msedf2[!, :betamse]; msedf2[!, :thetamse]; msedf2[!, :rmse]]\n",
    "    # msedfnormR[!, :betamse]; msedfnormR[!, :taumse]; msedfnormR[!, :Sigmamse]]\n",
    "obssize = [collect([repeat(msedf1[!, :obssize], 3)]...) ; collect([repeat(msedf2[!, :obssize], 3)]...)]\n",
    "#40\n",
    "samplesize = [collect([repeat(msedf1[!, :samplesize], 3)]...) ; collect([repeat(msedf2[!, :samplesize], 3)]...)]\n",
    "\n",
    "parameters = [collect([repeat(string.([:beta, :theta, :r]), inner = nsims * length(ns) * length(samplesizes))]...) ; collect([repeat(string.([:beta, :theta, :r]), inner = nsims * length(ns) * length(samplesizes))]...)]\n",
    "robust = [collect([repeat([\"Negative Binomial QC\"], 3 * nsims * length(ns) * length(samplesizes))]...); collect([repeat([\"Negative Binomial GLMM\"],  3 * nsims * length(ns) * length(samplesizes))]...)]\n",
    "\n",
    "msedfR = DataFrame(mse = mses, obssize = obssize, samplesize = samplesize,\n",
    "    parameters = parameters, robust = robust)\n",
    "\n",
    "#5 of the 30,000 simulations did not converge, filter out\n",
    "msedfR = filter(x -> !isnan(x.mse), msedfR)\n",
    "# additionally, there are 5 where an error was not caught so it did not try a differnt solver\n",
    "msedfR = filter(x -> x.mse < 40000, msedfR)"
   ]
  },
  {
   "cell_type": "code",
   "execution_count": 10,
   "metadata": {},
   "outputs": [
    {
     "name": "stderr",
     "output_type": "stream",
     "text": [
      "┌ Warning: RCall.jl: Warning: package ‘scales’ was built under R version 4.0.2\n",
      "└ @ RCall /Users/sarahji/.julia/packages/RCall/6kphM/src/io.jl:172\n",
      "┌ Warning: RCall.jl: Warning: package ‘ggplot2’ was built under R version 4.0.2\n",
      "└ @ RCall /Users/sarahji/.julia/packages/RCall/6kphM/src/io.jl:172\n",
      "┌ Warning: RCall.jl: Warning: package ‘data.table’ was built under R version 4.0.2\n",
      "└ @ RCall /Users/sarahji/.julia/packages/RCall/6kphM/src/io.jl:172\n"
     ]
    },
    {
     "data": {
      "image/png": "[encoded data removed]"
     },
     "metadata": {},
     "output_type": "display_data"
    },
    {
     "data": {
      "text/plain": [
       "RObject{VecSxp}\n"
      ]
     },
     "execution_count": 10,
     "metadata": {},
     "output_type": "execute_result"
    }
   ],
   "source": [
    "### working on figure next\n",
    "@rput msedfR\n",
    "\n",
    "R\"\"\"\n",
    "library(scales)\n",
    "library(ggplot2)\n",
    "library(data.table)\n",
    "\n",
    "msedfR = data.table(msedfR)\n",
    "\n",
    "msedfR[parameters == \"beta\",y_min := 10^-4]\n",
    "msedfR[parameters == \"beta\",y_max := 10^0]\n",
    "msedfR[parameters == \"theta\",y_min := 10^-4]\n",
    "msedfR[parameters == \"theta\",y_max := 10^1]\n",
    "msedfR[parameters == \"r\", y_min := 10^-3]\n",
    "msedfR[parameters == \"r\", y_max := 10^3]\n",
    "\n",
    "#msedfR[parameters == \"beta\",y_min := 10^-8]\n",
    "#msedfR[parameters == \"beta\",y_max := 10^-2]\n",
    "#msedfR[parameters == \"tau\",y_min := 10^-8]\n",
    "#msedfR[parameters == \"tau\",y_max := 10^-2]\n",
    "#msedfR[parameters == \"Sigma\",y_min := 10^-5]\n",
    "#msedfR[parameters == \"Sigma\",y_max := 10^-2]\n",
    "\n",
    "\n",
    "msedfR$obssize = factor(msedfR$obssize, levels = c('2', '5', '10', '15', '20', '25'))\n",
    "msedfR$samplesize = factor(msedfR$samplesize, levels = c('100', '1000', '10000'))\n",
    "msedfR$parameters = factor(msedfR$parameters, levels = c('beta', 'theta', 'r'), labels = c(beta = expression(hat(bold(beta))), theta = expression(hat(bold(theta))[]), r = expression(hat(bold(r))[])))\n",
    "msedfR$robust <- factor(msedfR$robust, levels = c('Negative Binomial QC', 'Negative Binomial GLMM'),\n",
    "    labels = c(expression(paste(\"Negative Binomial QC\")), expression(paste(\"Negative Binomial GLMM\"))))\n",
    "\n",
    "#mseplot <- ggplot(msedfR[msedfR$mse < 10^0, ], aes(x=samplesize, y=mse, fill=obssize)) + \n",
    "mseplot = ggplot(msedfR[msedfR$mse < 10^3, ], aes(x=samplesize, y=mse, fill=obssize)) + \n",
    "  #geom_boxplot(outlier.size = 0.0, outlier.alpha = 0) +\n",
    "  geom_boxplot(outlier.size = 0.25) +\n",
    "#    geom_violin() +\n",
    "    facet_grid(parameters ~ robust, labeller = label_parsed, scales = \"free_y\") +\n",
    "  theme(legend.position=\"right\", legend.key = element_blank(), axis.text.x = element_text(angle=0, size=30),\n",
    "        axis.text.y = element_text(angle=0, size=30), axis.title.x = element_text(size = 30, face=\"bold\"), \n",
    "        axis.title.y = element_text(size = 40, face=\"bold\"), legend.title = element_text(size = 30, face=\"bold\"),\n",
    "        panel.grid.major = element_blank(), panel.grid.minor = element_blank(),\n",
    "        legend.text=element_text(size=30), panel.background = element_rect(fill = NA, color = \"black\"),\n",
    "        #panel.background = element_blank(), #panel.border = element_blank(),\n",
    "        axis.line = element_line(color = 'black',size=0.3), plot.title = element_text(hjust = 0.5),\n",
    "        strip.background = element_rect(colour=\"black\", fill=\"white\"), strip.text.y = element_text(angle = 0, size=75, face=\"bold\"),\n",
    "        strip.text.x = element_text(size=25)) + \n",
    "  scale_fill_manual(values = c(\"#c85f55\",\n",
    "\"#a964bf\",\n",
    "\"#8db352\",\n",
    "\"#fa7300\",\n",
    "\"#05aec0\",\n",
    "\"#ff1493\")) +\n",
    "#scale_y_log10(breaks = scales::trans_breaks(\"log10\", function(x) 10^x)) +\n",
    "#scale_y_log10(breaks = 10^(-8:8), limit=c(10^-8, 10^2)) + \n",
    "scale_y_log10(breaks = 10^seq(-10, 10, 2), labels=trans_format(\"log10\", math_format(10^.x))) + #, limit=c(10^-8, 10^2)) +\n",
    "  labs(x = \"Sample Size\", y = \"MSE of Parameter Estimates\", fill = \"Cluster Size\") +\n",
    "geom_blank(aes(y = y_max)) + \n",
    "geom_blank(aes(y = y_min)) \n",
    "\n",
    "\"\"\""
   ]
  },
  {
   "cell_type": "code",
   "execution_count": 11,
   "metadata": {},
   "outputs": [
    {
     "data": {
      "text/plain": [
       "RObject{StrSxp}\n",
       "[1] \"updated_msefacetplot_nb_sim1.png\"\n"
      ]
     },
     "execution_count": 11,
     "metadata": {},
     "output_type": "execute_result"
    }
   ],
   "source": [
    "R\"\"\"\n",
    "    ggsave('updated_msefacetplot_nb_sim1.png', mseplot, width = 20, height = 15, units = 'in', dpi = 450)\n",
    "\"\"\""
   ]
  }
 ],
 "metadata": {
  "@webio": {
   "lastCommId": null,
   "lastKernelId": null
  },
  "kernelspec": {
   "display_name": "Julia 1.6.2",
   "language": "julia",
   "name": "julia-1.6"
  },
  "language_info": {
   "file_extension": ".jl",
   "mimetype": "application/julia",
   "name": "julia",
   "version": "1.6.2"
  }
 },
 "nbformat": 4,
 "nbformat_minor": 2
}
