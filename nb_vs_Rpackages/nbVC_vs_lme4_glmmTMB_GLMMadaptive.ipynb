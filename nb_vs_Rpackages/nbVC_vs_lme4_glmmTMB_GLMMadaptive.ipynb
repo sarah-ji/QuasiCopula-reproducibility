{
 "cells": [
  {
   "cell_type": "markdown",
   "metadata": {},
   "source": [
    "# NB QuasiCopula.jl vs. lme4, glmmTMB, GLMMadaptive\n",
    "\n",
    "In this notebook we compare the run times and estimates from our NB VCM fit vs that of R packages `lme4`, `glmmTMB` and `GLMMadaptive`. \n",
    "\n",
    "In this example, the dataset was simulated under the random intercept negative Binomial GLMM for a cluster size of 5 and sample size of 10000.\n",
    "\n",
    "We will use the `RCall` package from julia to get the following results. "
   ]
  },
  {
   "cell_type": "code",
   "execution_count": 1,
   "metadata": {},
   "outputs": [],
   "source": [
    "using QuasiCopula, LinearAlgebra, DelimitedFiles, GLM, RCall\n",
    "using Random\n",
    "using DataFrames"
   ]
  },
  {
   "cell_type": "markdown",
   "metadata": {},
   "source": [
    "For these results we can leverage parallelization features of the Julia language to compute across 8 cores on the following machine."
   ]
  },
  {
   "cell_type": "code",
   "execution_count": 2,
   "metadata": {},
   "outputs": [
    {
     "name": "stdout",
     "output_type": "stream",
     "text": [
      "Julia Version 1.6.2\n",
      "Commit 1b93d53fc4 (2021-07-14 15:36 UTC)\n",
      "Platform Info:\n",
      "  OS: macOS (x86_64-apple-darwin18.7.0)\n",
      "  CPU: Intel(R) Core(TM) i9-9880H CPU @ 2.30GHz\n",
      "  WORD_SIZE: 64\n",
      "  LIBM: libopenlibm\n",
      "  LLVM: libLLVM-11.0.1 (ORCJIT, skylake)\n",
      "Environment:\n",
      "  JULIA_NUM_THREADS = 8\n"
     ]
    }
   ],
   "source": [
    "versioninfo()"
   ]
  },
  {
   "cell_type": "code",
   "execution_count": 3,
   "metadata": {},
   "outputs": [
    {
     "data": {
      "text/plain": [
       "8"
      ]
     },
     "execution_count": 3,
     "metadata": {},
     "output_type": "execute_result"
    }
   ],
   "source": [
    "BLAS.set_num_threads(1)\n",
    "Threads.nthreads()"
   ]
  },
  {
   "cell_type": "markdown",
   "metadata": {},
   "source": [
    "Here we simulate a dataset under the random intercept negative Binomial GLMM for a cluster size of 5 and sample size of 10000."
   ]
  },
  {
   "cell_type": "code",
   "execution_count": 4,
   "metadata": {},
   "outputs": [],
   "source": [
    "function __get_distribution(dist::Type{D}, μ, r) where D <: UnivariateDistribution\n",
    "    return dist(r, μ)\n",
    "end\n",
    "\n",
    "p_fixed = 3    # number of fixed effects, including intercept\n",
    "m = 1    # number of variance components\n",
    "# true parameter values\n",
    "Random.seed!(1234)\n",
    "βtrue = rand(Uniform(-0.2, 0.2), p_fixed)\n",
    "θtrue = [0.01]\n",
    "rtrue = 10.0\n",
    "\n",
    "# #simulation parameters\n",
    "samplesize = 10000\n",
    "ni = 5 # number of observations per individual\n",
    "\n",
    "d = NegativeBinomial()\n",
    "link = LogLink()\n",
    "D = typeof(d)\n",
    "Link = typeof(link)\n",
    "T = Float64;"
   ]
  },
  {
   "cell_type": "code",
   "execution_count": 5,
   "metadata": {},
   "outputs": [
    {
     "data": {
      "text/plain": [
       "Quasi-Copula Variance Component Model\n",
       "  * base distribution: NegativeBinomial\n",
       "  * link function: LogLink\n",
       "  * number of clusters: 10000\n",
       "  * cluster size min, max: 5, 5\n",
       "  * number of variance components: 1\n",
       "  * number of fixed effects: 3"
      ]
     },
     "execution_count": 5,
     "metadata": {},
     "output_type": "execute_result"
    }
   ],
   "source": [
    "gcs = Vector{NBCopulaVCObs{T, D, Link}}(undef, samplesize)\n",
    "\n",
    "Γ = θtrue[1] * ones(ni, ni) + 0.00000000000001 * Matrix(I, ni, ni)\n",
    "a = collect(1:samplesize)\n",
    "group = [repeat([a[i]], ni) for i in 1:samplesize]\n",
    "groupstack = vcat(group...)\n",
    "Xstack = []\n",
    "Ystack = []\n",
    "Random.seed!(12345)\n",
    "X_samplesize = [randn(ni, p_fixed - 1) for i in 1:samplesize]\n",
    "for i in 1:samplesize\n",
    "    X = [ones(ni) X_samplesize[i]]\n",
    "    η = X * βtrue\n",
    "    V = [ones(ni, ni)]\n",
    "    # generate mvn response\n",
    "    mvn_d = MvNormal(η, Γ)\n",
    "    mvn_η = rand(mvn_d)\n",
    "    μ = GLM.linkinv.(link, mvn_η)\n",
    "    p_nb = rtrue ./ (μ .+ rtrue)\n",
    "    y = Float64.(rand.(__get_distribution.(D, p_nb, rtrue)))\n",
    "    # add to data\n",
    "    gcs[i] = NBCopulaVCObs(y, X, V, d, link)\n",
    "    push!(Xstack, X)\n",
    "    push!(Ystack, y)\n",
    "end\n",
    "\n",
    "# form NBCopulaVCModel\n",
    "gcm = NBCopulaVCModel(gcs)"
   ]
  },
  {
   "cell_type": "code",
   "execution_count": 6,
   "metadata": {},
   "outputs": [
    {
     "name": "stdout",
     "output_type": "stream",
     "text": [
      "precompiling NB VCM fit\n",
      "initializing β using GLM.jl\n",
      "gcm.β = [0.036773196910952585, 0.10589609669649325, 0.02630211202720162]\n",
      "initializing variance components using MM-Algorithm\n",
      "gcm.θ = [1.0201776662515867e-6]\n",
      "initializing r using Newton update\n",
      "Converging when tol ≤ 1.0e-6 (max block iter = 1)\n",
      "\n",
      "******************************************************************************\n",
      "This program contains Ipopt, a library for large-scale nonlinear optimization.\n",
      " Ipopt is released as open source code under the Eclipse Public License (EPL).\n",
      "         For more information visit https://github.com/coin-or/Ipopt\n",
      "******************************************************************************\n",
      "\n",
      "Block iter 1 r = 9.84, logl = -67518.72, tol = 67518.71639191419\n"
     ]
    }
   ],
   "source": [
    "println(\"precompiling NB VCM fit\")\n",
    "gcm2 = deepcopy(gcm);\n",
    "QuasiCopula.fit!(gcm2, maxBlockIter = 1); # precompile here, and run again next cell"
   ]
  },
  {
   "cell_type": "code",
   "execution_count": 7,
   "metadata": {},
   "outputs": [
    {
     "name": "stdout",
     "output_type": "stream",
     "text": [
      "initializing β using GLM.jl\n",
      "gcm.β = [0.036773196910952585, 0.10589609669649325, 0.02630211202720162]\n",
      "initializing variance components using MM-Algorithm\n",
      "gcm.θ = [1.0201776662515867e-6]\n",
      "initializing r using Newton update\n",
      "Converging when tol ≤ 1.0e-6 (max block iter = 10)\n",
      "Block iter 1 r = 9.84, logl = -67518.72, tol = 67518.71639191419\n",
      "Block iter 2 r = 9.97, logl = -67518.23, tol = 7.167998681848435e-6\n"
     ]
    },
    {
     "data": {
      "text/plain": [
       "1.246861772"
      ]
     },
     "execution_count": 7,
     "metadata": {},
     "output_type": "execute_result"
    }
   ],
   "source": [
    "# true fit time for QC\n",
    "fittime = @elapsed QuasiCopula.fit!(gcm)"
   ]
  },
  {
   "cell_type": "code",
   "execution_count": 8,
   "metadata": {},
   "outputs": [
    {
     "name": "stdout",
     "output_type": "stream",
     "text": [
      "fittime = 1.246861772\n",
      "gcm.β = [0.03273834387319724, 0.10609650672731126, 0.026158048770722593]\n",
      "gcm.θ = [0.007030480473798856]\n",
      "gcm.r = [10.001819984466927]\n"
     ]
    }
   ],
   "source": [
    "@show fittime\n",
    "@show gcm.β\n",
    "@show gcm.θ\n",
    "@show gcm.r;"
   ]
  },
  {
   "cell_type": "code",
   "execution_count": 9,
   "metadata": {},
   "outputs": [
    {
     "data": {
      "text/plain": [
       "5×2 Matrix{Float64}:\n",
       " 0.0281207   0.037356\n",
       " 0.100997    0.111196\n",
       " 0.0172389   0.0350772\n",
       " 9.09354    10.9101\n",
       " 0.0033213   0.0107397"
      ]
     },
     "execution_count": 9,
     "metadata": {},
     "output_type": "execute_result"
    }
   ],
   "source": [
    "get_CI(gcm)"
   ]
  },
  {
   "cell_type": "code",
   "execution_count": 10,
   "metadata": {},
   "outputs": [
    {
     "name": "stdout",
     "output_type": "stream",
     "text": [
      "  0.046255 seconds (30.07 k allocations: 477.531 KiB)\n"
     ]
    },
    {
     "data": {
      "text/plain": [
       "5×2 Matrix{Float64}:\n",
       " 0.0281207   0.037356\n",
       " 0.100997    0.111196\n",
       " 0.0172389   0.0350772\n",
       " 9.09354    10.9101\n",
       " 0.0033213   0.0107397"
      ]
     },
     "execution_count": 10,
     "metadata": {},
     "output_type": "execute_result"
    }
   ],
   "source": [
    "@time get_CI(gcm)"
   ]
  },
  {
   "cell_type": "markdown",
   "metadata": {},
   "source": [
    "# Using lme4 package in R"
   ]
  },
  {
   "cell_type": "code",
   "execution_count": 11,
   "metadata": {},
   "outputs": [
    {
     "data": {
      "text/html": [
       "<div class=\"data-frame\"><p>50,000 rows × 4 columns</p><table class=\"data-frame\"><thead><tr><th></th><th>Y</th><th>X2</th><th>X3</th><th>group</th></tr><tr><th></th><th title=\"Float64\">Float64</th><th title=\"Float64\">Float64</th><th title=\"Float64\">Float64</th><th title=\"String\">String</th></tr></thead><tbody><tr><th>1</th><td>1.0</td><td>1.17236</td><td>0.282272</td><td>1</td></tr><tr><th>2</th><td>2.0</td><td>0.852707</td><td>-1.47708</td><td>1</td></tr><tr><th>3</th><td>1.0</td><td>0.415565</td><td>0.126747</td><td>1</td></tr><tr><th>4</th><td>1.0</td><td>0.516425</td><td>1.46647</td><td>1</td></tr><tr><th>5</th><td>1.0</td><td>0.685759</td><td>-0.158158</td><td>1</td></tr><tr><th>6</th><td>1.0</td><td>0.606808</td><td>-1.30436</td><td>2</td></tr><tr><th>7</th><td>0.0</td><td>2.00645</td><td>0.378353</td><td>2</td></tr><tr><th>8</th><td>0.0</td><td>-0.588508</td><td>1.21656</td><td>2</td></tr><tr><th>9</th><td>2.0</td><td>0.0736438</td><td>1.12871</td><td>2</td></tr><tr><th>10</th><td>1.0</td><td>1.92585</td><td>-0.341521</td><td>2</td></tr><tr><th>11</th><td>1.0</td><td>-0.970332</td><td>0.0130945</td><td>3</td></tr><tr><th>12</th><td>0.0</td><td>-0.995818</td><td>1.53613</td><td>3</td></tr><tr><th>13</th><td>0.0</td><td>-2.1476</td><td>0.256327</td><td>3</td></tr><tr><th>14</th><td>0.0</td><td>0.045331</td><td>-1.52016</td><td>3</td></tr><tr><th>15</th><td>3.0</td><td>-0.337099</td><td>0.440792</td><td>3</td></tr><tr><th>16</th><td>0.0</td><td>-0.347285</td><td>-1.23201</td><td>4</td></tr><tr><th>17</th><td>2.0</td><td>-1.01966</td><td>-0.300836</td><td>4</td></tr><tr><th>18</th><td>3.0</td><td>0.504145</td><td>0.359509</td><td>4</td></tr><tr><th>19</th><td>1.0</td><td>-1.53578</td><td>0.38294</td><td>4</td></tr><tr><th>20</th><td>0.0</td><td>1.36094</td><td>1.42496</td><td>4</td></tr><tr><th>21</th><td>1.0</td><td>-0.539189</td><td>1.9528</td><td>5</td></tr><tr><th>22</th><td>0.0</td><td>-1.53178</td><td>0.292364</td><td>5</td></tr><tr><th>23</th><td>1.0</td><td>0.295353</td><td>0.551034</td><td>5</td></tr><tr><th>24</th><td>2.0</td><td>-0.161292</td><td>0.207253</td><td>5</td></tr><tr><th>25</th><td>2.0</td><td>0.334441</td><td>-1.41599</td><td>5</td></tr><tr><th>26</th><td>1.0</td><td>-0.544229</td><td>-0.282776</td><td>6</td></tr><tr><th>27</th><td>0.0</td><td>-0.00537087</td><td>-0.874539</td><td>6</td></tr><tr><th>28</th><td>0.0</td><td>2.13074</td><td>0.289191</td><td>6</td></tr><tr><th>29</th><td>3.0</td><td>-1.25962</td><td>-0.199345</td><td>6</td></tr><tr><th>30</th><td>0.0</td><td>-0.677398</td><td>0.923311</td><td>6</td></tr><tr><th>&vellip;</th><td>&vellip;</td><td>&vellip;</td><td>&vellip;</td><td>&vellip;</td></tr></tbody></table></div>"
      ],
      "text/latex": [
       "\\begin{tabular}{r|cccc}\n",
       "\t& Y & X2 & X3 & group\\\\\n",
       "\t\\hline\n",
       "\t& Float64 & Float64 & Float64 & String\\\\\n",
       "\t\\hline\n",
       "\t1 & 1.0 & 1.17236 & 0.282272 & 1 \\\\\n",
       "\t2 & 2.0 & 0.852707 & -1.47708 & 1 \\\\\n",
       "\t3 & 1.0 & 0.415565 & 0.126747 & 1 \\\\\n",
       "\t4 & 1.0 & 0.516425 & 1.46647 & 1 \\\\\n",
       "\t5 & 1.0 & 0.685759 & -0.158158 & 1 \\\\\n",
       "\t6 & 1.0 & 0.606808 & -1.30436 & 2 \\\\\n",
       "\t7 & 0.0 & 2.00645 & 0.378353 & 2 \\\\\n",
       "\t8 & 0.0 & -0.588508 & 1.21656 & 2 \\\\\n",
       "\t9 & 2.0 & 0.0736438 & 1.12871 & 2 \\\\\n",
       "\t10 & 1.0 & 1.92585 & -0.341521 & 2 \\\\\n",
       "\t11 & 1.0 & -0.970332 & 0.0130945 & 3 \\\\\n",
       "\t12 & 0.0 & -0.995818 & 1.53613 & 3 \\\\\n",
       "\t13 & 0.0 & -2.1476 & 0.256327 & 3 \\\\\n",
       "\t14 & 0.0 & 0.045331 & -1.52016 & 3 \\\\\n",
       "\t15 & 3.0 & -0.337099 & 0.440792 & 3 \\\\\n",
       "\t16 & 0.0 & -0.347285 & -1.23201 & 4 \\\\\n",
       "\t17 & 2.0 & -1.01966 & -0.300836 & 4 \\\\\n",
       "\t18 & 3.0 & 0.504145 & 0.359509 & 4 \\\\\n",
       "\t19 & 1.0 & -1.53578 & 0.38294 & 4 \\\\\n",
       "\t20 & 0.0 & 1.36094 & 1.42496 & 4 \\\\\n",
       "\t21 & 1.0 & -0.539189 & 1.9528 & 5 \\\\\n",
       "\t22 & 0.0 & -1.53178 & 0.292364 & 5 \\\\\n",
       "\t23 & 1.0 & 0.295353 & 0.551034 & 5 \\\\\n",
       "\t24 & 2.0 & -0.161292 & 0.207253 & 5 \\\\\n",
       "\t25 & 2.0 & 0.334441 & -1.41599 & 5 \\\\\n",
       "\t26 & 1.0 & -0.544229 & -0.282776 & 6 \\\\\n",
       "\t27 & 0.0 & -0.00537087 & -0.874539 & 6 \\\\\n",
       "\t28 & 0.0 & 2.13074 & 0.289191 & 6 \\\\\n",
       "\t29 & 3.0 & -1.25962 & -0.199345 & 6 \\\\\n",
       "\t30 & 0.0 & -0.677398 & 0.923311 & 6 \\\\\n",
       "\t$\\dots$ & $\\dots$ & $\\dots$ & $\\dots$ & $\\dots$ \\\\\n",
       "\\end{tabular}\n"
      ],
      "text/plain": [
       "\u001b[1m50000×4 DataFrame\u001b[0m\n",
       "\u001b[1m   Row \u001b[0m│\u001b[1m Y       \u001b[0m\u001b[1m X2         \u001b[0m\u001b[1m X3         \u001b[0m\u001b[1m group  \u001b[0m\n",
       "\u001b[1m       \u001b[0m│\u001b[90m Float64 \u001b[0m\u001b[90m Float64    \u001b[0m\u001b[90m Float64    \u001b[0m\u001b[90m String \u001b[0m\n",
       "───────┼─────────────────────────────────────────\n",
       "     1 │     1.0   1.17236     0.282272   1\n",
       "     2 │     2.0   0.852707   -1.47708    1\n",
       "     3 │     1.0   0.415565    0.126747   1\n",
       "     4 │     1.0   0.516425    1.46647    1\n",
       "     5 │     1.0   0.685759   -0.158158   1\n",
       "     6 │     1.0   0.606808   -1.30436    2\n",
       "     7 │     0.0   2.00645     0.378353   2\n",
       "     8 │     0.0  -0.588508    1.21656    2\n",
       "     9 │     2.0   0.0736438   1.12871    2\n",
       "    10 │     1.0   1.92585    -0.341521   2\n",
       "    11 │     1.0  -0.970332    0.0130945  3\n",
       "   ⋮   │    ⋮         ⋮           ⋮         ⋮\n",
       " 49991 │     2.0   1.04034    -0.345451   9999\n",
       " 49992 │     1.0   0.801574   -1.87688    9999\n",
       " 49993 │     0.0   0.296964   -1.42309    9999\n",
       " 49994 │     1.0   0.262008   -1.772      9999\n",
       " 49995 │     0.0  -0.0536148  -1.38418    9999\n",
       " 49996 │     3.0   0.461727    0.223751   10000\n",
       " 49997 │     1.0  -0.491669    0.0592839  10000\n",
       " 49998 │     0.0  -0.605909    0.597994   10000\n",
       " 49999 │     0.0  -0.756419   -0.274094   10000\n",
       " 50000 │     1.0  -0.197213   -0.986266   10000\n",
       "\u001b[36m                               49979 rows omitted\u001b[0m"
      ]
     },
     "execution_count": 11,
     "metadata": {},
     "output_type": "execute_result"
    }
   ],
   "source": [
    "Xstack = [vcat(Xstack...)][1]\n",
    "Ystack = [vcat(Ystack...)][1]\n",
    "# p = 3\n",
    "df = DataFrame(Y = Ystack, X2 = Xstack[:, 2], X3 = Xstack[:, 3], group = string.(groupstack))\n",
    "\n",
    "@rput df"
   ]
  },
  {
   "cell_type": "code",
   "execution_count": 12,
   "metadata": {},
   "outputs": [
    {
     "name": "stderr",
     "output_type": "stream",
     "text": [
      "┌ Warning: RCall.jl: Warning: package ‘lme4’ was built under R version 4.0.2\n",
      "│ Loading required package: Matrix\n",
      "│ Warning: package ‘Matrix’ was built under R version 4.0.2\n",
      "└ @ RCall /Users/sarahji/.julia/packages/RCall/6kphM/src/io.jl:172\n"
     ]
    },
    {
     "name": "stdout",
     "output_type": "stream",
     "text": [
      "th := est_theta(glmer(..)) = 19.64933 --> dev.= -2*logLik(.) = 135075.4 \n",
      " 1: th=    9.677844626, dev=135035.72917512, beta[1]=    0.03267970\n",
      " 2: th=    39.89484346, dev=135135.98326557, beta[1]=    0.02457419\n",
      " 3: th=    4.032760026, dev=135363.52137544, beta[1]=    0.03677699\n",
      " 4: th=    16.37695964, dev=135059.64392083, beta[1]=    0.02812043\n",
      " 5: th=    6.927303790, dev=135066.52533935, beta[1]=    0.03677240\n",
      " 6: th=    10.92096838, dev=135036.15976158, beta[1]=    0.03136567\n",
      " 7: th=    10.10502787, dev=135035.36887220, beta[1]=    0.03218595\n",
      " 8: th=    10.16185686, dev=135035.36652613, beta[1]=    0.03212515\n",
      " 9: th=    10.14646636, dev=135035.36618983, beta[1]=    0.03214196\n",
      "10: th=    10.14696051, dev=135035.36618935, beta[1]=    0.03214196\n",
      "11: th=    10.14712998, dev=135035.36618943, beta[1]=    0.03214196\n",
      "12: th=    10.14679104, dev=135035.36618937, beta[1]=    0.03214196\n",
      "13: th=    10.14696051, dev=135035.36618935, beta[1]=    0.03214196\n"
     ]
    },
    {
     "name": "stderr",
     "output_type": "stream",
     "text": [
      "┌ Warning: RCall.jl: theta.ml: iter 0 'theta = 1.006550'\n",
      "│ theta.ml: iter1 theta =1.50045\n",
      "│ theta.ml: iter2 theta =2.17571\n",
      "│ theta.ml: iter3 theta =3.08018\n",
      "│ theta.ml: iter4 theta =4.26851\n",
      "│ theta.ml: iter5 theta =5.79776\n",
      "│ theta.ml: iter6 theta =7.71595\n",
      "│ theta.ml: iter7 theta =10.037\n",
      "│ theta.ml: iter8 theta =12.6918\n",
      "│ theta.ml: iter9 theta =15.4473\n",
      "│ theta.ml: iter10 theta =17.8272\n",
      "│ theta.ml: iter11 theta =19.2399\n",
      "│ theta.ml: iter12 theta =19.6259\n",
      "│ theta.ml: iter13 theta =19.6492\n",
      "│ theta.ml: iter14 theta =19.6493\n",
      "└ @ RCall /Users/sarahji/.julia/packages/RCall/6kphM/src/io.jl:172\n"
     ]
    },
    {
     "data": {
      "text/plain": [
       "RObject{RealSxp}\n",
       "   user  system elapsed \n",
       " 74.146   1.500  75.774 \n"
      ]
     },
     "execution_count": 12,
     "metadata": {},
     "output_type": "execute_result"
    }
   ],
   "source": [
    "# time the fit\n",
    "R\"\"\"\n",
    "    library(\"lme4\")\n",
    "    ptm <- proc.time()\n",
    "    m.nb <- glmer.nb(Y ~ 1 + X2 + X3 + (1|group), data = df, verbose = TRUE)\n",
    "    # Stop the clock\n",
    "    proc.time() - ptm\n",
    "\"\"\""
   ]
  },
  {
   "cell_type": "code",
   "execution_count": 13,
   "metadata": {},
   "outputs": [
    {
     "data": {
      "text/plain": [
       "RObject{S4Sxp}\n",
       "Generalized linear mixed model fit by maximum likelihood (Laplace\n",
       "  Approximation) [glmerMod]\n",
       " Family: Negative Binomial(10.147)  ( log )\n",
       "Formula: Y ~ 1 + X2 + X3 + (1 | group)\n",
       "   Data: df\n",
       "      AIC       BIC    logLik  deviance  df.resid \n",
       "135045.37 135089.47 -67517.68 135035.37     49995 \n",
       "Random effects:\n",
       " Groups Name        Std.Dev.\n",
       " group  (Intercept) 0.09233 \n",
       "Number of obs: 50000, groups:  group, 10000\n",
       "Fixed Effects:\n",
       "(Intercept)           X2           X3  \n",
       "    0.03214      0.10575      0.02603  \n"
      ]
     },
     "execution_count": 13,
     "metadata": {},
     "output_type": "execute_result"
    }
   ],
   "source": [
    "### Show estimates\n",
    "R\"\"\"\n",
    "    m.nb\n",
    "\"\"\""
   ]
  },
  {
   "cell_type": "code",
   "execution_count": 14,
   "metadata": {},
   "outputs": [
    {
     "data": {
      "text/plain": [
       "RObject{RealSxp}\n",
       "[1] 10.14696\n"
      ]
     },
     "execution_count": 14,
     "metadata": {},
     "output_type": "execute_result"
    }
   ],
   "source": [
    "# Show estimated r from lme4: glmer.nb\n",
    "R\"\"\"\n",
    "    getME(m.nb, \"glmer.nb.theta\")\n",
    "\"\"\""
   ]
  },
  {
   "cell_type": "code",
   "execution_count": 15,
   "metadata": {},
   "outputs": [
    {
     "name": "stderr",
     "output_type": "stream",
     "text": [
      "┌ Warning: RCall.jl: Computing profile confidence intervals ...\n",
      "└ @ RCall /Users/sarahji/.julia/packages/RCall/6kphM/src/io.jl:172\n"
     ]
    },
    {
     "data": {
      "text/plain": [
       "RObject{RealSxp}\n",
       "                 2.5 %     97.5 %\n",
       ".sig01      0.04865489 0.12192888\n",
       "(Intercept) 0.02226002 0.04192188\n",
       "X2          0.09662966 0.11486875\n",
       "X3          0.01700341 0.03505898\n"
      ]
     },
     "execution_count": 15,
     "metadata": {},
     "output_type": "execute_result"
    }
   ],
   "source": [
    "### Show confidence intervals from lme4: glmer.nb\n",
    "R\"\"\"\n",
    "    confint(m.nb)\n",
    "\"\"\""
   ]
  },
  {
   "cell_type": "code",
   "execution_count": 16,
   "metadata": {},
   "outputs": [
    {
     "name": "stderr",
     "output_type": "stream",
     "text": [
      "┌ Warning: RCall.jl: Computing profile confidence intervals ...\n",
      "└ @ RCall /Users/sarahji/.julia/packages/RCall/6kphM/src/io.jl:172\n"
     ]
    },
    {
     "data": {
      "text/plain": [
       "RObject{RealSxp}\n",
       "   user  system elapsed \n",
       "154.353   3.575 158.034 \n"
      ]
     },
     "execution_count": 16,
     "metadata": {},
     "output_type": "execute_result"
    }
   ],
   "source": [
    "# time confidence intervals\n",
    "R\"\"\"\n",
    "    ptm <- proc.time()\n",
    "    confint(m.nb)\n",
    "    # Stop the clock\n",
    "    proc.time() - ptm\n",
    "\"\"\""
   ]
  },
  {
   "cell_type": "markdown",
   "metadata": {},
   "source": [
    "# Using glmmTMB package in R"
   ]
  },
  {
   "cell_type": "code",
   "execution_count": 17,
   "metadata": {},
   "outputs": [
    {
     "name": "stderr",
     "output_type": "stream",
     "text": [
      "┌ Warning: RCall.jl: Warning: package ‘glmmTMB’ was built under R version 4.0.2\n",
      "│ Warning in checkDepPackageVersion(dep_pkg = \"TMB\") :\n",
      "│   Package version inconsistency detected.\n",
      "│ glmmTMB was built with TMB version 1.7.21\n",
      "│ Current TMB version is 1.7.22\n",
      "│ Please re-install glmmTMB from source or restore original ‘TMB’ package (see '?reinstalling' for more information)\n",
      "└ @ RCall /Users/sarahji/.julia/packages/RCall/6kphM/src/io.jl:172\n"
     ]
    },
    {
     "data": {
      "text/plain": [
       "RObject{RealSxp}\n",
       "   user  system elapsed \n",
       " 98.204   0.670  98.944 \n"
      ]
     },
     "execution_count": 17,
     "metadata": {},
     "output_type": "execute_result"
    }
   ],
   "source": [
    "R\"\"\"\n",
    "    library(\"glmmTMB\")\n",
    "    ptm <- proc.time()\n",
    "    m.glmmtmb_nb <- glmmTMB(Y ~ 1 + X2 + X3 + (1|group), data = df, family=nbinom2)\n",
    "    # Stop the clock\n",
    "    proc.time() - ptm\n",
    "\"\"\""
   ]
  },
  {
   "cell_type": "code",
   "execution_count": 18,
   "metadata": {},
   "outputs": [
    {
     "data": {
      "text/plain": [
       "RObject{VecSxp}\n",
       "Formula:          Y ~ 1 + X2 + X3 + (1 | group)\n",
       "Data: df\n",
       "      AIC       BIC    logLik  df.resid \n",
       "135045.71 135089.81 -67517.86     49995 \n",
       "Random-effects (co)variances:\n",
       "\n",
       "Conditional model:\n",
       " Groups Name        Std.Dev.\n",
       " group  (Intercept) 0.08967 \n",
       "\n",
       "Number of obs: 50000 / Conditional model: group, 10000\n",
       "\n",
       "Dispersion parameter for nbinom2 family (): 10.1 \n",
       "\n",
       "Fixed Effects:\n",
       "\n",
       "Conditional model:\n",
       "(Intercept)           X2           X3  \n",
       "    0.03276      0.10579      0.02604  \n"
      ]
     },
     "execution_count": 18,
     "metadata": {},
     "output_type": "execute_result"
    }
   ],
   "source": [
    "### Show estimates\n",
    "R\"\"\"\n",
    "    m.glmmtmb_nb\n",
    "\"\"\""
   ]
  },
  {
   "cell_type": "code",
   "execution_count": 19,
   "metadata": {},
   "outputs": [
    {
     "data": {
      "text/plain": [
       "RObject{RealSxp}\n",
       "[1] 10.10115\n"
      ]
     },
     "execution_count": 19,
     "metadata": {},
     "output_type": "execute_result"
    }
   ],
   "source": [
    "# Show estimated r from glmmTMB\n",
    "R\"\"\"\n",
    "    sigma(m.glmmtmb_nb)\n",
    "\"\"\""
   ]
  },
  {
   "cell_type": "code",
   "execution_count": 20,
   "metadata": {},
   "outputs": [
    {
     "data": {
      "text/plain": [
       "RObject{RealSxp}\n",
       "                                    2.5 %      97.5 %    Estimate\n",
       "cond.(Intercept)               0.02290637  0.04261165  0.03275901\n",
       "cond.X2                        0.09666585  0.11491162  0.10578874\n",
       "cond.X3                        0.01701310  0.03507562  0.02604436\n",
       "sigma                          8.64035445 11.80892546 10.10115348\n",
       "group.cond.Std.Dev.(Intercept) 0.05832825  0.13786618  0.08967437\n"
      ]
     },
     "execution_count": 20,
     "metadata": {},
     "output_type": "execute_result"
    }
   ],
   "source": [
    "### Show confidence intervals from glmmTMB\n",
    "R\"\"\"\n",
    "    confint(m.glmmtmb_nb, full = TRUE)\n",
    "\"\"\""
   ]
  },
  {
   "cell_type": "code",
   "execution_count": 21,
   "metadata": {},
   "outputs": [
    {
     "data": {
      "text/plain": [
       "RObject{RealSxp}\n",
       "   user  system elapsed \n",
       "  0.463   0.008   0.472 \n"
      ]
     },
     "execution_count": 21,
     "metadata": {},
     "output_type": "execute_result"
    }
   ],
   "source": [
    "# time confidence intervals\n",
    "R\"\"\"\n",
    "    ptm <- proc.time()\n",
    "    confint(m.glmmtmb_nb, full = TRUE)\n",
    "    # Stop the clock\n",
    "    proc.time() - ptm\n",
    "\"\"\""
   ]
  },
  {
   "cell_type": "markdown",
   "metadata": {},
   "source": [
    "# Using GLMMadaptive"
   ]
  },
  {
   "cell_type": "code",
   "execution_count": 22,
   "metadata": {},
   "outputs": [
    {
     "name": "stderr",
     "output_type": "stream",
     "text": [
      "┌ Warning: RCall.jl: Warning: package ‘GLMMadaptive’ was built under R version 4.0.5\n",
      "│ \n",
      "│ Attaching package: ‘GLMMadaptive’\n",
      "│ \n",
      "│ The following object is masked from ‘package:lme4’:\n",
      "│ \n",
      "│     negative.binomial\n",
      "│ \n",
      "└ @ RCall /Users/sarahji/.julia/packages/RCall/6kphM/src/io.jl:172\n"
     ]
    },
    {
     "data": {
      "text/plain": [
       "RObject{RealSxp}\n",
       "   user  system elapsed \n",
       " 75.012   9.420  84.471 \n"
      ]
     },
     "execution_count": 22,
     "metadata": {},
     "output_type": "execute_result"
    }
   ],
   "source": [
    "R\"\"\"\n",
    "    library(\"GLMMadaptive\")\n",
    "    ptm <- proc.time()\n",
    "    fm <- mixed_model(fixed = Y ~ 1 + X2 + X3, random = ~ 1 | group, data = df,\n",
    "                  family = negative.binomial(), nAGQ = 25)\n",
    "    # Stop the clock\n",
    "    proc.time() - ptm\n",
    "\"\"\""
   ]
  },
  {
   "cell_type": "code",
   "execution_count": 23,
   "metadata": {},
   "outputs": [
    {
     "data": {
      "text/plain": [
       "RObject{VecSxp}\n",
       "\n",
       "Call:\n",
       "mixed_model(fixed = Y ~ 1 + X2 + X3, random = ~1 | group, data = df, \n",
       "    family = negative.binomial(), nAGQ = 25)\n",
       "\n",
       "Data Descriptives:\n",
       "Number of Observations: 50000\n",
       "Number of Groups: 10000 \n",
       "\n",
       "Model:\n",
       " family: negative binomial\n",
       " link: log \n",
       "\n",
       "Fit statistics:\n",
       "   log.Lik      AIC      BIC\n",
       " -67518.14 135046.3 135082.3\n",
       "\n",
       "Random effects covariance matrix:\n",
       "                StdDev\n",
       "(Intercept) 0.09531734\n",
       "\n",
       "Fixed effects:\n",
       "            Estimate Std.Err z-value p-value\n",
       "(Intercept)   0.0323  0.0050  6.4869 < 1e-04\n",
       "X2            0.1058  0.0047 22.7081 < 1e-04\n",
       "X3            0.0260  0.0046  5.6470 < 1e-04\n",
       "\n",
       "log(dispersion) parameter:\n",
       "  Estimate Std.Err\n",
       "    2.3022   0.076\n",
       "\n",
       "Integration:\n",
       "method: adaptive Gauss-Hermite quadrature rule\n",
       "quadrature points: 25\n",
       "\n",
       "Optimization:\n",
       "method: hybrid EM and quasi-Newton\n",
       "converged: TRUE \n"
      ]
     },
     "execution_count": 23,
     "metadata": {},
     "output_type": "execute_result"
    }
   ],
   "source": [
    "### Show estimates\n",
    "R\"\"\"\n",
    "    summary(fm)\n",
    "\"\"\""
   ]
  },
  {
   "cell_type": "code",
   "execution_count": 24,
   "metadata": {},
   "outputs": [
    {
     "data": {
      "text/plain": [
       "9.996149811447443"
      ]
     },
     "execution_count": 24,
     "metadata": {},
     "output_type": "execute_result"
    }
   ],
   "source": [
    "### Show estimate of r from GLMMadaptive\n",
    "exp(2.3022)"
   ]
  },
  {
   "cell_type": "code",
   "execution_count": 25,
   "metadata": {},
   "outputs": [
    {
     "data": {
      "text/plain": [
       "RObject{RealSxp}\n",
       "                 2.5 %   Estimate     97.5 %\n",
       "(Intercept) 0.02251628 0.03226494 0.04201360\n",
       "X2          0.09667221 0.10580433 0.11493646\n",
       "X3          0.01700637 0.02604673 0.03508708\n"
      ]
     },
     "execution_count": 25,
     "metadata": {},
     "output_type": "execute_result"
    }
   ],
   "source": [
    "### Show confidence intervals of fixed effects from GLMMadaptive\n",
    "R\"\"\"\n",
    "    confint(fm)\n",
    "\"\"\""
   ]
  },
  {
   "cell_type": "code",
   "execution_count": 26,
   "metadata": {},
   "outputs": [
    {
     "data": {
      "text/plain": [
       "RObject{RealSxp}\n",
       "                      2.5 %    Estimate     97.5 %\n",
       "var.(Intercept) 0.004617391 0.009085395 0.01787685\n"
      ]
     },
     "execution_count": 26,
     "metadata": {},
     "output_type": "execute_result"
    }
   ],
   "source": [
    "### Show confidence interval of variance component from GLMMadaptive\n",
    "R\"\"\"\n",
    "    confint(fm, \"var-cov\")\n",
    "\"\"\""
   ]
  },
  {
   "cell_type": "code",
   "execution_count": 27,
   "metadata": {},
   "outputs": [
    {
     "data": {
      "text/plain": [
       "RObject{RealSxp}\n",
       "         2.5 % Estimate   97.5 %\n",
       "phi_1 8.611931 9.995654 11.60171\n"
      ]
     },
     "execution_count": 27,
     "metadata": {},
     "output_type": "execute_result"
    }
   ],
   "source": [
    "### Show confidence interval of r from GLMMadaptive\n",
    "R\"\"\"\n",
    "    confint(fm, \"extra\")\n",
    "\"\"\""
   ]
  },
  {
   "cell_type": "code",
   "execution_count": 28,
   "metadata": {},
   "outputs": [
    {
     "data": {
      "text/plain": [
       "RObject{RealSxp}\n",
       "   user  system elapsed \n",
       "  0.001   0.000   0.000 \n"
      ]
     },
     "execution_count": 28,
     "metadata": {},
     "output_type": "execute_result"
    }
   ],
   "source": [
    "# time confidence intervals\n",
    "R\"\"\"\n",
    "    ptm <- proc.time()\n",
    "    confint(fm)\n",
    "    confint(fm, \"var-cov\")\n",
    "    confint(fm, \"extra\")\n",
    "    # Stop the clock\n",
    "    proc.time() - ptm\n",
    "\"\"\""
   ]
  }
 ],
 "metadata": {
  "@webio": {
   "lastCommId": null,
   "lastKernelId": null
  },
  "kernelspec": {
   "display_name": "Julia 1.6.2",
   "language": "julia",
   "name": "julia-1.6"
  },
  "language_info": {
   "file_extension": ".jl",
   "mimetype": "application/julia",
   "name": "julia",
   "version": "1.6.2"
  }
 },
 "nbformat": 4,
 "nbformat_minor": 4
}
